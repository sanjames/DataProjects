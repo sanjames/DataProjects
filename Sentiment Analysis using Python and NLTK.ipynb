{
 "cells": [
  {
   "cell_type": "markdown",
   "metadata": {
    "deletable": true,
    "editable": true
   },
   "source": [
    "# Sentiment Analysis using Python and NLTK\n",
    "\n",
    "This is part of text classification to categorize whether a tweet is having positive sentiment or negative sentiment. This is a binary classifier that decides between two labels - Positive or Negative."
   ]
  },
  {
   "cell_type": "markdown",
   "metadata": {
    "deletable": true,
    "editable": true
   },
   "source": [
    "##  Text Classification\n",
    "\n",
    "Classification words by learning from labeled feature sets, or training data, to later classify an unlabeled feature set. A labeled feature set is simply a tuple that looks like (feature, label), while an unlabeled feature set is a feat by itself. A feature set is basically a key-value mapping of feature names to feature values. In case of text classification, the feature names are usually words and the values are all TRUE. As the documents may have unknown words, and the number of possible words may be very large, words that dont occur in the text are imitted. Instead of including them in a feature set with the value FALSE.  \n",
    "\n",
    "An instance is another term for a feature set. It represents a single occurrence of a combination of features. A labeled\n",
    "feature set is an instance with a known class label that we can use for training or evaluation. To summarize, (feat, label) is a labeled feature set, or labeled instance. feat is a feature set, normally represented as a key-value dictionary. When feat does not have an associated label, it is also called an unlabeled feature set, or instance.\n",
    "\n",
    "Here are the steps in training the classifier  \n",
    "    - Extract features from the text  \n",
    "    - Train the classifier with the features.  "
   ]
  },
  {
   "cell_type": "markdown",
   "metadata": {
    "deletable": true,
    "editable": true
   },
   "source": [
    "### 1) Create tweet list - Positive and Negative tweets"
   ]
  },
  {
   "cell_type": "code",
   "execution_count": 1,
   "metadata": {
    "collapsed": true,
    "deletable": true,
    "editable": true
   },
   "outputs": [],
   "source": [
    "## Positive Tweets list\n",
    "pos_tweets = [('I love this car', 'positive'),\n",
    "('This view is amazing', 'positive'),\n",
    "('I feel great this morning', 'positive'),\n",
    "('I am so excited about the concert', 'positive'),\n",
    "('He is my best friend', 'positive')]"
   ]
  },
  {
   "cell_type": "code",
   "execution_count": 2,
   "metadata": {
    "collapsed": true,
    "deletable": true,
    "editable": true
   },
   "outputs": [],
   "source": [
    "## Negative Tweets list\n",
    "neg_tweets = [('I do not like this car', 'negative'),\n",
    "('This view is horrible', 'negative'),\n",
    "('I feel tired this morning', 'negative'),\n",
    "('I am not looking forward to the concert', 'negative'),\n",
    "('He is my enemy', 'negative')]"
   ]
  },
  {
   "cell_type": "markdown",
   "metadata": {
    "deletable": true,
    "editable": true
   },
   "source": [
    "### 2) Process the tweets\n",
    "    - Combine both positive and negative tweets to a single list\n",
    "    - read the tweets and extract the words alone for each tweet\n",
    "    - Exclude words that are less than 2 characters in length\n",
    "    - convert each word to lowercase\n",
    "    - The final resuls will be a list of processes tweets that has words corresponding to the tweets along with the sentiment.\n",
    "    - Also I'm creating a list that has just the list of words to get the frequency later."
   ]
  },
  {
   "cell_type": "code",
   "execution_count": 3,
   "metadata": {
    "collapsed": false,
    "deletable": true,
    "editable": true
   },
   "outputs": [
    {
     "data": {
      "text/plain": [
       "[('I love this car', 'positive'),\n",
       " ('This view is amazing', 'positive'),\n",
       " ('I feel great this morning', 'positive'),\n",
       " ('I am so excited about the concert', 'positive'),\n",
       " ('He is my best friend', 'positive'),\n",
       " ('I do not like this car', 'negative'),\n",
       " ('This view is horrible', 'negative'),\n",
       " ('I feel tired this morning', 'negative'),\n",
       " ('I am not looking forward to the concert', 'negative'),\n",
       " ('He is my enemy', 'negative')]"
      ]
     },
     "execution_count": 3,
     "metadata": {},
     "output_type": "execute_result"
    }
   ],
   "source": [
    "## Combine both and create a new list\n",
    "all_tweets = pos_tweets + neg_tweets\n",
    "all_tweets"
   ]
  },
  {
   "cell_type": "code",
   "execution_count": 4,
   "metadata": {
    "collapsed": false,
    "deletable": true,
    "editable": true
   },
   "outputs": [],
   "source": [
    "def process_tweets(tweetlist):\n",
    "    processed_tweets=[]\n",
    "    just_tweets = []\n",
    "    for tweet, sentiment in tweetlist:\n",
    "        tweets=[]\n",
    "        for words in tweet.split():\n",
    "            if len(words) >=3:\n",
    "                tweets.append(words.lower())\n",
    "        #print(tweets)\n",
    "        just_tweets += tweets\n",
    "        processed_tweets.append((tweets, sentiment))\n",
    "    return(processed_tweets, just_tweets)"
   ]
  },
  {
   "cell_type": "code",
   "execution_count": 5,
   "metadata": {
    "collapsed": false,
    "deletable": true,
    "editable": true
   },
   "outputs": [
    {
     "data": {
      "text/plain": [
       "[(['love', 'this', 'car'], 'positive'),\n",
       " (['this', 'view', 'amazing'], 'positive'),\n",
       " (['feel', 'great', 'this', 'morning'], 'positive'),\n",
       " (['excited', 'about', 'the', 'concert'], 'positive'),\n",
       " (['best', 'friend'], 'positive'),\n",
       " (['not', 'like', 'this', 'car'], 'negative'),\n",
       " (['this', 'view', 'horrible'], 'negative'),\n",
       " (['feel', 'tired', 'this', 'morning'], 'negative'),\n",
       " (['not', 'looking', 'forward', 'the', 'concert'], 'negative'),\n",
       " (['enemy'], 'negative')]"
      ]
     },
     "execution_count": 5,
     "metadata": {},
     "output_type": "execute_result"
    }
   ],
   "source": [
    "processed_tweets, just_tweets = process_tweets(all_tweets)\n",
    "processed_tweets"
   ]
  },
  {
   "cell_type": "code",
   "execution_count": 6,
   "metadata": {
    "collapsed": false,
    "deletable": true,
    "editable": true
   },
   "outputs": [
    {
     "name": "stdout",
     "output_type": "stream",
     "text": [
      "['love', 'this', 'car', 'this', 'view', 'amazing', 'feel', 'great', 'this', 'morning', 'excited', 'about', 'the', 'concert', 'best', 'friend', 'not', 'like', 'this', 'car', 'this', 'view', 'horrible', 'feel', 'tired', 'this', 'morning', 'not', 'looking', 'forward', 'the', 'concert', 'enemy']\n"
     ]
    }
   ],
   "source": [
    "print(just_tweets) ## All the words from the tweets except the words that are less than length 3"
   ]
  },
  {
   "cell_type": "markdown",
   "metadata": {
    "deletable": true,
    "editable": true
   },
   "source": [
    "### 3) Create test tweets and process them"
   ]
  },
  {
   "cell_type": "code",
   "execution_count": 7,
   "metadata": {
    "collapsed": false,
    "deletable": true,
    "editable": true
   },
   "outputs": [],
   "source": [
    "test_tweets = [('I feel happy this morning', 'positive'),\n",
    "               ('Larry is my friend.', 'positive' ),\n",
    "               ('I do not like that man.', 'negative'),\n",
    "               ('My house is not great.', 'negative'),\n",
    "               ('Your song is annoying.', 'negative')]"
   ]
  },
  {
   "cell_type": "code",
   "execution_count": 8,
   "metadata": {
    "collapsed": false,
    "deletable": true,
    "editable": true
   },
   "outputs": [
    {
     "data": {
      "text/plain": [
       "[(['feel', 'happy', 'this', 'morning'], 'positive'),\n",
       " (['larry', 'friend.'], 'positive'),\n",
       " (['not', 'like', 'that', 'man.'], 'negative'),\n",
       " (['house', 'not', 'great.'], 'negative'),\n",
       " (['your', 'song', 'annoying.'], 'negative')]"
      ]
     },
     "execution_count": 8,
     "metadata": {},
     "output_type": "execute_result"
    }
   ],
   "source": [
    "processed_tweets_test, just_tweets_test = process_tweets(test_tweets)\n",
    "processed_tweets_test"
   ]
  },
  {
   "cell_type": "code",
   "execution_count": 9,
   "metadata": {
    "collapsed": false,
    "deletable": true,
    "editable": true
   },
   "outputs": [
    {
     "name": "stdout",
     "output_type": "stream",
     "text": [
      "['feel', 'happy', 'this', 'morning', 'larry', 'friend.', 'not', 'like', 'that', 'man.', 'house', 'not', 'great.', 'your', 'song', 'annoying.']\n"
     ]
    }
   ],
   "source": [
    "print(just_tweets_test)"
   ]
  },
  {
   "cell_type": "markdown",
   "metadata": {
    "deletable": true,
    "editable": true
   },
   "source": [
    "### 4) List of distinct words ordered by frequency of appearance"
   ]
  },
  {
   "cell_type": "code",
   "execution_count": 10,
   "metadata": {
    "collapsed": true,
    "deletable": true,
    "editable": true
   },
   "outputs": [],
   "source": [
    "import nltk\n",
    "from nltk import FreqDist"
   ]
  },
  {
   "cell_type": "code",
   "execution_count": 11,
   "metadata": {
    "collapsed": false,
    "deletable": true,
    "editable": true
   },
   "outputs": [
    {
     "data": {
      "text/plain": [
       "[('this', 6),\n",
       " ('car', 2),\n",
       " ('view', 2),\n",
       " ('feel', 2),\n",
       " ('morning', 2),\n",
       " ('the', 2),\n",
       " ('concert', 2),\n",
       " ('not', 2),\n",
       " ('love', 1),\n",
       " ('amazing', 1),\n",
       " ('great', 1),\n",
       " ('excited', 1),\n",
       " ('about', 1),\n",
       " ('best', 1),\n",
       " ('friend', 1),\n",
       " ('like', 1),\n",
       " ('horrible', 1),\n",
       " ('tired', 1),\n",
       " ('looking', 1),\n",
       " ('forward', 1),\n",
       " ('enemy', 1)]"
      ]
     },
     "execution_count": 11,
     "metadata": {},
     "output_type": "execute_result"
    }
   ],
   "source": [
    "freqdist_tweets = FreqDist(just_tweets)\n",
    "freqdist_tweets.most_common()"
   ]
  },
  {
   "cell_type": "markdown",
   "metadata": {
    "deletable": true,
    "editable": true
   },
   "source": [
    "#### This indicates that the word 'this' has the highest frequency and has occured 6 times followed by car, view, feel etc."
   ]
  },
  {
   "cell_type": "markdown",
   "metadata": {
    "deletable": true,
    "editable": true
   },
   "source": [
    "## 5) Naive Bayes Classifier to train a classifier to classify the tweet as +ve or -ve\n",
    "\n",
    "NaiveBayesClassifier uses the Bayes theorem to predict the probability that a given feature set belongs to a particular label. The formula is:  \n",
    "\n",
    "Probability of A given B = P(A|B)  \n",
    "Probability of B given A = P(B|A)  \n",
    "P (A|B) = P (A^B) / P(B) = P(B|A) * P(A) / P(B) ==>   A given B  \n",
    "\n",
    "    Probability of label given the feature set is aka Probabilty of label after deriving the feature sets:  \n",
    "    P(label | features) = P(label) * P(features | label) / P(features) \n",
    "    \n",
    "    - P(label): This is the prior probability of the label occurring, which is the likelihood that a random feature set will have the label. This is based on the number of training instances with the label compared to the total number of training instances. For example, if 60/100 training instances have the label, the prior probability of the label is 60%.\n",
    "    - P(features | label): This is the prior probability of a given feature set being classified as that label. This is based on which features have occurred with each label in the training data.\n",
    "    - P(features): This is the prior probability of a given feature set occurring. This is the likelihood of a random feature set being the same as the given feature set, and is based on the observed feature sets in the training data. For example, if the given feature set occurs twice in 100 training instances, the prior probability is 2%.\n",
    "    - P(label | features): This tells us the probability that the given features should have that label. If this value is high, then we can be reasonably confident that the label is correct for the given features"
   ]
  },
  {
   "cell_type": "markdown",
   "metadata": {
    "deletable": true,
    "editable": true
   },
   "source": [
    "## Training the NaiveBayes Classifier\n",
    "    1) Feature Extraction: Choosing relevant and right features. The output has to be a dictionary containing relevant information about the word. \n",
    "    2) "
   ]
  },
  {
   "cell_type": "code",
   "execution_count": 12,
   "metadata": {
    "collapsed": true,
    "deletable": true,
    "editable": true
   },
   "outputs": [],
   "source": [
    "from nltk.classify import NaiveBayesClassifier"
   ]
  },
  {
   "cell_type": "markdown",
   "metadata": {
    "deletable": true,
    "editable": true
   },
   "source": [
    "## 5.1) Feature Extraction\n",
    "\n",
    "Text feature extraction is the process of transforming what is essentially a list of words into a feature set that is usable by a classifier"
   ]
  },
  {
   "cell_type": "code",
   "execution_count": 13,
   "metadata": {
    "collapsed": false,
    "deletable": true,
    "editable": true
   },
   "outputs": [
    {
     "name": "stdout",
     "output_type": "stream",
     "text": [
      "['this', 'car', 'view', 'feel', 'morning', 'the', 'concert', 'not', 'love', 'amazing', 'great', 'excited', 'about', 'best', 'friend', 'like', 'horrible', 'tired', 'looking', 'forward', 'enemy']\n"
     ]
    }
   ],
   "source": [
    "word_features = [feat for (feat, count) in freqdist_tweets.most_common()] ## This is the same as set(just_tweets)\n",
    "print(word_features)"
   ]
  },
  {
   "cell_type": "markdown",
   "metadata": {
    "deletable": true,
    "editable": true
   },
   "source": [
    "## 5.2) Create Featuresets\n",
    "\n",
    "For training, we need to first create a list of labeled feature sets. This list should be of the form [(featureset, label)], where the featureset variable is a dict and label is the known class label for the featureset."
   ]
  },
  {
   "cell_type": "code",
   "execution_count": 14,
   "metadata": {
    "collapsed": true,
    "deletable": true,
    "editable": true
   },
   "outputs": [],
   "source": [
    "def create_featureset(document):\n",
    "    words = set(document)\n",
    "    featureset = {}\n",
    "    for w in word_features:\n",
    "        featureset[w] = (w in words)\n",
    "    return featureset"
   ]
  },
  {
   "cell_type": "code",
   "execution_count": 15,
   "metadata": {
    "collapsed": false,
    "deletable": true,
    "editable": true
   },
   "outputs": [
    {
     "data": {
      "text/plain": [
       "{'about': False,\n",
       " 'amazing': False,\n",
       " 'best': False,\n",
       " 'car': True,\n",
       " 'concert': False,\n",
       " 'enemy': False,\n",
       " 'excited': False,\n",
       " 'feel': False,\n",
       " 'forward': False,\n",
       " 'friend': False,\n",
       " 'great': True,\n",
       " 'horrible': False,\n",
       " 'like': False,\n",
       " 'looking': False,\n",
       " 'love': False,\n",
       " 'morning': False,\n",
       " 'not': True,\n",
       " 'the': False,\n",
       " 'this': False,\n",
       " 'tired': False,\n",
       " 'view': False}"
      ]
     },
     "execution_count": 15,
     "metadata": {},
     "output_type": "execute_result"
    }
   ],
   "source": [
    "create_featureset(['not', 'great', 'car'])"
   ]
  },
  {
   "cell_type": "markdown",
   "metadata": {
    "deletable": true,
    "editable": true
   },
   "source": [
    "## 5.3) Train the classifier\n",
    "Create training set with all the input tweets"
   ]
  },
  {
   "cell_type": "code",
   "execution_count": 16,
   "metadata": {
    "collapsed": false,
    "deletable": true,
    "editable": true
   },
   "outputs": [
    {
     "data": {
      "text/plain": [
       "[({'about': False,\n",
       "   'amazing': False,\n",
       "   'best': False,\n",
       "   'car': True,\n",
       "   'concert': False,\n",
       "   'enemy': False,\n",
       "   'excited': False,\n",
       "   'feel': False,\n",
       "   'forward': False,\n",
       "   'friend': False,\n",
       "   'great': False,\n",
       "   'horrible': False,\n",
       "   'like': False,\n",
       "   'looking': False,\n",
       "   'love': True,\n",
       "   'morning': False,\n",
       "   'not': False,\n",
       "   'the': False,\n",
       "   'this': True,\n",
       "   'tired': False,\n",
       "   'view': False},\n",
       "  'positive'),\n",
       " ({'about': False,\n",
       "   'amazing': True,\n",
       "   'best': False,\n",
       "   'car': False,\n",
       "   'concert': False,\n",
       "   'enemy': False,\n",
       "   'excited': False,\n",
       "   'feel': False,\n",
       "   'forward': False,\n",
       "   'friend': False,\n",
       "   'great': False,\n",
       "   'horrible': False,\n",
       "   'like': False,\n",
       "   'looking': False,\n",
       "   'love': False,\n",
       "   'morning': False,\n",
       "   'not': False,\n",
       "   'the': False,\n",
       "   'this': True,\n",
       "   'tired': False,\n",
       "   'view': True},\n",
       "  'positive'),\n",
       " ({'about': False,\n",
       "   'amazing': False,\n",
       "   'best': False,\n",
       "   'car': False,\n",
       "   'concert': False,\n",
       "   'enemy': False,\n",
       "   'excited': False,\n",
       "   'feel': True,\n",
       "   'forward': False,\n",
       "   'friend': False,\n",
       "   'great': True,\n",
       "   'horrible': False,\n",
       "   'like': False,\n",
       "   'looking': False,\n",
       "   'love': False,\n",
       "   'morning': True,\n",
       "   'not': False,\n",
       "   'the': False,\n",
       "   'this': True,\n",
       "   'tired': False,\n",
       "   'view': False},\n",
       "  'positive'),\n",
       " ({'about': True,\n",
       "   'amazing': False,\n",
       "   'best': False,\n",
       "   'car': False,\n",
       "   'concert': True,\n",
       "   'enemy': False,\n",
       "   'excited': True,\n",
       "   'feel': False,\n",
       "   'forward': False,\n",
       "   'friend': False,\n",
       "   'great': False,\n",
       "   'horrible': False,\n",
       "   'like': False,\n",
       "   'looking': False,\n",
       "   'love': False,\n",
       "   'morning': False,\n",
       "   'not': False,\n",
       "   'the': True,\n",
       "   'this': False,\n",
       "   'tired': False,\n",
       "   'view': False},\n",
       "  'positive'),\n",
       " ({'about': False,\n",
       "   'amazing': False,\n",
       "   'best': True,\n",
       "   'car': False,\n",
       "   'concert': False,\n",
       "   'enemy': False,\n",
       "   'excited': False,\n",
       "   'feel': False,\n",
       "   'forward': False,\n",
       "   'friend': True,\n",
       "   'great': False,\n",
       "   'horrible': False,\n",
       "   'like': False,\n",
       "   'looking': False,\n",
       "   'love': False,\n",
       "   'morning': False,\n",
       "   'not': False,\n",
       "   'the': False,\n",
       "   'this': False,\n",
       "   'tired': False,\n",
       "   'view': False},\n",
       "  'positive'),\n",
       " ({'about': False,\n",
       "   'amazing': False,\n",
       "   'best': False,\n",
       "   'car': True,\n",
       "   'concert': False,\n",
       "   'enemy': False,\n",
       "   'excited': False,\n",
       "   'feel': False,\n",
       "   'forward': False,\n",
       "   'friend': False,\n",
       "   'great': False,\n",
       "   'horrible': False,\n",
       "   'like': True,\n",
       "   'looking': False,\n",
       "   'love': False,\n",
       "   'morning': False,\n",
       "   'not': True,\n",
       "   'the': False,\n",
       "   'this': True,\n",
       "   'tired': False,\n",
       "   'view': False},\n",
       "  'negative'),\n",
       " ({'about': False,\n",
       "   'amazing': False,\n",
       "   'best': False,\n",
       "   'car': False,\n",
       "   'concert': False,\n",
       "   'enemy': False,\n",
       "   'excited': False,\n",
       "   'feel': False,\n",
       "   'forward': False,\n",
       "   'friend': False,\n",
       "   'great': False,\n",
       "   'horrible': True,\n",
       "   'like': False,\n",
       "   'looking': False,\n",
       "   'love': False,\n",
       "   'morning': False,\n",
       "   'not': False,\n",
       "   'the': False,\n",
       "   'this': True,\n",
       "   'tired': False,\n",
       "   'view': True},\n",
       "  'negative'),\n",
       " ({'about': False,\n",
       "   'amazing': False,\n",
       "   'best': False,\n",
       "   'car': False,\n",
       "   'concert': False,\n",
       "   'enemy': False,\n",
       "   'excited': False,\n",
       "   'feel': True,\n",
       "   'forward': False,\n",
       "   'friend': False,\n",
       "   'great': False,\n",
       "   'horrible': False,\n",
       "   'like': False,\n",
       "   'looking': False,\n",
       "   'love': False,\n",
       "   'morning': True,\n",
       "   'not': False,\n",
       "   'the': False,\n",
       "   'this': True,\n",
       "   'tired': True,\n",
       "   'view': False},\n",
       "  'negative'),\n",
       " ({'about': False,\n",
       "   'amazing': False,\n",
       "   'best': False,\n",
       "   'car': False,\n",
       "   'concert': True,\n",
       "   'enemy': False,\n",
       "   'excited': False,\n",
       "   'feel': False,\n",
       "   'forward': True,\n",
       "   'friend': False,\n",
       "   'great': False,\n",
       "   'horrible': False,\n",
       "   'like': False,\n",
       "   'looking': True,\n",
       "   'love': False,\n",
       "   'morning': False,\n",
       "   'not': True,\n",
       "   'the': True,\n",
       "   'this': False,\n",
       "   'tired': False,\n",
       "   'view': False},\n",
       "  'negative'),\n",
       " ({'about': False,\n",
       "   'amazing': False,\n",
       "   'best': False,\n",
       "   'car': False,\n",
       "   'concert': False,\n",
       "   'enemy': True,\n",
       "   'excited': False,\n",
       "   'feel': False,\n",
       "   'forward': False,\n",
       "   'friend': False,\n",
       "   'great': False,\n",
       "   'horrible': False,\n",
       "   'like': False,\n",
       "   'looking': False,\n",
       "   'love': False,\n",
       "   'morning': False,\n",
       "   'not': False,\n",
       "   'the': False,\n",
       "   'this': False,\n",
       "   'tired': False,\n",
       "   'view': False},\n",
       "  'negative')]"
      ]
     },
     "execution_count": 16,
     "metadata": {},
     "output_type": "execute_result"
    }
   ],
   "source": [
    "training_set = [(create_featureset(tweet), category) for (tweet, category) in processed_tweets]\n",
    "training_set"
   ]
  },
  {
   "cell_type": "code",
   "execution_count": 17,
   "metadata": {
    "collapsed": false,
    "deletable": true,
    "editable": true
   },
   "outputs": [
    {
     "data": {
      "text/plain": [
       "[({'about': False,\n",
       "   'amazing': False,\n",
       "   'best': False,\n",
       "   'car': False,\n",
       "   'concert': False,\n",
       "   'enemy': False,\n",
       "   'excited': False,\n",
       "   'feel': False,\n",
       "   'forward': False,\n",
       "   'friend': False,\n",
       "   'great': False,\n",
       "   'horrible': False,\n",
       "   'like': False,\n",
       "   'looking': False,\n",
       "   'love': False,\n",
       "   'morning': False,\n",
       "   'not': False,\n",
       "   'the': False,\n",
       "   'this': False,\n",
       "   'tired': False,\n",
       "   'view': False},\n",
       "  'positive'),\n",
       " ({'about': False,\n",
       "   'amazing': False,\n",
       "   'best': False,\n",
       "   'car': False,\n",
       "   'concert': False,\n",
       "   'enemy': False,\n",
       "   'excited': False,\n",
       "   'feel': False,\n",
       "   'forward': False,\n",
       "   'friend': False,\n",
       "   'great': False,\n",
       "   'horrible': False,\n",
       "   'like': False,\n",
       "   'looking': False,\n",
       "   'love': False,\n",
       "   'morning': False,\n",
       "   'not': False,\n",
       "   'the': False,\n",
       "   'this': False,\n",
       "   'tired': False,\n",
       "   'view': False},\n",
       "  'positive'),\n",
       " ({'about': False,\n",
       "   'amazing': False,\n",
       "   'best': False,\n",
       "   'car': False,\n",
       "   'concert': False,\n",
       "   'enemy': False,\n",
       "   'excited': False,\n",
       "   'feel': False,\n",
       "   'forward': False,\n",
       "   'friend': False,\n",
       "   'great': False,\n",
       "   'horrible': False,\n",
       "   'like': False,\n",
       "   'looking': False,\n",
       "   'love': False,\n",
       "   'morning': False,\n",
       "   'not': False,\n",
       "   'the': False,\n",
       "   'this': False,\n",
       "   'tired': False,\n",
       "   'view': False},\n",
       "  'negative'),\n",
       " ({'about': False,\n",
       "   'amazing': False,\n",
       "   'best': False,\n",
       "   'car': False,\n",
       "   'concert': False,\n",
       "   'enemy': False,\n",
       "   'excited': False,\n",
       "   'feel': False,\n",
       "   'forward': False,\n",
       "   'friend': False,\n",
       "   'great': False,\n",
       "   'horrible': False,\n",
       "   'like': False,\n",
       "   'looking': False,\n",
       "   'love': False,\n",
       "   'morning': False,\n",
       "   'not': False,\n",
       "   'the': False,\n",
       "   'this': False,\n",
       "   'tired': False,\n",
       "   'view': False},\n",
       "  'negative'),\n",
       " ({'about': False,\n",
       "   'amazing': False,\n",
       "   'best': False,\n",
       "   'car': False,\n",
       "   'concert': False,\n",
       "   'enemy': False,\n",
       "   'excited': False,\n",
       "   'feel': False,\n",
       "   'forward': False,\n",
       "   'friend': False,\n",
       "   'great': False,\n",
       "   'horrible': False,\n",
       "   'like': False,\n",
       "   'looking': False,\n",
       "   'love': False,\n",
       "   'morning': False,\n",
       "   'not': False,\n",
       "   'the': False,\n",
       "   'this': False,\n",
       "   'tired': False,\n",
       "   'view': False},\n",
       "  'negative')]"
      ]
     },
     "execution_count": 17,
     "metadata": {},
     "output_type": "execute_result"
    }
   ],
   "source": [
    "testing_set = [(create_featureset(tweet), category) for (tweet, category) in test_tweets]\n",
    "testing_set"
   ]
  },
  {
   "cell_type": "code",
   "execution_count": 18,
   "metadata": {
    "collapsed": true,
    "deletable": true,
    "editable": true
   },
   "outputs": [],
   "source": [
    "classifier = NaiveBayesClassifier.train(training_set)"
   ]
  },
  {
   "cell_type": "code",
   "execution_count": 19,
   "metadata": {
    "collapsed": false,
    "deletable": true,
    "editable": true
   },
   "outputs": [
    {
     "name": "stdout",
     "output_type": "stream",
     "text": [
      "Most Informative Features\n",
      "                     not = False          positi : negati =      1.6 : 1.0\n",
      "                 excited = False          negati : positi =      1.2 : 1.0\n",
      "                horrible = False          positi : negati =      1.2 : 1.0\n",
      "                   about = False          negati : positi =      1.2 : 1.0\n",
      "                    love = False          negati : positi =      1.2 : 1.0\n",
      "                   great = False          negati : positi =      1.2 : 1.0\n",
      "                 amazing = False          negati : positi =      1.2 : 1.0\n",
      "                 forward = False          positi : negati =      1.2 : 1.0\n",
      "                  friend = False          negati : positi =      1.2 : 1.0\n",
      "                    best = False          negati : positi =      1.2 : 1.0\n"
     ]
    }
   ],
   "source": [
    "classifier.show_most_informative_features()"
   ]
  },
  {
   "cell_type": "code",
   "execution_count": 20,
   "metadata": {
    "collapsed": false,
    "deletable": true,
    "editable": true
   },
   "outputs": [
    {
     "data": {
      "text/plain": [
       "['positive', 'negative']"
      ]
     },
     "execution_count": 20,
     "metadata": {},
     "output_type": "execute_result"
    }
   ],
   "source": [
    "classifier.labels()"
   ]
  },
  {
   "cell_type": "code",
   "execution_count": 21,
   "metadata": {
    "collapsed": false,
    "deletable": true,
    "editable": true
   },
   "outputs": [
    {
     "name": "stdout",
     "output_type": "stream",
     "text": [
      "Classifier accuracy percent: 40.0\n"
     ]
    }
   ],
   "source": [
    "print(\"Classifier accuracy percent:\",(nltk.classify.accuracy(classifier, testing_set))*100)"
   ]
  },
  {
   "cell_type": "markdown",
   "metadata": {
    "deletable": true,
    "editable": true
   },
   "source": [
    "#### The accuracy is less as we dont have many examples to classify the new tweets accurately"
   ]
  },
  {
   "cell_type": "markdown",
   "metadata": {
    "deletable": true,
    "editable": true
   },
   "source": [
    "## 5.4) Testing the new tweets "
   ]
  },
  {
   "cell_type": "code",
   "execution_count": 22,
   "metadata": {
    "collapsed": false,
    "deletable": true,
    "editable": true
   },
   "outputs": [
    {
     "name": "stdout",
     "output_type": "stream",
     "text": [
      "positive\n"
     ]
    }
   ],
   "source": [
    "tweet = 'This is the greatest song Ive ever heard'\n",
    "print(classifier.classify(create_featureset(tweet.split())))"
   ]
  },
  {
   "cell_type": "code",
   "execution_count": 23,
   "metadata": {
    "collapsed": false,
    "deletable": true,
    "editable": true
   },
   "outputs": [
    {
     "data": {
      "text/plain": [
       "'negative'"
      ]
     },
     "execution_count": 23,
     "metadata": {},
     "output_type": "execute_result"
    }
   ],
   "source": [
    "test_sentence = [\"tired\"]\n",
    "classifier.classify(create_featureset(test_sentence))"
   ]
  },
  {
   "cell_type": "code",
   "execution_count": 24,
   "metadata": {
    "collapsed": false,
    "deletable": true,
    "editable": true
   },
   "outputs": [
    {
     "data": {
      "text/plain": [
       "'I feel happy this morning'"
      ]
     },
     "execution_count": 24,
     "metadata": {},
     "output_type": "execute_result"
    }
   ],
   "source": [
    "test_tweets[0][0]"
   ]
  },
  {
   "cell_type": "code",
   "execution_count": 25,
   "metadata": {
    "collapsed": false,
    "deletable": true,
    "editable": true
   },
   "outputs": [
    {
     "name": "stdout",
     "output_type": "stream",
     "text": [
      "('I feel happy this morning', 'positive') - Sentiment:  positive\n",
      "('Larry is my friend.', 'positive') - Sentiment:  positive\n",
      "('I do not like that man.', 'negative') - Sentiment:  positive\n",
      "('My house is not great.', 'negative') - Sentiment:  positive\n",
      "('Your song is annoying.', 'negative') - Sentiment:  positive\n"
     ]
    }
   ],
   "source": [
    "for i in range(len(test_tweets)):\n",
    "    print(test_tweets[i],'- Sentiment: ', classifier.classify(create_featureset(test_tweets[i][0])))"
   ]
  },
  {
   "cell_type": "markdown",
   "metadata": {
    "deletable": true,
    "editable": true
   },
   "source": [
    "## 5.5) Conclusion\n",
    "\n",
    "The classifier is not identifying the tweets correctly. Possible reasons might be:\n",
    "    1) Few examples for training as the corpus has only few words associated with being positive or negative. Words like 'this' cannot identify the sentiment.\n",
    "    "
   ]
  }
 ],
 "metadata": {
  "kernelspec": {
   "display_name": "Python 3",
   "language": "python",
   "name": "python3"
  },
  "language_info": {
   "codemirror_mode": {
    "name": "ipython",
    "version": 3
   },
   "file_extension": ".py",
   "mimetype": "text/x-python",
   "name": "python",
   "nbconvert_exporter": "python",
   "pygments_lexer": "ipython3",
   "version": "3.6.2"
  }
 },
 "nbformat": 4,
 "nbformat_minor": 2
}
