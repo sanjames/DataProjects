{
 "cells": [
  {
   "cell_type": "markdown",
   "metadata": {
    "deletable": true,
    "editable": true
   },
   "source": [
    "# TMDB Movies, Movie Credits Analysis & Prediction"
   ]
  },
  {
   "cell_type": "markdown",
   "metadata": {
    "deletable": true,
    "editable": true
   },
   "source": [
    "This dataset has information from The Movie Database (TMDb). It has the following 2 files:  \n",
    "- tmdb_5000_credits.csv - Movie credits data  \n",
    "- tmdb_5000_movies.csv - Movie metadata  \n",
    "\n",
    "The focus of this project is to figure our the success of the moview before it is released. Will we be able to predict the success rate of the movie? Will we be able to predict whether the movie will be a box office hit, get more revenue etc. Is there any magic formula for the success of the movie??? "
   ]
  },
  {
   "cell_type": "markdown",
   "metadata": {
    "deletable": true,
    "editable": true
   },
   "source": [
    "## 1) Data Preparation/Data Munging"
   ]
  },
  {
   "cell_type": "code",
   "execution_count": 1,
   "metadata": {
    "collapsed": true,
    "deletable": true,
    "editable": true
   },
   "outputs": [],
   "source": [
    "#Import all required libraries for reading data, analysing and visualizing data\n",
    "import pandas as pd\n",
    "import numpy as np\n",
    "import matplotlib.pyplot as plt\n",
    "import seaborn as sns\n",
    "%matplotlib inline\n",
    "import json"
   ]
  },
  {
   "cell_type": "code",
   "execution_count": 2,
   "metadata": {
    "collapsed": false,
    "deletable": true,
    "editable": true
   },
   "outputs": [],
   "source": [
    "credits = pd.read_csv('tmdb_5000_credits.csv')\n",
    "movies = pd.read_csv('tmdb_5000_movies.csv')"
   ]
  },
  {
   "cell_type": "code",
   "execution_count": 3,
   "metadata": {
    "collapsed": false,
    "deletable": true,
    "editable": true
   },
   "outputs": [
    {
     "data": {
      "text/plain": [
       "(4803, 4)"
      ]
     },
     "execution_count": 3,
     "metadata": {},
     "output_type": "execute_result"
    }
   ],
   "source": [
    "credits.shape"
   ]
  },
  {
   "cell_type": "code",
   "execution_count": 4,
   "metadata": {
    "collapsed": false,
    "deletable": true,
    "editable": true
   },
   "outputs": [
    {
     "data": {
      "text/plain": [
       "(4803, 20)"
      ]
     },
     "execution_count": 4,
     "metadata": {},
     "output_type": "execute_result"
    }
   ],
   "source": [
    "movies.shape"
   ]
  },
  {
   "cell_type": "code",
   "execution_count": 5,
   "metadata": {
    "collapsed": false,
    "deletable": true,
    "editable": true
   },
   "outputs": [
    {
     "data": {
      "text/html": [
       "<div>\n",
       "<style>\n",
       "    .dataframe thead tr:only-child th {\n",
       "        text-align: right;\n",
       "    }\n",
       "\n",
       "    .dataframe thead th {\n",
       "        text-align: left;\n",
       "    }\n",
       "\n",
       "    .dataframe tbody tr th {\n",
       "        vertical-align: top;\n",
       "    }\n",
       "</style>\n",
       "<table border=\"1\" class=\"dataframe\">\n",
       "  <thead>\n",
       "    <tr style=\"text-align: right;\">\n",
       "      <th></th>\n",
       "      <th>movie_id</th>\n",
       "      <th>title</th>\n",
       "      <th>cast</th>\n",
       "      <th>crew</th>\n",
       "    </tr>\n",
       "  </thead>\n",
       "  <tbody>\n",
       "    <tr>\n",
       "      <th>0</th>\n",
       "      <td>19995</td>\n",
       "      <td>Avatar</td>\n",
       "      <td>[{\"cast_id\": 242, \"character\": \"Jake Sully\", \"...</td>\n",
       "      <td>[{\"credit_id\": \"52fe48009251416c750aca23\", \"de...</td>\n",
       "    </tr>\n",
       "    <tr>\n",
       "      <th>1</th>\n",
       "      <td>285</td>\n",
       "      <td>Pirates of the Caribbean: At World's End</td>\n",
       "      <td>[{\"cast_id\": 4, \"character\": \"Captain Jack Spa...</td>\n",
       "      <td>[{\"credit_id\": \"52fe4232c3a36847f800b579\", \"de...</td>\n",
       "    </tr>\n",
       "  </tbody>\n",
       "</table>\n",
       "</div>"
      ],
      "text/plain": [
       "   movie_id                                     title  \\\n",
       "0     19995                                    Avatar   \n",
       "1       285  Pirates of the Caribbean: At World's End   \n",
       "\n",
       "                                                cast  \\\n",
       "0  [{\"cast_id\": 242, \"character\": \"Jake Sully\", \"...   \n",
       "1  [{\"cast_id\": 4, \"character\": \"Captain Jack Spa...   \n",
       "\n",
       "                                                crew  \n",
       "0  [{\"credit_id\": \"52fe48009251416c750aca23\", \"de...  \n",
       "1  [{\"credit_id\": \"52fe4232c3a36847f800b579\", \"de...  "
      ]
     },
     "execution_count": 5,
     "metadata": {},
     "output_type": "execute_result"
    }
   ],
   "source": [
    "credits.head(2)"
   ]
  },
  {
   "cell_type": "code",
   "execution_count": 6,
   "metadata": {
    "collapsed": false,
    "deletable": true,
    "editable": true
   },
   "outputs": [
    {
     "name": "stdout",
     "output_type": "stream",
     "text": [
      "<class 'pandas.core.frame.DataFrame'>\n",
      "RangeIndex: 4803 entries, 0 to 4802\n",
      "Data columns (total 4 columns):\n",
      "movie_id    4803 non-null int64\n",
      "title       4803 non-null object\n",
      "cast        4803 non-null object\n",
      "crew        4803 non-null object\n",
      "dtypes: int64(1), object(3)\n",
      "memory usage: 150.2+ KB\n"
     ]
    }
   ],
   "source": [
    "credits.info()"
   ]
  },
  {
   "cell_type": "markdown",
   "metadata": {
    "deletable": true,
    "editable": true
   },
   "source": [
    "Movie credits has the 4 follwing features for 4803 movies:   \n",
    "  - movie_id - integer - corresponding to the movie id  \n",
    "  - title - categorical feature - title of the movie  \n",
    "  - cast - json data having the following info for the specific movie:  \n",
    "        * cast_id  \n",
    "        * character  \n",
    "        * credit_id  \n",
    "        * gender  \n",
    "        * id  \n",
    "        * name  \n",
    "        * order  \n",
    "  - credit - json data having the movie credit info for the specific movie:  \n",
    "        * credit_id    \n",
    "        * department    \n",
    "        * gender  \n",
    "        * id  \n",
    "        * job  \n",
    "        * name       "
   ]
  },
  {
   "cell_type": "code",
   "execution_count": 7,
   "metadata": {
    "collapsed": false,
    "deletable": true,
    "editable": true
   },
   "outputs": [
    {
     "data": {
      "text/html": [
       "<div>\n",
       "<style>\n",
       "    .dataframe thead tr:only-child th {\n",
       "        text-align: right;\n",
       "    }\n",
       "\n",
       "    .dataframe thead th {\n",
       "        text-align: left;\n",
       "    }\n",
       "\n",
       "    .dataframe tbody tr th {\n",
       "        vertical-align: top;\n",
       "    }\n",
       "</style>\n",
       "<table border=\"1\" class=\"dataframe\">\n",
       "  <thead>\n",
       "    <tr style=\"text-align: right;\">\n",
       "      <th></th>\n",
       "      <th>budget</th>\n",
       "      <th>genres</th>\n",
       "      <th>homepage</th>\n",
       "      <th>id</th>\n",
       "      <th>keywords</th>\n",
       "      <th>original_language</th>\n",
       "      <th>original_title</th>\n",
       "      <th>overview</th>\n",
       "      <th>popularity</th>\n",
       "      <th>production_companies</th>\n",
       "      <th>production_countries</th>\n",
       "      <th>release_date</th>\n",
       "      <th>revenue</th>\n",
       "      <th>runtime</th>\n",
       "      <th>spoken_languages</th>\n",
       "      <th>status</th>\n",
       "      <th>tagline</th>\n",
       "      <th>title</th>\n",
       "      <th>vote_average</th>\n",
       "      <th>vote_count</th>\n",
       "    </tr>\n",
       "  </thead>\n",
       "  <tbody>\n",
       "    <tr>\n",
       "      <th>0</th>\n",
       "      <td>237000000</td>\n",
       "      <td>[{\"id\": 28, \"name\": \"Action\"}, {\"id\": 12, \"nam...</td>\n",
       "      <td>http://www.avatarmovie.com/</td>\n",
       "      <td>19995</td>\n",
       "      <td>[{\"id\": 1463, \"name\": \"culture clash\"}, {\"id\":...</td>\n",
       "      <td>en</td>\n",
       "      <td>Avatar</td>\n",
       "      <td>In the 22nd century, a paraplegic Marine is di...</td>\n",
       "      <td>150.437577</td>\n",
       "      <td>[{\"name\": \"Ingenious Film Partners\", \"id\": 289...</td>\n",
       "      <td>[{\"iso_3166_1\": \"US\", \"name\": \"United States o...</td>\n",
       "      <td>2009-12-10</td>\n",
       "      <td>2787965087</td>\n",
       "      <td>162.0</td>\n",
       "      <td>[{\"iso_639_1\": \"en\", \"name\": \"English\"}, {\"iso...</td>\n",
       "      <td>Released</td>\n",
       "      <td>Enter the World of Pandora.</td>\n",
       "      <td>Avatar</td>\n",
       "      <td>7.2</td>\n",
       "      <td>11800</td>\n",
       "    </tr>\n",
       "    <tr>\n",
       "      <th>1</th>\n",
       "      <td>300000000</td>\n",
       "      <td>[{\"id\": 12, \"name\": \"Adventure\"}, {\"id\": 14, \"...</td>\n",
       "      <td>http://disney.go.com/disneypictures/pirates/</td>\n",
       "      <td>285</td>\n",
       "      <td>[{\"id\": 270, \"name\": \"ocean\"}, {\"id\": 726, \"na...</td>\n",
       "      <td>en</td>\n",
       "      <td>Pirates of the Caribbean: At World's End</td>\n",
       "      <td>Captain Barbossa, long believed to be dead, ha...</td>\n",
       "      <td>139.082615</td>\n",
       "      <td>[{\"name\": \"Walt Disney Pictures\", \"id\": 2}, {\"...</td>\n",
       "      <td>[{\"iso_3166_1\": \"US\", \"name\": \"United States o...</td>\n",
       "      <td>2007-05-19</td>\n",
       "      <td>961000000</td>\n",
       "      <td>169.0</td>\n",
       "      <td>[{\"iso_639_1\": \"en\", \"name\": \"English\"}]</td>\n",
       "      <td>Released</td>\n",
       "      <td>At the end of the world, the adventure begins.</td>\n",
       "      <td>Pirates of the Caribbean: At World's End</td>\n",
       "      <td>6.9</td>\n",
       "      <td>4500</td>\n",
       "    </tr>\n",
       "  </tbody>\n",
       "</table>\n",
       "</div>"
      ],
      "text/plain": [
       "      budget                                             genres  \\\n",
       "0  237000000  [{\"id\": 28, \"name\": \"Action\"}, {\"id\": 12, \"nam...   \n",
       "1  300000000  [{\"id\": 12, \"name\": \"Adventure\"}, {\"id\": 14, \"...   \n",
       "\n",
       "                                       homepage     id  \\\n",
       "0                   http://www.avatarmovie.com/  19995   \n",
       "1  http://disney.go.com/disneypictures/pirates/    285   \n",
       "\n",
       "                                            keywords original_language  \\\n",
       "0  [{\"id\": 1463, \"name\": \"culture clash\"}, {\"id\":...                en   \n",
       "1  [{\"id\": 270, \"name\": \"ocean\"}, {\"id\": 726, \"na...                en   \n",
       "\n",
       "                             original_title  \\\n",
       "0                                    Avatar   \n",
       "1  Pirates of the Caribbean: At World's End   \n",
       "\n",
       "                                            overview  popularity  \\\n",
       "0  In the 22nd century, a paraplegic Marine is di...  150.437577   \n",
       "1  Captain Barbossa, long believed to be dead, ha...  139.082615   \n",
       "\n",
       "                                production_companies  \\\n",
       "0  [{\"name\": \"Ingenious Film Partners\", \"id\": 289...   \n",
       "1  [{\"name\": \"Walt Disney Pictures\", \"id\": 2}, {\"...   \n",
       "\n",
       "                                production_countries release_date     revenue  \\\n",
       "0  [{\"iso_3166_1\": \"US\", \"name\": \"United States o...   2009-12-10  2787965087   \n",
       "1  [{\"iso_3166_1\": \"US\", \"name\": \"United States o...   2007-05-19   961000000   \n",
       "\n",
       "   runtime                                   spoken_languages    status  \\\n",
       "0    162.0  [{\"iso_639_1\": \"en\", \"name\": \"English\"}, {\"iso...  Released   \n",
       "1    169.0           [{\"iso_639_1\": \"en\", \"name\": \"English\"}]  Released   \n",
       "\n",
       "                                          tagline  \\\n",
       "0                     Enter the World of Pandora.   \n",
       "1  At the end of the world, the adventure begins.   \n",
       "\n",
       "                                      title  vote_average  vote_count  \n",
       "0                                    Avatar           7.2       11800  \n",
       "1  Pirates of the Caribbean: At World's End           6.9        4500  "
      ]
     },
     "execution_count": 7,
     "metadata": {},
     "output_type": "execute_result"
    }
   ],
   "source": [
    "movies.head(2)"
   ]
  },
  {
   "cell_type": "code",
   "execution_count": 8,
   "metadata": {
    "collapsed": false,
    "deletable": true,
    "editable": true
   },
   "outputs": [
    {
     "name": "stdout",
     "output_type": "stream",
     "text": [
      "<class 'pandas.core.frame.DataFrame'>\n",
      "RangeIndex: 4803 entries, 0 to 4802\n",
      "Data columns (total 20 columns):\n",
      "budget                  4803 non-null int64\n",
      "genres                  4803 non-null object\n",
      "homepage                1712 non-null object\n",
      "id                      4803 non-null int64\n",
      "keywords                4803 non-null object\n",
      "original_language       4803 non-null object\n",
      "original_title          4803 non-null object\n",
      "overview                4800 non-null object\n",
      "popularity              4803 non-null float64\n",
      "production_companies    4803 non-null object\n",
      "production_countries    4803 non-null object\n",
      "release_date            4802 non-null object\n",
      "revenue                 4803 non-null int64\n",
      "runtime                 4801 non-null float64\n",
      "spoken_languages        4803 non-null object\n",
      "status                  4803 non-null object\n",
      "tagline                 3959 non-null object\n",
      "title                   4803 non-null object\n",
      "vote_average            4803 non-null float64\n",
      "vote_count              4803 non-null int64\n",
      "dtypes: float64(3), int64(4), object(13)\n",
      "memory usage: 750.5+ KB\n"
     ]
    }
   ],
   "source": [
    "movies.info()"
   ]
  },
  {
   "cell_type": "markdown",
   "metadata": {
    "deletable": true,
    "editable": true
   },
   "source": [
    "Movie info has the following 20 features for 4803 movies:   \n",
    "    - budget - movie budget                \n",
    "    - genres - json data having the following info for the specific movie genre  \n",
    "        * id - genre id  \n",
    "        * name - genre name for the specific movie  \n",
    "    - homepage - URL of the movie website               \n",
    "    - id - movie id                     \n",
    "    - keywords - json data having the following info for the specific movie keywords                \n",
    "        * id - keyword id  \n",
    "        * name - keyword name for the specific movie      \n",
    "    - original_language - language in which original movie was released      \n",
    "    - original_title - original title of the moview         \n",
    "    - overview - movie description              \n",
    "    - popularity - popularity rating of the movie              \n",
    "    - production_companies - json data having the following info for the production companies for the movie  \n",
    "        * id - production company id  \n",
    "        * name - production company name for the specific movie          \n",
    "    - production_countries  - json data having the following info for the production companies of the movie  \n",
    "        * iso_3166_1 -  ISO Code for the countries   \n",
    "        * name - Country name where the moview was released  \n",
    "    - release_date - release date           \n",
    "    - revenue - movie revenue                 \n",
    "    - runtime                 \n",
    "    - spoken_languages        \n",
    "        * iso_639_1 - Code for the language     \n",
    "        * name - language name  \n",
    "    - status - Movie Status - Released, Rumored, Post production                \n",
    "    - tagline - Movie Tagline                \n",
    "    - title - movie title                  \n",
    "    - vote_average - average vote           \n",
    "    - vote_count - vote count              "
   ]
  },
  {
   "cell_type": "markdown",
   "metadata": {
    "deletable": true,
    "editable": true
   },
   "source": [
    "## 2) Data Processing"
   ]
  },
  {
   "cell_type": "markdown",
   "metadata": {
    "deletable": true,
    "editable": true
   },
   "source": [
    "These are the steps I'm going to do inorder to process the data:  \n",
    "    1) Merge movies and credit data to form one single data. Join them with movie id.  \n",
    "    2) Work on the different JSON objects like Genres, cast, crew, production companies, production_countries etc.  \n",
    "    3) Create new features release year and month based on Release date  "
   ]
  },
  {
   "cell_type": "markdown",
   "metadata": {
    "deletable": true,
    "editable": true
   },
   "source": [
    "### 2.1) Merge movies & credits dataframe to a single dataframe"
   ]
  },
  {
   "cell_type": "code",
   "execution_count": 9,
   "metadata": {
    "collapsed": false,
    "deletable": true,
    "editable": true
   },
   "outputs": [],
   "source": [
    "allmovies_df = pd.merge(left=movies,right=credits, left_on='id', right_on='movie_id', suffixes=('_left', '_right'))"
   ]
  },
  {
   "cell_type": "code",
   "execution_count": 10,
   "metadata": {
    "collapsed": false,
    "deletable": true,
    "editable": true
   },
   "outputs": [
    {
     "data": {
      "text/plain": [
       "(4803, 24)"
      ]
     },
     "execution_count": 10,
     "metadata": {},
     "output_type": "execute_result"
    }
   ],
   "source": [
    "allmovies_df.shape"
   ]
  },
  {
   "cell_type": "code",
   "execution_count": 11,
   "metadata": {
    "collapsed": false,
    "deletable": true,
    "editable": true
   },
   "outputs": [
    {
     "name": "stdout",
     "output_type": "stream",
     "text": [
      "<class 'pandas.core.frame.DataFrame'>\n",
      "Int64Index: 4803 entries, 0 to 4802\n",
      "Data columns (total 24 columns):\n",
      "budget                  4803 non-null int64\n",
      "genres                  4803 non-null object\n",
      "homepage                1712 non-null object\n",
      "id                      4803 non-null int64\n",
      "keywords                4803 non-null object\n",
      "original_language       4803 non-null object\n",
      "original_title          4803 non-null object\n",
      "overview                4800 non-null object\n",
      "popularity              4803 non-null float64\n",
      "production_companies    4803 non-null object\n",
      "production_countries    4803 non-null object\n",
      "release_date            4802 non-null object\n",
      "revenue                 4803 non-null int64\n",
      "runtime                 4801 non-null float64\n",
      "spoken_languages        4803 non-null object\n",
      "status                  4803 non-null object\n",
      "tagline                 3959 non-null object\n",
      "title_left              4803 non-null object\n",
      "vote_average            4803 non-null float64\n",
      "vote_count              4803 non-null int64\n",
      "movie_id                4803 non-null int64\n",
      "title_right             4803 non-null object\n",
      "cast                    4803 non-null object\n",
      "crew                    4803 non-null object\n",
      "dtypes: float64(3), int64(5), object(16)\n",
      "memory usage: 938.1+ KB\n"
     ]
    }
   ],
   "source": [
    "allmovies_df.info()"
   ]
  },
  {
   "cell_type": "code",
   "execution_count": 12,
   "metadata": {
    "collapsed": false,
    "deletable": true,
    "editable": true
   },
   "outputs": [
    {
     "data": {
      "text/html": [
       "<div>\n",
       "<style>\n",
       "    .dataframe thead tr:only-child th {\n",
       "        text-align: right;\n",
       "    }\n",
       "\n",
       "    .dataframe thead th {\n",
       "        text-align: left;\n",
       "    }\n",
       "\n",
       "    .dataframe tbody tr th {\n",
       "        vertical-align: top;\n",
       "    }\n",
       "</style>\n",
       "<table border=\"1\" class=\"dataframe\">\n",
       "  <thead>\n",
       "    <tr style=\"text-align: right;\">\n",
       "      <th></th>\n",
       "      <th>budget</th>\n",
       "      <th>genres</th>\n",
       "      <th>homepage</th>\n",
       "      <th>keywords</th>\n",
       "      <th>original_language</th>\n",
       "      <th>original_title</th>\n",
       "      <th>overview</th>\n",
       "      <th>popularity</th>\n",
       "      <th>production_companies</th>\n",
       "      <th>production_countries</th>\n",
       "      <th>...</th>\n",
       "      <th>runtime</th>\n",
       "      <th>spoken_languages</th>\n",
       "      <th>status</th>\n",
       "      <th>tagline</th>\n",
       "      <th>title</th>\n",
       "      <th>vote_average</th>\n",
       "      <th>vote_count</th>\n",
       "      <th>movie_id</th>\n",
       "      <th>cast</th>\n",
       "      <th>crew</th>\n",
       "    </tr>\n",
       "  </thead>\n",
       "  <tbody>\n",
       "    <tr>\n",
       "      <th>0</th>\n",
       "      <td>237000000</td>\n",
       "      <td>[{\"id\": 28, \"name\": \"Action\"}, {\"id\": 12, \"nam...</td>\n",
       "      <td>http://www.avatarmovie.com/</td>\n",
       "      <td>[{\"id\": 1463, \"name\": \"culture clash\"}, {\"id\":...</td>\n",
       "      <td>en</td>\n",
       "      <td>Avatar</td>\n",
       "      <td>In the 22nd century, a paraplegic Marine is di...</td>\n",
       "      <td>150.437577</td>\n",
       "      <td>[{\"name\": \"Ingenious Film Partners\", \"id\": 289...</td>\n",
       "      <td>[{\"iso_3166_1\": \"US\", \"name\": \"United States o...</td>\n",
       "      <td>...</td>\n",
       "      <td>162.0</td>\n",
       "      <td>[{\"iso_639_1\": \"en\", \"name\": \"English\"}, {\"iso...</td>\n",
       "      <td>Released</td>\n",
       "      <td>Enter the World of Pandora.</td>\n",
       "      <td>Avatar</td>\n",
       "      <td>7.2</td>\n",
       "      <td>11800</td>\n",
       "      <td>19995</td>\n",
       "      <td>[{\"cast_id\": 242, \"character\": \"Jake Sully\", \"...</td>\n",
       "      <td>[{\"credit_id\": \"52fe48009251416c750aca23\", \"de...</td>\n",
       "    </tr>\n",
       "    <tr>\n",
       "      <th>1</th>\n",
       "      <td>300000000</td>\n",
       "      <td>[{\"id\": 12, \"name\": \"Adventure\"}, {\"id\": 14, \"...</td>\n",
       "      <td>http://disney.go.com/disneypictures/pirates/</td>\n",
       "      <td>[{\"id\": 270, \"name\": \"ocean\"}, {\"id\": 726, \"na...</td>\n",
       "      <td>en</td>\n",
       "      <td>Pirates of the Caribbean: At World's End</td>\n",
       "      <td>Captain Barbossa, long believed to be dead, ha...</td>\n",
       "      <td>139.082615</td>\n",
       "      <td>[{\"name\": \"Walt Disney Pictures\", \"id\": 2}, {\"...</td>\n",
       "      <td>[{\"iso_3166_1\": \"US\", \"name\": \"United States o...</td>\n",
       "      <td>...</td>\n",
       "      <td>169.0</td>\n",
       "      <td>[{\"iso_639_1\": \"en\", \"name\": \"English\"}]</td>\n",
       "      <td>Released</td>\n",
       "      <td>At the end of the world, the adventure begins.</td>\n",
       "      <td>Pirates of the Caribbean: At World's End</td>\n",
       "      <td>6.9</td>\n",
       "      <td>4500</td>\n",
       "      <td>285</td>\n",
       "      <td>[{\"cast_id\": 4, \"character\": \"Captain Jack Spa...</td>\n",
       "      <td>[{\"credit_id\": \"52fe4232c3a36847f800b579\", \"de...</td>\n",
       "    </tr>\n",
       "  </tbody>\n",
       "</table>\n",
       "<p>2 rows × 22 columns</p>\n",
       "</div>"
      ],
      "text/plain": [
       "      budget                                             genres  \\\n",
       "0  237000000  [{\"id\": 28, \"name\": \"Action\"}, {\"id\": 12, \"nam...   \n",
       "1  300000000  [{\"id\": 12, \"name\": \"Adventure\"}, {\"id\": 14, \"...   \n",
       "\n",
       "                                       homepage  \\\n",
       "0                   http://www.avatarmovie.com/   \n",
       "1  http://disney.go.com/disneypictures/pirates/   \n",
       "\n",
       "                                            keywords original_language  \\\n",
       "0  [{\"id\": 1463, \"name\": \"culture clash\"}, {\"id\":...                en   \n",
       "1  [{\"id\": 270, \"name\": \"ocean\"}, {\"id\": 726, \"na...                en   \n",
       "\n",
       "                             original_title  \\\n",
       "0                                    Avatar   \n",
       "1  Pirates of the Caribbean: At World's End   \n",
       "\n",
       "                                            overview  popularity  \\\n",
       "0  In the 22nd century, a paraplegic Marine is di...  150.437577   \n",
       "1  Captain Barbossa, long believed to be dead, ha...  139.082615   \n",
       "\n",
       "                                production_companies  \\\n",
       "0  [{\"name\": \"Ingenious Film Partners\", \"id\": 289...   \n",
       "1  [{\"name\": \"Walt Disney Pictures\", \"id\": 2}, {\"...   \n",
       "\n",
       "                                production_countries  \\\n",
       "0  [{\"iso_3166_1\": \"US\", \"name\": \"United States o...   \n",
       "1  [{\"iso_3166_1\": \"US\", \"name\": \"United States o...   \n",
       "\n",
       "                         ...                         runtime  \\\n",
       "0                        ...                           162.0   \n",
       "1                        ...                           169.0   \n",
       "\n",
       "                                    spoken_languages    status  \\\n",
       "0  [{\"iso_639_1\": \"en\", \"name\": \"English\"}, {\"iso...  Released   \n",
       "1           [{\"iso_639_1\": \"en\", \"name\": \"English\"}]  Released   \n",
       "\n",
       "                                          tagline  \\\n",
       "0                     Enter the World of Pandora.   \n",
       "1  At the end of the world, the adventure begins.   \n",
       "\n",
       "                                      title vote_average vote_count  movie_id  \\\n",
       "0                                    Avatar          7.2      11800     19995   \n",
       "1  Pirates of the Caribbean: At World's End          6.9       4500       285   \n",
       "\n",
       "                                                cast  \\\n",
       "0  [{\"cast_id\": 242, \"character\": \"Jake Sully\", \"...   \n",
       "1  [{\"cast_id\": 4, \"character\": \"Captain Jack Spa...   \n",
       "\n",
       "                                                crew  \n",
       "0  [{\"credit_id\": \"52fe48009251416c750aca23\", \"de...  \n",
       "1  [{\"credit_id\": \"52fe4232c3a36847f800b579\", \"de...  \n",
       "\n",
       "[2 rows x 22 columns]"
      ]
     },
     "execution_count": 12,
     "metadata": {},
     "output_type": "execute_result"
    }
   ],
   "source": [
    "# Both id and movie_id refers to movie_id. Also title_right and title_left refers to movie title\n",
    "#Drop the column 'id' from the dataframe allmovies_df. \n",
    "allmovies_df.drop(['id', 'title_right'], axis=1, inplace=True)\n",
    "allmovies_df = allmovies_df.rename(columns={'title_left': 'title'})\n",
    "allmovies_df.head(2)"
   ]
  },
  {
   "cell_type": "code",
   "execution_count": 13,
   "metadata": {
    "collapsed": false,
    "deletable": true,
    "editable": true
   },
   "outputs": [
    {
     "data": {
      "text/html": [
       "<div>\n",
       "<style>\n",
       "    .dataframe thead tr:only-child th {\n",
       "        text-align: right;\n",
       "    }\n",
       "\n",
       "    .dataframe thead th {\n",
       "        text-align: left;\n",
       "    }\n",
       "\n",
       "    .dataframe tbody tr th {\n",
       "        vertical-align: top;\n",
       "    }\n",
       "</style>\n",
       "<table border=\"1\" class=\"dataframe\">\n",
       "  <thead>\n",
       "    <tr style=\"text-align: right;\">\n",
       "      <th></th>\n",
       "      <th>movie_id</th>\n",
       "      <th>budget</th>\n",
       "      <th>title</th>\n",
       "      <th>original_title</th>\n",
       "      <th>status</th>\n",
       "      <th>tagline</th>\n",
       "      <th>release_date</th>\n",
       "      <th>runtime</th>\n",
       "      <th>genres</th>\n",
       "      <th>production_companies</th>\n",
       "      <th>...</th>\n",
       "      <th>revenue</th>\n",
       "      <th>vote_average</th>\n",
       "      <th>vote_count</th>\n",
       "      <th>cast</th>\n",
       "      <th>crew</th>\n",
       "      <th>homepage</th>\n",
       "      <th>keywords</th>\n",
       "      <th>original_language</th>\n",
       "      <th>overview</th>\n",
       "      <th>spoken_languages</th>\n",
       "    </tr>\n",
       "  </thead>\n",
       "  <tbody>\n",
       "    <tr>\n",
       "      <th>0</th>\n",
       "      <td>19995</td>\n",
       "      <td>237000000</td>\n",
       "      <td>Avatar</td>\n",
       "      <td>Avatar</td>\n",
       "      <td>Released</td>\n",
       "      <td>Enter the World of Pandora.</td>\n",
       "      <td>2009-12-10</td>\n",
       "      <td>162.0</td>\n",
       "      <td>[{\"id\": 28, \"name\": \"Action\"}, {\"id\": 12, \"nam...</td>\n",
       "      <td>[{\"name\": \"Ingenious Film Partners\", \"id\": 289...</td>\n",
       "      <td>...</td>\n",
       "      <td>2787965087</td>\n",
       "      <td>7.2</td>\n",
       "      <td>11800</td>\n",
       "      <td>[{\"cast_id\": 242, \"character\": \"Jake Sully\", \"...</td>\n",
       "      <td>[{\"credit_id\": \"52fe48009251416c750aca23\", \"de...</td>\n",
       "      <td>http://www.avatarmovie.com/</td>\n",
       "      <td>[{\"id\": 1463, \"name\": \"culture clash\"}, {\"id\":...</td>\n",
       "      <td>en</td>\n",
       "      <td>In the 22nd century, a paraplegic Marine is di...</td>\n",
       "      <td>[{\"iso_639_1\": \"en\", \"name\": \"English\"}, {\"iso...</td>\n",
       "    </tr>\n",
       "    <tr>\n",
       "      <th>1</th>\n",
       "      <td>285</td>\n",
       "      <td>300000000</td>\n",
       "      <td>Pirates of the Caribbean: At World's End</td>\n",
       "      <td>Pirates of the Caribbean: At World's End</td>\n",
       "      <td>Released</td>\n",
       "      <td>At the end of the world, the adventure begins.</td>\n",
       "      <td>2007-05-19</td>\n",
       "      <td>169.0</td>\n",
       "      <td>[{\"id\": 12, \"name\": \"Adventure\"}, {\"id\": 14, \"...</td>\n",
       "      <td>[{\"name\": \"Walt Disney Pictures\", \"id\": 2}, {\"...</td>\n",
       "      <td>...</td>\n",
       "      <td>961000000</td>\n",
       "      <td>6.9</td>\n",
       "      <td>4500</td>\n",
       "      <td>[{\"cast_id\": 4, \"character\": \"Captain Jack Spa...</td>\n",
       "      <td>[{\"credit_id\": \"52fe4232c3a36847f800b579\", \"de...</td>\n",
       "      <td>http://disney.go.com/disneypictures/pirates/</td>\n",
       "      <td>[{\"id\": 270, \"name\": \"ocean\"}, {\"id\": 726, \"na...</td>\n",
       "      <td>en</td>\n",
       "      <td>Captain Barbossa, long believed to be dead, ha...</td>\n",
       "      <td>[{\"iso_639_1\": \"en\", \"name\": \"English\"}]</td>\n",
       "    </tr>\n",
       "  </tbody>\n",
       "</table>\n",
       "<p>2 rows × 22 columns</p>\n",
       "</div>"
      ],
      "text/plain": [
       "   movie_id     budget                                     title  \\\n",
       "0     19995  237000000                                    Avatar   \n",
       "1       285  300000000  Pirates of the Caribbean: At World's End   \n",
       "\n",
       "                             original_title    status  \\\n",
       "0                                    Avatar  Released   \n",
       "1  Pirates of the Caribbean: At World's End  Released   \n",
       "\n",
       "                                          tagline release_date  runtime  \\\n",
       "0                     Enter the World of Pandora.   2009-12-10    162.0   \n",
       "1  At the end of the world, the adventure begins.   2007-05-19    169.0   \n",
       "\n",
       "                                              genres  \\\n",
       "0  [{\"id\": 28, \"name\": \"Action\"}, {\"id\": 12, \"nam...   \n",
       "1  [{\"id\": 12, \"name\": \"Adventure\"}, {\"id\": 14, \"...   \n",
       "\n",
       "                                production_companies  \\\n",
       "0  [{\"name\": \"Ingenious Film Partners\", \"id\": 289...   \n",
       "1  [{\"name\": \"Walt Disney Pictures\", \"id\": 2}, {\"...   \n",
       "\n",
       "                         ...                             revenue  \\\n",
       "0                        ...                          2787965087   \n",
       "1                        ...                           961000000   \n",
       "\n",
       "   vote_average  vote_count  \\\n",
       "0           7.2       11800   \n",
       "1           6.9        4500   \n",
       "\n",
       "                                                cast  \\\n",
       "0  [{\"cast_id\": 242, \"character\": \"Jake Sully\", \"...   \n",
       "1  [{\"cast_id\": 4, \"character\": \"Captain Jack Spa...   \n",
       "\n",
       "                                                crew  \\\n",
       "0  [{\"credit_id\": \"52fe48009251416c750aca23\", \"de...   \n",
       "1  [{\"credit_id\": \"52fe4232c3a36847f800b579\", \"de...   \n",
       "\n",
       "                                       homepage  \\\n",
       "0                   http://www.avatarmovie.com/   \n",
       "1  http://disney.go.com/disneypictures/pirates/   \n",
       "\n",
       "                                            keywords original_language  \\\n",
       "0  [{\"id\": 1463, \"name\": \"culture clash\"}, {\"id\":...                en   \n",
       "1  [{\"id\": 270, \"name\": \"ocean\"}, {\"id\": 726, \"na...                en   \n",
       "\n",
       "                                            overview  \\\n",
       "0  In the 22nd century, a paraplegic Marine is di...   \n",
       "1  Captain Barbossa, long believed to be dead, ha...   \n",
       "\n",
       "                                    spoken_languages  \n",
       "0  [{\"iso_639_1\": \"en\", \"name\": \"English\"}, {\"iso...  \n",
       "1           [{\"iso_639_1\": \"en\", \"name\": \"English\"}]  \n",
       "\n",
       "[2 rows x 22 columns]"
      ]
     },
     "execution_count": 13,
     "metadata": {},
     "output_type": "execute_result"
    }
   ],
   "source": [
    "#Change the order of the dataframe allmovies_df\n",
    "allmovies_df = allmovies_df[['movie_id', 'budget', 'title', 'original_title', 'status', 'tagline', 'release_date', 'runtime', \n",
    "               'genres', 'production_companies', 'production_countries', 'popularity', 'revenue', 'vote_average',\n",
    "               'vote_count', 'cast', 'crew', 'homepage', 'keywords', 'original_language', 'overview', 'spoken_languages'\n",
    "             ]]\n",
    "allmovies_df.head(2)"
   ]
  },
  {
   "cell_type": "code",
   "execution_count": 16,
   "metadata": {
    "collapsed": false,
    "deletable": true,
    "editable": true
   },
   "outputs": [],
   "source": [
    "allm = allmovies_df.copy() #just for backup"
   ]
  },
  {
   "cell_type": "markdown",
   "metadata": {
    "deletable": true,
    "editable": true
   },
   "source": [
    "### 2.2) Analysis of JSON Objects - Genres, Cast, Crew, production_companies, production_countries, spoken_languages, keywords,"
   ]
  },
  {
   "cell_type": "markdown",
   "metadata": {
    "deletable": true,
    "editable": true
   },
   "source": [
    "While analysing the JSON objects, I found the following.  \n",
    "1) Crew object has the list of all the crews from director, editing, photography etc. I decided to pick only the details corresponding to the director  \n",
    "2) Cast object has the list of all the actors in the movie in the order of importance. I decided to pick only the cast members of the first order as the data is becoming too huge.  \n",
    "    - Some of the cast names were coming out incorrectly. Eg: 'Miguel A. N\\u00fa\\u00f1ez, Jr.' was parsed to have the result as just 'Jr' and this name is irrelevant. To avoid this, I have used the encoding to be utf-8 and also doing some stripping of space to make the entire name (first name, last name) to become the single name.  \n",
    "3) Production companies: I'm considering only the top most production companies that have made box office hits. This list is provided in prodco.  \n",
    "Hence parsing the crew, cast & prod companies objects are considered separately.  "
   ]
  },
  {
   "cell_type": "code",
   "execution_count": 17,
   "metadata": {
    "collapsed": true
   },
   "outputs": [],
   "source": [
    "#parse json input\n",
    "#NOTE: I'm parsing crew, cast and production companies separately.\n",
    "json_columns = ['genres', 'keywords', 'production_countries', 'spoken_languages']"
   ]
  },
  {
   "cell_type": "markdown",
   "metadata": {},
   "source": [
    "### JSON Encoder\n",
    "#Deserialize s (a str or unicode instance containing a JSON document) to a Python object. "
   ]
  },
  {
   "cell_type": "code",
   "execution_count": 18,
   "metadata": {
    "collapsed": false,
    "deletable": true,
    "editable": true
   },
   "outputs": [],
   "source": [
    "for column in json_columns:\n",
    "    allmovies_df[column] = allmovies_df[column].apply(json.loads, encoding=\"utf-8\")\n",
    "allmovies_df['crew'] = allmovies_df['crew'].apply(json.loads, encoding=\"utf-8\")    \n",
    "allmovies_df['cast'] = allmovies_df['cast'].apply(json.loads, encoding=\"utf-8\")    \n",
    "allmovies_df['production_companies'] = allmovies_df['production_companies'].apply(json.loads, encoding=\"utf-8\")"
   ]
  },
  {
   "cell_type": "markdown",
   "metadata": {},
   "source": [
    "### Function to process the JSON objects Genres, Keywords, Production Countries, Spoken languages.\n",
    "In columns 'keywords', 'production_countries', 'spoken_languages', the structure is not nested and is simply id and name. I'm basically fetching the value of the key name for these columns."
   ]
  },
  {
   "cell_type": "code",
   "execution_count": 19,
   "metadata": {
    "collapsed": true,
    "deletable": true,
    "editable": true
   },
   "outputs": [],
   "source": [
    "def process_jsoncols(colname):\n",
    "    jsoncollist=[]\n",
    "    for x in colname:\n",
    "        jsoncollist.append(x['name'])\n",
    "    return jsoncollist"
   ]
  },
  {
   "cell_type": "code",
   "execution_count": 20,
   "metadata": {
    "collapsed": true,
    "deletable": true,
    "editable": true
   },
   "outputs": [],
   "source": [
    "for colname in json_columns:\n",
    "    allmovies_df[colname] = allmovies_df[colname].apply(process_jsoncols)"
   ]
  },
  {
   "cell_type": "code",
   "execution_count": 21,
   "metadata": {
    "collapsed": false
   },
   "outputs": [
    {
     "data": {
      "text/html": [
       "<div>\n",
       "<style>\n",
       "    .dataframe thead tr:only-child th {\n",
       "        text-align: right;\n",
       "    }\n",
       "\n",
       "    .dataframe thead th {\n",
       "        text-align: left;\n",
       "    }\n",
       "\n",
       "    .dataframe tbody tr th {\n",
       "        vertical-align: top;\n",
       "    }\n",
       "</style>\n",
       "<table border=\"1\" class=\"dataframe\">\n",
       "  <thead>\n",
       "    <tr style=\"text-align: right;\">\n",
       "      <th></th>\n",
       "      <th>genres</th>\n",
       "      <th>keywords</th>\n",
       "      <th>production_countries</th>\n",
       "      <th>spoken_languages</th>\n",
       "    </tr>\n",
       "  </thead>\n",
       "  <tbody>\n",
       "    <tr>\n",
       "      <th>0</th>\n",
       "      <td>[Action, Adventure, Fantasy, Science Fiction]</td>\n",
       "      <td>[culture clash, future, space war, space colon...</td>\n",
       "      <td>[United States of America, United Kingdom]</td>\n",
       "      <td>[English, Español]</td>\n",
       "    </tr>\n",
       "    <tr>\n",
       "      <th>1</th>\n",
       "      <td>[Adventure, Fantasy, Action]</td>\n",
       "      <td>[ocean, drug abuse, exotic island, east india ...</td>\n",
       "      <td>[United States of America]</td>\n",
       "      <td>[English]</td>\n",
       "    </tr>\n",
       "    <tr>\n",
       "      <th>2</th>\n",
       "      <td>[Action, Adventure, Crime]</td>\n",
       "      <td>[spy, based on novel, secret agent, sequel, mi...</td>\n",
       "      <td>[United Kingdom, United States of America]</td>\n",
       "      <td>[Français, English, Español, Italiano, Deutsch]</td>\n",
       "    </tr>\n",
       "    <tr>\n",
       "      <th>3</th>\n",
       "      <td>[Action, Crime, Drama, Thriller]</td>\n",
       "      <td>[dc comics, crime fighter, terrorist, secret i...</td>\n",
       "      <td>[United States of America]</td>\n",
       "      <td>[English]</td>\n",
       "    </tr>\n",
       "    <tr>\n",
       "      <th>4</th>\n",
       "      <td>[Action, Adventure, Science Fiction]</td>\n",
       "      <td>[based on novel, mars, medallion, space travel...</td>\n",
       "      <td>[United States of America]</td>\n",
       "      <td>[English]</td>\n",
       "    </tr>\n",
       "  </tbody>\n",
       "</table>\n",
       "</div>"
      ],
      "text/plain": [
       "                                          genres  \\\n",
       "0  [Action, Adventure, Fantasy, Science Fiction]   \n",
       "1                   [Adventure, Fantasy, Action]   \n",
       "2                     [Action, Adventure, Crime]   \n",
       "3               [Action, Crime, Drama, Thriller]   \n",
       "4           [Action, Adventure, Science Fiction]   \n",
       "\n",
       "                                            keywords  \\\n",
       "0  [culture clash, future, space war, space colon...   \n",
       "1  [ocean, drug abuse, exotic island, east india ...   \n",
       "2  [spy, based on novel, secret agent, sequel, mi...   \n",
       "3  [dc comics, crime fighter, terrorist, secret i...   \n",
       "4  [based on novel, mars, medallion, space travel...   \n",
       "\n",
       "                         production_countries  \\\n",
       "0  [United States of America, United Kingdom]   \n",
       "1                  [United States of America]   \n",
       "2  [United Kingdom, United States of America]   \n",
       "3                  [United States of America]   \n",
       "4                  [United States of America]   \n",
       "\n",
       "                                  spoken_languages  \n",
       "0                               [English, Español]  \n",
       "1                                        [English]  \n",
       "2  [Français, English, Español, Italiano, Deutsch]  \n",
       "3                                        [English]  \n",
       "4                                        [English]  "
      ]
     },
     "execution_count": 21,
     "metadata": {},
     "output_type": "execute_result"
    }
   ],
   "source": [
    "allmovies_df[['genres', 'keywords', 'production_countries', 'spoken_languages']].head()"
   ]
  },
  {
   "cell_type": "markdown",
   "metadata": {},
   "source": [
    "### Function to process the JSON object Production Companies\n",
    "I'm considering only the top most production companies that have made box office hits. This list is provided in prodco_list."
   ]
  },
  {
   "cell_type": "code",
   "execution_count": 22,
   "metadata": {
    "collapsed": false,
    "deletable": true,
    "editable": true
   },
   "outputs": [],
   "source": [
    "allmovies_df['production_companies'] = allmovies_df['production_companies'].apply(process_jsoncols)"
   ]
  },
  {
   "cell_type": "code",
   "execution_count": 23,
   "metadata": {
    "collapsed": false
   },
   "outputs": [
    {
     "data": {
      "text/plain": [
       "0    [Ingenious Film Partners, Twentieth Century Fo...\n",
       "1    [Walt Disney Pictures, Jerry Bruckheimer Films...\n",
       "Name: production_companies, dtype: object"
      ]
     },
     "execution_count": 23,
     "metadata": {},
     "output_type": "execute_result"
    }
   ],
   "source": [
    "allmovies_df['production_companies'].head(2)"
   ]
  },
  {
   "cell_type": "markdown",
   "metadata": {},
   "source": [
    "### Function to process the JSON object Cast\n",
    "I'm considering only the leading actor with order =0 as the list of actors results in huge list. Just to keep my sanity intact."
   ]
  },
  {
   "cell_type": "code",
   "execution_count": 24,
   "metadata": {
    "collapsed": false
   },
   "outputs": [],
   "source": [
    "for index,x in zip(allmovies_df.index,allmovies_df['cast']):\n",
    "    castlist=[]\n",
    "    for i in range(len(x)):\n",
    "        if (x[i]['order'] < 1):\n",
    "            castlist.append((x[i]['name']))\n",
    "    allmovies_df.loc[index,'cast']=str(castlist)"
   ]
  },
  {
   "cell_type": "code",
   "execution_count": 25,
   "metadata": {
    "collapsed": false
   },
   "outputs": [
    {
     "data": {
      "text/plain": [
       "0    ['Sam Worthington']\n",
       "1        ['Johnny Depp']\n",
       "Name: cast, dtype: object"
      ]
     },
     "execution_count": 25,
     "metadata": {},
     "output_type": "execute_result"
    }
   ],
   "source": [
    "allmovies_df['cast'].head(2)"
   ]
  },
  {
   "cell_type": "code",
   "execution_count": 26,
   "metadata": {
    "collapsed": false
   },
   "outputs": [],
   "source": [
    "#allmovies_df['cast'] = allmovies_df['cast'].str.strip('[]').str.replace(\"'\",'').str.replace('\"','').str.replace(' ','').str.replace(',Jr.','Jr.')\n",
    "allmovies_df['cast'] = allmovies_df['cast'].str.strip('[]').str.replace(\"'\",'').str.replace('\"','').str.replace(' ','')"
   ]
  },
  {
   "cell_type": "code",
   "execution_count": 27,
   "metadata": {
    "collapsed": false,
    "deletable": true,
    "editable": true
   },
   "outputs": [
    {
     "data": {
      "text/html": [
       "<div>\n",
       "<style>\n",
       "    .dataframe thead tr:only-child th {\n",
       "        text-align: right;\n",
       "    }\n",
       "\n",
       "    .dataframe thead th {\n",
       "        text-align: left;\n",
       "    }\n",
       "\n",
       "    .dataframe tbody tr th {\n",
       "        vertical-align: top;\n",
       "    }\n",
       "</style>\n",
       "<table border=\"1\" class=\"dataframe\">\n",
       "  <thead>\n",
       "    <tr style=\"text-align: right;\">\n",
       "      <th></th>\n",
       "      <th>movie_id</th>\n",
       "      <th>budget</th>\n",
       "      <th>title</th>\n",
       "      <th>original_title</th>\n",
       "      <th>status</th>\n",
       "      <th>tagline</th>\n",
       "      <th>release_date</th>\n",
       "      <th>runtime</th>\n",
       "      <th>genres</th>\n",
       "      <th>production_companies</th>\n",
       "      <th>...</th>\n",
       "      <th>revenue</th>\n",
       "      <th>vote_average</th>\n",
       "      <th>vote_count</th>\n",
       "      <th>cast</th>\n",
       "      <th>crew</th>\n",
       "      <th>homepage</th>\n",
       "      <th>keywords</th>\n",
       "      <th>original_language</th>\n",
       "      <th>overview</th>\n",
       "      <th>spoken_languages</th>\n",
       "    </tr>\n",
       "  </thead>\n",
       "  <tbody>\n",
       "  </tbody>\n",
       "</table>\n",
       "<p>0 rows × 22 columns</p>\n",
       "</div>"
      ],
      "text/plain": [
       "Empty DataFrame\n",
       "Columns: [movie_id, budget, title, original_title, status, tagline, release_date, runtime, genres, production_companies, production_countries, popularity, revenue, vote_average, vote_count, cast, crew, homepage, keywords, original_language, overview, spoken_languages]\n",
       "Index: []\n",
       "\n",
       "[0 rows x 22 columns]"
      ]
     },
     "execution_count": 27,
     "metadata": {},
     "output_type": "execute_result"
    }
   ],
   "source": [
    "#Checking to see all the information is correct.\n",
    "allmovies_df[allmovies_df['cast'].isnull()]"
   ]
  },
  {
   "cell_type": "code",
   "execution_count": 28,
   "metadata": {
    "collapsed": false
   },
   "outputs": [
    {
     "data": {
      "text/plain": [
       "0    SamWorthington\n",
       "1        JohnnyDepp\n",
       "Name: cast, dtype: object"
      ]
     },
     "execution_count": 28,
     "metadata": {},
     "output_type": "execute_result"
    }
   ],
   "source": [
    "allmovies_df['cast'].head(2)"
   ]
  },
  {
   "cell_type": "markdown",
   "metadata": {},
   "source": [
    "### Function to process the JSON object Crew\n",
    "I'm considering only the directors from the list of all movie crew"
   ]
  },
  {
   "cell_type": "code",
   "execution_count": 30,
   "metadata": {
    "collapsed": false
   },
   "outputs": [],
   "source": [
    "for index,x in zip(allmovies_df.index,allmovies_df['crew']):\n",
    "    crewlist=[]\n",
    "    for i in range(len(x)):\n",
    "        if (x[i]['job'] == 'Director'):\n",
    "            crewlist.append((x[i]['name']))\n",
    "    allmovies_df.loc[index,'crew']=str(crewlist)"
   ]
  },
  {
   "cell_type": "code",
   "execution_count": 31,
   "metadata": {
    "collapsed": true,
    "deletable": true,
    "editable": true
   },
   "outputs": [],
   "source": [
    "#def process_jsoncol_crew(colname):\n",
    "#    crewlist=[]\n",
    "#    for x in colname:\n",
    "#        if x['job'] == 'Director':\n",
    "#            crewlist.append(x['name'])\n",
    "#            return crewlist"
   ]
  },
  {
   "cell_type": "code",
   "execution_count": 32,
   "metadata": {
    "collapsed": true,
    "deletable": true,
    "editable": true
   },
   "outputs": [],
   "source": [
    "#allmovies_df['crew'] = allmovies_df['crew'].apply(process_jsoncol_crew)"
   ]
  },
  {
   "cell_type": "code",
   "execution_count": 33,
   "metadata": {
    "collapsed": true
   },
   "outputs": [],
   "source": [
    "#for index,x in zip(allmovies_df.index,allmovies_df['crew']):\n",
    "#    crewlist=[]\n",
    "#    for i in range(len(x)):\n",
    "#        if (x[i]['job'] == 'Director'):\n",
    "#            print(x[i]['job'])\n",
    "#            crewlist.append((x[i]['job']))\n",
    "#            print(crewlist)\n",
    "#    allmovies_df.loc[index,'crew']=str(crewlist)"
   ]
  },
  {
   "cell_type": "code",
   "execution_count": 34,
   "metadata": {
    "collapsed": false
   },
   "outputs": [
    {
     "data": {
      "text/plain": [
       "0     ['James Cameron']\n",
       "1    ['Gore Verbinski']\n",
       "Name: crew, dtype: object"
      ]
     },
     "execution_count": 34,
     "metadata": {},
     "output_type": "execute_result"
    }
   ],
   "source": [
    "allmovies_df['crew'].head(2)"
   ]
  },
  {
   "cell_type": "code",
   "execution_count": 35,
   "metadata": {
    "collapsed": false
   },
   "outputs": [
    {
     "data": {
      "text/plain": [
       "0"
      ]
     },
     "execution_count": 35,
     "metadata": {},
     "output_type": "execute_result"
    }
   ],
   "source": [
    "allmovies_df['crew'].isnull().sum()"
   ]
  },
  {
   "cell_type": "code",
   "execution_count": 36,
   "metadata": {
    "collapsed": true
   },
   "outputs": [],
   "source": [
    "#allmovies_df['cast'] = allmovies_df['cast'].str.strip('[]').str.replace(\"'\",'').str.replace('\"','').str.replace(' ','').str.replace(',Jr.','Jr.')\n",
    "allmovies_df['crew'] = allmovies_df['crew'].str.strip('[]').str.replace(\"'\",'').str.replace('\"','').str.replace(' ','')"
   ]
  },
  {
   "cell_type": "code",
   "execution_count": 37,
   "metadata": {
    "collapsed": false
   },
   "outputs": [
    {
     "data": {
      "text/plain": [
       "0     JamesCameron\n",
       "1    GoreVerbinski\n",
       "Name: crew, dtype: object"
      ]
     },
     "execution_count": 37,
     "metadata": {},
     "output_type": "execute_result"
    }
   ],
   "source": [
    "allmovies_df['crew'].head(2)"
   ]
  },
  {
   "cell_type": "markdown",
   "metadata": {},
   "source": [
    "### Convert Pandas Dataframe Column of Lists to string. \n",
    "The impacted columns are genres, keywords, production_countries, spoken_languages, production_companies. NOTE: crew and cast are not column of lists"
   ]
  },
  {
   "cell_type": "code",
   "execution_count": 39,
   "metadata": {
    "collapsed": true
   },
   "outputs": [],
   "source": [
    "listcols = ['genres', 'keywords', 'production_countries', 'production_companies', 'spoken_languages']"
   ]
  },
  {
   "cell_type": "code",
   "execution_count": 40,
   "metadata": {
    "collapsed": false
   },
   "outputs": [],
   "source": [
    "for colname in listcols:\n",
    "    allmovies_df[colname] = allmovies_df[colname].apply(lambda x: ','.join(map(str, x)))"
   ]
  },
  {
   "cell_type": "code",
   "execution_count": 41,
   "metadata": {
    "collapsed": false
   },
   "outputs": [
    {
     "data": {
      "text/html": [
       "<div>\n",
       "<style>\n",
       "    .dataframe thead tr:only-child th {\n",
       "        text-align: right;\n",
       "    }\n",
       "\n",
       "    .dataframe thead th {\n",
       "        text-align: left;\n",
       "    }\n",
       "\n",
       "    .dataframe tbody tr th {\n",
       "        vertical-align: top;\n",
       "    }\n",
       "</style>\n",
       "<table border=\"1\" class=\"dataframe\">\n",
       "  <thead>\n",
       "    <tr style=\"text-align: right;\">\n",
       "      <th></th>\n",
       "      <th>movie_id</th>\n",
       "      <th>budget</th>\n",
       "      <th>title</th>\n",
       "      <th>original_title</th>\n",
       "      <th>status</th>\n",
       "      <th>tagline</th>\n",
       "      <th>release_date</th>\n",
       "      <th>runtime</th>\n",
       "      <th>genres</th>\n",
       "      <th>production_companies</th>\n",
       "      <th>...</th>\n",
       "      <th>revenue</th>\n",
       "      <th>vote_average</th>\n",
       "      <th>vote_count</th>\n",
       "      <th>cast</th>\n",
       "      <th>crew</th>\n",
       "      <th>homepage</th>\n",
       "      <th>keywords</th>\n",
       "      <th>original_language</th>\n",
       "      <th>overview</th>\n",
       "      <th>spoken_languages</th>\n",
       "    </tr>\n",
       "  </thead>\n",
       "  <tbody>\n",
       "    <tr>\n",
       "      <th>0</th>\n",
       "      <td>19995</td>\n",
       "      <td>237000000</td>\n",
       "      <td>Avatar</td>\n",
       "      <td>Avatar</td>\n",
       "      <td>Released</td>\n",
       "      <td>Enter the World of Pandora.</td>\n",
       "      <td>2009-12-10</td>\n",
       "      <td>162.0</td>\n",
       "      <td>Action,Adventure,Fantasy,Science Fiction</td>\n",
       "      <td>Ingenious Film Partners,Twentieth Century Fox ...</td>\n",
       "      <td>...</td>\n",
       "      <td>2787965087</td>\n",
       "      <td>7.2</td>\n",
       "      <td>11800</td>\n",
       "      <td>SamWorthington</td>\n",
       "      <td>JamesCameron</td>\n",
       "      <td>http://www.avatarmovie.com/</td>\n",
       "      <td>culture clash,future,space war,space colony,so...</td>\n",
       "      <td>en</td>\n",
       "      <td>In the 22nd century, a paraplegic Marine is di...</td>\n",
       "      <td>English,Español</td>\n",
       "    </tr>\n",
       "    <tr>\n",
       "      <th>1</th>\n",
       "      <td>285</td>\n",
       "      <td>300000000</td>\n",
       "      <td>Pirates of the Caribbean: At World's End</td>\n",
       "      <td>Pirates of the Caribbean: At World's End</td>\n",
       "      <td>Released</td>\n",
       "      <td>At the end of the world, the adventure begins.</td>\n",
       "      <td>2007-05-19</td>\n",
       "      <td>169.0</td>\n",
       "      <td>Adventure,Fantasy,Action</td>\n",
       "      <td>Walt Disney Pictures,Jerry Bruckheimer Films,S...</td>\n",
       "      <td>...</td>\n",
       "      <td>961000000</td>\n",
       "      <td>6.9</td>\n",
       "      <td>4500</td>\n",
       "      <td>JohnnyDepp</td>\n",
       "      <td>GoreVerbinski</td>\n",
       "      <td>http://disney.go.com/disneypictures/pirates/</td>\n",
       "      <td>ocean,drug abuse,exotic island,east india trad...</td>\n",
       "      <td>en</td>\n",
       "      <td>Captain Barbossa, long believed to be dead, ha...</td>\n",
       "      <td>English</td>\n",
       "    </tr>\n",
       "  </tbody>\n",
       "</table>\n",
       "<p>2 rows × 22 columns</p>\n",
       "</div>"
      ],
      "text/plain": [
       "   movie_id     budget                                     title  \\\n",
       "0     19995  237000000                                    Avatar   \n",
       "1       285  300000000  Pirates of the Caribbean: At World's End   \n",
       "\n",
       "                             original_title    status  \\\n",
       "0                                    Avatar  Released   \n",
       "1  Pirates of the Caribbean: At World's End  Released   \n",
       "\n",
       "                                          tagline release_date  runtime  \\\n",
       "0                     Enter the World of Pandora.   2009-12-10    162.0   \n",
       "1  At the end of the world, the adventure begins.   2007-05-19    169.0   \n",
       "\n",
       "                                     genres  \\\n",
       "0  Action,Adventure,Fantasy,Science Fiction   \n",
       "1                  Adventure,Fantasy,Action   \n",
       "\n",
       "                                production_companies       ...         \\\n",
       "0  Ingenious Film Partners,Twentieth Century Fox ...       ...          \n",
       "1  Walt Disney Pictures,Jerry Bruckheimer Films,S...       ...          \n",
       "\n",
       "      revenue  vote_average  vote_count            cast           crew  \\\n",
       "0  2787965087           7.2       11800  SamWorthington   JamesCameron   \n",
       "1   961000000           6.9        4500      JohnnyDepp  GoreVerbinski   \n",
       "\n",
       "                                       homepage  \\\n",
       "0                   http://www.avatarmovie.com/   \n",
       "1  http://disney.go.com/disneypictures/pirates/   \n",
       "\n",
       "                                            keywords original_language  \\\n",
       "0  culture clash,future,space war,space colony,so...                en   \n",
       "1  ocean,drug abuse,exotic island,east india trad...                en   \n",
       "\n",
       "                                            overview spoken_languages  \n",
       "0  In the 22nd century, a paraplegic Marine is di...  English,Español  \n",
       "1  Captain Barbossa, long believed to be dead, ha...          English  \n",
       "\n",
       "[2 rows x 22 columns]"
      ]
     },
     "execution_count": 41,
     "metadata": {},
     "output_type": "execute_result"
    }
   ],
   "source": [
    "allmovies_df.head(2)"
   ]
  },
  {
   "cell_type": "markdown",
   "metadata": {
    "deletable": true,
    "editable": true
   },
   "source": [
    "### 2.3) Create new features release year and month based on Release date"
   ]
  },
  {
   "cell_type": "code",
   "execution_count": 43,
   "metadata": {
    "collapsed": false,
    "deletable": true,
    "editable": true
   },
   "outputs": [],
   "source": [
    "from datetime import datetime\n",
    "allmovies_df['release_date'] = pd.to_datetime(allmovies_df['release_date'])"
   ]
  },
  {
   "cell_type": "code",
   "execution_count": 44,
   "metadata": {
    "collapsed": false,
    "deletable": true,
    "editable": true
   },
   "outputs": [],
   "source": [
    "allmovies_df['release_year'] = allmovies_df['release_date'].dt.year\n",
    "allmovies_df['release_month'] = allmovies_df['release_date'].dt.month"
   ]
  },
  {
   "cell_type": "code",
   "execution_count": 45,
   "metadata": {
    "collapsed": false,
    "deletable": true,
    "editable": true
   },
   "outputs": [
    {
     "data": {
      "text/html": [
       "<div>\n",
       "<style>\n",
       "    .dataframe thead tr:only-child th {\n",
       "        text-align: right;\n",
       "    }\n",
       "\n",
       "    .dataframe thead th {\n",
       "        text-align: left;\n",
       "    }\n",
       "\n",
       "    .dataframe tbody tr th {\n",
       "        vertical-align: top;\n",
       "    }\n",
       "</style>\n",
       "<table border=\"1\" class=\"dataframe\">\n",
       "  <thead>\n",
       "    <tr style=\"text-align: right;\">\n",
       "      <th></th>\n",
       "      <th>release_year</th>\n",
       "      <th>release_month</th>\n",
       "    </tr>\n",
       "  </thead>\n",
       "  <tbody>\n",
       "    <tr>\n",
       "      <th>0</th>\n",
       "      <td>2009.0</td>\n",
       "      <td>12.0</td>\n",
       "    </tr>\n",
       "    <tr>\n",
       "      <th>1</th>\n",
       "      <td>2007.0</td>\n",
       "      <td>5.0</td>\n",
       "    </tr>\n",
       "  </tbody>\n",
       "</table>\n",
       "</div>"
      ],
      "text/plain": [
       "   release_year  release_month\n",
       "0        2009.0           12.0\n",
       "1        2007.0            5.0"
      ]
     },
     "execution_count": 45,
     "metadata": {},
     "output_type": "execute_result"
    }
   ],
   "source": [
    "allmovies_df[['release_year','release_month']].head(2)"
   ]
  },
  {
   "cell_type": "code",
   "execution_count": 46,
   "metadata": {
    "collapsed": true
   },
   "outputs": [],
   "source": [
    "#another backup\n",
    "afterjson = allmovies_df.copy()"
   ]
  },
  {
   "cell_type": "markdown",
   "metadata": {
    "deletable": true,
    "editable": true
   },
   "source": [
    "## 3) Exploratory Data Analysis"
   ]
  },
  {
   "cell_type": "markdown",
   "metadata": {
    "collapsed": false,
    "deletable": true,
    "editable": true
   },
   "source": [
    "1) create new dataframe with the genres related to movies and visually draw out some conclusions  \n",
    "2) create new dataframe with the cast related to movies and visually draw out some conclusions  \n",
    "3) create new dataframe with the crew related to movies and visually draw out some conclusions  \n",
    "4) create new dataframe with the production companies and visually draw out some conclusions  \n",
    "5) Draw out plots based on release year and month  \n",
    "\n",
    "I'm going to consider only the following fields: 'movie_id', 'budget', 'title','release_year', 'release_month','revenue','vote_average','vote_count','original_language'  \n",
    "Ignoring the following fields: original_title, status, tagline, release_date, runtime, popularity, homepage, overview,    \n",
    "spoken_languages  "
   ]
  },
  {
   "cell_type": "markdown",
   "metadata": {
    "deletable": true,
    "editable": true
   },
   "source": [
    "### 3.1) Creation of Movies genres dataframe "
   ]
  },
  {
   "cell_type": "code",
   "execution_count": 47,
   "metadata": {
    "collapsed": false,
    "deletable": true,
    "editable": true
   },
   "outputs": [],
   "source": [
    "movies_genres = pd.DataFrame(allmovies_df[['movie_id', 'budget', 'title','release_year', 'release_month','genres','revenue','vote_average','vote_count','original_language']])"
   ]
  },
  {
   "cell_type": "code",
   "execution_count": 48,
   "metadata": {
    "collapsed": false,
    "deletable": true,
    "editable": true
   },
   "outputs": [
    {
     "data": {
      "text/html": [
       "<div>\n",
       "<style>\n",
       "    .dataframe thead tr:only-child th {\n",
       "        text-align: right;\n",
       "    }\n",
       "\n",
       "    .dataframe thead th {\n",
       "        text-align: left;\n",
       "    }\n",
       "\n",
       "    .dataframe tbody tr th {\n",
       "        vertical-align: top;\n",
       "    }\n",
       "</style>\n",
       "<table border=\"1\" class=\"dataframe\">\n",
       "  <thead>\n",
       "    <tr style=\"text-align: right;\">\n",
       "      <th></th>\n",
       "      <th>movie_id</th>\n",
       "      <th>budget</th>\n",
       "      <th>title</th>\n",
       "      <th>release_year</th>\n",
       "      <th>release_month</th>\n",
       "      <th>genres</th>\n",
       "      <th>revenue</th>\n",
       "      <th>vote_average</th>\n",
       "      <th>vote_count</th>\n",
       "      <th>original_language</th>\n",
       "    </tr>\n",
       "  </thead>\n",
       "  <tbody>\n",
       "    <tr>\n",
       "      <th>0</th>\n",
       "      <td>19995</td>\n",
       "      <td>237000000</td>\n",
       "      <td>Avatar</td>\n",
       "      <td>2009.0</td>\n",
       "      <td>12.0</td>\n",
       "      <td>Action,Adventure,Fantasy,Science Fiction</td>\n",
       "      <td>2787965087</td>\n",
       "      <td>7.2</td>\n",
       "      <td>11800</td>\n",
       "      <td>en</td>\n",
       "    </tr>\n",
       "    <tr>\n",
       "      <th>1</th>\n",
       "      <td>285</td>\n",
       "      <td>300000000</td>\n",
       "      <td>Pirates of the Caribbean: At World's End</td>\n",
       "      <td>2007.0</td>\n",
       "      <td>5.0</td>\n",
       "      <td>Adventure,Fantasy,Action</td>\n",
       "      <td>961000000</td>\n",
       "      <td>6.9</td>\n",
       "      <td>4500</td>\n",
       "      <td>en</td>\n",
       "    </tr>\n",
       "  </tbody>\n",
       "</table>\n",
       "</div>"
      ],
      "text/plain": [
       "   movie_id     budget                                     title  \\\n",
       "0     19995  237000000                                    Avatar   \n",
       "1       285  300000000  Pirates of the Caribbean: At World's End   \n",
       "\n",
       "   release_year  release_month                                    genres  \\\n",
       "0        2009.0           12.0  Action,Adventure,Fantasy,Science Fiction   \n",
       "1        2007.0            5.0                  Adventure,Fantasy,Action   \n",
       "\n",
       "      revenue  vote_average  vote_count original_language  \n",
       "0  2787965087           7.2       11800                en  \n",
       "1   961000000           6.9        4500                en  "
      ]
     },
     "execution_count": 48,
     "metadata": {},
     "output_type": "execute_result"
    }
   ],
   "source": [
    "movies_genres.head(2)"
   ]
  },
  {
   "cell_type": "code",
   "execution_count": 49,
   "metadata": {
    "collapsed": false
   },
   "outputs": [
    {
     "data": {
      "text/plain": [
       "['Animation',\n",
       " 'Thriller',\n",
       " 'Family',\n",
       " 'Adventure',\n",
       " 'Western',\n",
       " 'War',\n",
       " 'Drama',\n",
       " 'Action',\n",
       " 'Mystery',\n",
       " 'Science Fiction',\n",
       " 'Documentary',\n",
       " 'Foreign',\n",
       " 'TV Movie',\n",
       " 'Fantasy',\n",
       " 'Music',\n",
       " 'History',\n",
       " 'Horror',\n",
       " 'Romance',\n",
       " 'Crime',\n",
       " 'Comedy']"
      ]
     },
     "execution_count": 49,
     "metadata": {},
     "output_type": "execute_result"
    }
   ],
   "source": [
    "genres_list = set()\n",
    "for sstr in allmovies_df['genres'].str.split(','):\n",
    "    genres_list = set().union(sstr, genres_list)\n",
    "genres_list = list(genres_list)\n",
    "genres_list.remove('')\n",
    "genres_list"
   ]
  },
  {
   "cell_type": "code",
   "execution_count": 50,
   "metadata": {
    "collapsed": false,
    "deletable": true,
    "editable": true
   },
   "outputs": [],
   "source": [
    "#pd.Series(' '.join(movies_genres['genres']).split('|')).value_counts()"
   ]
  },
  {
   "cell_type": "code",
   "execution_count": 51,
   "metadata": {
    "collapsed": false,
    "deletable": true,
    "editable": true
   },
   "outputs": [],
   "source": [
    "#pd.Series(' '.join(movies_genres['genres']).lower().split()).value_counts()[:10]"
   ]
  },
  {
   "cell_type": "code",
   "execution_count": 52,
   "metadata": {
    "collapsed": false,
    "deletable": true,
    "editable": true
   },
   "outputs": [],
   "source": [
    "#Transforming categorical to one hot encoding\n",
    "for genres in genres_list:\n",
    "    movies_genres[genres] = movies_genres['genres'].str.contains(genres).apply(lambda x:1 if x else 0)"
   ]
  },
  {
   "cell_type": "code",
   "execution_count": 53,
   "metadata": {
    "collapsed": false
   },
   "outputs": [
    {
     "data": {
      "text/html": [
       "<div>\n",
       "<style>\n",
       "    .dataframe thead tr:only-child th {\n",
       "        text-align: right;\n",
       "    }\n",
       "\n",
       "    .dataframe thead th {\n",
       "        text-align: left;\n",
       "    }\n",
       "\n",
       "    .dataframe tbody tr th {\n",
       "        vertical-align: top;\n",
       "    }\n",
       "</style>\n",
       "<table border=\"1\" class=\"dataframe\">\n",
       "  <thead>\n",
       "    <tr style=\"text-align: right;\">\n",
       "      <th></th>\n",
       "      <th>movie_id</th>\n",
       "      <th>budget</th>\n",
       "      <th>title</th>\n",
       "      <th>release_year</th>\n",
       "      <th>release_month</th>\n",
       "      <th>genres</th>\n",
       "      <th>revenue</th>\n",
       "      <th>vote_average</th>\n",
       "      <th>vote_count</th>\n",
       "      <th>original_language</th>\n",
       "      <th>...</th>\n",
       "      <th>Documentary</th>\n",
       "      <th>Foreign</th>\n",
       "      <th>TV Movie</th>\n",
       "      <th>Fantasy</th>\n",
       "      <th>Music</th>\n",
       "      <th>History</th>\n",
       "      <th>Horror</th>\n",
       "      <th>Romance</th>\n",
       "      <th>Crime</th>\n",
       "      <th>Comedy</th>\n",
       "    </tr>\n",
       "  </thead>\n",
       "  <tbody>\n",
       "    <tr>\n",
       "      <th>0</th>\n",
       "      <td>19995</td>\n",
       "      <td>237000000</td>\n",
       "      <td>Avatar</td>\n",
       "      <td>2009.0</td>\n",
       "      <td>12.0</td>\n",
       "      <td>Action,Adventure,Fantasy,Science Fiction</td>\n",
       "      <td>2787965087</td>\n",
       "      <td>7.2</td>\n",
       "      <td>11800</td>\n",
       "      <td>en</td>\n",
       "      <td>...</td>\n",
       "      <td>0</td>\n",
       "      <td>0</td>\n",
       "      <td>0</td>\n",
       "      <td>1</td>\n",
       "      <td>0</td>\n",
       "      <td>0</td>\n",
       "      <td>0</td>\n",
       "      <td>0</td>\n",
       "      <td>0</td>\n",
       "      <td>0</td>\n",
       "    </tr>\n",
       "    <tr>\n",
       "      <th>1</th>\n",
       "      <td>285</td>\n",
       "      <td>300000000</td>\n",
       "      <td>Pirates of the Caribbean: At World's End</td>\n",
       "      <td>2007.0</td>\n",
       "      <td>5.0</td>\n",
       "      <td>Adventure,Fantasy,Action</td>\n",
       "      <td>961000000</td>\n",
       "      <td>6.9</td>\n",
       "      <td>4500</td>\n",
       "      <td>en</td>\n",
       "      <td>...</td>\n",
       "      <td>0</td>\n",
       "      <td>0</td>\n",
       "      <td>0</td>\n",
       "      <td>1</td>\n",
       "      <td>0</td>\n",
       "      <td>0</td>\n",
       "      <td>0</td>\n",
       "      <td>0</td>\n",
       "      <td>0</td>\n",
       "      <td>0</td>\n",
       "    </tr>\n",
       "  </tbody>\n",
       "</table>\n",
       "<p>2 rows × 30 columns</p>\n",
       "</div>"
      ],
      "text/plain": [
       "   movie_id     budget                                     title  \\\n",
       "0     19995  237000000                                    Avatar   \n",
       "1       285  300000000  Pirates of the Caribbean: At World's End   \n",
       "\n",
       "   release_year  release_month                                    genres  \\\n",
       "0        2009.0           12.0  Action,Adventure,Fantasy,Science Fiction   \n",
       "1        2007.0            5.0                  Adventure,Fantasy,Action   \n",
       "\n",
       "      revenue  vote_average  vote_count original_language   ...    \\\n",
       "0  2787965087           7.2       11800                en   ...     \n",
       "1   961000000           6.9        4500                en   ...     \n",
       "\n",
       "   Documentary  Foreign  TV Movie  Fantasy  Music  History  Horror  Romance  \\\n",
       "0            0        0         0        1      0        0       0        0   \n",
       "1            0        0         0        1      0        0       0        0   \n",
       "\n",
       "   Crime  Comedy  \n",
       "0      0       0  \n",
       "1      0       0  \n",
       "\n",
       "[2 rows x 30 columns]"
      ]
     },
     "execution_count": 53,
     "metadata": {},
     "output_type": "execute_result"
    }
   ],
   "source": [
    "movies_genres.head(2)"
   ]
  },
  {
   "cell_type": "code",
   "execution_count": 54,
   "metadata": {
    "collapsed": false,
    "deletable": true,
    "editable": true
   },
   "outputs": [],
   "source": [
    "genre_count = []\n",
    "for genre in genres_list:\n",
    "    genre_count.append([genre, movies_genres[genre].values.sum()])"
   ]
  },
  {
   "cell_type": "code",
   "execution_count": 55,
   "metadata": {
    "collapsed": false,
    "deletable": true,
    "editable": true
   },
   "outputs": [],
   "source": [
    "names = ['genrename','genrecount']\n",
    "genre_df = pd.DataFrame(data=genre_count, columns=names)\n",
    "genre_df.sort_values(\"genrecount\", inplace=True, ascending=False)"
   ]
  },
  {
   "cell_type": "code",
   "execution_count": 56,
   "metadata": {
    "collapsed": false,
    "deletable": true,
    "editable": true
   },
   "outputs": [
    {
     "data": {
      "text/html": [
       "<div>\n",
       "<style>\n",
       "    .dataframe thead tr:only-child th {\n",
       "        text-align: right;\n",
       "    }\n",
       "\n",
       "    .dataframe thead th {\n",
       "        text-align: left;\n",
       "    }\n",
       "\n",
       "    .dataframe tbody tr th {\n",
       "        vertical-align: top;\n",
       "    }\n",
       "</style>\n",
       "<table border=\"1\" class=\"dataframe\">\n",
       "  <thead>\n",
       "    <tr style=\"text-align: right;\">\n",
       "      <th></th>\n",
       "      <th>genrename</th>\n",
       "      <th>genrecount</th>\n",
       "    </tr>\n",
       "  </thead>\n",
       "  <tbody>\n",
       "    <tr>\n",
       "      <th>6</th>\n",
       "      <td>Drama</td>\n",
       "      <td>2297</td>\n",
       "    </tr>\n",
       "    <tr>\n",
       "      <th>19</th>\n",
       "      <td>Comedy</td>\n",
       "      <td>1722</td>\n",
       "    </tr>\n",
       "    <tr>\n",
       "      <th>1</th>\n",
       "      <td>Thriller</td>\n",
       "      <td>1274</td>\n",
       "    </tr>\n",
       "    <tr>\n",
       "      <th>7</th>\n",
       "      <td>Action</td>\n",
       "      <td>1154</td>\n",
       "    </tr>\n",
       "    <tr>\n",
       "      <th>17</th>\n",
       "      <td>Romance</td>\n",
       "      <td>894</td>\n",
       "    </tr>\n",
       "  </tbody>\n",
       "</table>\n",
       "</div>"
      ],
      "text/plain": [
       "   genrename  genrecount\n",
       "6      Drama        2297\n",
       "19    Comedy        1722\n",
       "1   Thriller        1274\n",
       "7     Action        1154\n",
       "17   Romance         894"
      ]
     },
     "execution_count": 56,
     "metadata": {},
     "output_type": "execute_result"
    }
   ],
   "source": [
    "genre_df.head()"
   ]
  },
  {
   "cell_type": "code",
   "execution_count": 57,
   "metadata": {
    "collapsed": false,
    "deletable": true,
    "editable": true
   },
   "outputs": [],
   "source": [
    "labels=genre_df.genrename"
   ]
  },
  {
   "cell_type": "code",
   "execution_count": 58,
   "metadata": {
    "collapsed": false,
    "deletable": true,
    "editable": true
   },
   "outputs": [
    {
     "data": {
      "text/plain": [
       "<matplotlib.axes._subplots.AxesSubplot at 0x2782ecfe400>"
      ]
     },
     "execution_count": 58,
     "metadata": {},
     "output_type": "execute_result"
    },
    {
     "data": {
      "image/png": "[encoded data removed]",
      "text/plain": [
       "<matplotlib.figure.Figure at 0x2782ed05cc0>"
      ]
     },
     "metadata": {},
     "output_type": "display_data"
    }
   ],
   "source": [
    "plt.subplots(figsize=(10, 10))\n",
    "genre_df.genrecount.plot.pie(labels = labels, autopct='%1.1f%%', shadow=False)"
   ]
  },
  {
   "cell_type": "code",
   "execution_count": 59,
   "metadata": {
    "collapsed": false,
    "deletable": true,
    "editable": true
   },
   "outputs": [
    {
     "data": {
      "text/plain": [
       "<matplotlib.text.Text at 0x2782edee208>"
      ]
     },
     "execution_count": 59,
     "metadata": {},
     "output_type": "execute_result"
    },
    {
     "data": {
      "image/png": "[encoded data removed]",
      "text/plain": [
       "<matplotlib.figure.Figure at 0x2782edd76d8>"
      ]
     },
     "metadata": {},
     "output_type": "display_data"
    }
   ],
   "source": [
    "plt.subplots(figsize=(10, 10))\n",
    "genre_df['genrecount'].plot.bar( align='center', alpha=0.5, color='red')\n",
    "y_pos = np.arange(len(labels))\n",
    "#plt.yticks(y_pos, labels)\n",
    "plt.xticks(y_pos, labels)\n",
    "plt.ylabel('Genres Count')"
   ]
  },
  {
   "cell_type": "markdown",
   "metadata": {
    "deletable": true,
    "editable": true
   },
   "source": [
    "### Movie Genres conclusion:\n",
    "Drama, Comedy, Thriller, Action, Romance, Adventure, Crime forms the main genres of the released movies"
   ]
  },
  {
   "cell_type": "markdown",
   "metadata": {
    "collapsed": false,
    "deletable": true,
    "editable": true
   },
   "source": [
    "### 3.2) Creation of Movies cast dataframe "
   ]
  },
  {
   "cell_type": "markdown",
   "metadata": {
    "deletable": true,
    "editable": true
   },
   "source": [
    "I've considered the cast ONLY with leading actor roles and not in any other roles."
   ]
  },
  {
   "cell_type": "code",
   "execution_count": 60,
   "metadata": {
    "collapsed": true,
    "deletable": true,
    "editable": true
   },
   "outputs": [],
   "source": [
    "movies_cast = allmovies_df[['movie_id', 'budget', 'title','release_year', 'release_month','cast','revenue','vote_average','vote_count','original_language']]"
   ]
  },
  {
   "cell_type": "code",
   "execution_count": 61,
   "metadata": {
    "collapsed": false
   },
   "outputs": [
    {
     "data": {
      "text/html": [
       "<div>\n",
       "<style>\n",
       "    .dataframe thead tr:only-child th {\n",
       "        text-align: right;\n",
       "    }\n",
       "\n",
       "    .dataframe thead th {\n",
       "        text-align: left;\n",
       "    }\n",
       "\n",
       "    .dataframe tbody tr th {\n",
       "        vertical-align: top;\n",
       "    }\n",
       "</style>\n",
       "<table border=\"1\" class=\"dataframe\">\n",
       "  <thead>\n",
       "    <tr style=\"text-align: right;\">\n",
       "      <th></th>\n",
       "      <th>movie_id</th>\n",
       "      <th>budget</th>\n",
       "      <th>title</th>\n",
       "      <th>release_year</th>\n",
       "      <th>release_month</th>\n",
       "      <th>cast</th>\n",
       "      <th>revenue</th>\n",
       "      <th>vote_average</th>\n",
       "      <th>vote_count</th>\n",
       "      <th>original_language</th>\n",
       "    </tr>\n",
       "  </thead>\n",
       "  <tbody>\n",
       "  </tbody>\n",
       "</table>\n",
       "</div>"
      ],
      "text/plain": [
       "Empty DataFrame\n",
       "Columns: [movie_id, budget, title, release_year, release_month, cast, revenue, vote_average, vote_count, original_language]\n",
       "Index: []"
      ]
     },
     "execution_count": 61,
     "metadata": {},
     "output_type": "execute_result"
    }
   ],
   "source": [
    "movies_cast[movies_cast['cast'].isnull()]"
   ]
  },
  {
   "cell_type": "code",
   "execution_count": 62,
   "metadata": {
    "collapsed": false
   },
   "outputs": [
    {
     "data": {
      "text/plain": [
       "['SamWorthington',\n",
       " 'JohnnyDepp',\n",
       " 'DanielCraig',\n",
       " 'ChristianBale',\n",
       " 'TaylorKitsch',\n",
       " 'TobeyMaguire',\n",
       " 'ZacharyLevi',\n",
       " 'RobertDowneyJr.',\n",
       " 'DanielRadcliffe',\n",
       " 'BenAffleck',\n",
       " 'BrandonRouth',\n",
       " 'DanielCraig',\n",
       " 'JohnnyDepp',\n",
       " 'JohnnyDepp',\n",
       " 'HenryCavill',\n",
       " 'BenBarnes',\n",
       " 'RobertDowneyJr.',\n",
       " 'JohnnyDepp',\n",
       " 'WillSmith',\n",
       " 'MartinFreeman',\n",
       " 'AndrewGarfield',\n",
       " 'RussellCrowe',\n",
       " 'MartinFreeman',\n",
       " 'DakotaBlueRichards',\n",
       " 'NaomiWatts',\n",
       " 'KateWinslet',\n",
       " 'ChrisEvans',\n",
       " 'TaylorKitsch',\n",
       " 'ChrisPratt',\n",
       " 'DanielCraig',\n",
       " 'TobeyMaguire',\n",
       " 'RobertDowneyJr.',\n",
       " 'MiaWasikowska',\n",
       " 'HughJackman',\n",
       " 'BillyCrystal',\n",
       " 'ShiaLaBeouf',\n",
       " 'MarkWahlberg',\n",
       " 'JamesFranco',\n",
       " 'AndrewGarfield',\n",
       " 'GarrettHedlund',\n",
       " 'OwenWilson',\n",
       " 'RyanReynolds',\n",
       " 'TomHanks',\n",
       " 'ChristianBale',\n",
       " 'VinDiesel',\n",
       " 'BradPitt',\n",
       " 'HughJackman',\n",
       " 'ChrisPine',\n",
       " 'NicholasHoult',\n",
       " 'LeonardoDiCaprio',\n",
       " 'JakeGyllenhaal',\n",
       " 'IdrisElba',\n",
       " 'ShiaLaBeouf',\n",
       " 'HarrisonFord',\n",
       " 'RaymondOchoa',\n",
       " 'KellyMacdonald',\n",
       " 'ChrisPine',\n",
       " 'BenBurtt',\n",
       " 'ChrisTucker',\n",
       " 'JohnCusack',\n",
       " 'GaryOldman',\n",
       " 'MilaKunis',\n",
       " 'AlexanderSkarsgård',\n",
       " 'WilliamMoseley',\n",
       " 'JamesMcAvoy',\n",
       " 'ChristianBale',\n",
       " 'EdAsner',\n",
       " 'SethRogen',\n",
       " 'RobertDowneyJr.',\n",
       " 'BenKingsley',\n",
       " 'WillSmith',\n",
       " 'BrendanFraser',\n",
       " 'WillSmith',\n",
       " 'SteveCarell',\n",
       " 'TomCruise',\n",
       " 'KevinCostner',\n",
       " 'DennisQuaid',\n",
       " 'AmyPoehler',\n",
       " 'NeelSethi',\n",
       " 'RobertDowneyJr.',\n",
       " 'KristenStewart',\n",
       " 'AngelinaJolie',\n",
       " 'AndySerkis',\n",
       " 'JoshHartnett',\n",
       " 'KeanuReeves',\n",
       " 'ChrisEvans',\n",
       " 'MikeMyers',\n",
       " 'BrittRobertson',\n",
       " 'ScottAdsit',\n",
       " 'JohnC.Reilly',\n",
       " 'TomHanks',\n",
       " 'LiamHemsworth',\n",
       " 'JayBaruchel',\n",
       " 'ArnoldSchwarzenegger',\n",
       " 'ChrisPratt',\n",
       " 'MatthewMcConaughey',\n",
       " 'LeonardoDiCaprio',\n",
       " 'HirokiHasegawa',\n",
       " 'IanMcKellen',\n",
       " 'PaulWalker',\n",
       " 'CateBlanchett',\n",
       " 'JamesMcAvoy',\n",
       " 'JenniferLawrence',\n",
       " 'NicolasCage',\n",
       " 'KurtRussell',\n",
       " 'JohnnyDepp',\n",
       " 'MikeMyers',\n",
       " 'PaulaPatton',\n",
       " 'ArnoldSchwarzenegger',\n",
       " 'SkandarKeynes',\n",
       " 'BenAffleck',\n",
       " 'ShiaLaBeouf',\n",
       " 'ColinFarrell',\n",
       " 'DanielRadcliffe',\n",
       " 'DanielRadcliffe',\n",
       " 'WillSmith',\n",
       " 'WillSmith',\n",
       " 'JohnnyDepp',\n",
       " 'PattonOswalt',\n",
       " 'ChristianBale',\n",
       " 'BenStiller',\n",
       " 'BenStiller',\n",
       " 'HughJackman',\n",
       " 'KeanuReeves',\n",
       " 'KristenBell',\n",
       " 'KeanuReeves',\n",
       " 'ChrisHemsworth',\n",
       " 'TomHardy',\n",
       " 'TomHanks',\n",
       " 'ChrisHemsworth',\n",
       " 'JohnTravolta',\n",
       " 'SamRockwell',\n",
       " 'SamWorthington',\n",
       " 'JohnnyDepp',\n",
       " 'TomCruise',\n",
       " 'BeniciodelToro',\n",
       " 'JerrySeinfeld',\n",
       " 'JackBlack',\n",
       " 'NoahRinger',\n",
       " 'TomCruise',\n",
       " 'ChanningTatum',\n",
       " 'SethGreen',\n",
       " 'HughJackman',\n",
       " 'LeviMiller',\n",
       " 'TyBurrell',\n",
       " 'BradPitt',\n",
       " 'BenStiller',\n",
       " 'PierceBrosnan',\n",
       " 'MelissaMcCarthy',\n",
       " 'BruceWillis',\n",
       " 'TommyLeeJones',\n",
       " 'RayWinstone',\n",
       " 'JackBlack',\n",
       " 'TomCruise',\n",
       " 'ChrisPine',\n",
       " 'JimCarrey',\n",
       " 'TomCruise',\n",
       " 'ChristianBale',\n",
       " 'ChrisPine',\n",
       " 'TobeyMaguire',\n",
       " 'JayBaruchel',\n",
       " 'BrentonThwaites',\n",
       " 'JoshLucas',\n",
       " 'MalinÅkerman',\n",
       " 'MelGibson',\n",
       " 'EricBana',\n",
       " 'DwayneJohnson',\n",
       " 'MatthewMcConaughey',\n",
       " 'DonaldSutherland',\n",
       " 'ChrisEvans',\n",
       " 'PierceBrosnan',\n",
       " 'RussellCrowe',\n",
       " 'KristenStewart',\n",
       " 'ElijahWood',\n",
       " 'EdwardNorton',\n",
       " 'RubyBarnhill',\n",
       " 'LeonardoDiCaprio',\n",
       " 'RyanReynolds',\n",
       " 'JohnnyDepp',\n",
       " 'TomMcGrath',\n",
       " 'MattDamon',\n",
       " 'JackBlack',\n",
       " 'PaulRudd',\n",
       " 'JenniferLawrence',\n",
       " 'JimParsons',\n",
       " 'TomCruise',\n",
       " 'MartinLawrence',\n",
       " 'AntonioBanderas',\n",
       " 'AngelinaJolie',\n",
       " 'RussellCrowe',\n",
       " 'JamieBell',\n",
       " 'DanielRadcliffe',\n",
       " 'NicoleKidman',\n",
       " 'JadenSmith',\n",
       " 'D.B.Sweeney',\n",
       " 'BenStiller',\n",
       " 'WillFerrell',\n",
       " 'DanielRadcliffe',\n",
       " 'JeffBridges',\n",
       " 'JohnnyDepp',\n",
       " 'JenniferLawrence',\n",
       " 'TomHanks',\n",
       " 'JesseEisenberg',\n",
       " 'PatrickStewart',\n",
       " 'VinDiesel',\n",
       " 'RobertDowneyJr.',\n",
       " 'SamWorthington',\n",
       " 'ArnoldSchwarzenegger',\n",
       " 'AntonioBanderas',\n",
       " 'JeremyRenner',\n",
       " 'GeorgeClooney',\n",
       " 'JimCarrey',\n",
       " 'DennisQuaid',\n",
       " 'TomCruise',\n",
       " 'GeorgeClooney',\n",
       " 'IoanGruffudd',\n",
       " 'SurajSharma',\n",
       " 'NicolasCage',\n",
       " 'MattDamon',\n",
       " 'CameronDiaz',\n",
       " 'NoomiRapace',\n",
       " 'MichaelJ.Fox',\n",
       " 'MattDamon',\n",
       " 'VinDiesel',\n",
       " 'JoelKinnaman',\n",
       " 'EmileHirsch',\n",
       " 'ReeseWitherspoon',\n",
       " 'TomCruise',\n",
       " 'TomCruise',\n",
       " 'EwanMcGregor',\n",
       " 'EwanMcGregor',\n",
       " 'JohnGoodman',\n",
       " 'HughJackman',\n",
       " 'LiamNeeson',\n",
       " 'NicolasCage',\n",
       " 'ClovisCornillac',\n",
       " 'NicolasCage',\n",
       " 'ChrisHemsworth',\n",
       " 'MeganFox',\n",
       " 'SandraBullock',\n",
       " 'PierceBrosnan',\n",
       " 'MeganFox',\n",
       " 'MilesTeller',\n",
       " 'BenStiller',\n",
       " 'DwayneJohnson',\n",
       " 'PierceBrosnan',\n",
       " 'MelGibson',\n",
       " 'GeorgeClooney',\n",
       " 'AngelinaJolie',\n",
       " 'ShaileneWoodley',\n",
       " 'LeonardoDiCaprio',\n",
       " 'JackBlack',\n",
       " 'SethRogen',\n",
       " 'SullivanStapleton',\n",
       " 'HankAzaria',\n",
       " 'RoseanneBarr',\n",
       " 'ShaileneWoodley',\n",
       " 'HughJackman',\n",
       " 'HankAzaria',\n",
       " 'SandraBullock',\n",
       " 'AsaButterfield',\n",
       " 'BruceWillis',\n",
       " 'ElijahWood',\n",
       " 'JackieChan',\n",
       " 'WillSmith',\n",
       " 'MikeMyers',\n",
       " 'WillSmith',\n",
       " 'OrlandoBloom',\n",
       " 'MichaelJ.Fox',\n",
       " 'AnikaNoniRose',\n",
       " 'MattDamon',\n",
       " 'EwanMcGregor',\n",
       " 'WarrenBeatty',\n",
       " 'NicolasCage',\n",
       " 'RussellCrowe',\n",
       " 'TomCruise',\n",
       " 'DanielRadcliffe',\n",
       " 'DanielCraig',\n",
       " 'MarkWahlberg',\n",
       " 'ArnoldSchwarzenegger',\n",
       " 'ChristianBale',\n",
       " 'DenzelWashington',\n",
       " 'ArnoldSchwarzenegger',\n",
       " 'DenzelWashington',\n",
       " 'RobertDeNiro',\n",
       " 'WillFerrell',\n",
       " 'ArnoldSchwarzenegger',\n",
       " 'JamieFoxx',\n",
       " 'TomHulce',\n",
       " 'DavidSpade',\n",
       " 'SylvesterStallone',\n",
       " 'NicolasCage',\n",
       " 'EdSpeleers',\n",
       " 'MaxRecords',\n",
       " 'JoshHutcherson',\n",
       " 'JohnnyDepp',\n",
       " 'ArnoldSchwarzenegger',\n",
       " 'LeonardoDiCaprio',\n",
       " 'LeonardoDiCaprio',\n",
       " 'ValKilmer',\n",
       " 'CasperVanDien',\n",
       " 'TomHanks',\n",
       " 'EmilyBarclay',\n",
       " 'HalleBerry',\n",
       " 'DwayneJohnson',\n",
       " 'JosephGordon-Levitt',\n",
       " 'WillFerrell',\n",
       " 'SylvesterStallone',\n",
       " 'EdgarRamírez',\n",
       " 'JamieKennedy',\n",
       " 'ChrisHemsworth',\n",
       " 'EddieMurphy',\n",
       " 'MattDamon',\n",
       " '',\n",
       " 'SteveMartin',\n",
       " 'BrendanFraser',\n",
       " 'LeonardoDiCaprio',\n",
       " 'ChristianBale',\n",
       " 'ShiaLaBeouf',\n",
       " 'NicoleKidman',\n",
       " 'JoshHartnett',\n",
       " 'WillFerrell',\n",
       " 'BruceWillis',\n",
       " 'SarahJessicaParker',\n",
       " 'KennethBranagh',\n",
       " 'JohnLeguizamo',\n",
       " 'LilyJames',\n",
       " 'RachelWeisz',\n",
       " 'AlbertBrooks',\n",
       " 'ElijahWood',\n",
       " 'ElijahWood',\n",
       " 'JeffBridges',\n",
       " 'AngelinaJolie',\n",
       " 'JohnnyDepp',\n",
       " 'SamNeill',\n",
       " 'JamesFranco',\n",
       " 'FreddieHighmore',\n",
       " 'BruceWillis',\n",
       " 'DennisQuaid',\n",
       " 'CraigT.Nelson',\n",
       " 'GeenaDavis',\n",
       " 'LoganLerman',\n",
       " 'TommyLeeJones',\n",
       " 'TomHanks',\n",
       " 'DenzelWashington',\n",
       " 'ChrisTucker',\n",
       " 'HarrisonFord',\n",
       " 'BillHader',\n",
       " 'RayRomano',\n",
       " 'BenStiller',\n",
       " 'CameronDiaz',\n",
       " 'LeonardoDiCaprio',\n",
       " 'EddieMurphy',\n",
       " 'BenStiller',\n",
       " 'DanielCraig',\n",
       " 'BruceWillis',\n",
       " 'RobertDowneyJr.',\n",
       " 'JackHuston',\n",
       " 'MichaelJ.Fox',\n",
       " '',\n",
       " 'TomCruise',\n",
       " 'AdamSandler',\n",
       " 'AdamSandler',\n",
       " 'HaleyJoelOsment',\n",
       " 'EddieMurphy',\n",
       " 'JodieFoster',\n",
       " 'KevinBacon',\n",
       " 'NicoleKidman',\n",
       " 'LoganLerman',\n",
       " 'AngelinaJolie',\n",
       " 'JesseEisenberg',\n",
       " 'ValKilmer',\n",
       " 'RobertRedford',\n",
       " 'GarySinise',\n",
       " 'JesseEisenberg',\n",
       " 'RobinWilliams',\n",
       " 'TommyLeeJones',\n",
       " 'HarrisonFord',\n",
       " 'HarrisonFord',\n",
       " 'ArnoldSchwarzenegger',\n",
       " 'RussellCrowe',\n",
       " 'ElleFanning',\n",
       " 'JeffBridges',\n",
       " 'HelenHunt',\n",
       " 'TomHanks',\n",
       " 'ElijahWood',\n",
       " 'MattDamon',\n",
       " 'HarrisonFord',\n",
       " 'GeorgeClooney',\n",
       " 'MillaJovovich',\n",
       " 'AdamSandler',\n",
       " 'AmyAdams',\n",
       " 'DenzelWashington',\n",
       " 'GlennClose',\n",
       " 'BenStiller',\n",
       " 'CameronDiaz',\n",
       " 'WillSmith',\n",
       " 'MerylStreep',\n",
       " 'GeorgeClooney',\n",
       " 'MartinLawrence',\n",
       " 'ShaileneWoodley',\n",
       " 'JudeLaw',\n",
       " 'DwayneJohnson',\n",
       " 'ArnoldSchwarzenegger',\n",
       " 'ZhangZiyi',\n",
       " 'LucasBlack',\n",
       " 'JamesMcAvoy',\n",
       " 'BradPitt',\n",
       " 'ArnoldSchwarzenegger',\n",
       " 'RoyScheider',\n",
       " 'JuliaRoberts',\n",
       " 'MichaelCera',\n",
       " 'AaronEckhart',\n",
       " 'EddieMurphy',\n",
       " 'FreddiePrinzeJr.',\n",
       " 'KarlUrban',\n",
       " 'AdamSandler',\n",
       " 'HalHolbrook',\n",
       " 'JamesMarsden',\n",
       " 'HaydenChristensen',\n",
       " 'RonPerlman',\n",
       " 'JakeGyllenhaal',\n",
       " 'ArnoldSchwarzenegger',\n",
       " 'JimCarrey',\n",
       " 'SylvesterStallone',\n",
       " 'TomCruise',\n",
       " 'JenniferLawrence',\n",
       " 'BradleyCooper',\n",
       " 'MichaelKeaton',\n",
       " 'BruceWillis',\n",
       " 'ChrisSanders',\n",
       " 'JuliaRoberts',\n",
       " 'RobertDuvall',\n",
       " 'BruceWillis',\n",
       " 'AdamSandler',\n",
       " 'JasonLee',\n",
       " 'AdamSandler',\n",
       " 'SteveCarell',\n",
       " 'JackNicholson',\n",
       " 'LeonardoDiCaprio',\n",
       " 'VinceVaughn',\n",
       " 'RobinWilliams',\n",
       " 'JohnTravolta',\n",
       " 'AdamSandler',\n",
       " 'TomHanks',\n",
       " 'AdamSandler',\n",
       " 'NicolasCage',\n",
       " 'ShiaLaBeouf',\n",
       " 'JudeLaw',\n",
       " 'DenzelWashington',\n",
       " 'RobinWilliams',\n",
       " 'LiamNeeson',\n",
       " 'MichaelJordan',\n",
       " 'SteveMartin',\n",
       " 'KeanuReeves',\n",
       " 'MelGibson',\n",
       " 'BradPitt',\n",
       " 'HarrisonFord',\n",
       " 'DanAykroyd',\n",
       " 'MattDamon',\n",
       " 'KevinJames',\n",
       " 'GaryOldman',\n",
       " 'DenzelWashington',\n",
       " 'StephenDillane',\n",
       " 'AdamSandler',\n",
       " 'SteveMartin',\n",
       " 'GuyPearce',\n",
       " 'CharlizeTheron',\n",
       " 'JohnTravolta',\n",
       " 'AntonioBanderas',\n",
       " 'RobinWilliams',\n",
       " 'AdamSandler',\n",
       " 'HeathLedger',\n",
       " 'JackNicholson',\n",
       " '',\n",
       " 'AlecBaldwin',\n",
       " 'BruceWillis',\n",
       " 'KevinCostner',\n",
       " 'SylvesterStallone',\n",
       " 'CharlieRowe',\n",
       " 'JohnTravolta',\n",
       " 'BrendanFraser',\n",
       " 'JudiDench',\n",
       " 'PaulWalker',\n",
       " 'KevinCostner',\n",
       " 'JamesCromwell',\n",
       " 'VinDiesel',\n",
       " 'ValKilmer',\n",
       " 'FreddieHighmore',\n",
       " 'PierceBrosnan',\n",
       " 'HeikeMakatsch',\n",
       " 'KitHarington',\n",
       " '',\n",
       " 'RussellCrowe,EdHarris',\n",
       " 'JonathanTaylorThomas',\n",
       " 'DwayneJohnson',\n",
       " 'BillHader',\n",
       " 'AnthonyHopkins',\n",
       " 'ViggoMortensen',\n",
       " 'AdamSandler',\n",
       " 'PaulWalker',\n",
       " 'JeffBridges',\n",
       " 'NicoleKidman',\n",
       " 'ReneRusso',\n",
       " 'LouisC.K.',\n",
       " 'SeanConnery',\n",
       " 'SteveCarell',\n",
       " 'WillSmith',\n",
       " 'JeffGoldblum',\n",
       " 'BenStiller',\n",
       " 'CliveOwen',\n",
       " 'PatrickStewart',\n",
       " 'AngelinaJolie',\n",
       " 'SeanConnery',\n",
       " 'RayRomano',\n",
       " 'AdamSandler',\n",
       " 'JohnTravolta',\n",
       " 'StellanSkarsgård',\n",
       " 'MatthewBroderick',\n",
       " 'JesseEisenberg',\n",
       " 'AdamSandler',\n",
       " 'TomHanks',\n",
       " 'EmmaRoberts',\n",
       " 'ChrisODonnell',\n",
       " 'TomHanks',\n",
       " 'WillSmith',\n",
       " 'JamieFoxx',\n",
       " 'JohnTravolta',\n",
       " 'EricBana',\n",
       " 'BruceWillis',\n",
       " 'KatherineHeigl',\n",
       " 'HenryCavill',\n",
       " 'AdamSandler',\n",
       " 'RyanNewman',\n",
       " 'BruceWillis',\n",
       " 'SeanConnery',\n",
       " 'JodieFoster',\n",
       " 'MickeyRourke',\n",
       " 'BruceWillis',\n",
       " 'MattDamon',\n",
       " 'HarrisonFord',\n",
       " 'KurtRussell',\n",
       " 'LouTaylorPucci',\n",
       " 'BrendanFraser',\n",
       " 'DennisQuaid',\n",
       " 'BruceWillis',\n",
       " 'SandraBullock',\n",
       " 'EmilyBrowning',\n",
       " 'NicolasCage',\n",
       " 'DustinHoffman',\n",
       " 'JasonSudeikis',\n",
       " 'MatthewMcConaughey',\n",
       " 'AdamSandler',\n",
       " 'JamieFoxx',\n",
       " 'WillFerrell',\n",
       " 'EddieMurphy',\n",
       " 'MelGibson',\n",
       " 'JamieFoxx',\n",
       " 'DanCastellaneta',\n",
       " 'JimCarrey',\n",
       " 'KipPardue',\n",
       " 'MaïAnhLe',\n",
       " 'BryceDallasHoward',\n",
       " 'EddieMurphy',\n",
       " 'MelGibson',\n",
       " 'MikeMyers',\n",
       " 'OwenWilson',\n",
       " 'JuliaRoberts',\n",
       " 'VinDiesel',\n",
       " 'TomKenny',\n",
       " 'MelGibson',\n",
       " 'BradPitt',\n",
       " 'RobinWilliams',\n",
       " 'BruceWillis',\n",
       " 'SamuelL.Jackson',\n",
       " 'TomCruise',\n",
       " 'PaulGiamatti',\n",
       " 'SanaaLathan',\n",
       " 'ZacharyLevi',\n",
       " 'MelGibson',\n",
       " 'GerardButler',\n",
       " 'PatrickStewart',\n",
       " 'AaronEckhart',\n",
       " 'EwanMcGregor',\n",
       " 'JackNicholson',\n",
       " 'TomHiddleston',\n",
       " 'MattDamon',\n",
       " 'EdHarris',\n",
       " 'MichaelDouglas',\n",
       " 'LukeEvans',\n",
       " 'DenzelWashington',\n",
       " 'ClaireDanes',\n",
       " 'BradPitt',\n",
       " '',\n",
       " 'AnthonyHopkins',\n",
       " 'DwayneJohnson',\n",
       " 'EddieMurphy',\n",
       " 'KateBeckinsale',\n",
       " 'JulianneHough',\n",
       " 'BruceWillis',\n",
       " 'JasonStatham',\n",
       " 'ChrisKlein',\n",
       " 'AntonioBanderas',\n",
       " 'MorganFreeman',\n",
       " 'ChrisRock',\n",
       " 'LeaMichele',\n",
       " 'ChrisHemsworth',\n",
       " 'JudeLaw',\n",
       " 'SharonStone',\n",
       " 'SylvesterStallone',\n",
       " 'KellanLutz',\n",
       " 'BenAffleck',\n",
       " 'KristenStewart',\n",
       " 'RobertDeNiro',\n",
       " 'SteveCarell',\n",
       " 'WesleySnipes',\n",
       " 'MarkWahlberg',\n",
       " 'RachelWeisz',\n",
       " 'BenStiller',\n",
       " 'OwenWilson',\n",
       " 'AlPacino',\n",
       " 'ChrisPine',\n",
       " 'LeonardoDiCaprio',\n",
       " 'SteveCarell',\n",
       " 'BenjaminWalker',\n",
       " 'SeanConnery',\n",
       " 'DavidDuchovny',\n",
       " 'ColinFirth',\n",
       " 'TomHanks',\n",
       " 'AaronPaul',\n",
       " 'HelenHunt',\n",
       " 'RayRomano',\n",
       " 'MorganFreeman',\n",
       " 'DanielDay-Lewis',\n",
       " 'KeanuReeves',\n",
       " 'TomHanks',\n",
       " 'TimAllen',\n",
       " 'HughJackman',\n",
       " 'TomHanks',\n",
       " 'WillFerrell',\n",
       " 'AntonioBanderas',\n",
       " 'RobertDowneyJr.',\n",
       " 'JackOConnell',\n",
       " 'ClintEastwood',\n",
       " 'SylvesterStallone',\n",
       " 'JohnTravolta',\n",
       " 'BruceWillis',\n",
       " 'NicolasCage',\n",
       " 'JuliaRoberts',\n",
       " 'SachaBaronCohen',\n",
       " 'TomCruise',\n",
       " 'QuvenzhanéWallis',\n",
       " '',\n",
       " 'ReeseWitherspoon',\n",
       " 'WesleySnipes',\n",
       " 'PatrickSwayze',\n",
       " 'JohnTravolta',\n",
       " 'MillaJovovich',\n",
       " 'JasonStatham',\n",
       " 'GeenaDavis',\n",
       " 'MegRyan',\n",
       " 'JonahBobo',\n",
       " 'EdwardNorton',\n",
       " 'MatthewMcConaughey',\n",
       " 'BruceWillis',\n",
       " 'JohnTravolta',\n",
       " 'AaronEckhart',\n",
       " 'BarneyClark',\n",
       " 'JenniferGarner',\n",
       " 'MickeyRourke',\n",
       " 'HarrisonFord',\n",
       " 'JasonClarke',\n",
       " 'BenWhishaw',\n",
       " 'MikeMyers',\n",
       " 'NicolasCage',\n",
       " 'SamNeill',\n",
       " 'KevinCostner',\n",
       " 'HarrisonFord',\n",
       " 'JackieChan',\n",
       " 'MarlonWayans',\n",
       " 'MatthewMcConaughey',\n",
       " 'MichaelDouglas',\n",
       " 'MikeMyers',\n",
       " 'KurtRussell',\n",
       " 'SamuelL.Jackson',\n",
       " 'WillFerrell',\n",
       " 'RussellBrand',\n",
       " 'GerardButler',\n",
       " 'BenStiller',\n",
       " 'OwenWilson',\n",
       " 'TomHanks',\n",
       " 'TimAllen',\n",
       " 'ZachBraff',\n",
       " 'BenAffleck',\n",
       " 'MattDamon',\n",
       " 'PierceBrosnan',\n",
       " 'JohnTravolta',\n",
       " 'JimCarrey',\n",
       " 'ValKilmer',\n",
       " 'EddieMurphy',\n",
       " 'DenzelWashington',\n",
       " 'JeffGoldblum',\n",
       " 'MarkWahlberg',\n",
       " 'SandraBullock',\n",
       " 'WoodyAllen',\n",
       " 'VinceVaughn',\n",
       " 'TomCruise',\n",
       " 'SteveMartin',\n",
       " 'DylanOBrien',\n",
       " 'JuliaRoberts',\n",
       " 'NicolasCage',\n",
       " 'BruceWillis',\n",
       " 'AlPacino',\n",
       " 'RobertRedford',\n",
       " 'TomCruise',\n",
       " 'DwayneJohnson',\n",
       " 'JoaquinPhoenix',\n",
       " 'TomCruise',\n",
       " 'ThomasJane',\n",
       " 'MichaelJackson',\n",
       " 'MattDamon',\n",
       " 'JerryOConnell',\n",
       " 'DakotaFanning',\n",
       " 'MarkWahlberg',\n",
       " 'DenzelWashington',\n",
       " 'TimAllen',\n",
       " 'BenStiller',\n",
       " 'ArnoldSchwarzenegger',\n",
       " 'RonPerlman',\n",
       " 'JohnTravolta',\n",
       " 'KodiSmit-McPhee',\n",
       " 'BruceWillis',\n",
       " 'BenAffleck',\n",
       " 'RobertRedford',\n",
       " 'MatthewBroderick',\n",
       " 'JackieChan',\n",
       " 'StevenSeagal',\n",
       " 'ChrisPine',\n",
       " 'JenniferLawrence',\n",
       " 'GerardButler',\n",
       " 'SigourneyWeaver',\n",
       " 'MarkWahlberg',\n",
       " 'BenKingsley',\n",
       " 'SandraBullock',\n",
       " 'ChrisPratt',\n",
       " 'SandraBullock',\n",
       " 'ChristianBale',\n",
       " 'JoshBrolin',\n",
       " 'JackBlack',\n",
       " 'MorganFreeman',\n",
       " 'RussellCrowe',\n",
       " 'CliveOwen',\n",
       " 'JeffDaniels',\n",
       " 'MichaelDouglas',\n",
       " 'DwayneJohnson',\n",
       " 'PatrickStewart',\n",
       " 'GeorgeClooney',\n",
       " 'ClintEastwood',\n",
       " 'MelGibson',\n",
       " 'PenelopeAnnMiller',\n",
       " 'RobertDeNiro',\n",
       " 'RobertDeNiro',\n",
       " 'BruceWillis',\n",
       " 'RobertDowneyJr.',\n",
       " 'MattDamon',\n",
       " 'KateHudson',\n",
       " 'BillMurray',\n",
       " 'IceCube',\n",
       " 'PaulBettany',\n",
       " 'BradPitt',\n",
       " 'LaurenceFishburne',\n",
       " 'KevinCostner',\n",
       " 'JoshHartnett',\n",
       " 'JamesFranco',\n",
       " 'RobertRedford',\n",
       " 'JamesSpader',\n",
       " 'ColinFarrell',\n",
       " 'LilyCollins',\n",
       " 'EddieMurphy',\n",
       " 'JenniferConnelly',\n",
       " 'MatthewMcConaughey',\n",
       " 'BrendanFraser',\n",
       " 'GabrielMacht',\n",
       " 'JohnnyDepp',\n",
       " 'JasonStatham',\n",
       " 'AngelinaJolie',\n",
       " 'AaronKwok',\n",
       " 'BenjaminBratt',\n",
       " 'RyanReynolds',\n",
       " 'EddieMurphy',\n",
       " 'BradleyCooper',\n",
       " '',\n",
       " 'ReeseWitherspoon',\n",
       " 'MarkAddy',\n",
       " 'SylvesterStallone',\n",
       " 'GeorgeClooney',\n",
       " 'AdamSandler',\n",
       " 'HughGrant',\n",
       " 'OwenWilson',\n",
       " 'MillaJovovich',\n",
       " 'BryanCranston',\n",
       " 'KeanuReeves',\n",
       " 'AdamSandler',\n",
       " 'DennisQuaid',\n",
       " 'PierceBrosnan',\n",
       " 'NicolasCage',\n",
       " 'NicolasCage',\n",
       " 'VinDiesel',\n",
       " 'DwayneJohnson',\n",
       " 'TomHanks',\n",
       " 'JasonLee',\n",
       " 'BenStiller',\n",
       " 'IreneBedard',\n",
       " 'ChristopherReeve',\n",
       " 'EddieMurphy',\n",
       " 'WillSmith',\n",
       " 'BrendanFraser',\n",
       " 'JasonBiggs',\n",
       " 'TomHanks',\n",
       " 'TinaFey',\n",
       " 'ChristinaRicci',\n",
       " 'DenzelWashington',\n",
       " 'JenniferLopez',\n",
       " 'DenzelWashington',\n",
       " 'WillSmith',\n",
       " 'JodieFoster',\n",
       " 'MichaelDouglas',\n",
       " 'NicolasCage',\n",
       " 'UmaThurman',\n",
       " 'SteveMartin',\n",
       " 'UmaThurman',\n",
       " 'SylvesterStallone',\n",
       " 'MerylStreep',\n",
       " 'JackieChan',\n",
       " 'KurtRussell',\n",
       " 'JimCarrey',\n",
       " 'JackieChan',\n",
       " 'OwenWilson',\n",
       " 'SigourneyWeaver',\n",
       " 'Madonna',\n",
       " 'RobertDeNiro',\n",
       " 'MichaelDouglas',\n",
       " 'NicoleKidman',\n",
       " 'BenStiller',\n",
       " 'TommyLeeJones',\n",
       " 'AnthonyHopkins',\n",
       " 'MattDamon',\n",
       " 'WillFerrell',\n",
       " 'HughGrant',\n",
       " 'AngelinaJolie',\n",
       " 'KeanuReeves',\n",
       " 'RobertDeNiro',\n",
       " 'GerardButler',\n",
       " 'CateBlanchett',\n",
       " 'CharlizeTheron',\n",
       " 'StephenLang',\n",
       " 'RayLiotta',\n",
       " 'EddieMurphy',\n",
       " 'RickyGervais',\n",
       " 'BradyCorbet',\n",
       " 'Cher',\n",
       " 'AudreyTautou',\n",
       " 'JamesMason',\n",
       " 'SylvesterStallone',\n",
       " 'WesleySnipes',\n",
       " 'WillSmith',\n",
       " 'SylvesterStallone',\n",
       " 'AlPacino',\n",
       " 'OrlandoBloom',\n",
       " 'KateHudson',\n",
       " 'GeneHackman',\n",
       " 'BenAffleck',\n",
       " 'SeanPenn',\n",
       " 'SamuelL.Jackson',\n",
       " 'MegRyan',\n",
       " 'NicoleKidman',\n",
       " 'JohnTravolta',\n",
       " 'JohnnyDepp',\n",
       " 'RyanPhillippe',\n",
       " 'JamieFoxx',\n",
       " '',\n",
       " 'OprahWinfrey',\n",
       " 'EricBana',\n",
       " 'LeonardoDiCaprio',\n",
       " 'JessicaChastain',\n",
       " 'VinceVaughn',\n",
       " 'MerylStreep',\n",
       " 'JessicaAlba',\n",
       " 'JohnnyKnoxville',\n",
       " 'SeanPenn',\n",
       " 'OliviaWilde',\n",
       " 'JimCarrey',\n",
       " 'RobertDeNiro',\n",
       " 'JohnTravolta',\n",
       " 'SeannWilliamScott',\n",
       " 'JimCarrey',\n",
       " 'CourteneyCox',\n",
       " 'DannyDeVito',\n",
       " 'KristenStewart',\n",
       " 'MikeMyers',\n",
       " 'MattDamon',\n",
       " 'KevinCostner',\n",
       " 'TomCruise',\n",
       " 'MarkWahlberg',\n",
       " 'JackNicholson',\n",
       " 'RobinWilliams',\n",
       " 'WillFerrell',\n",
       " 'AdamSandler',\n",
       " 'JoelCourtney',\n",
       " 'JuliaRoberts',\n",
       " 'KateHudson',\n",
       " 'JonahHill',\n",
       " 'BradPitt',\n",
       " 'JimCarrey',\n",
       " 'DwayneJohnson',\n",
       " 'JuliaRoberts',\n",
       " 'WillFerrell',\n",
       " 'MerylStreep',\n",
       " 'DenzelWashington',\n",
       " 'MelGibson',\n",
       " 'LauraLinney',\n",
       " 'MattDamon',\n",
       " 'NicolasCage',\n",
       " 'MatthewMcConaughey',\n",
       " 'NaomiWatts',\n",
       " 'SteveCarell',\n",
       " 'BillMurray',\n",
       " 'TimAllen',\n",
       " 'BradPitt',\n",
       " 'DustinHoffman',\n",
       " 'LiamNeeson',\n",
       " 'DwayneJohnson',\n",
       " 'NataliePortman',\n",
       " 'JackieChan',\n",
       " 'WillFerrell',\n",
       " 'LindsayLohan',\n",
       " 'MichaelDouglas',\n",
       " 'JeremyRenner',\n",
       " 'RichardGere',\n",
       " 'AlexPettyfer',\n",
       " 'GeorgeClooney',\n",
       " 'JamesBadgeDale',\n",
       " 'DiegoLuna',\n",
       " 'HarrisonFord',\n",
       " 'ClintEastwood',\n",
       " 'DemiMoore',\n",
       " 'MichaelDouglas',\n",
       " 'RadhaMitchell',\n",
       " 'KeanuReeves',\n",
       " 'JasonBiggs',\n",
       " 'SamuelL.Jackson',\n",
       " 'RichardArmitage',\n",
       " 'EddieMurphy',\n",
       " 'ZachGalligan',\n",
       " 'RobertDuvall',\n",
       " 'GeorgeClooney',\n",
       " 'MillaJovovich',\n",
       " 'RenéeZellweger',\n",
       " 'DenzelWashington',\n",
       " 'StevenSeagal',\n",
       " 'TaylorLautner',\n",
       " 'LeonardoDiCaprio',\n",
       " 'KateHudson',\n",
       " 'Rain',\n",
       " 'KevinCostner',\n",
       " 'DemiMoore',\n",
       " 'OwenWilson',\n",
       " 'MattDamon',\n",
       " 'SandraBullock',\n",
       " 'SylvesterStallone',\n",
       " 'GaspardUlliel',\n",
       " 'BruceWillis',\n",
       " 'SaoirseRonan',\n",
       " 'JohnTravolta',\n",
       " 'ClintEastwood',\n",
       " 'CliveOwen',\n",
       " 'KurtRussell',\n",
       " 'EliMarienthal',\n",
       " 'BillMurray',\n",
       " '',\n",
       " 'KevinSpacey',\n",
       " 'TommyLeeJones',\n",
       " 'LiamNeeson',\n",
       " 'NaomiWatts',\n",
       " 'PaulWalker',\n",
       " 'MillaJovovich',\n",
       " 'DannyMcBride',\n",
       " 'DanielCraig',\n",
       " 'JohnTravolta',\n",
       " 'JoeMantegna',\n",
       " 'DemiMoore',\n",
       " 'NaomiWatts',\n",
       " 'KeiraKnightley',\n",
       " 'DavidCaruso',\n",
       " 'GerardButler',\n",
       " 'AldenEhrenreich',\n",
       " 'RobinWilliams',\n",
       " 'BenStiller',\n",
       " 'OwenWilson',\n",
       " 'GarryShandling',\n",
       " ...]"
      ]
     },
     "execution_count": 62,
     "metadata": {},
     "output_type": "execute_result"
    }
   ],
   "source": [
    "cast_list = list(movies_cast['cast'])\n",
    "cast_list"
   ]
  },
  {
   "cell_type": "code",
   "execution_count": 63,
   "metadata": {
    "collapsed": false,
    "deletable": true,
    "editable": true
   },
   "outputs": [],
   "source": [
    "def count_elements(lst):\n",
    "    elements = {}\n",
    "    for elem in lst:\n",
    "        if elem in elements.keys():\n",
    "            elements[elem] +=1\n",
    "        else:\n",
    "            elements[elem] = 1\n",
    "    return elements"
   ]
  },
  {
   "cell_type": "code",
   "execution_count": 64,
   "metadata": {
    "collapsed": true
   },
   "outputs": [],
   "source": [
    "castcount = count_elements(cast_list)"
   ]
  },
  {
   "cell_type": "markdown",
   "metadata": {
    "deletable": true,
    "editable": true
   },
   "source": [
    "I'm going to create a new cast list and consider only those top-30 actors in the list."
   ]
  },
  {
   "cell_type": "code",
   "execution_count": 65,
   "metadata": {
    "collapsed": false,
    "deletable": true,
    "editable": true
   },
   "outputs": [
    {
     "data": {
      "text/plain": [
       "['BruceWillis',\n",
       " 'RobertDeNiro',\n",
       " 'NicolasCage',\n",
       " 'JohnnyDepp',\n",
       " 'DenzelWashington',\n",
       " 'TomHanks',\n",
       " 'TomCruise',\n",
       " 'ArnoldSchwarzenegger',\n",
       " 'MattDamon',\n",
       " 'AdamSandler',\n",
       " 'BenStiller',\n",
       " 'GeorgeClooney',\n",
       " 'JohnTravolta',\n",
       " 'EddieMurphy',\n",
       " 'MarkWahlberg',\n",
       " 'JimCarrey',\n",
       " 'SandraBullock',\n",
       " 'SylvesterStallone',\n",
       " 'HarrisonFord',\n",
       " 'KevinCostner',\n",
       " 'SeanConnery',\n",
       " 'WillFerrell',\n",
       " 'RobinWilliams',\n",
       " 'BradPitt',\n",
       " 'ChristianBale',\n",
       " 'BenAffleck',\n",
       " 'LeonardoDiCaprio',\n",
       " 'KeanuReeves',\n",
       " 'DwayneJohnson']"
      ]
     },
     "execution_count": 65,
     "metadata": {},
     "output_type": "execute_result"
    }
   ],
   "source": [
    "top30_cast = sorted(castcount, key=castcount.get, reverse=True)[1:30]\n",
    "top30_cast"
   ]
  },
  {
   "cell_type": "code",
   "execution_count": 66,
   "metadata": {
    "collapsed": false,
    "deletable": true,
    "editable": true
   },
   "outputs": [
    {
     "name": "stderr",
     "output_type": "stream",
     "text": [
      "D:\\Anaconda3\\lib\\site-packages\\ipykernel\\__main__.py:2: SettingWithCopyWarning: \n",
      "A value is trying to be set on a copy of a slice from a DataFrame.\n",
      "Try using .loc[row_indexer,col_indexer] = value instead\n",
      "\n",
      "See the caveats in the documentation: http://pandas.pydata.org/pandas-docs/stable/indexing.html#indexing-view-versus-copy\n",
      "  from ipykernel import kernelapp as app\n"
     ]
    }
   ],
   "source": [
    "for cast in top30_cast:\n",
    "    movies_cast[cast] = movies_cast['cast'].str.contains(cast).apply(lambda x:1 if x else 0)"
   ]
  },
  {
   "cell_type": "code",
   "execution_count": 67,
   "metadata": {
    "collapsed": false,
    "deletable": true,
    "editable": true
   },
   "outputs": [
    {
     "data": {
      "text/html": [
       "<div>\n",
       "<style>\n",
       "    .dataframe thead tr:only-child th {\n",
       "        text-align: right;\n",
       "    }\n",
       "\n",
       "    .dataframe thead th {\n",
       "        text-align: left;\n",
       "    }\n",
       "\n",
       "    .dataframe tbody tr th {\n",
       "        vertical-align: top;\n",
       "    }\n",
       "</style>\n",
       "<table border=\"1\" class=\"dataframe\">\n",
       "  <thead>\n",
       "    <tr style=\"text-align: right;\">\n",
       "      <th></th>\n",
       "      <th>movie_id</th>\n",
       "      <th>budget</th>\n",
       "      <th>title</th>\n",
       "      <th>release_year</th>\n",
       "      <th>release_month</th>\n",
       "      <th>cast</th>\n",
       "      <th>revenue</th>\n",
       "      <th>vote_average</th>\n",
       "      <th>vote_count</th>\n",
       "      <th>original_language</th>\n",
       "      <th>...</th>\n",
       "      <th>KevinCostner</th>\n",
       "      <th>SeanConnery</th>\n",
       "      <th>WillFerrell</th>\n",
       "      <th>RobinWilliams</th>\n",
       "      <th>BradPitt</th>\n",
       "      <th>ChristianBale</th>\n",
       "      <th>BenAffleck</th>\n",
       "      <th>LeonardoDiCaprio</th>\n",
       "      <th>KeanuReeves</th>\n",
       "      <th>DwayneJohnson</th>\n",
       "    </tr>\n",
       "  </thead>\n",
       "  <tbody>\n",
       "    <tr>\n",
       "      <th>0</th>\n",
       "      <td>19995</td>\n",
       "      <td>237000000</td>\n",
       "      <td>Avatar</td>\n",
       "      <td>2009.0</td>\n",
       "      <td>12.0</td>\n",
       "      <td>SamWorthington</td>\n",
       "      <td>2787965087</td>\n",
       "      <td>7.2</td>\n",
       "      <td>11800</td>\n",
       "      <td>en</td>\n",
       "      <td>...</td>\n",
       "      <td>0</td>\n",
       "      <td>0</td>\n",
       "      <td>0</td>\n",
       "      <td>0</td>\n",
       "      <td>0</td>\n",
       "      <td>0</td>\n",
       "      <td>0</td>\n",
       "      <td>0</td>\n",
       "      <td>0</td>\n",
       "      <td>0</td>\n",
       "    </tr>\n",
       "    <tr>\n",
       "      <th>1</th>\n",
       "      <td>285</td>\n",
       "      <td>300000000</td>\n",
       "      <td>Pirates of the Caribbean: At World's End</td>\n",
       "      <td>2007.0</td>\n",
       "      <td>5.0</td>\n",
       "      <td>JohnnyDepp</td>\n",
       "      <td>961000000</td>\n",
       "      <td>6.9</td>\n",
       "      <td>4500</td>\n",
       "      <td>en</td>\n",
       "      <td>...</td>\n",
       "      <td>0</td>\n",
       "      <td>0</td>\n",
       "      <td>0</td>\n",
       "      <td>0</td>\n",
       "      <td>0</td>\n",
       "      <td>0</td>\n",
       "      <td>0</td>\n",
       "      <td>0</td>\n",
       "      <td>0</td>\n",
       "      <td>0</td>\n",
       "    </tr>\n",
       "  </tbody>\n",
       "</table>\n",
       "<p>2 rows × 39 columns</p>\n",
       "</div>"
      ],
      "text/plain": [
       "   movie_id     budget                                     title  \\\n",
       "0     19995  237000000                                    Avatar   \n",
       "1       285  300000000  Pirates of the Caribbean: At World's End   \n",
       "\n",
       "   release_year  release_month            cast     revenue  vote_average  \\\n",
       "0        2009.0           12.0  SamWorthington  2787965087           7.2   \n",
       "1        2007.0            5.0      JohnnyDepp   961000000           6.9   \n",
       "\n",
       "   vote_count original_language      ...        KevinCostner  SeanConnery  \\\n",
       "0       11800                en      ...                   0            0   \n",
       "1        4500                en      ...                   0            0   \n",
       "\n",
       "   WillFerrell  RobinWilliams  BradPitt  ChristianBale  BenAffleck  \\\n",
       "0            0              0         0              0           0   \n",
       "1            0              0         0              0           0   \n",
       "\n",
       "   LeonardoDiCaprio  KeanuReeves  DwayneJohnson  \n",
       "0                 0            0              0  \n",
       "1                 0            0              0  \n",
       "\n",
       "[2 rows x 39 columns]"
      ]
     },
     "execution_count": 67,
     "metadata": {},
     "output_type": "execute_result"
    }
   ],
   "source": [
    "movies_cast.head(2)"
   ]
  },
  {
   "cell_type": "code",
   "execution_count": 69,
   "metadata": {
    "collapsed": false,
    "deletable": true,
    "editable": true
   },
   "outputs": [],
   "source": [
    "cast_count = []\n",
    "for cast in top30_cast:\n",
    "    cast_count.append([cast, movies_cast[cast].values.sum()])"
   ]
  },
  {
   "cell_type": "code",
   "execution_count": 70,
   "metadata": {
    "collapsed": false,
    "deletable": true,
    "editable": true
   },
   "outputs": [],
   "source": [
    "names = ['castname','castcount']\n",
    "cast_df = pd.DataFrame(data=cast_count, columns=names)\n",
    "cast_df.sort_values(\"castcount\", inplace=True, ascending=False)"
   ]
  },
  {
   "cell_type": "code",
   "execution_count": 71,
   "metadata": {
    "collapsed": false,
    "deletable": true,
    "editable": true
   },
   "outputs": [
    {
     "data": {
      "text/html": [
       "<div>\n",
       "<style>\n",
       "    .dataframe thead tr:only-child th {\n",
       "        text-align: right;\n",
       "    }\n",
       "\n",
       "    .dataframe thead th {\n",
       "        text-align: left;\n",
       "    }\n",
       "\n",
       "    .dataframe tbody tr th {\n",
       "        vertical-align: top;\n",
       "    }\n",
       "</style>\n",
       "<table border=\"1\" class=\"dataframe\">\n",
       "  <thead>\n",
       "    <tr style=\"text-align: right;\">\n",
       "      <th></th>\n",
       "      <th>castname</th>\n",
       "      <th>castcount</th>\n",
       "    </tr>\n",
       "  </thead>\n",
       "  <tbody>\n",
       "    <tr>\n",
       "      <th>0</th>\n",
       "      <td>BruceWillis</td>\n",
       "      <td>30</td>\n",
       "    </tr>\n",
       "    <tr>\n",
       "      <th>1</th>\n",
       "      <td>RobertDeNiro</td>\n",
       "      <td>30</td>\n",
       "    </tr>\n",
       "    <tr>\n",
       "      <th>2</th>\n",
       "      <td>NicolasCage</td>\n",
       "      <td>28</td>\n",
       "    </tr>\n",
       "    <tr>\n",
       "      <th>3</th>\n",
       "      <td>JohnnyDepp</td>\n",
       "      <td>27</td>\n",
       "    </tr>\n",
       "    <tr>\n",
       "      <th>4</th>\n",
       "      <td>DenzelWashington</td>\n",
       "      <td>25</td>\n",
       "    </tr>\n",
       "  </tbody>\n",
       "</table>\n",
       "</div>"
      ],
      "text/plain": [
       "           castname  castcount\n",
       "0       BruceWillis         30\n",
       "1      RobertDeNiro         30\n",
       "2       NicolasCage         28\n",
       "3        JohnnyDepp         27\n",
       "4  DenzelWashington         25"
      ]
     },
     "execution_count": 71,
     "metadata": {},
     "output_type": "execute_result"
    }
   ],
   "source": [
    "cast_df.head()"
   ]
  },
  {
   "cell_type": "code",
   "execution_count": 72,
   "metadata": {
    "collapsed": false,
    "deletable": true,
    "editable": true
   },
   "outputs": [],
   "source": [
    "cast_labels = cast_df.castname[cast_df['castcount']>15]"
   ]
  },
  {
   "cell_type": "code",
   "execution_count": 73,
   "metadata": {
    "collapsed": false,
    "deletable": true,
    "editable": true
   },
   "outputs": [
    {
     "data": {
      "text/plain": [
       "<matplotlib.text.Text at 0x2782edc4b00>"
      ]
     },
     "execution_count": 73,
     "metadata": {},
     "output_type": "execute_result"
    },
    {
     "data": {
      "image/png": "[encoded data removed]",
      "text/plain": [
       "<matplotlib.figure.Figure at 0x2782ee8f8d0>"
      ]
     },
     "metadata": {},
     "output_type": "display_data"
    }
   ],
   "source": [
    "plt.subplots(figsize=(10, 10))\n",
    "cast_df.castcount[cast_df['castcount']>15].plot.bar( align='center', alpha=0.5)\n",
    "y_pos = np.arange(len(cast_labels))\n",
    "#plt.yticks(y_pos, cast_labels)\n",
    "plt.xticks(y_pos, cast_labels)\n",
    "plt.ylabel('cast Count')"
   ]
  },
  {
   "cell_type": "markdown",
   "metadata": {
    "deletable": true,
    "editable": true
   },
   "source": [
    "### Leading Actors conclusion:\n",
    "The top leading actors are Bruce Willis, Robert De Niro, Nicolas Cage, Johnny Depp,\tDenzel Washington, Tom Hanks who has acted in 24 to 30movies.\n"
   ]
  },
  {
   "cell_type": "markdown",
   "metadata": {},
   "source": [
    "### 3.3) Creation of Movies director dataframe¶"
   ]
  },
  {
   "cell_type": "code",
   "execution_count": 74,
   "metadata": {
    "collapsed": false
   },
   "outputs": [],
   "source": [
    "movies_crew = allmovies_df[['movie_id','budget','title','release_year','release_month','crew','revenue','vote_average','vote_count','original_language']]"
   ]
  },
  {
   "cell_type": "code",
   "execution_count": 75,
   "metadata": {
    "collapsed": false
   },
   "outputs": [
    {
     "data": {
      "text/plain": [
       "movie_id             0\n",
       "budget               0\n",
       "title                0\n",
       "release_year         1\n",
       "release_month        1\n",
       "crew                 0\n",
       "revenue              0\n",
       "vote_average         0\n",
       "vote_count           0\n",
       "original_language    0\n",
       "dtype: int64"
      ]
     },
     "execution_count": 75,
     "metadata": {},
     "output_type": "execute_result"
    }
   ],
   "source": [
    "#movies_crew = movies_crew[movies_crew['crew'].notnull()]\n",
    "movies_crew.index = pd.RangeIndex(len(movies_crew.index))\n",
    "movies_crew.isnull().sum()"
   ]
  },
  {
   "cell_type": "markdown",
   "metadata": {
    "collapsed": false,
    "deletable": true,
    "editable": true
   },
   "source": [
    "crew_list = []\n",
    "for i in range(len(movies_crew)):\n",
    "    #print(movies_crew['crew'][i][0])\n",
    "    if movies_crew['crew'][i] is not None:\n",
    "        crew_list.append(movies_crew['crew'][i][0])"
   ]
  },
  {
   "cell_type": "code",
   "execution_count": 76,
   "metadata": {
    "collapsed": false
   },
   "outputs": [
    {
     "data": {
      "text/plain": [
       "['JamesCameron',\n",
       " 'GoreVerbinski',\n",
       " 'SamMendes',\n",
       " 'ChristopherNolan',\n",
       " 'AndrewStanton',\n",
       " 'SamRaimi',\n",
       " 'ByronHoward,NathanGreno',\n",
       " 'JossWhedon',\n",
       " 'DavidYates',\n",
       " 'ZackSnyder',\n",
       " 'BryanSinger',\n",
       " 'MarcForster',\n",
       " 'GoreVerbinski',\n",
       " 'GoreVerbinski',\n",
       " 'ZackSnyder',\n",
       " 'AndrewAdamson',\n",
       " 'JossWhedon',\n",
       " 'RobMarshall',\n",
       " 'BarrySonnenfeld',\n",
       " 'PeterJackson',\n",
       " 'MarcWebb',\n",
       " 'RidleyScott',\n",
       " 'PeterJackson',\n",
       " 'ChrisWeitz',\n",
       " 'PeterJackson',\n",
       " 'JamesCameron',\n",
       " 'AnthonyRusso,JoeRusso',\n",
       " 'PeterBerg',\n",
       " 'ColinTrevorrow',\n",
       " 'SamMendes',\n",
       " 'SamRaimi',\n",
       " 'ShaneBlack',\n",
       " 'TimBurton',\n",
       " 'BrettRatner',\n",
       " 'DanScanlon',\n",
       " 'MichaelBay',\n",
       " 'MichaelBay',\n",
       " 'SamRaimi',\n",
       " 'MarcWebb',\n",
       " 'JosephKosinski',\n",
       " 'JohnLasseter,BradLewis',\n",
       " 'MartinCampbell',\n",
       " 'LeeUnkrich',\n",
       " 'McG',\n",
       " 'JamesWan',\n",
       " 'MarcForster',\n",
       " 'BryanSinger',\n",
       " 'J.J.Abrams',\n",
       " 'BryanSinger',\n",
       " 'BazLuhrmann',\n",
       " 'MikeNewell',\n",
       " 'GuillermodelToro',\n",
       " 'MichaelBay',\n",
       " 'StevenSpielberg',\n",
       " 'PeterSohn',\n",
       " 'BrendaChapman,MarkAndrews,StevePurcell',\n",
       " 'JustinLin',\n",
       " 'AndrewStanton',\n",
       " 'BrettRatner',\n",
       " 'RolandEmmerich',\n",
       " 'RobertZemeckis',\n",
       " 'LillyWachowski,LanaWachowski',\n",
       " 'DavidYates',\n",
       " 'AndrewAdamson',\n",
       " 'BryanSinger',\n",
       " 'ChristopherNolan',\n",
       " 'PeteDocter',\n",
       " 'ConradVernon,RobLetterman',\n",
       " 'JonFavreau',\n",
       " 'MartinScorsese',\n",
       " 'BarrySonnenfeld',\n",
       " 'RobCohen',\n",
       " 'DavidAyer',\n",
       " 'TomShadyac',\n",
       " 'DougLiman',\n",
       " 'KevinReynolds',\n",
       " 'StephenSommers',\n",
       " 'PeteDocter',\n",
       " 'JonFavreau',\n",
       " 'JonFavreau',\n",
       " 'RupertSanders',\n",
       " 'RobertStromberg',\n",
       " 'MattReeves',\n",
       " 'RolandJoffé',\n",
       " 'CarlRinsch',\n",
       " 'AnthonyRusso,JoeRusso',\n",
       " 'MikeMitchell',\n",
       " 'BradBird',\n",
       " 'ChrisWilliams,DonHall',\n",
       " 'RichMoore',\n",
       " 'RobertZemeckis',\n",
       " 'RolandEmmerich',\n",
       " 'ChrisSanders,DeanDeBlois',\n",
       " 'JonathanMostow',\n",
       " 'JamesGunn',\n",
       " 'ChristopherNolan',\n",
       " 'ChristopherNolan',\n",
       " 'HideakiAnno,ShinjiHiguchi',\n",
       " 'PeterJackson',\n",
       " 'RobCohen',\n",
       " 'DavidFincher',\n",
       " 'MatthewVaughn',\n",
       " 'FrancisLawrence',\n",
       " 'JonTurteltaub',\n",
       " 'WolfgangPetersen',\n",
       " 'JamesBobin',\n",
       " 'ChrisMiller,RamanHui',\n",
       " 'DuncanJones',\n",
       " 'AlanTaylor',\n",
       " 'MichaelApted',\n",
       " 'MichaelBay',\n",
       " 'MichaelBay',\n",
       " 'OliverStone',\n",
       " 'DavidYates',\n",
       " 'MikeNewell',\n",
       " 'PeterBerg',\n",
       " 'FrancisLawrence',\n",
       " 'TimBurton',\n",
       " 'JanPinkava,BradBird',\n",
       " 'ChristopherNolan',\n",
       " 'EricDarnell,TomMcGrath',\n",
       " 'ShawnLevy',\n",
       " 'GavinHood',\n",
       " 'LillyWachowski,LanaWachowski',\n",
       " 'ChrisBuck,JenniferLee',\n",
       " 'LillyWachowski,LanaWachowski',\n",
       " 'AlanTaylor',\n",
       " 'GeorgeMiller',\n",
       " 'RonHoward',\n",
       " 'KennethBranagh',\n",
       " 'ChrisWilliams,ByronHoward',\n",
       " 'HoytYeatman',\n",
       " 'JonathanLiebesman',\n",
       " 'TimBurton',\n",
       " 'ChristopherMcQuarrie',\n",
       " 'JoeJohnston',\n",
       " 'SteveHickner,SimonJ.Smith',\n",
       " 'JenniferYuhNelson',\n",
       " 'M.NightShyamalan',\n",
       " 'J.J.Abrams',\n",
       " 'RolandEmmerich',\n",
       " 'SimonWells',\n",
       " 'DavidBowers,SamFell',\n",
       " 'JoeWright',\n",
       " 'RobMinkoff',\n",
       " 'WolfgangPetersen',\n",
       " 'ConradVernon,EricDarnell,TomMcGrath',\n",
       " 'LeeTamahori',\n",
       " 'PaulFeig',\n",
       " 'MichaelBay',\n",
       " 'BarrySonnenfeld',\n",
       " 'RobertZemeckis',\n",
       " 'JenniferYuhNelson,AlessandroCarloni',\n",
       " 'BradBird',\n",
       " 'PeterRamsey',\n",
       " 'DeanParisot',\n",
       " 'EdwardZwick',\n",
       " 'RidleyScott',\n",
       " 'J.J.Abrams',\n",
       " 'SamRaimi',\n",
       " 'DeanDeBlois',\n",
       " 'AlexProyas',\n",
       " 'RobCohen',\n",
       " 'ZackSnyder',\n",
       " 'RichardDonner',\n",
       " 'AngLee',\n",
       " 'JonM.Chu',\n",
       " 'BreckEisner',\n",
       " 'HironobuSakaguchi,MotonoriSakakibara',\n",
       " 'JoeJohnston',\n",
       " 'MichaelApted',\n",
       " 'PeterWeir',\n",
       " 'BillCondon',\n",
       " 'GeorgeMiller',\n",
       " 'LouisLeterrier',\n",
       " 'StevenSpielberg',\n",
       " 'AlejandroGonzálezIñárritu',\n",
       " 'DavidSoren',\n",
       " 'GoreVerbinski',\n",
       " 'EricDarnell,SimonJ.Smith',\n",
       " 'PaulGreengrass',\n",
       " 'MarkOsborne,JohnStevenson',\n",
       " 'PeytonReed',\n",
       " 'FrancisLawrence',\n",
       " 'TimJohnson',\n",
       " 'StevenSpielberg',\n",
       " 'MichaelBay',\n",
       " 'ChrisMiller',\n",
       " 'PhillipNoyce',\n",
       " 'DarrenAronofsky',\n",
       " 'StevenSpielberg',\n",
       " 'AlfonsoCuarón',\n",
       " 'BazLuhrmann',\n",
       " 'M.NightShyamalan',\n",
       " 'RalphZondag,EricLeighton',\n",
       " 'ShawnLevy',\n",
       " 'TomMcGrath',\n",
       " 'ChrisColumbus',\n",
       " 'RobertSchwentke',\n",
       " 'GoreVerbinski',\n",
       " 'FrancisLawrence',\n",
       " 'RonHoward',\n",
       " 'CarlosSaldanha',\n",
       " 'BryanSinger',\n",
       " 'JustinLin',\n",
       " 'GuyRitchie',\n",
       " 'LouisLeterrier',\n",
       " 'PaulVerhoeven',\n",
       " 'JohnMcTiernan',\n",
       " 'TonyGilroy',\n",
       " 'JoelSchumacher',\n",
       " 'RonHoward',\n",
       " 'RolandEmmerich',\n",
       " 'JohnWoo',\n",
       " 'WolfgangPetersen',\n",
       " 'TimStory',\n",
       " 'AngLee',\n",
       " 'MarkStevenJohnson',\n",
       " 'PaulGreengrass',\n",
       " 'McG',\n",
       " 'RidleyScott',\n",
       " 'RobMinkoff',\n",
       " 'NeillBlomkamp',\n",
       " 'DavidTwohy',\n",
       " 'JoséPadilha',\n",
       " 'LillyWachowski,LanaWachowski',\n",
       " 'JamesL.Brooks',\n",
       " 'JamesMangold',\n",
       " 'JosephKosinski',\n",
       " 'GeorgeLucas',\n",
       " 'GeorgeLucas',\n",
       " 'PeteDocter',\n",
       " 'JamesMangold',\n",
       " 'GeorgeLucas',\n",
       " 'ChrisSanders,KirkDeMicco',\n",
       " 'ThomasLangmann,FrédéricForestier',\n",
       " 'JohnWoo',\n",
       " 'CedricNicolas-Troyan',\n",
       " 'JonathanLiebesman',\n",
       " 'AlfonsoCuarón',\n",
       " 'RogerDonaldson',\n",
       " 'DaveGreen',\n",
       " 'JoshTrank',\n",
       " 'ShawnLevy',\n",
       " 'BradPeyton',\n",
       " 'RogerSpottiswoode',\n",
       " 'RolandEmmerich',\n",
       " 'StevenSoderbergh',\n",
       " 'DougLiman',\n",
       " 'RobertSchwentke',\n",
       " 'MartinScorsese',\n",
       " 'RobLetterman',\n",
       " 'MichelGondry',\n",
       " 'NoamMurro',\n",
       " 'RajaGosnell',\n",
       " 'WillFinn,JohnSanford',\n",
       " 'RobertSchwentke',\n",
       " 'ShawnLevy',\n",
       " 'RajaGosnell',\n",
       " 'JandeBont',\n",
       " 'GavinHood',\n",
       " 'LenWiseman',\n",
       " 'PeterJackson',\n",
       " 'FrankCoraci',\n",
       " 'MichaelMann',\n",
       " 'BoWelch',\n",
       " 'AlexProyas',\n",
       " 'RidleyScott',\n",
       " 'RobMinkoff',\n",
       " 'RonClements,JohnMusker',\n",
       " 'RidleyScott',\n",
       " 'MichaelBay',\n",
       " 'PeterChelsom',\n",
       " 'DominicSena',\n",
       " 'RidleyScott',\n",
       " 'StevenSpielberg',\n",
       " 'ChrisColumbus',\n",
       " 'MartinCampbell',\n",
       " 'TimBurton',\n",
       " 'JamesCameron',\n",
       " 'MichaelMann',\n",
       " 'RidleyScott',\n",
       " 'JamesCameron',\n",
       " 'TonyScott',\n",
       " 'PaulWeitz',\n",
       " 'AdamMcKay',\n",
       " 'ChuckRussell',\n",
       " 'QuentinTarantino',\n",
       " 'GaryTrousdale,KirkWise',\n",
       " 'MarkDindal',\n",
       " 'SimonWest',\n",
       " 'JonTurteltaub',\n",
       " 'StefenFangmeier',\n",
       " 'SpikeJonze',\n",
       " 'ChrisWedge',\n",
       " 'FlorianHenckelvonDonnersmarck',\n",
       " 'PeterHyams',\n",
       " 'EdwardZwick',\n",
       " 'MartinScorsese',\n",
       " 'JoelSchumacher',\n",
       " 'PaulVerhoeven',\n",
       " 'TomTykwer,LillyWachowski,LanaWachowski',\n",
       " 'ZackSnyder',\n",
       " 'Pitof',\n",
       " 'BrettRatner',\n",
       " 'RonClements,JohnMusker',\n",
       " 'BradSilberling',\n",
       " 'PatrickHughes',\n",
       " 'EricsonCore',\n",
       " 'LawrenceGuterman',\n",
       " 'RonHoward',\n",
       " 'RonUnderwood',\n",
       " 'PaulGreengrass',\n",
       " 'SteveMartino',\n",
       " 'DavidMamet',\n",
       " 'StephenSommers',\n",
       " 'MartinScorsese',\n",
       " 'ZhangYimou',\n",
       " 'AshBrannon,ChrisBuck',\n",
       " 'FrankOz',\n",
       " 'RidleyScott',\n",
       " 'JayRoach',\n",
       " 'LucBesson',\n",
       " 'MichaelPatrickKing',\n",
       " 'DonMichaelPaul,BiboBergeron',\n",
       " 'SteveMartino,MikeThurmeier',\n",
       " 'KennethBranagh',\n",
       " 'PeterJackson',\n",
       " 'AndrewStanton',\n",
       " 'PeterJackson',\n",
       " 'PeterJackson',\n",
       " 'SergeiBodrov',\n",
       " 'SimonWest',\n",
       " 'WallyPfister',\n",
       " 'JoeJohnston',\n",
       " 'RupertWyatt',\n",
       " 'MarkWaters',\n",
       " 'JohnMoore',\n",
       " 'JohnLeeHancock',\n",
       " 'BradBird',\n",
       " 'RennyHarlin',\n",
       " 'ChrisColumbus',\n",
       " 'BarrySonnenfeld',\n",
       " 'JohnLasseter',\n",
       " 'TonyScott',\n",
       " 'BrettRatner',\n",
       " 'RobertZemeckis',\n",
       " 'PhilLord,ChristopherMiller',\n",
       " 'CarlosSaldanha',\n",
       " 'BenStiller',\n",
       " 'McG',\n",
       " 'MartinScorsese',\n",
       " 'TonyBancroft,BarryCook',\n",
       " 'BenStiller',\n",
       " 'DavidFincher',\n",
       " 'JohnMcTiernan',\n",
       " 'GuyRitchie',\n",
       " 'TimurBekmambetov',\n",
       " 'GaryTrousdale,KirkWise',\n",
       " 'WaltBecker',\n",
       " 'BryanSinger',\n",
       " 'DennisDugan',\n",
       " 'ChrisColumbus',\n",
       " 'StevenSpielberg',\n",
       " 'RobMinkoff',\n",
       " 'RobertZemeckis',\n",
       " 'PaulVerhoeven',\n",
       " 'SydneyPollack',\n",
       " 'ThorFreudenthal',\n",
       " 'JandeBont',\n",
       " 'JonM.Chu',\n",
       " 'PhillipNoyce',\n",
       " 'TonyScott',\n",
       " 'BrianDePalma',\n",
       " 'CarlosSaldanha',\n",
       " 'ChrisColumbus',\n",
       " 'MickJackson',\n",
       " 'AlanJ.Pakula',\n",
       " 'KathrynBigelow',\n",
       " 'JohnMilius',\n",
       " 'RonHoward',\n",
       " 'AndreiKonchalovsky',\n",
       " 'GaryRoss',\n",
       " 'JandeBont',\n",
       " 'RobertZemeckis',\n",
       " 'GeorgeMiller',\n",
       " 'PaulGreengrass',\n",
       " 'WolfgangPetersen',\n",
       " 'StevenSoderbergh',\n",
       " 'PaulW.S.Anderson',\n",
       " 'GenndyTartakovsky',\n",
       " 'KevinLima',\n",
       " 'DanielEspinosa',\n",
       " 'KevinLima',\n",
       " 'BrettRatner',\n",
       " 'NancyMeyers',\n",
       " 'TonyScott',\n",
       " 'NancyMeyers',\n",
       " 'StevenSoderbergh',\n",
       " 'JillCulton,RogerAllers,AnthonyStacchi',\n",
       " 'NeilBurger',\n",
       " 'Jean-JacquesAnnaud',\n",
       " 'PeterBerg',\n",
       " 'JohnMcTiernan',\n",
       " 'RobMarshall',\n",
       " 'JustinLin',\n",
       " 'BarryCook,SarahSmith',\n",
       " 'MartinBrest',\n",
       " 'AndrewDavis',\n",
       " 'BobFosse',\n",
       " 'TarsemSingh',\n",
       " 'EdgarWright',\n",
       " 'JonAmiel',\n",
       " 'PeterSegal',\n",
       " 'RajaGosnell',\n",
       " 'PeteTravis',\n",
       " 'FrankCoraci',\n",
       " 'GeorgeA.Romero',\n",
       " 'BradPeyton',\n",
       " 'DougLiman',\n",
       " 'GuillermodelToro',\n",
       " 'DavidFincher',\n",
       " 'RogerSpottiswoode',\n",
       " 'TomShadyac',\n",
       " 'SylvesterStallone',\n",
       " 'BrianDePalma',\n",
       " 'GaryRoss',\n",
       " 'ToddPhillips',\n",
       " 'TimBurton',\n",
       " 'KareyKirkpatrick,TimJohnson',\n",
       " 'ChrisSanders,DeanDeBlois',\n",
       " 'GaryWinick',\n",
       " 'MimiLeder',\n",
       " 'DeanParisot',\n",
       " 'PeterSegal',\n",
       " 'MikeMitchell',\n",
       " 'DennisDugan',\n",
       " 'PeterSegal',\n",
       " 'NancyMeyers',\n",
       " 'MartinScorsese',\n",
       " 'SethGordon',\n",
       " 'ChrisWedge,CarlosSaldanha',\n",
       " 'JohnWoo',\n",
       " 'AdamShankman',\n",
       " 'SamMendes',\n",
       " 'DennisDugan',\n",
       " 'SimonWest',\n",
       " 'D.J.Caruso',\n",
       " 'AnthonyMinghella',\n",
       " 'AlbertHughes,AllenHughes',\n",
       " 'LesMayfield',\n",
       " 'JandeBont',\n",
       " 'JoePytka',\n",
       " 'ShawnLevy',\n",
       " 'ScottDerrickson',\n",
       " 'RichardDonner',\n",
       " 'DavidAyer',\n",
       " 'IvanReitman',\n",
       " 'EricBrevig',\n",
       " 'KellyAsbury,LornaCook',\n",
       " 'FrankCoraci',\n",
       " 'StephenHopkins',\n",
       " 'JonathanDemme',\n",
       " 'HenryJaglom',\n",
       " 'GenndyTartakovsky',\n",
       " 'JamesAlgar,DonHahn,GaëtanBrizzi,PaulBrizzi,EricGoldberg,HendelButoy,FrancisGlebas,PixoteHunt',\n",
       " 'SimonWells',\n",
       " 'RonUnderwood',\n",
       " 'DominicSena',\n",
       " 'MartinCampbell',\n",
       " 'VincentWard',\n",
       " 'StevenBrill',\n",
       " 'TerryGilliam',\n",
       " 'TimBurton',\n",
       " 'LucileHadzihalilovic',\n",
       " 'LeeTamahori',\n",
       " 'JonathanMostow',\n",
       " 'RogerDonaldson',\n",
       " 'RobCohen',\n",
       " 'BarryCook,NeilNightingale',\n",
       " 'RogerChristian',\n",
       " 'JoeDante',\n",
       " 'RobMarshall',\n",
       " 'RichardDonner',\n",
       " 'KevinCostner',\n",
       " 'GeorgeMiller',\n",
       " 'BreckEisner',\n",
       " 'AntonyHoffman',\n",
       " 'LucBesson',\n",
       " 'JacquesPerrin,JacquesCluzaud',\n",
       " 'PeterHyams',\n",
       " 'PaulW.S.Anderson',\n",
       " 'AndrésCouturier',\n",
       " 'RonHoward',\n",
       " 'RogerAllers,RobMinkoff',\n",
       " 'BradPeyton',\n",
       " 'CodyCameron,KrisPearn',\n",
       " 'BrettRatner',\n",
       " 'JoeJohnston',\n",
       " 'DennisDugan',\n",
       " 'JohnSingleton',\n",
       " 'MarkOsborne',\n",
       " 'OliverHirschbiegel,JamesMcTeigue',\n",
       " 'DesMcAnuff',\n",
       " 'ChrisRenaud',\n",
       " 'StephenNorrington',\n",
       " 'PierreCoffin,ChrisRenaud',\n",
       " 'RolandEmmerich',\n",
       " 'StevenSpielberg',\n",
       " 'EricDarnell,TomMcGrath',\n",
       " 'AlfonsoCuarón',\n",
       " 'BryanSinger',\n",
       " 'TimurBekmambetov',\n",
       " 'MichaelBay',\n",
       " 'CarlosSaldanha',\n",
       " 'PeterSegal',\n",
       " 'AdamShankman',\n",
       " 'RennyHarlin',\n",
       " 'DavidKellogg',\n",
       " 'LouisLeterrier',\n",
       " 'DennisDugan',\n",
       " 'StevenSpielberg',\n",
       " 'ThorFreudenthal',\n",
       " 'MartinCampbell',\n",
       " 'MikeNichols',\n",
       " 'VickyJenson,BiboBergeron,RobLetterman',\n",
       " 'BillCondon',\n",
       " 'F.GaryGray',\n",
       " 'StevenSpielberg',\n",
       " 'AntoineFuqua',\n",
       " 'RobertLuketic',\n",
       " 'GuyRitchie',\n",
       " 'JamesL.Brooks',\n",
       " 'GilKenan',\n",
       " 'BarryLevinson',\n",
       " 'JerryZucker',\n",
       " 'AndyTennant',\n",
       " 'TarsemSingh',\n",
       " 'Florent-EmilioSiri',\n",
       " 'GaryGoldman,DonBluth',\n",
       " 'RonShelton',\n",
       " 'PaulW.S.Anderson',\n",
       " 'ÀlexPastor,DavidPastor',\n",
       " 'HenrySelick',\n",
       " 'JohnMoore',\n",
       " 'M.NightShyamalan',\n",
       " 'KyleBalda,PierreCoffin',\n",
       " 'ZackSnyder',\n",
       " 'BrianDePalma',\n",
       " 'BarryLevinson',\n",
       " 'FergalReilly,ClayKaytis',\n",
       " 'AndyTennant',\n",
       " 'JuddApatow',\n",
       " 'PeterBerg',\n",
       " 'AdamMcKay',\n",
       " 'SteveCarr',\n",
       " 'MelGibson',\n",
       " 'SamMendes',\n",
       " 'DavidSilverman',\n",
       " 'FrankDarabont',\n",
       " 'RennyHarlin',\n",
       " 'Jean-JacquesAnnaud',\n",
       " 'M.NightShyamalan',\n",
       " 'BettyThomas',\n",
       " 'M.NightShyamalan',\n",
       " 'AndrewAdamson,KellyAsbury,ConradVernon',\n",
       " 'JohnLasseter,JoeRanft',\n",
       " 'GarryMarshall',\n",
       " 'RobCohen',\n",
       " 'PaulTibbitt',\n",
       " 'RonHoward',\n",
       " 'QuentinTarantino',\n",
       " 'StevenSpielberg',\n",
       " 'RennyHarlin',\n",
       " 'ClarkJohnson',\n",
       " 'CameronCrowe',\n",
       " 'M.NightShyamalan',\n",
       " 'PaulW.S.Anderson',\n",
       " 'BettyThomas',\n",
       " 'RandallWallace',\n",
       " 'AntoineFuqua',\n",
       " 'JonathanFrakes',\n",
       " 'JonathanLiebesman',\n",
       " 'TimBurton',\n",
       " 'MikeNichols',\n",
       " 'StevenSpielberg',\n",
       " 'GeorgeClooney',\n",
       " 'JamesCameron',\n",
       " 'OliverStone',\n",
       " 'GaryShore',\n",
       " 'EdwardZwick',\n",
       " 'MatthewVaughn',\n",
       " 'Jean-JacquesAnnaud',\n",
       " 'RonHoward',\n",
       " 'JoelSchumacher',\n",
       " 'AndrzejBartkowiak',\n",
       " 'BettyThomas',\n",
       " 'MånsMårlind,BjörnStein',\n",
       " 'AdamShankman',\n",
       " 'GregoryHoblit',\n",
       " 'GaryMcKendry',\n",
       " 'JohnMcTiernan',\n",
       " 'WychKaosayananda',\n",
       " 'MikaelSalomon',\n",
       " 'BobbyFarrelly,PeterFarrelly',\n",
       " 'DanSt.Pierre',\n",
       " 'MichaelMann',\n",
       " 'KerryConran',\n",
       " 'MichaelCaton-Jones',\n",
       " 'MikaelHåfström',\n",
       " 'RennyHarlin',\n",
       " 'PhilAldenRobinson',\n",
       " 'DavidSlade',\n",
       " 'FrankOz',\n",
       " 'PierreCoffin,ChrisRenaud',\n",
       " 'JosephRuben',\n",
       " 'SethMacFarlane',\n",
       " 'AlejandroAmenábar',\n",
       " 'KinkaUsher',\n",
       " 'BobbyFarrelly,PeterFarrelly',\n",
       " 'MichaelMann',\n",
       " 'CraigGillespie',\n",
       " 'RidleyScott',\n",
       " 'JayRoach',\n",
       " 'TimurBekmambetov',\n",
       " 'JonAmiel',\n",
       " 'RobBowman',\n",
       " 'DougLefler',\n",
       " 'StevenSpielberg',\n",
       " 'ScottWaugh',\n",
       " 'NancyMeyers',\n",
       " 'ChrisWedge',\n",
       " 'LawrenceKasdan',\n",
       " 'StevenSpielberg',\n",
       " 'LillyWachowski,LanaWachowski',\n",
       " 'RonHoward',\n",
       " 'MichaelLembeck',\n",
       " 'TomHooper',\n",
       " 'NoraEphron',\n",
       " 'AdamMcKay',\n",
       " 'MartinCampbell',\n",
       " 'ToddPhillips',\n",
       " 'AngelinaJolie',\n",
       " 'ClintEastwood',\n",
       " 'RennyHarlin',\n",
       " 'JohnWoo',\n",
       " 'JonTurteltaub',\n",
       " 'OliverStone',\n",
       " 'MikeNewell',\n",
       " 'LarryCharles',\n",
       " 'StanleyKubrick',\n",
       " 'WillGluck',\n",
       " 'GlennFicarra,JohnRequa',\n",
       " 'McG',\n",
       " 'DavidS.Goyer',\n",
       " 'JohnMilius',\n",
       " 'MikeNichols',\n",
       " 'PaulW.S.Anderson',\n",
       " 'PaulW.S.Anderson',\n",
       " 'RennyHarlin',\n",
       " 'TaylorHackford',\n",
       " 'JonFavreau',\n",
       " 'DavidFincher',\n",
       " 'McG',\n",
       " 'MichaelLehmann',\n",
       " 'NoraEphron',\n",
       " 'StuartBeattie',\n",
       " 'RomanPolanski',\n",
       " 'RobBowman',\n",
       " 'RobertRodriguez,FrankMiller',\n",
       " 'SydneyPollack',\n",
       " 'BaltasarKormákur',\n",
       " 'TomTykwer',\n",
       " 'JayRoach',\n",
       " 'DavidBowers',\n",
       " 'StevenSpielberg',\n",
       " 'LawrenceKasdan',\n",
       " 'PhillipNoyce',\n",
       " 'DanielLee',\n",
       " 'KeenenIvoryWayans',\n",
       " 'JonathanMostow',\n",
       " 'RobReiner',\n",
       " 'MarcoSchnabel',\n",
       " 'DemianLichtenstein',\n",
       " 'QuentinTarantino',\n",
       " 'JoshGordon,WillSpeck',\n",
       " 'TimHill',\n",
       " 'ZackSnyder',\n",
       " 'JayRoach',\n",
       " 'DavidFrankel',\n",
       " 'FrankDarabont',\n",
       " 'WaltBecker',\n",
       " 'MarkDindal',\n",
       " 'DavidFincher',\n",
       " 'DougLiman',\n",
       " 'MartinCampbell',\n",
       " 'SimonWest',\n",
       " 'PeterWeir',\n",
       " 'SimonWells,SteveHickner,BrendaChapman',\n",
       " 'SteveCarr',\n",
       " 'BaltasarKormákur',\n",
       " 'LawrenceGuterman',\n",
       " 'F.GaryGray',\n",
       " 'MarcLawrence',\n",
       " 'EricDarnell,TimJohnson',\n",
       " 'PeterBillingsley',\n",
       " 'TonyScott',\n",
       " 'AdamShankman',\n",
       " 'WesBall',\n",
       " 'RyanMurphy',\n",
       " 'BrettRatner',\n",
       " 'RobertSchwentke',\n",
       " 'OliverStone',\n",
       " 'RobertRedford',\n",
       " 'MichaelMann',\n",
       " 'ChuckRussell',\n",
       " 'JayRussell',\n",
       " 'ChristopherMcQuarrie',\n",
       " 'RennyHarlin',\n",
       " 'KennyOrtega',\n",
       " 'StevenSoderbergh',\n",
       " 'DavidMcNally',\n",
       " 'HenrySelick',\n",
       " 'M.NightShyamalan',\n",
       " 'TonyScott',\n",
       " 'BrianRobbins',\n",
       " 'ToddPhillips',\n",
       " 'BrianLevant',\n",
       " 'GuillermodelToro',\n",
       " 'StevenZaillian',\n",
       " 'SamFell,ChrisButler',\n",
       " 'MichaelCaton-Jones',\n",
       " 'JohnWoo',\n",
       " 'JonAvnet',\n",
       " 'RobertStevenhagen,SamFell',\n",
       " 'KevinDonovan',\n",
       " 'GeoffMurphy',\n",
       " 'KennethBranagh',\n",
       " 'DavidO.Russell',\n",
       " 'BabakNajafi',\n",
       " 'Jean-PierreJeunet',\n",
       " 'AntoineFuqua',\n",
       " 'AnthonyStacchi,GrahamAnnable',\n",
       " 'GriffinDunne',\n",
       " 'PhilLord,ChristopherMiller',\n",
       " 'JohnPasquin',\n",
       " 'RobBowman',\n",
       " 'RubenFleischer',\n",
       " 'HaroldRamis',\n",
       " 'ClintEastwood',\n",
       " 'KevinMacdonald',\n",
       " 'TonyGilroy',\n",
       " 'DonaldPetrie',\n",
       " 'ClarkJohnson',\n",
       " 'JorgeBlanco,JavierAbad,MarcosMartínez',\n",
       " 'StuartBaird',\n",
       " 'JoelCoen',\n",
       " 'RobertLorenz',\n",
       " 'MartinCampbell',\n",
       " 'PeterHyams',\n",
       " 'HaroldRamis',\n",
       " 'JonAvnet',\n",
       " 'HaroldBecker',\n",
       " 'JoeWright',\n",
       " 'RobertRedford',\n",
       " 'CameronCrowe',\n",
       " 'TimHill',\n",
       " 'LeeTamahori',\n",
       " 'ScottStewart',\n",
       " 'TimJohnson,PatrickGilmore',\n",
       " 'PaulW.S.Anderson',\n",
       " 'TomShadyac',\n",
       " 'BrianDePalma',\n",
       " 'TonyBill',\n",
       " 'RodLurie',\n",
       " 'WalterHill,JackSholder',\n",
       " 'AkivaGoldsman',\n",
       " 'HaraldZwart',\n",
       " 'BrianRobbins',\n",
       " 'WalterSalles',\n",
       " 'RonHoward',\n",
       " 'IainSoftley',\n",
       " 'FrankMiller',\n",
       " 'DavidKoepp',\n",
       " 'UweBoll',\n",
       " 'MartinCampbell',\n",
       " 'SoiCheang',\n",
       " 'JohnDahl',\n",
       " 'TimMiller',\n",
       " 'StephenHerek',\n",
       " 'ClintEastwood',\n",
       " 'RobLetterman',\n",
       " 'MarkWaters',\n",
       " 'BrianLevant',\n",
       " 'PeterMacDonald',\n",
       " 'GeorgeClooney',\n",
       " 'FrankCoraci',\n",
       " 'MarcLawrence',\n",
       " 'ShawnLevy',\n",
       " 'PaulW.S.Anderson',\n",
       " 'AnthonyHemingway',\n",
       " 'TaylorHackford',\n",
       " 'SeanAnders',\n",
       " 'RobCohen',\n",
       " 'BrettRatner',\n",
       " 'BrianTaylor,MarkNeveldine',\n",
       " 'JohnMadden',\n",
       " 'AdamShankman',\n",
       " 'KevinBray',\n",
       " 'RobertZemeckis',\n",
       " 'TimHill',\n",
       " 'JayRoach',\n",
       " 'MikeGabriel,EricGoldberg',\n",
       " 'RichardDonner',\n",
       " 'TomShadyac',\n",
       " 'AndyTennant',\n",
       " 'SamWeisman',\n",
       " 'JesseDylan',\n",
       " 'PaulGreengrass',\n",
       " 'ShawnLevy',\n",
       " 'BradSilberling',\n",
       " 'AntoineFuqua',\n",
       " 'WayneWang',\n",
       " 'TonyScott',\n",
       " 'GabrieleMuccino',\n",
       " 'RobertSchwentke',\n",
       " 'BarryLevinson',\n",
       " 'BradSilberling',\n",
       " 'QuentinTarantino',\n",
       " 'FrankOz',\n",
       " 'QuentinTarantino',\n",
       " 'AndreiKonchalovsky,AlbertMagnoli',\n",
       " 'RobertZemeckis',\n",
       " 'TomDey',\n",
       " 'StuartBaird',\n",
       " 'MarkWaters',\n",
       " 'RobMinkoff',\n",
       " 'JimmyHayward',\n",
       " 'DavidFincher',\n",
       " 'AlanParker',\n",
       " 'JohnFrankenheimer',\n",
       " 'StephenHopkins',\n",
       " 'PaulKing',\n",
       " 'AkivaSchaffer',\n",
       " 'WilliamFriedkin',\n",
       " 'JonTurteltaub',\n",
       " 'BobbyFarrelly,PeterFarrelly',\n",
       " 'KentAlterman',\n",
       " 'PeterLord,JeffNewitt',\n",
       " 'ClintEastwood',\n",
       " 'AndrewDavis',\n",
       " 'TonyScott',\n",
       " 'JoelSchumacher',\n",
       " 'ShekharKapur',\n",
       " 'KarynKusama',\n",
       " 'RonaldF.Maxwell',\n",
       " 'RobertButler',\n",
       " 'KareyKirkpatrick',\n",
       " 'JamesBobin',\n",
       " 'JonathanFrakes',\n",
       " 'SteveAntin',\n",
       " 'Jean-PierreJeunet',\n",
       " 'StanleyKubrick',\n",
       " 'JimGillespie',\n",
       " 'GuillermodelToro',\n",
       " 'GabrieleMuccino',\n",
       " 'WalterHill',\n",
       " 'FrancisFordCoppola',\n",
       " 'CameronCrowe',\n",
       " 'AnthonyRusso,JoeRusso',\n",
       " 'RichardLester',\n",
       " 'MartinBrest',\n",
       " 'StevenZaillian',\n",
       " 'JohnSingleton',\n",
       " 'GaryGoldman,DonBluth',\n",
       " 'BazLuhrmann',\n",
       " 'HaroldBecker',\n",
       " 'ScottCooper',\n",
       " 'ClintEastwood',\n",
       " 'F.GaryGray',\n",
       " 'RobertRodriguez,QuentinTarantino,EdgarWright,EliRoth,RobZombie,JasonEisener',\n",
       " 'JonathanDemme',\n",
       " 'CurtisHanson',\n",
       " 'StevenSpielberg',\n",
       " 'KathrynBigelow',\n",
       " 'PeytonReed',\n",
       " 'PhyllidaLloyd',\n",
       " 'GarryMarshall',\n",
       " 'JayChandrasekhar',\n",
       " 'TerrenceMalick',\n",
       " 'DavidDobkin',\n",
       " 'MilošForman',\n",
       " 'MartinScorsese',\n",
       " 'PierreMorel',\n",
       " 'PaulHunter',\n",
       " 'BobbyFarrelly,PeterFarrelly',\n",
       " 'SteveOedekerk',\n",
       " 'JohnWhitesell',\n",
       " 'ChrisWeitz',\n",
       " 'AndrewAdamson,VickyJenson',\n",
       " 'GeorgeNolfi',\n",
       " 'KevinReynolds',\n",
       " 'CameronCrowe',\n",
       " 'SethMacFarlane',\n",
       " 'JamesL.Brooks',\n",
       " 'TomShadyac',\n",
       " 'AdamMcKay',\n",
       " 'StevenBrill',\n",
       " 'J.J.Abrams',\n",
       " 'StevenSoderbergh',\n",
       " 'DonaldPetrie',\n",
       " 'PhilLord,ChristopherMiller',\n",
       " 'NeilJordan',\n",
       " 'PeytonReed',\n",
       " 'RawsonMarshallThurber',\n",
       " 'ChrisColumbus',\n",
       " 'SeanAnders',\n",
       " 'RobMarshall',\n",
       " 'SpikeLee',\n",
       " 'BrianHelgeland',\n",
       " 'FrankMarshall',\n",
       " 'CameronCrowe',\n",
       " 'AlexProyas',\n",
       " 'TomDey',\n",
       " 'HideoNakata',\n",
       " 'GlennFicarra,JohnRequa',\n",
       " 'PeterHewitt',\n",
       " 'JoeRoth',\n",
       " 'BennettMiller',\n",
       " 'WolfgangPetersen',\n",
       " 'JaumeCollet-Serra',\n",
       " 'AndyFickman',\n",
       " 'JamesMcTeigue',\n",
       " 'DavidDobkin',\n",
       " 'MatthewOCallaghan',\n",
       " 'AngelaRobinson',\n",
       " 'GaryFleder',\n",
       " 'TommyWirkola',\n",
       " 'AdrianLyne',\n",
       " 'D.J.Caruso',\n",
       " 'StephenGaghan',\n",
       " 'MichaelBay',\n",
       " 'JorgeR.Gutierrez',\n",
       " 'RichardLoncraine',\n",
       " 'ClintEastwood',\n",
       " 'RidleyScott',\n",
       " 'DavidFincher',\n",
       " 'ChristopheGans',\n",
       " 'HowardDeutch',\n",
       " 'JonHurwitz,HaydenSchlossberg',\n",
       " 'F.GaryGray',\n",
       " 'StevenQuale',\n",
       " 'JohnLandis',\n",
       " 'JoeDante',\n",
       " 'DavidDobkin',\n",
       " 'MimiLeder',\n",
       " 'AlexanderWitt',\n",
       " 'BeebanKidron',\n",
       " 'CarlFranklin',\n",
       " 'StevenSeagal',\n",
       " 'RobertRodriguez',\n",
       " 'DannyBoyle',\n",
       " 'GarryMarshall',\n",
       " 'JamesMcTeigue',\n",
       " 'SamRaimi',\n",
       " 'AndrewBergman',\n",
       " 'TomDey',\n",
       " 'ClintEastwood',\n",
       " 'BarbetSchroeder',\n",
       " 'RichardDonner',\n",
       " 'PeterWebber',\n",
       " 'RobReiner',\n",
       " 'AndrewNiccol',\n",
       " 'JohnMcTiernan',\n",
       " 'ClintEastwood',\n",
       " 'TomTykwer',\n",
       " 'JohnCarpenter',\n",
       " 'BradBird',\n",
       " 'WesAnderson',\n",
       " 'GaryRoss',\n",
       " 'AlanParker',\n",
       " 'StephenHerek',\n",
       " 'JaumeCollet-Serra',\n",
       " 'DavidCronenberg',\n",
       " 'JohnStockwell',\n",
       " 'LucBesson',\n",
       " 'DavidGordonGreen',\n",
       " 'JimSheridan',\n",
       " 'Costa-Gavras',\n",
       " 'PatrickReadJohnson',\n",
       " 'RolandJoffé',\n",
       " 'DougLiman',\n",
       " 'TonyScott',\n",
       " 'WilliamFriedkin',\n",
       " 'BrianTaylor,MarkNeveldine',\n",
       " 'RichardLaGravenese',\n",
       " 'DannyDeVito',\n",
       " 'BenStiller',\n",
       " 'GeorgeArmitage',\n",
       " 'MikeNichols',\n",
       " ...]"
      ]
     },
     "execution_count": 76,
     "metadata": {},
     "output_type": "execute_result"
    }
   ],
   "source": [
    "crew_list = list(movies_crew['crew'])\n",
    "crew_list"
   ]
  },
  {
   "cell_type": "code",
   "execution_count": 77,
   "metadata": {
    "collapsed": false
   },
   "outputs": [],
   "source": [
    "crewcount = count_elements(crew_list)"
   ]
  },
  {
   "cell_type": "code",
   "execution_count": 78,
   "metadata": {
    "collapsed": false
   },
   "outputs": [],
   "source": [
    "top30_crew = sorted(crewcount, key=crewcount.get, reverse=True)[1:30]"
   ]
  },
  {
   "cell_type": "code",
   "execution_count": 79,
   "metadata": {
    "collapsed": false
   },
   "outputs": [
    {
     "name": "stderr",
     "output_type": "stream",
     "text": [
      "D:\\Anaconda3\\lib\\site-packages\\ipykernel\\__main__.py:2: SettingWithCopyWarning: \n",
      "A value is trying to be set on a copy of a slice from a DataFrame.\n",
      "Try using .loc[row_indexer,col_indexer] = value instead\n",
      "\n",
      "See the caveats in the documentation: http://pandas.pydata.org/pandas-docs/stable/indexing.html#indexing-view-versus-copy\n",
      "  from ipykernel import kernelapp as app\n"
     ]
    }
   ],
   "source": [
    "for crew in top30_crew:\n",
    "    movies_crew[crew] = movies_crew['crew'].str.contains(crew).apply(lambda x:1 if x else 0)"
   ]
  },
  {
   "cell_type": "code",
   "execution_count": 80,
   "metadata": {
    "collapsed": false
   },
   "outputs": [
    {
     "data": {
      "text/html": [
       "<div>\n",
       "<style>\n",
       "    .dataframe thead tr:only-child th {\n",
       "        text-align: right;\n",
       "    }\n",
       "\n",
       "    .dataframe thead th {\n",
       "        text-align: left;\n",
       "    }\n",
       "\n",
       "    .dataframe tbody tr th {\n",
       "        vertical-align: top;\n",
       "    }\n",
       "</style>\n",
       "<table border=\"1\" class=\"dataframe\">\n",
       "  <thead>\n",
       "    <tr style=\"text-align: right;\">\n",
       "      <th></th>\n",
       "      <th>movie_id</th>\n",
       "      <th>budget</th>\n",
       "      <th>title</th>\n",
       "      <th>release_year</th>\n",
       "      <th>release_month</th>\n",
       "      <th>crew</th>\n",
       "      <th>revenue</th>\n",
       "      <th>vote_average</th>\n",
       "      <th>vote_count</th>\n",
       "      <th>original_language</th>\n",
       "      <th>...</th>\n",
       "      <th>SamRaimi</th>\n",
       "      <th>ShawnLevy</th>\n",
       "      <th>RichardDonner</th>\n",
       "      <th>ChrisColumbus</th>\n",
       "      <th>BobbyFarrelly,PeterFarrelly</th>\n",
       "      <th>RobReiner</th>\n",
       "      <th>FrancisFordCoppola</th>\n",
       "      <th>RichardLinklater</th>\n",
       "      <th>DavidFincher</th>\n",
       "      <th>JohnMcTiernan</th>\n",
       "    </tr>\n",
       "  </thead>\n",
       "  <tbody>\n",
       "    <tr>\n",
       "      <th>0</th>\n",
       "      <td>19995</td>\n",
       "      <td>237000000</td>\n",
       "      <td>Avatar</td>\n",
       "      <td>2009.0</td>\n",
       "      <td>12.0</td>\n",
       "      <td>JamesCameron</td>\n",
       "      <td>2787965087</td>\n",
       "      <td>7.2</td>\n",
       "      <td>11800</td>\n",
       "      <td>en</td>\n",
       "      <td>...</td>\n",
       "      <td>0</td>\n",
       "      <td>0</td>\n",
       "      <td>0</td>\n",
       "      <td>0</td>\n",
       "      <td>0</td>\n",
       "      <td>0</td>\n",
       "      <td>0</td>\n",
       "      <td>0</td>\n",
       "      <td>0</td>\n",
       "      <td>0</td>\n",
       "    </tr>\n",
       "    <tr>\n",
       "      <th>1</th>\n",
       "      <td>285</td>\n",
       "      <td>300000000</td>\n",
       "      <td>Pirates of the Caribbean: At World's End</td>\n",
       "      <td>2007.0</td>\n",
       "      <td>5.0</td>\n",
       "      <td>GoreVerbinski</td>\n",
       "      <td>961000000</td>\n",
       "      <td>6.9</td>\n",
       "      <td>4500</td>\n",
       "      <td>en</td>\n",
       "      <td>...</td>\n",
       "      <td>0</td>\n",
       "      <td>0</td>\n",
       "      <td>0</td>\n",
       "      <td>0</td>\n",
       "      <td>0</td>\n",
       "      <td>0</td>\n",
       "      <td>0</td>\n",
       "      <td>0</td>\n",
       "      <td>0</td>\n",
       "      <td>0</td>\n",
       "    </tr>\n",
       "    <tr>\n",
       "      <th>2</th>\n",
       "      <td>206647</td>\n",
       "      <td>245000000</td>\n",
       "      <td>Spectre</td>\n",
       "      <td>2015.0</td>\n",
       "      <td>10.0</td>\n",
       "      <td>SamMendes</td>\n",
       "      <td>880674609</td>\n",
       "      <td>6.3</td>\n",
       "      <td>4466</td>\n",
       "      <td>en</td>\n",
       "      <td>...</td>\n",
       "      <td>0</td>\n",
       "      <td>0</td>\n",
       "      <td>0</td>\n",
       "      <td>0</td>\n",
       "      <td>0</td>\n",
       "      <td>0</td>\n",
       "      <td>0</td>\n",
       "      <td>0</td>\n",
       "      <td>0</td>\n",
       "      <td>0</td>\n",
       "    </tr>\n",
       "  </tbody>\n",
       "</table>\n",
       "<p>3 rows × 39 columns</p>\n",
       "</div>"
      ],
      "text/plain": [
       "   movie_id     budget                                     title  \\\n",
       "0     19995  237000000                                    Avatar   \n",
       "1       285  300000000  Pirates of the Caribbean: At World's End   \n",
       "2    206647  245000000                                   Spectre   \n",
       "\n",
       "   release_year  release_month           crew     revenue  vote_average  \\\n",
       "0        2009.0           12.0   JamesCameron  2787965087           7.2   \n",
       "1        2007.0            5.0  GoreVerbinski   961000000           6.9   \n",
       "2        2015.0           10.0      SamMendes   880674609           6.3   \n",
       "\n",
       "   vote_count original_language      ...        SamRaimi  ShawnLevy  \\\n",
       "0       11800                en      ...               0          0   \n",
       "1        4500                en      ...               0          0   \n",
       "2        4466                en      ...               0          0   \n",
       "\n",
       "   RichardDonner  ChrisColumbus  BobbyFarrelly,PeterFarrelly  RobReiner  \\\n",
       "0              0              0                            0          0   \n",
       "1              0              0                            0          0   \n",
       "2              0              0                            0          0   \n",
       "\n",
       "   FrancisFordCoppola  RichardLinklater  DavidFincher  JohnMcTiernan  \n",
       "0                   0                 0             0              0  \n",
       "1                   0                 0             0              0  \n",
       "2                   0                 0             0              0  \n",
       "\n",
       "[3 rows x 39 columns]"
      ]
     },
     "execution_count": 80,
     "metadata": {},
     "output_type": "execute_result"
    }
   ],
   "source": [
    "movies_crew.head(3)"
   ]
  },
  {
   "cell_type": "code",
   "execution_count": 81,
   "metadata": {
    "collapsed": false
   },
   "outputs": [],
   "source": [
    "crew_count = []\n",
    "for crew in top30_crew:\n",
    "    crew_count.append([crew, movies_crew[crew].values.sum()])"
   ]
  },
  {
   "cell_type": "code",
   "execution_count": 82,
   "metadata": {
    "collapsed": true
   },
   "outputs": [],
   "source": [
    "names = ['crewname','crewcount']\n",
    "crew_df = pd.DataFrame(data=crew_count, columns=names)\n",
    "crew_df.sort_values(\"crewcount\", inplace=True, ascending=False)"
   ]
  },
  {
   "cell_type": "code",
   "execution_count": 83,
   "metadata": {
    "collapsed": false
   },
   "outputs": [
    {
     "data": {
      "text/html": [
       "<div>\n",
       "<style>\n",
       "    .dataframe thead tr:only-child th {\n",
       "        text-align: right;\n",
       "    }\n",
       "\n",
       "    .dataframe thead th {\n",
       "        text-align: left;\n",
       "    }\n",
       "\n",
       "    .dataframe tbody tr th {\n",
       "        vertical-align: top;\n",
       "    }\n",
       "</style>\n",
       "<table border=\"1\" class=\"dataframe\">\n",
       "  <thead>\n",
       "    <tr style=\"text-align: right;\">\n",
       "      <th></th>\n",
       "      <th>crewname</th>\n",
       "      <th>crewcount</th>\n",
       "    </tr>\n",
       "  </thead>\n",
       "  <tbody>\n",
       "    <tr>\n",
       "      <th>0</th>\n",
       "      <td>StevenSpielberg</td>\n",
       "      <td>27</td>\n",
       "    </tr>\n",
       "    <tr>\n",
       "      <th>1</th>\n",
       "      <td>WoodyAllen</td>\n",
       "      <td>22</td>\n",
       "    </tr>\n",
       "    <tr>\n",
       "      <th>2</th>\n",
       "      <td>MartinScorsese</td>\n",
       "      <td>21</td>\n",
       "    </tr>\n",
       "    <tr>\n",
       "      <th>3</th>\n",
       "      <td>ClintEastwood</td>\n",
       "      <td>20</td>\n",
       "    </tr>\n",
       "    <tr>\n",
       "      <th>17</th>\n",
       "      <td>RobertRodriguez</td>\n",
       "      <td>17</td>\n",
       "    </tr>\n",
       "  </tbody>\n",
       "</table>\n",
       "</div>"
      ],
      "text/plain": [
       "           crewname  crewcount\n",
       "0   StevenSpielberg         27\n",
       "1        WoodyAllen         22\n",
       "2    MartinScorsese         21\n",
       "3     ClintEastwood         20\n",
       "17  RobertRodriguez         17"
      ]
     },
     "execution_count": 83,
     "metadata": {},
     "output_type": "execute_result"
    }
   ],
   "source": [
    "crew_df.head()"
   ]
  },
  {
   "cell_type": "code",
   "execution_count": 84,
   "metadata": {
    "collapsed": true
   },
   "outputs": [],
   "source": [
    "crew_labels = crew_df.crewname[crew_df['crewcount']>9]"
   ]
  },
  {
   "cell_type": "code",
   "execution_count": 86,
   "metadata": {
    "collapsed": false
   },
   "outputs": [
    {
     "data": {
      "text/plain": [
       "<matplotlib.text.Text at 0x2782ebbeeb8>"
      ]
     },
     "execution_count": 86,
     "metadata": {},
     "output_type": "execute_result"
    },
    {
     "data": {
      "image/png": "[encoded data removed]",
      "text/plain": [
       "<matplotlib.figure.Figure at 0x2782ec6cba8>"
      ]
     },
     "metadata": {},
     "output_type": "display_data"
    }
   ],
   "source": [
    "plt.subplots(figsize=(10, 10))\n",
    "crew_df.crewcount[crew_df['crewcount']>9].plot.bar( align='center', alpha=0.5, color='purple')\n",
    "y_pos = np.arange(len(crew_labels))\n",
    "#plt.yticks(y_pos, crew_labels)\n",
    "plt.xticks(y_pos, crew_labels)\n",
    "plt.ylabel('crew Count')"
   ]
  },
  {
   "cell_type": "markdown",
   "metadata": {},
   "source": [
    "### Movie Directors conclusion:\n",
    "StevenSpielberg, WoodyAllen, MartinScorsese, ClintEastwood & RobertRodriguez are the top 5 directors directing more than 16films."
   ]
  },
  {
   "cell_type": "markdown",
   "metadata": {
    "collapsed": false,
    "deletable": true,
    "editable": true
   },
   "source": [
    "### 3.4) Creation of Production Companies Dataframe"
   ]
  },
  {
   "cell_type": "code",
   "execution_count": 87,
   "metadata": {
    "collapsed": false,
    "deletable": true,
    "editable": true
   },
   "outputs": [],
   "source": [
    "movies_production_companies = allmovies_df[['movie_id','budget','title','release_year','release_month','production_companies','revenue','vote_average','vote_count','original_language']]"
   ]
  },
  {
   "cell_type": "code",
   "execution_count": 88,
   "metadata": {
    "collapsed": false
   },
   "outputs": [
    {
     "data": {
      "text/html": [
       "<div>\n",
       "<style>\n",
       "    .dataframe thead tr:only-child th {\n",
       "        text-align: right;\n",
       "    }\n",
       "\n",
       "    .dataframe thead th {\n",
       "        text-align: left;\n",
       "    }\n",
       "\n",
       "    .dataframe tbody tr th {\n",
       "        vertical-align: top;\n",
       "    }\n",
       "</style>\n",
       "<table border=\"1\" class=\"dataframe\">\n",
       "  <thead>\n",
       "    <tr style=\"text-align: right;\">\n",
       "      <th></th>\n",
       "      <th>movie_id</th>\n",
       "      <th>budget</th>\n",
       "      <th>title</th>\n",
       "      <th>release_year</th>\n",
       "      <th>release_month</th>\n",
       "      <th>production_companies</th>\n",
       "      <th>revenue</th>\n",
       "      <th>vote_average</th>\n",
       "      <th>vote_count</th>\n",
       "      <th>original_language</th>\n",
       "    </tr>\n",
       "  </thead>\n",
       "  <tbody>\n",
       "    <tr>\n",
       "      <th>0</th>\n",
       "      <td>19995</td>\n",
       "      <td>237000000</td>\n",
       "      <td>Avatar</td>\n",
       "      <td>2009.0</td>\n",
       "      <td>12.0</td>\n",
       "      <td>Ingenious Film Partners,Twentieth Century Fox ...</td>\n",
       "      <td>2787965087</td>\n",
       "      <td>7.2</td>\n",
       "      <td>11800</td>\n",
       "      <td>en</td>\n",
       "    </tr>\n",
       "    <tr>\n",
       "      <th>1</th>\n",
       "      <td>285</td>\n",
       "      <td>300000000</td>\n",
       "      <td>Pirates of the Caribbean: At World's End</td>\n",
       "      <td>2007.0</td>\n",
       "      <td>5.0</td>\n",
       "      <td>Walt Disney Pictures,Jerry Bruckheimer Films,S...</td>\n",
       "      <td>961000000</td>\n",
       "      <td>6.9</td>\n",
       "      <td>4500</td>\n",
       "      <td>en</td>\n",
       "    </tr>\n",
       "  </tbody>\n",
       "</table>\n",
       "</div>"
      ],
      "text/plain": [
       "   movie_id     budget                                     title  \\\n",
       "0     19995  237000000                                    Avatar   \n",
       "1       285  300000000  Pirates of the Caribbean: At World's End   \n",
       "\n",
       "   release_year  release_month  \\\n",
       "0        2009.0           12.0   \n",
       "1        2007.0            5.0   \n",
       "\n",
       "                                production_companies     revenue  \\\n",
       "0  Ingenious Film Partners,Twentieth Century Fox ...  2787965087   \n",
       "1  Walt Disney Pictures,Jerry Bruckheimer Films,S...   961000000   \n",
       "\n",
       "   vote_average  vote_count original_language  \n",
       "0           7.2       11800                en  \n",
       "1           6.9        4500                en  "
      ]
     },
     "execution_count": 88,
     "metadata": {},
     "output_type": "execute_result"
    }
   ],
   "source": [
    "movies_production_companies.head(2)"
   ]
  },
  {
   "cell_type": "code",
   "execution_count": 89,
   "metadata": {
    "collapsed": false
   },
   "outputs": [],
   "source": [
    "top30_production_companies = ['Paramount Pictures','Columbia Pictures','Twentieth Century Fox Film Corporation','Metro-Goldwyn-Mayer (MGM)',\n",
    "               'Marvel Studios','Walt Disney Pictures','Walt Disney','Walt Disney Animation Studios',\n",
    "               'Walt Disney Studios Motion Pictures','Warner Bros.','Universal Pictures','Universal Studios',\n",
    "               'Jerry Bruckheimer Films','Pixar Animation Studios','Relativity Media','Lucasfilm',\n",
    "               'RKO Radio Pictures','New Line Cinema','Miramax Films','DreamWorks','DreamWorks SKG']"
   ]
  },
  {
   "cell_type": "code",
   "execution_count": 90,
   "metadata": {
    "collapsed": false
   },
   "outputs": [
    {
     "name": "stderr",
     "output_type": "stream",
     "text": [
      "D:\\Anaconda3\\lib\\site-packages\\ipykernel\\__main__.py:2: SettingWithCopyWarning: \n",
      "A value is trying to be set on a copy of a slice from a DataFrame.\n",
      "Try using .loc[row_indexer,col_indexer] = value instead\n",
      "\n",
      "See the caveats in the documentation: http://pandas.pydata.org/pandas-docs/stable/indexing.html#indexing-view-versus-copy\n",
      "  from ipykernel import kernelapp as app\n",
      "D:\\Anaconda3\\lib\\site-packages\\ipykernel\\__main__.py:2: UserWarning: This pattern has match groups. To actually get the groups, use str.extract.\n",
      "  from ipykernel import kernelapp as app\n"
     ]
    }
   ],
   "source": [
    "for production_companies in top30_production_companies:\n",
    "    movies_production_companies[production_companies] = movies_production_companies['production_companies'].str.contains(production_companies).apply(lambda x:1 if x else 0)"
   ]
  },
  {
   "cell_type": "code",
   "execution_count": 91,
   "metadata": {
    "collapsed": false
   },
   "outputs": [
    {
     "data": {
      "text/html": [
       "<div>\n",
       "<style>\n",
       "    .dataframe thead tr:only-child th {\n",
       "        text-align: right;\n",
       "    }\n",
       "\n",
       "    .dataframe thead th {\n",
       "        text-align: left;\n",
       "    }\n",
       "\n",
       "    .dataframe tbody tr th {\n",
       "        vertical-align: top;\n",
       "    }\n",
       "</style>\n",
       "<table border=\"1\" class=\"dataframe\">\n",
       "  <thead>\n",
       "    <tr style=\"text-align: right;\">\n",
       "      <th></th>\n",
       "      <th>movie_id</th>\n",
       "      <th>budget</th>\n",
       "      <th>title</th>\n",
       "      <th>release_year</th>\n",
       "      <th>release_month</th>\n",
       "      <th>production_companies</th>\n",
       "      <th>revenue</th>\n",
       "      <th>vote_average</th>\n",
       "      <th>vote_count</th>\n",
       "      <th>original_language</th>\n",
       "      <th>...</th>\n",
       "      <th>Universal Studios</th>\n",
       "      <th>Jerry Bruckheimer Films</th>\n",
       "      <th>Pixar Animation Studios</th>\n",
       "      <th>Relativity Media</th>\n",
       "      <th>Lucasfilm</th>\n",
       "      <th>RKO Radio Pictures</th>\n",
       "      <th>New Line Cinema</th>\n",
       "      <th>Miramax Films</th>\n",
       "      <th>DreamWorks</th>\n",
       "      <th>DreamWorks SKG</th>\n",
       "    </tr>\n",
       "  </thead>\n",
       "  <tbody>\n",
       "    <tr>\n",
       "      <th>0</th>\n",
       "      <td>19995</td>\n",
       "      <td>237000000</td>\n",
       "      <td>Avatar</td>\n",
       "      <td>2009.0</td>\n",
       "      <td>12.0</td>\n",
       "      <td>Ingenious Film Partners,Twentieth Century Fox ...</td>\n",
       "      <td>2787965087</td>\n",
       "      <td>7.2</td>\n",
       "      <td>11800</td>\n",
       "      <td>en</td>\n",
       "      <td>...</td>\n",
       "      <td>0</td>\n",
       "      <td>0</td>\n",
       "      <td>0</td>\n",
       "      <td>0</td>\n",
       "      <td>0</td>\n",
       "      <td>0</td>\n",
       "      <td>0</td>\n",
       "      <td>0</td>\n",
       "      <td>0</td>\n",
       "      <td>0</td>\n",
       "    </tr>\n",
       "    <tr>\n",
       "      <th>1</th>\n",
       "      <td>285</td>\n",
       "      <td>300000000</td>\n",
       "      <td>Pirates of the Caribbean: At World's End</td>\n",
       "      <td>2007.0</td>\n",
       "      <td>5.0</td>\n",
       "      <td>Walt Disney Pictures,Jerry Bruckheimer Films,S...</td>\n",
       "      <td>961000000</td>\n",
       "      <td>6.9</td>\n",
       "      <td>4500</td>\n",
       "      <td>en</td>\n",
       "      <td>...</td>\n",
       "      <td>0</td>\n",
       "      <td>1</td>\n",
       "      <td>0</td>\n",
       "      <td>0</td>\n",
       "      <td>0</td>\n",
       "      <td>0</td>\n",
       "      <td>0</td>\n",
       "      <td>0</td>\n",
       "      <td>0</td>\n",
       "      <td>0</td>\n",
       "    </tr>\n",
       "  </tbody>\n",
       "</table>\n",
       "<p>2 rows × 31 columns</p>\n",
       "</div>"
      ],
      "text/plain": [
       "   movie_id     budget                                     title  \\\n",
       "0     19995  237000000                                    Avatar   \n",
       "1       285  300000000  Pirates of the Caribbean: At World's End   \n",
       "\n",
       "   release_year  release_month  \\\n",
       "0        2009.0           12.0   \n",
       "1        2007.0            5.0   \n",
       "\n",
       "                                production_companies     revenue  \\\n",
       "0  Ingenious Film Partners,Twentieth Century Fox ...  2787965087   \n",
       "1  Walt Disney Pictures,Jerry Bruckheimer Films,S...   961000000   \n",
       "\n",
       "   vote_average  vote_count original_language       ...        \\\n",
       "0           7.2       11800                en       ...         \n",
       "1           6.9        4500                en       ...         \n",
       "\n",
       "   Universal Studios  Jerry Bruckheimer Films  Pixar Animation Studios  \\\n",
       "0                  0                        0                        0   \n",
       "1                  0                        1                        0   \n",
       "\n",
       "   Relativity Media  Lucasfilm  RKO Radio Pictures  New Line Cinema  \\\n",
       "0                 0          0                   0                0   \n",
       "1                 0          0                   0                0   \n",
       "\n",
       "   Miramax Films  DreamWorks  DreamWorks SKG  \n",
       "0              0           0               0  \n",
       "1              0           0               0  \n",
       "\n",
       "[2 rows x 31 columns]"
      ]
     },
     "execution_count": 91,
     "metadata": {},
     "output_type": "execute_result"
    }
   ],
   "source": [
    "movies_production_companies.head(2)"
   ]
  },
  {
   "cell_type": "code",
   "execution_count": 92,
   "metadata": {
    "collapsed": false
   },
   "outputs": [
    {
     "data": {
      "text/plain": [
       "[['Paramount Pictures', 285],\n",
       " ['Columbia Pictures', 299],\n",
       " ['Twentieth Century Fox Film Corporation', 222],\n",
       " ['Metro-Goldwyn-Mayer (MGM)', 0],\n",
       " ['Marvel Studios', 13],\n",
       " ['Walt Disney Pictures', 114],\n",
       " ['Walt Disney', 135],\n",
       " ['Walt Disney Animation Studios', 8],\n",
       " ['Walt Disney Studios Motion Pictures', 6],\n",
       " ['Warner Bros.', 334],\n",
       " ['Universal Pictures', 314],\n",
       " ['Universal Studios', 7],\n",
       " ['Jerry Bruckheimer Films', 27],\n",
       " ['Pixar Animation Studios', 16],\n",
       " ['Relativity Media', 102],\n",
       " ['Lucasfilm', 15],\n",
       " ['RKO Radio Pictures', 5],\n",
       " ['New Line Cinema', 165],\n",
       " ['Miramax Films', 94],\n",
       " ['DreamWorks', 115],\n",
       " ['DreamWorks SKG', 79]]"
      ]
     },
     "execution_count": 92,
     "metadata": {},
     "output_type": "execute_result"
    }
   ],
   "source": [
    "production_companies_count = []\n",
    "for production_companies in top30_production_companies:\n",
    "    production_companies_count.append([production_companies, movies_production_companies[production_companies].values.sum()])\n",
    "production_companies_count"
   ]
  },
  {
   "cell_type": "code",
   "execution_count": 93,
   "metadata": {
    "collapsed": true
   },
   "outputs": [],
   "source": [
    "names = ['production_companiesname','production_companiescount']\n",
    "production_companies_df = pd.DataFrame(data=production_companies_count, columns=names)\n",
    "production_companies_df.sort_values(\"production_companiescount\", inplace=True, ascending=False)"
   ]
  },
  {
   "cell_type": "code",
   "execution_count": 94,
   "metadata": {
    "collapsed": false
   },
   "outputs": [
    {
     "data": {
      "text/html": [
       "<div>\n",
       "<style>\n",
       "    .dataframe thead tr:only-child th {\n",
       "        text-align: right;\n",
       "    }\n",
       "\n",
       "    .dataframe thead th {\n",
       "        text-align: left;\n",
       "    }\n",
       "\n",
       "    .dataframe tbody tr th {\n",
       "        vertical-align: top;\n",
       "    }\n",
       "</style>\n",
       "<table border=\"1\" class=\"dataframe\">\n",
       "  <thead>\n",
       "    <tr style=\"text-align: right;\">\n",
       "      <th></th>\n",
       "      <th>production_companiesname</th>\n",
       "      <th>production_companiescount</th>\n",
       "    </tr>\n",
       "  </thead>\n",
       "  <tbody>\n",
       "    <tr>\n",
       "      <th>9</th>\n",
       "      <td>Warner Bros.</td>\n",
       "      <td>334</td>\n",
       "    </tr>\n",
       "    <tr>\n",
       "      <th>10</th>\n",
       "      <td>Universal Pictures</td>\n",
       "      <td>314</td>\n",
       "    </tr>\n",
       "    <tr>\n",
       "      <th>1</th>\n",
       "      <td>Columbia Pictures</td>\n",
       "      <td>299</td>\n",
       "    </tr>\n",
       "    <tr>\n",
       "      <th>0</th>\n",
       "      <td>Paramount Pictures</td>\n",
       "      <td>285</td>\n",
       "    </tr>\n",
       "    <tr>\n",
       "      <th>2</th>\n",
       "      <td>Twentieth Century Fox Film Corporation</td>\n",
       "      <td>222</td>\n",
       "    </tr>\n",
       "    <tr>\n",
       "      <th>17</th>\n",
       "      <td>New Line Cinema</td>\n",
       "      <td>165</td>\n",
       "    </tr>\n",
       "    <tr>\n",
       "      <th>6</th>\n",
       "      <td>Walt Disney</td>\n",
       "      <td>135</td>\n",
       "    </tr>\n",
       "    <tr>\n",
       "      <th>19</th>\n",
       "      <td>DreamWorks</td>\n",
       "      <td>115</td>\n",
       "    </tr>\n",
       "    <tr>\n",
       "      <th>5</th>\n",
       "      <td>Walt Disney Pictures</td>\n",
       "      <td>114</td>\n",
       "    </tr>\n",
       "    <tr>\n",
       "      <th>14</th>\n",
       "      <td>Relativity Media</td>\n",
       "      <td>102</td>\n",
       "    </tr>\n",
       "    <tr>\n",
       "      <th>18</th>\n",
       "      <td>Miramax Films</td>\n",
       "      <td>94</td>\n",
       "    </tr>\n",
       "    <tr>\n",
       "      <th>20</th>\n",
       "      <td>DreamWorks SKG</td>\n",
       "      <td>79</td>\n",
       "    </tr>\n",
       "    <tr>\n",
       "      <th>12</th>\n",
       "      <td>Jerry Bruckheimer Films</td>\n",
       "      <td>27</td>\n",
       "    </tr>\n",
       "    <tr>\n",
       "      <th>13</th>\n",
       "      <td>Pixar Animation Studios</td>\n",
       "      <td>16</td>\n",
       "    </tr>\n",
       "    <tr>\n",
       "      <th>15</th>\n",
       "      <td>Lucasfilm</td>\n",
       "      <td>15</td>\n",
       "    </tr>\n",
       "    <tr>\n",
       "      <th>4</th>\n",
       "      <td>Marvel Studios</td>\n",
       "      <td>13</td>\n",
       "    </tr>\n",
       "    <tr>\n",
       "      <th>7</th>\n",
       "      <td>Walt Disney Animation Studios</td>\n",
       "      <td>8</td>\n",
       "    </tr>\n",
       "    <tr>\n",
       "      <th>11</th>\n",
       "      <td>Universal Studios</td>\n",
       "      <td>7</td>\n",
       "    </tr>\n",
       "    <tr>\n",
       "      <th>8</th>\n",
       "      <td>Walt Disney Studios Motion Pictures</td>\n",
       "      <td>6</td>\n",
       "    </tr>\n",
       "    <tr>\n",
       "      <th>16</th>\n",
       "      <td>RKO Radio Pictures</td>\n",
       "      <td>5</td>\n",
       "    </tr>\n",
       "    <tr>\n",
       "      <th>3</th>\n",
       "      <td>Metro-Goldwyn-Mayer (MGM)</td>\n",
       "      <td>0</td>\n",
       "    </tr>\n",
       "  </tbody>\n",
       "</table>\n",
       "</div>"
      ],
      "text/plain": [
       "                  production_companiesname  production_companiescount\n",
       "9                             Warner Bros.                        334\n",
       "10                      Universal Pictures                        314\n",
       "1                        Columbia Pictures                        299\n",
       "0                       Paramount Pictures                        285\n",
       "2   Twentieth Century Fox Film Corporation                        222\n",
       "17                         New Line Cinema                        165\n",
       "6                              Walt Disney                        135\n",
       "19                              DreamWorks                        115\n",
       "5                     Walt Disney Pictures                        114\n",
       "14                        Relativity Media                        102\n",
       "18                           Miramax Films                         94\n",
       "20                          DreamWorks SKG                         79\n",
       "12                 Jerry Bruckheimer Films                         27\n",
       "13                 Pixar Animation Studios                         16\n",
       "15                               Lucasfilm                         15\n",
       "4                           Marvel Studios                         13\n",
       "7            Walt Disney Animation Studios                          8\n",
       "11                       Universal Studios                          7\n",
       "8      Walt Disney Studios Motion Pictures                          6\n",
       "16                      RKO Radio Pictures                          5\n",
       "3                Metro-Goldwyn-Mayer (MGM)                          0"
      ]
     },
     "execution_count": 94,
     "metadata": {},
     "output_type": "execute_result"
    }
   ],
   "source": [
    "production_companies_df"
   ]
  },
  {
   "cell_type": "code",
   "execution_count": 95,
   "metadata": {
    "collapsed": true
   },
   "outputs": [],
   "source": [
    "production_companies_labels = production_companies_df.production_companiesname[production_companies_df['production_companiescount']>1]"
   ]
  },
  {
   "cell_type": "code",
   "execution_count": 96,
   "metadata": {
    "collapsed": false
   },
   "outputs": [
    {
     "data": {
      "text/html": [
       "<div>\n",
       "<style>\n",
       "    .dataframe thead tr:only-child th {\n",
       "        text-align: right;\n",
       "    }\n",
       "\n",
       "    .dataframe thead th {\n",
       "        text-align: left;\n",
       "    }\n",
       "\n",
       "    .dataframe tbody tr th {\n",
       "        vertical-align: top;\n",
       "    }\n",
       "</style>\n",
       "<table border=\"1\" class=\"dataframe\">\n",
       "  <thead>\n",
       "    <tr style=\"text-align: right;\">\n",
       "      <th></th>\n",
       "      <th>production_companiesname</th>\n",
       "      <th>production_companiescount</th>\n",
       "    </tr>\n",
       "  </thead>\n",
       "  <tbody>\n",
       "    <tr>\n",
       "      <th>9</th>\n",
       "      <td>Warner Bros.</td>\n",
       "      <td>334</td>\n",
       "    </tr>\n",
       "    <tr>\n",
       "      <th>10</th>\n",
       "      <td>Universal Pictures</td>\n",
       "      <td>314</td>\n",
       "    </tr>\n",
       "    <tr>\n",
       "      <th>1</th>\n",
       "      <td>Columbia Pictures</td>\n",
       "      <td>299</td>\n",
       "    </tr>\n",
       "    <tr>\n",
       "      <th>0</th>\n",
       "      <td>Paramount Pictures</td>\n",
       "      <td>285</td>\n",
       "    </tr>\n",
       "    <tr>\n",
       "      <th>2</th>\n",
       "      <td>Twentieth Century Fox Film Corporation</td>\n",
       "      <td>222</td>\n",
       "    </tr>\n",
       "  </tbody>\n",
       "</table>\n",
       "</div>"
      ],
      "text/plain": [
       "                  production_companiesname  production_companiescount\n",
       "9                             Warner Bros.                        334\n",
       "10                      Universal Pictures                        314\n",
       "1                        Columbia Pictures                        299\n",
       "0                       Paramount Pictures                        285\n",
       "2   Twentieth Century Fox Film Corporation                        222"
      ]
     },
     "execution_count": 96,
     "metadata": {},
     "output_type": "execute_result"
    }
   ],
   "source": [
    "production_companies_df.head()"
   ]
  },
  {
   "cell_type": "code",
   "execution_count": 97,
   "metadata": {
    "collapsed": false
   },
   "outputs": [
    {
     "data": {
      "text/plain": [
       "<matplotlib.text.Text at 0x2782eb2c3c8>"
      ]
     },
     "execution_count": 97,
     "metadata": {},
     "output_type": "execute_result"
    },
    {
     "data": {
      "image/png": "[encoded data removed]",
      "text/plain": [
       "<matplotlib.figure.Figure at 0x2782edea8d0>"
      ]
     },
     "metadata": {},
     "output_type": "display_data"
    }
   ],
   "source": [
    "plt.subplots(figsize=(10, 10))\n",
    "production_companies_df.production_companiescount[production_companies_df['production_companiescount']>1].plot.bar( align='center', alpha=0.5, color='red')\n",
    "y_pos = np.arange(len(production_companies_labels))\n",
    "#plt.yticks(y_pos, production_companies_labels)\n",
    "plt.xticks(y_pos, production_companies_labels)\n",
    "plt.ylabel('production_companies Count')"
   ]
  },
  {
   "cell_type": "markdown",
   "metadata": {
    "deletable": true,
    "editable": true
   },
   "source": [
    "### Production Companies conclusion:\n",
    "The main production companies that release movies are Warner Bros., Paramount Pictures, Universal Pictures, 20th Century Fox,\n",
    "Columbia Pictures, New Line Cinema, Disney, Pixar, Miramax Films, DreamWorks"
   ]
  },
  {
   "cell_type": "markdown",
   "metadata": {
    "deletable": true,
    "editable": true
   },
   "source": [
    "### 3.5) Release date analysis"
   ]
  },
  {
   "cell_type": "code",
   "execution_count": 98,
   "metadata": {
    "collapsed": false,
    "deletable": true,
    "editable": true
   },
   "outputs": [
    {
     "data": {
      "image/png": "[encoded data removed]",
      "text/plain": [
       "<matplotlib.figure.Figure at 0x2782ea21240>"
      ]
     },
     "metadata": {},
     "output_type": "display_data"
    }
   ],
   "source": [
    "plt.figure(figsize=(12,8))\n",
    "sns.countplot(x='release_year', data=movies_genres, color='red')\n",
    "plt.ylabel('Count', fontsize=12)\n",
    "plt.xlabel('Movies released per year', fontsize=12)\n",
    "plt.xticks(rotation='vertical')\n",
    "plt.title(\"Frequency of Movies released by year\", fontsize=15)\n",
    "plt.show()"
   ]
  },
  {
   "cell_type": "code",
   "execution_count": 99,
   "metadata": {
    "collapsed": false,
    "deletable": true,
    "editable": true
   },
   "outputs": [
    {
     "data": {
      "text/html": [
       "<div>\n",
       "<style>\n",
       "    .dataframe thead tr:only-child th {\n",
       "        text-align: right;\n",
       "    }\n",
       "\n",
       "    .dataframe thead th {\n",
       "        text-align: left;\n",
       "    }\n",
       "\n",
       "    .dataframe tbody tr th {\n",
       "        vertical-align: top;\n",
       "    }\n",
       "</style>\n",
       "<table border=\"1\" class=\"dataframe\">\n",
       "  <thead>\n",
       "    <tr style=\"text-align: right;\">\n",
       "      <th></th>\n",
       "      <th>release_year</th>\n",
       "      <th>release_month</th>\n",
       "    </tr>\n",
       "  </thead>\n",
       "  <tbody>\n",
       "    <tr>\n",
       "      <th>89</th>\n",
       "      <td>2017.0</td>\n",
       "      <td>1</td>\n",
       "    </tr>\n",
       "    <tr>\n",
       "      <th>88</th>\n",
       "      <td>2016.0</td>\n",
       "      <td>104</td>\n",
       "    </tr>\n",
       "    <tr>\n",
       "      <th>87</th>\n",
       "      <td>2015.0</td>\n",
       "      <td>216</td>\n",
       "    </tr>\n",
       "    <tr>\n",
       "      <th>86</th>\n",
       "      <td>2014.0</td>\n",
       "      <td>238</td>\n",
       "    </tr>\n",
       "    <tr>\n",
       "      <th>85</th>\n",
       "      <td>2013.0</td>\n",
       "      <td>231</td>\n",
       "    </tr>\n",
       "    <tr>\n",
       "      <th>84</th>\n",
       "      <td>2012.0</td>\n",
       "      <td>208</td>\n",
       "    </tr>\n",
       "    <tr>\n",
       "      <th>83</th>\n",
       "      <td>2011.0</td>\n",
       "      <td>223</td>\n",
       "    </tr>\n",
       "    <tr>\n",
       "      <th>82</th>\n",
       "      <td>2010.0</td>\n",
       "      <td>225</td>\n",
       "    </tr>\n",
       "    <tr>\n",
       "      <th>81</th>\n",
       "      <td>2009.0</td>\n",
       "      <td>247</td>\n",
       "    </tr>\n",
       "    <tr>\n",
       "      <th>80</th>\n",
       "      <td>2008.0</td>\n",
       "      <td>227</td>\n",
       "    </tr>\n",
       "    <tr>\n",
       "      <th>79</th>\n",
       "      <td>2007.0</td>\n",
       "      <td>195</td>\n",
       "    </tr>\n",
       "    <tr>\n",
       "      <th>78</th>\n",
       "      <td>2006.0</td>\n",
       "      <td>237</td>\n",
       "    </tr>\n",
       "    <tr>\n",
       "      <th>77</th>\n",
       "      <td>2005.0</td>\n",
       "      <td>217</td>\n",
       "    </tr>\n",
       "    <tr>\n",
       "      <th>76</th>\n",
       "      <td>2004.0</td>\n",
       "      <td>204</td>\n",
       "    </tr>\n",
       "    <tr>\n",
       "      <th>75</th>\n",
       "      <td>2003.0</td>\n",
       "      <td>169</td>\n",
       "    </tr>\n",
       "    <tr>\n",
       "      <th>74</th>\n",
       "      <td>2002.0</td>\n",
       "      <td>203</td>\n",
       "    </tr>\n",
       "    <tr>\n",
       "      <th>73</th>\n",
       "      <td>2001.0</td>\n",
       "      <td>183</td>\n",
       "    </tr>\n",
       "    <tr>\n",
       "      <th>72</th>\n",
       "      <td>2000.0</td>\n",
       "      <td>166</td>\n",
       "    </tr>\n",
       "    <tr>\n",
       "      <th>71</th>\n",
       "      <td>1999.0</td>\n",
       "      <td>171</td>\n",
       "    </tr>\n",
       "    <tr>\n",
       "      <th>70</th>\n",
       "      <td>1998.0</td>\n",
       "      <td>133</td>\n",
       "    </tr>\n",
       "    <tr>\n",
       "      <th>69</th>\n",
       "      <td>1997.0</td>\n",
       "      <td>112</td>\n",
       "    </tr>\n",
       "    <tr>\n",
       "      <th>68</th>\n",
       "      <td>1996.0</td>\n",
       "      <td>97</td>\n",
       "    </tr>\n",
       "    <tr>\n",
       "      <th>67</th>\n",
       "      <td>1995.0</td>\n",
       "      <td>70</td>\n",
       "    </tr>\n",
       "    <tr>\n",
       "      <th>66</th>\n",
       "      <td>1994.0</td>\n",
       "      <td>55</td>\n",
       "    </tr>\n",
       "    <tr>\n",
       "      <th>65</th>\n",
       "      <td>1993.0</td>\n",
       "      <td>47</td>\n",
       "    </tr>\n",
       "    <tr>\n",
       "      <th>64</th>\n",
       "      <td>1992.0</td>\n",
       "      <td>34</td>\n",
       "    </tr>\n",
       "    <tr>\n",
       "      <th>63</th>\n",
       "      <td>1991.0</td>\n",
       "      <td>30</td>\n",
       "    </tr>\n",
       "    <tr>\n",
       "      <th>62</th>\n",
       "      <td>1990.0</td>\n",
       "      <td>29</td>\n",
       "    </tr>\n",
       "    <tr>\n",
       "      <th>61</th>\n",
       "      <td>1989.0</td>\n",
       "      <td>32</td>\n",
       "    </tr>\n",
       "    <tr>\n",
       "      <th>60</th>\n",
       "      <td>1988.0</td>\n",
       "      <td>31</td>\n",
       "    </tr>\n",
       "    <tr>\n",
       "      <th>...</th>\n",
       "      <td>...</td>\n",
       "      <td>...</td>\n",
       "    </tr>\n",
       "    <tr>\n",
       "      <th>29</th>\n",
       "      <td>1957.0</td>\n",
       "      <td>2</td>\n",
       "    </tr>\n",
       "    <tr>\n",
       "      <th>28</th>\n",
       "      <td>1956.0</td>\n",
       "      <td>3</td>\n",
       "    </tr>\n",
       "    <tr>\n",
       "      <th>27</th>\n",
       "      <td>1955.0</td>\n",
       "      <td>2</td>\n",
       "    </tr>\n",
       "    <tr>\n",
       "      <th>26</th>\n",
       "      <td>1954.0</td>\n",
       "      <td>4</td>\n",
       "    </tr>\n",
       "    <tr>\n",
       "      <th>25</th>\n",
       "      <td>1953.0</td>\n",
       "      <td>4</td>\n",
       "    </tr>\n",
       "    <tr>\n",
       "      <th>24</th>\n",
       "      <td>1952.0</td>\n",
       "      <td>4</td>\n",
       "    </tr>\n",
       "    <tr>\n",
       "      <th>23</th>\n",
       "      <td>1951.0</td>\n",
       "      <td>3</td>\n",
       "    </tr>\n",
       "    <tr>\n",
       "      <th>22</th>\n",
       "      <td>1950.0</td>\n",
       "      <td>1</td>\n",
       "    </tr>\n",
       "    <tr>\n",
       "      <th>21</th>\n",
       "      <td>1949.0</td>\n",
       "      <td>2</td>\n",
       "    </tr>\n",
       "    <tr>\n",
       "      <th>20</th>\n",
       "      <td>1948.0</td>\n",
       "      <td>3</td>\n",
       "    </tr>\n",
       "    <tr>\n",
       "      <th>19</th>\n",
       "      <td>1947.0</td>\n",
       "      <td>3</td>\n",
       "    </tr>\n",
       "    <tr>\n",
       "      <th>18</th>\n",
       "      <td>1946.0</td>\n",
       "      <td>3</td>\n",
       "    </tr>\n",
       "    <tr>\n",
       "      <th>17</th>\n",
       "      <td>1945.0</td>\n",
       "      <td>4</td>\n",
       "    </tr>\n",
       "    <tr>\n",
       "      <th>16</th>\n",
       "      <td>1944.0</td>\n",
       "      <td>2</td>\n",
       "    </tr>\n",
       "    <tr>\n",
       "      <th>15</th>\n",
       "      <td>1942.0</td>\n",
       "      <td>2</td>\n",
       "    </tr>\n",
       "    <tr>\n",
       "      <th>14</th>\n",
       "      <td>1941.0</td>\n",
       "      <td>1</td>\n",
       "    </tr>\n",
       "    <tr>\n",
       "      <th>13</th>\n",
       "      <td>1940.0</td>\n",
       "      <td>5</td>\n",
       "    </tr>\n",
       "    <tr>\n",
       "      <th>12</th>\n",
       "      <td>1939.0</td>\n",
       "      <td>3</td>\n",
       "    </tr>\n",
       "    <tr>\n",
       "      <th>11</th>\n",
       "      <td>1938.0</td>\n",
       "      <td>2</td>\n",
       "    </tr>\n",
       "    <tr>\n",
       "      <th>10</th>\n",
       "      <td>1937.0</td>\n",
       "      <td>2</td>\n",
       "    </tr>\n",
       "    <tr>\n",
       "      <th>9</th>\n",
       "      <td>1936.0</td>\n",
       "      <td>2</td>\n",
       "    </tr>\n",
       "    <tr>\n",
       "      <th>8</th>\n",
       "      <td>1935.0</td>\n",
       "      <td>1</td>\n",
       "    </tr>\n",
       "    <tr>\n",
       "      <th>7</th>\n",
       "      <td>1934.0</td>\n",
       "      <td>1</td>\n",
       "    </tr>\n",
       "    <tr>\n",
       "      <th>6</th>\n",
       "      <td>1933.0</td>\n",
       "      <td>2</td>\n",
       "    </tr>\n",
       "    <tr>\n",
       "      <th>5</th>\n",
       "      <td>1932.0</td>\n",
       "      <td>1</td>\n",
       "    </tr>\n",
       "    <tr>\n",
       "      <th>4</th>\n",
       "      <td>1930.0</td>\n",
       "      <td>1</td>\n",
       "    </tr>\n",
       "    <tr>\n",
       "      <th>3</th>\n",
       "      <td>1929.0</td>\n",
       "      <td>2</td>\n",
       "    </tr>\n",
       "    <tr>\n",
       "      <th>2</th>\n",
       "      <td>1927.0</td>\n",
       "      <td>1</td>\n",
       "    </tr>\n",
       "    <tr>\n",
       "      <th>1</th>\n",
       "      <td>1925.0</td>\n",
       "      <td>1</td>\n",
       "    </tr>\n",
       "    <tr>\n",
       "      <th>0</th>\n",
       "      <td>1916.0</td>\n",
       "      <td>1</td>\n",
       "    </tr>\n",
       "  </tbody>\n",
       "</table>\n",
       "<p>90 rows × 2 columns</p>\n",
       "</div>"
      ],
      "text/plain": [
       "    release_year  release_month\n",
       "89        2017.0              1\n",
       "88        2016.0            104\n",
       "87        2015.0            216\n",
       "86        2014.0            238\n",
       "85        2013.0            231\n",
       "84        2012.0            208\n",
       "83        2011.0            223\n",
       "82        2010.0            225\n",
       "81        2009.0            247\n",
       "80        2008.0            227\n",
       "79        2007.0            195\n",
       "78        2006.0            237\n",
       "77        2005.0            217\n",
       "76        2004.0            204\n",
       "75        2003.0            169\n",
       "74        2002.0            203\n",
       "73        2001.0            183\n",
       "72        2000.0            166\n",
       "71        1999.0            171\n",
       "70        1998.0            133\n",
       "69        1997.0            112\n",
       "68        1996.0             97\n",
       "67        1995.0             70\n",
       "66        1994.0             55\n",
       "65        1993.0             47\n",
       "64        1992.0             34\n",
       "63        1991.0             30\n",
       "62        1990.0             29\n",
       "61        1989.0             32\n",
       "60        1988.0             31\n",
       "..           ...            ...\n",
       "29        1957.0              2\n",
       "28        1956.0              3\n",
       "27        1955.0              2\n",
       "26        1954.0              4\n",
       "25        1953.0              4\n",
       "24        1952.0              4\n",
       "23        1951.0              3\n",
       "22        1950.0              1\n",
       "21        1949.0              2\n",
       "20        1948.0              3\n",
       "19        1947.0              3\n",
       "18        1946.0              3\n",
       "17        1945.0              4\n",
       "16        1944.0              2\n",
       "15        1942.0              2\n",
       "14        1941.0              1\n",
       "13        1940.0              5\n",
       "12        1939.0              3\n",
       "11        1938.0              2\n",
       "10        1937.0              2\n",
       "9         1936.0              2\n",
       "8         1935.0              1\n",
       "7         1934.0              1\n",
       "6         1933.0              2\n",
       "5         1932.0              1\n",
       "4         1930.0              1\n",
       "3         1929.0              2\n",
       "2         1927.0              1\n",
       "1         1925.0              1\n",
       "0         1916.0              1\n",
       "\n",
       "[90 rows x 2 columns]"
      ]
     },
     "execution_count": 99,
     "metadata": {},
     "output_type": "execute_result"
    }
   ],
   "source": [
    "movies_genres[['release_year', 'release_month']].groupby(['release_year'], as_index=False).count().sort_values(by='release_year', ascending=False)"
   ]
  },
  {
   "cell_type": "code",
   "execution_count": 100,
   "metadata": {
    "collapsed": false,
    "deletable": true,
    "editable": true
   },
   "outputs": [
    {
     "data": {
      "text/html": [
       "<div>\n",
       "<style>\n",
       "    .dataframe thead tr:only-child th {\n",
       "        text-align: right;\n",
       "    }\n",
       "\n",
       "    .dataframe thead th {\n",
       "        text-align: left;\n",
       "    }\n",
       "\n",
       "    .dataframe tbody tr th {\n",
       "        vertical-align: top;\n",
       "    }\n",
       "</style>\n",
       "<table border=\"1\" class=\"dataframe\">\n",
       "  <thead>\n",
       "    <tr style=\"text-align: right;\">\n",
       "      <th></th>\n",
       "      <th>release_month</th>\n",
       "      <th>release_year</th>\n",
       "    </tr>\n",
       "  </thead>\n",
       "  <tbody>\n",
       "    <tr>\n",
       "      <th>8</th>\n",
       "      <td>9.0</td>\n",
       "      <td>588</td>\n",
       "    </tr>\n",
       "    <tr>\n",
       "      <th>9</th>\n",
       "      <td>10.0</td>\n",
       "      <td>474</td>\n",
       "    </tr>\n",
       "    <tr>\n",
       "      <th>11</th>\n",
       "      <td>12.0</td>\n",
       "      <td>456</td>\n",
       "    </tr>\n",
       "    <tr>\n",
       "      <th>7</th>\n",
       "      <td>8.0</td>\n",
       "      <td>413</td>\n",
       "    </tr>\n",
       "    <tr>\n",
       "      <th>5</th>\n",
       "      <td>6.0</td>\n",
       "      <td>389</td>\n",
       "    </tr>\n",
       "    <tr>\n",
       "      <th>0</th>\n",
       "      <td>1.0</td>\n",
       "      <td>382</td>\n",
       "    </tr>\n",
       "    <tr>\n",
       "      <th>2</th>\n",
       "      <td>3.0</td>\n",
       "      <td>372</td>\n",
       "    </tr>\n",
       "    <tr>\n",
       "      <th>4</th>\n",
       "      <td>5.0</td>\n",
       "      <td>363</td>\n",
       "    </tr>\n",
       "    <tr>\n",
       "      <th>6</th>\n",
       "      <td>7.0</td>\n",
       "      <td>363</td>\n",
       "    </tr>\n",
       "    <tr>\n",
       "      <th>3</th>\n",
       "      <td>4.0</td>\n",
       "      <td>350</td>\n",
       "    </tr>\n",
       "    <tr>\n",
       "      <th>1</th>\n",
       "      <td>2.0</td>\n",
       "      <td>326</td>\n",
       "    </tr>\n",
       "    <tr>\n",
       "      <th>10</th>\n",
       "      <td>11.0</td>\n",
       "      <td>326</td>\n",
       "    </tr>\n",
       "  </tbody>\n",
       "</table>\n",
       "</div>"
      ],
      "text/plain": [
       "    release_month  release_year\n",
       "8             9.0           588\n",
       "9            10.0           474\n",
       "11           12.0           456\n",
       "7             8.0           413\n",
       "5             6.0           389\n",
       "0             1.0           382\n",
       "2             3.0           372\n",
       "4             5.0           363\n",
       "6             7.0           363\n",
       "3             4.0           350\n",
       "1             2.0           326\n",
       "10           11.0           326"
      ]
     },
     "execution_count": 100,
     "metadata": {},
     "output_type": "execute_result"
    }
   ],
   "source": [
    "movies_genres[['release_month', 'release_year']].groupby(['release_month'], as_index=False).count().sort_values(by='release_year', ascending=False)"
   ]
  },
  {
   "cell_type": "code",
   "execution_count": 101,
   "metadata": {
    "collapsed": false,
    "deletable": true,
    "editable": true
   },
   "outputs": [
    {
     "data": {
      "image/png": "[encoded data removed]",
      "text/plain": [
       "<matplotlib.figure.Figure at 0x2782ebd3da0>"
      ]
     },
     "metadata": {},
     "output_type": "display_data"
    }
   ],
   "source": [
    "plt.figure(figsize=(12,8))\n",
    "sns.countplot(x='release_month', data=movies_genres, color='red')\n",
    "plt.ylabel('Count', fontsize=12)\n",
    "plt.xlabel('Movies released per month', fontsize=12)\n",
    "plt.xticks(rotation='vertical')\n",
    "plt.title(\"Frequency of Movies released by year\", fontsize=15)\n",
    "plt.show()"
   ]
  },
  {
   "cell_type": "markdown",
   "metadata": {
    "deletable": true,
    "editable": true
   },
   "source": [
    "This shows that more movies are released during Dec/Jan combined-Holiday season as well during Sep/Oct - after school starts"
   ]
  },
  {
   "cell_type": "markdown",
   "metadata": {
    "deletable": true,
    "editable": true
   },
   "source": [
    "# Revenue & Budget Analysis"
   ]
  },
  {
   "cell_type": "code",
   "execution_count": 102,
   "metadata": {
    "collapsed": false,
    "deletable": true,
    "editable": true
   },
   "outputs": [
    {
     "data": {
      "text/plain": [
       "<matplotlib.text.Text at 0x2782e143198>"
      ]
     },
     "execution_count": 102,
     "metadata": {},
     "output_type": "execute_result"
    },
    {
     "data": {
      "image/png": "[encoded data removed]",
      "text/plain": [
       "<matplotlib.figure.Figure at 0x2782ea74438>"
      ]
     },
     "metadata": {},
     "output_type": "display_data"
    }
   ],
   "source": [
    "movies_genres['revenue'].plot.hist(alpha=0.5, bins=20)\n",
    "plt.title('Histogram of the Revenue')\n",
    "plt.xlabel(\"Revenue\")\n",
    "plt.ylabel(\"Frequency\") "
   ]
  },
  {
   "cell_type": "code",
   "execution_count": 103,
   "metadata": {
    "collapsed": false,
    "deletable": true,
    "editable": true
   },
   "outputs": [
    {
     "data": {
      "text/plain": [
       "<matplotlib.text.Text at 0x2782e3b6400>"
      ]
     },
     "execution_count": 103,
     "metadata": {},
     "output_type": "execute_result"
    },
    {
     "data": {
      "image/png": "[encoded data removed]",
      "text/plain": [
       "<matplotlib.figure.Figure at 0x2782ebb4550>"
      ]
     },
     "metadata": {},
     "output_type": "display_data"
    }
   ],
   "source": [
    "movies_genres['budget'].plot.hist(alpha=0.5, bins=20)\n",
    "plt.title('Histogram of the Revenue')\n",
    "plt.xlabel(\"Revenue\")\n",
    "plt.ylabel(\"Frequency\") "
   ]
  },
  {
   "cell_type": "markdown",
   "metadata": {
    "deletable": true,
    "editable": true
   },
   "source": [
    "# Linear Regression"
   ]
  },
  {
   "cell_type": "code",
   "execution_count": 107,
   "metadata": {
    "collapsed": true,
    "deletable": true,
    "editable": true
   },
   "outputs": [],
   "source": [
    "# Importing modules\n",
    "from sklearn.metrics import accuracy_score\n",
    "from sklearn.model_selection import train_test_split\n",
    "from sklearn.metrics import classification_report,confusion_matrix\n",
    "from sklearn import linear_model"
   ]
  },
  {
   "cell_type": "markdown",
   "metadata": {
    "deletable": true,
    "editable": true
   },
   "source": [
    "## Movie Genre regression indicators"
   ]
  },
  {
   "cell_type": "code",
   "execution_count": 257,
   "metadata": {
    "collapsed": false,
    "deletable": true,
    "editable": true
   },
   "outputs": [
    {
     "data": {
      "text/plain": [
       "Drama             -0.177229\n",
       "Horror            -0.082753\n",
       "Documentary       -0.068089\n",
       "Romance           -0.065368\n",
       "movie_id          -0.050425\n",
       "Comedy            -0.050369\n",
       "Foreign           -0.042465\n",
       "Music             -0.041550\n",
       "Crime             -0.040726\n",
       "History           -0.031417\n",
       "Western           -0.029148\n",
       "TV Movie          -0.020634\n",
       "Mystery           -0.006796\n",
       "Thriller          -0.004488\n",
       "War                0.002046\n",
       "release_month      0.055232\n",
       "release_year       0.090192\n",
       "Science Fiction    0.152621\n",
       "Family             0.170067\n",
       "vote_average       0.197150\n",
       "Animation          0.199335\n",
       "Action             0.203590\n",
       "Fantasy            0.212287\n",
       "Adventure          0.344400\n",
       "budget             0.730823\n",
       "vote_count         0.781487\n",
       "revenue            1.000000\n",
       "Name: revenue, dtype: float64"
      ]
     },
     "execution_count": 257,
     "metadata": {},
     "output_type": "execute_result"
    }
   ],
   "source": [
    "genre_corr = movies_genres.corr()\n",
    "genre_corr['revenue'].sort_values()"
   ]
  },
  {
   "cell_type": "markdown",
   "metadata": {
    "deletable": true,
    "editable": true
   },
   "source": [
    "Strong correlation indicators seems be   \n",
    "Positive: vote_count, budget, Adventure, Fantasy, Action, Animation, vote_average, Family, Science Fiction  \n",
    "Negative: Drama  "
   ]
  },
  {
   "cell_type": "markdown",
   "metadata": {
    "deletable": true,
    "editable": true
   },
   "source": [
    "### Standard Scaling"
   ]
  },
  {
   "cell_type": "code",
   "execution_count": 109,
   "metadata": {
    "collapsed": false,
    "deletable": true,
    "editable": true
   },
   "outputs": [
    {
     "name": "stderr",
     "output_type": "stream",
     "text": [
      "D:\\Anaconda3\\lib\\site-packages\\sklearn\\utils\\validation.py:429: DataConversionWarning: Data with input dtype int64 was converted to float64 by MinMaxScaler.\n",
      "  warnings.warn(msg, _DataConversionWarning)\n",
      "D:\\Anaconda3\\lib\\site-packages\\sklearn\\preprocessing\\data.py:321: DeprecationWarning: Passing 1d arrays as data is deprecated in 0.17 and will raise ValueError in 0.19. Reshape your data either using X.reshape(-1, 1) if your data has a single feature or X.reshape(1, -1) if it contains a single sample.\n",
      "  warnings.warn(DEPRECATION_MSG_1D, DeprecationWarning)\n",
      "D:\\Anaconda3\\lib\\site-packages\\sklearn\\preprocessing\\data.py:356: DeprecationWarning: Passing 1d arrays as data is deprecated in 0.17 and will raise ValueError in 0.19. Reshape your data either using X.reshape(-1, 1) if your data has a single feature or X.reshape(1, -1) if it contains a single sample.\n",
      "  warnings.warn(DEPRECATION_MSG_1D, DeprecationWarning)\n",
      "D:\\Anaconda3\\lib\\site-packages\\sklearn\\preprocessing\\data.py:321: DeprecationWarning: Passing 1d arrays as data is deprecated in 0.17 and will raise ValueError in 0.19. Reshape your data either using X.reshape(-1, 1) if your data has a single feature or X.reshape(1, -1) if it contains a single sample.\n",
      "  warnings.warn(DEPRECATION_MSG_1D, DeprecationWarning)\n",
      "D:\\Anaconda3\\lib\\site-packages\\sklearn\\preprocessing\\data.py:356: DeprecationWarning: Passing 1d arrays as data is deprecated in 0.17 and will raise ValueError in 0.19. Reshape your data either using X.reshape(-1, 1) if your data has a single feature or X.reshape(1, -1) if it contains a single sample.\n",
      "  warnings.warn(DEPRECATION_MSG_1D, DeprecationWarning)\n",
      "D:\\Anaconda3\\lib\\site-packages\\sklearn\\preprocessing\\data.py:321: DeprecationWarning: Passing 1d arrays as data is deprecated in 0.17 and will raise ValueError in 0.19. Reshape your data either using X.reshape(-1, 1) if your data has a single feature or X.reshape(1, -1) if it contains a single sample.\n",
      "  warnings.warn(DEPRECATION_MSG_1D, DeprecationWarning)\n",
      "D:\\Anaconda3\\lib\\site-packages\\sklearn\\preprocessing\\data.py:356: DeprecationWarning: Passing 1d arrays as data is deprecated in 0.17 and will raise ValueError in 0.19. Reshape your data either using X.reshape(-1, 1) if your data has a single feature or X.reshape(1, -1) if it contains a single sample.\n",
      "  warnings.warn(DEPRECATION_MSG_1D, DeprecationWarning)\n"
     ]
    }
   ],
   "source": [
    "from sklearn.preprocessing import MinMaxScaler\n",
    "min_max=MinMaxScaler()\n",
    "movies_genres['budget'] = MinMaxScaler().fit_transform(movies_genres['budget'])\n",
    "movies_genres['vote_average'] = MinMaxScaler().fit_transform(movies_genres['vote_average'])\n",
    "movies_genres['vote_count'] = MinMaxScaler().fit_transform(movies_genres['vote_count'])\n"
   ]
  },
  {
   "cell_type": "code",
   "execution_count": 110,
   "metadata": {
    "collapsed": false,
    "deletable": true,
    "editable": true
   },
   "outputs": [
    {
     "data": {
      "text/html": [
       "<div>\n",
       "<style>\n",
       "    .dataframe thead tr:only-child th {\n",
       "        text-align: right;\n",
       "    }\n",
       "\n",
       "    .dataframe thead th {\n",
       "        text-align: left;\n",
       "    }\n",
       "\n",
       "    .dataframe tbody tr th {\n",
       "        vertical-align: top;\n",
       "    }\n",
       "</style>\n",
       "<table border=\"1\" class=\"dataframe\">\n",
       "  <thead>\n",
       "    <tr style=\"text-align: right;\">\n",
       "      <th></th>\n",
       "      <th>vote_count</th>\n",
       "      <th>budget</th>\n",
       "      <th>Adventure</th>\n",
       "      <th>Fantasy</th>\n",
       "      <th>Action</th>\n",
       "      <th>Animation</th>\n",
       "      <th>vote_average</th>\n",
       "      <th>Family</th>\n",
       "      <th>Science Fiction</th>\n",
       "      <th>Drama</th>\n",
       "    </tr>\n",
       "  </thead>\n",
       "  <tbody>\n",
       "    <tr>\n",
       "      <th>0</th>\n",
       "      <td>0.858057</td>\n",
       "      <td>0.623684</td>\n",
       "      <td>1</td>\n",
       "      <td>1</td>\n",
       "      <td>1</td>\n",
       "      <td>0</td>\n",
       "      <td>0.72</td>\n",
       "      <td>0</td>\n",
       "      <td>1</td>\n",
       "      <td>0</td>\n",
       "    </tr>\n",
       "    <tr>\n",
       "      <th>1</th>\n",
       "      <td>0.327225</td>\n",
       "      <td>0.789474</td>\n",
       "      <td>1</td>\n",
       "      <td>1</td>\n",
       "      <td>1</td>\n",
       "      <td>0</td>\n",
       "      <td>0.69</td>\n",
       "      <td>0</td>\n",
       "      <td>0</td>\n",
       "      <td>0</td>\n",
       "    </tr>\n",
       "    <tr>\n",
       "      <th>2</th>\n",
       "      <td>0.324753</td>\n",
       "      <td>0.644737</td>\n",
       "      <td>1</td>\n",
       "      <td>0</td>\n",
       "      <td>1</td>\n",
       "      <td>0</td>\n",
       "      <td>0.63</td>\n",
       "      <td>0</td>\n",
       "      <td>0</td>\n",
       "      <td>0</td>\n",
       "    </tr>\n",
       "  </tbody>\n",
       "</table>\n",
       "</div>"
      ],
      "text/plain": [
       "   vote_count    budget  Adventure  Fantasy  Action  Animation  vote_average  \\\n",
       "0    0.858057  0.623684          1        1       1          0          0.72   \n",
       "1    0.327225  0.789474          1        1       1          0          0.69   \n",
       "2    0.324753  0.644737          1        0       1          0          0.63   \n",
       "\n",
       "   Family  Science Fiction  Drama  \n",
       "0       0                1      0  \n",
       "1       0                0      0  \n",
       "2       0                0      0  "
      ]
     },
     "execution_count": 110,
     "metadata": {},
     "output_type": "execute_result"
    }
   ],
   "source": [
    "x = movies_genres[['vote_count','budget','Adventure', 'Fantasy', 'Action', 'Animation', 'vote_average', 'Family', \n",
    "                   'Science Fiction', 'Drama']]\n",
    "x.head(3)"
   ]
  },
  {
   "cell_type": "code",
   "execution_count": 111,
   "metadata": {
    "collapsed": false,
    "deletable": true,
    "editable": true
   },
   "outputs": [],
   "source": [
    "y = movies_genres['revenue']"
   ]
  },
  {
   "cell_type": "code",
   "execution_count": 112,
   "metadata": {
    "collapsed": false,
    "deletable": true,
    "editable": true
   },
   "outputs": [
    {
     "name": "stdout",
     "output_type": "stream",
     "text": [
      "(3362, 10)\n",
      "(3362,)\n",
      "(1441, 10)\n",
      "(1441,)\n"
     ]
    }
   ],
   "source": [
    "X_train, X_test, y_train, y_test = train_test_split(x, y, test_size=0.30)\n",
    "print (X_train.shape)\n",
    "print (y_train.shape)\n",
    "print (X_test.shape)\n",
    "print (y_test.shape)"
   ]
  },
  {
   "cell_type": "code",
   "execution_count": 113,
   "metadata": {
    "collapsed": false,
    "deletable": true,
    "editable": true
   },
   "outputs": [
    {
     "name": "stdout",
     "output_type": "stream",
     "text": [
      "Linear Regression Score: \n",
      " 73.78\n",
      "Linear Regression Test Score: \n",
      " 69.54\n",
      "Coefficient: \n",
      " [  1.03855840e+09   6.05729519e+08   1.56084077e+07  -2.16185811e+06\n",
      "  -1.27390557e+07   3.14733961e+07  -1.34984589e+07   2.03183831e+07\n",
      "  -2.43768601e+07  -9.93495562e+06]\n",
      "Intercept: \n",
      " -1548012.59565\n"
     ]
    }
   ],
   "source": [
    "linear = linear_model.LinearRegression()\n",
    "# Train the model using the training sets and check score\n",
    "linear.fit(X_train, y_train)\n",
    "#Predict Output\n",
    "lin_predicted = linear.predict(X_test)\n",
    "\n",
    "linear_score = round(linear.score(X_train, y_train) * 100, 2)\n",
    "linear_score_test = round(linear.score(X_test, y_test) * 100, 2)\n",
    "#Equation coefficient and Intercept\n",
    "print('Linear Regression Score: \\n', linear_score)\n",
    "print('Linear Regression Test Score: \\n', linear_score_test)\n",
    "print('Coefficient: \\n', linear.coef_)\n",
    "print('Intercept: \\n', linear.intercept_)"
   ]
  },
  {
   "cell_type": "code",
   "execution_count": 114,
   "metadata": {
    "collapsed": false,
    "deletable": true,
    "editable": true
   },
   "outputs": [
    {
     "data": {
      "text/html": [
       "<div>\n",
       "<style>\n",
       "    .dataframe thead tr:only-child th {\n",
       "        text-align: right;\n",
       "    }\n",
       "\n",
       "    .dataframe thead th {\n",
       "        text-align: left;\n",
       "    }\n",
       "\n",
       "    .dataframe tbody tr th {\n",
       "        vertical-align: top;\n",
       "    }\n",
       "</style>\n",
       "<table border=\"1\" class=\"dataframe\">\n",
       "  <thead>\n",
       "    <tr style=\"text-align: right;\">\n",
       "      <th></th>\n",
       "      <th>features</th>\n",
       "      <th>coefficients</th>\n",
       "    </tr>\n",
       "  </thead>\n",
       "  <tbody>\n",
       "    <tr>\n",
       "      <th>0</th>\n",
       "      <td>vote_count</td>\n",
       "      <td>1.038558e+09</td>\n",
       "    </tr>\n",
       "    <tr>\n",
       "      <th>1</th>\n",
       "      <td>budget</td>\n",
       "      <td>6.057295e+08</td>\n",
       "    </tr>\n",
       "    <tr>\n",
       "      <th>2</th>\n",
       "      <td>Adventure</td>\n",
       "      <td>1.560841e+07</td>\n",
       "    </tr>\n",
       "    <tr>\n",
       "      <th>3</th>\n",
       "      <td>Fantasy</td>\n",
       "      <td>-2.161858e+06</td>\n",
       "    </tr>\n",
       "    <tr>\n",
       "      <th>4</th>\n",
       "      <td>Action</td>\n",
       "      <td>-1.273906e+07</td>\n",
       "    </tr>\n",
       "    <tr>\n",
       "      <th>5</th>\n",
       "      <td>Animation</td>\n",
       "      <td>3.147340e+07</td>\n",
       "    </tr>\n",
       "    <tr>\n",
       "      <th>6</th>\n",
       "      <td>vote_average</td>\n",
       "      <td>-1.349846e+07</td>\n",
       "    </tr>\n",
       "    <tr>\n",
       "      <th>7</th>\n",
       "      <td>Family</td>\n",
       "      <td>2.031838e+07</td>\n",
       "    </tr>\n",
       "    <tr>\n",
       "      <th>8</th>\n",
       "      <td>Science Fiction</td>\n",
       "      <td>-2.437686e+07</td>\n",
       "    </tr>\n",
       "    <tr>\n",
       "      <th>9</th>\n",
       "      <td>Drama</td>\n",
       "      <td>-9.934956e+06</td>\n",
       "    </tr>\n",
       "  </tbody>\n",
       "</table>\n",
       "</div>"
      ],
      "text/plain": [
       "          features  coefficients\n",
       "0       vote_count  1.038558e+09\n",
       "1           budget  6.057295e+08\n",
       "2        Adventure  1.560841e+07\n",
       "3          Fantasy -2.161858e+06\n",
       "4           Action -1.273906e+07\n",
       "5        Animation  3.147340e+07\n",
       "6     vote_average -1.349846e+07\n",
       "7           Family  2.031838e+07\n",
       "8  Science Fiction -2.437686e+07\n",
       "9            Drama -9.934956e+06"
      ]
     },
     "execution_count": 114,
     "metadata": {},
     "output_type": "execute_result"
    }
   ],
   "source": [
    "pd.DataFrame(list(zip(x.columns, linear.coef_)), columns = ['features', 'coefficients'])"
   ]
  },
  {
   "cell_type": "markdown",
   "metadata": {
    "deletable": true,
    "editable": true
   },
   "source": [
    "Budget, Animation, Family, votecount seems to be having positive correlation"
   ]
  },
  {
   "cell_type": "code",
   "execution_count": 115,
   "metadata": {
    "collapsed": false,
    "deletable": true,
    "editable": true
   },
   "outputs": [
    {
     "data": {
      "text/plain": [
       "<matplotlib.axes._subplots.AxesSubplot at 0x27827be5160>"
      ]
     },
     "execution_count": 115,
     "metadata": {},
     "output_type": "execute_result"
    },
    {
     "data": {
      "image/png": "[encoded data removed]",
      "text/plain": [
       "<matplotlib.figure.Figure at 0x2782a8172e8>"
      ]
     },
     "metadata": {},
     "output_type": "display_data"
    }
   ],
   "source": [
    "#Regression plot between budget and revenue\n",
    "plt.figure(figsize=(8,8))\n",
    "sns.regplot(x=movies_genres[\"budget\"], y=movies_genres[\"revenue\"], fit_reg=True)"
   ]
  },
  {
   "cell_type": "markdown",
   "metadata": {},
   "source": [
    "There seems to be increase in the revenue as the budget of the movie increases (except few outliers)"
   ]
  },
  {
   "cell_type": "code",
   "execution_count": 130,
   "metadata": {
    "collapsed": false
   },
   "outputs": [
    {
     "data": {
      "text/html": [
       "<div>\n",
       "<style>\n",
       "    .dataframe thead tr:only-child th {\n",
       "        text-align: right;\n",
       "    }\n",
       "\n",
       "    .dataframe thead th {\n",
       "        text-align: left;\n",
       "    }\n",
       "\n",
       "    .dataframe tbody tr th {\n",
       "        vertical-align: top;\n",
       "    }\n",
       "</style>\n",
       "<table border=\"1\" class=\"dataframe\">\n",
       "  <thead>\n",
       "    <tr style=\"text-align: right;\">\n",
       "      <th></th>\n",
       "      <th>movie_id</th>\n",
       "      <th>budget</th>\n",
       "      <th>title</th>\n",
       "      <th>release_year</th>\n",
       "      <th>release_month</th>\n",
       "      <th>genres</th>\n",
       "      <th>revenue</th>\n",
       "      <th>vote_average</th>\n",
       "      <th>vote_count</th>\n",
       "      <th>original_language</th>\n",
       "      <th>...</th>\n",
       "      <th>Documentary</th>\n",
       "      <th>Foreign</th>\n",
       "      <th>TV Movie</th>\n",
       "      <th>Fantasy</th>\n",
       "      <th>Music</th>\n",
       "      <th>History</th>\n",
       "      <th>Horror</th>\n",
       "      <th>Romance</th>\n",
       "      <th>Crime</th>\n",
       "      <th>Comedy</th>\n",
       "    </tr>\n",
       "  </thead>\n",
       "  <tbody>\n",
       "    <tr>\n",
       "      <th>0</th>\n",
       "      <td>19995</td>\n",
       "      <td>0.623684</td>\n",
       "      <td>Avatar</td>\n",
       "      <td>2009.0</td>\n",
       "      <td>12.0</td>\n",
       "      <td>Action,Adventure,Fantasy,Science Fiction</td>\n",
       "      <td>2787965087</td>\n",
       "      <td>0.72</td>\n",
       "      <td>0.858057</td>\n",
       "      <td>en</td>\n",
       "      <td>...</td>\n",
       "      <td>0</td>\n",
       "      <td>0</td>\n",
       "      <td>0</td>\n",
       "      <td>1</td>\n",
       "      <td>0</td>\n",
       "      <td>0</td>\n",
       "      <td>0</td>\n",
       "      <td>0</td>\n",
       "      <td>0</td>\n",
       "      <td>0</td>\n",
       "    </tr>\n",
       "  </tbody>\n",
       "</table>\n",
       "<p>1 rows × 30 columns</p>\n",
       "</div>"
      ],
      "text/plain": [
       "   movie_id    budget   title  release_year  release_month  \\\n",
       "0     19995  0.623684  Avatar        2009.0           12.0   \n",
       "\n",
       "                                     genres     revenue  vote_average  \\\n",
       "0  Action,Adventure,Fantasy,Science Fiction  2787965087          0.72   \n",
       "\n",
       "   vote_count original_language   ...    Documentary  Foreign  TV Movie  \\\n",
       "0    0.858057                en   ...              0        0         0   \n",
       "\n",
       "   Fantasy  Music  History  Horror  Romance  Crime  Comedy  \n",
       "0        1      0        0       0        0      0       0  \n",
       "\n",
       "[1 rows x 30 columns]"
      ]
     },
     "execution_count": 130,
     "metadata": {},
     "output_type": "execute_result"
    }
   ],
   "source": [
    "movies_genres[movies_genres['revenue'] > 2500000000]"
   ]
  },
  {
   "cell_type": "markdown",
   "metadata": {},
   "source": [
    "Movie Avatar seemd to be the outlier with way too high revenue. Lets try to remove the outlier."
   ]
  },
  {
   "cell_type": "code",
   "execution_count": 116,
   "metadata": {
    "collapsed": false,
    "deletable": true,
    "editable": true
   },
   "outputs": [
    {
     "data": {
      "text/plain": [
       "<matplotlib.axes._subplots.AxesSubplot at 0x2782ec9ecc0>"
      ]
     },
     "execution_count": 116,
     "metadata": {},
     "output_type": "execute_result"
    },
    {
     "data": {
      "image/png": "[encoded data removed]",
      "text/plain": [
       "<matplotlib.figure.Figure at 0x2782a984da0>"
      ]
     },
     "metadata": {},
     "output_type": "display_data"
    }
   ],
   "source": [
    "plt.figure(figsize=(8,8))\n",
    "sns.boxplot(x=movies_genres[\"Animation\"], y=movies_genres[\"revenue\"])"
   ]
  },
  {
   "cell_type": "code",
   "execution_count": 117,
   "metadata": {
    "collapsed": false,
    "deletable": true,
    "editable": true
   },
   "outputs": [
    {
     "data": {
      "text/plain": [
       "<matplotlib.axes._subplots.AxesSubplot at 0x2782e7b8198>"
      ]
     },
     "execution_count": 117,
     "metadata": {},
     "output_type": "execute_result"
    },
    {
     "data": {
      "image/png": "[encoded data removed]",
      "text/plain": [
       "<matplotlib.figure.Figure at 0x2782eab7ba8>"
      ]
     },
     "metadata": {},
     "output_type": "display_data"
    }
   ],
   "source": [
    "plt.figure(figsize=(8,8))\n",
    "sns.regplot(x=movies_genres[\"vote_count\"], y=movies_genres[\"revenue\"], fit_reg=True)"
   ]
  },
  {
   "cell_type": "code",
   "execution_count": 118,
   "metadata": {
    "collapsed": false,
    "deletable": true,
    "editable": true
   },
   "outputs": [
    {
     "data": {
      "text/plain": [
       "<matplotlib.axes._subplots.AxesSubplot at 0x2782a697978>"
      ]
     },
     "execution_count": 118,
     "metadata": {},
     "output_type": "execute_result"
    },
    {
     "data": {
      "image/png": "[encoded data removed]",
      "text/plain": [
       "<matplotlib.figure.Figure at 0x2782a67dbe0>"
      ]
     },
     "metadata": {},
     "output_type": "display_data"
    }
   ],
   "source": [
    "plt.figure(figsize=(8,8))\n",
    "sns.boxplot(x=movies_genres[\"Drama\"], y=movies_genres[\"revenue\"])"
   ]
  },
  {
   "cell_type": "code",
   "execution_count": 132,
   "metadata": {
    "collapsed": false
   },
   "outputs": [
    {
     "data": {
      "text/plain": [
       "(4802, 30)"
      ]
     },
     "execution_count": 132,
     "metadata": {},
     "output_type": "execute_result"
    }
   ],
   "source": [
    "mov_g = movies_genres[movies_genres['revenue'] < 2500000000]\n",
    "mov_g.shape"
   ]
  },
  {
   "cell_type": "code",
   "execution_count": 133,
   "metadata": {
    "collapsed": false,
    "deletable": true,
    "editable": true
   },
   "outputs": [
    {
     "name": "stdout",
     "output_type": "stream",
     "text": [
      "(3361, 1)\n",
      "(3361,)\n",
      "(1441, 1)\n",
      "(1441,)\n"
     ]
    }
   ],
   "source": [
    "x = mov_g[['budget']]\n",
    "y = mov_g['revenue']\n",
    "X_train, X_test, y_train, y_test = train_test_split(x, y, test_size=0.30)\n",
    "print (X_train.shape)\n",
    "print (y_train.shape)\n",
    "print (X_test.shape)\n",
    "print (y_test.shape)"
   ]
  },
  {
   "cell_type": "code",
   "execution_count": 134,
   "metadata": {
    "collapsed": false,
    "deletable": true,
    "editable": true
   },
   "outputs": [
    {
     "name": "stdout",
     "output_type": "stream",
     "text": [
      "Linear Regression Score: \n",
      " 53.47\n",
      "Linear Regression Test Score: \n",
      " 56.37\n",
      "Coefficient: \n",
      " [  1.09568844e+09]\n",
      "Intercept: \n",
      " 464915.491418\n"
     ]
    }
   ],
   "source": [
    "linear = linear_model.LinearRegression()\n",
    "# Train the model using the training sets and check score\n",
    "linear.fit(X_train, y_train)\n",
    "#Predict Output\n",
    "lin_predicted = linear.predict(X_test)\n",
    "\n",
    "linear_score = round(linear.score(X_train, y_train) * 100, 2)\n",
    "linear_score_test = round(linear.score(X_test, y_test) * 100, 2)\n",
    "#Equation coefficient and Intercept\n",
    "print('Linear Regression Score: \\n', linear_score)\n",
    "print('Linear Regression Test Score: \\n', linear_score_test)\n",
    "print('Coefficient: \\n', linear.coef_)\n",
    "print('Intercept: \\n', linear.intercept_)"
   ]
  },
  {
   "cell_type": "code",
   "execution_count": 157,
   "metadata": {
    "collapsed": false,
    "deletable": true,
    "editable": true
   },
   "outputs": [],
   "source": [
    "x = mov_g[['budget', 'vote_count']]\n",
    "y = mov_g['revenue']\n",
    "X_train, X_test, y_train, y_test = train_test_split(x, y, test_size=0.30)"
   ]
  },
  {
   "cell_type": "code",
   "execution_count": 158,
   "metadata": {
    "collapsed": false,
    "deletable": true,
    "editable": true
   },
   "outputs": [
    {
     "name": "stdout",
     "output_type": "stream",
     "text": [
      "Linear Regression Score: \n",
      " 73.71\n",
      "Linear Regression Test Score: \n",
      " 69.64\n",
      "Coefficient: \n",
      " [  6.25937659e+08   9.27320041e+08]\n",
      "Intercept: \n",
      " -12575601.8155\n"
     ]
    }
   ],
   "source": [
    "linear = linear_model.LinearRegression()\n",
    "# Train the model using the training sets and check score\n",
    "linear.fit(X_train, y_train)\n",
    "#Predict Output\n",
    "lin_predicted = linear.predict(X_test)\n",
    "\n",
    "linear_score = round(linear.score(X_train, y_train) * 100, 2)\n",
    "linear_score_test = round(linear.score(X_test, y_test) * 100, 2)\n",
    "#Equation coefficient and Intercept\n",
    "print('Linear Regression Score: \\n', linear_score)\n",
    "print('Linear Regression Test Score: \\n', linear_score_test)\n",
    "print('Coefficient: \\n', linear.coef_)\n",
    "print('Intercept: \\n', linear.intercept_)"
   ]
  },
  {
   "cell_type": "code",
   "execution_count": 186,
   "metadata": {
    "collapsed": false
   },
   "outputs": [
    {
     "name": "stdout",
     "output_type": "stream",
     "text": [
      "<class 'pandas.core.frame.DataFrame'>\n",
      "Int64Index: 4802 entries, 1 to 4802\n",
      "Data columns (total 30 columns):\n",
      "movie_id             4802 non-null int64\n",
      "budget               4802 non-null float64\n",
      "title                4802 non-null object\n",
      "release_year         4801 non-null float64\n",
      "release_month        4801 non-null float64\n",
      "genres               4802 non-null object\n",
      "revenue              4802 non-null int64\n",
      "vote_average         4802 non-null float64\n",
      "vote_count           4802 non-null float64\n",
      "original_language    4802 non-null object\n",
      "Animation            4802 non-null int64\n",
      "Thriller             4802 non-null int64\n",
      "Family               4802 non-null int64\n",
      "Adventure            4802 non-null int64\n",
      "Western              4802 non-null int64\n",
      "War                  4802 non-null int64\n",
      "Drama                4802 non-null int64\n",
      "Action               4802 non-null int64\n",
      "Mystery              4802 non-null int64\n",
      "Science Fiction      4802 non-null int64\n",
      "Documentary          4802 non-null int64\n",
      "Foreign              4802 non-null int64\n",
      "TV Movie             4802 non-null int64\n",
      "Fantasy              4802 non-null int64\n",
      "Music                4802 non-null int64\n",
      "History              4802 non-null int64\n",
      "Horror               4802 non-null int64\n",
      "Romance              4802 non-null int64\n",
      "Crime                4802 non-null int64\n",
      "Comedy               4802 non-null int64\n",
      "dtypes: float64(5), int64(22), object(3)\n",
      "memory usage: 1.3+ MB\n"
     ]
    },
    {
     "data": {
      "text/plain": [
       "4802"
      ]
     },
     "execution_count": 186,
     "metadata": {},
     "output_type": "execute_result"
    }
   ],
   "source": [
    "mov_g.info()\n",
    "len(mov_g)"
   ]
  },
  {
   "cell_type": "code",
   "execution_count": 180,
   "metadata": {
    "collapsed": false
   },
   "outputs": [
    {
     "data": {
      "text/html": [
       "<div>\n",
       "<style>\n",
       "    .dataframe thead tr:only-child th {\n",
       "        text-align: right;\n",
       "    }\n",
       "\n",
       "    .dataframe thead th {\n",
       "        text-align: left;\n",
       "    }\n",
       "\n",
       "    .dataframe tbody tr th {\n",
       "        vertical-align: top;\n",
       "    }\n",
       "</style>\n",
       "<table border=\"1\" class=\"dataframe\">\n",
       "  <thead>\n",
       "    <tr style=\"text-align: right;\">\n",
       "      <th></th>\n",
       "      <th>movie_id</th>\n",
       "      <th>budget</th>\n",
       "      <th>title</th>\n",
       "      <th>release_year</th>\n",
       "      <th>release_month</th>\n",
       "      <th>genres</th>\n",
       "      <th>revenue</th>\n",
       "      <th>vote_average</th>\n",
       "      <th>vote_count</th>\n",
       "      <th>original_language</th>\n",
       "      <th>...</th>\n",
       "      <th>Documentary</th>\n",
       "      <th>Foreign</th>\n",
       "      <th>TV Movie</th>\n",
       "      <th>Fantasy</th>\n",
       "      <th>Music</th>\n",
       "      <th>History</th>\n",
       "      <th>Horror</th>\n",
       "      <th>Romance</th>\n",
       "      <th>Crime</th>\n",
       "      <th>Comedy</th>\n",
       "    </tr>\n",
       "  </thead>\n",
       "  <tbody>\n",
       "    <tr>\n",
       "      <th>4553</th>\n",
       "      <td>380097</td>\n",
       "      <td>0.0</td>\n",
       "      <td>America Is Still the Place</td>\n",
       "      <td>NaN</td>\n",
       "      <td>NaN</td>\n",
       "      <td></td>\n",
       "      <td>0</td>\n",
       "      <td>0.0</td>\n",
       "      <td>0.0</td>\n",
       "      <td>en</td>\n",
       "      <td>...</td>\n",
       "      <td>0</td>\n",
       "      <td>0</td>\n",
       "      <td>0</td>\n",
       "      <td>0</td>\n",
       "      <td>0</td>\n",
       "      <td>0</td>\n",
       "      <td>0</td>\n",
       "      <td>0</td>\n",
       "      <td>0</td>\n",
       "      <td>0</td>\n",
       "    </tr>\n",
       "  </tbody>\n",
       "</table>\n",
       "<p>1 rows × 30 columns</p>\n",
       "</div>"
      ],
      "text/plain": [
       "      movie_id  budget                       title  release_year  \\\n",
       "4553    380097     0.0  America Is Still the Place           NaN   \n",
       "\n",
       "      release_month genres  revenue  vote_average  vote_count  \\\n",
       "4553            NaN               0           0.0         0.0   \n",
       "\n",
       "     original_language   ...    Documentary  Foreign  TV Movie  Fantasy  \\\n",
       "4553                en   ...              0        0         0        0   \n",
       "\n",
       "      Music  History  Horror  Romance  Crime  Comedy  \n",
       "4553      0        0       0        0      0       0  \n",
       "\n",
       "[1 rows x 30 columns]"
      ]
     },
     "execution_count": 180,
     "metadata": {},
     "output_type": "execute_result"
    }
   ],
   "source": [
    "mov_g[mov_g.release_year.isnull()]"
   ]
  },
  {
   "cell_type": "code",
   "execution_count": 187,
   "metadata": {
    "collapsed": false
   },
   "outputs": [],
   "source": [
    "mov_g = mov_g.dropna(axis=0, how='any')"
   ]
  },
  {
   "cell_type": "code",
   "execution_count": 191,
   "metadata": {
    "collapsed": false
   },
   "outputs": [
    {
     "data": {
      "text/html": [
       "<div>\n",
       "<style>\n",
       "    .dataframe thead tr:only-child th {\n",
       "        text-align: right;\n",
       "    }\n",
       "\n",
       "    .dataframe thead th {\n",
       "        text-align: left;\n",
       "    }\n",
       "\n",
       "    .dataframe tbody tr th {\n",
       "        vertical-align: top;\n",
       "    }\n",
       "</style>\n",
       "<table border=\"1\" class=\"dataframe\">\n",
       "  <thead>\n",
       "    <tr style=\"text-align: right;\">\n",
       "      <th></th>\n",
       "      <th>movie_id</th>\n",
       "      <th>budget</th>\n",
       "      <th>title</th>\n",
       "      <th>release_year</th>\n",
       "      <th>release_month</th>\n",
       "      <th>genres</th>\n",
       "      <th>revenue</th>\n",
       "      <th>vote_average</th>\n",
       "      <th>vote_count</th>\n",
       "      <th>original_language</th>\n",
       "      <th>...</th>\n",
       "      <th>Documentary</th>\n",
       "      <th>Foreign</th>\n",
       "      <th>TV Movie</th>\n",
       "      <th>Fantasy</th>\n",
       "      <th>Music</th>\n",
       "      <th>History</th>\n",
       "      <th>Horror</th>\n",
       "      <th>Romance</th>\n",
       "      <th>Crime</th>\n",
       "      <th>Comedy</th>\n",
       "    </tr>\n",
       "  </thead>\n",
       "  <tbody>\n",
       "    <tr>\n",
       "      <th>1</th>\n",
       "      <td>285</td>\n",
       "      <td>0.789474</td>\n",
       "      <td>Pirates of the Caribbean: At World's End</td>\n",
       "      <td>2007.0</td>\n",
       "      <td>5.0</td>\n",
       "      <td>Adventure,Fantasy,Action</td>\n",
       "      <td>961000000</td>\n",
       "      <td>0.69</td>\n",
       "      <td>0.327225</td>\n",
       "      <td>en</td>\n",
       "      <td>...</td>\n",
       "      <td>0</td>\n",
       "      <td>0</td>\n",
       "      <td>0</td>\n",
       "      <td>1</td>\n",
       "      <td>0</td>\n",
       "      <td>0</td>\n",
       "      <td>0</td>\n",
       "      <td>0</td>\n",
       "      <td>0</td>\n",
       "      <td>0</td>\n",
       "    </tr>\n",
       "    <tr>\n",
       "      <th>2</th>\n",
       "      <td>206647</td>\n",
       "      <td>0.644737</td>\n",
       "      <td>Spectre</td>\n",
       "      <td>2015.0</td>\n",
       "      <td>10.0</td>\n",
       "      <td>Action,Adventure,Crime</td>\n",
       "      <td>880674609</td>\n",
       "      <td>0.63</td>\n",
       "      <td>0.324753</td>\n",
       "      <td>en</td>\n",
       "      <td>...</td>\n",
       "      <td>0</td>\n",
       "      <td>0</td>\n",
       "      <td>0</td>\n",
       "      <td>0</td>\n",
       "      <td>0</td>\n",
       "      <td>0</td>\n",
       "      <td>0</td>\n",
       "      <td>0</td>\n",
       "      <td>1</td>\n",
       "      <td>0</td>\n",
       "    </tr>\n",
       "    <tr>\n",
       "      <th>3</th>\n",
       "      <td>49026</td>\n",
       "      <td>0.657895</td>\n",
       "      <td>The Dark Knight Rises</td>\n",
       "      <td>2012.0</td>\n",
       "      <td>7.0</td>\n",
       "      <td>Action,Crime,Drama,Thriller</td>\n",
       "      <td>1084939099</td>\n",
       "      <td>0.76</td>\n",
       "      <td>0.662158</td>\n",
       "      <td>en</td>\n",
       "      <td>...</td>\n",
       "      <td>0</td>\n",
       "      <td>0</td>\n",
       "      <td>0</td>\n",
       "      <td>0</td>\n",
       "      <td>0</td>\n",
       "      <td>0</td>\n",
       "      <td>0</td>\n",
       "      <td>0</td>\n",
       "      <td>1</td>\n",
       "      <td>0</td>\n",
       "    </tr>\n",
       "    <tr>\n",
       "      <th>4</th>\n",
       "      <td>49529</td>\n",
       "      <td>0.684211</td>\n",
       "      <td>John Carter</td>\n",
       "      <td>2012.0</td>\n",
       "      <td>3.0</td>\n",
       "      <td>Action,Adventure,Science Fiction</td>\n",
       "      <td>284139100</td>\n",
       "      <td>0.61</td>\n",
       "      <td>0.154450</td>\n",
       "      <td>en</td>\n",
       "      <td>...</td>\n",
       "      <td>0</td>\n",
       "      <td>0</td>\n",
       "      <td>0</td>\n",
       "      <td>0</td>\n",
       "      <td>0</td>\n",
       "      <td>0</td>\n",
       "      <td>0</td>\n",
       "      <td>0</td>\n",
       "      <td>0</td>\n",
       "      <td>0</td>\n",
       "    </tr>\n",
       "    <tr>\n",
       "      <th>5</th>\n",
       "      <td>559</td>\n",
       "      <td>0.678947</td>\n",
       "      <td>Spider-Man 3</td>\n",
       "      <td>2007.0</td>\n",
       "      <td>5.0</td>\n",
       "      <td>Fantasy,Action,Adventure</td>\n",
       "      <td>890871626</td>\n",
       "      <td>0.59</td>\n",
       "      <td>0.260035</td>\n",
       "      <td>en</td>\n",
       "      <td>...</td>\n",
       "      <td>0</td>\n",
       "      <td>0</td>\n",
       "      <td>0</td>\n",
       "      <td>1</td>\n",
       "      <td>0</td>\n",
       "      <td>0</td>\n",
       "      <td>0</td>\n",
       "      <td>0</td>\n",
       "      <td>0</td>\n",
       "      <td>0</td>\n",
       "    </tr>\n",
       "  </tbody>\n",
       "</table>\n",
       "<p>5 rows × 30 columns</p>\n",
       "</div>"
      ],
      "text/plain": [
       "   movie_id    budget                                     title  release_year  \\\n",
       "1       285  0.789474  Pirates of the Caribbean: At World's End        2007.0   \n",
       "2    206647  0.644737                                   Spectre        2015.0   \n",
       "3     49026  0.657895                     The Dark Knight Rises        2012.0   \n",
       "4     49529  0.684211                               John Carter        2012.0   \n",
       "5       559  0.678947                              Spider-Man 3        2007.0   \n",
       "\n",
       "   release_month                            genres     revenue  vote_average  \\\n",
       "1            5.0          Adventure,Fantasy,Action   961000000          0.69   \n",
       "2           10.0            Action,Adventure,Crime   880674609          0.63   \n",
       "3            7.0       Action,Crime,Drama,Thriller  1084939099          0.76   \n",
       "4            3.0  Action,Adventure,Science Fiction   284139100          0.61   \n",
       "5            5.0          Fantasy,Action,Adventure   890871626          0.59   \n",
       "\n",
       "   vote_count original_language   ...    Documentary  Foreign  TV Movie  \\\n",
       "1    0.327225                en   ...              0        0         0   \n",
       "2    0.324753                en   ...              0        0         0   \n",
       "3    0.662158                en   ...              0        0         0   \n",
       "4    0.154450                en   ...              0        0         0   \n",
       "5    0.260035                en   ...              0        0         0   \n",
       "\n",
       "   Fantasy  Music  History  Horror  Romance  Crime  Comedy  \n",
       "1        1      0        0       0        0      0       0  \n",
       "2        0      0        0       0        0      1       0  \n",
       "3        0      0        0       0        0      1       0  \n",
       "4        0      0        0       0        0      0       0  \n",
       "5        1      0        0       0        0      0       0  \n",
       "\n",
       "[5 rows x 30 columns]"
      ]
     },
     "execution_count": 191,
     "metadata": {},
     "output_type": "execute_result"
    }
   ],
   "source": [
    "mov_g.head()"
   ]
  },
  {
   "cell_type": "code",
   "execution_count": 200,
   "metadata": {
    "collapsed": false
   },
   "outputs": [],
   "source": [
    "x = mov_g[['budget','release_year','release_month','vote_count','Animation','Thriller','Family',\n",
    "           'Adventure','Western','War','Drama','Action','Mystery','Science Fiction','Documentary','Foreign','TV Movie','Fantasy',\n",
    "           'Music','History','Horror','Romance','Crime','Comedy']]\n",
    "y = mov_g['revenue']\n",
    "X_train, X_test, y_train, y_test = train_test_split(x, y, test_size=0.30)"
   ]
  },
  {
   "cell_type": "code",
   "execution_count": 201,
   "metadata": {
    "collapsed": false
   },
   "outputs": [
    {
     "name": "stdout",
     "output_type": "stream",
     "text": [
      "Linear Regression Score: \n",
      " 74.18\n",
      "Linear Regression Test Score: \n",
      " 73.62\n",
      "Coefficient: \n",
      " [  6.16131364e+08  -7.25252936e+05   4.72275538e+05   9.78047602e+08\n",
      "   2.45528071e+07  -2.22633398e+06   1.58841061e+07   1.43818896e+07\n",
      "  -4.73525354e+07  -1.75632822e+07  -8.24041665e+06  -5.30593051e+06\n",
      "  -6.85352446e+06  -3.30925664e+07   9.29553923e+06   1.06445246e+07\n",
      "  -2.23127336e+07  -7.30876186e+06   6.19211211e+06  -1.25261526e+07\n",
      "   3.22465941e+06   9.14422242e+06  -2.15103547e+07  -1.50491581e+06]\n",
      "Intercept: \n",
      " 1443233856.0\n"
     ]
    }
   ],
   "source": [
    "linear = linear_model.LinearRegression()\n",
    "# Train the model using the training sets and check score\n",
    "linear.fit(X_train, y_train)\n",
    "#Predict Output\n",
    "lin_predicted = linear.predict(X_test)\n",
    "\n",
    "linear_score = round(linear.score(X_train, y_train) * 100, 2)\n",
    "linear_score_test = round(linear.score(X_test, y_test) * 100, 2)\n",
    "#Equation coefficient and Intercept\n",
    "print('Linear Regression Score: \\n', linear_score)\n",
    "print('Linear Regression Test Score: \\n', linear_score_test)\n",
    "print('Coefficient: \\n', linear.coef_)\n",
    "print('Intercept: \\n', linear.intercept_)"
   ]
  },
  {
   "cell_type": "code",
   "execution_count": 202,
   "metadata": {
    "collapsed": false
   },
   "outputs": [
    {
     "data": {
      "text/html": [
       "<div>\n",
       "<style>\n",
       "    .dataframe thead tr:only-child th {\n",
       "        text-align: right;\n",
       "    }\n",
       "\n",
       "    .dataframe thead th {\n",
       "        text-align: left;\n",
       "    }\n",
       "\n",
       "    .dataframe tbody tr th {\n",
       "        vertical-align: top;\n",
       "    }\n",
       "</style>\n",
       "<table border=\"1\" class=\"dataframe\">\n",
       "  <thead>\n",
       "    <tr style=\"text-align: right;\">\n",
       "      <th></th>\n",
       "      <th>features</th>\n",
       "      <th>coefficients</th>\n",
       "    </tr>\n",
       "  </thead>\n",
       "  <tbody>\n",
       "    <tr>\n",
       "      <th>0</th>\n",
       "      <td>budget</td>\n",
       "      <td>6.161314e+08</td>\n",
       "    </tr>\n",
       "    <tr>\n",
       "      <th>1</th>\n",
       "      <td>release_year</td>\n",
       "      <td>-7.252529e+05</td>\n",
       "    </tr>\n",
       "    <tr>\n",
       "      <th>2</th>\n",
       "      <td>release_month</td>\n",
       "      <td>4.722755e+05</td>\n",
       "    </tr>\n",
       "    <tr>\n",
       "      <th>3</th>\n",
       "      <td>vote_count</td>\n",
       "      <td>9.780476e+08</td>\n",
       "    </tr>\n",
       "    <tr>\n",
       "      <th>4</th>\n",
       "      <td>Animation</td>\n",
       "      <td>2.455281e+07</td>\n",
       "    </tr>\n",
       "    <tr>\n",
       "      <th>5</th>\n",
       "      <td>Thriller</td>\n",
       "      <td>-2.226334e+06</td>\n",
       "    </tr>\n",
       "    <tr>\n",
       "      <th>6</th>\n",
       "      <td>Family</td>\n",
       "      <td>1.588411e+07</td>\n",
       "    </tr>\n",
       "    <tr>\n",
       "      <th>7</th>\n",
       "      <td>Adventure</td>\n",
       "      <td>1.438189e+07</td>\n",
       "    </tr>\n",
       "    <tr>\n",
       "      <th>8</th>\n",
       "      <td>Western</td>\n",
       "      <td>-4.735254e+07</td>\n",
       "    </tr>\n",
       "    <tr>\n",
       "      <th>9</th>\n",
       "      <td>War</td>\n",
       "      <td>-1.756328e+07</td>\n",
       "    </tr>\n",
       "    <tr>\n",
       "      <th>10</th>\n",
       "      <td>Drama</td>\n",
       "      <td>-8.240417e+06</td>\n",
       "    </tr>\n",
       "    <tr>\n",
       "      <th>11</th>\n",
       "      <td>Action</td>\n",
       "      <td>-5.305931e+06</td>\n",
       "    </tr>\n",
       "    <tr>\n",
       "      <th>12</th>\n",
       "      <td>Mystery</td>\n",
       "      <td>-6.853524e+06</td>\n",
       "    </tr>\n",
       "    <tr>\n",
       "      <th>13</th>\n",
       "      <td>Science Fiction</td>\n",
       "      <td>-3.309257e+07</td>\n",
       "    </tr>\n",
       "    <tr>\n",
       "      <th>14</th>\n",
       "      <td>Documentary</td>\n",
       "      <td>9.295539e+06</td>\n",
       "    </tr>\n",
       "    <tr>\n",
       "      <th>15</th>\n",
       "      <td>Foreign</td>\n",
       "      <td>1.064452e+07</td>\n",
       "    </tr>\n",
       "    <tr>\n",
       "      <th>16</th>\n",
       "      <td>TV Movie</td>\n",
       "      <td>-2.231273e+07</td>\n",
       "    </tr>\n",
       "    <tr>\n",
       "      <th>17</th>\n",
       "      <td>Fantasy</td>\n",
       "      <td>-7.308762e+06</td>\n",
       "    </tr>\n",
       "    <tr>\n",
       "      <th>18</th>\n",
       "      <td>Music</td>\n",
       "      <td>6.192112e+06</td>\n",
       "    </tr>\n",
       "    <tr>\n",
       "      <th>19</th>\n",
       "      <td>History</td>\n",
       "      <td>-1.252615e+07</td>\n",
       "    </tr>\n",
       "    <tr>\n",
       "      <th>20</th>\n",
       "      <td>Horror</td>\n",
       "      <td>3.224659e+06</td>\n",
       "    </tr>\n",
       "    <tr>\n",
       "      <th>21</th>\n",
       "      <td>Romance</td>\n",
       "      <td>9.144222e+06</td>\n",
       "    </tr>\n",
       "    <tr>\n",
       "      <th>22</th>\n",
       "      <td>Crime</td>\n",
       "      <td>-2.151035e+07</td>\n",
       "    </tr>\n",
       "    <tr>\n",
       "      <th>23</th>\n",
       "      <td>Comedy</td>\n",
       "      <td>-1.504916e+06</td>\n",
       "    </tr>\n",
       "  </tbody>\n",
       "</table>\n",
       "</div>"
      ],
      "text/plain": [
       "           features  coefficients\n",
       "0            budget  6.161314e+08\n",
       "1      release_year -7.252529e+05\n",
       "2     release_month  4.722755e+05\n",
       "3        vote_count  9.780476e+08\n",
       "4         Animation  2.455281e+07\n",
       "5          Thriller -2.226334e+06\n",
       "6            Family  1.588411e+07\n",
       "7         Adventure  1.438189e+07\n",
       "8           Western -4.735254e+07\n",
       "9               War -1.756328e+07\n",
       "10            Drama -8.240417e+06\n",
       "11           Action -5.305931e+06\n",
       "12          Mystery -6.853524e+06\n",
       "13  Science Fiction -3.309257e+07\n",
       "14      Documentary  9.295539e+06\n",
       "15          Foreign  1.064452e+07\n",
       "16         TV Movie -2.231273e+07\n",
       "17          Fantasy -7.308762e+06\n",
       "18            Music  6.192112e+06\n",
       "19          History -1.252615e+07\n",
       "20           Horror  3.224659e+06\n",
       "21          Romance  9.144222e+06\n",
       "22            Crime -2.151035e+07\n",
       "23           Comedy -1.504916e+06"
      ]
     },
     "execution_count": 202,
     "metadata": {},
     "output_type": "execute_result"
    }
   ],
   "source": [
    "pd.DataFrame(list(zip(x.columns, linear.coef_)), columns = ['features', 'coefficients'])"
   ]
  },
  {
   "cell_type": "code",
   "execution_count": 204,
   "metadata": {
    "collapsed": false
   },
   "outputs": [
    {
     "data": {
      "text/plain": [
       "<seaborn.axisgrid.PairGrid at 0x2782a50a5f8>"
      ]
     },
     "execution_count": 204,
     "metadata": {},
     "output_type": "execute_result"
    },
    {
     "data": {
      "image/png": "[encoded data removed]",
      "text/plain": [
       "<matplotlib.figure.Figure at 0x2782a43b940>"
      ]
     },
     "metadata": {},
     "output_type": "display_data"
    }
   ],
   "source": [
    "sns.pairplot(mov_g, x_vars=['budget','release_year','vote_count'], y_vars='revenue', size=7, aspect=0.7, kind='reg')"
   ]
  },
  {
   "cell_type": "code",
   "execution_count": 167,
   "metadata": {
    "collapsed": true
   },
   "outputs": [],
   "source": [
    "x = mov_g[['budget','release_year','release_month','vote_average','vote_count','Animation','Thriller','Family',\n",
    "           'Adventure','Western','War','Drama','Action','Mystery','Science Fiction','Documentary','Foreign','TV Movie','Fantasy',\n",
    "           'Music','History','Horror','Romance','Crime','Comedy']]\n",
    "y = mov_g['revenue']\n",
    "X_train, X_test, y_train, y_test = train_test_split(x, y, test_size=0.30)"
   ]
  },
  {
   "cell_type": "code",
   "execution_count": 168,
   "metadata": {
    "collapsed": false
   },
   "outputs": [
    {
     "name": "stdout",
     "output_type": "stream",
     "text": [
      "Linear Regression Score: \n",
      " 74.5\n",
      "Linear Regression Test Score: \n",
      " 71.08\n",
      "Coefficient: \n",
      " [  9.66512471e+08   6.16151332e+08   1.93782667e+07  -1.29952746e+07\n",
      "  -1.20232790e+07   1.14330845e+07   1.85895999e+07  -2.50344980e+07\n",
      "  -1.21732006e+07]\n",
      "Intercept: \n",
      " -6733177.8345\n"
     ]
    }
   ],
   "source": [
    "linear = linear_model.LinearRegression()\n",
    "# Train the model using the training sets and check score\n",
    "linear.fit(X_train, y_train)\n",
    "#Predict Output\n",
    "lin_predicted = linear.predict(X_test)\n",
    "\n",
    "linear_score = round(linear.score(X_train, y_train) * 100, 2)\n",
    "linear_score_test = round(linear.score(X_test, y_test) * 100, 2)\n",
    "#Equation coefficient and Intercept\n",
    "print('Linear Regression Score: \\n', linear_score)\n",
    "print('Linear Regression Test Score: \\n', linear_score_test)\n",
    "print('Coefficient: \\n', linear.coef_)\n",
    "print('Intercept: \\n', linear.intercept_)"
   ]
  },
  {
   "cell_type": "markdown",
   "metadata": {},
   "source": [
    "### Conclusion:\n",
    "The main indicator for the movie revenue or success is determined by the budget and vote_count"
   ]
  },
  {
   "cell_type": "markdown",
   "metadata": {
    "deletable": true,
    "editable": true
   },
   "source": [
    "# Cast regression indicators"
   ]
  },
  {
   "cell_type": "code",
   "execution_count": 208,
   "metadata": {
    "collapsed": false,
    "deletable": true,
    "editable": true
   },
   "outputs": [
    {
     "data": {
      "text/plain": [
       "revenue                 1.000000\n",
       "vote_count              0.781487\n",
       "budget                  0.730823\n",
       "vote_average            0.197150\n",
       "TomCruise               0.105169\n",
       "TomHanks                0.097123\n",
       "release_year            0.090192\n",
       "JohnnyDepp              0.070092\n",
       "BenStiller              0.064808\n",
       "LeonardoDiCaprio        0.061093\n",
       "ChristianBale           0.057699\n",
       "release_month           0.055232\n",
       "HarrisonFord            0.047397\n",
       "BruceWillis             0.039068\n",
       "SandraBullock           0.038288\n",
       "JimCarrey               0.036710\n",
       "AdamSandler             0.036157\n",
       "BradPitt                0.036057\n",
       "ArnoldSchwarzenegger    0.035824\n",
       "KeanuReeves             0.035350\n",
       "MarkWahlberg            0.034569\n",
       "BenAffleck              0.033531\n",
       "MattDamon               0.029770\n",
       "DwayneJohnson           0.025933\n",
       "GeorgeClooney           0.024524\n",
       "RobinWilliams           0.019012\n",
       "SylvesterStallone       0.018602\n",
       "EddieMurphy             0.014635\n",
       "DenzelWashington        0.013646\n",
       "NicolasCage             0.013528\n",
       "WillFerrell             0.010711\n",
       "JohnTravolta            0.007254\n",
       "KevinCostner            0.007114\n",
       "SeanConnery             0.004294\n",
       "RobertDeNiro           -0.002575\n",
       "movie_id               -0.050425\n",
       "Name: revenue, dtype: float64"
      ]
     },
     "execution_count": 208,
     "metadata": {},
     "output_type": "execute_result"
    }
   ],
   "source": [
    "cast_corr = movies_cast.corr()\n",
    "cast_corr['revenue'].sort_values(ascending = False)"
   ]
  },
  {
   "cell_type": "markdown",
   "metadata": {
    "deletable": true,
    "editable": true
   },
   "source": [
    "For cast in movies, the actors acting in the movies dont seem to play a significant role in the movie becoming a box office hit. The main indicators seems to be vote_count & budget."
   ]
  },
  {
   "cell_type": "code",
   "execution_count": 209,
   "metadata": {
    "collapsed": false,
    "deletable": true,
    "editable": true
   },
   "outputs": [
    {
     "name": "stderr",
     "output_type": "stream",
     "text": [
      "D:\\Anaconda3\\lib\\site-packages\\sklearn\\preprocessing\\data.py:321: DeprecationWarning: Passing 1d arrays as data is deprecated in 0.17 and will raise ValueError in 0.19. Reshape your data either using X.reshape(-1, 1) if your data has a single feature or X.reshape(1, -1) if it contains a single sample.\n",
      "  warnings.warn(DEPRECATION_MSG_1D, DeprecationWarning)\n",
      "D:\\Anaconda3\\lib\\site-packages\\sklearn\\preprocessing\\data.py:356: DeprecationWarning: Passing 1d arrays as data is deprecated in 0.17 and will raise ValueError in 0.19. Reshape your data either using X.reshape(-1, 1) if your data has a single feature or X.reshape(1, -1) if it contains a single sample.\n",
      "  warnings.warn(DEPRECATION_MSG_1D, DeprecationWarning)\n",
      "D:\\Anaconda3\\lib\\site-packages\\sklearn\\preprocessing\\data.py:321: DeprecationWarning: Passing 1d arrays as data is deprecated in 0.17 and will raise ValueError in 0.19. Reshape your data either using X.reshape(-1, 1) if your data has a single feature or X.reshape(1, -1) if it contains a single sample.\n",
      "  warnings.warn(DEPRECATION_MSG_1D, DeprecationWarning)\n",
      "D:\\Anaconda3\\lib\\site-packages\\sklearn\\preprocessing\\data.py:356: DeprecationWarning: Passing 1d arrays as data is deprecated in 0.17 and will raise ValueError in 0.19. Reshape your data either using X.reshape(-1, 1) if your data has a single feature or X.reshape(1, -1) if it contains a single sample.\n",
      "  warnings.warn(DEPRECATION_MSG_1D, DeprecationWarning)\n",
      "D:\\Anaconda3\\lib\\site-packages\\sklearn\\preprocessing\\data.py:321: DeprecationWarning: Passing 1d arrays as data is deprecated in 0.17 and will raise ValueError in 0.19. Reshape your data either using X.reshape(-1, 1) if your data has a single feature or X.reshape(1, -1) if it contains a single sample.\n",
      "  warnings.warn(DEPRECATION_MSG_1D, DeprecationWarning)\n",
      "D:\\Anaconda3\\lib\\site-packages\\sklearn\\preprocessing\\data.py:356: DeprecationWarning: Passing 1d arrays as data is deprecated in 0.17 and will raise ValueError in 0.19. Reshape your data either using X.reshape(-1, 1) if your data has a single feature or X.reshape(1, -1) if it contains a single sample.\n",
      "  warnings.warn(DEPRECATION_MSG_1D, DeprecationWarning)\n"
     ]
    }
   ],
   "source": [
    "#Standard Scaling\n",
    "\n",
    "from sklearn.preprocessing import MinMaxScaler\n",
    "min_max=MinMaxScaler()\n",
    "movies_cast['budget'] = MinMaxScaler().fit_transform(movies_cast['budget'])\n",
    "movies_cast['vote_average'] = MinMaxScaler().fit_transform(movies_cast['vote_average'])\n",
    "movies_cast['vote_count'] = MinMaxScaler().fit_transform(movies_cast['vote_count'])"
   ]
  },
  {
   "cell_type": "code",
   "execution_count": 219,
   "metadata": {
    "collapsed": false
   },
   "outputs": [],
   "source": [
    "x = movies_cast[['vote_count','budget','vote_average','TomCruise','TomHanks','JohnnyDepp',\n",
    "                 'BenStiller','LeonardoDiCaprio','ChristianBale','HarrisonFord']]\n",
    "y = movies_cast['revenue']"
   ]
  },
  {
   "cell_type": "code",
   "execution_count": 220,
   "metadata": {
    "collapsed": true
   },
   "outputs": [],
   "source": [
    "X_train, X_test, y_train, y_test = train_test_split(x, y, test_size=0.30)"
   ]
  },
  {
   "cell_type": "code",
   "execution_count": 221,
   "metadata": {
    "collapsed": false
   },
   "outputs": [],
   "source": [
    "linear = linear_model.LinearRegression()\n",
    "# Train the model using the training sets and check score\n",
    "linear.fit(X_train, y_train)\n",
    "#Predict Output\n",
    "lin_predicted = linear.predict(X_test)"
   ]
  },
  {
   "cell_type": "code",
   "execution_count": 222,
   "metadata": {
    "collapsed": false
   },
   "outputs": [
    {
     "name": "stdout",
     "output_type": "stream",
     "text": [
      "Linear Regression Score: \n",
      " 72.2\n",
      "Linear Regression Test Score: \n",
      " 73.15\n",
      "Coefficient: \n",
      " [  1.04683059e+09   6.21015829e+08  -2.19727403e+07   6.72637171e+07\n",
      "   7.71614716e+06  -7.23119417e+07   1.35366538e+07  -1.36247449e+08\n",
      "  -1.06738194e+08   4.36720184e+07]\n",
      "Intercept: \n",
      " -2702560.31217\n"
     ]
    }
   ],
   "source": [
    "linear_score = round(linear.score(X_train, y_train) * 100, 2)\n",
    "linear_score_test = round(linear.score(X_test, y_test) * 100, 2)\n",
    "#Equation coefficient and Intercept\n",
    "print('Linear Regression Score: \\n', linear_score)\n",
    "print('Linear Regression Test Score: \\n', linear_score_test)\n",
    "print('Coefficient: \\n', linear.coef_)\n",
    "print('Intercept: \\n', linear.intercept_)"
   ]
  },
  {
   "cell_type": "code",
   "execution_count": 255,
   "metadata": {
    "collapsed": false
   },
   "outputs": [],
   "source": [
    "x = movies_cast[['vote_count','budget']]\n",
    "y = movies_cast['revenue']\n",
    "X_train, X_test, y_train, y_test = train_test_split(x, y, test_size=0.30)"
   ]
  },
  {
   "cell_type": "code",
   "execution_count": 256,
   "metadata": {
    "collapsed": false
   },
   "outputs": [
    {
     "name": "stdout",
     "output_type": "stream",
     "text": [
      "Linear Regression Score: \n",
      " 72.42\n",
      "Linear Regression Test Score: \n",
      " 71.16\n",
      "Coefficient: \n",
      " [  9.95052103e+08   6.11884369e+08]\n",
      "Intercept: \n",
      " -15488096.8735\n"
     ]
    }
   ],
   "source": [
    "linear = linear_model.LinearRegression()\n",
    "# Train the model using the training sets and check score\n",
    "linear.fit(X_train, y_train)\n",
    "#Predict Output\n",
    "lin_predicted = linear.predict(X_test)\n",
    "\n",
    "linear_score = round(linear.score(X_train, y_train) * 100, 2)\n",
    "linear_score_test = round(linear.score(X_test, y_test) * 100, 2)\n",
    "#Equation coefficient and Intercept\n",
    "print('Linear Regression Score: \\n', linear_score)\n",
    "print('Linear Regression Test Score: \\n', linear_score_test)\n",
    "print('Coefficient: \\n', linear.coef_)\n",
    "print('Intercept: \\n', linear.intercept_)"
   ]
  },
  {
   "cell_type": "markdown",
   "metadata": {},
   "source": [
    "### Conclusion:\n",
    "Tried different combination of cast/actors, but the score seems to be impacted more only with budget and vote_count"
   ]
  },
  {
   "cell_type": "markdown",
   "metadata": {},
   "source": [
    "## Movie Director regression indicators"
   ]
  },
  {
   "cell_type": "code",
   "execution_count": 259,
   "metadata": {
    "collapsed": false
   },
   "outputs": [
    {
     "data": {
      "text/plain": [
       "revenue                        1.000000\n",
       "vote_count                     0.781487\n",
       "budget                         0.730823\n",
       "vote_average                   0.197150\n",
       "MichaelBay                     0.124098\n",
       "StevenSpielberg                0.118448\n",
       "release_year                   0.090192\n",
       "ChrisColumbus                  0.075448\n",
       "RobertZemeckis                 0.062046\n",
       "SamRaimi                       0.059594\n",
       "release_month                  0.055232\n",
       "TimBurton                      0.051839\n",
       "RonHoward                      0.044494\n",
       "RidleyScott                    0.041569\n",
       "DavidFincher                   0.036935\n",
       "ShawnLevy                      0.035139\n",
       "TonyScott                      0.022558\n",
       "StevenSoderbergh               0.020187\n",
       "ClintEastwood                  0.017211\n",
       "BobbyFarrelly,PeterFarrelly    0.011591\n",
       "RichardDonner                  0.010680\n",
       "JohnMcTiernan                  0.009756\n",
       "JoelSchumacher                 0.009048\n",
       "MartinScorsese                 0.004441\n",
       "OliverStone                    0.002998\n",
       "BarryLevinson                  0.000981\n",
       "BrianDePalma                  -0.001688\n",
       "FrancisFordCoppola            -0.002589\n",
       "RobReiner                     -0.002703\n",
       "RennyHarlin                   -0.004638\n",
       "RobertRodriguez               -0.006119\n",
       "RichardLinklater              -0.015870\n",
       "KevinSmith                    -0.018998\n",
       "WoodyAllen                    -0.021598\n",
       "SpikeLee                      -0.021647\n",
       "movie_id                      -0.050425\n",
       "Name: revenue, dtype: float64"
      ]
     },
     "execution_count": 259,
     "metadata": {},
     "output_type": "execute_result"
    }
   ],
   "source": [
    "crew_corr = movies_crew.corr()\n",
    "crew_corr['revenue'].sort_values(ascending=False)"
   ]
  },
  {
   "cell_type": "markdown",
   "metadata": {},
   "source": [
    "Strong correlation indicators seems be\n",
    "Positive: vote_count, budget, vote_average, MichaelBay, StevenSpielberg"
   ]
  },
  {
   "cell_type": "markdown",
   "metadata": {},
   "source": [
    "### Standard Scaling"
   ]
  },
  {
   "cell_type": "code",
   "execution_count": 260,
   "metadata": {
    "collapsed": false
   },
   "outputs": [
    {
     "name": "stderr",
     "output_type": "stream",
     "text": [
      "D:\\Anaconda3\\lib\\site-packages\\sklearn\\utils\\validation.py:429: DataConversionWarning: Data with input dtype int64 was converted to float64 by MinMaxScaler.\n",
      "  warnings.warn(msg, _DataConversionWarning)\n",
      "D:\\Anaconda3\\lib\\site-packages\\sklearn\\preprocessing\\data.py:321: DeprecationWarning: Passing 1d arrays as data is deprecated in 0.17 and will raise ValueError in 0.19. Reshape your data either using X.reshape(-1, 1) if your data has a single feature or X.reshape(1, -1) if it contains a single sample.\n",
      "  warnings.warn(DEPRECATION_MSG_1D, DeprecationWarning)\n",
      "D:\\Anaconda3\\lib\\site-packages\\sklearn\\preprocessing\\data.py:356: DeprecationWarning: Passing 1d arrays as data is deprecated in 0.17 and will raise ValueError in 0.19. Reshape your data either using X.reshape(-1, 1) if your data has a single feature or X.reshape(1, -1) if it contains a single sample.\n",
      "  warnings.warn(DEPRECATION_MSG_1D, DeprecationWarning)\n",
      "D:\\Anaconda3\\lib\\site-packages\\sklearn\\preprocessing\\data.py:321: DeprecationWarning: Passing 1d arrays as data is deprecated in 0.17 and will raise ValueError in 0.19. Reshape your data either using X.reshape(-1, 1) if your data has a single feature or X.reshape(1, -1) if it contains a single sample.\n",
      "  warnings.warn(DEPRECATION_MSG_1D, DeprecationWarning)\n",
      "D:\\Anaconda3\\lib\\site-packages\\sklearn\\preprocessing\\data.py:356: DeprecationWarning: Passing 1d arrays as data is deprecated in 0.17 and will raise ValueError in 0.19. Reshape your data either using X.reshape(-1, 1) if your data has a single feature or X.reshape(1, -1) if it contains a single sample.\n",
      "  warnings.warn(DEPRECATION_MSG_1D, DeprecationWarning)\n",
      "D:\\Anaconda3\\lib\\site-packages\\sklearn\\preprocessing\\data.py:321: DeprecationWarning: Passing 1d arrays as data is deprecated in 0.17 and will raise ValueError in 0.19. Reshape your data either using X.reshape(-1, 1) if your data has a single feature or X.reshape(1, -1) if it contains a single sample.\n",
      "  warnings.warn(DEPRECATION_MSG_1D, DeprecationWarning)\n",
      "D:\\Anaconda3\\lib\\site-packages\\sklearn\\preprocessing\\data.py:356: DeprecationWarning: Passing 1d arrays as data is deprecated in 0.17 and will raise ValueError in 0.19. Reshape your data either using X.reshape(-1, 1) if your data has a single feature or X.reshape(1, -1) if it contains a single sample.\n",
      "  warnings.warn(DEPRECATION_MSG_1D, DeprecationWarning)\n"
     ]
    },
    {
     "data": {
      "text/html": [
       "<div>\n",
       "<style>\n",
       "    .dataframe thead tr:only-child th {\n",
       "        text-align: right;\n",
       "    }\n",
       "\n",
       "    .dataframe thead th {\n",
       "        text-align: left;\n",
       "    }\n",
       "\n",
       "    .dataframe tbody tr th {\n",
       "        vertical-align: top;\n",
       "    }\n",
       "</style>\n",
       "<table border=\"1\" class=\"dataframe\">\n",
       "  <thead>\n",
       "    <tr style=\"text-align: right;\">\n",
       "      <th></th>\n",
       "      <th>movie_id</th>\n",
       "      <th>budget</th>\n",
       "      <th>title</th>\n",
       "      <th>release_year</th>\n",
       "      <th>release_month</th>\n",
       "      <th>crew</th>\n",
       "      <th>revenue</th>\n",
       "      <th>vote_average</th>\n",
       "      <th>vote_count</th>\n",
       "      <th>original_language</th>\n",
       "      <th>...</th>\n",
       "      <th>SamRaimi</th>\n",
       "      <th>ShawnLevy</th>\n",
       "      <th>RichardDonner</th>\n",
       "      <th>ChrisColumbus</th>\n",
       "      <th>BobbyFarrelly,PeterFarrelly</th>\n",
       "      <th>RobReiner</th>\n",
       "      <th>FrancisFordCoppola</th>\n",
       "      <th>RichardLinklater</th>\n",
       "      <th>DavidFincher</th>\n",
       "      <th>JohnMcTiernan</th>\n",
       "    </tr>\n",
       "  </thead>\n",
       "  <tbody>\n",
       "    <tr>\n",
       "      <th>0</th>\n",
       "      <td>19995</td>\n",
       "      <td>0.623684</td>\n",
       "      <td>Avatar</td>\n",
       "      <td>2009.0</td>\n",
       "      <td>12.0</td>\n",
       "      <td>JamesCameron</td>\n",
       "      <td>2787965087</td>\n",
       "      <td>0.72</td>\n",
       "      <td>0.858057</td>\n",
       "      <td>en</td>\n",
       "      <td>...</td>\n",
       "      <td>0</td>\n",
       "      <td>0</td>\n",
       "      <td>0</td>\n",
       "      <td>0</td>\n",
       "      <td>0</td>\n",
       "      <td>0</td>\n",
       "      <td>0</td>\n",
       "      <td>0</td>\n",
       "      <td>0</td>\n",
       "      <td>0</td>\n",
       "    </tr>\n",
       "    <tr>\n",
       "      <th>1</th>\n",
       "      <td>285</td>\n",
       "      <td>0.789474</td>\n",
       "      <td>Pirates of the Caribbean: At World's End</td>\n",
       "      <td>2007.0</td>\n",
       "      <td>5.0</td>\n",
       "      <td>GoreVerbinski</td>\n",
       "      <td>961000000</td>\n",
       "      <td>0.69</td>\n",
       "      <td>0.327225</td>\n",
       "      <td>en</td>\n",
       "      <td>...</td>\n",
       "      <td>0</td>\n",
       "      <td>0</td>\n",
       "      <td>0</td>\n",
       "      <td>0</td>\n",
       "      <td>0</td>\n",
       "      <td>0</td>\n",
       "      <td>0</td>\n",
       "      <td>0</td>\n",
       "      <td>0</td>\n",
       "      <td>0</td>\n",
       "    </tr>\n",
       "    <tr>\n",
       "      <th>2</th>\n",
       "      <td>206647</td>\n",
       "      <td>0.644737</td>\n",
       "      <td>Spectre</td>\n",
       "      <td>2015.0</td>\n",
       "      <td>10.0</td>\n",
       "      <td>SamMendes</td>\n",
       "      <td>880674609</td>\n",
       "      <td>0.63</td>\n",
       "      <td>0.324753</td>\n",
       "      <td>en</td>\n",
       "      <td>...</td>\n",
       "      <td>0</td>\n",
       "      <td>0</td>\n",
       "      <td>0</td>\n",
       "      <td>0</td>\n",
       "      <td>0</td>\n",
       "      <td>0</td>\n",
       "      <td>0</td>\n",
       "      <td>0</td>\n",
       "      <td>0</td>\n",
       "      <td>0</td>\n",
       "    </tr>\n",
       "  </tbody>\n",
       "</table>\n",
       "<p>3 rows × 39 columns</p>\n",
       "</div>"
      ],
      "text/plain": [
       "   movie_id    budget                                     title  release_year  \\\n",
       "0     19995  0.623684                                    Avatar        2009.0   \n",
       "1       285  0.789474  Pirates of the Caribbean: At World's End        2007.0   \n",
       "2    206647  0.644737                                   Spectre        2015.0   \n",
       "\n",
       "   release_month           crew     revenue  vote_average  vote_count  \\\n",
       "0           12.0   JamesCameron  2787965087          0.72    0.858057   \n",
       "1            5.0  GoreVerbinski   961000000          0.69    0.327225   \n",
       "2           10.0      SamMendes   880674609          0.63    0.324753   \n",
       "\n",
       "  original_language      ...        SamRaimi  ShawnLevy  RichardDonner  \\\n",
       "0                en      ...               0          0              0   \n",
       "1                en      ...               0          0              0   \n",
       "2                en      ...               0          0              0   \n",
       "\n",
       "   ChrisColumbus  BobbyFarrelly,PeterFarrelly  RobReiner  FrancisFordCoppola  \\\n",
       "0              0                            0          0                   0   \n",
       "1              0                            0          0                   0   \n",
       "2              0                            0          0                   0   \n",
       "\n",
       "   RichardLinklater  DavidFincher  JohnMcTiernan  \n",
       "0                 0             0              0  \n",
       "1                 0             0              0  \n",
       "2                 0             0              0  \n",
       "\n",
       "[3 rows x 39 columns]"
      ]
     },
     "execution_count": 260,
     "metadata": {},
     "output_type": "execute_result"
    }
   ],
   "source": [
    "from sklearn.preprocessing import MinMaxScaler\n",
    "min_max=MinMaxScaler()\n",
    "movies_crew['budget'] = MinMaxScaler().fit_transform(movies_crew['budget'])\n",
    "movies_crew['vote_average'] = MinMaxScaler().fit_transform(movies_crew['vote_average'])\n",
    "movies_crew['vote_count'] = MinMaxScaler().fit_transform(movies_crew['vote_count'])\n",
    "movies_crew.head(3)"
   ]
  },
  {
   "cell_type": "code",
   "execution_count": 295,
   "metadata": {
    "collapsed": true
   },
   "outputs": [],
   "source": [
    "x = movies_crew[['vote_count', 'budget', 'vote_average', 'MichaelBay', 'StevenSpielberg']]\n",
    "y = movies_crew['revenue']\n",
    "\n",
    "X_train, X_test, y_train, y_test = train_test_split(x, y, test_size=0.30)"
   ]
  },
  {
   "cell_type": "code",
   "execution_count": 296,
   "metadata": {
    "collapsed": false
   },
   "outputs": [
    {
     "name": "stdout",
     "output_type": "stream",
     "text": [
      "Linear Regression Score: \n",
      " 72.13\n",
      "Linear Regression Test Score: \n",
      " 73.1\n",
      "Coefficient: \n",
      " [  9.56615622e+08   5.97681052e+08  -2.05464294e+07   1.39099448e+08\n",
      "   9.41874796e+07]\n",
      "Intercept: \n",
      " -1018162.49981\n"
     ]
    }
   ],
   "source": [
    "linear = linear_model.LinearRegression()\n",
    "# Train the model using the training sets and check score\n",
    "linear.fit(X_train, y_train)\n",
    "#Predict Output\n",
    "lin_predicted = linear.predict(X_test)\n",
    "\n",
    "linear_score = round(linear.score(X_train, y_train) * 100, 2)\n",
    "linear_score_test = round(linear.score(X_test, y_test) * 100, 2)\n",
    "#Equation coefficient and Intercept\n",
    "print('Linear Regression Score: \\n', linear_score)\n",
    "print('Linear Regression Test Score: \\n', linear_score_test)\n",
    "print('Coefficient: \\n', linear.coef_)\n",
    "print('Intercept: \\n', linear.intercept_)"
   ]
  },
  {
   "cell_type": "code",
   "execution_count": 306,
   "metadata": {
    "collapsed": true
   },
   "outputs": [],
   "source": [
    "x = movies_crew[['vote_count', 'budget', 'StevenSpielberg']]\n",
    "y = movies_crew['revenue']\n",
    "\n",
    "X_train, X_test, y_train, y_test = train_test_split(x, y, test_size=0.30)"
   ]
  },
  {
   "cell_type": "code",
   "execution_count": 307,
   "metadata": {
    "collapsed": false
   },
   "outputs": [
    {
     "name": "stdout",
     "output_type": "stream",
     "text": [
      "Linear Regression Score: \n",
      " 71.85\n",
      "Linear Regression Test Score: \n",
      " 73.45\n",
      "Coefficient: \n",
      " [  9.50135301e+08   6.35330358e+08   1.05669270e+08]\n",
      "Intercept: \n",
      " -14728412.9315\n"
     ]
    }
   ],
   "source": [
    "linear = linear_model.LinearRegression()\n",
    "# Train the model using the training sets and check score\n",
    "linear.fit(X_train, y_train)\n",
    "#Predict Output\n",
    "lin_predicted = linear.predict(X_test)\n",
    "\n",
    "linear_score = round(linear.score(X_train, y_train) * 100, 2)\n",
    "linear_score_test = round(linear.score(X_test, y_test) * 100, 2)\n",
    "#Equation coefficient and Intercept\n",
    "print('Linear Regression Score: \\n', linear_score)\n",
    "print('Linear Regression Test Score: \\n', linear_score_test)\n",
    "print('Coefficient: \\n', linear.coef_)\n",
    "print('Intercept: \\n', linear.intercept_)"
   ]
  },
  {
   "cell_type": "code",
   "execution_count": 305,
   "metadata": {
    "collapsed": false
   },
   "outputs": [
    {
     "data": {
      "text/html": [
       "<div>\n",
       "<style>\n",
       "    .dataframe thead tr:only-child th {\n",
       "        text-align: right;\n",
       "    }\n",
       "\n",
       "    .dataframe thead th {\n",
       "        text-align: left;\n",
       "    }\n",
       "\n",
       "    .dataframe tbody tr th {\n",
       "        vertical-align: top;\n",
       "    }\n",
       "</style>\n",
       "<table border=\"1\" class=\"dataframe\">\n",
       "  <thead>\n",
       "    <tr style=\"text-align: right;\">\n",
       "      <th></th>\n",
       "      <th>features</th>\n",
       "      <th>coefficients</th>\n",
       "    </tr>\n",
       "  </thead>\n",
       "  <tbody>\n",
       "    <tr>\n",
       "      <th>0</th>\n",
       "      <td>vote_count</td>\n",
       "      <td>9.840329e+08</td>\n",
       "    </tr>\n",
       "    <tr>\n",
       "      <th>1</th>\n",
       "      <td>budget</td>\n",
       "      <td>5.926420e+08</td>\n",
       "    </tr>\n",
       "    <tr>\n",
       "      <th>2</th>\n",
       "      <td>MichaelBay</td>\n",
       "      <td>2.492927e+08</td>\n",
       "    </tr>\n",
       "    <tr>\n",
       "      <th>3</th>\n",
       "      <td>StevenSpielberg</td>\n",
       "      <td>7.771974e+07</td>\n",
       "    </tr>\n",
       "    <tr>\n",
       "      <th>4</th>\n",
       "      <td>ChrisColumbus</td>\n",
       "      <td>1.066996e+08</td>\n",
       "    </tr>\n",
       "  </tbody>\n",
       "</table>\n",
       "</div>"
      ],
      "text/plain": [
       "          features  coefficients\n",
       "0       vote_count  9.840329e+08\n",
       "1           budget  5.926420e+08\n",
       "2       MichaelBay  2.492927e+08\n",
       "3  StevenSpielberg  7.771974e+07\n",
       "4    ChrisColumbus  1.066996e+08"
      ]
     },
     "execution_count": 305,
     "metadata": {},
     "output_type": "execute_result"
    }
   ],
   "source": [
    "pd.DataFrame(list(zip(x.columns, linear.coef_)), columns = ['features', 'coefficients'])"
   ]
  },
  {
   "cell_type": "markdown",
   "metadata": {},
   "source": [
    "### Conclusion:\n",
    "One of the main indicator for the movie revenue or success is determined by Steven Speilberg being the director."
   ]
  },
  {
   "cell_type": "markdown",
   "metadata": {},
   "source": [
    "## Production Companies regression indicators"
   ]
  },
  {
   "cell_type": "code",
   "execution_count": 309,
   "metadata": {
    "collapsed": false
   },
   "outputs": [
    {
     "data": {
      "text/plain": [
       "revenue                                   1.000000\n",
       "vote_count                                0.781487\n",
       "budget                                    0.730823\n",
       "Marvel Studios                            0.223182\n",
       "vote_average                              0.197150\n",
       "Pixar Animation Studios                   0.188469\n",
       "Walt Disney                               0.172745\n",
       "Walt Disney Pictures                      0.162154\n",
       "DreamWorks                                0.128796\n",
       "Twentieth Century Fox Film Corporation    0.128460\n",
       "Warner Bros.                              0.126763\n",
       "Lucasfilm                                 0.123117\n",
       "Jerry Bruckheimer Films                   0.108720\n",
       "Paramount Pictures                        0.094351\n",
       "Walt Disney Studios Motion Pictures       0.093206\n",
       "Walt Disney Animation Studios             0.092864\n",
       "release_year                              0.090192\n",
       "Universal Pictures                        0.087448\n",
       "DreamWorks SKG                            0.079273\n",
       "Columbia Pictures                         0.070142\n",
       "release_month                             0.055232\n",
       "Universal Studios                         0.051479\n",
       "New Line Cinema                           0.041220\n",
       "Relativity Media                          0.038759\n",
       "RKO Radio Pictures                       -0.012242\n",
       "Miramax Films                            -0.025491\n",
       "movie_id                                 -0.050425\n",
       "Metro-Goldwyn-Mayer (MGM)                      NaN\n",
       "Name: revenue, dtype: float64"
      ]
     },
     "execution_count": 309,
     "metadata": {},
     "output_type": "execute_result"
    }
   ],
   "source": [
    "prodco_corr = movies_production_companies.corr()\n",
    "prodco_corr['revenue'].sort_values(ascending=False)"
   ]
  },
  {
   "cell_type": "markdown",
   "metadata": {},
   "source": [
    "Strong correlation indicators seems be  \n",
    "Positive: vote_count, budget, prod companies -  Marvel Studios, Pixar Animation Studios, Walt Disney, Walt Disney Pictures,\n",
    "    DreamWorks, Twentieth Century Fox Film Corporation, Warner Bros, Lucasfilm, Jerry Bruckheimer Films, Paramount Pictures,\n",
    "    Walt Disney Studios Motion Pictures, Walt Disney Animation Studios, Universal Pictures, DreamWorks SKG, Columbia Pictures"
   ]
  },
  {
   "cell_type": "markdown",
   "metadata": {},
   "source": [
    "### Standard Scaling"
   ]
  },
  {
   "cell_type": "code",
   "execution_count": 312,
   "metadata": {
    "collapsed": false
   },
   "outputs": [
    {
     "name": "stderr",
     "output_type": "stream",
     "text": [
      "D:\\Anaconda3\\lib\\site-packages\\sklearn\\utils\\validation.py:429: DataConversionWarning: Data with input dtype int64 was converted to float64 by MinMaxScaler.\n",
      "  warnings.warn(msg, _DataConversionWarning)\n",
      "D:\\Anaconda3\\lib\\site-packages\\sklearn\\preprocessing\\data.py:321: DeprecationWarning: Passing 1d arrays as data is deprecated in 0.17 and will raise ValueError in 0.19. Reshape your data either using X.reshape(-1, 1) if your data has a single feature or X.reshape(1, -1) if it contains a single sample.\n",
      "  warnings.warn(DEPRECATION_MSG_1D, DeprecationWarning)\n",
      "D:\\Anaconda3\\lib\\site-packages\\sklearn\\preprocessing\\data.py:356: DeprecationWarning: Passing 1d arrays as data is deprecated in 0.17 and will raise ValueError in 0.19. Reshape your data either using X.reshape(-1, 1) if your data has a single feature or X.reshape(1, -1) if it contains a single sample.\n",
      "  warnings.warn(DEPRECATION_MSG_1D, DeprecationWarning)\n",
      "D:\\Anaconda3\\lib\\site-packages\\sklearn\\preprocessing\\data.py:321: DeprecationWarning: Passing 1d arrays as data is deprecated in 0.17 and will raise ValueError in 0.19. Reshape your data either using X.reshape(-1, 1) if your data has a single feature or X.reshape(1, -1) if it contains a single sample.\n",
      "  warnings.warn(DEPRECATION_MSG_1D, DeprecationWarning)\n",
      "D:\\Anaconda3\\lib\\site-packages\\sklearn\\preprocessing\\data.py:356: DeprecationWarning: Passing 1d arrays as data is deprecated in 0.17 and will raise ValueError in 0.19. Reshape your data either using X.reshape(-1, 1) if your data has a single feature or X.reshape(1, -1) if it contains a single sample.\n",
      "  warnings.warn(DEPRECATION_MSG_1D, DeprecationWarning)\n",
      "D:\\Anaconda3\\lib\\site-packages\\sklearn\\preprocessing\\data.py:321: DeprecationWarning: Passing 1d arrays as data is deprecated in 0.17 and will raise ValueError in 0.19. Reshape your data either using X.reshape(-1, 1) if your data has a single feature or X.reshape(1, -1) if it contains a single sample.\n",
      "  warnings.warn(DEPRECATION_MSG_1D, DeprecationWarning)\n",
      "D:\\Anaconda3\\lib\\site-packages\\sklearn\\preprocessing\\data.py:356: DeprecationWarning: Passing 1d arrays as data is deprecated in 0.17 and will raise ValueError in 0.19. Reshape your data either using X.reshape(-1, 1) if your data has a single feature or X.reshape(1, -1) if it contains a single sample.\n",
      "  warnings.warn(DEPRECATION_MSG_1D, DeprecationWarning)\n"
     ]
    }
   ],
   "source": [
    "from sklearn.preprocessing import MinMaxScaler\n",
    "min_max=MinMaxScaler()\n",
    "movies_production_companies['budget'] = MinMaxScaler().fit_transform(movies_production_companies['budget'])\n",
    "movies_production_companies['vote_average'] = MinMaxScaler().fit_transform(movies_production_companies['vote_average'])\n",
    "movies_production_companies['vote_count'] = MinMaxScaler().fit_transform(movies_production_companies['vote_count'])"
   ]
  },
  {
   "cell_type": "code",
   "execution_count": 314,
   "metadata": {
    "collapsed": false
   },
   "outputs": [],
   "source": [
    "x = movies_production_companies[['vote_count','budget','Marvel Studios','vote_average','Pixar Animation Studios',\n",
    "                                 'Walt Disney','Walt Disney Pictures','DreamWorks','Twentieth Century Fox Film Corporation',\n",
    "                                 'Warner Bros.','Lucasfilm','Jerry Bruckheimer Films','Paramount Pictures',\n",
    "                                 'Walt Disney Studios Motion Pictures','Walt Disney Animation Studios','Universal Pictures',\n",
    "                                 'DreamWorks SKG','Columbia Pictures']]\n",
    "y = movies_production_companies['revenue']\n",
    "\n",
    "X_train, X_test, y_train, y_test = train_test_split(x, y, test_size=0.30)"
   ]
  },
  {
   "cell_type": "code",
   "execution_count": 315,
   "metadata": {
    "collapsed": false
   },
   "outputs": [
    {
     "name": "stdout",
     "output_type": "stream",
     "text": [
      "Linear Regression Score: \n",
      " 71.94\n",
      "Linear Regression Test Score: \n",
      " 74.2\n",
      "Coefficient: \n",
      " [  9.49828144e+08   6.15101873e+08  -1.60647883e+08  -2.03875046e+07\n",
      "   5.00718540e+07   2.13617422e+07  -8.00045212e+06   4.28398580e+07\n",
      "   2.45483884e+07  -2.22988286e+07   1.71971488e+08  -1.43415896e+07\n",
      "   8.43051973e+06   2.07823459e+08   7.12154255e+07   6.31287009e+06\n",
      "  -2.76197917e+07  -8.58046320e+06]\n",
      "Intercept: \n",
      " -2022487.02721\n"
     ]
    }
   ],
   "source": [
    "linear = linear_model.LinearRegression()\n",
    "# Train the model using the training sets and check score\n",
    "linear.fit(X_train, y_train)\n",
    "#Predict Output\n",
    "lin_predicted = linear.predict(X_test)\n",
    "\n",
    "linear_score = round(linear.score(X_train, y_train) * 100, 2)\n",
    "linear_score_test = round(linear.score(X_test, y_test) * 100, 2)\n",
    "#Equation coefficient and Intercept\n",
    "print('Linear Regression Score: \\n', linear_score)\n",
    "print('Linear Regression Test Score: \\n', linear_score_test)\n",
    "print('Coefficient: \\n', linear.coef_)\n",
    "print('Intercept: \\n', linear.intercept_)"
   ]
  },
  {
   "cell_type": "code",
   "execution_count": 340,
   "metadata": {
    "collapsed": true
   },
   "outputs": [],
   "source": [
    "x = movies_production_companies[['vote_count','budget','Pixar Animation Studios',\n",
    "                                 'Walt Disney Pictures','DreamWorks','Twentieth Century Fox Film Corporation'\n",
    "                                ]]\n",
    "y = movies_production_companies['revenue']\n",
    "\n",
    "X_train, X_test, y_train, y_test = train_test_split(x, y, test_size=0.30)"
   ]
  },
  {
   "cell_type": "code",
   "execution_count": 341,
   "metadata": {
    "collapsed": false
   },
   "outputs": [
    {
     "name": "stdout",
     "output_type": "stream",
     "text": [
      "Linear Regression Score: \n",
      " 72.69\n",
      "Linear Regression Test Score: \n",
      " 71.43\n",
      "Coefficient: \n",
      " [  9.64415670e+08   5.54549193e+08   9.55224609e+07   3.71955653e+07\n",
      "   4.02885065e+07   2.48053562e+07]\n",
      "Intercept: \n",
      " -12323882.0306\n"
     ]
    }
   ],
   "source": [
    "linear = linear_model.LinearRegression()\n",
    "# Train the model using the training sets and check score\n",
    "linear.fit(X_train, y_train)\n",
    "#Predict Output\n",
    "lin_predicted = linear.predict(X_test)\n",
    "\n",
    "linear_score = round(linear.score(X_train, y_train) * 100, 2)\n",
    "linear_score_test = round(linear.score(X_test, y_test) * 100, 2)\n",
    "#Equation coefficient and Intercept\n",
    "print('Linear Regression Score: \\n', linear_score)\n",
    "print('Linear Regression Test Score: \\n', linear_score_test)\n",
    "print('Coefficient: \\n', linear.coef_)\n",
    "print('Intercept: \\n', linear.intercept_)"
   ]
  },
  {
   "cell_type": "markdown",
   "metadata": {},
   "source": [
    "### Conclusion:\n",
    "One of indicator for box office hit is whther the movie is produced by one of the following production companies:  \n",
    "'Pixar Animation Studios', 'Walt Disney Pictures','DreamWorks','Twentieth Century Fox Film Corporation'"
   ]
  }
 ],
 "metadata": {
  "kernelspec": {
   "display_name": "Python 3",
   "language": "python",
   "name": "python3"
  },
  "language_info": {
   "codemirror_mode": {
    "name": "ipython",
    "version": 3
   },
   "file_extension": ".py",
   "mimetype": "text/x-python",
   "name": "python",
   "nbconvert_exporter": "python",
   "pygments_lexer": "ipython3",
   "version": "3.6.2"
  }
 },
 "nbformat": 4,
 "nbformat_minor": 2
}
