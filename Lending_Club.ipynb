{
  "nbformat": 4,
  "nbformat_minor": 0,
  "metadata": {
    "colab": {
      "name": "Lending Club.ipynb",
      "version": "0.3.2",
      "provenance": [],
      "collapsed_sections": [
        "h8SDXAY6HcvA",
        "SrUYRhqPHcvV",
        "tDiiMuqbHcyE",
        "Is3ExDjVHc1J"
      ],
      "include_colab_link": true
    },
    "kernelspec": {
      "display_name": "Python 3",
      "language": "python",
      "name": "python3"
    },
    "accelerator": "GPU"
  },
  "cells": [
    {
      "cell_type": "markdown",
      "metadata": {
        "id": "view-in-github",
        "colab_type": "text"
      },
      "source": [
        "[View in Colaboratory](https://colab.research.google.com/github/sanjames/DataProjects/blob/master/Lending_Club.ipynb)"
      ]
    },
    {
      "metadata": {
        "id": "lP3CJ_D-HctK",
        "colab_type": "text"
      },
      "cell_type": "markdown",
      "source": [
        "# Lending Club\n",
        "\n",
        "LendingClub is a US peer-to-peer lending company that enables borrowers to obtain a loan, and investors to purchase notes backed by payments made on loans. The purpose of this assignment is to use Gradient Boosting to analyze LendingClub data to see what we can learn from it."
      ]
    },
    {
      "metadata": {
        "id": "gewdxU3TPLKR",
        "colab_type": "code",
        "colab": {}
      },
      "cell_type": "code",
      "source": [
        "!pip install -U -q PyDrive\n",
        " \n",
        "from pydrive.auth import GoogleAuth\n",
        "from pydrive.drive import GoogleDrive\n",
        "from google.colab import auth\n",
        "from oauth2client.client import GoogleCredentials"
      ],
      "execution_count": 0,
      "outputs": []
    },
    {
      "metadata": {
        "id": "DOCM7juZPPMZ",
        "colab_type": "code",
        "colab": {}
      },
      "cell_type": "code",
      "source": [
        "# 1. Authenticate and create the PyDrive client.\n",
        "auth.authenticate_user()\n",
        "gauth = GoogleAuth()\n",
        "gauth.credentials = GoogleCredentials.get_application_default()\n",
        "drive = GoogleDrive(gauth)"
      ],
      "execution_count": 0,
      "outputs": []
    },
    {
      "metadata": {
        "id": "cTbR584qPPud",
        "colab_type": "code",
        "colab": {
          "base_uri": "https://localhost:8080/",
          "height": 68
        },
        "outputId": "0700685c-6394-4368-8188-32c28b2ffb39"
      },
      "cell_type": "code",
      "source": [
        "file_list = drive.ListFile({'q': \"'1X5iho5q-AgoGb8xXh7NeGN-I9i7m79G-' in parents and trashed=false\"}).GetList()\n",
        "for file1 in file_list:\n",
        "  print('title: %s, id: %s' % (file1['title'], file1['id']))"
      ],
      "execution_count": 3,
      "outputs": [
        {
          "output_type": "stream",
          "text": [
            "title: Lending Club.ipynb, id: 1Q9_tKpqQFjvY15zaqff4lFcREM4U5X90\n",
            "title: create file in google drive.ipynb, id: 1fpfLLdBg-Nyy5em5SF2qIT-2YH21ryCE\n",
            "title: LoanStats_2017Q4.csv, id: 157NITMa3H2jhfPXP7uyaCoHhqbJJg_4A\n"
          ],
          "name": "stdout"
        }
      ]
    },
    {
      "metadata": {
        "id": "JmEH_WO_PQQI",
        "colab_type": "code",
        "colab": {}
      },
      "cell_type": "code",
      "source": [
        "loan_downloaded = drive.CreateFile({'id': '157NITMa3H2jhfPXP7uyaCoHhqbJJg_4A'})\n",
        "loan_downloaded.GetContentFile('LoanStats_2017Q4.csv')"
      ],
      "execution_count": 0,
      "outputs": []
    },
    {
      "metadata": {
        "id": "HBrSygNUHctM",
        "colab_type": "text"
      },
      "cell_type": "markdown",
      "source": [
        "# 1) Data Preparation, Analysis & Cleaning"
      ]
    },
    {
      "metadata": {
        "id": "nAHG2qAAHctN",
        "colab_type": "code",
        "colab": {}
      },
      "cell_type": "code",
      "source": [
        "#Import all required libraries for reading data, analysing and visualizing data\n",
        "import pandas as pd\n",
        "import numpy as np\n",
        "import matplotlib.pyplot as plt\n",
        "%matplotlib inline\n",
        "from IPython.display import display\n",
        "import seaborn as sns"
      ],
      "execution_count": 0,
      "outputs": []
    },
    {
      "metadata": {
        "id": "QaDL2kLrHctU",
        "colab_type": "code",
        "colab": {}
      },
      "cell_type": "code",
      "source": [
        "loan_df = pd.read_csv('LoanStats_2017Q4.csv', low_memory=False)"
      ],
      "execution_count": 0,
      "outputs": []
    },
    {
      "metadata": {
        "id": "bkHBt_g3Hctf",
        "colab_type": "code",
        "colab": {}
      },
      "cell_type": "code",
      "source": [
        "pd.set_option('display.max_rows', 500)\n",
        "pd.set_option('display.max_columns', 500)\n",
        "pd.set_option('display.width', 1000)"
      ],
      "execution_count": 0,
      "outputs": []
    },
    {
      "metadata": {
        "id": "J1oUFZ7pHctm",
        "colab_type": "code",
        "colab": {}
      },
      "cell_type": "code",
      "source": [
        "bkp_loandf = loan_df.copy()"
      ],
      "execution_count": 0,
      "outputs": []
    },
    {
      "metadata": {
        "id": "pRNenV7sHctx",
        "colab_type": "code",
        "colab": {
          "base_uri": "https://localhost:8080/",
          "height": 309
        },
        "outputId": "98e07d88-9ecc-43b3-9984-ebceb2a74bc7"
      },
      "cell_type": "code",
      "source": [
        "display(loan_df.head())"
      ],
      "execution_count": 13,
      "outputs": [
        {
          "output_type": "display_data",
          "data": {
            "text/html": [
              "<div>\n",
              "<style scoped>\n",
              "    .dataframe tbody tr th:only-of-type {\n",
              "        vertical-align: middle;\n",
              "    }\n",
              "\n",
              "    .dataframe tbody tr th {\n",
              "        vertical-align: top;\n",
              "    }\n",
              "\n",
              "    .dataframe thead th {\n",
              "        text-align: right;\n",
              "    }\n",
              "</style>\n",
              "<table border=\"1\" class=\"dataframe\">\n",
              "  <thead>\n",
              "    <tr style=\"text-align: right;\">\n",
              "      <th></th>\n",
              "      <th>id</th>\n",
              "      <th>member_id</th>\n",
              "      <th>loan_amnt</th>\n",
              "      <th>funded_amnt</th>\n",
              "      <th>funded_amnt_inv</th>\n",
              "      <th>term</th>\n",
              "      <th>int_rate</th>\n",
              "      <th>installment</th>\n",
              "      <th>grade</th>\n",
              "      <th>sub_grade</th>\n",
              "      <th>emp_title</th>\n",
              "      <th>emp_length</th>\n",
              "      <th>home_ownership</th>\n",
              "      <th>annual_inc</th>\n",
              "      <th>verification_status</th>\n",
              "      <th>issue_d</th>\n",
              "      <th>loan_status</th>\n",
              "      <th>pymnt_plan</th>\n",
              "      <th>url</th>\n",
              "      <th>desc</th>\n",
              "      <th>purpose</th>\n",
              "      <th>title</th>\n",
              "      <th>zip_code</th>\n",
              "      <th>addr_state</th>\n",
              "      <th>dti</th>\n",
              "      <th>delinq_2yrs</th>\n",
              "      <th>earliest_cr_line</th>\n",
              "      <th>inq_last_6mths</th>\n",
              "      <th>mths_since_last_delinq</th>\n",
              "      <th>mths_since_last_record</th>\n",
              "      <th>open_acc</th>\n",
              "      <th>pub_rec</th>\n",
              "      <th>revol_bal</th>\n",
              "      <th>revol_util</th>\n",
              "      <th>total_acc</th>\n",
              "      <th>initial_list_status</th>\n",
              "      <th>out_prncp</th>\n",
              "      <th>out_prncp_inv</th>\n",
              "      <th>total_pymnt</th>\n",
              "      <th>total_pymnt_inv</th>\n",
              "      <th>total_rec_prncp</th>\n",
              "      <th>total_rec_int</th>\n",
              "      <th>total_rec_late_fee</th>\n",
              "      <th>recoveries</th>\n",
              "      <th>collection_recovery_fee</th>\n",
              "      <th>last_pymnt_d</th>\n",
              "      <th>last_pymnt_amnt</th>\n",
              "      <th>next_pymnt_d</th>\n",
              "      <th>last_credit_pull_d</th>\n",
              "      <th>collections_12_mths_ex_med</th>\n",
              "      <th>mths_since_last_major_derog</th>\n",
              "      <th>policy_code</th>\n",
              "      <th>application_type</th>\n",
              "      <th>annual_inc_joint</th>\n",
              "      <th>dti_joint</th>\n",
              "      <th>verification_status_joint</th>\n",
              "      <th>acc_now_delinq</th>\n",
              "      <th>tot_coll_amt</th>\n",
              "      <th>tot_cur_bal</th>\n",
              "      <th>open_acc_6m</th>\n",
              "      <th>open_act_il</th>\n",
              "      <th>open_il_12m</th>\n",
              "      <th>open_il_24m</th>\n",
              "      <th>mths_since_rcnt_il</th>\n",
              "      <th>total_bal_il</th>\n",
              "      <th>il_util</th>\n",
              "      <th>open_rv_12m</th>\n",
              "      <th>open_rv_24m</th>\n",
              "      <th>max_bal_bc</th>\n",
              "      <th>all_util</th>\n",
              "      <th>total_rev_hi_lim</th>\n",
              "      <th>inq_fi</th>\n",
              "      <th>total_cu_tl</th>\n",
              "      <th>inq_last_12m</th>\n",
              "      <th>acc_open_past_24mths</th>\n",
              "      <th>avg_cur_bal</th>\n",
              "      <th>bc_open_to_buy</th>\n",
              "      <th>bc_util</th>\n",
              "      <th>chargeoff_within_12_mths</th>\n",
              "      <th>delinq_amnt</th>\n",
              "      <th>mo_sin_old_il_acct</th>\n",
              "      <th>mo_sin_old_rev_tl_op</th>\n",
              "      <th>mo_sin_rcnt_rev_tl_op</th>\n",
              "      <th>mo_sin_rcnt_tl</th>\n",
              "      <th>mort_acc</th>\n",
              "      <th>mths_since_recent_bc</th>\n",
              "      <th>mths_since_recent_bc_dlq</th>\n",
              "      <th>mths_since_recent_inq</th>\n",
              "      <th>mths_since_recent_revol_delinq</th>\n",
              "      <th>num_accts_ever_120_pd</th>\n",
              "      <th>num_actv_bc_tl</th>\n",
              "      <th>num_actv_rev_tl</th>\n",
              "      <th>num_bc_sats</th>\n",
              "      <th>num_bc_tl</th>\n",
              "      <th>num_il_tl</th>\n",
              "      <th>num_op_rev_tl</th>\n",
              "      <th>num_rev_accts</th>\n",
              "      <th>num_rev_tl_bal_gt_0</th>\n",
              "      <th>num_sats</th>\n",
              "      <th>num_tl_120dpd_2m</th>\n",
              "      <th>num_tl_30dpd</th>\n",
              "      <th>num_tl_90g_dpd_24m</th>\n",
              "      <th>num_tl_op_past_12m</th>\n",
              "      <th>pct_tl_nvr_dlq</th>\n",
              "      <th>percent_bc_gt_75</th>\n",
              "      <th>pub_rec_bankruptcies</th>\n",
              "      <th>tax_liens</th>\n",
              "      <th>tot_hi_cred_lim</th>\n",
              "      <th>total_bal_ex_mort</th>\n",
              "      <th>total_bc_limit</th>\n",
              "      <th>total_il_high_credit_limit</th>\n",
              "      <th>revol_bal_joint</th>\n",
              "      <th>sec_app_earliest_cr_line</th>\n",
              "      <th>sec_app_inq_last_6mths</th>\n",
              "      <th>sec_app_mort_acc</th>\n",
              "      <th>sec_app_open_acc</th>\n",
              "      <th>sec_app_revol_util</th>\n",
              "      <th>sec_app_open_act_il</th>\n",
              "      <th>sec_app_num_rev_accts</th>\n",
              "      <th>sec_app_chargeoff_within_12_mths</th>\n",
              "      <th>sec_app_collections_12_mths_ex_med</th>\n",
              "      <th>sec_app_mths_since_last_major_derog</th>\n",
              "      <th>hardship_flag</th>\n",
              "      <th>hardship_type</th>\n",
              "      <th>hardship_reason</th>\n",
              "      <th>hardship_status</th>\n",
              "      <th>deferral_term</th>\n",
              "      <th>hardship_amount</th>\n",
              "      <th>hardship_start_date</th>\n",
              "      <th>hardship_end_date</th>\n",
              "      <th>payment_plan_start_date</th>\n",
              "      <th>hardship_length</th>\n",
              "      <th>hardship_dpd</th>\n",
              "      <th>hardship_loan_status</th>\n",
              "      <th>orig_projected_additional_accrued_interest</th>\n",
              "      <th>hardship_payoff_balance_amount</th>\n",
              "      <th>hardship_last_payment_amount</th>\n",
              "      <th>disbursement_method</th>\n",
              "      <th>debt_settlement_flag</th>\n",
              "      <th>debt_settlement_flag_date</th>\n",
              "      <th>settlement_status</th>\n",
              "      <th>settlement_date</th>\n",
              "      <th>settlement_amount</th>\n",
              "      <th>settlement_percentage</th>\n",
              "      <th>settlement_term</th>\n",
              "    </tr>\n",
              "  </thead>\n",
              "  <tbody>\n",
              "    <tr>\n",
              "      <th>0</th>\n",
              "      <td>NaN</td>\n",
              "      <td>NaN</td>\n",
              "      <td>35000</td>\n",
              "      <td>35000</td>\n",
              "      <td>35000.0</td>\n",
              "      <td>36 months</td>\n",
              "      <td>10.42%</td>\n",
              "      <td>1136.27</td>\n",
              "      <td>B</td>\n",
              "      <td>B3</td>\n",
              "      <td>Room att</td>\n",
              "      <td>10+ years</td>\n",
              "      <td>RENT</td>\n",
              "      <td>55000.0</td>\n",
              "      <td>Verified</td>\n",
              "      <td>Dec-17</td>\n",
              "      <td>Current</td>\n",
              "      <td>n</td>\n",
              "      <td>NaN</td>\n",
              "      <td>NaN</td>\n",
              "      <td>other</td>\n",
              "      <td>Other</td>\n",
              "      <td>900xx</td>\n",
              "      <td>CA</td>\n",
              "      <td>23.69</td>\n",
              "      <td>0</td>\n",
              "      <td>Feb-97</td>\n",
              "      <td>0</td>\n",
              "      <td>NaN</td>\n",
              "      <td>92.0</td>\n",
              "      <td>12</td>\n",
              "      <td>1</td>\n",
              "      <td>3182</td>\n",
              "      <td>10.60%</td>\n",
              "      <td>29</td>\n",
              "      <td>w</td>\n",
              "      <td>30765.33</td>\n",
              "      <td>30765.33</td>\n",
              "      <td>5630.70</td>\n",
              "      <td>5630.70</td>\n",
              "      <td>4234.67</td>\n",
              "      <td>1396.03</td>\n",
              "      <td>0.0</td>\n",
              "      <td>0.0</td>\n",
              "      <td>0.0</td>\n",
              "      <td>Jun-18</td>\n",
              "      <td>1136.27</td>\n",
              "      <td>Jul-18</td>\n",
              "      <td>Jun-18</td>\n",
              "      <td>0</td>\n",
              "      <td>NaN</td>\n",
              "      <td>1</td>\n",
              "      <td>Individual</td>\n",
              "      <td>NaN</td>\n",
              "      <td>NaN</td>\n",
              "      <td>NaN</td>\n",
              "      <td>0</td>\n",
              "      <td>65</td>\n",
              "      <td>19616</td>\n",
              "      <td>0</td>\n",
              "      <td>2</td>\n",
              "      <td>0</td>\n",
              "      <td>2</td>\n",
              "      <td>17.0</td>\n",
              "      <td>16309</td>\n",
              "      <td>55.0</td>\n",
              "      <td>0</td>\n",
              "      <td>2</td>\n",
              "      <td>3036</td>\n",
              "      <td>33.0</td>\n",
              "      <td>30100</td>\n",
              "      <td>0</td>\n",
              "      <td>1</td>\n",
              "      <td>2</td>\n",
              "      <td>5</td>\n",
              "      <td>1635.0</td>\n",
              "      <td>15707.0</td>\n",
              "      <td>16.5</td>\n",
              "      <td>0</td>\n",
              "      <td>0</td>\n",
              "      <td>250.0</td>\n",
              "      <td>117</td>\n",
              "      <td>17</td>\n",
              "      <td>14</td>\n",
              "      <td>0</td>\n",
              "      <td>17.0</td>\n",
              "      <td>NaN</td>\n",
              "      <td>5.0</td>\n",
              "      <td>NaN</td>\n",
              "      <td>0</td>\n",
              "      <td>2</td>\n",
              "      <td>3</td>\n",
              "      <td>6</td>\n",
              "      <td>10</td>\n",
              "      <td>9</td>\n",
              "      <td>9</td>\n",
              "      <td>19</td>\n",
              "      <td>3</td>\n",
              "      <td>12</td>\n",
              "      <td>0.0</td>\n",
              "      <td>0</td>\n",
              "      <td>0</td>\n",
              "      <td>0</td>\n",
              "      <td>100.0</td>\n",
              "      <td>0.0</td>\n",
              "      <td>1</td>\n",
              "      <td>0</td>\n",
              "      <td>60015</td>\n",
              "      <td>19616</td>\n",
              "      <td>18800</td>\n",
              "      <td>29790</td>\n",
              "      <td>NaN</td>\n",
              "      <td>NaN</td>\n",
              "      <td>NaN</td>\n",
              "      <td>NaN</td>\n",
              "      <td>NaN</td>\n",
              "      <td>NaN</td>\n",
              "      <td>NaN</td>\n",
              "      <td>NaN</td>\n",
              "      <td>NaN</td>\n",
              "      <td>NaN</td>\n",
              "      <td>NaN</td>\n",
              "      <td>N</td>\n",
              "      <td>NaN</td>\n",
              "      <td>NaN</td>\n",
              "      <td>NaN</td>\n",
              "      <td>NaN</td>\n",
              "      <td>NaN</td>\n",
              "      <td>NaN</td>\n",
              "      <td>NaN</td>\n",
              "      <td>NaN</td>\n",
              "      <td>NaN</td>\n",
              "      <td>NaN</td>\n",
              "      <td>NaN</td>\n",
              "      <td>NaN</td>\n",
              "      <td>NaN</td>\n",
              "      <td>NaN</td>\n",
              "      <td>Cash</td>\n",
              "      <td>N</td>\n",
              "      <td>NaN</td>\n",
              "      <td>NaN</td>\n",
              "      <td>NaN</td>\n",
              "      <td>NaN</td>\n",
              "      <td>NaN</td>\n",
              "      <td>NaN</td>\n",
              "    </tr>\n",
              "    <tr>\n",
              "      <th>1</th>\n",
              "      <td>NaN</td>\n",
              "      <td>NaN</td>\n",
              "      <td>2700</td>\n",
              "      <td>2700</td>\n",
              "      <td>2700.0</td>\n",
              "      <td>36 months</td>\n",
              "      <td>9.93%</td>\n",
              "      <td>87.04</td>\n",
              "      <td>B</td>\n",
              "      <td>B2</td>\n",
              "      <td>Geologist</td>\n",
              "      <td>3 years</td>\n",
              "      <td>OWN</td>\n",
              "      <td>55000.0</td>\n",
              "      <td>Not Verified</td>\n",
              "      <td>Dec-17</td>\n",
              "      <td>Current</td>\n",
              "      <td>n</td>\n",
              "      <td>NaN</td>\n",
              "      <td>NaN</td>\n",
              "      <td>credit_card</td>\n",
              "      <td>Credit card refinancing</td>\n",
              "      <td>159xx</td>\n",
              "      <td>PA</td>\n",
              "      <td>37.12</td>\n",
              "      <td>0</td>\n",
              "      <td>Dec-07</td>\n",
              "      <td>2</td>\n",
              "      <td>NaN</td>\n",
              "      <td>NaN</td>\n",
              "      <td>15</td>\n",
              "      <td>0</td>\n",
              "      <td>10267</td>\n",
              "      <td>36.70%</td>\n",
              "      <td>22</td>\n",
              "      <td>w</td>\n",
              "      <td>2371.11</td>\n",
              "      <td>2371.11</td>\n",
              "      <td>431.48</td>\n",
              "      <td>431.48</td>\n",
              "      <td>328.89</td>\n",
              "      <td>102.59</td>\n",
              "      <td>0.0</td>\n",
              "      <td>0.0</td>\n",
              "      <td>0.0</td>\n",
              "      <td>Jun-18</td>\n",
              "      <td>87.04</td>\n",
              "      <td>Jul-18</td>\n",
              "      <td>Jun-18</td>\n",
              "      <td>0</td>\n",
              "      <td>NaN</td>\n",
              "      <td>1</td>\n",
              "      <td>Individual</td>\n",
              "      <td>NaN</td>\n",
              "      <td>NaN</td>\n",
              "      <td>NaN</td>\n",
              "      <td>0</td>\n",
              "      <td>0</td>\n",
              "      <td>194898</td>\n",
              "      <td>2</td>\n",
              "      <td>7</td>\n",
              "      <td>3</td>\n",
              "      <td>4</td>\n",
              "      <td>6.0</td>\n",
              "      <td>74486</td>\n",
              "      <td>72.0</td>\n",
              "      <td>1</td>\n",
              "      <td>2</td>\n",
              "      <td>5941</td>\n",
              "      <td>64.0</td>\n",
              "      <td>28000</td>\n",
              "      <td>0</td>\n",
              "      <td>0</td>\n",
              "      <td>7</td>\n",
              "      <td>6</td>\n",
              "      <td>12993.0</td>\n",
              "      <td>13826.0</td>\n",
              "      <td>38.3</td>\n",
              "      <td>0</td>\n",
              "      <td>0</td>\n",
              "      <td>98.0</td>\n",
              "      <td>120</td>\n",
              "      <td>4</td>\n",
              "      <td>4</td>\n",
              "      <td>2</td>\n",
              "      <td>4.0</td>\n",
              "      <td>NaN</td>\n",
              "      <td>3.0</td>\n",
              "      <td>NaN</td>\n",
              "      <td>0</td>\n",
              "      <td>3</td>\n",
              "      <td>5</td>\n",
              "      <td>5</td>\n",
              "      <td>6</td>\n",
              "      <td>11</td>\n",
              "      <td>7</td>\n",
              "      <td>9</td>\n",
              "      <td>5</td>\n",
              "      <td>15</td>\n",
              "      <td>0.0</td>\n",
              "      <td>0</td>\n",
              "      <td>0</td>\n",
              "      <td>4</td>\n",
              "      <td>100.0</td>\n",
              "      <td>0.0</td>\n",
              "      <td>0</td>\n",
              "      <td>0</td>\n",
              "      <td>253198</td>\n",
              "      <td>84753</td>\n",
              "      <td>22400</td>\n",
              "      <td>104151</td>\n",
              "      <td>NaN</td>\n",
              "      <td>NaN</td>\n",
              "      <td>NaN</td>\n",
              "      <td>NaN</td>\n",
              "      <td>NaN</td>\n",
              "      <td>NaN</td>\n",
              "      <td>NaN</td>\n",
              "      <td>NaN</td>\n",
              "      <td>NaN</td>\n",
              "      <td>NaN</td>\n",
              "      <td>NaN</td>\n",
              "      <td>N</td>\n",
              "      <td>NaN</td>\n",
              "      <td>NaN</td>\n",
              "      <td>NaN</td>\n",
              "      <td>NaN</td>\n",
              "      <td>NaN</td>\n",
              "      <td>NaN</td>\n",
              "      <td>NaN</td>\n",
              "      <td>NaN</td>\n",
              "      <td>NaN</td>\n",
              "      <td>NaN</td>\n",
              "      <td>NaN</td>\n",
              "      <td>NaN</td>\n",
              "      <td>NaN</td>\n",
              "      <td>NaN</td>\n",
              "      <td>Cash</td>\n",
              "      <td>N</td>\n",
              "      <td>NaN</td>\n",
              "      <td>NaN</td>\n",
              "      <td>NaN</td>\n",
              "      <td>NaN</td>\n",
              "      <td>NaN</td>\n",
              "      <td>NaN</td>\n",
              "    </tr>\n",
              "    <tr>\n",
              "      <th>2</th>\n",
              "      <td>NaN</td>\n",
              "      <td>NaN</td>\n",
              "      <td>13000</td>\n",
              "      <td>13000</td>\n",
              "      <td>13000.0</td>\n",
              "      <td>36 months</td>\n",
              "      <td>7.97%</td>\n",
              "      <td>407.20</td>\n",
              "      <td>A</td>\n",
              "      <td>A5</td>\n",
              "      <td>rn</td>\n",
              "      <td>9 years</td>\n",
              "      <td>OWN</td>\n",
              "      <td>70000.0</td>\n",
              "      <td>Not Verified</td>\n",
              "      <td>Dec-17</td>\n",
              "      <td>Current</td>\n",
              "      <td>n</td>\n",
              "      <td>NaN</td>\n",
              "      <td>NaN</td>\n",
              "      <td>credit_card</td>\n",
              "      <td>Credit card refinancing</td>\n",
              "      <td>640xx</td>\n",
              "      <td>MO</td>\n",
              "      <td>13.29</td>\n",
              "      <td>0</td>\n",
              "      <td>Dec-02</td>\n",
              "      <td>0</td>\n",
              "      <td>NaN</td>\n",
              "      <td>NaN</td>\n",
              "      <td>7</td>\n",
              "      <td>0</td>\n",
              "      <td>11122</td>\n",
              "      <td>32.70%</td>\n",
              "      <td>25</td>\n",
              "      <td>w</td>\n",
              "      <td>11374.26</td>\n",
              "      <td>11374.26</td>\n",
              "      <td>2021.61</td>\n",
              "      <td>2021.61</td>\n",
              "      <td>1625.74</td>\n",
              "      <td>395.87</td>\n",
              "      <td>0.0</td>\n",
              "      <td>0.0</td>\n",
              "      <td>0.0</td>\n",
              "      <td>Jun-18</td>\n",
              "      <td>407.20</td>\n",
              "      <td>Jul-18</td>\n",
              "      <td>Jun-18</td>\n",
              "      <td>0</td>\n",
              "      <td>NaN</td>\n",
              "      <td>1</td>\n",
              "      <td>Individual</td>\n",
              "      <td>NaN</td>\n",
              "      <td>NaN</td>\n",
              "      <td>NaN</td>\n",
              "      <td>0</td>\n",
              "      <td>0</td>\n",
              "      <td>21629</td>\n",
              "      <td>0</td>\n",
              "      <td>2</td>\n",
              "      <td>0</td>\n",
              "      <td>2</td>\n",
              "      <td>14.0</td>\n",
              "      <td>10507</td>\n",
              "      <td>28.0</td>\n",
              "      <td>0</td>\n",
              "      <td>0</td>\n",
              "      <td>11122</td>\n",
              "      <td>30.0</td>\n",
              "      <td>34000</td>\n",
              "      <td>1</td>\n",
              "      <td>1</td>\n",
              "      <td>1</td>\n",
              "      <td>2</td>\n",
              "      <td>3090.0</td>\n",
              "      <td>22878.0</td>\n",
              "      <td>32.7</td>\n",
              "      <td>0</td>\n",
              "      <td>0</td>\n",
              "      <td>138.0</td>\n",
              "      <td>180</td>\n",
              "      <td>47</td>\n",
              "      <td>14</td>\n",
              "      <td>1</td>\n",
              "      <td>47.0</td>\n",
              "      <td>NaN</td>\n",
              "      <td>4.0</td>\n",
              "      <td>NaN</td>\n",
              "      <td>0</td>\n",
              "      <td>1</td>\n",
              "      <td>1</td>\n",
              "      <td>5</td>\n",
              "      <td>7</td>\n",
              "      <td>14</td>\n",
              "      <td>5</td>\n",
              "      <td>10</td>\n",
              "      <td>1</td>\n",
              "      <td>7</td>\n",
              "      <td>0.0</td>\n",
              "      <td>0</td>\n",
              "      <td>0</td>\n",
              "      <td>0</td>\n",
              "      <td>100.0</td>\n",
              "      <td>20.0</td>\n",
              "      <td>0</td>\n",
              "      <td>0</td>\n",
              "      <td>71514</td>\n",
              "      <td>21629</td>\n",
              "      <td>34000</td>\n",
              "      <td>37514</td>\n",
              "      <td>NaN</td>\n",
              "      <td>NaN</td>\n",
              "      <td>NaN</td>\n",
              "      <td>NaN</td>\n",
              "      <td>NaN</td>\n",
              "      <td>NaN</td>\n",
              "      <td>NaN</td>\n",
              "      <td>NaN</td>\n",
              "      <td>NaN</td>\n",
              "      <td>NaN</td>\n",
              "      <td>NaN</td>\n",
              "      <td>N</td>\n",
              "      <td>NaN</td>\n",
              "      <td>NaN</td>\n",
              "      <td>NaN</td>\n",
              "      <td>NaN</td>\n",
              "      <td>NaN</td>\n",
              "      <td>NaN</td>\n",
              "      <td>NaN</td>\n",
              "      <td>NaN</td>\n",
              "      <td>NaN</td>\n",
              "      <td>NaN</td>\n",
              "      <td>NaN</td>\n",
              "      <td>NaN</td>\n",
              "      <td>NaN</td>\n",
              "      <td>NaN</td>\n",
              "      <td>Cash</td>\n",
              "      <td>N</td>\n",
              "      <td>NaN</td>\n",
              "      <td>NaN</td>\n",
              "      <td>NaN</td>\n",
              "      <td>NaN</td>\n",
              "      <td>NaN</td>\n",
              "      <td>NaN</td>\n",
              "    </tr>\n",
              "    <tr>\n",
              "      <th>3</th>\n",
              "      <td>NaN</td>\n",
              "      <td>NaN</td>\n",
              "      <td>20000</td>\n",
              "      <td>20000</td>\n",
              "      <td>20000.0</td>\n",
              "      <td>60 months</td>\n",
              "      <td>13.59%</td>\n",
              "      <td>461.13</td>\n",
              "      <td>C</td>\n",
              "      <td>C2</td>\n",
              "      <td>Sales Associate</td>\n",
              "      <td>5 years</td>\n",
              "      <td>MORTGAGE</td>\n",
              "      <td>77000.0</td>\n",
              "      <td>Source Verified</td>\n",
              "      <td>Dec-17</td>\n",
              "      <td>Current</td>\n",
              "      <td>n</td>\n",
              "      <td>NaN</td>\n",
              "      <td>NaN</td>\n",
              "      <td>debt_consolidation</td>\n",
              "      <td>Debt consolidation</td>\n",
              "      <td>327xx</td>\n",
              "      <td>FL</td>\n",
              "      <td>14.84</td>\n",
              "      <td>0</td>\n",
              "      <td>Apr-93</td>\n",
              "      <td>1</td>\n",
              "      <td>NaN</td>\n",
              "      <td>NaN</td>\n",
              "      <td>8</td>\n",
              "      <td>0</td>\n",
              "      <td>18005</td>\n",
              "      <td>60%</td>\n",
              "      <td>27</td>\n",
              "      <td>w</td>\n",
              "      <td>18799.98</td>\n",
              "      <td>18799.98</td>\n",
              "      <td>2267.90</td>\n",
              "      <td>2267.90</td>\n",
              "      <td>1200.02</td>\n",
              "      <td>1067.88</td>\n",
              "      <td>0.0</td>\n",
              "      <td>0.0</td>\n",
              "      <td>0.0</td>\n",
              "      <td>Jun-18</td>\n",
              "      <td>461.13</td>\n",
              "      <td>Jul-18</td>\n",
              "      <td>Jun-18</td>\n",
              "      <td>0</td>\n",
              "      <td>NaN</td>\n",
              "      <td>1</td>\n",
              "      <td>Individual</td>\n",
              "      <td>NaN</td>\n",
              "      <td>NaN</td>\n",
              "      <td>NaN</td>\n",
              "      <td>0</td>\n",
              "      <td>0</td>\n",
              "      <td>303637</td>\n",
              "      <td>2</td>\n",
              "      <td>0</td>\n",
              "      <td>1</td>\n",
              "      <td>2</td>\n",
              "      <td>12.0</td>\n",
              "      <td>0</td>\n",
              "      <td>NaN</td>\n",
              "      <td>1</td>\n",
              "      <td>1</td>\n",
              "      <td>1877</td>\n",
              "      <td>70.0</td>\n",
              "      <td>30000</td>\n",
              "      <td>2</td>\n",
              "      <td>3</td>\n",
              "      <td>3</td>\n",
              "      <td>4</td>\n",
              "      <td>37955.0</td>\n",
              "      <td>6823.0</td>\n",
              "      <td>21.6</td>\n",
              "      <td>0</td>\n",
              "      <td>0</td>\n",
              "      <td>161.0</td>\n",
              "      <td>296</td>\n",
              "      <td>1</td>\n",
              "      <td>1</td>\n",
              "      <td>3</td>\n",
              "      <td>205.0</td>\n",
              "      <td>NaN</td>\n",
              "      <td>1.0</td>\n",
              "      <td>NaN</td>\n",
              "      <td>0</td>\n",
              "      <td>1</td>\n",
              "      <td>4</td>\n",
              "      <td>2</td>\n",
              "      <td>7</td>\n",
              "      <td>7</td>\n",
              "      <td>6</td>\n",
              "      <td>16</td>\n",
              "      <td>4</td>\n",
              "      <td>8</td>\n",
              "      <td>0.0</td>\n",
              "      <td>0</td>\n",
              "      <td>0</td>\n",
              "      <td>3</td>\n",
              "      <td>100.0</td>\n",
              "      <td>0.0</td>\n",
              "      <td>0</td>\n",
              "      <td>0</td>\n",
              "      <td>319695</td>\n",
              "      <td>36313</td>\n",
              "      <td>8700</td>\n",
              "      <td>0</td>\n",
              "      <td>NaN</td>\n",
              "      <td>NaN</td>\n",
              "      <td>NaN</td>\n",
              "      <td>NaN</td>\n",
              "      <td>NaN</td>\n",
              "      <td>NaN</td>\n",
              "      <td>NaN</td>\n",
              "      <td>NaN</td>\n",
              "      <td>NaN</td>\n",
              "      <td>NaN</td>\n",
              "      <td>NaN</td>\n",
              "      <td>N</td>\n",
              "      <td>NaN</td>\n",
              "      <td>NaN</td>\n",
              "      <td>NaN</td>\n",
              "      <td>NaN</td>\n",
              "      <td>NaN</td>\n",
              "      <td>NaN</td>\n",
              "      <td>NaN</td>\n",
              "      <td>NaN</td>\n",
              "      <td>NaN</td>\n",
              "      <td>NaN</td>\n",
              "      <td>NaN</td>\n",
              "      <td>NaN</td>\n",
              "      <td>NaN</td>\n",
              "      <td>NaN</td>\n",
              "      <td>Cash</td>\n",
              "      <td>N</td>\n",
              "      <td>NaN</td>\n",
              "      <td>NaN</td>\n",
              "      <td>NaN</td>\n",
              "      <td>NaN</td>\n",
              "      <td>NaN</td>\n",
              "      <td>NaN</td>\n",
              "    </tr>\n",
              "    <tr>\n",
              "      <th>4</th>\n",
              "      <td>NaN</td>\n",
              "      <td>NaN</td>\n",
              "      <td>20000</td>\n",
              "      <td>20000</td>\n",
              "      <td>20000.0</td>\n",
              "      <td>60 months</td>\n",
              "      <td>30.79%</td>\n",
              "      <td>656.81</td>\n",
              "      <td>G</td>\n",
              "      <td>G1</td>\n",
              "      <td>Associate CIO</td>\n",
              "      <td>10+ years</td>\n",
              "      <td>MORTGAGE</td>\n",
              "      <td>254000.0</td>\n",
              "      <td>Verified</td>\n",
              "      <td>Dec-17</td>\n",
              "      <td>Current</td>\n",
              "      <td>n</td>\n",
              "      <td>NaN</td>\n",
              "      <td>NaN</td>\n",
              "      <td>debt_consolidation</td>\n",
              "      <td>Debt consolidation</td>\n",
              "      <td>221xx</td>\n",
              "      <td>VA</td>\n",
              "      <td>16.86</td>\n",
              "      <td>1</td>\n",
              "      <td>Dec-99</td>\n",
              "      <td>3</td>\n",
              "      <td>12.0</td>\n",
              "      <td>NaN</td>\n",
              "      <td>21</td>\n",
              "      <td>0</td>\n",
              "      <td>59967</td>\n",
              "      <td>79%</td>\n",
              "      <td>63</td>\n",
              "      <td>w</td>\n",
              "      <td>19243.97</td>\n",
              "      <td>19243.97</td>\n",
              "      <td>3198.52</td>\n",
              "      <td>3198.52</td>\n",
              "      <td>756.03</td>\n",
              "      <td>2442.49</td>\n",
              "      <td>0.0</td>\n",
              "      <td>0.0</td>\n",
              "      <td>0.0</td>\n",
              "      <td>Jun-18</td>\n",
              "      <td>656.81</td>\n",
              "      <td>Jul-18</td>\n",
              "      <td>Jun-18</td>\n",
              "      <td>0</td>\n",
              "      <td>NaN</td>\n",
              "      <td>1</td>\n",
              "      <td>Individual</td>\n",
              "      <td>NaN</td>\n",
              "      <td>NaN</td>\n",
              "      <td>NaN</td>\n",
              "      <td>0</td>\n",
              "      <td>0</td>\n",
              "      <td>607388</td>\n",
              "      <td>6</td>\n",
              "      <td>4</td>\n",
              "      <td>5</td>\n",
              "      <td>7</td>\n",
              "      <td>3.0</td>\n",
              "      <td>41202</td>\n",
              "      <td>51.0</td>\n",
              "      <td>2</td>\n",
              "      <td>4</td>\n",
              "      <td>8997</td>\n",
              "      <td>65.0</td>\n",
              "      <td>75900</td>\n",
              "      <td>6</td>\n",
              "      <td>2</td>\n",
              "      <td>4</td>\n",
              "      <td>13</td>\n",
              "      <td>28923.0</td>\n",
              "      <td>6848.0</td>\n",
              "      <td>83.6</td>\n",
              "      <td>0</td>\n",
              "      <td>0</td>\n",
              "      <td>136.0</td>\n",
              "      <td>216</td>\n",
              "      <td>5</td>\n",
              "      <td>3</td>\n",
              "      <td>6</td>\n",
              "      <td>19.0</td>\n",
              "      <td>NaN</td>\n",
              "      <td>3.0</td>\n",
              "      <td>NaN</td>\n",
              "      <td>0</td>\n",
              "      <td>9</td>\n",
              "      <td>15</td>\n",
              "      <td>10</td>\n",
              "      <td>16</td>\n",
              "      <td>29</td>\n",
              "      <td>16</td>\n",
              "      <td>28</td>\n",
              "      <td>15</td>\n",
              "      <td>21</td>\n",
              "      <td>0.0</td>\n",
              "      <td>0</td>\n",
              "      <td>0</td>\n",
              "      <td>8</td>\n",
              "      <td>96.7</td>\n",
              "      <td>70.0</td>\n",
              "      <td>0</td>\n",
              "      <td>0</td>\n",
              "      <td>666222</td>\n",
              "      <td>101169</td>\n",
              "      <td>41700</td>\n",
              "      <td>80322</td>\n",
              "      <td>NaN</td>\n",
              "      <td>NaN</td>\n",
              "      <td>NaN</td>\n",
              "      <td>NaN</td>\n",
              "      <td>NaN</td>\n",
              "      <td>NaN</td>\n",
              "      <td>NaN</td>\n",
              "      <td>NaN</td>\n",
              "      <td>NaN</td>\n",
              "      <td>NaN</td>\n",
              "      <td>NaN</td>\n",
              "      <td>N</td>\n",
              "      <td>NaN</td>\n",
              "      <td>NaN</td>\n",
              "      <td>NaN</td>\n",
              "      <td>NaN</td>\n",
              "      <td>NaN</td>\n",
              "      <td>NaN</td>\n",
              "      <td>NaN</td>\n",
              "      <td>NaN</td>\n",
              "      <td>NaN</td>\n",
              "      <td>NaN</td>\n",
              "      <td>NaN</td>\n",
              "      <td>NaN</td>\n",
              "      <td>NaN</td>\n",
              "      <td>NaN</td>\n",
              "      <td>Cash</td>\n",
              "      <td>N</td>\n",
              "      <td>NaN</td>\n",
              "      <td>NaN</td>\n",
              "      <td>NaN</td>\n",
              "      <td>NaN</td>\n",
              "      <td>NaN</td>\n",
              "      <td>NaN</td>\n",
              "    </tr>\n",
              "  </tbody>\n",
              "</table>\n",
              "</div>"
            ],
            "text/plain": [
              "   id  member_id  loan_amnt  funded_amnt  funded_amnt_inv        term int_rate  installment grade sub_grade        emp_title emp_length home_ownership  annual_inc verification_status issue_d loan_status pymnt_plan  url  desc             purpose                    title zip_code addr_state    dti  delinq_2yrs earliest_cr_line  inq_last_6mths  mths_since_last_delinq  mths_since_last_record  open_acc  pub_rec  revol_bal revol_util  total_acc initial_list_status  out_prncp  out_prncp_inv  total_pymnt  total_pymnt_inv  total_rec_prncp  total_rec_int  total_rec_late_fee  recoveries  collection_recovery_fee last_pymnt_d  last_pymnt_amnt next_pymnt_d last_credit_pull_d  collections_12_mths_ex_med  mths_since_last_major_derog  policy_code application_type  annual_inc_joint  dti_joint verification_status_joint  acc_now_delinq  tot_coll_amt  tot_cur_bal  open_acc_6m  open_act_il  open_il_12m  open_il_24m  mths_since_rcnt_il  total_bal_il  il_util  open_rv_12m  open_rv_24m  max_bal_bc  all_util  \\\n",
              "0 NaN        NaN      35000        35000          35000.0   36 months   10.42%      1136.27     B        B3         Room att  10+ years           RENT     55000.0            Verified  Dec-17     Current          n  NaN   NaN               other                    Other    900xx         CA  23.69            0           Feb-97               0                     NaN                    92.0        12        1       3182     10.60%         29                   w   30765.33       30765.33      5630.70          5630.70          4234.67        1396.03                 0.0         0.0                      0.0       Jun-18          1136.27       Jul-18             Jun-18                           0                          NaN            1       Individual               NaN        NaN                       NaN               0            65        19616            0            2            0            2                17.0         16309     55.0            0            2        3036      33.0   \n",
              "1 NaN        NaN       2700         2700           2700.0   36 months    9.93%        87.04     B        B2        Geologist    3 years            OWN     55000.0        Not Verified  Dec-17     Current          n  NaN   NaN         credit_card  Credit card refinancing    159xx         PA  37.12            0           Dec-07               2                     NaN                     NaN        15        0      10267     36.70%         22                   w    2371.11        2371.11       431.48           431.48           328.89         102.59                 0.0         0.0                      0.0       Jun-18            87.04       Jul-18             Jun-18                           0                          NaN            1       Individual               NaN        NaN                       NaN               0             0       194898            2            7            3            4                 6.0         74486     72.0            1            2        5941      64.0   \n",
              "2 NaN        NaN      13000        13000          13000.0   36 months    7.97%       407.20     A        A5               rn    9 years            OWN     70000.0        Not Verified  Dec-17     Current          n  NaN   NaN         credit_card  Credit card refinancing    640xx         MO  13.29            0           Dec-02               0                     NaN                     NaN         7        0      11122     32.70%         25                   w   11374.26       11374.26      2021.61          2021.61          1625.74         395.87                 0.0         0.0                      0.0       Jun-18           407.20       Jul-18             Jun-18                           0                          NaN            1       Individual               NaN        NaN                       NaN               0             0        21629            0            2            0            2                14.0         10507     28.0            0            0       11122      30.0   \n",
              "3 NaN        NaN      20000        20000          20000.0   60 months   13.59%       461.13     C        C2  Sales Associate    5 years       MORTGAGE     77000.0     Source Verified  Dec-17     Current          n  NaN   NaN  debt_consolidation       Debt consolidation    327xx         FL  14.84            0           Apr-93               1                     NaN                     NaN         8        0      18005        60%         27                   w   18799.98       18799.98      2267.90          2267.90          1200.02        1067.88                 0.0         0.0                      0.0       Jun-18           461.13       Jul-18             Jun-18                           0                          NaN            1       Individual               NaN        NaN                       NaN               0             0       303637            2            0            1            2                12.0             0      NaN            1            1        1877      70.0   \n",
              "4 NaN        NaN      20000        20000          20000.0   60 months   30.79%       656.81     G        G1    Associate CIO  10+ years       MORTGAGE    254000.0            Verified  Dec-17     Current          n  NaN   NaN  debt_consolidation       Debt consolidation    221xx         VA  16.86            1           Dec-99               3                    12.0                     NaN        21        0      59967        79%         63                   w   19243.97       19243.97      3198.52          3198.52           756.03        2442.49                 0.0         0.0                      0.0       Jun-18           656.81       Jul-18             Jun-18                           0                          NaN            1       Individual               NaN        NaN                       NaN               0             0       607388            6            4            5            7                 3.0         41202     51.0            2            4        8997      65.0   \n",
              "\n",
              "   total_rev_hi_lim  inq_fi  total_cu_tl  inq_last_12m  acc_open_past_24mths  avg_cur_bal  bc_open_to_buy  bc_util  chargeoff_within_12_mths  delinq_amnt  mo_sin_old_il_acct  mo_sin_old_rev_tl_op  mo_sin_rcnt_rev_tl_op  mo_sin_rcnt_tl  mort_acc  mths_since_recent_bc  mths_since_recent_bc_dlq  mths_since_recent_inq  mths_since_recent_revol_delinq  num_accts_ever_120_pd  num_actv_bc_tl  num_actv_rev_tl  num_bc_sats  num_bc_tl  num_il_tl  num_op_rev_tl  num_rev_accts  num_rev_tl_bal_gt_0  num_sats  num_tl_120dpd_2m  num_tl_30dpd  num_tl_90g_dpd_24m  num_tl_op_past_12m  pct_tl_nvr_dlq  percent_bc_gt_75  pub_rec_bankruptcies  tax_liens  tot_hi_cred_lim  total_bal_ex_mort  total_bc_limit  total_il_high_credit_limit  revol_bal_joint sec_app_earliest_cr_line  sec_app_inq_last_6mths  sec_app_mort_acc  sec_app_open_acc  sec_app_revol_util  sec_app_open_act_il  sec_app_num_rev_accts  sec_app_chargeoff_within_12_mths  sec_app_collections_12_mths_ex_med  sec_app_mths_since_last_major_derog  \\\n",
              "0             30100       0            1             2                     5       1635.0         15707.0     16.5                         0            0               250.0                   117                     17              14         0                  17.0                       NaN                    5.0                             NaN                      0               2                3            6         10          9              9             19                    3        12               0.0             0                   0                   0           100.0               0.0                     1          0            60015              19616           18800                       29790              NaN                      NaN                     NaN               NaN               NaN                 NaN                  NaN                    NaN                               NaN                                 NaN                                  NaN   \n",
              "1             28000       0            0             7                     6      12993.0         13826.0     38.3                         0            0                98.0                   120                      4               4         2                   4.0                       NaN                    3.0                             NaN                      0               3                5            5          6         11              7              9                    5        15               0.0             0                   0                   4           100.0               0.0                     0          0           253198              84753           22400                      104151              NaN                      NaN                     NaN               NaN               NaN                 NaN                  NaN                    NaN                               NaN                                 NaN                                  NaN   \n",
              "2             34000       1            1             1                     2       3090.0         22878.0     32.7                         0            0               138.0                   180                     47              14         1                  47.0                       NaN                    4.0                             NaN                      0               1                1            5          7         14              5             10                    1         7               0.0             0                   0                   0           100.0              20.0                     0          0            71514              21629           34000                       37514              NaN                      NaN                     NaN               NaN               NaN                 NaN                  NaN                    NaN                               NaN                                 NaN                                  NaN   \n",
              "3             30000       2            3             3                     4      37955.0          6823.0     21.6                         0            0               161.0                   296                      1               1         3                 205.0                       NaN                    1.0                             NaN                      0               1                4            2          7          7              6             16                    4         8               0.0             0                   0                   3           100.0               0.0                     0          0           319695              36313            8700                           0              NaN                      NaN                     NaN               NaN               NaN                 NaN                  NaN                    NaN                               NaN                                 NaN                                  NaN   \n",
              "4             75900       6            2             4                    13      28923.0          6848.0     83.6                         0            0               136.0                   216                      5               3         6                  19.0                       NaN                    3.0                             NaN                      0               9               15           10         16         29             16             28                   15        21               0.0             0                   0                   8            96.7              70.0                     0          0           666222             101169           41700                       80322              NaN                      NaN                     NaN               NaN               NaN                 NaN                  NaN                    NaN                               NaN                                 NaN                                  NaN   \n",
              "\n",
              "  hardship_flag hardship_type hardship_reason hardship_status  deferral_term  hardship_amount hardship_start_date hardship_end_date payment_plan_start_date  hardship_length  hardship_dpd hardship_loan_status  orig_projected_additional_accrued_interest  hardship_payoff_balance_amount  hardship_last_payment_amount disbursement_method debt_settlement_flag debt_settlement_flag_date settlement_status settlement_date  settlement_amount  settlement_percentage  settlement_term  \n",
              "0             N           NaN             NaN             NaN            NaN              NaN                 NaN               NaN                     NaN              NaN           NaN                  NaN                                         NaN                             NaN                           NaN                Cash                    N                       NaN               NaN             NaN                NaN                    NaN              NaN  \n",
              "1             N           NaN             NaN             NaN            NaN              NaN                 NaN               NaN                     NaN              NaN           NaN                  NaN                                         NaN                             NaN                           NaN                Cash                    N                       NaN               NaN             NaN                NaN                    NaN              NaN  \n",
              "2             N           NaN             NaN             NaN            NaN              NaN                 NaN               NaN                     NaN              NaN           NaN                  NaN                                         NaN                             NaN                           NaN                Cash                    N                       NaN               NaN             NaN                NaN                    NaN              NaN  \n",
              "3             N           NaN             NaN             NaN            NaN              NaN                 NaN               NaN                     NaN              NaN           NaN                  NaN                                         NaN                             NaN                           NaN                Cash                    N                       NaN               NaN             NaN                NaN                    NaN              NaN  \n",
              "4             N           NaN             NaN             NaN            NaN              NaN                 NaN               NaN                     NaN              NaN           NaN                  NaN                                         NaN                             NaN                           NaN                Cash                    N                       NaN               NaN             NaN                NaN                    NaN              NaN  "
            ]
          },
          "metadata": {
            "tags": []
          }
        }
      ]
    },
    {
      "metadata": {
        "id": "ee0aqxTbHct5",
        "colab_type": "text"
      },
      "cell_type": "markdown",
      "source": [
        "## 1.1) Understanding the data"
      ]
    },
    {
      "metadata": {
        "id": "wMlISRyqHct7",
        "colab_type": "text"
      },
      "cell_type": "markdown",
      "source": [
        "### Loan data has the following info\n",
        "\n",
        "    - 145 columns\n",
        "    - 57 float datatype columns\n",
        "    - 51 integer datatype columns \n",
        "    - 37 object datatypes"
      ]
    },
    {
      "metadata": {
        "id": "7Ano1cBRHct-",
        "colab_type": "code",
        "colab": {
          "base_uri": "https://localhost:8080/",
          "height": 2567
        },
        "outputId": "76b3cf80-a81c-4372-8091-2be5807d65b9"
      },
      "cell_type": "code",
      "source": [
        "loan_df.info(verbose=True, null_counts=True)"
      ],
      "execution_count": 14,
      "outputs": [
        {
          "output_type": "stream",
          "text": [
            "<class 'pandas.core.frame.DataFrame'>\n",
            "RangeIndex: 118648 entries, 0 to 118647\n",
            "Data columns (total 145 columns):\n",
            "id                                            0 non-null float64\n",
            "member_id                                     0 non-null float64\n",
            "loan_amnt                                     118648 non-null int64\n",
            "funded_amnt                                   118648 non-null int64\n",
            "funded_amnt_inv                               118648 non-null float64\n",
            "term                                          118648 non-null object\n",
            "int_rate                                      118648 non-null object\n",
            "installment                                   118648 non-null float64\n",
            "grade                                         118648 non-null object\n",
            "sub_grade                                     118648 non-null object\n",
            "emp_title                                     108779 non-null object\n",
            "emp_length                                    108926 non-null object\n",
            "home_ownership                                118648 non-null object\n",
            "annual_inc                                    118648 non-null float64\n",
            "verification_status                           118648 non-null object\n",
            "issue_d                                       118648 non-null object\n",
            "loan_status                                   118648 non-null object\n",
            "pymnt_plan                                    118648 non-null object\n",
            "url                                           0 non-null float64\n",
            "desc                                          0 non-null float64\n",
            "purpose                                       118648 non-null object\n",
            "title                                         118648 non-null object\n",
            "zip_code                                      118648 non-null object\n",
            "addr_state                                    118648 non-null object\n",
            "dti                                           118426 non-null float64\n",
            "delinq_2yrs                                   118648 non-null int64\n",
            "earliest_cr_line                              118648 non-null object\n",
            "inq_last_6mths                                118648 non-null int64\n",
            "mths_since_last_delinq                        53845 non-null float64\n",
            "mths_since_last_record                        17929 non-null float64\n",
            "open_acc                                      118648 non-null int64\n",
            "pub_rec                                       118648 non-null int64\n",
            "revol_bal                                     118648 non-null int64\n",
            "revol_util                                    118457 non-null object\n",
            "total_acc                                     118648 non-null int64\n",
            "initial_list_status                           118648 non-null object\n",
            "out_prncp                                     118648 non-null float64\n",
            "out_prncp_inv                                 118648 non-null float64\n",
            "total_pymnt                                   118648 non-null float64\n",
            "total_pymnt_inv                               118648 non-null float64\n",
            "total_rec_prncp                               118648 non-null float64\n",
            "total_rec_int                                 118648 non-null float64\n",
            "total_rec_late_fee                            118648 non-null float64\n",
            "recoveries                                    118648 non-null float64\n",
            "collection_recovery_fee                       118648 non-null float64\n",
            "last_pymnt_d                                  118474 non-null object\n",
            "last_pymnt_amnt                               118648 non-null float64\n",
            "next_pymnt_d                                  107214 non-null object\n",
            "last_credit_pull_d                            118643 non-null object\n",
            "collections_12_mths_ex_med                    118648 non-null int64\n",
            "mths_since_last_major_derog                   29114 non-null float64\n",
            "policy_code                                   118648 non-null int64\n",
            "application_type                              118648 non-null object\n",
            "annual_inc_joint                              17211 non-null float64\n",
            "dti_joint                                     17211 non-null float64\n",
            "verification_status_joint                     17205 non-null object\n",
            "acc_now_delinq                                118648 non-null int64\n",
            "tot_coll_amt                                  118648 non-null int64\n",
            "tot_cur_bal                                   118648 non-null int64\n",
            "open_acc_6m                                   118648 non-null int64\n",
            "open_act_il                                   118648 non-null int64\n",
            "open_il_12m                                   118648 non-null int64\n",
            "open_il_24m                                   118648 non-null int64\n",
            "mths_since_rcnt_il                            114307 non-null float64\n",
            "total_bal_il                                  118648 non-null int64\n",
            "il_util                                       100040 non-null float64\n",
            "open_rv_12m                                   118648 non-null int64\n",
            "open_rv_24m                                   118648 non-null int64\n",
            "max_bal_bc                                    118648 non-null int64\n",
            "all_util                                      118611 non-null float64\n",
            "total_rev_hi_lim                              118648 non-null int64\n",
            "inq_fi                                        118648 non-null int64\n",
            "total_cu_tl                                   118648 non-null int64\n",
            "inq_last_12m                                  118648 non-null int64\n",
            "acc_open_past_24mths                          118648 non-null int64\n",
            "avg_cur_bal                                   118637 non-null float64\n",
            "bc_open_to_buy                                116768 non-null float64\n",
            "bc_util                                       116714 non-null float64\n",
            "chargeoff_within_12_mths                      118648 non-null int64\n",
            "delinq_amnt                                   118648 non-null int64\n",
            "mo_sin_old_il_acct                            114307 non-null float64\n",
            "mo_sin_old_rev_tl_op                          118648 non-null int64\n",
            "mo_sin_rcnt_rev_tl_op                         118648 non-null int64\n",
            "mo_sin_rcnt_tl                                118648 non-null int64\n",
            "mort_acc                                      118648 non-null int64\n",
            "mths_since_recent_bc                          116879 non-null float64\n",
            "mths_since_recent_bc_dlq                      24481 non-null float64\n",
            "mths_since_recent_inq                         103848 non-null float64\n",
            "mths_since_recent_revol_delinq                35350 non-null float64\n",
            "num_accts_ever_120_pd                         118648 non-null int64\n",
            "num_actv_bc_tl                                118648 non-null int64\n",
            "num_actv_rev_tl                               118648 non-null int64\n",
            "num_bc_sats                                   118648 non-null int64\n",
            "num_bc_tl                                     118648 non-null int64\n",
            "num_il_tl                                     118648 non-null int64\n",
            "num_op_rev_tl                                 118648 non-null int64\n",
            "num_rev_accts                                 118648 non-null int64\n",
            "num_rev_tl_bal_gt_0                           118648 non-null int64\n",
            "num_sats                                      118648 non-null int64\n",
            "num_tl_120dpd_2m                              111813 non-null float64\n",
            "num_tl_30dpd                                  118648 non-null int64\n",
            "num_tl_90g_dpd_24m                            118648 non-null int64\n",
            "num_tl_op_past_12m                            118648 non-null int64\n",
            "pct_tl_nvr_dlq                                118648 non-null float64\n",
            "percent_bc_gt_75                              116760 non-null float64\n",
            "pub_rec_bankruptcies                          118648 non-null int64\n",
            "tax_liens                                     118648 non-null int64\n",
            "tot_hi_cred_lim                               118648 non-null int64\n",
            "total_bal_ex_mort                             118648 non-null int64\n",
            "total_bc_limit                                118648 non-null int64\n",
            "total_il_high_credit_limit                    118648 non-null int64\n",
            "revol_bal_joint                               17210 non-null float64\n",
            "sec_app_earliest_cr_line                      17211 non-null object\n",
            "sec_app_inq_last_6mths                        17211 non-null float64\n",
            "sec_app_mort_acc                              17211 non-null float64\n",
            "sec_app_open_acc                              17211 non-null float64\n",
            "sec_app_revol_util                            16859 non-null float64\n",
            "sec_app_open_act_il                           17211 non-null float64\n",
            "sec_app_num_rev_accts                         17211 non-null float64\n",
            "sec_app_chargeoff_within_12_mths              17211 non-null float64\n",
            "sec_app_collections_12_mths_ex_med            17211 non-null float64\n",
            "sec_app_mths_since_last_major_derog           6024 non-null float64\n",
            "hardship_flag                                 118648 non-null object\n",
            "hardship_type                                 4 non-null object\n",
            "hardship_reason                               4 non-null object\n",
            "hardship_status                               4 non-null object\n",
            "deferral_term                                 4 non-null float64\n",
            "hardship_amount                               4 non-null float64\n",
            "hardship_start_date                           4 non-null object\n",
            "hardship_end_date                             4 non-null object\n",
            "payment_plan_start_date                       4 non-null object\n",
            "hardship_length                               4 non-null float64\n",
            "hardship_dpd                                  4 non-null float64\n",
            "hardship_loan_status                          4 non-null object\n",
            "orig_projected_additional_accrued_interest    3 non-null float64\n",
            "hardship_payoff_balance_amount                4 non-null float64\n",
            "hardship_last_payment_amount                  4 non-null float64\n",
            "disbursement_method                           118648 non-null object\n",
            "debt_settlement_flag                          118648 non-null object\n",
            "debt_settlement_flag_date                     28 non-null object\n",
            "settlement_status                             28 non-null object\n",
            "settlement_date                               28 non-null object\n",
            "settlement_amount                             28 non-null float64\n",
            "settlement_percentage                         28 non-null float64\n",
            "settlement_term                               28 non-null float64\n",
            "dtypes: float64(57), int64(51), object(37)\n",
            "memory usage: 131.3+ MB\n"
          ],
          "name": "stdout"
        }
      ]
    },
    {
      "metadata": {
        "id": "9wAQG6NpHcuG",
        "colab_type": "text"
      },
      "cell_type": "markdown",
      "source": [
        "### The list of columns that has null values are below. We need to identify which columns to drop, what values to be filled for null values etc."
      ]
    },
    {
      "metadata": {
        "id": "IZm-NJWYHcuH",
        "colab_type": "code",
        "colab": {
          "base_uri": "https://localhost:8080/",
          "height": 1071
        },
        "outputId": "6f7870e1-2195-4f41-8843-35863144238e"
      },
      "cell_type": "code",
      "source": [
        "loan_df.isnull().sum()[loan_df.isnull().sum()>0]"
      ],
      "execution_count": 15,
      "outputs": [
        {
          "output_type": "execute_result",
          "data": {
            "text/plain": [
              "id                                            118648\n",
              "member_id                                     118648\n",
              "emp_title                                       9869\n",
              "emp_length                                      9722\n",
              "url                                           118648\n",
              "desc                                          118648\n",
              "dti                                              222\n",
              "mths_since_last_delinq                         64803\n",
              "mths_since_last_record                        100719\n",
              "revol_util                                       191\n",
              "last_pymnt_d                                     174\n",
              "next_pymnt_d                                   11434\n",
              "last_credit_pull_d                                 5\n",
              "mths_since_last_major_derog                    89534\n",
              "annual_inc_joint                              101437\n",
              "dti_joint                                     101437\n",
              "verification_status_joint                     101443\n",
              "mths_since_rcnt_il                              4341\n",
              "il_util                                        18608\n",
              "all_util                                          37\n",
              "avg_cur_bal                                       11\n",
              "bc_open_to_buy                                  1880\n",
              "bc_util                                         1934\n",
              "mo_sin_old_il_acct                              4341\n",
              "mths_since_recent_bc                            1769\n",
              "mths_since_recent_bc_dlq                       94167\n",
              "mths_since_recent_inq                          14800\n",
              "mths_since_recent_revol_delinq                 83298\n",
              "num_tl_120dpd_2m                                6835\n",
              "percent_bc_gt_75                                1888\n",
              "revol_bal_joint                               101438\n",
              "sec_app_earliest_cr_line                      101437\n",
              "sec_app_inq_last_6mths                        101437\n",
              "sec_app_mort_acc                              101437\n",
              "sec_app_open_acc                              101437\n",
              "sec_app_revol_util                            101789\n",
              "sec_app_open_act_il                           101437\n",
              "sec_app_num_rev_accts                         101437\n",
              "sec_app_chargeoff_within_12_mths              101437\n",
              "sec_app_collections_12_mths_ex_med            101437\n",
              "sec_app_mths_since_last_major_derog           112624\n",
              "hardship_type                                 118644\n",
              "hardship_reason                               118644\n",
              "hardship_status                               118644\n",
              "deferral_term                                 118644\n",
              "hardship_amount                               118644\n",
              "hardship_start_date                           118644\n",
              "hardship_end_date                             118644\n",
              "payment_plan_start_date                       118644\n",
              "hardship_length                               118644\n",
              "hardship_dpd                                  118644\n",
              "hardship_loan_status                          118644\n",
              "orig_projected_additional_accrued_interest    118645\n",
              "hardship_payoff_balance_amount                118644\n",
              "hardship_last_payment_amount                  118644\n",
              "debt_settlement_flag_date                     118620\n",
              "settlement_status                             118620\n",
              "settlement_date                               118620\n",
              "settlement_amount                             118620\n",
              "settlement_percentage                         118620\n",
              "settlement_term                               118620\n",
              "dtype: int64"
            ]
          },
          "metadata": {
            "tags": []
          },
          "execution_count": 15
        }
      ]
    },
    {
      "metadata": {
        "id": "Oqvuc4ZIHcuO",
        "colab_type": "text"
      },
      "cell_type": "markdown",
      "source": [
        "## 1.2) Data Cleaning\n",
        "\n",
        "- Drop off unwanted features/columns\n",
        "- convert object dtypes to numeric\n",
        "- convert object dtypes with dates to date\n",
        "- work on NULL values data"
      ]
    },
    {
      "metadata": {
        "id": "AF-B4Tw4HcuQ",
        "colab_type": "text"
      },
      "cell_type": "markdown",
      "source": [
        "### 1.2.1) Drop off unwanted columns"
      ]
    },
    {
      "metadata": {
        "id": "tqTgkDhDHcuR",
        "colab_type": "text"
      },
      "cell_type": "markdown",
      "source": [
        "#### Drop off id and member_id\n",
        "id - A unique LC assigned ID for the loan listing.  \n",
        "member_id - A unique LC assigned Id for the borrower member.  \n",
        "We dont need this information for our analysis and hence I'm going to drop these columns  "
      ]
    },
    {
      "metadata": {
        "id": "5n7aiP_PHcuT",
        "colab_type": "code",
        "colab": {}
      },
      "cell_type": "code",
      "source": [
        "loan_df.drop(['id','member_id'], axis=1, inplace=True)"
      ],
      "execution_count": 0,
      "outputs": []
    },
    {
      "metadata": {
        "id": "Ktqenlv0HcuZ",
        "colab_type": "text"
      },
      "cell_type": "markdown",
      "source": [
        "#### Drop all columns where null values exceed 100000"
      ]
    },
    {
      "metadata": {
        "id": "UMcM-f0eHcub",
        "colab_type": "code",
        "colab": {
          "base_uri": "https://localhost:8080/",
          "height": 646
        },
        "outputId": "d946d88d-74c0-408f-91d3-fd80c55d22fb"
      },
      "cell_type": "code",
      "source": [
        "loan_df.isnull().columns[(loan_df.isnull().sum()>0) & (loan_df.isnull().sum()>100000)].tolist()"
      ],
      "execution_count": 17,
      "outputs": [
        {
          "output_type": "execute_result",
          "data": {
            "text/plain": [
              "['url',\n",
              " 'desc',\n",
              " 'mths_since_last_record',\n",
              " 'annual_inc_joint',\n",
              " 'dti_joint',\n",
              " 'verification_status_joint',\n",
              " 'revol_bal_joint',\n",
              " 'sec_app_earliest_cr_line',\n",
              " 'sec_app_inq_last_6mths',\n",
              " 'sec_app_mort_acc',\n",
              " 'sec_app_open_acc',\n",
              " 'sec_app_revol_util',\n",
              " 'sec_app_open_act_il',\n",
              " 'sec_app_num_rev_accts',\n",
              " 'sec_app_chargeoff_within_12_mths',\n",
              " 'sec_app_collections_12_mths_ex_med',\n",
              " 'sec_app_mths_since_last_major_derog',\n",
              " 'hardship_type',\n",
              " 'hardship_reason',\n",
              " 'hardship_status',\n",
              " 'deferral_term',\n",
              " 'hardship_amount',\n",
              " 'hardship_start_date',\n",
              " 'hardship_end_date',\n",
              " 'payment_plan_start_date',\n",
              " 'hardship_length',\n",
              " 'hardship_dpd',\n",
              " 'hardship_loan_status',\n",
              " 'orig_projected_additional_accrued_interest',\n",
              " 'hardship_payoff_balance_amount',\n",
              " 'hardship_last_payment_amount',\n",
              " 'debt_settlement_flag_date',\n",
              " 'settlement_status',\n",
              " 'settlement_date',\n",
              " 'settlement_amount',\n",
              " 'settlement_percentage',\n",
              " 'settlement_term']"
            ]
          },
          "metadata": {
            "tags": []
          },
          "execution_count": 17
        }
      ]
    },
    {
      "metadata": {
        "id": "6kQm6bUoHcum",
        "colab_type": "code",
        "colab": {}
      },
      "cell_type": "code",
      "source": [
        "loan_df.drop(['url', 'desc', 'mths_since_last_record',  'annual_inc_joint',  'dti_joint',  'verification_status_joint',  'revol_bal_joint',\n",
        " 'sec_app_earliest_cr_line',  'sec_app_inq_last_6mths',  'sec_app_mort_acc',  'sec_app_open_acc',  'sec_app_revol_util',\n",
        " 'sec_app_open_act_il',  'sec_app_num_rev_accts',  'sec_app_chargeoff_within_12_mths',  'sec_app_collections_12_mths_ex_med',\n",
        " 'sec_app_mths_since_last_major_derog',  'hardship_type',  'hardship_reason',  'hardship_status',  'deferral_term',\n",
        " 'hardship_amount',  'hardship_start_date',  'hardship_end_date',  'payment_plan_start_date',  'hardship_length',  'hardship_dpd',  'hardship_loan_status',\n",
        " 'orig_projected_additional_accrued_interest',  'hardship_payoff_balance_amount',  'hardship_last_payment_amount',\n",
        " 'debt_settlement_flag_date', 'settlement_status',  'settlement_date', 'settlement_amount',  'settlement_percentage',  \n",
        " 'settlement_term'], axis=1, inplace=True)"
      ],
      "execution_count": 0,
      "outputs": []
    },
    {
      "metadata": {
        "id": "JD8rvCjjHcus",
        "colab_type": "text"
      },
      "cell_type": "markdown",
      "source": [
        "### 1.2.2) Convert dtype objects to numeric"
      ]
    },
    {
      "metadata": {
        "id": "EUVbbyqIHcuu",
        "colab_type": "code",
        "colab": {
          "base_uri": "https://localhost:8080/",
          "height": 459
        },
        "outputId": "bcb3ceab-f18f-480b-aabd-81c11b329aa1"
      },
      "cell_type": "code",
      "source": [
        "loan_df.dtypes[loan_df.dtypes=='O']"
      ],
      "execution_count": 19,
      "outputs": [
        {
          "output_type": "execute_result",
          "data": {
            "text/plain": [
              "term                    object\n",
              "int_rate                object\n",
              "grade                   object\n",
              "sub_grade               object\n",
              "emp_title               object\n",
              "emp_length              object\n",
              "home_ownership          object\n",
              "verification_status     object\n",
              "issue_d                 object\n",
              "loan_status             object\n",
              "pymnt_plan              object\n",
              "purpose                 object\n",
              "title                   object\n",
              "zip_code                object\n",
              "addr_state              object\n",
              "earliest_cr_line        object\n",
              "revol_util              object\n",
              "initial_list_status     object\n",
              "last_pymnt_d            object\n",
              "next_pymnt_d            object\n",
              "last_credit_pull_d      object\n",
              "application_type        object\n",
              "hardship_flag           object\n",
              "disbursement_method     object\n",
              "debt_settlement_flag    object\n",
              "dtype: object"
            ]
          },
          "metadata": {
            "tags": []
          },
          "execution_count": 19
        }
      ]
    },
    {
      "metadata": {
        "id": "HBWFScGqHcu5",
        "colab_type": "code",
        "colab": {
          "base_uri": "https://localhost:8080/",
          "height": 148
        },
        "outputId": "31d15c59-d75d-4633-f611-9c9173a03e56"
      },
      "cell_type": "code",
      "source": [
        "loan_df[['int_rate', 'grade', 'sub_grade', 'emp_title', 'emp_length', 'home_ownership', 'verification_status',\n",
        "'issue_d', 'loan_status', 'pymnt_plan', 'purpose', 'title', 'zip_code', 'addr_state', 'earliest_cr_line', 'revol_util',\n",
        "'initial_list_status', 'last_pymnt_d', 'next_pymnt_d', 'last_credit_pull_d', 'application_type', 'hardship_flag',\n",
        "'disbursement_method', 'debt_settlement_flag']].head(2)"
      ],
      "execution_count": 20,
      "outputs": [
        {
          "output_type": "execute_result",
          "data": {
            "text/html": [
              "<div>\n",
              "<style scoped>\n",
              "    .dataframe tbody tr th:only-of-type {\n",
              "        vertical-align: middle;\n",
              "    }\n",
              "\n",
              "    .dataframe tbody tr th {\n",
              "        vertical-align: top;\n",
              "    }\n",
              "\n",
              "    .dataframe thead th {\n",
              "        text-align: right;\n",
              "    }\n",
              "</style>\n",
              "<table border=\"1\" class=\"dataframe\">\n",
              "  <thead>\n",
              "    <tr style=\"text-align: right;\">\n",
              "      <th></th>\n",
              "      <th>int_rate</th>\n",
              "      <th>grade</th>\n",
              "      <th>sub_grade</th>\n",
              "      <th>emp_title</th>\n",
              "      <th>emp_length</th>\n",
              "      <th>home_ownership</th>\n",
              "      <th>verification_status</th>\n",
              "      <th>issue_d</th>\n",
              "      <th>loan_status</th>\n",
              "      <th>pymnt_plan</th>\n",
              "      <th>purpose</th>\n",
              "      <th>title</th>\n",
              "      <th>zip_code</th>\n",
              "      <th>addr_state</th>\n",
              "      <th>earliest_cr_line</th>\n",
              "      <th>revol_util</th>\n",
              "      <th>initial_list_status</th>\n",
              "      <th>last_pymnt_d</th>\n",
              "      <th>next_pymnt_d</th>\n",
              "      <th>last_credit_pull_d</th>\n",
              "      <th>application_type</th>\n",
              "      <th>hardship_flag</th>\n",
              "      <th>disbursement_method</th>\n",
              "      <th>debt_settlement_flag</th>\n",
              "    </tr>\n",
              "  </thead>\n",
              "  <tbody>\n",
              "    <tr>\n",
              "      <th>0</th>\n",
              "      <td>10.42%</td>\n",
              "      <td>B</td>\n",
              "      <td>B3</td>\n",
              "      <td>Room att</td>\n",
              "      <td>10+ years</td>\n",
              "      <td>RENT</td>\n",
              "      <td>Verified</td>\n",
              "      <td>Dec-17</td>\n",
              "      <td>Current</td>\n",
              "      <td>n</td>\n",
              "      <td>other</td>\n",
              "      <td>Other</td>\n",
              "      <td>900xx</td>\n",
              "      <td>CA</td>\n",
              "      <td>Feb-97</td>\n",
              "      <td>10.60%</td>\n",
              "      <td>w</td>\n",
              "      <td>Jun-18</td>\n",
              "      <td>Jul-18</td>\n",
              "      <td>Jun-18</td>\n",
              "      <td>Individual</td>\n",
              "      <td>N</td>\n",
              "      <td>Cash</td>\n",
              "      <td>N</td>\n",
              "    </tr>\n",
              "    <tr>\n",
              "      <th>1</th>\n",
              "      <td>9.93%</td>\n",
              "      <td>B</td>\n",
              "      <td>B2</td>\n",
              "      <td>Geologist</td>\n",
              "      <td>3 years</td>\n",
              "      <td>OWN</td>\n",
              "      <td>Not Verified</td>\n",
              "      <td>Dec-17</td>\n",
              "      <td>Current</td>\n",
              "      <td>n</td>\n",
              "      <td>credit_card</td>\n",
              "      <td>Credit card refinancing</td>\n",
              "      <td>159xx</td>\n",
              "      <td>PA</td>\n",
              "      <td>Dec-07</td>\n",
              "      <td>36.70%</td>\n",
              "      <td>w</td>\n",
              "      <td>Jun-18</td>\n",
              "      <td>Jul-18</td>\n",
              "      <td>Jun-18</td>\n",
              "      <td>Individual</td>\n",
              "      <td>N</td>\n",
              "      <td>Cash</td>\n",
              "      <td>N</td>\n",
              "    </tr>\n",
              "  </tbody>\n",
              "</table>\n",
              "</div>"
            ],
            "text/plain": [
              "  int_rate grade sub_grade  emp_title emp_length home_ownership verification_status issue_d loan_status pymnt_plan      purpose                    title zip_code addr_state earliest_cr_line revol_util initial_list_status last_pymnt_d next_pymnt_d last_credit_pull_d application_type hardship_flag disbursement_method debt_settlement_flag\n",
              "0   10.42%     B        B3   Room att  10+ years           RENT            Verified  Dec-17     Current          n        other                    Other    900xx         CA           Feb-97     10.60%                   w       Jun-18       Jul-18             Jun-18       Individual             N                Cash                    N\n",
              "1    9.93%     B        B2  Geologist    3 years            OWN        Not Verified  Dec-17     Current          n  credit_card  Credit card refinancing    159xx         PA           Dec-07     36.70%                   w       Jun-18       Jul-18             Jun-18       Individual             N                Cash                    N"
            ]
          },
          "metadata": {
            "tags": []
          },
          "execution_count": 20
        }
      ]
    },
    {
      "metadata": {
        "id": "h8SDXAY6HcvA",
        "colab_type": "text"
      },
      "cell_type": "markdown",
      "source": [
        "#### We have the following types\n",
        "int_rate, revol_util has %  \n",
        "issue_d, earliest_cr_line, last_pymnt_d, next_pymnt_d, last_credit_pull_d\thas dates  \n",
        "Everything else seems to be having categorical string values  "
      ]
    },
    {
      "metadata": {
        "id": "zb-R_1-pHcvB",
        "colab_type": "text"
      },
      "cell_type": "markdown",
      "source": [
        "#### 1.2.2.1) Convert dtype object with % to float\n",
        "The following features has % in it.\n",
        "    - int_rate\n",
        "    - revol_util"
      ]
    },
    {
      "metadata": {
        "id": "ia_AIiNlHcvD",
        "colab_type": "code",
        "colab": {}
      },
      "cell_type": "code",
      "source": [
        "loan_df.loc[loan_df['revol_util'].notnull(), 'revol_util'] = loan_df['revol_util'][loan_df['revol_util'].notnull()].str[:-1].astype(float)/100"
      ],
      "execution_count": 0,
      "outputs": []
    },
    {
      "metadata": {
        "id": "syUakPydHcvK",
        "colab_type": "code",
        "colab": {}
      },
      "cell_type": "code",
      "source": [
        "loan_df.loc[loan_df['int_rate'].notnull(), 'int_rate'] = loan_df['int_rate'][loan_df['int_rate'].notnull()].str[:-1].astype(float)/100"
      ],
      "execution_count": 0,
      "outputs": []
    },
    {
      "metadata": {
        "id": "sp6GCcYdHcvQ",
        "colab_type": "code",
        "colab": {}
      },
      "cell_type": "code",
      "source": [
        "loan_df['revol_util'] = loan_df['revol_util'].astype(float)"
      ],
      "execution_count": 0,
      "outputs": []
    },
    {
      "metadata": {
        "id": "SrUYRhqPHcvV",
        "colab_type": "text"
      },
      "cell_type": "markdown",
      "source": [
        "#### 1.2.2.2) Convert date columns\n",
        "    - issue_d - The month which the loan was funded\n",
        "    - earliest_cr_line - The month the borrower's earliest reported credit line was opened\n",
        "    - last_pymnt_d - Last month payment was received\n",
        "    - next_pymnt_d - Next scheduled payment date\n",
        "    - last_credit_pull_d - The most recent month LC pulled credit for this loan\n",
        "All dates has mmm-yy format"
      ]
    },
    {
      "metadata": {
        "id": "c0Vu3Ei2HcvV",
        "colab_type": "text"
      },
      "cell_type": "markdown",
      "source": [
        "#### issue_d "
      ]
    },
    {
      "metadata": {
        "id": "pgYtLOdWHcvX",
        "colab_type": "code",
        "colab": {
          "base_uri": "https://localhost:8080/",
          "height": 68
        },
        "outputId": "d4060716-68fe-4602-9717-8e0c8b2a7b16"
      },
      "cell_type": "code",
      "source": [
        "loan_df['issue_d'].head(2)"
      ],
      "execution_count": 24,
      "outputs": [
        {
          "output_type": "execute_result",
          "data": {
            "text/plain": [
              "0    Dec-17\n",
              "1    Dec-17\n",
              "Name: issue_d, dtype: object"
            ]
          },
          "metadata": {
            "tags": []
          },
          "execution_count": 24
        }
      ]
    },
    {
      "metadata": {
        "id": "p0M_tWIzHcve",
        "colab_type": "code",
        "colab": {}
      },
      "cell_type": "code",
      "source": [
        "loan_df['issue_d'] = pd.to_datetime(loan_df['issue_d'], format = '%b-%y')"
      ],
      "execution_count": 0,
      "outputs": []
    },
    {
      "metadata": {
        "id": "Ri_UxnFpHcvj",
        "colab_type": "text"
      },
      "cell_type": "markdown",
      "source": [
        "#### earliest_cr_line "
      ]
    },
    {
      "metadata": {
        "id": "4wE6C3BeHcvk",
        "colab_type": "code",
        "colab": {}
      },
      "cell_type": "code",
      "source": [
        "loan_df['earliest_cr_line'] = pd.to_datetime(loan_df['earliest_cr_line'], format = '%b-%y')"
      ],
      "execution_count": 0,
      "outputs": []
    },
    {
      "metadata": {
        "id": "_81is1QIHcvr",
        "colab_type": "text"
      },
      "cell_type": "markdown",
      "source": [
        "#### last_pymt_d"
      ]
    },
    {
      "metadata": {
        "id": "FsPTp08NHcvs",
        "colab_type": "code",
        "colab": {}
      },
      "cell_type": "code",
      "source": [
        "loan_df['last_pymnt_d'] = pd.to_datetime(loan_df['last_pymnt_d'], format = '%b-%y')"
      ],
      "execution_count": 0,
      "outputs": []
    },
    {
      "metadata": {
        "id": "RFngqveKHcvw",
        "colab_type": "text"
      },
      "cell_type": "markdown",
      "source": [
        "#### next_pymnt_d "
      ]
    },
    {
      "metadata": {
        "id": "ph6f7OqpHcvx",
        "colab_type": "code",
        "colab": {}
      },
      "cell_type": "code",
      "source": [
        "loan_df['next_pymnt_d'] = pd.to_datetime(loan_df['next_pymnt_d'], format = '%b-%y')"
      ],
      "execution_count": 0,
      "outputs": []
    },
    {
      "metadata": {
        "id": "SX8e_wU9Hcv1",
        "colab_type": "text"
      },
      "cell_type": "markdown",
      "source": [
        "#### last_credit_pull_d "
      ]
    },
    {
      "metadata": {
        "id": "s7CMKLTGHcv2",
        "colab_type": "code",
        "colab": {}
      },
      "cell_type": "code",
      "source": [
        "loan_df['last_credit_pull_d'] = pd.to_datetime(loan_df['last_credit_pull_d'], format = '%b-%y')"
      ],
      "execution_count": 0,
      "outputs": []
    },
    {
      "metadata": {
        "id": "yz3enX1tHcv7",
        "colab_type": "code",
        "colab": {
          "base_uri": "https://localhost:8080/",
          "height": 204
        },
        "outputId": "ccfccce0-cd66-4b00-87ab-815c68157d31"
      },
      "cell_type": "code",
      "source": [
        "loan_df[['issue_d', 'earliest_cr_line', 'last_pymnt_d', 'next_pymnt_d', 'last_credit_pull_d']].head(5)"
      ],
      "execution_count": 30,
      "outputs": [
        {
          "output_type": "execute_result",
          "data": {
            "text/html": [
              "<div>\n",
              "<style scoped>\n",
              "    .dataframe tbody tr th:only-of-type {\n",
              "        vertical-align: middle;\n",
              "    }\n",
              "\n",
              "    .dataframe tbody tr th {\n",
              "        vertical-align: top;\n",
              "    }\n",
              "\n",
              "    .dataframe thead th {\n",
              "        text-align: right;\n",
              "    }\n",
              "</style>\n",
              "<table border=\"1\" class=\"dataframe\">\n",
              "  <thead>\n",
              "    <tr style=\"text-align: right;\">\n",
              "      <th></th>\n",
              "      <th>issue_d</th>\n",
              "      <th>earliest_cr_line</th>\n",
              "      <th>last_pymnt_d</th>\n",
              "      <th>next_pymnt_d</th>\n",
              "      <th>last_credit_pull_d</th>\n",
              "    </tr>\n",
              "  </thead>\n",
              "  <tbody>\n",
              "    <tr>\n",
              "      <th>0</th>\n",
              "      <td>2017-12-01</td>\n",
              "      <td>1997-02-01</td>\n",
              "      <td>2018-06-01</td>\n",
              "      <td>2018-07-01</td>\n",
              "      <td>2018-06-01</td>\n",
              "    </tr>\n",
              "    <tr>\n",
              "      <th>1</th>\n",
              "      <td>2017-12-01</td>\n",
              "      <td>2007-12-01</td>\n",
              "      <td>2018-06-01</td>\n",
              "      <td>2018-07-01</td>\n",
              "      <td>2018-06-01</td>\n",
              "    </tr>\n",
              "    <tr>\n",
              "      <th>2</th>\n",
              "      <td>2017-12-01</td>\n",
              "      <td>2002-12-01</td>\n",
              "      <td>2018-06-01</td>\n",
              "      <td>2018-07-01</td>\n",
              "      <td>2018-06-01</td>\n",
              "    </tr>\n",
              "    <tr>\n",
              "      <th>3</th>\n",
              "      <td>2017-12-01</td>\n",
              "      <td>1993-04-01</td>\n",
              "      <td>2018-06-01</td>\n",
              "      <td>2018-07-01</td>\n",
              "      <td>2018-06-01</td>\n",
              "    </tr>\n",
              "    <tr>\n",
              "      <th>4</th>\n",
              "      <td>2017-12-01</td>\n",
              "      <td>1999-12-01</td>\n",
              "      <td>2018-06-01</td>\n",
              "      <td>2018-07-01</td>\n",
              "      <td>2018-06-01</td>\n",
              "    </tr>\n",
              "  </tbody>\n",
              "</table>\n",
              "</div>"
            ],
            "text/plain": [
              "     issue_d earliest_cr_line last_pymnt_d next_pymnt_d last_credit_pull_d\n",
              "0 2017-12-01       1997-02-01   2018-06-01   2018-07-01         2018-06-01\n",
              "1 2017-12-01       2007-12-01   2018-06-01   2018-07-01         2018-06-01\n",
              "2 2017-12-01       2002-12-01   2018-06-01   2018-07-01         2018-06-01\n",
              "3 2017-12-01       1993-04-01   2018-06-01   2018-07-01         2018-06-01\n",
              "4 2017-12-01       1999-12-01   2018-06-01   2018-07-01         2018-06-01"
            ]
          },
          "metadata": {
            "tags": []
          },
          "execution_count": 30
        }
      ]
    },
    {
      "metadata": {
        "id": "hvxZk1H_HcwC",
        "colab_type": "code",
        "colab": {}
      },
      "cell_type": "code",
      "source": [
        "loan_df['issue_d_float'] = loan_df.issue_d.values.astype(float)\n",
        "loan_df['earliest_cr_line'] = loan_df.earliest_cr_line.values.astype(float)\n",
        "loan_df['last_pymnt_d'] = loan_df.last_pymnt_d.values.astype(float)\n",
        "loan_df['next_pymnt_d'] = loan_df.next_pymnt_d.values.astype(float)\n",
        "loan_df['last_credit_pull_d'] = loan_df.last_credit_pull_d.values.astype(float)"
      ],
      "execution_count": 0,
      "outputs": []
    },
    {
      "metadata": {
        "id": "DFCFrhvsHcwI",
        "colab_type": "text"
      },
      "cell_type": "markdown",
      "source": [
        "#### 1.2.2.3) Term\n",
        "The number of payments on the loan. Values are in months and can be either 36 or 60."
      ]
    },
    {
      "metadata": {
        "id": "4p55-_bwHcwL",
        "colab_type": "code",
        "colab": {
          "base_uri": "https://localhost:8080/",
          "height": 68
        },
        "outputId": "c6267b00-b08e-4d8e-8958-68e1bef27607"
      },
      "cell_type": "code",
      "source": [
        "loan_df.term.value_counts()"
      ],
      "execution_count": 32,
      "outputs": [
        {
          "output_type": "execute_result",
          "data": {
            "text/plain": [
              " 36 months    82677\n",
              " 60 months    35971\n",
              "Name: term, dtype: int64"
            ]
          },
          "metadata": {
            "tags": []
          },
          "execution_count": 32
        }
      ]
    },
    {
      "metadata": {
        "id": "45A8mYPfHcwY",
        "colab_type": "code",
        "colab": {}
      },
      "cell_type": "code",
      "source": [
        "loan_df['term'].replace(to_replace='[^0-9]+', value='', inplace=True, regex=True)\n",
        "loan_df['term'] = loan_df['term'].astype(int)"
      ],
      "execution_count": 0,
      "outputs": []
    },
    {
      "metadata": {
        "id": "6C_7BNzNHcwd",
        "colab_type": "text"
      },
      "cell_type": "markdown",
      "source": [
        "#### 1.2.2.4) Grade and sub-grade\n",
        "grade -\tLC assigned loan grade  \n",
        "sub_grade - LC assigned loan subgrade  \n",
        "\n",
        "As per lending clubs website, the loan grade is the result of a formula that takes into account not only credit score, but also a combination of several indicators of credit risk from the credit report and loan application. All loans have either a 36- or 60-month term, with fixed interest rates and equal payments.\n",
        "\n",
        "Since this is something that is derived for the loan, I'm going to drop these 2 columns"
      ]
    },
    {
      "metadata": {
        "id": "68qhQUnSHcwe",
        "colab_type": "code",
        "colab": {
          "base_uri": "https://localhost:8080/",
          "height": 153
        },
        "outputId": "2316d5a0-d62c-478a-9ea6-fc83a1bb1530"
      },
      "cell_type": "code",
      "source": [
        "loan_df.grade.value_counts()"
      ],
      "execution_count": 34,
      "outputs": [
        {
          "output_type": "execute_result",
          "data": {
            "text/plain": [
              "B    36832\n",
              "C    32419\n",
              "A    25126\n",
              "D    17866\n",
              "E     4720\n",
              "F     1214\n",
              "G      471\n",
              "Name: grade, dtype: int64"
            ]
          },
          "metadata": {
            "tags": []
          },
          "execution_count": 34
        }
      ]
    },
    {
      "metadata": {
        "id": "VUfAcaQHHcwq",
        "colab_type": "code",
        "colab": {
          "base_uri": "https://localhost:8080/",
          "height": 85
        },
        "outputId": "8b60a8d7-4d4d-44f1-9ccf-afb0e34be75f"
      },
      "cell_type": "code",
      "source": [
        "loan_df.sub_grade.value_counts().head(3)"
      ],
      "execution_count": 35,
      "outputs": [
        {
          "output_type": "execute_result",
          "data": {
            "text/plain": [
              "B5    7946\n",
              "B1    7904\n",
              "B3    7822\n",
              "Name: sub_grade, dtype: int64"
            ]
          },
          "metadata": {
            "tags": []
          },
          "execution_count": 35
        }
      ]
    },
    {
      "metadata": {
        "id": "mMyBz53zHcwx",
        "colab_type": "code",
        "colab": {}
      },
      "cell_type": "code",
      "source": [
        "loan_df.drop(['grade', 'sub_grade'], axis=1, inplace=True)"
      ],
      "execution_count": 0,
      "outputs": []
    },
    {
      "metadata": {
        "id": "VryhTVDQHcw4",
        "colab_type": "text"
      },
      "cell_type": "markdown",
      "source": [
        "#### 1.2.2.5) emp_title & emp_length\n",
        "emp_title - The job title supplied by the Borrower when applying for the loan.  \n",
        "emp_length - Employment length in years. Possible values are between 0 and 10 where 0 means less than one year and 10 means ten or more years.   \n",
        "\n",
        "For this analysis purpose, I'm planning to drop the column emp_title as there are 9869 job titles and it is difficult to fill in with irrelevant values. Also lets comvert emp_length from object to integer"
      ]
    },
    {
      "metadata": {
        "id": "32u64cJIHcw6",
        "colab_type": "code",
        "colab": {
          "base_uri": "https://localhost:8080/",
          "height": 119
        },
        "outputId": "9be6e240-0b61-40f1-8dcd-2eb66475a674"
      },
      "cell_type": "code",
      "source": [
        "loan_df.emp_title.value_counts().head()"
      ],
      "execution_count": 37,
      "outputs": [
        {
          "output_type": "execute_result",
          "data": {
            "text/plain": [
              "Teacher             2138\n",
              "Manager             2048\n",
              "Owner               1987\n",
              "Driver              1039\n",
              "Registered Nurse     857\n",
              "Name: emp_title, dtype: int64"
            ]
          },
          "metadata": {
            "tags": []
          },
          "execution_count": 37
        }
      ]
    },
    {
      "metadata": {
        "id": "IgJjuprEHcxF",
        "colab_type": "code",
        "colab": {
          "base_uri": "https://localhost:8080/",
          "height": 34
        },
        "outputId": "087c5529-6717-45c5-a867-0780cf1b4484"
      },
      "cell_type": "code",
      "source": [
        "loan_df.emp_title.isnull().sum(), loan_df.emp_length.isnull().sum()"
      ],
      "execution_count": 38,
      "outputs": [
        {
          "output_type": "execute_result",
          "data": {
            "text/plain": [
              "(9869, 9722)"
            ]
          },
          "metadata": {
            "tags": []
          },
          "execution_count": 38
        }
      ]
    },
    {
      "metadata": {
        "id": "KN_rGDRcHcxU",
        "colab_type": "code",
        "colab": {}
      },
      "cell_type": "code",
      "source": [
        "loan_df.drop(['emp_title'], axis=1, inplace=True)"
      ],
      "execution_count": 0,
      "outputs": []
    },
    {
      "metadata": {
        "id": "Y1lU2xAQHcxX",
        "colab_type": "code",
        "colab": {
          "base_uri": "https://localhost:8080/",
          "height": 221
        },
        "outputId": "1c9de180-ea38-4952-c2c9-4f28ba519703"
      },
      "cell_type": "code",
      "source": [
        "loan_df.emp_length.value_counts()"
      ],
      "execution_count": 40,
      "outputs": [
        {
          "output_type": "execute_result",
          "data": {
            "text/plain": [
              "10+ years    38085\n",
              "< 1 year     13029\n",
              "2 years      10563\n",
              "3 years       9253\n",
              "1 year        7556\n",
              "4 years       7240\n",
              "5 years       6996\n",
              "6 years       5083\n",
              "7 years       4339\n",
              "9 years       3559\n",
              "8 years       3223\n",
              "Name: emp_length, dtype: int64"
            ]
          },
          "metadata": {
            "tags": []
          },
          "execution_count": 40
        }
      ]
    },
    {
      "metadata": {
        "id": "6EIYD1eUHcxe",
        "colab_type": "code",
        "colab": {}
      },
      "cell_type": "code",
      "source": [
        "#Convert Employee length categorical values to numeric\n",
        "def emplduration(empl):\n",
        "    if empl == '10+ years':\n",
        "        return 10\n",
        "    elif empl == '1 year':\n",
        "        return 1\n",
        "    elif empl == '2 years':\n",
        "        return 2\n",
        "    elif empl == '3 years':\n",
        "        return 3\n",
        "    elif empl == '4 years':\n",
        "        return 4\n",
        "    elif empl == '5 years':\n",
        "        return 5\n",
        "    elif empl == '6 years':\n",
        "        return 6\n",
        "    elif empl == '7 years':\n",
        "        return 7\n",
        "    elif empl == '8 years':\n",
        "        return 8 \n",
        "    elif empl == '9 years':\n",
        "        return 9    \n",
        "    elif empl ==  '< 1 year':\n",
        "        return 0"
      ],
      "execution_count": 0,
      "outputs": []
    },
    {
      "metadata": {
        "id": "fXmpEDQjHcxt",
        "colab_type": "code",
        "colab": {
          "base_uri": "https://localhost:8080/",
          "height": 221
        },
        "outputId": "0a7efaca-691e-4fce-b17c-8982bedadb7d"
      },
      "cell_type": "code",
      "source": [
        "loan_df['emp_length'] = loan_df['emp_length'].apply(emplduration)\n",
        "loan_df.emp_length.value_counts()"
      ],
      "execution_count": 42,
      "outputs": [
        {
          "output_type": "execute_result",
          "data": {
            "text/plain": [
              "10.0    38085\n",
              "0.0     13029\n",
              "2.0     10563\n",
              "3.0      9253\n",
              "1.0      7556\n",
              "4.0      7240\n",
              "5.0      6996\n",
              "6.0      5083\n",
              "7.0      4339\n",
              "9.0      3559\n",
              "8.0      3223\n",
              "Name: emp_length, dtype: int64"
            ]
          },
          "metadata": {
            "tags": []
          },
          "execution_count": 42
        }
      ]
    },
    {
      "metadata": {
        "id": "W9cvf5csHcx1",
        "colab_type": "code",
        "colab": {
          "base_uri": "https://localhost:8080/",
          "height": 34
        },
        "outputId": "0220c61f-e070-4895-adab-47dbfeebdf49"
      },
      "cell_type": "code",
      "source": [
        "loan_df.loc[loan_df.emp_length.isnull(), 'emp_length'] = 0\n",
        "loan_df.emp_length = loan_df.emp_length.astype(int)\n",
        "loan_df.emp_length.isnull().sum()"
      ],
      "execution_count": 43,
      "outputs": [
        {
          "output_type": "execute_result",
          "data": {
            "text/plain": [
              "0"
            ]
          },
          "metadata": {
            "tags": []
          },
          "execution_count": 43
        }
      ]
    },
    {
      "metadata": {
        "id": "tDiiMuqbHcyE",
        "colab_type": "text"
      },
      "cell_type": "markdown",
      "source": [
        "#### 1.2.2.6) Other Categorical Variables"
      ]
    },
    {
      "metadata": {
        "id": "6niq13pxHcyE",
        "colab_type": "text"
      },
      "cell_type": "markdown",
      "source": [
        "####  home_ownership\n",
        "home_ownership - The home ownership status provided by the borrower during registration or obtained from the credit report. Our values are: RENT, OWN, MORTGAGE, OTHER  "
      ]
    },
    {
      "metadata": {
        "id": "IIaBwFN-HcyH",
        "colab_type": "code",
        "colab": {
          "base_uri": "https://localhost:8080/",
          "height": 102
        },
        "outputId": "8bff24f6-c7ff-4e24-868b-0935413269b0"
      },
      "cell_type": "code",
      "source": [
        "loan_df.home_ownership.value_counts()"
      ],
      "execution_count": 44,
      "outputs": [
        {
          "output_type": "execute_result",
          "data": {
            "text/plain": [
              "MORTGAGE    57060\n",
              "RENT        46287\n",
              "OWN         15300\n",
              "ANY             1\n",
              "Name: home_ownership, dtype: int64"
            ]
          },
          "metadata": {
            "tags": []
          },
          "execution_count": 44
        }
      ]
    },
    {
      "metadata": {
        "id": "J_EMFFStHcyL",
        "colab_type": "code",
        "colab": {}
      },
      "cell_type": "code",
      "source": [
        "loan_df = pd.concat([loan_df, pd.get_dummies(loan_df['home_ownership'], prefix='HO')], axis=1)"
      ],
      "execution_count": 0,
      "outputs": []
    },
    {
      "metadata": {
        "id": "3Uw6O2zlHcyP",
        "colab_type": "code",
        "colab": {}
      },
      "cell_type": "code",
      "source": [
        "loan_df.drop(['home_ownership'], axis=1, inplace=True)"
      ],
      "execution_count": 0,
      "outputs": []
    },
    {
      "metadata": {
        "id": "zWW7z8bgHcyS",
        "colab_type": "text"
      },
      "cell_type": "markdown",
      "source": [
        "#### verification_status\n",
        "verification_status - Indicates if income was verified by LC, not verified, or if the income source was verified  "
      ]
    },
    {
      "metadata": {
        "id": "0E29aU1nHcyT",
        "colab_type": "code",
        "colab": {
          "base_uri": "https://localhost:8080/",
          "height": 85
        },
        "outputId": "3192169b-00ee-4b2e-8906-e0424ac9f557"
      },
      "cell_type": "code",
      "source": [
        "loan_df.verification_status.value_counts()"
      ],
      "execution_count": 47,
      "outputs": [
        {
          "output_type": "execute_result",
          "data": {
            "text/plain": [
              "Not Verified       46078\n",
              "Source Verified    44424\n",
              "Verified           28146\n",
              "Name: verification_status, dtype: int64"
            ]
          },
          "metadata": {
            "tags": []
          },
          "execution_count": 47
        }
      ]
    },
    {
      "metadata": {
        "id": "etWJzlKzHcyV",
        "colab_type": "code",
        "colab": {}
      },
      "cell_type": "code",
      "source": [
        "loan_df = pd.concat([loan_df, pd.get_dummies(loan_df['verification_status'], prefix='VS')], axis=1)\n",
        "loan_df[['verification_status', 'VS_Not Verified', 'VS_Source Verified', 'VS_Verified']].head(3)\n",
        "loan_df.drop(['verification_status'], axis=1, inplace=True)"
      ],
      "execution_count": 0,
      "outputs": []
    },
    {
      "metadata": {
        "id": "Q8jUX1fLHcyY",
        "colab_type": "text"
      },
      "cell_type": "markdown",
      "source": [
        "####  loan_status\n",
        "loan_status - Current status of the loan  "
      ]
    },
    {
      "metadata": {
        "id": "yYeVoKHqHcyZ",
        "colab_type": "code",
        "colab": {
          "base_uri": "https://localhost:8080/",
          "height": 136
        },
        "outputId": "daf4b81a-5f03-48d4-93e1-1b31c2d4daa8"
      },
      "cell_type": "code",
      "source": [
        "loan_df.loan_status.value_counts(), loan_df.loan_status.isnull().sum()"
      ],
      "execution_count": 49,
      "outputs": [
        {
          "output_type": "execute_result",
          "data": {
            "text/plain": [
              "(Current               103892\n",
              " Fully Paid             10320\n",
              " Late (31-120 days)      1735\n",
              " In Grace Period         1152\n",
              " Charged Off             1114\n",
              " Late (16-30 days)        435\n",
              " Name: loan_status, dtype: int64, 0)"
            ]
          },
          "metadata": {
            "tags": []
          },
          "execution_count": 49
        }
      ]
    },
    {
      "metadata": {
        "id": "56DEIHROHcyg",
        "colab_type": "code",
        "colab": {
          "base_uri": "https://localhost:8080/",
          "height": 85
        },
        "outputId": "a4b7d199-f782-442b-c036-dc3b46d188d4"
      },
      "cell_type": "code",
      "source": [
        "loan_df = pd.concat([loan_df, pd.get_dummies(loan_df['loan_status'], prefix='LS')], axis=1)\n",
        "print(loan_df[['loan_status', 'LS_Current', 'LS_Fully Paid', 'LS_Late (31-120 days)', 'LS_In Grace Period',\n",
        "        'LS_Charged Off', 'LS_Late (16-30 days)']].tail(3))\n",
        "loan_df.drop(['loan_status'], axis=1, inplace=True)"
      ],
      "execution_count": 50,
      "outputs": [
        {
          "output_type": "stream",
          "text": [
            "       loan_status  LS_Current  LS_Fully Paid  LS_Late (31-120 days)  LS_In Grace Period  LS_Charged Off  LS_Late (16-30 days)\n",
            "118645     Current           1              0                      0                   0               0                     0\n",
            "118646     Current           1              0                      0                   0               0                     0\n",
            "118647     Current           1              0                      0                   0               0                     0\n"
          ],
          "name": "stdout"
        }
      ]
    },
    {
      "metadata": {
        "id": "pxLsXxS2Hcyr",
        "colab_type": "text"
      },
      "cell_type": "markdown",
      "source": [
        "####  pymnt_plan\n",
        "pymnt_plan - Indicates if a payment plan has been put in place for the loan  "
      ]
    },
    {
      "metadata": {
        "id": "uoIy7Oi3Hcyt",
        "colab_type": "code",
        "colab": {
          "base_uri": "https://localhost:8080/",
          "height": 68
        },
        "outputId": "e039a3f4-8d51-435b-9bf7-17e4114f23ec"
      },
      "cell_type": "code",
      "source": [
        "loan_df.pymnt_plan.value_counts()"
      ],
      "execution_count": 51,
      "outputs": [
        {
          "output_type": "execute_result",
          "data": {
            "text/plain": [
              "n    118647\n",
              "y         1\n",
              "Name: pymnt_plan, dtype: int64"
            ]
          },
          "metadata": {
            "tags": []
          },
          "execution_count": 51
        }
      ]
    },
    {
      "metadata": {
        "id": "lE3Pw97mHcyw",
        "colab_type": "code",
        "colab": {}
      },
      "cell_type": "code",
      "source": [
        "loan_df = pd.concat([loan_df, pd.get_dummies(loan_df['pymnt_plan'], prefix='pypl')], axis=1)\n",
        "loan_df.drop(['pymnt_plan'], axis=1, inplace=True)"
      ],
      "execution_count": 0,
      "outputs": []
    },
    {
      "metadata": {
        "id": "uo3fdLGqHcy1",
        "colab_type": "text"
      },
      "cell_type": "markdown",
      "source": [
        "#### purpose & title\n",
        "purpose - A category provided by the borrower for the loan request.   \n",
        "title -\tThe loan title provided by the borrower  "
      ]
    },
    {
      "metadata": {
        "id": "gRDMYz2BHcy3",
        "colab_type": "code",
        "colab": {
          "base_uri": "https://localhost:8080/",
          "height": 255
        },
        "outputId": "4e5d92ef-ba9c-413d-cf13-44ebdc2b435d"
      },
      "cell_type": "code",
      "source": [
        "loan_df.purpose.value_counts(), loan_df.purpose.isnull().sum()"
      ],
      "execution_count": 53,
      "outputs": [
        {
          "output_type": "execute_result",
          "data": {
            "text/plain": [
              "(debt_consolidation    62452\n",
              " credit_card           25307\n",
              " other                 10846\n",
              " home_improvement       8678\n",
              " major_purchase         3227\n",
              " medical                1965\n",
              " small_business         1493\n",
              " house                  1438\n",
              " car                    1393\n",
              " moving                  900\n",
              " vacation                872\n",
              " renewable_energy         76\n",
              " educational               1\n",
              " Name: purpose, dtype: int64, 0)"
            ]
          },
          "metadata": {
            "tags": []
          },
          "execution_count": 53
        }
      ]
    },
    {
      "metadata": {
        "id": "9TCfEEZoHcy8",
        "colab_type": "code",
        "colab": {}
      },
      "cell_type": "code",
      "source": [
        "loan_df = pd.concat([loan_df, pd.get_dummies(loan_df['purpose'], prefix='purpose')], axis=1)\n",
        "loan_df.drop(['purpose'], axis=1, inplace=True)"
      ],
      "execution_count": 0,
      "outputs": []
    },
    {
      "metadata": {
        "id": "_4C5MQRwHczB",
        "colab_type": "code",
        "colab": {
          "base_uri": "https://localhost:8080/",
          "height": 255
        },
        "outputId": "c600fa57-56f9-445e-a0bd-8ea99609db06"
      },
      "cell_type": "code",
      "source": [
        "loan_df.title.value_counts()"
      ],
      "execution_count": 55,
      "outputs": [
        {
          "output_type": "execute_result",
          "data": {
            "text/plain": [
              "Debt consolidation         62451\n",
              "Credit card refinancing    25308\n",
              "Other                      10846\n",
              "Home improvement            8678\n",
              "Major purchase              3228\n",
              "Medical expenses            1964\n",
              "Business                    1493\n",
              "Home buying                 1438\n",
              "Car financing               1393\n",
              "Moving and relocation        900\n",
              "Vacation                     872\n",
              "Green loan                    76\n",
              "Learning and training          1\n",
              "Name: title, dtype: int64"
            ]
          },
          "metadata": {
            "tags": []
          },
          "execution_count": 55
        }
      ]
    },
    {
      "metadata": {
        "id": "Otkmh_j4HczI",
        "colab_type": "text"
      },
      "cell_type": "markdown",
      "source": [
        "##### Dropping this column as title & purpose indicates the same"
      ]
    },
    {
      "metadata": {
        "id": "3OauFZK5HczJ",
        "colab_type": "code",
        "colab": {}
      },
      "cell_type": "code",
      "source": [
        "loan_df.drop(['title'], axis=1, inplace=True)"
      ],
      "execution_count": 0,
      "outputs": []
    },
    {
      "metadata": {
        "id": "SNtap2GSHczL",
        "colab_type": "text"
      },
      "cell_type": "markdown",
      "source": [
        "#### zip_code and addr_state\n",
        "zip_code - The first 3 numbers of the zip code provided by the borrower in the loan application.  \n",
        "addr_state - The state provided by the borrower in the loan application  "
      ]
    },
    {
      "metadata": {
        "id": "bZuA3q8ZHczM",
        "colab_type": "code",
        "colab": {}
      },
      "cell_type": "code",
      "source": [
        "loan_df.drop(['zip_code', 'addr_state'], axis=1, inplace=True)"
      ],
      "execution_count": 0,
      "outputs": []
    },
    {
      "metadata": {
        "id": "wajySRrzHczO",
        "colab_type": "text"
      },
      "cell_type": "markdown",
      "source": [
        "#### initial_list_status\n",
        "initial_list_status - The initial listing status of the loan. Possible values are – W, F  "
      ]
    },
    {
      "metadata": {
        "id": "nWG-wTcTHczQ",
        "colab_type": "code",
        "colab": {
          "base_uri": "https://localhost:8080/",
          "height": 68
        },
        "outputId": "7e8261f2-6f20-4521-e5a0-200ebce04fef"
      },
      "cell_type": "code",
      "source": [
        "loan_df.initial_list_status.value_counts(), loan_df.initial_list_status.isnull().sum()"
      ],
      "execution_count": 58,
      "outputs": [
        {
          "output_type": "execute_result",
          "data": {
            "text/plain": [
              "(w    96864\n",
              " f    21784\n",
              " Name: initial_list_status, dtype: int64, 0)"
            ]
          },
          "metadata": {
            "tags": []
          },
          "execution_count": 58
        }
      ]
    },
    {
      "metadata": {
        "id": "Xg8wUZEWHczS",
        "colab_type": "code",
        "colab": {}
      },
      "cell_type": "code",
      "source": [
        "loan_df = pd.concat([loan_df, pd.get_dummies(loan_df['initial_list_status'], prefix='init_status')], axis=1)\n",
        "loan_df.drop(['initial_list_status'], axis=1, inplace=True)"
      ],
      "execution_count": 0,
      "outputs": []
    },
    {
      "metadata": {
        "id": "26Yq-Bd8HczU",
        "colab_type": "text"
      },
      "cell_type": "markdown",
      "source": [
        "#### application_type \n",
        "Indicates whether the loan is an individual application or a joint application with two co-borrowers  "
      ]
    },
    {
      "metadata": {
        "id": "f7Bg7AJLHczV",
        "colab_type": "code",
        "colab": {
          "base_uri": "https://localhost:8080/",
          "height": 68
        },
        "outputId": "965dd877-111b-44bc-93fb-2dafa93f775c"
      },
      "cell_type": "code",
      "source": [
        "loan_df.application_type.value_counts(), loan_df.application_type.isnull().sum()"
      ],
      "execution_count": 60,
      "outputs": [
        {
          "output_type": "execute_result",
          "data": {
            "text/plain": [
              "(Individual    101437\n",
              " Joint App      17211\n",
              " Name: application_type, dtype: int64, 0)"
            ]
          },
          "metadata": {
            "tags": []
          },
          "execution_count": 60
        }
      ]
    },
    {
      "metadata": {
        "id": "S2K5vatDHczZ",
        "colab_type": "code",
        "colab": {}
      },
      "cell_type": "code",
      "source": [
        "loan_df = pd.concat([loan_df, pd.get_dummies(loan_df['application_type'], prefix='app_type')], axis=1)\n",
        "loan_df.drop(['application_type'], axis=1, inplace=True)"
      ],
      "execution_count": 0,
      "outputs": []
    },
    {
      "metadata": {
        "id": "E6YVgwOYHcza",
        "colab_type": "text"
      },
      "cell_type": "markdown",
      "source": [
        "#### hardship_flag\n",
        "Flags whether or not the borrower is on a hardship plan  "
      ]
    },
    {
      "metadata": {
        "id": "WuiCE0G7Hczc",
        "colab_type": "code",
        "colab": {
          "base_uri": "https://localhost:8080/",
          "height": 68
        },
        "outputId": "a429abb0-feb3-4042-f141-d34a9d5ecba9"
      },
      "cell_type": "code",
      "source": [
        "loan_df.hardship_flag.value_counts(), loan_df.hardship_flag.isnull().sum()"
      ],
      "execution_count": 62,
      "outputs": [
        {
          "output_type": "execute_result",
          "data": {
            "text/plain": [
              "(N    118647\n",
              " Y         1\n",
              " Name: hardship_flag, dtype: int64, 0)"
            ]
          },
          "metadata": {
            "tags": []
          },
          "execution_count": 62
        }
      ]
    },
    {
      "metadata": {
        "id": "zE5UbljTHcze",
        "colab_type": "code",
        "colab": {}
      },
      "cell_type": "code",
      "source": [
        "loan_df = pd.concat([loan_df, pd.get_dummies(loan_df['hardship_flag'], prefix='hship')], axis=1)\n",
        "loan_df.drop(['hardship_flag'], axis=1, inplace=True)"
      ],
      "execution_count": 0,
      "outputs": []
    },
    {
      "metadata": {
        "id": "3giXXzyUHczg",
        "colab_type": "text"
      },
      "cell_type": "markdown",
      "source": [
        "####  disbursement_method\n",
        "The method by which the borrower receives their loan. Possible values are: CASH, DIRECT_PAY  "
      ]
    },
    {
      "metadata": {
        "id": "brpnSD24Hczk",
        "colab_type": "code",
        "colab": {
          "base_uri": "https://localhost:8080/",
          "height": 68
        },
        "outputId": "350cc82c-2d94-4524-a763-4fb227d2fa69"
      },
      "cell_type": "code",
      "source": [
        "loan_df.disbursement_method.value_counts(), loan_df.disbursement_method.isnull().sum()"
      ],
      "execution_count": 64,
      "outputs": [
        {
          "output_type": "execute_result",
          "data": {
            "text/plain": [
              "(Cash         115065\n",
              " DirectPay      3583\n",
              " Name: disbursement_method, dtype: int64, 0)"
            ]
          },
          "metadata": {
            "tags": []
          },
          "execution_count": 64
        }
      ]
    },
    {
      "metadata": {
        "id": "I4FOmieUHczq",
        "colab_type": "code",
        "colab": {}
      },
      "cell_type": "code",
      "source": [
        "loan_df = pd.concat([loan_df, pd.get_dummies(loan_df['disbursement_method'], prefix='disb')], axis=1)\n",
        "loan_df.drop(['disbursement_method'], axis=1, inplace=True)"
      ],
      "execution_count": 0,
      "outputs": []
    },
    {
      "metadata": {
        "id": "fG9HARpHHczu",
        "colab_type": "text"
      },
      "cell_type": "markdown",
      "source": [
        "#### debt_settlement_flag \n",
        "Flags whether or not the borrower, who has charged-off, is working with a debt-settlement company.  "
      ]
    },
    {
      "metadata": {
        "id": "kPYqK_mvHczu",
        "colab_type": "code",
        "colab": {
          "base_uri": "https://localhost:8080/",
          "height": 68
        },
        "outputId": "b2abb8c5-71ba-47bb-c4eb-e25bb3c35563"
      },
      "cell_type": "code",
      "source": [
        "loan_df.debt_settlement_flag.value_counts(), loan_df.debt_settlement_flag.isnull().sum()"
      ],
      "execution_count": 66,
      "outputs": [
        {
          "output_type": "execute_result",
          "data": {
            "text/plain": [
              "(N    118620\n",
              " Y        28\n",
              " Name: debt_settlement_flag, dtype: int64, 0)"
            ]
          },
          "metadata": {
            "tags": []
          },
          "execution_count": 66
        }
      ]
    },
    {
      "metadata": {
        "id": "EVLiov-vHczz",
        "colab_type": "code",
        "colab": {}
      },
      "cell_type": "code",
      "source": [
        "loan_df = pd.concat([loan_df, pd.get_dummies(loan_df['debt_settlement_flag'], prefix='debtset')], axis=1)\n",
        "loan_df.drop(['debt_settlement_flag'], axis=1, inplace=True)"
      ],
      "execution_count": 0,
      "outputs": []
    },
    {
      "metadata": {
        "id": "pVyBF0W4Hcz1",
        "colab_type": "text"
      },
      "cell_type": "markdown",
      "source": [
        "### 1.2.3) Work on NULL values data"
      ]
    },
    {
      "metadata": {
        "id": "6Jf8lgl7Hcz2",
        "colab_type": "code",
        "colab": {
          "base_uri": "https://localhost:8080/",
          "height": 323
        },
        "outputId": "8bfd0a3f-e915-482f-efe2-3d3e70553aa1"
      },
      "cell_type": "code",
      "source": [
        "loan_df.isnull().sum()[loan_df.isnull().sum()>0]"
      ],
      "execution_count": 68,
      "outputs": [
        {
          "output_type": "execute_result",
          "data": {
            "text/plain": [
              "dti                                 222\n",
              "mths_since_last_delinq            64803\n",
              "revol_util                          191\n",
              "mths_since_last_major_derog       89534\n",
              "mths_since_rcnt_il                 4341\n",
              "il_util                           18608\n",
              "all_util                             37\n",
              "avg_cur_bal                          11\n",
              "bc_open_to_buy                     1880\n",
              "bc_util                            1934\n",
              "mo_sin_old_il_acct                 4341\n",
              "mths_since_recent_bc               1769\n",
              "mths_since_recent_bc_dlq          94167\n",
              "mths_since_recent_inq             14800\n",
              "mths_since_recent_revol_delinq    83298\n",
              "num_tl_120dpd_2m                   6835\n",
              "percent_bc_gt_75                   1888\n",
              "dtype: int64"
            ]
          },
          "metadata": {
            "tags": []
          },
          "execution_count": 68
        }
      ]
    },
    {
      "metadata": {
        "id": "m5OzHosyHcz7",
        "colab_type": "text"
      },
      "cell_type": "markdown",
      "source": [
        "#### 1.2.3.1) dti\n",
        "A ratio calculated using the borrower’s total monthly debt payments on the total debt obligations, excluding mortgage and the requested LC loan, divided by the borrower’s self-reported monthly income."
      ]
    },
    {
      "metadata": {
        "id": "4pG8z9zaHcz8",
        "colab_type": "code",
        "colab": {
          "base_uri": "https://localhost:8080/",
          "height": 313
        },
        "outputId": "cdb2ef56-96f5-4b41-9507-a993776ba6f4"
      },
      "cell_type": "code",
      "source": [
        "print(loan_df.dti.isnull().sum())\n",
        "ax1 = loan_df.dti.dropna().hist(bins=100)\n",
        "ax1.set_xlabel('DTI')\n",
        "ax1.set_ylabel('Count')"
      ],
      "execution_count": 69,
      "outputs": [
        {
          "output_type": "stream",
          "text": [
            "222\n"
          ],
          "name": "stdout"
        },
        {
          "output_type": "execute_result",
          "data": {
            "text/plain": [
              "Text(0,0.5,'Count')"
            ]
          },
          "metadata": {
            "tags": []
          },
          "execution_count": 69
        },
        {
          "output_type": "display_data",
          "data": {
            "image/png": "[encoded data removed]",
            "text/plain": [
              "<matplotlib.figure.Figure at 0x7f8ac45f8438>"
            ]
          },
          "metadata": {
            "tags": []
          }
        }
      ]
    },
    {
      "metadata": {
        "id": "LbfKXuuHHc0L",
        "colab_type": "code",
        "colab": {}
      },
      "cell_type": "code",
      "source": [
        "avg_dti = loan_df.dti.mean()\n",
        "std_dti = loan_df.dti.std()\n",
        "countnan_dti = loan_df.dti.isnull().sum()\n",
        "random_dti = np.random.randint(std_dti-avg_dti, std_dti+avg_dti, size = countnan_dti)"
      ],
      "execution_count": 0,
      "outputs": []
    },
    {
      "metadata": {
        "id": "DwvqA9DCHc0O",
        "colab_type": "code",
        "colab": {}
      },
      "cell_type": "code",
      "source": [
        "loan_df.loc[np.isnan(loan_df['dti']),'dti'] = random_dti"
      ],
      "execution_count": 0,
      "outputs": []
    },
    {
      "metadata": {
        "id": "Tbk3kspmHc0Q",
        "colab_type": "text"
      },
      "cell_type": "markdown",
      "source": [
        "#### 1.2.3.2) mths_since_last_delinq\n",
        "The number of months since the borrower's last delinquency.  "
      ]
    },
    {
      "metadata": {
        "id": "Jfi5oqQFHc0R",
        "colab_type": "code",
        "colab": {
          "base_uri": "https://localhost:8080/",
          "height": 34
        },
        "outputId": "b51c5ca3-7507-4890-d9e0-bfa782f2dd55"
      },
      "cell_type": "code",
      "source": [
        "loan_df.mths_since_last_delinq.isnull().sum()"
      ],
      "execution_count": 72,
      "outputs": [
        {
          "output_type": "execute_result",
          "data": {
            "text/plain": [
              "64803"
            ]
          },
          "metadata": {
            "tags": []
          },
          "execution_count": 72
        }
      ]
    },
    {
      "metadata": {
        "id": "0ZOq4pUcHc0b",
        "colab_type": "code",
        "colab": {
          "base_uri": "https://localhost:8080/",
          "height": 282
        },
        "outputId": "28aa6e60-10b2-4599-d388-fc9bff1597d0"
      },
      "cell_type": "code",
      "source": [
        "loan_df.mths_since_last_delinq.dropna().hist(bins=100)"
      ],
      "execution_count": 73,
      "outputs": [
        {
          "output_type": "execute_result",
          "data": {
            "text/plain": [
              "<matplotlib.axes._subplots.AxesSubplot at 0x7f8ac4302908>"
            ]
          },
          "metadata": {
            "tags": []
          },
          "execution_count": 73
        },
        {
          "output_type": "display_data",
          "data": {
            "image/png": "[encoded data removed]",
            "text/plain": [
              "<matplotlib.figure.Figure at 0x7f8ac42172b0>"
            ]
          },
          "metadata": {
            "tags": []
          }
        }
      ]
    },
    {
      "metadata": {
        "id": "mqdxsQ0nHc0g",
        "colab_type": "code",
        "colab": {
          "base_uri": "https://localhost:8080/",
          "height": 85
        },
        "outputId": "4652987f-2750-45aa-ad8a-531bce2d3bc4"
      },
      "cell_type": "code",
      "source": [
        "avg_mths_since_last_delinq = loan_df.mths_since_last_delinq.mean()\n",
        "std_mths_since_last_delinq = loan_df.mths_since_last_delinq.std()\n",
        "countnan_mths_since_last_delinq = loan_df.mths_since_last_delinq.isnull().sum()\n",
        "random_mths_since_last_delinq = np.random.randint(std_mths_since_last_delinq-avg_mths_since_last_delinq, \n",
        "                                                  std_mths_since_last_delinq+avg_mths_since_last_delinq, \n",
        "                                                  size = countnan_mths_since_last_delinq)\n",
        "avg_mths_since_last_delinq, std_mths_since_last_delinq, countnan_mths_since_last_delinq, random_mths_since_last_delinq"
      ],
      "execution_count": 74,
      "outputs": [
        {
          "output_type": "execute_result",
          "data": {
            "text/plain": [
              "(36.68056458352679,\n",
              " 21.765067895595934,\n",
              " 64803,\n",
              " array([42,  5, 53, ..., 51, 19, 51]))"
            ]
          },
          "metadata": {
            "tags": []
          },
          "execution_count": 74
        }
      ]
    },
    {
      "metadata": {
        "id": "WQrPetYDHc0n",
        "colab_type": "code",
        "colab": {}
      },
      "cell_type": "code",
      "source": [
        "loan_df.loc[np.isnan(loan_df['mths_since_last_delinq']),'mths_since_last_delinq'] = np.random.randint(\n",
        "    loan_df.mths_since_last_delinq.std()-loan_df.mths_since_last_delinq.mean(), \n",
        "    loan_df.mths_since_last_delinq.std()+loan_df.mths_since_last_delinq.mean(), \n",
        "    size = loan_df.mths_since_last_delinq.isnull().sum())"
      ],
      "execution_count": 0,
      "outputs": []
    },
    {
      "metadata": {
        "id": "I2txTebKHc0s",
        "colab_type": "code",
        "colab": {
          "base_uri": "https://localhost:8080/",
          "height": 282
        },
        "outputId": "7c6606d8-248c-4cba-a386-14a240bdcb5b"
      },
      "cell_type": "code",
      "source": [
        "loan_df.mths_since_last_delinq.dropna().hist(bins=100)"
      ],
      "execution_count": 76,
      "outputs": [
        {
          "output_type": "execute_result",
          "data": {
            "text/plain": [
              "<matplotlib.axes._subplots.AxesSubplot at 0x7f8ac45f8128>"
            ]
          },
          "metadata": {
            "tags": []
          },
          "execution_count": 76
        },
        {
          "output_type": "display_data",
          "data": {
            "image/png": "[encoded data removed]",
            "text/plain": [
              "<matplotlib.figure.Figure at 0x7f8ac4b282e8>"
            ]
          },
          "metadata": {
            "tags": []
          }
        }
      ]
    },
    {
      "metadata": {
        "id": "lEPgBAQfHc00",
        "colab_type": "text"
      },
      "cell_type": "markdown",
      "source": [
        "#### 1.2.3.3) revol_util\n",
        "Revolving line utilization rate, or the amount of credit the borrower is using relative to all available revolving credit."
      ]
    },
    {
      "metadata": {
        "id": "bXUs7AkIHc01",
        "colab_type": "code",
        "colab": {
          "base_uri": "https://localhost:8080/",
          "height": 34
        },
        "outputId": "c4dbfe77-5d71-435e-f2b2-e89045e56e84"
      },
      "cell_type": "code",
      "source": [
        "loan_df.revol_util.isnull().sum()"
      ],
      "execution_count": 77,
      "outputs": [
        {
          "output_type": "execute_result",
          "data": {
            "text/plain": [
              "191"
            ]
          },
          "metadata": {
            "tags": []
          },
          "execution_count": 77
        }
      ]
    },
    {
      "metadata": {
        "id": "CJB6hCDvHc0_",
        "colab_type": "code",
        "colab": {
          "base_uri": "https://localhost:8080/",
          "height": 296
        },
        "outputId": "ac1b2f96-4845-4ac9-fe9a-7f61a07e213b"
      },
      "cell_type": "code",
      "source": [
        "ax1 = loan_df.revol_util.dropna().hist(bins=100)\n",
        "ax1.set_xlabel('Revolving Utilization Rate')\n",
        "ax1.set_ylabel('Count')"
      ],
      "execution_count": 78,
      "outputs": [
        {
          "output_type": "execute_result",
          "data": {
            "text/plain": [
              "Text(0,0.5,'Count')"
            ]
          },
          "metadata": {
            "tags": []
          },
          "execution_count": 78
        },
        {
          "output_type": "display_data",
          "data": {
            "image/png": "[encoded data removed]",
            "text/plain": [
              "<matplotlib.figure.Figure at 0x7f8ac45f80f0>"
            ]
          },
          "metadata": {
            "tags": []
          }
        }
      ]
    },
    {
      "metadata": {
        "id": "7-Hk6qeXHc1E",
        "colab_type": "code",
        "colab": {
          "base_uri": "https://localhost:8080/",
          "height": 34
        },
        "outputId": "16a98df1-63f4-4755-8e45-e5597114be95"
      },
      "cell_type": "code",
      "source": [
        "avg_revol_util = loan_df.revol_util.mean()\n",
        "std_revol_util = loan_df.revol_util.std()\n",
        "countnan_revol_utili = loan_df.revol_util.isnull().sum()\n",
        "avg_revol_util, std_revol_util, countnan_revol_utili"
      ],
      "execution_count": 79,
      "outputs": [
        {
          "output_type": "execute_result",
          "data": {
            "text/plain": [
              "(0.44344130781633845, 0.2524285693378544, 191)"
            ]
          },
          "metadata": {
            "tags": []
          },
          "execution_count": 79
        }
      ]
    },
    {
      "metadata": {
        "id": "9c_lkvE2Hc1H",
        "colab_type": "code",
        "colab": {}
      },
      "cell_type": "code",
      "source": [
        "loan_df.loc[loan_df.revol_util.isnull(),'revol_util'] = avg_revol_util"
      ],
      "execution_count": 0,
      "outputs": []
    },
    {
      "metadata": {
        "id": "Is3ExDjVHc1J",
        "colab_type": "text"
      },
      "cell_type": "markdown",
      "source": [
        "#### 1.2.3.4) last_pymnt_d, next_pymnt_d\n",
        "Last month payment was received.  \n",
        "When the last_pymnt_amnt is 0, last_pymnt_d is NULL. This is as per design and hence data cleaning or removing is not required.\n",
        "\n",
        "next_pymnt_d - Next scheduled payment date.  \n",
        "When the loan_status is charged off or fully paid, the next scheduled payment date is null. This is as per design and hence data cleaning or removing is not required."
      ]
    },
    {
      "metadata": {
        "id": "SQpfP0usHc1J",
        "colab_type": "text"
      },
      "cell_type": "markdown",
      "source": [
        "#### 1.2.3.5) last_credit_pull_d\n",
        "The most recent month LC pulled credit for this loan"
      ]
    },
    {
      "metadata": {
        "id": "WgZXwM0iHc1K",
        "colab_type": "code",
        "colab": {
          "base_uri": "https://localhost:8080/",
          "height": 34
        },
        "outputId": "afd61857-8546-4863-c9d8-61778a818c7f"
      },
      "cell_type": "code",
      "source": [
        "loan_df.last_credit_pull_d.isnull().sum()"
      ],
      "execution_count": 81,
      "outputs": [
        {
          "output_type": "execute_result",
          "data": {
            "text/plain": [
              "0"
            ]
          },
          "metadata": {
            "tags": []
          },
          "execution_count": 81
        }
      ]
    },
    {
      "metadata": {
        "id": "K4e1OEW3Hc1M",
        "colab_type": "text"
      },
      "cell_type": "markdown",
      "source": [
        "#### 1.2.3.6) mths_since_rcnt_il\n",
        "Months since most recent installment accounts opened"
      ]
    },
    {
      "metadata": {
        "id": "dFcMmRb6Hc1N",
        "colab_type": "code",
        "colab": {
          "base_uri": "https://localhost:8080/",
          "height": 34
        },
        "outputId": "7a43ca32-16c9-4c9e-9a73-54d199adcf22"
      },
      "cell_type": "code",
      "source": [
        "loan_df.mths_since_rcnt_il.isnull().sum()"
      ],
      "execution_count": 82,
      "outputs": [
        {
          "output_type": "execute_result",
          "data": {
            "text/plain": [
              "4341"
            ]
          },
          "metadata": {
            "tags": []
          },
          "execution_count": 82
        }
      ]
    },
    {
      "metadata": {
        "id": "Fcvn7gU-Hc1Q",
        "colab_type": "code",
        "colab": {
          "base_uri": "https://localhost:8080/",
          "height": 296
        },
        "outputId": "6a72fbb8-7f4b-42a9-e68b-940f439c22df"
      },
      "cell_type": "code",
      "source": [
        "ax1 = loan_df.mths_since_rcnt_il.dropna().hist(bins=100)\n",
        "ax1.set_xlabel('mths_since_rcnt_il')\n",
        "ax1.set_ylabel('Count')"
      ],
      "execution_count": 83,
      "outputs": [
        {
          "output_type": "execute_result",
          "data": {
            "text/plain": [
              "Text(0,0.5,'Count')"
            ]
          },
          "metadata": {
            "tags": []
          },
          "execution_count": 83
        },
        {
          "output_type": "display_data",
          "data": {
            "image/png": "[encoded data removed]",
            "text/plain": [
              "<matplotlib.figure.Figure at 0x7f8ac439d2b0>"
            ]
          },
          "metadata": {
            "tags": []
          }
        }
      ]
    },
    {
      "metadata": {
        "id": "P2qj1inyHc1T",
        "colab_type": "code",
        "colab": {
          "base_uri": "https://localhost:8080/",
          "height": 34
        },
        "outputId": "2ce937f0-e158-41cc-c4a0-4b657d9b7d50"
      },
      "cell_type": "code",
      "source": [
        "avg_m = loan_df.mths_since_rcnt_il.mean()\n",
        "std_m = loan_df.mths_since_rcnt_il.std()\n",
        "countnan_m = loan_df.mths_since_rcnt_il.isnull().sum()\n",
        "avg_m, std_m, countnan_m"
      ],
      "execution_count": 84,
      "outputs": [
        {
          "output_type": "execute_result",
          "data": {
            "text/plain": [
              "(21.19127437514763, 26.36255398466649, 4341)"
            ]
          },
          "metadata": {
            "tags": []
          },
          "execution_count": 84
        }
      ]
    },
    {
      "metadata": {
        "id": "jX3f2iJ4Hc1V",
        "colab_type": "code",
        "colab": {}
      },
      "cell_type": "code",
      "source": [
        "random_m = np.random.randint(std_m-avg_m, std_m+avg_m, size = countnan_m)\n",
        "loan_df.loc[loan_df.mths_since_rcnt_il.isnull(), 'mths_since_rcnt_il'] = random_m"
      ],
      "execution_count": 0,
      "outputs": []
    },
    {
      "metadata": {
        "id": "DOB4AvsNHc1X",
        "colab_type": "text"
      },
      "cell_type": "markdown",
      "source": [
        "#### 1.2.3.7) il_util\n",
        "Ratio of total current balance to high credit/credit limit on all install acct"
      ]
    },
    {
      "metadata": {
        "id": "s7vL9qtzHc1Y",
        "colab_type": "code",
        "colab": {
          "base_uri": "https://localhost:8080/",
          "height": 34
        },
        "outputId": "9c52aed7-8dab-40aa-a472-c1416dca1707"
      },
      "cell_type": "code",
      "source": [
        "loan_df.il_util.isnull().sum()"
      ],
      "execution_count": 86,
      "outputs": [
        {
          "output_type": "execute_result",
          "data": {
            "text/plain": [
              "18608"
            ]
          },
          "metadata": {
            "tags": []
          },
          "execution_count": 86
        }
      ]
    },
    {
      "metadata": {
        "id": "7K3dWaLoHc1a",
        "colab_type": "code",
        "colab": {
          "base_uri": "https://localhost:8080/",
          "height": 296
        },
        "outputId": "35e05822-6fb5-4434-da99-2d182bff992f"
      },
      "cell_type": "code",
      "source": [
        "ax1 = loan_df.il_util.dropna().hist(bins=100)\n",
        "ax1.set_xlabel('all_util')\n",
        "ax1.set_ylabel('Count')"
      ],
      "execution_count": 87,
      "outputs": [
        {
          "output_type": "execute_result",
          "data": {
            "text/plain": [
              "Text(0,0.5,'Count')"
            ]
          },
          "metadata": {
            "tags": []
          },
          "execution_count": 87
        },
        {
          "output_type": "display_data",
          "data": {
            "image/png": "[encoded data removed]",
            "text/plain": [
              "<matplotlib.figure.Figure at 0x7f8ac43eec18>"
            ]
          },
          "metadata": {
            "tags": []
          }
        }
      ]
    },
    {
      "metadata": {
        "id": "EvIPxagfHc1d",
        "colab_type": "code",
        "colab": {
          "base_uri": "https://localhost:8080/",
          "height": 34
        },
        "outputId": "2104f9ce-b475-496b-f0ac-792f7e2e72ce"
      },
      "cell_type": "code",
      "source": [
        "loan_df.il_util.mean(), loan_df.il_util.std(), loan_df.il_util.median(), loan_df.il_util.isnull().sum()"
      ],
      "execution_count": 88,
      "outputs": [
        {
          "output_type": "execute_result",
          "data": {
            "text/plain": [
              "(67.62686925229907, 23.952642931504876, 70.0, 18608)"
            ]
          },
          "metadata": {
            "tags": []
          },
          "execution_count": 88
        }
      ]
    },
    {
      "metadata": {
        "id": "a5pW0dQDHc1g",
        "colab_type": "code",
        "colab": {}
      },
      "cell_type": "code",
      "source": [
        "loan_df.loc[loan_df.il_util.isnull(), 'il_util'] = loan_df.il_util.mean()"
      ],
      "execution_count": 0,
      "outputs": []
    },
    {
      "metadata": {
        "id": "4mC6Wu1BHc1i",
        "colab_type": "text"
      },
      "cell_type": "markdown",
      "source": [
        "#### 1.2.3.8) all_util\n",
        "Balance to credit limit on all trades"
      ]
    },
    {
      "metadata": {
        "id": "TD2Q9MzVHc1i",
        "colab_type": "code",
        "colab": {
          "base_uri": "https://localhost:8080/",
          "height": 34
        },
        "outputId": "5df1e87c-4ab8-495c-9ddd-204a8fec3ed4"
      },
      "cell_type": "code",
      "source": [
        "loan_df.all_util.isnull().sum()"
      ],
      "execution_count": 90,
      "outputs": [
        {
          "output_type": "execute_result",
          "data": {
            "text/plain": [
              "37"
            ]
          },
          "metadata": {
            "tags": []
          },
          "execution_count": 90
        }
      ]
    },
    {
      "metadata": {
        "id": "k15f7hZTHc1l",
        "colab_type": "code",
        "colab": {
          "base_uri": "https://localhost:8080/",
          "height": 296
        },
        "outputId": "b6a29def-09fc-4fd2-f1d6-402921f27452"
      },
      "cell_type": "code",
      "source": [
        "ax1 = loan_df.all_util.dropna().hist(bins=100)\n",
        "ax1.set_xlabel('all_util')\n",
        "ax1.set_ylabel('Count')"
      ],
      "execution_count": 91,
      "outputs": [
        {
          "output_type": "execute_result",
          "data": {
            "text/plain": [
              "Text(0,0.5,'Count')"
            ]
          },
          "metadata": {
            "tags": []
          },
          "execution_count": 91
        },
        {
          "output_type": "display_data",
          "data": {
            "image/png": "[encoded data removed]",
            "text/plain": [
              "<matplotlib.figure.Figure at 0x7f8ac43b6748>"
            ]
          },
          "metadata": {
            "tags": []
          }
        }
      ]
    },
    {
      "metadata": {
        "id": "r0MEX4dDHc1o",
        "colab_type": "code",
        "colab": {
          "base_uri": "https://localhost:8080/",
          "height": 34
        },
        "outputId": "700cedb9-fd39-4047-895c-a59e78a918d6"
      },
      "cell_type": "code",
      "source": [
        "loan_df.all_util.mean(), loan_df.all_util.std(), loan_df.all_util.isnull().sum()"
      ],
      "execution_count": 92,
      "outputs": [
        {
          "output_type": "execute_result",
          "data": {
            "text/plain": [
              "(54.37487248231614, 21.413863717498025, 37)"
            ]
          },
          "metadata": {
            "tags": []
          },
          "execution_count": 92
        }
      ]
    },
    {
      "metadata": {
        "id": "1vrAM9DGHc1q",
        "colab_type": "code",
        "colab": {}
      },
      "cell_type": "code",
      "source": [
        "loan_df.loc[loan_df.all_util.isnull(), 'all_util'] = loan_df.all_util.mean()"
      ],
      "execution_count": 0,
      "outputs": []
    },
    {
      "metadata": {
        "id": "Sv81YYK9Hc1t",
        "colab_type": "text"
      },
      "cell_type": "markdown",
      "source": [
        "#### 1.2.3.9) avg_cur_bal\n",
        "Average current balance of all accounts"
      ]
    },
    {
      "metadata": {
        "id": "nj1xL5rpHc1t",
        "colab_type": "code",
        "colab": {
          "base_uri": "https://localhost:8080/",
          "height": 34
        },
        "outputId": "0ea85dd9-0970-4757-adb9-3f05b45d0181"
      },
      "cell_type": "code",
      "source": [
        "loan_df.avg_cur_bal.isnull().sum()"
      ],
      "execution_count": 94,
      "outputs": [
        {
          "output_type": "execute_result",
          "data": {
            "text/plain": [
              "11"
            ]
          },
          "metadata": {
            "tags": []
          },
          "execution_count": 94
        }
      ]
    },
    {
      "metadata": {
        "id": "GTWYOWEIHc1x",
        "colab_type": "code",
        "colab": {
          "base_uri": "https://localhost:8080/",
          "height": 282
        },
        "outputId": "1c88073b-5d1e-499c-edfc-98fef27e97ba"
      },
      "cell_type": "code",
      "source": [
        "loan_df.avg_cur_bal.dropna().hist(bins=100)"
      ],
      "execution_count": 95,
      "outputs": [
        {
          "output_type": "execute_result",
          "data": {
            "text/plain": [
              "<matplotlib.axes._subplots.AxesSubplot at 0x7f8ac1f181d0>"
            ]
          },
          "metadata": {
            "tags": []
          },
          "execution_count": 95
        },
        {
          "output_type": "display_data",
          "data": {
            "image/png": "[encoded data removed]",
            "text/plain": [
              "<matplotlib.figure.Figure at 0x7f8ac1f572b0>"
            ]
          },
          "metadata": {
            "tags": []
          }
        }
      ]
    },
    {
      "metadata": {
        "id": "zcfLW5_tHc11",
        "colab_type": "code",
        "colab": {}
      },
      "cell_type": "code",
      "source": [
        "loan_df.loc[loan_df.avg_cur_bal.isnull(), 'avg_cur_bal'] = loan_df.avg_cur_bal.median()"
      ],
      "execution_count": 0,
      "outputs": []
    },
    {
      "metadata": {
        "id": "oid5ehX3Hc17",
        "colab_type": "text"
      },
      "cell_type": "markdown",
      "source": [
        "#### 1.2.3.10) bc_open_to_buy\n",
        "Total open to buy on revolving bankcards."
      ]
    },
    {
      "metadata": {
        "id": "nEGpWU5oHc17",
        "colab_type": "code",
        "colab": {
          "base_uri": "https://localhost:8080/",
          "height": 34
        },
        "outputId": "00f091e0-fc68-4165-fa58-01bff60280ba"
      },
      "cell_type": "code",
      "source": [
        "loan_df.bc_open_to_buy.isnull().sum()"
      ],
      "execution_count": 97,
      "outputs": [
        {
          "output_type": "execute_result",
          "data": {
            "text/plain": [
              "1880"
            ]
          },
          "metadata": {
            "tags": []
          },
          "execution_count": 97
        }
      ]
    },
    {
      "metadata": {
        "id": "He9s0IlrHc2C",
        "colab_type": "code",
        "colab": {
          "base_uri": "https://localhost:8080/",
          "height": 282
        },
        "outputId": "d71c736e-3451-4007-d33e-bd5122996ac6"
      },
      "cell_type": "code",
      "source": [
        "loan_df.bc_open_to_buy.dropna().hist(bins=100)"
      ],
      "execution_count": 98,
      "outputs": [
        {
          "output_type": "execute_result",
          "data": {
            "text/plain": [
              "<matplotlib.axes._subplots.AxesSubplot at 0x7f8ac1ea8a20>"
            ]
          },
          "metadata": {
            "tags": []
          },
          "execution_count": 98
        },
        {
          "output_type": "display_data",
          "data": {
            "image/png": "[encoded data removed]",
            "text/plain": [
              "<matplotlib.figure.Figure at 0x7f8ac1ecf518>"
            ]
          },
          "metadata": {
            "tags": []
          }
        }
      ]
    },
    {
      "metadata": {
        "id": "CGLyrtdAHc2G",
        "colab_type": "code",
        "colab": {}
      },
      "cell_type": "code",
      "source": [
        "loan_df.loc[loan_df.bc_open_to_buy.isnull(), 'bc_open_to_buy'] = loan_df.bc_open_to_buy.median()"
      ],
      "execution_count": 0,
      "outputs": []
    },
    {
      "metadata": {
        "id": "5SQp_7hWHc2K",
        "colab_type": "text"
      },
      "cell_type": "markdown",
      "source": [
        "#### 1.2.3.11) bc_util\n",
        "Ratio of total current balance to high credit/credit limit for all bankcard accounts."
      ]
    },
    {
      "metadata": {
        "id": "lH9FQawgHc2K",
        "colab_type": "code",
        "colab": {
          "base_uri": "https://localhost:8080/",
          "height": 34
        },
        "outputId": "bbd9782b-f8b4-4f6a-f6a4-76bf2f2b8fe0"
      },
      "cell_type": "code",
      "source": [
        "loan_df.bc_util.isnull().sum()"
      ],
      "execution_count": 100,
      "outputs": [
        {
          "output_type": "execute_result",
          "data": {
            "text/plain": [
              "1934"
            ]
          },
          "metadata": {
            "tags": []
          },
          "execution_count": 100
        }
      ]
    },
    {
      "metadata": {
        "id": "MJ2HMLpuHc2O",
        "colab_type": "code",
        "colab": {
          "base_uri": "https://localhost:8080/",
          "height": 282
        },
        "outputId": "0ab97044-4089-4ad9-9300-66702b9db22f"
      },
      "cell_type": "code",
      "source": [
        "loan_df.bc_util.dropna().hist(bins=100)"
      ],
      "execution_count": 101,
      "outputs": [
        {
          "output_type": "execute_result",
          "data": {
            "text/plain": [
              "<matplotlib.axes._subplots.AxesSubplot at 0x7f8ac1d93668>"
            ]
          },
          "metadata": {
            "tags": []
          },
          "execution_count": 101
        },
        {
          "output_type": "display_data",
          "data": {
            "image/png": "[encoded data removed]",
            "text/plain": [
              "<matplotlib.figure.Figure at 0x7f8ac20010f0>"
            ]
          },
          "metadata": {
            "tags": []
          }
        }
      ]
    },
    {
      "metadata": {
        "id": "D8KaTQTXHc2T",
        "colab_type": "code",
        "colab": {
          "base_uri": "https://localhost:8080/",
          "height": 34
        },
        "outputId": "4eb5f6f4-8aec-48c0-dd6e-a0f651c28af4"
      },
      "cell_type": "code",
      "source": [
        "loan_df.bc_util.mean(), loan_df.bc_util.median(), loan_df.bc_util.std(), loan_df.bc_util.isnull().sum()"
      ],
      "execution_count": 102,
      "outputs": [
        {
          "output_type": "execute_result",
          "data": {
            "text/plain": [
              "(50.38467621707764, 49.4, 29.27889682895024, 1934)"
            ]
          },
          "metadata": {
            "tags": []
          },
          "execution_count": 102
        }
      ]
    },
    {
      "metadata": {
        "id": "Om5dFxu8Hc2i",
        "colab_type": "code",
        "colab": {}
      },
      "cell_type": "code",
      "source": [
        "random_bcutil = np.random.randint(loan_df.bc_util.mean()-loan_df.bc_util.std(), loan_df.bc_util.mean()+loan_df.bc_util.std(),\n",
        "                                 size = loan_df.bc_util.isnull().sum())\n",
        "loan_df.loc[loan_df.bc_util.isnull(),'bc_util'] = random_bcutil"
      ],
      "execution_count": 0,
      "outputs": []
    },
    {
      "metadata": {
        "id": "VKPdCgmlHc2k",
        "colab_type": "text"
      },
      "cell_type": "markdown",
      "source": [
        "#### 1.2.3.12) mo_sin_old_il_acct\n",
        "Months since oldest bank installment account opened\n"
      ]
    },
    {
      "metadata": {
        "id": "qEHjeRLdHc2k",
        "colab_type": "code",
        "colab": {
          "base_uri": "https://localhost:8080/",
          "height": 34
        },
        "outputId": "afe3bbdf-c68a-41c7-a395-18d85bffbc00"
      },
      "cell_type": "code",
      "source": [
        "loan_df.mo_sin_old_il_acct.isnull().sum()"
      ],
      "execution_count": 104,
      "outputs": [
        {
          "output_type": "execute_result",
          "data": {
            "text/plain": [
              "4341"
            ]
          },
          "metadata": {
            "tags": []
          },
          "execution_count": 104
        }
      ]
    },
    {
      "metadata": {
        "id": "_zvY6ZAdHc2n",
        "colab_type": "code",
        "colab": {
          "base_uri": "https://localhost:8080/",
          "height": 282
        },
        "outputId": "6dfb5cab-f799-4b7d-eb26-4606b1a431b9"
      },
      "cell_type": "code",
      "source": [
        "loan_df.mo_sin_old_il_acct.hist(bins=100)"
      ],
      "execution_count": 105,
      "outputs": [
        {
          "output_type": "execute_result",
          "data": {
            "text/plain": [
              "<matplotlib.axes._subplots.AxesSubplot at 0x7f8ac1cf9dd8>"
            ]
          },
          "metadata": {
            "tags": []
          },
          "execution_count": 105
        },
        {
          "output_type": "display_data",
          "data": {
            "image/png": "[encoded data removed]",
            "text/plain": [
              "<matplotlib.figure.Figure at 0x7f8ac2075fd0>"
            ]
          },
          "metadata": {
            "tags": []
          }
        }
      ]
    },
    {
      "metadata": {
        "id": "n10urmvQHc2s",
        "colab_type": "code",
        "colab": {
          "base_uri": "https://localhost:8080/",
          "height": 34
        },
        "outputId": "8b9b0e0c-10cb-40d5-9f6c-85a16f37bfcf"
      },
      "cell_type": "code",
      "source": [
        "loan_df.mo_sin_old_il_acct.mean(), loan_df.mo_sin_old_il_acct.median(), loan_df.mo_sin_old_il_acct.std(), loan_df.mo_sin_old_il_acct.isnull().sum()"
      ],
      "execution_count": 106,
      "outputs": [
        {
          "output_type": "execute_result",
          "data": {
            "text/plain": [
              "(123.27686843325431, 130.0, 54.90428773556194, 4341)"
            ]
          },
          "metadata": {
            "tags": []
          },
          "execution_count": 106
        }
      ]
    },
    {
      "metadata": {
        "id": "MG62WsROHc2v",
        "colab_type": "code",
        "colab": {}
      },
      "cell_type": "code",
      "source": [
        "random_mo_oldil = np.random.randint(loan_df.mo_sin_old_il_acct.mean()-loan_df.mo_sin_old_il_acct.std(),\n",
        "                                   loan_df.mo_sin_old_il_acct.mean()+loan_df.mo_sin_old_il_acct.std(),\n",
        "                                   size = loan_df.mo_sin_old_il_acct.isnull().sum())\n",
        "loan_df.loc[loan_df.mo_sin_old_il_acct.isnull(), 'mo_sin_old_il_acct'] = random_mo_oldil"
      ],
      "execution_count": 0,
      "outputs": []
    },
    {
      "metadata": {
        "id": "sdGyb6r4Hc2x",
        "colab_type": "text"
      },
      "cell_type": "markdown",
      "source": [
        "#### 1.2.3.13) mths_since_recent_bc, mths_since_recent_bc_dlq, mths_since_recent_inq & mths_since_recent_revol_delinq \n",
        "mths_since_recent_bc - Months since most recent bankcard account opened.  \n",
        "mths_since_recent_bc_dlq - Months since most recent bankcard delinquency.  \n",
        "mths_since_recent_inq - Months since most recent inquiry.  \n",
        "mths_since_recent_revol_delinq - Months since most recent revolving delinquency.  "
      ]
    },
    {
      "metadata": {
        "id": "WfzxjAZaHc2y",
        "colab_type": "code",
        "colab": {
          "base_uri": "https://localhost:8080/",
          "height": 34
        },
        "outputId": "9911bfd7-0d6d-4e79-9ec0-47562ce19713"
      },
      "cell_type": "code",
      "source": [
        "loan_df.mths_since_recent_bc.isnull().sum(), loan_df.mths_since_recent_bc_dlq.isnull().sum()"
      ],
      "execution_count": 108,
      "outputs": [
        {
          "output_type": "execute_result",
          "data": {
            "text/plain": [
              "(1769, 94167)"
            ]
          },
          "metadata": {
            "tags": []
          },
          "execution_count": 108
        }
      ]
    },
    {
      "metadata": {
        "id": "vuQiO54VHc23",
        "colab_type": "code",
        "colab": {
          "base_uri": "https://localhost:8080/",
          "height": 282
        },
        "outputId": "1329ef2b-b603-4f9b-f9d5-09776b2fa93a"
      },
      "cell_type": "code",
      "source": [
        "loan_df.mths_since_recent_bc.dropna().hist(bins=100)"
      ],
      "execution_count": 109,
      "outputs": [
        {
          "output_type": "execute_result",
          "data": {
            "text/plain": [
              "<matplotlib.axes._subplots.AxesSubplot at 0x7f8ac1c5f240>"
            ]
          },
          "metadata": {
            "tags": []
          },
          "execution_count": 109
        },
        {
          "output_type": "display_data",
          "data": {
            "image/png": "[encoded data removed]",
            "text/plain": [
              "<matplotlib.figure.Figure at 0x7f8ac2075f60>"
            ]
          },
          "metadata": {
            "tags": []
          }
        }
      ]
    },
    {
      "metadata": {
        "id": "zKxNIEmVHc27",
        "colab_type": "code",
        "colab": {}
      },
      "cell_type": "code",
      "source": [
        "loan_df.loc[loan_df.mths_since_recent_bc.isnull(), 'mths_since_recent_bc'] = loan_df.mths_since_recent_bc.median()"
      ],
      "execution_count": 0,
      "outputs": []
    },
    {
      "metadata": {
        "id": "NbZFKm3SHc28",
        "colab_type": "code",
        "colab": {
          "base_uri": "https://localhost:8080/",
          "height": 282
        },
        "outputId": "f398aae4-3591-4093-b582-460da5511bd3"
      },
      "cell_type": "code",
      "source": [
        "loan_df.mths_since_recent_bc_dlq.dropna().hist(bins=100)"
      ],
      "execution_count": 111,
      "outputs": [
        {
          "output_type": "execute_result",
          "data": {
            "text/plain": [
              "<matplotlib.axes._subplots.AxesSubplot at 0x7f8ac1941c18>"
            ]
          },
          "metadata": {
            "tags": []
          },
          "execution_count": 111
        },
        {
          "output_type": "display_data",
          "data": {
            "image/png": "[encoded data removed]",
            "text/plain": [
              "<matplotlib.figure.Figure at 0x7f8ac1b1ab38>"
            ]
          },
          "metadata": {
            "tags": []
          }
        }
      ]
    },
    {
      "metadata": {
        "id": "ZOsitRwSHc3A",
        "colab_type": "code",
        "colab": {}
      },
      "cell_type": "code",
      "source": [
        "loan_df.loc[loan_df.mths_since_recent_bc_dlq.isnull(), 'mths_since_recent_bc_dlq'] = np.random.randint(loan_df.mths_since_recent_bc_dlq.mean()-loan_df.mths_since_recent_bc_dlq.std(),\n",
        "                                   loan_df.mths_since_recent_bc_dlq.mean()+loan_df.mths_since_recent_bc_dlq.std(),\n",
        "                                   size = loan_df.mths_since_recent_bc_dlq.isnull().sum())"
      ],
      "execution_count": 0,
      "outputs": []
    },
    {
      "metadata": {
        "id": "jsrJbKwFHc3D",
        "colab_type": "code",
        "colab": {
          "base_uri": "https://localhost:8080/",
          "height": 34
        },
        "outputId": "46643755-0fcd-4049-8646-822879c25a01"
      },
      "cell_type": "code",
      "source": [
        "loan_df.mths_since_recent_inq.isnull().sum(), loan_df.mths_since_recent_revol_delinq.isnull().sum()"
      ],
      "execution_count": 113,
      "outputs": [
        {
          "output_type": "execute_result",
          "data": {
            "text/plain": [
              "(14800, 83298)"
            ]
          },
          "metadata": {
            "tags": []
          },
          "execution_count": 113
        }
      ]
    },
    {
      "metadata": {
        "id": "rUPKpMemHc3H",
        "colab_type": "code",
        "colab": {
          "base_uri": "https://localhost:8080/",
          "height": 282
        },
        "outputId": "95a45ee6-8ca4-4acc-a7b4-343f145fcd27"
      },
      "cell_type": "code",
      "source": [
        "loan_df.mths_since_recent_inq.dropna().hist(bins=100)"
      ],
      "execution_count": 114,
      "outputs": [
        {
          "output_type": "execute_result",
          "data": {
            "text/plain": [
              "<matplotlib.axes._subplots.AxesSubplot at 0x7f8ac180b470>"
            ]
          },
          "metadata": {
            "tags": []
          },
          "execution_count": 114
        },
        {
          "output_type": "display_data",
          "data": {
            "image/png": "[encoded data removed]",
            "text/plain": [
              "<matplotlib.figure.Figure at 0x7f8ac1e2bb70>"
            ]
          },
          "metadata": {
            "tags": []
          }
        }
      ]
    },
    {
      "metadata": {
        "id": "1X1UGtyfHc3O",
        "colab_type": "code",
        "colab": {
          "base_uri": "https://localhost:8080/",
          "height": 287
        },
        "outputId": "9dbbcb83-2499-47fa-d5c7-334051ec39bf"
      },
      "cell_type": "code",
      "source": [
        "loan_df.mths_since_recent_revol_delinq.dropna().hist(bins=100)"
      ],
      "execution_count": 115,
      "outputs": [
        {
          "output_type": "execute_result",
          "data": {
            "text/plain": [
              "<matplotlib.axes._subplots.AxesSubplot at 0x7f8ac172ea20>"
            ]
          },
          "metadata": {
            "tags": []
          },
          "execution_count": 115
        },
        {
          "output_type": "display_data",
          "data": {
            "image/png": "[encoded data removed]",
            "text/plain": [
              "<matplotlib.figure.Figure at 0x7f8ac19fbe80>"
            ]
          },
          "metadata": {
            "tags": []
          }
        }
      ]
    },
    {
      "metadata": {
        "id": "5zkQ83aVHc3Q",
        "colab_type": "code",
        "colab": {}
      },
      "cell_type": "code",
      "source": [
        "loan_df.loc[loan_df.mths_since_recent_inq.isnull(), 'mths_since_recent_inq'] = loan_df.mths_since_recent_inq.median()\n",
        "loan_df.loc[loan_df.mths_since_recent_revol_delinq.isnull(), 'mths_since_recent_revol_delinq'] = np.random.randint(loan_df.mths_since_recent_revol_delinq.mean()-loan_df.mths_since_recent_revol_delinq.std(),\n",
        "                                   loan_df.mths_since_recent_revol_delinq.mean()+loan_df.mths_since_recent_revol_delinq.std(),\n",
        "                                   size = loan_df.mths_since_recent_revol_delinq.isnull().sum())"
      ],
      "execution_count": 0,
      "outputs": []
    },
    {
      "metadata": {
        "id": "xzxysz3LHc3V",
        "colab_type": "text"
      },
      "cell_type": "markdown",
      "source": [
        "#### 1.2.3.14) num_tl_120dpd_2m\n",
        "Number of accounts currently 120 days past due (updated in past 2 months)"
      ]
    },
    {
      "metadata": {
        "id": "9ZRUGhUhHc3V",
        "colab_type": "code",
        "colab": {
          "base_uri": "https://localhost:8080/",
          "height": 85
        },
        "outputId": "8340d9cc-e222-4b00-d000-b031c9fb51b2"
      },
      "cell_type": "code",
      "source": [
        "loan_df.num_tl_120dpd_2m.isnull().sum(), loan_df.num_tl_120dpd_2m.value_counts()"
      ],
      "execution_count": 117,
      "outputs": [
        {
          "output_type": "execute_result",
          "data": {
            "text/plain": [
              "(6835, 0.0    111808\n",
              " 1.0         4\n",
              " 3.0         1\n",
              " Name: num_tl_120dpd_2m, dtype: int64)"
            ]
          },
          "metadata": {
            "tags": []
          },
          "execution_count": 117
        }
      ]
    },
    {
      "metadata": {
        "id": "P6bixqsgHc3Y",
        "colab_type": "code",
        "colab": {}
      },
      "cell_type": "code",
      "source": [
        "loan_df.loc[loan_df.num_tl_120dpd_2m.isnull(),'num_tl_120dpd_2m'] = 0.0"
      ],
      "execution_count": 0,
      "outputs": []
    },
    {
      "metadata": {
        "id": "hZdUEySiHc3a",
        "colab_type": "text"
      },
      "cell_type": "markdown",
      "source": [
        "#### 1.2.3.15) percent_bc_gt_75\n",
        "Percentage of all bankcard accounts > 75% of limit."
      ]
    },
    {
      "metadata": {
        "id": "Rq_89hfzHc3a",
        "colab_type": "code",
        "colab": {
          "base_uri": "https://localhost:8080/",
          "height": 34
        },
        "outputId": "b55e1d22-fd80-4a5e-e73f-b7767d833008"
      },
      "cell_type": "code",
      "source": [
        "loan_df.percent_bc_gt_75.isnull().sum()"
      ],
      "execution_count": 119,
      "outputs": [
        {
          "output_type": "execute_result",
          "data": {
            "text/plain": [
              "1888"
            ]
          },
          "metadata": {
            "tags": []
          },
          "execution_count": 119
        }
      ]
    },
    {
      "metadata": {
        "id": "V-eIgdxuHc3c",
        "colab_type": "code",
        "colab": {
          "base_uri": "https://localhost:8080/",
          "height": 282
        },
        "outputId": "d25c89ee-0134-473b-f3a9-55de77617065"
      },
      "cell_type": "code",
      "source": [
        "loan_df.percent_bc_gt_75.dropna().hist(bins=100)"
      ],
      "execution_count": 120,
      "outputs": [
        {
          "output_type": "execute_result",
          "data": {
            "text/plain": [
              "<matplotlib.axes._subplots.AxesSubplot at 0x7f8ac14dac18>"
            ]
          },
          "metadata": {
            "tags": []
          },
          "execution_count": 120
        },
        {
          "output_type": "display_data",
          "data": {
            "image/png": "[encoded data removed]",
            "text/plain": [
              "<matplotlib.figure.Figure at 0x7f8ac21da668>"
            ]
          },
          "metadata": {
            "tags": []
          }
        }
      ]
    },
    {
      "metadata": {
        "id": "f8SBVcddHc3h",
        "colab_type": "code",
        "colab": {}
      },
      "cell_type": "code",
      "source": [
        "loan_df.loc[loan_df.percent_bc_gt_75.isnull(), 'percent_bc_gt_75'] = loan_df.percent_bc_gt_75.mean()"
      ],
      "execution_count": 0,
      "outputs": []
    },
    {
      "metadata": {
        "id": "17hqueaZHc3h",
        "colab_type": "text"
      },
      "cell_type": "markdown",
      "source": [
        "#### 1.2.3.16) mths_since_last_major_derog\n",
        "Months since most recent 90-day or worse rating"
      ]
    },
    {
      "metadata": {
        "id": "U0QZe83RHc3j",
        "colab_type": "code",
        "colab": {
          "base_uri": "https://localhost:8080/",
          "height": 34
        },
        "outputId": "1726bea4-78fc-4b5e-99f7-13fa59ae5ed7"
      },
      "cell_type": "code",
      "source": [
        "loan_df.mths_since_last_major_derog.isnull().sum()"
      ],
      "execution_count": 122,
      "outputs": [
        {
          "output_type": "execute_result",
          "data": {
            "text/plain": [
              "89534"
            ]
          },
          "metadata": {
            "tags": []
          },
          "execution_count": 122
        }
      ]
    },
    {
      "metadata": {
        "id": "hRX5u2YRHc3j",
        "colab_type": "code",
        "colab": {
          "base_uri": "https://localhost:8080/",
          "height": 282
        },
        "outputId": "d7330417-8508-4c21-d9b8-b7bebdbe6d2e"
      },
      "cell_type": "code",
      "source": [
        "loan_df.mths_since_last_major_derog.dropna().hist(bins=100)"
      ],
      "execution_count": 123,
      "outputs": [
        {
          "output_type": "execute_result",
          "data": {
            "text/plain": [
              "<matplotlib.axes._subplots.AxesSubplot at 0x7f8ac14597b8>"
            ]
          },
          "metadata": {
            "tags": []
          },
          "execution_count": 123
        },
        {
          "output_type": "display_data",
          "data": {
            "image/png": "[encoded data removed]",
            "text/plain": [
              "<matplotlib.figure.Figure at 0x7f8ac13f1240>"
            ]
          },
          "metadata": {
            "tags": []
          }
        }
      ]
    },
    {
      "metadata": {
        "id": "5nQClk7FHc3l",
        "colab_type": "code",
        "colab": {}
      },
      "cell_type": "code",
      "source": [
        "loan_df.loc[loan_df.mths_since_last_major_derog.isnull(), 'mths_since_last_major_derog'] = np.random.randint(loan_df.mths_since_last_major_derog.mean()-loan_df.mths_since_last_major_derog.std(),\n",
        "                                   loan_df.mths_since_last_major_derog.mean()+loan_df.mths_since_last_major_derog.std(),\n",
        "                                   size = loan_df.mths_since_last_major_derog.isnull().sum())"
      ],
      "execution_count": 0,
      "outputs": []
    },
    {
      "metadata": {
        "id": "MItr_seFHc3m",
        "colab_type": "code",
        "colab": {
          "base_uri": "https://localhost:8080/",
          "height": 34
        },
        "outputId": "33f89b84-155a-4a55-a068-0d27544a9878"
      },
      "cell_type": "code",
      "source": [
        "loan_df.isnull().sum()[loan_df.isnull().sum()>0]"
      ],
      "execution_count": 125,
      "outputs": [
        {
          "output_type": "execute_result",
          "data": {
            "text/plain": [
              "Series([], dtype: int64)"
            ]
          },
          "metadata": {
            "tags": []
          },
          "execution_count": 125
        }
      ]
    },
    {
      "metadata": {
        "id": "QlFbigszHc3o",
        "colab_type": "text"
      },
      "cell_type": "markdown",
      "source": [
        "# 2) Exploratory Data Analysis"
      ]
    },
    {
      "metadata": {
        "id": "mlFcM7VLmcaa",
        "colab_type": "text"
      },
      "cell_type": "markdown",
      "source": [
        "No EDA done for this assignment"
      ]
    },
    {
      "metadata": {
        "id": "_oOrje1NHc3o",
        "colab_type": "text"
      },
      "cell_type": "markdown",
      "source": [
        "# 3) Find the correlation, identify important features and create new feature"
      ]
    },
    {
      "metadata": {
        "id": "RZds1JO8Hc3q",
        "colab_type": "text"
      },
      "cell_type": "markdown",
      "source": [
        "## 3.1) Create a new feature debt-to-income ratio"
      ]
    },
    {
      "metadata": {
        "id": "j15XOycRHc3q",
        "colab_type": "code",
        "colab": {}
      },
      "cell_type": "code",
      "source": [
        "loan_df['debt_to_income_ratio'] = loan_df['annual_inc']/12/loan_df['revol_bal']"
      ],
      "execution_count": 0,
      "outputs": []
    },
    {
      "metadata": {
        "id": "td2M2k-QHc3u",
        "colab_type": "code",
        "colab": {}
      },
      "cell_type": "code",
      "source": [
        "loan_df.loc[loan_df['debt_to_income_ratio'].isnull(),'debt_to_income_ratio'] = 0.0\n",
        "loan_df.loc[np.isinf(loan_df['debt_to_income_ratio']),'debt_to_income_ratio'] = 0.0"
      ],
      "execution_count": 0,
      "outputs": []
    },
    {
      "metadata": {
        "id": "8P87X-wsHc3v",
        "colab_type": "code",
        "colab": {
          "base_uri": "https://localhost:8080/",
          "height": 34
        },
        "outputId": "99746fd2-db05-41c1-95b8-e32b9058a395"
      },
      "cell_type": "code",
      "source": [
        "loan_df.debt_to_income_ratio[np.isinf(loan_df.debt_to_income_ratio)]"
      ],
      "execution_count": 128,
      "outputs": [
        {
          "output_type": "execute_result",
          "data": {
            "text/plain": [
              "Series([], Name: debt_to_income_ratio, dtype: float64)"
            ]
          },
          "metadata": {
            "tags": []
          },
          "execution_count": 128
        }
      ]
    },
    {
      "metadata": {
        "id": "XuNjSH7GHc3y",
        "colab_type": "code",
        "colab": {
          "base_uri": "https://localhost:8080/",
          "height": 34
        },
        "outputId": "f93bbe2a-e620-4556-edf5-8855a92556fc"
      },
      "cell_type": "code",
      "source": [
        "loan_df.debt_to_income_ratio[(loan_df.debt_to_income_ratio.isnull())]"
      ],
      "execution_count": 129,
      "outputs": [
        {
          "output_type": "execute_result",
          "data": {
            "text/plain": [
              "Series([], Name: debt_to_income_ratio, dtype: float64)"
            ]
          },
          "metadata": {
            "tags": []
          },
          "execution_count": 129
        }
      ]
    },
    {
      "metadata": {
        "id": "OS98N2mtHc33",
        "colab_type": "text"
      },
      "cell_type": "markdown",
      "source": [
        "## 3.2) Correlation Matrix "
      ]
    },
    {
      "metadata": {
        "id": "Lq9TsT8HHc33",
        "colab_type": "code",
        "colab": {}
      },
      "cell_type": "code",
      "source": [
        "corr=loan_df.corr()"
      ],
      "execution_count": 0,
      "outputs": []
    },
    {
      "metadata": {
        "id": "QA9ycZj6Hc36",
        "colab_type": "code",
        "colab": {
          "base_uri": "https://localhost:8080/",
          "height": 170
        },
        "outputId": "e6d72e48-162c-446e-acc4-dacf522f5ed9"
      },
      "cell_type": "code",
      "source": [
        "corr['int_rate'][(corr['int_rate']>0.29) | (corr['int_rate'] <-0.29)]"
      ],
      "execution_count": 131,
      "outputs": [
        {
          "output_type": "execute_result",
          "data": {
            "text/plain": [
              "term                0.346798\n",
              "int_rate            1.000000\n",
              "revol_util          0.326889\n",
              "total_rec_int       0.523791\n",
              "all_util            0.339794\n",
              "bc_open_to_buy     -0.322647\n",
              "bc_util             0.340080\n",
              "percent_bc_gt_75    0.330752\n",
              "Name: int_rate, dtype: float64"
            ]
          },
          "metadata": {
            "tags": []
          },
          "execution_count": 131
        }
      ]
    },
    {
      "metadata": {
        "id": "1T5OAYH_Hc39",
        "colab_type": "text"
      },
      "cell_type": "markdown",
      "source": [
        "## 3.3) Gradient Boosting Model - Ensemble Methods"
      ]
    },
    {
      "metadata": {
        "id": "3TuxU5HBHc3-",
        "colab_type": "code",
        "colab": {}
      },
      "cell_type": "code",
      "source": [
        "import numpy as np\n",
        "import matplotlib.pyplot as plt\n",
        "\n",
        "from sklearn import ensemble\n",
        "from sklearn import datasets\n",
        "from sklearn.utils import shuffle\n",
        "from sklearn.metrics import mean_squared_error"
      ],
      "execution_count": 0,
      "outputs": []
    },
    {
      "metadata": {
        "id": "86yXZl1oHc3_",
        "colab_type": "code",
        "colab": {}
      },
      "cell_type": "code",
      "source": [
        "X, y = shuffle(loan_df.drop(['int_rate', 'issue_d', 'earliest_cr_line', 'last_pymnt_d',\n",
        "                            'next_pymnt_d', 'last_credit_pull_d'], axis=1), loan_df['int_rate'], random_state=13)"
      ],
      "execution_count": 0,
      "outputs": []
    },
    {
      "metadata": {
        "id": "UM-hUJd6Hc3_",
        "colab_type": "code",
        "colab": {}
      },
      "cell_type": "code",
      "source": [
        "feature_names = np.asarray(X.columns.tolist())"
      ],
      "execution_count": 0,
      "outputs": []
    },
    {
      "metadata": {
        "id": "a0AwwAF1Hc4A",
        "colab_type": "code",
        "colab": {}
      },
      "cell_type": "code",
      "source": [
        "offset = int(X.shape[0] * 0.9)\n",
        "X_train, y_train = X[:offset], y[:offset]\n",
        "X_test, y_test = X[offset:], y[offset:]"
      ],
      "execution_count": 0,
      "outputs": []
    },
    {
      "metadata": {
        "id": "l0mKqn4sHc4B",
        "colab_type": "code",
        "colab": {
          "base_uri": "https://localhost:8080/",
          "height": 34
        },
        "outputId": "1b9a71e2-0859-4544-b36f-7fcf5a2a9785"
      },
      "cell_type": "code",
      "source": [
        "X_train.shape, X_test.shape"
      ],
      "execution_count": 136,
      "outputs": [
        {
          "output_type": "execute_result",
          "data": {
            "text/plain": [
              "((106783, 124), (11865, 124))"
            ]
          },
          "metadata": {
            "tags": []
          },
          "execution_count": 136
        }
      ]
    },
    {
      "metadata": {
        "id": "jki_5D2BHc4D",
        "colab_type": "text"
      },
      "cell_type": "markdown",
      "source": [
        "### 3.3.1) Fitting GBM model on training set with 1000 trees"
      ]
    },
    {
      "metadata": {
        "id": "c7e-ZmxgHc4J",
        "colab_type": "code",
        "colab": {}
      },
      "cell_type": "code",
      "source": [
        "# Fit regression model\n",
        "params_init = {'n_estimators': 1000, 'max_depth': 4, 'min_samples_split': 2,\n",
        "          'learning_rate': 0.01, 'loss': 'ls'}\n",
        "gb_clf_init = ensemble.GradientBoostingRegressor(**params_init)"
      ],
      "execution_count": 0,
      "outputs": []
    },
    {
      "metadata": {
        "id": "EIvx4kDpHc4K",
        "colab_type": "code",
        "colab": {}
      },
      "cell_type": "code",
      "source": [
        "gb_model_init = gb_clf_init.fit(X_train, y_train)\n",
        "gb_model_pred_init = gb_clf_init.predict(X_test)"
      ],
      "execution_count": 0,
      "outputs": []
    },
    {
      "metadata": {
        "id": "ewqfPAUiHc4L",
        "colab_type": "code",
        "colab": {
          "base_uri": "https://localhost:8080/",
          "height": 68
        },
        "outputId": "216b9b54-3725-4dda-cc6c-d8671d12dedb"
      },
      "cell_type": "code",
      "source": [
        "mse_init = mean_squared_error(y_test, gb_model_pred_init)\n",
        "print(\"MSE: %.4f\" % mse_init)\n",
        "print(\"Accuracy Score/ R squared for Train: %.2f\" %gb_model_init.score(X_train, y_train))\n",
        "print(\"Accuracy Score/ R squared for Test: %.2f\" %gb_model_init.score(X_test, y_test))"
      ],
      "execution_count": 139,
      "outputs": [
        {
          "output_type": "stream",
          "text": [
            "MSE: 0.0002\n",
            "Accuracy Score/ R squared for Train: 0.91\n",
            "Accuracy Score/ R squared for Test: 0.91\n"
          ],
          "name": "stdout"
        }
      ]
    },
    {
      "metadata": {
        "id": "EmU92glaHc4O",
        "colab_type": "code",
        "colab": {
          "base_uri": "https://localhost:8080/",
          "height": 296
        },
        "outputId": "4c63a9d2-69b3-452f-8169-7ff879f4b066"
      },
      "cell_type": "code",
      "source": [
        "plt.scatter(y_test, gb_model_pred_init)\n",
        "plt.xlabel(\"True Values\")\n",
        "plt.ylabel(\"Predictions\")"
      ],
      "execution_count": 140,
      "outputs": [
        {
          "output_type": "execute_result",
          "data": {
            "text/plain": [
              "Text(0,0.5,'Predictions')"
            ]
          },
          "metadata": {
            "tags": []
          },
          "execution_count": 140
        },
        {
          "output_type": "display_data",
          "data": {
            "image/png": "[encoded data removed]",
            "text/plain": [
              "<matplotlib.figure.Figure at 0x7f8abdb62278>"
            ]
          },
          "metadata": {
            "tags": []
          }
        }
      ]
    },
    {
      "metadata": {
        "id": "8eFn4yzJHc4T",
        "colab_type": "code",
        "colab": {
          "base_uri": "https://localhost:8080/",
          "height": 420
        },
        "outputId": "b2527215-8bd5-41ab-8143-5e92f566d963"
      },
      "cell_type": "code",
      "source": [
        "# Plot training deviance\n",
        "\n",
        "# compute test set deviance\n",
        "test_score = np.zeros((params_init['n_estimators'],), dtype=np.float64)\n",
        "\n",
        "for i, y_pred in enumerate(gb_clf_init.staged_predict(X_test)):\n",
        "    test_score[i] = gb_clf_init.loss_(y_test, y_pred)\n",
        "\n",
        "plt.figure(figsize=(12, 6))\n",
        "plt.subplot(1, 2, 1)\n",
        "plt.title('Deviance')\n",
        "plt.plot(np.arange(params_init['n_estimators']) + 1, gb_clf_init.train_score_, 'b-',\n",
        "         label='Training Set Deviance')\n",
        "plt.plot(np.arange(params_init['n_estimators']) + 1, test_score, 'r-',\n",
        "         label='Test Set Deviance')\n",
        "plt.legend(loc='upper right')\n",
        "plt.xlabel('Boosting Iterations')\n",
        "plt.ylabel('Deviance')"
      ],
      "execution_count": 143,
      "outputs": [
        {
          "output_type": "execute_result",
          "data": {
            "text/plain": [
              "Text(0,0.5,'Deviance')"
            ]
          },
          "metadata": {
            "tags": []
          },
          "execution_count": 143
        },
        {
          "output_type": "display_data",
          "data": {
            "image/png": "[encoded data removed]",
            "text/plain": [
              "<matplotlib.figure.Figure at 0x7f8abda072e8>"
            ]
          },
          "metadata": {
            "tags": []
          }
        }
      ]
    },
    {
      "metadata": {
        "id": "pc4HWvTyHc4V",
        "colab_type": "text"
      },
      "cell_type": "markdown",
      "source": [
        "### 3.3.2) Determining the important variables using GBM model"
      ]
    },
    {
      "metadata": {
        "id": "ydTuNBGwHc4W",
        "colab_type": "code",
        "colab": {
          "base_uri": "https://localhost:8080/",
          "height": 294
        },
        "outputId": "88aebb98-398d-43ee-9513-355c7b228659"
      },
      "cell_type": "code",
      "source": [
        "# #############################################################################\n",
        "# Plot feature importance\n",
        "feature_importance = gb_clf_init.feature_importances_\n",
        "# make importances relative to max importance\n",
        "feature_importance = 100.0 * (feature_importance / feature_importance.max())\n",
        "sorted_idx = np.argsort(feature_importance)\n",
        "pos = np.arange(sorted_idx[90:].shape[0]) + .5\n",
        "plt.subplot(1, 2, 2)\n",
        "plt.barh(pos, feature_importance[sorted_idx[90:]], align='center')\n",
        "plt.yticks(pos,feature_names[sorted_idx[90:]])\n",
        "plt.xlabel('Relative Importance')\n",
        "plt.title('Variable Importance')\n",
        "plt.show()"
      ],
      "execution_count": 145,
      "outputs": [
        {
          "output_type": "display_data",
          "data": {
            "image/png": "[encoded data removed]",
            "text/plain": [
              "<matplotlib.figure.Figure at 0x7f8abd9e2f60>"
            ]
          },
          "metadata": {
            "tags": []
          }
        }
      ]
    },
    {
      "metadata": {
        "id": "89WhAyg1Hc4Y",
        "colab_type": "code",
        "colab": {
          "base_uri": "https://localhost:8080/",
          "height": 204
        },
        "outputId": "c29147ab-6dc6-4a09-9a5e-cfdb0f9e7076"
      },
      "cell_type": "code",
      "source": [
        "feature_names[sorted_idx[90:]]"
      ],
      "execution_count": 146,
      "outputs": [
        {
          "output_type": "execute_result",
          "data": {
            "text/plain": [
              "array(['inq_fi', 'disb_Cash', 'mths_since_recent_revol_delinq',\n",
              "       'disb_DirectPay', 'total_pymnt', 'mo_sin_old_rev_tl_op',\n",
              "       'purpose_credit_card', 'num_tl_op_past_12m', 'inq_last_6mths',\n",
              "       'init_status_w', 'init_status_f', 'acc_open_past_24mths',\n",
              "       'mths_since_recent_bc', 'tot_hi_cred_lim', 'LS_Late (31-120 days)',\n",
              "       'annual_inc', 'delinq_2yrs', 'all_util', 'mort_acc',\n",
              "       'last_pymnt_amnt', 'dti', 'percent_bc_gt_75', 'LS_Current',\n",
              "       'issue_d_float', 'bc_open_to_buy', 'funded_amnt', 'loan_amnt',\n",
              "       'term', 'out_prncp_inv', 'installment', 'out_prncp',\n",
              "       'funded_amnt_inv', 'total_rec_prncp', 'total_rec_int'],\n",
              "      dtype='<U30')"
            ]
          },
          "metadata": {
            "tags": []
          },
          "execution_count": 146
        }
      ]
    },
    {
      "metadata": {
        "id": "HjNFXbdYHc4Y",
        "colab_type": "text"
      },
      "cell_type": "markdown",
      "source": [
        "### 3.3.3) Create a new dataframe having only the relevant columns"
      ]
    },
    {
      "metadata": {
        "id": "TDOPuLbPHc4b",
        "colab_type": "code",
        "colab": {}
      },
      "cell_type": "code",
      "source": [
        "final_loan_df = loan_df[['inq_fi', 'mths_since_recent_revol_delinq', 'disb_Cash',\n",
        "       'disb_DirectPay', 'total_pymnt', 'mo_sin_old_rev_tl_op',\n",
        "       'purpose_credit_card', 'init_status_f', 'inq_last_6mths',\n",
        "       'num_tl_op_past_12m', 'mths_since_recent_bc', 'tot_hi_cred_lim',\n",
        "       'acc_open_past_24mths', 'init_status_w', 'annual_inc',\n",
        "       'LS_Late (31-120 days)', 'delinq_2yrs', 'mort_acc',\n",
        "       'last_pymnt_amnt', 'all_util', 'dti', 'percent_bc_gt_75',\n",
        "       'LS_Current', 'bc_open_to_buy', 'issue_d_float', 'loan_amnt',\n",
        "       'funded_amnt', 'term', 'out_prncp_inv', 'installment', 'out_prncp',\n",
        "       'funded_amnt_inv', 'total_rec_prncp', 'total_rec_int','debt_to_income_ratio','int_rate']]"
      ],
      "execution_count": 0,
      "outputs": []
    },
    {
      "metadata": {
        "id": "iJzaq3s7Hc4d",
        "colab_type": "code",
        "colab": {
          "base_uri": "https://localhost:8080/",
          "height": 34
        },
        "outputId": "28f5a2bc-a2c4-4a34-d36e-b0f874df9572"
      },
      "cell_type": "code",
      "source": [
        "final_loan_df.shape"
      ],
      "execution_count": 148,
      "outputs": [
        {
          "output_type": "execute_result",
          "data": {
            "text/plain": [
              "(118648, 36)"
            ]
          },
          "metadata": {
            "tags": []
          },
          "execution_count": 148
        }
      ]
    },
    {
      "metadata": {
        "id": "THlWJc0rHc4k",
        "colab_type": "text"
      },
      "cell_type": "markdown",
      "source": [
        "### 3.3.4) Do Gradient Boosting again with the new dataset."
      ]
    },
    {
      "metadata": {
        "id": "2Dq5EKuyHc4l",
        "colab_type": "code",
        "colab": {}
      },
      "cell_type": "code",
      "source": [
        "from sklearn.model_selection import train_test_split"
      ],
      "execution_count": 0,
      "outputs": []
    },
    {
      "metadata": {
        "id": "tG5kUXyLHc4p",
        "colab_type": "code",
        "colab": {
          "base_uri": "https://localhost:8080/",
          "height": 34
        },
        "outputId": "6fdcb13b-997f-49da-97df-e30d4462a36b"
      },
      "cell_type": "code",
      "source": [
        "X, y = shuffle(final_loan_df.drop(['int_rate'], axis=1), final_loan_df['int_rate'], random_state=13)\n",
        "X.shape, y.shape"
      ],
      "execution_count": 150,
      "outputs": [
        {
          "output_type": "execute_result",
          "data": {
            "text/plain": [
              "((118648, 35), (118648,))"
            ]
          },
          "metadata": {
            "tags": []
          },
          "execution_count": 150
        }
      ]
    },
    {
      "metadata": {
        "id": "3yBF-u_uHc4p",
        "colab_type": "code",
        "colab": {
          "base_uri": "https://localhost:8080/",
          "height": 34
        },
        "outputId": "92013dc1-353d-4104-ea4b-9f9141d23912"
      },
      "cell_type": "code",
      "source": [
        "X_train, X_test, y_train, y_test = train_test_split(X, y, test_size=0.30, random_state=101)\n",
        "print (X_train.shape, y_train.shape, X_test.shape, y_test.shape)"
      ],
      "execution_count": 151,
      "outputs": [
        {
          "output_type": "stream",
          "text": [
            "(83053, 35) (83053,) (35595, 35) (35595,)\n"
          ],
          "name": "stdout"
        }
      ]
    },
    {
      "metadata": {
        "id": "vuOfpM_pHc4r",
        "colab_type": "code",
        "colab": {}
      },
      "cell_type": "code",
      "source": [
        "feature_names = np.asarray(X.columns.tolist())"
      ],
      "execution_count": 0,
      "outputs": []
    },
    {
      "metadata": {
        "id": "HjB9lateHc4v",
        "colab_type": "code",
        "colab": {}
      },
      "cell_type": "code",
      "source": [
        "# Fit regression model\n",
        "params_new = {'n_estimators': 1000, 'max_depth': 4, 'min_samples_split': 2,\n",
        "          'learning_rate': 0.01, 'loss': 'ls'}\n",
        "gb_clf_new = ensemble.GradientBoostingRegressor(**params_new)"
      ],
      "execution_count": 0,
      "outputs": []
    },
    {
      "metadata": {
        "id": "z30fuP5EHc4x",
        "colab_type": "code",
        "colab": {}
      },
      "cell_type": "code",
      "source": [
        "gb_model_new = gb_clf_new.fit(X_train, y_train)\n",
        "gb_model_pred_new = gb_clf_new.predict(X_test)"
      ],
      "execution_count": 0,
      "outputs": []
    },
    {
      "metadata": {
        "id": "S0zjcmeCHc4y",
        "colab_type": "code",
        "colab": {
          "base_uri": "https://localhost:8080/",
          "height": 68
        },
        "outputId": "8a9a2f78-bb90-45d1-fc51-124d341bcde9"
      },
      "cell_type": "code",
      "source": [
        "mse_new = mean_squared_error(y_test, gb_model_pred_new)\n",
        "print(\"MSE: %.4f\" % mse_new)\n",
        "print(\"Accuracy Score/ R squared for Train: %.2f\" %gb_model_new.score(X_train, y_train))\n",
        "print(\"Accuracy Score/ R squared for Test: %.2f\" %gb_model_new.score(X_test, y_test))"
      ],
      "execution_count": 155,
      "outputs": [
        {
          "output_type": "stream",
          "text": [
            "MSE: 0.0003\n",
            "Accuracy Score/ R squared for Train: 0.91\n",
            "Accuracy Score/ R squared for Test: 0.90\n"
          ],
          "name": "stdout"
        }
      ]
    },
    {
      "metadata": {
        "id": "HG7w-n1PHc40",
        "colab_type": "code",
        "colab": {
          "base_uri": "https://localhost:8080/",
          "height": 297
        },
        "outputId": "e442a19e-7604-4a9f-d762-4fda9e321d5a"
      },
      "cell_type": "code",
      "source": [
        "plt.scatter(y_test, gb_model_pred_new)\n",
        "plt.xlabel(\"True Values\")\n",
        "plt.ylabel(\"Predictions\")"
      ],
      "execution_count": 156,
      "outputs": [
        {
          "output_type": "execute_result",
          "data": {
            "text/plain": [
              "Text(0,0.5,'Predictions')"
            ]
          },
          "metadata": {
            "tags": []
          },
          "execution_count": 156
        },
        {
          "output_type": "display_data",
          "data": {
            "image/png": "[encoded data removed]",
            "text/plain": [
              "<matplotlib.figure.Figure at 0x7f8abdabdc88>"
            ]
          },
          "metadata": {
            "tags": []
          }
        }
      ]
    },
    {
      "metadata": {
        "id": "r4tsKlanHc41",
        "colab_type": "code",
        "colab": {
          "base_uri": "https://localhost:8080/",
          "height": 294
        },
        "outputId": "a1813195-dead-4d2c-dd29-059ba900fee8"
      },
      "cell_type": "code",
      "source": [
        "# #############################################################################\n",
        "# Plot feature importance\n",
        "feature_importance = gb_clf_new.feature_importances_\n",
        "# make importances relative to max importance\n",
        "feature_importance = 100.0 * (feature_importance / feature_importance.max())\n",
        "sorted_idx = np.argsort(feature_importance)\n",
        "pos = np.arange(sorted_idx.shape[0]) + .5\n",
        "plt.subplot(1, 2, 2)\n",
        "plt.barh(pos, feature_importance[sorted_idx], align='center')\n",
        "plt.yticks(pos,feature_names[sorted_idx])\n",
        "plt.xlabel('Relative Importance')\n",
        "plt.title('Variable Importance')\n",
        "plt.show()"
      ],
      "execution_count": 157,
      "outputs": [
        {
          "output_type": "display_data",
          "data": {
            "image/png": "[encoded data removed]",
            "text/plain": [
              "<matplotlib.figure.Figure at 0x7f8abd944240>"
            ]
          },
          "metadata": {
            "tags": []
          }
        }
      ]
    },
    {
      "metadata": {
        "id": "PzYRjquXHc42",
        "colab_type": "text"
      },
      "cell_type": "markdown",
      "source": [
        "### 3.3.5) Cross-Validation to optimize the parameters"
      ]
    },
    {
      "metadata": {
        "id": "rBgVFh3RHc42",
        "colab_type": "code",
        "colab": {
          "base_uri": "https://localhost:8080/",
          "height": 105
        },
        "outputId": "caa762ce-614c-41aa-c2c5-a31fd35aa302"
      },
      "cell_type": "code",
      "source": [
        "from sklearn.grid_search import GridSearchCV"
      ],
      "execution_count": 158,
      "outputs": [
        {
          "output_type": "stream",
          "text": [
            "/usr/local/lib/python3.6/dist-packages/sklearn/cross_validation.py:41: DeprecationWarning: This module was deprecated in version 0.18 in favor of the model_selection module into which all the refactored classes and functions are moved. Also note that the interface of the new CV iterators are different from that of this module. This module will be removed in 0.20.\n",
            "  \"This module will be removed in 0.20.\", DeprecationWarning)\n",
            "/usr/local/lib/python3.6/dist-packages/sklearn/grid_search.py:42: DeprecationWarning: This module was deprecated in version 0.18 in favor of the model_selection module into which all the refactored classes and functions are moved. This module will be removed in 0.20.\n",
            "  DeprecationWarning)\n"
          ],
          "name": "stderr"
        }
      ]
    },
    {
      "metadata": {
        "id": "V2s6WSkIHc43",
        "colab_type": "code",
        "colab": {}
      },
      "cell_type": "code",
      "source": [
        "param_grid = {'learning_rate': [0.1, 0.05, 0.02, 0.01],\n",
        "              'max_depth': [4, 6],\n",
        "              'min_samples_leaf': [3, 5]\n",
        "              }\n",
        "gb_clf_cv = GridSearchCV(ensemble.GradientBoostingRegressor(n_estimators=1000),\n",
        "                   param_grid, n_jobs=4, refit=True)"
      ],
      "execution_count": 0,
      "outputs": []
    },
    {
      "metadata": {
        "id": "-OhGLhx8Hc44",
        "colab_type": "code",
        "colab": {}
      },
      "cell_type": "code",
      "source": [
        "gb_clf_model_cv = gb_clf_cv.fit(X_train, y_train)"
      ],
      "execution_count": 0,
      "outputs": []
    },
    {
      "metadata": {
        "id": "gZuCDrXAHc46",
        "colab_type": "code",
        "colab": {
          "base_uri": "https://localhost:8080/",
          "height": 34
        },
        "outputId": "0fb5b70a-1297-4365-9e88-0000855a96a5"
      },
      "cell_type": "code",
      "source": [
        "gb_clf_cv.best_params_"
      ],
      "execution_count": 161,
      "outputs": [
        {
          "output_type": "execute_result",
          "data": {
            "text/plain": [
              "{'learning_rate': 0.1, 'max_depth': 6, 'min_samples_leaf': 5}"
            ]
          },
          "metadata": {
            "tags": []
          },
          "execution_count": 161
        }
      ]
    },
    {
      "metadata": {
        "id": "IfHr85z2I0Fh",
        "colab_type": "code",
        "colab": {
          "base_uri": "https://localhost:8080/",
          "height": 136
        },
        "outputId": "c17e7c35-15c2-4d47-f1d2-dbac7e8a4cc1"
      },
      "cell_type": "code",
      "source": [
        "gb_clf_cv.best_estimator_"
      ],
      "execution_count": 162,
      "outputs": [
        {
          "output_type": "execute_result",
          "data": {
            "text/plain": [
              "GradientBoostingRegressor(alpha=0.9, criterion='friedman_mse', init=None,\n",
              "             learning_rate=0.1, loss='ls', max_depth=6, max_features=None,\n",
              "             max_leaf_nodes=None, min_impurity_decrease=0.0,\n",
              "             min_impurity_split=None, min_samples_leaf=5,\n",
              "             min_samples_split=2, min_weight_fraction_leaf=0.0,\n",
              "             n_estimators=1000, presort='auto', random_state=None,\n",
              "             subsample=1.0, verbose=0, warm_start=False)"
            ]
          },
          "metadata": {
            "tags": []
          },
          "execution_count": 162
        }
      ]
    },
    {
      "metadata": {
        "id": "O2I1H-ImI0t7",
        "colab_type": "code",
        "colab": {
          "base_uri": "https://localhost:8080/",
          "height": 34
        },
        "outputId": "97d26c5c-f091-4bb6-abad-c5a69eafdd99"
      },
      "cell_type": "code",
      "source": [
        "gb_clf_cv.best_score_"
      ],
      "execution_count": 163,
      "outputs": [
        {
          "output_type": "execute_result",
          "data": {
            "text/plain": [
              "0.9722033932251477"
            ]
          },
          "metadata": {
            "tags": []
          },
          "execution_count": 163
        }
      ]
    },
    {
      "metadata": {
        "id": "BXgLs_4oJSiR",
        "colab_type": "text"
      },
      "cell_type": "markdown",
      "source": [
        "### 3.3.6) Using the best parameters from GridsearchCV - Estimators - 1000, Learning rate 0.1, max_depth = 6, min_samples_leaf =5"
      ]
    },
    {
      "metadata": {
        "id": "gBsx9zsaHc47",
        "colab_type": "code",
        "colab": {
          "base_uri": "https://localhost:8080/",
          "height": 51
        },
        "outputId": "98d26b9f-53e2-4250-c7ed-38215742a986"
      },
      "cell_type": "code",
      "source": [
        "%%time\n",
        "params_best = {'n_estimators': 1000, 'max_depth': 6, 'min_samples_split': 2, 'min_samples_leaf': 5,\n",
        "          'learning_rate': 0.1, 'loss': 'ls'}\n",
        "gb_clf_best = ensemble.GradientBoostingRegressor(**params_best)\n",
        "gb_model_best = gb_clf_best.fit(X_train, y_train)\n",
        "gb_model_pred_best = gb_clf_best.predict(X_test)"
      ],
      "execution_count": 165,
      "outputs": [
        {
          "output_type": "stream",
          "text": [
            "CPU times: user 8min 11s, sys: 98.4 ms, total: 8min 11s\n",
            "Wall time: 8min 11s\n"
          ],
          "name": "stdout"
        }
      ]
    },
    {
      "metadata": {
        "id": "RVORBXz6Hc48",
        "colab_type": "code",
        "colab": {
          "base_uri": "https://localhost:8080/",
          "height": 68
        },
        "outputId": "0a86137e-f269-472e-8a82-7ff5054d4558"
      },
      "cell_type": "code",
      "source": [
        "mse_best = mean_squared_error(y_test, gb_model_pred_best)\n",
        "print(\"MSE: %.4f\" % mse_best)\n",
        "print(\"Accuracy Score/ R squared for Train: %.2f\" %gb_model_best.score(X_train, y_train))\n",
        "print(\"Accuracy Score/ R squared for Test: %.2f\" %gb_model_best.score(X_test, y_test))"
      ],
      "execution_count": 166,
      "outputs": [
        {
          "output_type": "stream",
          "text": [
            "MSE: 0.0001\n",
            "Accuracy Score/ R squared for Train: 1.00\n",
            "Accuracy Score/ R squared for Test: 0.98\n"
          ],
          "name": "stdout"
        }
      ]
    },
    {
      "metadata": {
        "id": "THpCfKTsM0AQ",
        "colab_type": "text"
      },
      "cell_type": "markdown",
      "source": [
        "The accuracy score for test data with the optimized parameters seem to increase. This might have caused some overfitting as well."
      ]
    },
    {
      "metadata": {
        "id": "315N14w9NJj8",
        "colab_type": "code",
        "colab": {
          "base_uri": "https://localhost:8080/",
          "height": 294
        },
        "outputId": "37a2fa3c-a5a8-408f-c0c3-46f2a28e0733"
      },
      "cell_type": "code",
      "source": [
        "plt.subplot(1, 2, 2,)\n",
        "# Top Ten\n",
        "feature_importance_best = gb_clf_best.feature_importances_\n",
        "feature_importance_best = 100.0 * (feature_importance_best / feature_importance_best.max())\n",
        "\n",
        "indices = np.argsort(feature_importance_best)[-10:]\n",
        "plt.barh(np.arange(10), feature_importance_best[indices],color='dodgerblue',alpha=.4)\n",
        "plt.yticks(np.arange(10 + 0.25), np.array(final_loan_df.columns)[indices])\n",
        "_ = plt.xlabel('Relative importance'), plt.title('Top Ten Important Variables')"
      ],
      "execution_count": 168,
      "outputs": [
        {
          "output_type": "display_data",
          "data": {
            "image/png": "[encoded data removed]",
            "text/plain": [
              "<matplotlib.figure.Figure at 0x7f8abc72c668>"
            ]
          },
          "metadata": {
            "tags": []
          }
        }
      ]
    },
    {
      "metadata": {
        "id": "gF_C9-SGNhbg",
        "colab_type": "text"
      },
      "cell_type": "markdown",
      "source": [
        "Thease are the top 10 variables that impacted the interest rate."
      ]
    },
    {
      "metadata": {
        "id": "jAq3FsxuNqLn",
        "colab_type": "text"
      },
      "cell_type": "markdown",
      "source": [
        "##### Partial Dependence Plots"
      ]
    },
    {
      "metadata": {
        "id": "k8RHtGFoNKlS",
        "colab_type": "code",
        "colab": {
          "base_uri": "https://localhost:8080/",
          "height": 616
        },
        "outputId": "c4bf1732-91f2-4359-c6ae-0e06f078d303"
      },
      "cell_type": "code",
      "source": [
        "from sklearn.ensemble.partial_dependence import plot_partial_dependence\n",
        "\n",
        "pfeatures = [('annual_inc', 'dti'), 'installment', 'total_rec_int', 'total_pymnt', 'total_rec_prncp', 'bc_open_to_buy', 'funded_amnt_inv', 'out_prncp', 'out_prncp_inv']\n",
        "\n",
        "fig, axs = plot_partial_dependence(gb_clf_best, X_train, pfeatures,\n",
        "                                   feature_names=list(final_loan_df.columns),\n",
        "                                   figsize=(14, 14), n_jobs=4)"
      ],
      "execution_count": 170,
      "outputs": [
        {
          "output_type": "display_data",
          "data": {
            "image/png": "[encoded data removed]",
            "text/plain": [
              "<matplotlib.figure.Figure at 0x7f8abc58eb70>"
            ]
          },
          "metadata": {
            "tags": []
          }
        }
      ]
    },
    {
      "metadata": {
        "id": "WQmVYVpXHc5B",
        "colab_type": "text"
      },
      "cell_type": "markdown",
      "source": [
        "### 3.3.7) K-Folds Cross Validation\n",
        "https://towardsdatascience.com/train-test-split-and-cross-validation-in-python-80b61beca4b6\n",
        "In K-Folds Cross Validation we split our data into k different subsets (or folds). We use k-1 subsets to train our data and leave the last subset (or the last fold) as test data. We then average the model against each of the folds and then finalize our model. After that we test it against the test set.  \n",
        "<img src=\"kfold.png\" width=500px align='left'>"
      ]
    },
    {
      "metadata": {
        "id": "PA7LqmCOHc5C",
        "colab_type": "code",
        "colab": {
          "base_uri": "https://localhost:8080/",
          "height": 34
        },
        "outputId": "048b0138-187e-4272-a745-2a2c0e1e8b71"
      },
      "cell_type": "code",
      "source": [
        "from sklearn.model_selection import KFold # import KFold\n",
        "from sklearn.metrics import precision_recall_fscore_support\n",
        "from sklearn.model_selection import GridSearchCV, cross_val_score\n",
        "kf = KFold(n_splits=2, random_state=None, shuffle=False) # Define the split - into 10 folds \n",
        "#kf.get_n_splits(X) # returns the number of splitting iterations in the cross-validator\n",
        "print(kf) \n",
        "params_kfold = {'n_estimators': 1000, 'max_depth': 4, 'min_samples_split': 2,\n",
        "          'learning_rate': 0.01, 'loss': 'ls'}\n",
        "kfoldgb_clf = ensemble.GradientBoostingRegressor(**params_kfold)"
      ],
      "execution_count": 171,
      "outputs": [
        {
          "output_type": "stream",
          "text": [
            "KFold(n_splits=2, random_state=None, shuffle=False)\n"
          ],
          "name": "stdout"
        }
      ]
    },
    {
      "metadata": {
        "id": "vZyl6ND6Hc5J",
        "colab_type": "code",
        "colab": {
          "base_uri": "https://localhost:8080/",
          "height": 221
        },
        "outputId": "21cace1e-1644-4e1c-ead7-17a932d69064"
      },
      "cell_type": "code",
      "source": [
        "i=1\n",
        "score_array=[]\n",
        "for train_index, test_index in kf.split(X):\n",
        "    print(\"K FOLD #\",i)\n",
        "    i = i+1\n",
        "    print(\"TRAIN:\", train_index, \"TEST:\", test_index)\n",
        "    X_train, X_test = X.values[train_index], X.values[test_index]\n",
        "    y_train, y_test = y[train_index], y[test_index]\n",
        "    \n",
        "    kfold_gbmodel = kfoldgb_clf.fit(X_train, y_train)\n",
        "    kfold_pred = kfoldgb_clf.predict(X_test)\n",
        "    mse = mean_squared_error(y_test, kfold_pred)\n",
        "    print(\"MSE: %.4f\" % mse)\n",
        "    print(\"Accuracy Score:\", kfold_gbmodel.score(X_test, y_test))\n",
        "    cvscore = cross_val_score(kfold_gbmodel, X_train, y_train)\n",
        "    print(\"Cross validation score:\", cvscore)\n",
        "    print(cvscore.mean())"
      ],
      "execution_count": 172,
      "outputs": [
        {
          "output_type": "stream",
          "text": [
            "K FOLD # 1\n",
            "TRAIN: [ 59324  59325  59326 ... 118645 118646 118647] TEST: [    0     1     2 ... 59321 59322 59323]\n",
            "MSE: 0.0025\n",
            "Accuracy Score: -0.012176645559673682\n",
            "Cross validation score: [-0.00832512 -0.00437527 -0.00739585]\n",
            "-0.006698743571204775\n",
            "K FOLD # 2\n",
            "TRAIN: [    0     1     2 ... 59321 59322 59323] TEST: [ 59324  59325  59326 ... 118645 118646 118647]\n",
            "MSE: 0.0028\n",
            "Accuracy Score: -0.011121851661717974\n",
            "Cross validation score: [-0.00346669 -0.00254357 -0.00505164]\n",
            "-0.0036873005549037754\n"
          ],
          "name": "stdout"
        }
      ]
    },
    {
      "metadata": {
        "id": "9oHi-BdSHc5N",
        "colab_type": "code",
        "colab": {
          "base_uri": "https://localhost:8080/",
          "height": 34
        },
        "outputId": "ab763af9-46a8-40e0-c441-920cf11455e5"
      },
      "cell_type": "code",
      "source": [
        "kfold_mse = mean_squared_error(y_test, kfoldgb_clf.predict(X_test))\n",
        "print(\"MSE: %.4f\" % kfold_mse)"
      ],
      "execution_count": 174,
      "outputs": [
        {
          "output_type": "stream",
          "text": [
            "MSE: 0.0028\n"
          ],
          "name": "stdout"
        }
      ]
    },
    {
      "metadata": {
        "id": "7s7-FnqiHc5R",
        "colab_type": "code",
        "colab": {
          "base_uri": "https://localhost:8080/",
          "height": 296
        },
        "outputId": "9de85385-96c8-4879-b7eb-8a50bc0f085d"
      },
      "cell_type": "code",
      "source": [
        "plt.scatter(y_test, kfold_pred)\n",
        "plt.xlabel(\"True Values\")\n",
        "plt.ylabel(\"Predictions\")"
      ],
      "execution_count": 175,
      "outputs": [
        {
          "output_type": "execute_result",
          "data": {
            "text/plain": [
              "Text(0,0.5,'Predictions')"
            ]
          },
          "metadata": {
            "tags": []
          },
          "execution_count": 175
        },
        {
          "output_type": "display_data",
          "data": {
            "image/png": "[encoded data removed]",
            "text/plain": [
              "<matplotlib.figure.Figure at 0x7f8abb901550>"
            ]
          },
          "metadata": {
            "tags": []
          }
        }
      ]
    }
  ]
}