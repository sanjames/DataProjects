{
 "cells": [
  {
   "cell_type": "markdown",
   "metadata": {
    "deletable": true,
    "editable": true
   },
   "source": [
    "# Linear Regression & Variable Selection on TMDB movies\n",
    "\n",
    "The file tmdb_5000_movies.csv has information from the Movie Database (TMDb) and has the movie related data\n",
    "\n",
    "\n",
    "The purpose of this assignment is to do the following:\n",
    "    - Perform feature selection on the given dataset.\n",
    "    - Use Linear Regression to predict 'vote average' target \n",
    "    - Use score to identify most accurate and predictive features."
   ]
  },
  {
   "cell_type": "markdown",
   "metadata": {
    "deletable": true,
    "editable": true
   },
   "source": [
    "# 1) Data Preparation"
   ]
  },
  {
   "cell_type": "code",
   "execution_count": 1,
   "metadata": {
    "collapsed": true,
    "deletable": true,
    "editable": true
   },
   "outputs": [],
   "source": [
    "#Import all required libraries for reading data, analysing and visualizing data\n",
    "import pandas as pd\n",
    "import numpy as np\n",
    "import matplotlib.pyplot as plt\n",
    "import seaborn as sns\n",
    "%matplotlib inline\n",
    "import json"
   ]
  },
  {
   "cell_type": "code",
   "execution_count": 2,
   "metadata": {
    "collapsed": true,
    "deletable": true,
    "editable": true
   },
   "outputs": [],
   "source": [
    "movies = pd.read_csv('tmdb_5000_movies.csv')"
   ]
  },
  {
   "cell_type": "code",
   "execution_count": 3,
   "metadata": {
    "collapsed": false,
    "deletable": true,
    "editable": true
   },
   "outputs": [
    {
     "data": {
      "text/plain": [
       "(4803, 20)"
      ]
     },
     "execution_count": 3,
     "metadata": {},
     "output_type": "execute_result"
    }
   ],
   "source": [
    "movies.shape"
   ]
  },
  {
   "cell_type": "code",
   "execution_count": 4,
   "metadata": {
    "collapsed": false,
    "deletable": true,
    "editable": true
   },
   "outputs": [
    {
     "data": {
      "text/html": [
       "<div>\n",
       "<style scoped>\n",
       "    .dataframe tbody tr th:only-of-type {\n",
       "        vertical-align: middle;\n",
       "    }\n",
       "\n",
       "    .dataframe tbody tr th {\n",
       "        vertical-align: top;\n",
       "    }\n",
       "\n",
       "    .dataframe thead th {\n",
       "        text-align: right;\n",
       "    }\n",
       "</style>\n",
       "<table border=\"1\" class=\"dataframe\">\n",
       "  <thead>\n",
       "    <tr style=\"text-align: right;\">\n",
       "      <th></th>\n",
       "      <th>budget</th>\n",
       "      <th>genres</th>\n",
       "      <th>homepage</th>\n",
       "      <th>id</th>\n",
       "      <th>keywords</th>\n",
       "      <th>original_language</th>\n",
       "      <th>original_title</th>\n",
       "      <th>overview</th>\n",
       "      <th>popularity</th>\n",
       "      <th>production_companies</th>\n",
       "      <th>production_countries</th>\n",
       "      <th>release_date</th>\n",
       "      <th>revenue</th>\n",
       "      <th>runtime</th>\n",
       "      <th>spoken_languages</th>\n",
       "      <th>status</th>\n",
       "      <th>tagline</th>\n",
       "      <th>title</th>\n",
       "      <th>vote_average</th>\n",
       "      <th>vote_count</th>\n",
       "    </tr>\n",
       "  </thead>\n",
       "  <tbody>\n",
       "    <tr>\n",
       "      <th>0</th>\n",
       "      <td>237000000</td>\n",
       "      <td>[{\"id\": 28, \"name\": \"Action\"}, {\"id\": 12, \"nam...</td>\n",
       "      <td>http://www.avatarmovie.com/</td>\n",
       "      <td>19995</td>\n",
       "      <td>[{\"id\": 1463, \"name\": \"culture clash\"}, {\"id\":...</td>\n",
       "      <td>en</td>\n",
       "      <td>Avatar</td>\n",
       "      <td>In the 22nd century, a paraplegic Marine is di...</td>\n",
       "      <td>150.437577</td>\n",
       "      <td>[{\"name\": \"Ingenious Film Partners\", \"id\": 289...</td>\n",
       "      <td>[{\"iso_3166_1\": \"US\", \"name\": \"United States o...</td>\n",
       "      <td>2009-12-10</td>\n",
       "      <td>2787965087</td>\n",
       "      <td>162.0</td>\n",
       "      <td>[{\"iso_639_1\": \"en\", \"name\": \"English\"}, {\"iso...</td>\n",
       "      <td>Released</td>\n",
       "      <td>Enter the World of Pandora.</td>\n",
       "      <td>Avatar</td>\n",
       "      <td>7.2</td>\n",
       "      <td>11800</td>\n",
       "    </tr>\n",
       "    <tr>\n",
       "      <th>1</th>\n",
       "      <td>300000000</td>\n",
       "      <td>[{\"id\": 12, \"name\": \"Adventure\"}, {\"id\": 14, \"...</td>\n",
       "      <td>http://disney.go.com/disneypictures/pirates/</td>\n",
       "      <td>285</td>\n",
       "      <td>[{\"id\": 270, \"name\": \"ocean\"}, {\"id\": 726, \"na...</td>\n",
       "      <td>en</td>\n",
       "      <td>Pirates of the Caribbean: At World's End</td>\n",
       "      <td>Captain Barbossa, long believed to be dead, ha...</td>\n",
       "      <td>139.082615</td>\n",
       "      <td>[{\"name\": \"Walt Disney Pictures\", \"id\": 2}, {\"...</td>\n",
       "      <td>[{\"iso_3166_1\": \"US\", \"name\": \"United States o...</td>\n",
       "      <td>2007-05-19</td>\n",
       "      <td>961000000</td>\n",
       "      <td>169.0</td>\n",
       "      <td>[{\"iso_639_1\": \"en\", \"name\": \"English\"}]</td>\n",
       "      <td>Released</td>\n",
       "      <td>At the end of the world, the adventure begins.</td>\n",
       "      <td>Pirates of the Caribbean: At World's End</td>\n",
       "      <td>6.9</td>\n",
       "      <td>4500</td>\n",
       "    </tr>\n",
       "  </tbody>\n",
       "</table>\n",
       "</div>"
      ],
      "text/plain": [
       "      budget                                             genres  \\\n",
       "0  237000000  [{\"id\": 28, \"name\": \"Action\"}, {\"id\": 12, \"nam...   \n",
       "1  300000000  [{\"id\": 12, \"name\": \"Adventure\"}, {\"id\": 14, \"...   \n",
       "\n",
       "                                       homepage     id  \\\n",
       "0                   http://www.avatarmovie.com/  19995   \n",
       "1  http://disney.go.com/disneypictures/pirates/    285   \n",
       "\n",
       "                                            keywords original_language  \\\n",
       "0  [{\"id\": 1463, \"name\": \"culture clash\"}, {\"id\":...                en   \n",
       "1  [{\"id\": 270, \"name\": \"ocean\"}, {\"id\": 726, \"na...                en   \n",
       "\n",
       "                             original_title  \\\n",
       "0                                    Avatar   \n",
       "1  Pirates of the Caribbean: At World's End   \n",
       "\n",
       "                                            overview  popularity  \\\n",
       "0  In the 22nd century, a paraplegic Marine is di...  150.437577   \n",
       "1  Captain Barbossa, long believed to be dead, ha...  139.082615   \n",
       "\n",
       "                                production_companies  \\\n",
       "0  [{\"name\": \"Ingenious Film Partners\", \"id\": 289...   \n",
       "1  [{\"name\": \"Walt Disney Pictures\", \"id\": 2}, {\"...   \n",
       "\n",
       "                                production_countries release_date     revenue  \\\n",
       "0  [{\"iso_3166_1\": \"US\", \"name\": \"United States o...   2009-12-10  2787965087   \n",
       "1  [{\"iso_3166_1\": \"US\", \"name\": \"United States o...   2007-05-19   961000000   \n",
       "\n",
       "   runtime                                   spoken_languages    status  \\\n",
       "0    162.0  [{\"iso_639_1\": \"en\", \"name\": \"English\"}, {\"iso...  Released   \n",
       "1    169.0           [{\"iso_639_1\": \"en\", \"name\": \"English\"}]  Released   \n",
       "\n",
       "                                          tagline  \\\n",
       "0                     Enter the World of Pandora.   \n",
       "1  At the end of the world, the adventure begins.   \n",
       "\n",
       "                                      title  vote_average  vote_count  \n",
       "0                                    Avatar           7.2       11800  \n",
       "1  Pirates of the Caribbean: At World's End           6.9        4500  "
      ]
     },
     "execution_count": 4,
     "metadata": {},
     "output_type": "execute_result"
    }
   ],
   "source": [
    "movies.head(2)"
   ]
  },
  {
   "cell_type": "code",
   "execution_count": 5,
   "metadata": {
    "collapsed": false,
    "deletable": true,
    "editable": true
   },
   "outputs": [
    {
     "name": "stdout",
     "output_type": "stream",
     "text": [
      "<class 'pandas.core.frame.DataFrame'>\n",
      "RangeIndex: 4803 entries, 0 to 4802\n",
      "Data columns (total 20 columns):\n",
      "budget                  4803 non-null int64\n",
      "genres                  4803 non-null object\n",
      "homepage                1712 non-null object\n",
      "id                      4803 non-null int64\n",
      "keywords                4803 non-null object\n",
      "original_language       4803 non-null object\n",
      "original_title          4803 non-null object\n",
      "overview                4800 non-null object\n",
      "popularity              4803 non-null float64\n",
      "production_companies    4803 non-null object\n",
      "production_countries    4803 non-null object\n",
      "release_date            4802 non-null object\n",
      "revenue                 4803 non-null int64\n",
      "runtime                 4801 non-null float64\n",
      "spoken_languages        4803 non-null object\n",
      "status                  4803 non-null object\n",
      "tagline                 3959 non-null object\n",
      "title                   4803 non-null object\n",
      "vote_average            4803 non-null float64\n",
      "vote_count              4803 non-null int64\n",
      "dtypes: float64(3), int64(4), object(13)\n",
      "memory usage: 750.5+ KB\n"
     ]
    }
   ],
   "source": [
    "movies.info()"
   ]
  },
  {
   "cell_type": "markdown",
   "metadata": {
    "deletable": true,
    "editable": true
   },
   "source": [
    "Movie info has the following 20 features for 4803 movies:   \n",
    "    - budget - movie budget                \n",
    "    - genres - json data having the following info for the specific movie genre  \n",
    "        * id - genre id  \n",
    "        * name - genre name for the specific movie  \n",
    "    - homepage - URL of the movie website               \n",
    "    - id - movie id                     \n",
    "    - keywords - json data having the following info for the specific movie keywords                \n",
    "        * id - keyword id  \n",
    "        * name - keyword name for the specific movie      \n",
    "    - original_language - language in which original movie was released      \n",
    "    - original_title - original title of the moview         \n",
    "    - overview - movie description              \n",
    "    - popularity - popularity rating of the movie              \n",
    "    - production_companies - json data having the following info for the production companies for the movie  \n",
    "        * id - production company id  \n",
    "        * name - production company name for the specific movie          \n",
    "    - production_countries  - json data having the following info for the production companies of the movie  \n",
    "        * iso_3166_1 -  ISO Code for the countries   \n",
    "        * name - Country name where the moview was released  \n",
    "    - release_date - release date           \n",
    "    - revenue - movie revenue                 \n",
    "    - runtime                 \n",
    "    - spoken_languages        \n",
    "        * iso_639_1 - Code for the language     \n",
    "        * name - language name  \n",
    "    - status - Movie Status - Released, Rumored, Post production                \n",
    "    - tagline - Movie Tagline                \n",
    "    - title - movie title                  \n",
    "    - vote_average - average vote           \n",
    "    - vote_count - vote count              "
   ]
  },
  {
   "cell_type": "markdown",
   "metadata": {
    "deletable": true,
    "editable": true
   },
   "source": [
    "# 2) Data Processing\n",
    "\n",
    "These are the steps I'm going to do inorder to process the data:  \n",
    "    - Work on the different JSON objects like Genres, cast, crew, production companies, production_countries etc.  \n",
    "    - Transform Categorical features to numerical\n",
    "    - Create new features release year and month based on Release date  "
   ]
  },
  {
   "cell_type": "markdown",
   "metadata": {
    "deletable": true,
    "editable": true
   },
   "source": [
    "## 2.1) Analysis of JSON Objects\n",
    "The following are the json objects\n",
    "    - Genres\n",
    "    - keywords\n",
    "    - production_companies\n",
    "    - production_countries\n",
    "    - spoken_languages"
   ]
  },
  {
   "cell_type": "code",
   "execution_count": 6,
   "metadata": {
    "collapsed": true,
    "deletable": true,
    "editable": true
   },
   "outputs": [],
   "source": [
    "#parse json input\n",
    "json_columns = ['genres', 'keywords', 'production_companies', 'production_countries', 'spoken_languages']"
   ]
  },
  {
   "cell_type": "code",
   "execution_count": 7,
   "metadata": {
    "collapsed": true,
    "deletable": true,
    "editable": true
   },
   "outputs": [],
   "source": [
    "for column in json_columns:\n",
    "    movies[column] = movies[column].apply(json.loads, encoding=\"utf-8\")"
   ]
  },
  {
   "cell_type": "markdown",
   "metadata": {
    "deletable": true,
    "editable": true
   },
   "source": [
    "###  2.1.1) Function to process the JSON objects Genres, Keywords, Production Countries, Companies, Spoken languages.\n",
    "In columns 'keywords', 'production_countries', 'spoken_languages', the structure is not nested and is simply id and name. I'm basically fetching the value of the key name for these columns."
   ]
  },
  {
   "cell_type": "code",
   "execution_count": 9,
   "metadata": {
    "collapsed": true,
    "deletable": true,
    "editable": true
   },
   "outputs": [],
   "source": [
    "def process_jsoncols(colname):\n",
    "    jsoncollist=[]\n",
    "    for x in colname:\n",
    "        jsoncollist.append(x['name'])\n",
    "    return jsoncollist"
   ]
  },
  {
   "cell_type": "code",
   "execution_count": 10,
   "metadata": {
    "collapsed": false,
    "deletable": true,
    "editable": true
   },
   "outputs": [],
   "source": [
    "for colname in json_columns:\n",
    "    movies[colname] = movies[colname].apply(process_jsoncols)"
   ]
  },
  {
   "cell_type": "code",
   "execution_count": 11,
   "metadata": {
    "collapsed": false,
    "deletable": true,
    "editable": true
   },
   "outputs": [
    {
     "data": {
      "text/html": [
       "<div>\n",
       "<style scoped>\n",
       "    .dataframe tbody tr th:only-of-type {\n",
       "        vertical-align: middle;\n",
       "    }\n",
       "\n",
       "    .dataframe tbody tr th {\n",
       "        vertical-align: top;\n",
       "    }\n",
       "\n",
       "    .dataframe thead th {\n",
       "        text-align: right;\n",
       "    }\n",
       "</style>\n",
       "<table border=\"1\" class=\"dataframe\">\n",
       "  <thead>\n",
       "    <tr style=\"text-align: right;\">\n",
       "      <th></th>\n",
       "      <th>genres</th>\n",
       "      <th>keywords</th>\n",
       "      <th>production_companies</th>\n",
       "      <th>production_countries</th>\n",
       "      <th>spoken_languages</th>\n",
       "    </tr>\n",
       "  </thead>\n",
       "  <tbody>\n",
       "    <tr>\n",
       "      <th>0</th>\n",
       "      <td>[Action, Adventure, Fantasy, Science Fiction]</td>\n",
       "      <td>[culture clash, future, space war, space colon...</td>\n",
       "      <td>[Ingenious Film Partners, Twentieth Century Fo...</td>\n",
       "      <td>[United States of America, United Kingdom]</td>\n",
       "      <td>[English, Español]</td>\n",
       "    </tr>\n",
       "    <tr>\n",
       "      <th>1</th>\n",
       "      <td>[Adventure, Fantasy, Action]</td>\n",
       "      <td>[ocean, drug abuse, exotic island, east india ...</td>\n",
       "      <td>[Walt Disney Pictures, Jerry Bruckheimer Films...</td>\n",
       "      <td>[United States of America]</td>\n",
       "      <td>[English]</td>\n",
       "    </tr>\n",
       "  </tbody>\n",
       "</table>\n",
       "</div>"
      ],
      "text/plain": [
       "                                          genres  \\\n",
       "0  [Action, Adventure, Fantasy, Science Fiction]   \n",
       "1                   [Adventure, Fantasy, Action]   \n",
       "\n",
       "                                            keywords  \\\n",
       "0  [culture clash, future, space war, space colon...   \n",
       "1  [ocean, drug abuse, exotic island, east india ...   \n",
       "\n",
       "                                production_companies  \\\n",
       "0  [Ingenious Film Partners, Twentieth Century Fo...   \n",
       "1  [Walt Disney Pictures, Jerry Bruckheimer Films...   \n",
       "\n",
       "                         production_countries    spoken_languages  \n",
       "0  [United States of America, United Kingdom]  [English, Español]  \n",
       "1                  [United States of America]           [English]  "
      ]
     },
     "execution_count": 11,
     "metadata": {},
     "output_type": "execute_result"
    }
   ],
   "source": [
    "movies[['genres', 'keywords', 'production_companies', 'production_countries', 'spoken_languages']].head(2)"
   ]
  },
  {
   "cell_type": "markdown",
   "metadata": {
    "deletable": true,
    "editable": true
   },
   "source": [
    "### 2.1.2) Convert Pandas Dataframe Column of Lists to string. \n",
    "The impacted columns are genres, keywords, production_countries, spoken_languages, production_companies. NOTE: crew and cast are not column of lists"
   ]
  },
  {
   "cell_type": "code",
   "execution_count": 12,
   "metadata": {
    "collapsed": true,
    "deletable": true,
    "editable": true
   },
   "outputs": [],
   "source": [
    "listcols = ['genres', 'keywords', 'production_countries', 'production_companies', 'spoken_languages']"
   ]
  },
  {
   "cell_type": "code",
   "execution_count": 13,
   "metadata": {
    "collapsed": true,
    "deletable": true,
    "editable": true
   },
   "outputs": [],
   "source": [
    "for colname in listcols:\n",
    "    movies[colname] = movies[colname].apply(lambda x: ','.join(map(str, x))) #Map applies a function to all the items in an input_list. "
   ]
  },
  {
   "cell_type": "code",
   "execution_count": 14,
   "metadata": {
    "collapsed": false,
    "deletable": true,
    "editable": true
   },
   "outputs": [
    {
     "data": {
      "text/html": [
       "<div>\n",
       "<style scoped>\n",
       "    .dataframe tbody tr th:only-of-type {\n",
       "        vertical-align: middle;\n",
       "    }\n",
       "\n",
       "    .dataframe tbody tr th {\n",
       "        vertical-align: top;\n",
       "    }\n",
       "\n",
       "    .dataframe thead th {\n",
       "        text-align: right;\n",
       "    }\n",
       "</style>\n",
       "<table border=\"1\" class=\"dataframe\">\n",
       "  <thead>\n",
       "    <tr style=\"text-align: right;\">\n",
       "      <th></th>\n",
       "      <th>genres</th>\n",
       "      <th>keywords</th>\n",
       "      <th>production_companies</th>\n",
       "      <th>production_countries</th>\n",
       "      <th>spoken_languages</th>\n",
       "    </tr>\n",
       "  </thead>\n",
       "  <tbody>\n",
       "    <tr>\n",
       "      <th>0</th>\n",
       "      <td>Action,Adventure,Fantasy,Science Fiction</td>\n",
       "      <td>culture clash,future,space war,space colony,so...</td>\n",
       "      <td>Ingenious Film Partners,Twentieth Century Fox ...</td>\n",
       "      <td>United States of America,United Kingdom</td>\n",
       "      <td>English,Español</td>\n",
       "    </tr>\n",
       "    <tr>\n",
       "      <th>1</th>\n",
       "      <td>Adventure,Fantasy,Action</td>\n",
       "      <td>ocean,drug abuse,exotic island,east india trad...</td>\n",
       "      <td>Walt Disney Pictures,Jerry Bruckheimer Films,S...</td>\n",
       "      <td>United States of America</td>\n",
       "      <td>English</td>\n",
       "    </tr>\n",
       "  </tbody>\n",
       "</table>\n",
       "</div>"
      ],
      "text/plain": [
       "                                     genres  \\\n",
       "0  Action,Adventure,Fantasy,Science Fiction   \n",
       "1                  Adventure,Fantasy,Action   \n",
       "\n",
       "                                            keywords  \\\n",
       "0  culture clash,future,space war,space colony,so...   \n",
       "1  ocean,drug abuse,exotic island,east india trad...   \n",
       "\n",
       "                                production_companies  \\\n",
       "0  Ingenious Film Partners,Twentieth Century Fox ...   \n",
       "1  Walt Disney Pictures,Jerry Bruckheimer Films,S...   \n",
       "\n",
       "                      production_countries spoken_languages  \n",
       "0  United States of America,United Kingdom  English,Español  \n",
       "1                 United States of America          English  "
      ]
     },
     "execution_count": 14,
     "metadata": {},
     "output_type": "execute_result"
    }
   ],
   "source": [
    "movies[['genres', 'keywords', 'production_companies', 'production_countries', 'spoken_languages']].head(2)"
   ]
  },
  {
   "cell_type": "markdown",
   "metadata": {
    "deletable": true,
    "editable": true
   },
   "source": [
    "## 2.2) Identify Missing values"
   ]
  },
  {
   "cell_type": "code",
   "execution_count": 15,
   "metadata": {
    "collapsed": false,
    "deletable": true,
    "editable": true
   },
   "outputs": [
    {
     "data": {
      "text/plain": [
       "homepage        3091\n",
       "overview           3\n",
       "release_date       1\n",
       "runtime            2\n",
       "tagline          844\n",
       "dtype: int64"
      ]
     },
     "execution_count": 15,
     "metadata": {},
     "output_type": "execute_result"
    }
   ],
   "source": [
    "movies.isnull().sum()[movies.isnull().sum()>0]"
   ]
  },
  {
   "cell_type": "markdown",
   "metadata": {
    "deletable": true,
    "editable": true
   },
   "source": [
    "The missing values for homepage, overview, runtime is not really important.\n",
    "There is one movie with no release date. Lets remove that entry from the dataframe"
   ]
  },
  {
   "cell_type": "code",
   "execution_count": 16,
   "metadata": {
    "collapsed": false,
    "deletable": true,
    "editable": true
   },
   "outputs": [
    {
     "data": {
      "text/plain": [
       "4803"
      ]
     },
     "execution_count": 16,
     "metadata": {},
     "output_type": "execute_result"
    }
   ],
   "source": [
    "len(movies)"
   ]
  },
  {
   "cell_type": "code",
   "execution_count": 17,
   "metadata": {
    "collapsed": false,
    "deletable": true,
    "editable": true
   },
   "outputs": [],
   "source": [
    "movies = movies[movies.release_date.notnull()]"
   ]
  },
  {
   "cell_type": "code",
   "execution_count": 18,
   "metadata": {
    "collapsed": false,
    "deletable": true,
    "editable": true
   },
   "outputs": [],
   "source": [
    "movies.runtime.fillna(0, inplace=True)"
   ]
  },
  {
   "cell_type": "markdown",
   "metadata": {
    "deletable": true,
    "editable": true
   },
   "source": [
    "## 2.2) Transform 3 Categorical features to numerical\n",
    "\n",
    "The categorical features in the movies data are as follows:\n",
    "    - genres, keywords, original_language, production_companies, production_countries, spoken_languages, status.\n",
    "Pick 3 features and transform to numerical as follows:\n",
    "    - the features to be picked are Genres, Production Companies, status\n",
    "    - get the unique list of values from each columns genres, production_countries, production_companies, spoken_languages, keywords\n",
    "    - for each value present in the column, create a new column with value 1. Else value 0. Eg) If there are 30 genres, we will have 30 columns and if we have a movie with genre action, thriller, we will have the value of 1 corresponding to Action & Thriller and 0 for other 28 columns. Same holds true for all the categorical features"
   ]
  },
  {
   "cell_type": "markdown",
   "metadata": {
    "deletable": true,
    "editable": true
   },
   "source": [
    "### 2.2.1) Genres"
   ]
  },
  {
   "cell_type": "code",
   "execution_count": 19,
   "metadata": {
    "collapsed": false,
    "deletable": true,
    "editable": true
   },
   "outputs": [
    {
     "data": {
      "text/plain": [
       "['Music',\n",
       " 'Drama',\n",
       " 'Fantasy',\n",
       " 'Horror',\n",
       " 'TV Movie',\n",
       " 'Thriller',\n",
       " 'War',\n",
       " 'Mystery',\n",
       " 'Foreign',\n",
       " 'History',\n",
       " 'Crime',\n",
       " 'Comedy',\n",
       " 'Documentary',\n",
       " 'Adventure',\n",
       " 'Family',\n",
       " 'Action',\n",
       " 'Animation',\n",
       " 'Romance',\n",
       " 'Western',\n",
       " 'Science Fiction']"
      ]
     },
     "execution_count": 19,
     "metadata": {},
     "output_type": "execute_result"
    }
   ],
   "source": [
    "genres_list = set()\n",
    "for sstr in movies['genres'].str.split(','):\n",
    "    genres_list = set().union(sstr, genres_list)\n",
    "genres_list = list(genres_list)\n",
    "genres_list.remove('')\n",
    "genres_list"
   ]
  },
  {
   "cell_type": "code",
   "execution_count": 20,
   "metadata": {
    "collapsed": true,
    "deletable": true,
    "editable": true
   },
   "outputs": [],
   "source": [
    "#Transforming categorical to one hot encoding\n",
    "for genres in genres_list:\n",
    "    movies[genres] = movies['genres'].str.contains(genres).apply(lambda x:1 if x else 0)"
   ]
  },
  {
   "cell_type": "code",
   "execution_count": 21,
   "metadata": {
    "collapsed": false,
    "deletable": true,
    "editable": true
   },
   "outputs": [
    {
     "data": {
      "text/html": [
       "<div>\n",
       "<style scoped>\n",
       "    .dataframe tbody tr th:only-of-type {\n",
       "        vertical-align: middle;\n",
       "    }\n",
       "\n",
       "    .dataframe tbody tr th {\n",
       "        vertical-align: top;\n",
       "    }\n",
       "\n",
       "    .dataframe thead th {\n",
       "        text-align: right;\n",
       "    }\n",
       "</style>\n",
       "<table border=\"1\" class=\"dataframe\">\n",
       "  <thead>\n",
       "    <tr style=\"text-align: right;\">\n",
       "      <th></th>\n",
       "      <th>0</th>\n",
       "      <th>1</th>\n",
       "    </tr>\n",
       "  </thead>\n",
       "  <tbody>\n",
       "    <tr>\n",
       "      <th>budget</th>\n",
       "      <td>237000000</td>\n",
       "      <td>300000000</td>\n",
       "    </tr>\n",
       "    <tr>\n",
       "      <th>genres</th>\n",
       "      <td>Action,Adventure,Fantasy,Science Fiction</td>\n",
       "      <td>Adventure,Fantasy,Action</td>\n",
       "    </tr>\n",
       "    <tr>\n",
       "      <th>homepage</th>\n",
       "      <td>http://www.avatarmovie.com/</td>\n",
       "      <td>http://disney.go.com/disneypictures/pirates/</td>\n",
       "    </tr>\n",
       "    <tr>\n",
       "      <th>id</th>\n",
       "      <td>19995</td>\n",
       "      <td>285</td>\n",
       "    </tr>\n",
       "    <tr>\n",
       "      <th>keywords</th>\n",
       "      <td>culture clash,future,space war,space colony,so...</td>\n",
       "      <td>ocean,drug abuse,exotic island,east india trad...</td>\n",
       "    </tr>\n",
       "    <tr>\n",
       "      <th>original_language</th>\n",
       "      <td>en</td>\n",
       "      <td>en</td>\n",
       "    </tr>\n",
       "    <tr>\n",
       "      <th>original_title</th>\n",
       "      <td>Avatar</td>\n",
       "      <td>Pirates of the Caribbean: At World's End</td>\n",
       "    </tr>\n",
       "    <tr>\n",
       "      <th>overview</th>\n",
       "      <td>In the 22nd century, a paraplegic Marine is di...</td>\n",
       "      <td>Captain Barbossa, long believed to be dead, ha...</td>\n",
       "    </tr>\n",
       "    <tr>\n",
       "      <th>popularity</th>\n",
       "      <td>150.438</td>\n",
       "      <td>139.083</td>\n",
       "    </tr>\n",
       "    <tr>\n",
       "      <th>production_companies</th>\n",
       "      <td>Ingenious Film Partners,Twentieth Century Fox ...</td>\n",
       "      <td>Walt Disney Pictures,Jerry Bruckheimer Films,S...</td>\n",
       "    </tr>\n",
       "    <tr>\n",
       "      <th>production_countries</th>\n",
       "      <td>United States of America,United Kingdom</td>\n",
       "      <td>United States of America</td>\n",
       "    </tr>\n",
       "    <tr>\n",
       "      <th>release_date</th>\n",
       "      <td>2009-12-10</td>\n",
       "      <td>2007-05-19</td>\n",
       "    </tr>\n",
       "    <tr>\n",
       "      <th>revenue</th>\n",
       "      <td>2787965087</td>\n",
       "      <td>961000000</td>\n",
       "    </tr>\n",
       "    <tr>\n",
       "      <th>runtime</th>\n",
       "      <td>162</td>\n",
       "      <td>169</td>\n",
       "    </tr>\n",
       "    <tr>\n",
       "      <th>spoken_languages</th>\n",
       "      <td>English,Español</td>\n",
       "      <td>English</td>\n",
       "    </tr>\n",
       "    <tr>\n",
       "      <th>status</th>\n",
       "      <td>Released</td>\n",
       "      <td>Released</td>\n",
       "    </tr>\n",
       "    <tr>\n",
       "      <th>tagline</th>\n",
       "      <td>Enter the World of Pandora.</td>\n",
       "      <td>At the end of the world, the adventure begins.</td>\n",
       "    </tr>\n",
       "    <tr>\n",
       "      <th>title</th>\n",
       "      <td>Avatar</td>\n",
       "      <td>Pirates of the Caribbean: At World's End</td>\n",
       "    </tr>\n",
       "    <tr>\n",
       "      <th>vote_average</th>\n",
       "      <td>7.2</td>\n",
       "      <td>6.9</td>\n",
       "    </tr>\n",
       "    <tr>\n",
       "      <th>vote_count</th>\n",
       "      <td>11800</td>\n",
       "      <td>4500</td>\n",
       "    </tr>\n",
       "    <tr>\n",
       "      <th>Music</th>\n",
       "      <td>0</td>\n",
       "      <td>0</td>\n",
       "    </tr>\n",
       "    <tr>\n",
       "      <th>Drama</th>\n",
       "      <td>0</td>\n",
       "      <td>0</td>\n",
       "    </tr>\n",
       "    <tr>\n",
       "      <th>Fantasy</th>\n",
       "      <td>1</td>\n",
       "      <td>1</td>\n",
       "    </tr>\n",
       "    <tr>\n",
       "      <th>Horror</th>\n",
       "      <td>0</td>\n",
       "      <td>0</td>\n",
       "    </tr>\n",
       "    <tr>\n",
       "      <th>TV Movie</th>\n",
       "      <td>0</td>\n",
       "      <td>0</td>\n",
       "    </tr>\n",
       "    <tr>\n",
       "      <th>Thriller</th>\n",
       "      <td>0</td>\n",
       "      <td>0</td>\n",
       "    </tr>\n",
       "    <tr>\n",
       "      <th>War</th>\n",
       "      <td>0</td>\n",
       "      <td>0</td>\n",
       "    </tr>\n",
       "    <tr>\n",
       "      <th>Mystery</th>\n",
       "      <td>0</td>\n",
       "      <td>0</td>\n",
       "    </tr>\n",
       "    <tr>\n",
       "      <th>Foreign</th>\n",
       "      <td>0</td>\n",
       "      <td>0</td>\n",
       "    </tr>\n",
       "    <tr>\n",
       "      <th>History</th>\n",
       "      <td>0</td>\n",
       "      <td>0</td>\n",
       "    </tr>\n",
       "    <tr>\n",
       "      <th>Crime</th>\n",
       "      <td>0</td>\n",
       "      <td>0</td>\n",
       "    </tr>\n",
       "    <tr>\n",
       "      <th>Comedy</th>\n",
       "      <td>0</td>\n",
       "      <td>0</td>\n",
       "    </tr>\n",
       "    <tr>\n",
       "      <th>Documentary</th>\n",
       "      <td>0</td>\n",
       "      <td>0</td>\n",
       "    </tr>\n",
       "    <tr>\n",
       "      <th>Adventure</th>\n",
       "      <td>1</td>\n",
       "      <td>1</td>\n",
       "    </tr>\n",
       "    <tr>\n",
       "      <th>Family</th>\n",
       "      <td>0</td>\n",
       "      <td>0</td>\n",
       "    </tr>\n",
       "    <tr>\n",
       "      <th>Action</th>\n",
       "      <td>1</td>\n",
       "      <td>1</td>\n",
       "    </tr>\n",
       "    <tr>\n",
       "      <th>Animation</th>\n",
       "      <td>0</td>\n",
       "      <td>0</td>\n",
       "    </tr>\n",
       "    <tr>\n",
       "      <th>Romance</th>\n",
       "      <td>0</td>\n",
       "      <td>0</td>\n",
       "    </tr>\n",
       "    <tr>\n",
       "      <th>Western</th>\n",
       "      <td>0</td>\n",
       "      <td>0</td>\n",
       "    </tr>\n",
       "    <tr>\n",
       "      <th>Science Fiction</th>\n",
       "      <td>1</td>\n",
       "      <td>0</td>\n",
       "    </tr>\n",
       "  </tbody>\n",
       "</table>\n",
       "</div>"
      ],
      "text/plain": [
       "                                                                      0  \\\n",
       "budget                                                        237000000   \n",
       "genres                         Action,Adventure,Fantasy,Science Fiction   \n",
       "homepage                                    http://www.avatarmovie.com/   \n",
       "id                                                                19995   \n",
       "keywords              culture clash,future,space war,space colony,so...   \n",
       "original_language                                                    en   \n",
       "original_title                                                   Avatar   \n",
       "overview              In the 22nd century, a paraplegic Marine is di...   \n",
       "popularity                                                      150.438   \n",
       "production_companies  Ingenious Film Partners,Twentieth Century Fox ...   \n",
       "production_countries            United States of America,United Kingdom   \n",
       "release_date                                                 2009-12-10   \n",
       "revenue                                                      2787965087   \n",
       "runtime                                                             162   \n",
       "spoken_languages                                        English,Español   \n",
       "status                                                         Released   \n",
       "tagline                                     Enter the World of Pandora.   \n",
       "title                                                            Avatar   \n",
       "vote_average                                                        7.2   \n",
       "vote_count                                                        11800   \n",
       "Music                                                                 0   \n",
       "Drama                                                                 0   \n",
       "Fantasy                                                               1   \n",
       "Horror                                                                0   \n",
       "TV Movie                                                              0   \n",
       "Thriller                                                              0   \n",
       "War                                                                   0   \n",
       "Mystery                                                               0   \n",
       "Foreign                                                               0   \n",
       "History                                                               0   \n",
       "Crime                                                                 0   \n",
       "Comedy                                                                0   \n",
       "Documentary                                                           0   \n",
       "Adventure                                                             1   \n",
       "Family                                                                0   \n",
       "Action                                                                1   \n",
       "Animation                                                             0   \n",
       "Romance                                                               0   \n",
       "Western                                                               0   \n",
       "Science Fiction                                                       1   \n",
       "\n",
       "                                                                      1  \n",
       "budget                                                        300000000  \n",
       "genres                                         Adventure,Fantasy,Action  \n",
       "homepage                   http://disney.go.com/disneypictures/pirates/  \n",
       "id                                                                  285  \n",
       "keywords              ocean,drug abuse,exotic island,east india trad...  \n",
       "original_language                                                    en  \n",
       "original_title                 Pirates of the Caribbean: At World's End  \n",
       "overview              Captain Barbossa, long believed to be dead, ha...  \n",
       "popularity                                                      139.083  \n",
       "production_companies  Walt Disney Pictures,Jerry Bruckheimer Films,S...  \n",
       "production_countries                           United States of America  \n",
       "release_date                                                 2007-05-19  \n",
       "revenue                                                       961000000  \n",
       "runtime                                                             169  \n",
       "spoken_languages                                                English  \n",
       "status                                                         Released  \n",
       "tagline                  At the end of the world, the adventure begins.  \n",
       "title                          Pirates of the Caribbean: At World's End  \n",
       "vote_average                                                        6.9  \n",
       "vote_count                                                         4500  \n",
       "Music                                                                 0  \n",
       "Drama                                                                 0  \n",
       "Fantasy                                                               1  \n",
       "Horror                                                                0  \n",
       "TV Movie                                                              0  \n",
       "Thriller                                                              0  \n",
       "War                                                                   0  \n",
       "Mystery                                                               0  \n",
       "Foreign                                                               0  \n",
       "History                                                               0  \n",
       "Crime                                                                 0  \n",
       "Comedy                                                                0  \n",
       "Documentary                                                           0  \n",
       "Adventure                                                             1  \n",
       "Family                                                                0  \n",
       "Action                                                                1  \n",
       "Animation                                                             0  \n",
       "Romance                                                               0  \n",
       "Western                                                               0  \n",
       "Science Fiction                                                       0  "
      ]
     },
     "execution_count": 21,
     "metadata": {},
     "output_type": "execute_result"
    }
   ],
   "source": [
    "movies.head(2).T"
   ]
  },
  {
   "cell_type": "markdown",
   "metadata": {},
   "source": [
    "### 2.2.2) Production Companies\n",
    "\n",
    "- get the list of production companies\n",
    "- pick only the top 30 companies and proceed with one hot encoding"
   ]
  },
  {
   "cell_type": "code",
   "execution_count": 22,
   "metadata": {
    "collapsed": false
   },
   "outputs": [],
   "source": [
    "pc_list = []\n",
    "for sstr in movies['production_companies'].str.split(','):\n",
    "    for substr in sstr:\n",
    "        pc_list.append(substr)"
   ]
  },
  {
   "cell_type": "code",
   "execution_count": 23,
   "metadata": {
    "collapsed": false
   },
   "outputs": [
    {
     "data": {
      "text/plain": [
       "14101"
      ]
     },
     "execution_count": 23,
     "metadata": {},
     "output_type": "execute_result"
    }
   ],
   "source": [
    "len(pc_list)"
   ]
  },
  {
   "cell_type": "markdown",
   "metadata": {},
   "source": [
    "##### Since there are 5025 unquie companies and 10141 occurences, I'm just going to pick the first production company in the list"
   ]
  },
  {
   "cell_type": "code",
   "execution_count": 24,
   "metadata": {
    "collapsed": true
   },
   "outputs": [],
   "source": [
    "def count_elements(lst):\n",
    "    elements = {}\n",
    "    for elem in lst:\n",
    "        if elem in elements.keys():\n",
    "            elements[elem] +=1\n",
    "        else:\n",
    "            elements[elem] = 1\n",
    "    return elements"
   ]
  },
  {
   "cell_type": "code",
   "execution_count": 25,
   "metadata": {
    "collapsed": false
   },
   "outputs": [],
   "source": [
    "pc_count = count_elements(pc_list)"
   ]
  },
  {
   "cell_type": "code",
   "execution_count": 27,
   "metadata": {
    "collapsed": false
   },
   "outputs": [
    {
     "data": {
      "text/plain": [
       "['Warner Bros.',\n",
       " 'Universal Pictures',\n",
       " 'Paramount Pictures',\n",
       " 'Twentieth Century Fox Film Corporation',\n",
       " 'Columbia Pictures',\n",
       " 'New Line Cinema',\n",
       " 'Metro-Goldwyn-Mayer (MGM)',\n",
       " 'Touchstone Pictures',\n",
       " 'Walt Disney Pictures',\n",
       " 'Relativity Media']"
      ]
     },
     "execution_count": 27,
     "metadata": {},
     "output_type": "execute_result"
    }
   ],
   "source": [
    "top30_pc = sorted(pc_count, key=pc_count.get, reverse=True)[1:30]\n",
    "top30_pc[:10]"
   ]
  },
  {
   "cell_type": "code",
   "execution_count": 28,
   "metadata": {
    "collapsed": false
   },
   "outputs": [
    {
     "name": "stderr",
     "output_type": "stream",
     "text": [
      "D:\\Anaconda3\\lib\\site-packages\\ipykernel\\__main__.py:2: UserWarning: This pattern has match groups. To actually get the groups, use str.extract.\n",
      "  from ipykernel import kernelapp as app\n"
     ]
    },
    {
     "data": {
      "text/html": [
       "<div>\n",
       "<style scoped>\n",
       "    .dataframe tbody tr th:only-of-type {\n",
       "        vertical-align: middle;\n",
       "    }\n",
       "\n",
       "    .dataframe tbody tr th {\n",
       "        vertical-align: top;\n",
       "    }\n",
       "\n",
       "    .dataframe thead th {\n",
       "        text-align: right;\n",
       "    }\n",
       "</style>\n",
       "<table border=\"1\" class=\"dataframe\">\n",
       "  <thead>\n",
       "    <tr style=\"text-align: right;\">\n",
       "      <th></th>\n",
       "      <th>budget</th>\n",
       "      <th>genres</th>\n",
       "      <th>homepage</th>\n",
       "      <th>id</th>\n",
       "      <th>keywords</th>\n",
       "      <th>original_language</th>\n",
       "      <th>original_title</th>\n",
       "      <th>overview</th>\n",
       "      <th>popularity</th>\n",
       "      <th>production_companies</th>\n",
       "      <th>...</th>\n",
       "      <th>Lionsgate</th>\n",
       "      <th>The</th>\n",
       "      <th>Fox 2000 Pictures</th>\n",
       "      <th>TriStar Pictures</th>\n",
       "      <th>Dimension Films</th>\n",
       "      <th>Summit Entertainment</th>\n",
       "      <th>Working Title Films</th>\n",
       "      <th>Amblin Entertainment</th>\n",
       "      <th>The Weinstein Company</th>\n",
       "      <th>StudioCanal</th>\n",
       "    </tr>\n",
       "  </thead>\n",
       "  <tbody>\n",
       "    <tr>\n",
       "      <th>0</th>\n",
       "      <td>237000000</td>\n",
       "      <td>Action,Adventure,Fantasy,Science Fiction</td>\n",
       "      <td>http://www.avatarmovie.com/</td>\n",
       "      <td>19995</td>\n",
       "      <td>culture clash,future,space war,space colony,so...</td>\n",
       "      <td>en</td>\n",
       "      <td>Avatar</td>\n",
       "      <td>In the 22nd century, a paraplegic Marine is di...</td>\n",
       "      <td>150.437577</td>\n",
       "      <td>Ingenious Film Partners,Twentieth Century Fox ...</td>\n",
       "      <td>...</td>\n",
       "      <td>0</td>\n",
       "      <td>0</td>\n",
       "      <td>0</td>\n",
       "      <td>0</td>\n",
       "      <td>0</td>\n",
       "      <td>0</td>\n",
       "      <td>0</td>\n",
       "      <td>0</td>\n",
       "      <td>0</td>\n",
       "      <td>0</td>\n",
       "    </tr>\n",
       "    <tr>\n",
       "      <th>1</th>\n",
       "      <td>300000000</td>\n",
       "      <td>Adventure,Fantasy,Action</td>\n",
       "      <td>http://disney.go.com/disneypictures/pirates/</td>\n",
       "      <td>285</td>\n",
       "      <td>ocean,drug abuse,exotic island,east india trad...</td>\n",
       "      <td>en</td>\n",
       "      <td>Pirates of the Caribbean: At World's End</td>\n",
       "      <td>Captain Barbossa, long believed to be dead, ha...</td>\n",
       "      <td>139.082615</td>\n",
       "      <td>Walt Disney Pictures,Jerry Bruckheimer Films,S...</td>\n",
       "      <td>...</td>\n",
       "      <td>0</td>\n",
       "      <td>0</td>\n",
       "      <td>0</td>\n",
       "      <td>0</td>\n",
       "      <td>0</td>\n",
       "      <td>0</td>\n",
       "      <td>0</td>\n",
       "      <td>0</td>\n",
       "      <td>0</td>\n",
       "      <td>0</td>\n",
       "    </tr>\n",
       "  </tbody>\n",
       "</table>\n",
       "<p>2 rows × 69 columns</p>\n",
       "</div>"
      ],
      "text/plain": [
       "      budget                                    genres  \\\n",
       "0  237000000  Action,Adventure,Fantasy,Science Fiction   \n",
       "1  300000000                  Adventure,Fantasy,Action   \n",
       "\n",
       "                                       homepage     id  \\\n",
       "0                   http://www.avatarmovie.com/  19995   \n",
       "1  http://disney.go.com/disneypictures/pirates/    285   \n",
       "\n",
       "                                            keywords original_language  \\\n",
       "0  culture clash,future,space war,space colony,so...                en   \n",
       "1  ocean,drug abuse,exotic island,east india trad...                en   \n",
       "\n",
       "                             original_title  \\\n",
       "0                                    Avatar   \n",
       "1  Pirates of the Caribbean: At World's End   \n",
       "\n",
       "                                            overview  popularity  \\\n",
       "0  In the 22nd century, a paraplegic Marine is di...  150.437577   \n",
       "1  Captain Barbossa, long believed to be dead, ha...  139.082615   \n",
       "\n",
       "                                production_companies     ...      Lionsgate  \\\n",
       "0  Ingenious Film Partners,Twentieth Century Fox ...     ...              0   \n",
       "1  Walt Disney Pictures,Jerry Bruckheimer Films,S...     ...              0   \n",
       "\n",
       "   The  Fox 2000 Pictures  TriStar Pictures Dimension Films  \\\n",
       "0    0                  0                 0               0   \n",
       "1    0                  0                 0               0   \n",
       "\n",
       "  Summit Entertainment Working Title Films Amblin Entertainment  \\\n",
       "0                    0                   0                    0   \n",
       "1                    0                   0                    0   \n",
       "\n",
       "   The Weinstein Company  StudioCanal  \n",
       "0                      0            0  \n",
       "1                      0            0  \n",
       "\n",
       "[2 rows x 69 columns]"
      ]
     },
     "execution_count": 28,
     "metadata": {},
     "output_type": "execute_result"
    }
   ],
   "source": [
    "for pc in top30_pc:\n",
    "    movies[pc] = movies['production_companies'].str.contains(pc).apply(lambda x:1 if x else 0)\n",
    "movies.head(2)    "
   ]
  },
  {
   "cell_type": "code",
   "execution_count": 29,
   "metadata": {
    "collapsed": false
   },
   "outputs": [
    {
     "data": {
      "text/plain": [
       "[['Warner Bros.', 334],\n",
       " ['Universal Pictures', 314],\n",
       " ['Paramount Pictures', 285],\n",
       " ['Twentieth Century Fox Film Corporation', 222],\n",
       " ['Columbia Pictures', 299],\n",
       " ['New Line Cinema', 165],\n",
       " ['Metro-Goldwyn-Mayer (MGM)', 0],\n",
       " ['Touchstone Pictures', 118],\n",
       " ['Walt Disney Pictures', 114],\n",
       " ['Relativity Media', 102]]"
      ]
     },
     "execution_count": 29,
     "metadata": {},
     "output_type": "execute_result"
    }
   ],
   "source": [
    "pc_count = []\n",
    "for pc in top30_pc:\n",
    "    pc_count.append([pc, movies[pc].values.sum()])\n",
    "pc_count[:10]"
   ]
  },
  {
   "cell_type": "markdown",
   "metadata": {
    "deletable": true,
    "editable": true
   },
   "source": [
    "### 2.2.3) status"
   ]
  },
  {
   "cell_type": "code",
   "execution_count": 30,
   "metadata": {
    "collapsed": false,
    "deletable": true,
    "editable": true
   },
   "outputs": [
    {
     "data": {
      "text/plain": [
       "['Released', 'Rumored', 'Post Production']"
      ]
     },
     "execution_count": 30,
     "metadata": {},
     "output_type": "execute_result"
    }
   ],
   "source": [
    "stat_list = movies.status.value_counts().index.tolist()\n",
    "stat_list"
   ]
  },
  {
   "cell_type": "code",
   "execution_count": 31,
   "metadata": {
    "collapsed": false,
    "deletable": true,
    "editable": true
   },
   "outputs": [],
   "source": [
    "for sl in stat_list:\n",
    "    movies[sl] = movies['status'].str.contains(sl).apply(lambda x:1 if x else 0)"
   ]
  },
  {
   "cell_type": "code",
   "execution_count": 32,
   "metadata": {
    "collapsed": false,
    "deletable": true,
    "editable": true
   },
   "outputs": [
    {
     "data": {
      "text/html": [
       "<div>\n",
       "<style scoped>\n",
       "    .dataframe tbody tr th:only-of-type {\n",
       "        vertical-align: middle;\n",
       "    }\n",
       "\n",
       "    .dataframe tbody tr th {\n",
       "        vertical-align: top;\n",
       "    }\n",
       "\n",
       "    .dataframe thead th {\n",
       "        text-align: right;\n",
       "    }\n",
       "</style>\n",
       "<table border=\"1\" class=\"dataframe\">\n",
       "  <thead>\n",
       "    <tr style=\"text-align: right;\">\n",
       "      <th></th>\n",
       "      <th>0</th>\n",
       "    </tr>\n",
       "  </thead>\n",
       "  <tbody>\n",
       "    <tr>\n",
       "      <th>budget</th>\n",
       "      <td>237000000</td>\n",
       "    </tr>\n",
       "    <tr>\n",
       "      <th>genres</th>\n",
       "      <td>Action,Adventure,Fantasy,Science Fiction</td>\n",
       "    </tr>\n",
       "    <tr>\n",
       "      <th>homepage</th>\n",
       "      <td>http://www.avatarmovie.com/</td>\n",
       "    </tr>\n",
       "    <tr>\n",
       "      <th>id</th>\n",
       "      <td>19995</td>\n",
       "    </tr>\n",
       "    <tr>\n",
       "      <th>keywords</th>\n",
       "      <td>culture clash,future,space war,space colony,so...</td>\n",
       "    </tr>\n",
       "    <tr>\n",
       "      <th>original_language</th>\n",
       "      <td>en</td>\n",
       "    </tr>\n",
       "    <tr>\n",
       "      <th>original_title</th>\n",
       "      <td>Avatar</td>\n",
       "    </tr>\n",
       "    <tr>\n",
       "      <th>overview</th>\n",
       "      <td>In the 22nd century, a paraplegic Marine is di...</td>\n",
       "    </tr>\n",
       "    <tr>\n",
       "      <th>popularity</th>\n",
       "      <td>150.438</td>\n",
       "    </tr>\n",
       "    <tr>\n",
       "      <th>production_companies</th>\n",
       "      <td>Ingenious Film Partners,Twentieth Century Fox ...</td>\n",
       "    </tr>\n",
       "    <tr>\n",
       "      <th>production_countries</th>\n",
       "      <td>United States of America,United Kingdom</td>\n",
       "    </tr>\n",
       "    <tr>\n",
       "      <th>release_date</th>\n",
       "      <td>2009-12-10</td>\n",
       "    </tr>\n",
       "    <tr>\n",
       "      <th>revenue</th>\n",
       "      <td>2787965087</td>\n",
       "    </tr>\n",
       "    <tr>\n",
       "      <th>runtime</th>\n",
       "      <td>162</td>\n",
       "    </tr>\n",
       "    <tr>\n",
       "      <th>spoken_languages</th>\n",
       "      <td>English,Español</td>\n",
       "    </tr>\n",
       "    <tr>\n",
       "      <th>status</th>\n",
       "      <td>Released</td>\n",
       "    </tr>\n",
       "    <tr>\n",
       "      <th>tagline</th>\n",
       "      <td>Enter the World of Pandora.</td>\n",
       "    </tr>\n",
       "    <tr>\n",
       "      <th>title</th>\n",
       "      <td>Avatar</td>\n",
       "    </tr>\n",
       "    <tr>\n",
       "      <th>vote_average</th>\n",
       "      <td>7.2</td>\n",
       "    </tr>\n",
       "    <tr>\n",
       "      <th>vote_count</th>\n",
       "      <td>11800</td>\n",
       "    </tr>\n",
       "    <tr>\n",
       "      <th>Music</th>\n",
       "      <td>0</td>\n",
       "    </tr>\n",
       "    <tr>\n",
       "      <th>Drama</th>\n",
       "      <td>0</td>\n",
       "    </tr>\n",
       "    <tr>\n",
       "      <th>Fantasy</th>\n",
       "      <td>1</td>\n",
       "    </tr>\n",
       "    <tr>\n",
       "      <th>Horror</th>\n",
       "      <td>0</td>\n",
       "    </tr>\n",
       "    <tr>\n",
       "      <th>TV Movie</th>\n",
       "      <td>0</td>\n",
       "    </tr>\n",
       "    <tr>\n",
       "      <th>Thriller</th>\n",
       "      <td>0</td>\n",
       "    </tr>\n",
       "    <tr>\n",
       "      <th>War</th>\n",
       "      <td>0</td>\n",
       "    </tr>\n",
       "    <tr>\n",
       "      <th>Mystery</th>\n",
       "      <td>0</td>\n",
       "    </tr>\n",
       "    <tr>\n",
       "      <th>Foreign</th>\n",
       "      <td>0</td>\n",
       "    </tr>\n",
       "    <tr>\n",
       "      <th>History</th>\n",
       "      <td>0</td>\n",
       "    </tr>\n",
       "    <tr>\n",
       "      <th>...</th>\n",
       "      <td>...</td>\n",
       "    </tr>\n",
       "    <tr>\n",
       "      <th>Paramount Pictures</th>\n",
       "      <td>0</td>\n",
       "    </tr>\n",
       "    <tr>\n",
       "      <th>Twentieth Century Fox Film Corporation</th>\n",
       "      <td>1</td>\n",
       "    </tr>\n",
       "    <tr>\n",
       "      <th>Columbia Pictures</th>\n",
       "      <td>0</td>\n",
       "    </tr>\n",
       "    <tr>\n",
       "      <th>New Line Cinema</th>\n",
       "      <td>0</td>\n",
       "    </tr>\n",
       "    <tr>\n",
       "      <th>Metro-Goldwyn-Mayer (MGM)</th>\n",
       "      <td>0</td>\n",
       "    </tr>\n",
       "    <tr>\n",
       "      <th>Touchstone Pictures</th>\n",
       "      <td>0</td>\n",
       "    </tr>\n",
       "    <tr>\n",
       "      <th>Walt Disney Pictures</th>\n",
       "      <td>0</td>\n",
       "    </tr>\n",
       "    <tr>\n",
       "      <th>Relativity Media</th>\n",
       "      <td>0</td>\n",
       "    </tr>\n",
       "    <tr>\n",
       "      <th>Columbia Pictures Corporation</th>\n",
       "      <td>0</td>\n",
       "    </tr>\n",
       "    <tr>\n",
       "      <th>Miramax Films</th>\n",
       "      <td>0</td>\n",
       "    </tr>\n",
       "    <tr>\n",
       "      <th>Village Roadshow Pictures</th>\n",
       "      <td>0</td>\n",
       "    </tr>\n",
       "    <tr>\n",
       "      <th>DreamWorks SKG</th>\n",
       "      <td>0</td>\n",
       "    </tr>\n",
       "    <tr>\n",
       "      <th>Canal+</th>\n",
       "      <td>0</td>\n",
       "    </tr>\n",
       "    <tr>\n",
       "      <th>United Artists</th>\n",
       "      <td>0</td>\n",
       "    </tr>\n",
       "    <tr>\n",
       "      <th>Regency Enterprises</th>\n",
       "      <td>0</td>\n",
       "    </tr>\n",
       "    <tr>\n",
       "      <th>Fox Searchlight Pictures</th>\n",
       "      <td>0</td>\n",
       "    </tr>\n",
       "    <tr>\n",
       "      <th>Dune Entertainment</th>\n",
       "      <td>1</td>\n",
       "    </tr>\n",
       "    <tr>\n",
       "      <th>Lionsgate</th>\n",
       "      <td>0</td>\n",
       "    </tr>\n",
       "    <tr>\n",
       "      <th>The</th>\n",
       "      <td>0</td>\n",
       "    </tr>\n",
       "    <tr>\n",
       "      <th>Fox 2000 Pictures</th>\n",
       "      <td>0</td>\n",
       "    </tr>\n",
       "    <tr>\n",
       "      <th>TriStar Pictures</th>\n",
       "      <td>0</td>\n",
       "    </tr>\n",
       "    <tr>\n",
       "      <th>Dimension Films</th>\n",
       "      <td>0</td>\n",
       "    </tr>\n",
       "    <tr>\n",
       "      <th>Summit Entertainment</th>\n",
       "      <td>0</td>\n",
       "    </tr>\n",
       "    <tr>\n",
       "      <th>Working Title Films</th>\n",
       "      <td>0</td>\n",
       "    </tr>\n",
       "    <tr>\n",
       "      <th>Amblin Entertainment</th>\n",
       "      <td>0</td>\n",
       "    </tr>\n",
       "    <tr>\n",
       "      <th>The Weinstein Company</th>\n",
       "      <td>0</td>\n",
       "    </tr>\n",
       "    <tr>\n",
       "      <th>StudioCanal</th>\n",
       "      <td>0</td>\n",
       "    </tr>\n",
       "    <tr>\n",
       "      <th>Released</th>\n",
       "      <td>1</td>\n",
       "    </tr>\n",
       "    <tr>\n",
       "      <th>Rumored</th>\n",
       "      <td>0</td>\n",
       "    </tr>\n",
       "    <tr>\n",
       "      <th>Post Production</th>\n",
       "      <td>0</td>\n",
       "    </tr>\n",
       "  </tbody>\n",
       "</table>\n",
       "<p>72 rows × 1 columns</p>\n",
       "</div>"
      ],
      "text/plain": [
       "                                                                                        0\n",
       "budget                                                                          237000000\n",
       "genres                                           Action,Adventure,Fantasy,Science Fiction\n",
       "homepage                                                      http://www.avatarmovie.com/\n",
       "id                                                                                  19995\n",
       "keywords                                culture clash,future,space war,space colony,so...\n",
       "original_language                                                                      en\n",
       "original_title                                                                     Avatar\n",
       "overview                                In the 22nd century, a paraplegic Marine is di...\n",
       "popularity                                                                        150.438\n",
       "production_companies                    Ingenious Film Partners,Twentieth Century Fox ...\n",
       "production_countries                              United States of America,United Kingdom\n",
       "release_date                                                                   2009-12-10\n",
       "revenue                                                                        2787965087\n",
       "runtime                                                                               162\n",
       "spoken_languages                                                          English,Español\n",
       "status                                                                           Released\n",
       "tagline                                                       Enter the World of Pandora.\n",
       "title                                                                              Avatar\n",
       "vote_average                                                                          7.2\n",
       "vote_count                                                                          11800\n",
       "Music                                                                                   0\n",
       "Drama                                                                                   0\n",
       "Fantasy                                                                                 1\n",
       "Horror                                                                                  0\n",
       "TV Movie                                                                                0\n",
       "Thriller                                                                                0\n",
       "War                                                                                     0\n",
       "Mystery                                                                                 0\n",
       "Foreign                                                                                 0\n",
       "History                                                                                 0\n",
       "...                                                                                   ...\n",
       "Paramount Pictures                                                                      0\n",
       "Twentieth Century Fox Film Corporation                                                  1\n",
       "Columbia Pictures                                                                       0\n",
       "New Line Cinema                                                                         0\n",
       "Metro-Goldwyn-Mayer (MGM)                                                               0\n",
       "Touchstone Pictures                                                                     0\n",
       "Walt Disney Pictures                                                                    0\n",
       "Relativity Media                                                                        0\n",
       "Columbia Pictures Corporation                                                           0\n",
       "Miramax Films                                                                           0\n",
       "Village Roadshow Pictures                                                               0\n",
       "DreamWorks SKG                                                                          0\n",
       "Canal+                                                                                  0\n",
       "United Artists                                                                          0\n",
       "Regency Enterprises                                                                     0\n",
       "Fox Searchlight Pictures                                                                0\n",
       "Dune Entertainment                                                                      1\n",
       "Lionsgate                                                                               0\n",
       " The                                                                                    0\n",
       "Fox 2000 Pictures                                                                       0\n",
       "TriStar Pictures                                                                        0\n",
       "Dimension Films                                                                         0\n",
       "Summit Entertainment                                                                    0\n",
       "Working Title Films                                                                     0\n",
       "Amblin Entertainment                                                                    0\n",
       "The Weinstein Company                                                                   0\n",
       "StudioCanal                                                                             0\n",
       "Released                                                                                1\n",
       "Rumored                                                                                 0\n",
       "Post Production                                                                         0\n",
       "\n",
       "[72 rows x 1 columns]"
      ]
     },
     "execution_count": 32,
     "metadata": {},
     "output_type": "execute_result"
    }
   ],
   "source": [
    "movies.head(1).T"
   ]
  },
  {
   "cell_type": "markdown",
   "metadata": {
    "deletable": true,
    "editable": true
   },
   "source": [
    "## 2.3) Create new features release year and month based on Release date"
   ]
  },
  {
   "cell_type": "code",
   "execution_count": 33,
   "metadata": {
    "collapsed": true,
    "deletable": true,
    "editable": true
   },
   "outputs": [],
   "source": [
    "from datetime import datetime\n",
    "movies['release_date'] = pd.to_datetime(movies['release_date'])"
   ]
  },
  {
   "cell_type": "code",
   "execution_count": 34,
   "metadata": {
    "collapsed": false,
    "deletable": true,
    "editable": true
   },
   "outputs": [
    {
     "data": {
      "text/html": [
       "<div>\n",
       "<style scoped>\n",
       "    .dataframe tbody tr th:only-of-type {\n",
       "        vertical-align: middle;\n",
       "    }\n",
       "\n",
       "    .dataframe tbody tr th {\n",
       "        vertical-align: top;\n",
       "    }\n",
       "\n",
       "    .dataframe thead th {\n",
       "        text-align: right;\n",
       "    }\n",
       "</style>\n",
       "<table border=\"1\" class=\"dataframe\">\n",
       "  <thead>\n",
       "    <tr style=\"text-align: right;\">\n",
       "      <th></th>\n",
       "      <th>0</th>\n",
       "    </tr>\n",
       "  </thead>\n",
       "  <tbody>\n",
       "    <tr>\n",
       "      <th>budget</th>\n",
       "      <td>237000000</td>\n",
       "    </tr>\n",
       "    <tr>\n",
       "      <th>genres</th>\n",
       "      <td>Action,Adventure,Fantasy,Science Fiction</td>\n",
       "    </tr>\n",
       "    <tr>\n",
       "      <th>homepage</th>\n",
       "      <td>http://www.avatarmovie.com/</td>\n",
       "    </tr>\n",
       "    <tr>\n",
       "      <th>id</th>\n",
       "      <td>19995</td>\n",
       "    </tr>\n",
       "    <tr>\n",
       "      <th>keywords</th>\n",
       "      <td>culture clash,future,space war,space colony,so...</td>\n",
       "    </tr>\n",
       "    <tr>\n",
       "      <th>original_language</th>\n",
       "      <td>en</td>\n",
       "    </tr>\n",
       "    <tr>\n",
       "      <th>original_title</th>\n",
       "      <td>Avatar</td>\n",
       "    </tr>\n",
       "    <tr>\n",
       "      <th>overview</th>\n",
       "      <td>In the 22nd century, a paraplegic Marine is di...</td>\n",
       "    </tr>\n",
       "    <tr>\n",
       "      <th>popularity</th>\n",
       "      <td>150.438</td>\n",
       "    </tr>\n",
       "    <tr>\n",
       "      <th>production_companies</th>\n",
       "      <td>Ingenious Film Partners,Twentieth Century Fox ...</td>\n",
       "    </tr>\n",
       "    <tr>\n",
       "      <th>production_countries</th>\n",
       "      <td>United States of America,United Kingdom</td>\n",
       "    </tr>\n",
       "    <tr>\n",
       "      <th>release_date</th>\n",
       "      <td>2009-12-10 00:00:00</td>\n",
       "    </tr>\n",
       "    <tr>\n",
       "      <th>revenue</th>\n",
       "      <td>2787965087</td>\n",
       "    </tr>\n",
       "    <tr>\n",
       "      <th>runtime</th>\n",
       "      <td>162</td>\n",
       "    </tr>\n",
       "    <tr>\n",
       "      <th>spoken_languages</th>\n",
       "      <td>English,Español</td>\n",
       "    </tr>\n",
       "    <tr>\n",
       "      <th>status</th>\n",
       "      <td>Released</td>\n",
       "    </tr>\n",
       "    <tr>\n",
       "      <th>tagline</th>\n",
       "      <td>Enter the World of Pandora.</td>\n",
       "    </tr>\n",
       "    <tr>\n",
       "      <th>title</th>\n",
       "      <td>Avatar</td>\n",
       "    </tr>\n",
       "    <tr>\n",
       "      <th>vote_average</th>\n",
       "      <td>7.2</td>\n",
       "    </tr>\n",
       "    <tr>\n",
       "      <th>vote_count</th>\n",
       "      <td>11800</td>\n",
       "    </tr>\n",
       "    <tr>\n",
       "      <th>Music</th>\n",
       "      <td>0</td>\n",
       "    </tr>\n",
       "    <tr>\n",
       "      <th>Drama</th>\n",
       "      <td>0</td>\n",
       "    </tr>\n",
       "    <tr>\n",
       "      <th>Fantasy</th>\n",
       "      <td>1</td>\n",
       "    </tr>\n",
       "    <tr>\n",
       "      <th>Horror</th>\n",
       "      <td>0</td>\n",
       "    </tr>\n",
       "    <tr>\n",
       "      <th>TV Movie</th>\n",
       "      <td>0</td>\n",
       "    </tr>\n",
       "    <tr>\n",
       "      <th>Thriller</th>\n",
       "      <td>0</td>\n",
       "    </tr>\n",
       "    <tr>\n",
       "      <th>War</th>\n",
       "      <td>0</td>\n",
       "    </tr>\n",
       "    <tr>\n",
       "      <th>Mystery</th>\n",
       "      <td>0</td>\n",
       "    </tr>\n",
       "    <tr>\n",
       "      <th>Foreign</th>\n",
       "      <td>0</td>\n",
       "    </tr>\n",
       "    <tr>\n",
       "      <th>History</th>\n",
       "      <td>0</td>\n",
       "    </tr>\n",
       "    <tr>\n",
       "      <th>...</th>\n",
       "      <td>...</td>\n",
       "    </tr>\n",
       "    <tr>\n",
       "      <th>Columbia Pictures</th>\n",
       "      <td>0</td>\n",
       "    </tr>\n",
       "    <tr>\n",
       "      <th>New Line Cinema</th>\n",
       "      <td>0</td>\n",
       "    </tr>\n",
       "    <tr>\n",
       "      <th>Metro-Goldwyn-Mayer (MGM)</th>\n",
       "      <td>0</td>\n",
       "    </tr>\n",
       "    <tr>\n",
       "      <th>Touchstone Pictures</th>\n",
       "      <td>0</td>\n",
       "    </tr>\n",
       "    <tr>\n",
       "      <th>Walt Disney Pictures</th>\n",
       "      <td>0</td>\n",
       "    </tr>\n",
       "    <tr>\n",
       "      <th>Relativity Media</th>\n",
       "      <td>0</td>\n",
       "    </tr>\n",
       "    <tr>\n",
       "      <th>Columbia Pictures Corporation</th>\n",
       "      <td>0</td>\n",
       "    </tr>\n",
       "    <tr>\n",
       "      <th>Miramax Films</th>\n",
       "      <td>0</td>\n",
       "    </tr>\n",
       "    <tr>\n",
       "      <th>Village Roadshow Pictures</th>\n",
       "      <td>0</td>\n",
       "    </tr>\n",
       "    <tr>\n",
       "      <th>DreamWorks SKG</th>\n",
       "      <td>0</td>\n",
       "    </tr>\n",
       "    <tr>\n",
       "      <th>Canal+</th>\n",
       "      <td>0</td>\n",
       "    </tr>\n",
       "    <tr>\n",
       "      <th>United Artists</th>\n",
       "      <td>0</td>\n",
       "    </tr>\n",
       "    <tr>\n",
       "      <th>Regency Enterprises</th>\n",
       "      <td>0</td>\n",
       "    </tr>\n",
       "    <tr>\n",
       "      <th>Fox Searchlight Pictures</th>\n",
       "      <td>0</td>\n",
       "    </tr>\n",
       "    <tr>\n",
       "      <th>Dune Entertainment</th>\n",
       "      <td>1</td>\n",
       "    </tr>\n",
       "    <tr>\n",
       "      <th>Lionsgate</th>\n",
       "      <td>0</td>\n",
       "    </tr>\n",
       "    <tr>\n",
       "      <th>The</th>\n",
       "      <td>0</td>\n",
       "    </tr>\n",
       "    <tr>\n",
       "      <th>Fox 2000 Pictures</th>\n",
       "      <td>0</td>\n",
       "    </tr>\n",
       "    <tr>\n",
       "      <th>TriStar Pictures</th>\n",
       "      <td>0</td>\n",
       "    </tr>\n",
       "    <tr>\n",
       "      <th>Dimension Films</th>\n",
       "      <td>0</td>\n",
       "    </tr>\n",
       "    <tr>\n",
       "      <th>Summit Entertainment</th>\n",
       "      <td>0</td>\n",
       "    </tr>\n",
       "    <tr>\n",
       "      <th>Working Title Films</th>\n",
       "      <td>0</td>\n",
       "    </tr>\n",
       "    <tr>\n",
       "      <th>Amblin Entertainment</th>\n",
       "      <td>0</td>\n",
       "    </tr>\n",
       "    <tr>\n",
       "      <th>The Weinstein Company</th>\n",
       "      <td>0</td>\n",
       "    </tr>\n",
       "    <tr>\n",
       "      <th>StudioCanal</th>\n",
       "      <td>0</td>\n",
       "    </tr>\n",
       "    <tr>\n",
       "      <th>Released</th>\n",
       "      <td>1</td>\n",
       "    </tr>\n",
       "    <tr>\n",
       "      <th>Rumored</th>\n",
       "      <td>0</td>\n",
       "    </tr>\n",
       "    <tr>\n",
       "      <th>Post Production</th>\n",
       "      <td>0</td>\n",
       "    </tr>\n",
       "    <tr>\n",
       "      <th>release_year</th>\n",
       "      <td>2009</td>\n",
       "    </tr>\n",
       "    <tr>\n",
       "      <th>release_month</th>\n",
       "      <td>12</td>\n",
       "    </tr>\n",
       "  </tbody>\n",
       "</table>\n",
       "<p>74 rows × 1 columns</p>\n",
       "</div>"
      ],
      "text/plain": [
       "                                                                               0\n",
       "budget                                                                 237000000\n",
       "genres                                  Action,Adventure,Fantasy,Science Fiction\n",
       "homepage                                             http://www.avatarmovie.com/\n",
       "id                                                                         19995\n",
       "keywords                       culture clash,future,space war,space colony,so...\n",
       "original_language                                                             en\n",
       "original_title                                                            Avatar\n",
       "overview                       In the 22nd century, a paraplegic Marine is di...\n",
       "popularity                                                               150.438\n",
       "production_companies           Ingenious Film Partners,Twentieth Century Fox ...\n",
       "production_countries                     United States of America,United Kingdom\n",
       "release_date                                                 2009-12-10 00:00:00\n",
       "revenue                                                               2787965087\n",
       "runtime                                                                      162\n",
       "spoken_languages                                                 English,Español\n",
       "status                                                                  Released\n",
       "tagline                                              Enter the World of Pandora.\n",
       "title                                                                     Avatar\n",
       "vote_average                                                                 7.2\n",
       "vote_count                                                                 11800\n",
       "Music                                                                          0\n",
       "Drama                                                                          0\n",
       "Fantasy                                                                        1\n",
       "Horror                                                                         0\n",
       "TV Movie                                                                       0\n",
       "Thriller                                                                       0\n",
       "War                                                                            0\n",
       "Mystery                                                                        0\n",
       "Foreign                                                                        0\n",
       "History                                                                        0\n",
       "...                                                                          ...\n",
       "Columbia Pictures                                                              0\n",
       "New Line Cinema                                                                0\n",
       "Metro-Goldwyn-Mayer (MGM)                                                      0\n",
       "Touchstone Pictures                                                            0\n",
       "Walt Disney Pictures                                                           0\n",
       "Relativity Media                                                               0\n",
       "Columbia Pictures Corporation                                                  0\n",
       "Miramax Films                                                                  0\n",
       "Village Roadshow Pictures                                                      0\n",
       "DreamWorks SKG                                                                 0\n",
       "Canal+                                                                         0\n",
       "United Artists                                                                 0\n",
       "Regency Enterprises                                                            0\n",
       "Fox Searchlight Pictures                                                       0\n",
       "Dune Entertainment                                                             1\n",
       "Lionsgate                                                                      0\n",
       " The                                                                           0\n",
       "Fox 2000 Pictures                                                              0\n",
       "TriStar Pictures                                                               0\n",
       "Dimension Films                                                                0\n",
       "Summit Entertainment                                                           0\n",
       "Working Title Films                                                            0\n",
       "Amblin Entertainment                                                           0\n",
       "The Weinstein Company                                                          0\n",
       "StudioCanal                                                                    0\n",
       "Released                                                                       1\n",
       "Rumored                                                                        0\n",
       "Post Production                                                                0\n",
       "release_year                                                                2009\n",
       "release_month                                                                 12\n",
       "\n",
       "[74 rows x 1 columns]"
      ]
     },
     "execution_count": 34,
     "metadata": {},
     "output_type": "execute_result"
    }
   ],
   "source": [
    "movies['release_year'] = movies['release_date'].dt.year\n",
    "movies['release_month'] = movies['release_date'].dt.month\n",
    "movies.head(1).T"
   ]
  },
  {
   "cell_type": "markdown",
   "metadata": {
    "deletable": true,
    "editable": true
   },
   "source": [
    "# 3) Linear Regression\n",
    "\n",
    "    - Identify the features for Linear Regression\n",
    "    - Split for training & test data 70-30\n",
    "    - Perform linear regression to predict 'vote average'\n",
    "    - Get the score of the model"
   ]
  },
  {
   "cell_type": "markdown",
   "metadata": {
    "deletable": true,
    "editable": true
   },
   "source": [
    "## 3.1) Prepare the data for Linear Regression "
   ]
  },
  {
   "cell_type": "code",
   "execution_count": 35,
   "metadata": {
    "collapsed": false,
    "deletable": true,
    "editable": true
   },
   "outputs": [
    {
     "name": "stdout",
     "output_type": "stream",
     "text": [
      "<class 'pandas.core.frame.DataFrame'>\n",
      "Int64Index: 4802 entries, 0 to 4802\n",
      "Data columns (total 74 columns):\n",
      "budget                                    4802 non-null int64\n",
      "genres                                    4802 non-null object\n",
      "homepage                                  1712 non-null object\n",
      "id                                        4802 non-null int64\n",
      "keywords                                  4802 non-null object\n",
      "original_language                         4802 non-null object\n",
      "original_title                            4802 non-null object\n",
      "overview                                  4799 non-null object\n",
      "popularity                                4802 non-null float64\n",
      "production_companies                      4802 non-null object\n",
      "production_countries                      4802 non-null object\n",
      "release_date                              4802 non-null datetime64[ns]\n",
      "revenue                                   4802 non-null int64\n",
      "runtime                                   4802 non-null float64\n",
      "spoken_languages                          4802 non-null object\n",
      "status                                    4802 non-null object\n",
      "tagline                                   3959 non-null object\n",
      "title                                     4802 non-null object\n",
      "vote_average                              4802 non-null float64\n",
      "vote_count                                4802 non-null int64\n",
      "Music                                     4802 non-null int64\n",
      "Drama                                     4802 non-null int64\n",
      "Fantasy                                   4802 non-null int64\n",
      "Horror                                    4802 non-null int64\n",
      "TV Movie                                  4802 non-null int64\n",
      "Thriller                                  4802 non-null int64\n",
      "War                                       4802 non-null int64\n",
      "Mystery                                   4802 non-null int64\n",
      "Foreign                                   4802 non-null int64\n",
      "History                                   4802 non-null int64\n",
      "Crime                                     4802 non-null int64\n",
      "Comedy                                    4802 non-null int64\n",
      "Documentary                               4802 non-null int64\n",
      "Adventure                                 4802 non-null int64\n",
      "Family                                    4802 non-null int64\n",
      "Action                                    4802 non-null int64\n",
      "Animation                                 4802 non-null int64\n",
      "Romance                                   4802 non-null int64\n",
      "Western                                   4802 non-null int64\n",
      "Science Fiction                           4802 non-null int64\n",
      "Warner Bros.                              4802 non-null int64\n",
      "Universal Pictures                        4802 non-null int64\n",
      "Paramount Pictures                        4802 non-null int64\n",
      "Twentieth Century Fox Film Corporation    4802 non-null int64\n",
      "Columbia Pictures                         4802 non-null int64\n",
      "New Line Cinema                           4802 non-null int64\n",
      "Metro-Goldwyn-Mayer (MGM)                 4802 non-null int64\n",
      "Touchstone Pictures                       4802 non-null int64\n",
      "Walt Disney Pictures                      4802 non-null int64\n",
      "Relativity Media                          4802 non-null int64\n",
      "Columbia Pictures Corporation             4802 non-null int64\n",
      "Miramax Films                             4802 non-null int64\n",
      "Village Roadshow Pictures                 4802 non-null int64\n",
      "DreamWorks SKG                            4802 non-null int64\n",
      "Canal+                                    4802 non-null int64\n",
      "United Artists                            4802 non-null int64\n",
      "Regency Enterprises                       4802 non-null int64\n",
      "Fox Searchlight Pictures                  4802 non-null int64\n",
      "Dune Entertainment                        4802 non-null int64\n",
      "Lionsgate                                 4802 non-null int64\n",
      " The                                      4802 non-null int64\n",
      "Fox 2000 Pictures                         4802 non-null int64\n",
      "TriStar Pictures                          4802 non-null int64\n",
      "Dimension Films                           4802 non-null int64\n",
      "Summit Entertainment                      4802 non-null int64\n",
      "Working Title Films                       4802 non-null int64\n",
      "Amblin Entertainment                      4802 non-null int64\n",
      "The Weinstein Company                     4802 non-null int64\n",
      "StudioCanal                               4802 non-null int64\n",
      "Released                                  4802 non-null int64\n",
      "Rumored                                   4802 non-null int64\n",
      "Post Production                           4802 non-null int64\n",
      "release_year                              4802 non-null int64\n",
      "release_month                             4802 non-null int64\n",
      "dtypes: datetime64[ns](1), float64(3), int64(58), object(12)\n",
      "memory usage: 2.7+ MB\n"
     ]
    }
   ],
   "source": [
    "movies.info()"
   ]
  },
  {
   "cell_type": "markdown",
   "metadata": {
    "deletable": true,
    "editable": true
   },
   "source": [
    "Drop the columns as they are either descriptive information about the movies or they are already converted to numeric. genres, homepage, original_language, original_title, overview"
   ]
  },
  {
   "cell_type": "code",
   "execution_count": 36,
   "metadata": {
    "collapsed": false,
    "deletable": true,
    "editable": true
   },
   "outputs": [],
   "source": [
    "movies.drop(['genres', 'homepage', 'original_language', 'original_title', 'overview'], axis=1, inplace=True)"
   ]
  },
  {
   "cell_type": "markdown",
   "metadata": {
    "collapsed": true,
    "deletable": true,
    "editable": true
   },
   "source": [
    "drop the columns 'keywords', production_companies, production_countries, spoken_languages, status, tagline, title"
   ]
  },
  {
   "cell_type": "code",
   "execution_count": 37,
   "metadata": {
    "collapsed": true,
    "deletable": true,
    "editable": true
   },
   "outputs": [],
   "source": [
    "movies.drop(['keywords', 'production_companies', 'production_countries', 'spoken_languages', 'status', 'tagline', 'title', 'id', 'release_date'], axis=1, inplace=True)"
   ]
  },
  {
   "cell_type": "code",
   "execution_count": 38,
   "metadata": {
    "collapsed": false,
    "deletable": true,
    "editable": true
   },
   "outputs": [
    {
     "data": {
      "text/html": [
       "<div>\n",
       "<style scoped>\n",
       "    .dataframe tbody tr th:only-of-type {\n",
       "        vertical-align: middle;\n",
       "    }\n",
       "\n",
       "    .dataframe tbody tr th {\n",
       "        vertical-align: top;\n",
       "    }\n",
       "\n",
       "    .dataframe thead th {\n",
       "        text-align: right;\n",
       "    }\n",
       "</style>\n",
       "<table border=\"1\" class=\"dataframe\">\n",
       "  <thead>\n",
       "    <tr style=\"text-align: right;\">\n",
       "      <th></th>\n",
       "      <th>0</th>\n",
       "    </tr>\n",
       "  </thead>\n",
       "  <tbody>\n",
       "    <tr>\n",
       "      <th>budget</th>\n",
       "      <td>2.370000e+08</td>\n",
       "    </tr>\n",
       "    <tr>\n",
       "      <th>popularity</th>\n",
       "      <td>1.504376e+02</td>\n",
       "    </tr>\n",
       "    <tr>\n",
       "      <th>revenue</th>\n",
       "      <td>2.787965e+09</td>\n",
       "    </tr>\n",
       "    <tr>\n",
       "      <th>runtime</th>\n",
       "      <td>1.620000e+02</td>\n",
       "    </tr>\n",
       "    <tr>\n",
       "      <th>vote_average</th>\n",
       "      <td>7.200000e+00</td>\n",
       "    </tr>\n",
       "    <tr>\n",
       "      <th>vote_count</th>\n",
       "      <td>1.180000e+04</td>\n",
       "    </tr>\n",
       "    <tr>\n",
       "      <th>Music</th>\n",
       "      <td>0.000000e+00</td>\n",
       "    </tr>\n",
       "    <tr>\n",
       "      <th>Drama</th>\n",
       "      <td>0.000000e+00</td>\n",
       "    </tr>\n",
       "    <tr>\n",
       "      <th>Fantasy</th>\n",
       "      <td>1.000000e+00</td>\n",
       "    </tr>\n",
       "    <tr>\n",
       "      <th>Horror</th>\n",
       "      <td>0.000000e+00</td>\n",
       "    </tr>\n",
       "    <tr>\n",
       "      <th>TV Movie</th>\n",
       "      <td>0.000000e+00</td>\n",
       "    </tr>\n",
       "    <tr>\n",
       "      <th>Thriller</th>\n",
       "      <td>0.000000e+00</td>\n",
       "    </tr>\n",
       "    <tr>\n",
       "      <th>War</th>\n",
       "      <td>0.000000e+00</td>\n",
       "    </tr>\n",
       "    <tr>\n",
       "      <th>Mystery</th>\n",
       "      <td>0.000000e+00</td>\n",
       "    </tr>\n",
       "    <tr>\n",
       "      <th>Foreign</th>\n",
       "      <td>0.000000e+00</td>\n",
       "    </tr>\n",
       "    <tr>\n",
       "      <th>History</th>\n",
       "      <td>0.000000e+00</td>\n",
       "    </tr>\n",
       "    <tr>\n",
       "      <th>Crime</th>\n",
       "      <td>0.000000e+00</td>\n",
       "    </tr>\n",
       "    <tr>\n",
       "      <th>Comedy</th>\n",
       "      <td>0.000000e+00</td>\n",
       "    </tr>\n",
       "    <tr>\n",
       "      <th>Documentary</th>\n",
       "      <td>0.000000e+00</td>\n",
       "    </tr>\n",
       "    <tr>\n",
       "      <th>Adventure</th>\n",
       "      <td>1.000000e+00</td>\n",
       "    </tr>\n",
       "    <tr>\n",
       "      <th>Family</th>\n",
       "      <td>0.000000e+00</td>\n",
       "    </tr>\n",
       "    <tr>\n",
       "      <th>Action</th>\n",
       "      <td>1.000000e+00</td>\n",
       "    </tr>\n",
       "    <tr>\n",
       "      <th>Animation</th>\n",
       "      <td>0.000000e+00</td>\n",
       "    </tr>\n",
       "    <tr>\n",
       "      <th>Romance</th>\n",
       "      <td>0.000000e+00</td>\n",
       "    </tr>\n",
       "    <tr>\n",
       "      <th>Western</th>\n",
       "      <td>0.000000e+00</td>\n",
       "    </tr>\n",
       "    <tr>\n",
       "      <th>Science Fiction</th>\n",
       "      <td>1.000000e+00</td>\n",
       "    </tr>\n",
       "    <tr>\n",
       "      <th>Warner Bros.</th>\n",
       "      <td>0.000000e+00</td>\n",
       "    </tr>\n",
       "    <tr>\n",
       "      <th>Universal Pictures</th>\n",
       "      <td>0.000000e+00</td>\n",
       "    </tr>\n",
       "    <tr>\n",
       "      <th>Paramount Pictures</th>\n",
       "      <td>0.000000e+00</td>\n",
       "    </tr>\n",
       "    <tr>\n",
       "      <th>Twentieth Century Fox Film Corporation</th>\n",
       "      <td>1.000000e+00</td>\n",
       "    </tr>\n",
       "    <tr>\n",
       "      <th>Columbia Pictures</th>\n",
       "      <td>0.000000e+00</td>\n",
       "    </tr>\n",
       "    <tr>\n",
       "      <th>New Line Cinema</th>\n",
       "      <td>0.000000e+00</td>\n",
       "    </tr>\n",
       "    <tr>\n",
       "      <th>Metro-Goldwyn-Mayer (MGM)</th>\n",
       "      <td>0.000000e+00</td>\n",
       "    </tr>\n",
       "    <tr>\n",
       "      <th>Touchstone Pictures</th>\n",
       "      <td>0.000000e+00</td>\n",
       "    </tr>\n",
       "    <tr>\n",
       "      <th>Walt Disney Pictures</th>\n",
       "      <td>0.000000e+00</td>\n",
       "    </tr>\n",
       "    <tr>\n",
       "      <th>Relativity Media</th>\n",
       "      <td>0.000000e+00</td>\n",
       "    </tr>\n",
       "    <tr>\n",
       "      <th>Columbia Pictures Corporation</th>\n",
       "      <td>0.000000e+00</td>\n",
       "    </tr>\n",
       "    <tr>\n",
       "      <th>Miramax Films</th>\n",
       "      <td>0.000000e+00</td>\n",
       "    </tr>\n",
       "    <tr>\n",
       "      <th>Village Roadshow Pictures</th>\n",
       "      <td>0.000000e+00</td>\n",
       "    </tr>\n",
       "    <tr>\n",
       "      <th>DreamWorks SKG</th>\n",
       "      <td>0.000000e+00</td>\n",
       "    </tr>\n",
       "    <tr>\n",
       "      <th>Canal+</th>\n",
       "      <td>0.000000e+00</td>\n",
       "    </tr>\n",
       "    <tr>\n",
       "      <th>United Artists</th>\n",
       "      <td>0.000000e+00</td>\n",
       "    </tr>\n",
       "    <tr>\n",
       "      <th>Regency Enterprises</th>\n",
       "      <td>0.000000e+00</td>\n",
       "    </tr>\n",
       "    <tr>\n",
       "      <th>Fox Searchlight Pictures</th>\n",
       "      <td>0.000000e+00</td>\n",
       "    </tr>\n",
       "    <tr>\n",
       "      <th>Dune Entertainment</th>\n",
       "      <td>1.000000e+00</td>\n",
       "    </tr>\n",
       "    <tr>\n",
       "      <th>Lionsgate</th>\n",
       "      <td>0.000000e+00</td>\n",
       "    </tr>\n",
       "    <tr>\n",
       "      <th>The</th>\n",
       "      <td>0.000000e+00</td>\n",
       "    </tr>\n",
       "    <tr>\n",
       "      <th>Fox 2000 Pictures</th>\n",
       "      <td>0.000000e+00</td>\n",
       "    </tr>\n",
       "    <tr>\n",
       "      <th>TriStar Pictures</th>\n",
       "      <td>0.000000e+00</td>\n",
       "    </tr>\n",
       "    <tr>\n",
       "      <th>Dimension Films</th>\n",
       "      <td>0.000000e+00</td>\n",
       "    </tr>\n",
       "    <tr>\n",
       "      <th>Summit Entertainment</th>\n",
       "      <td>0.000000e+00</td>\n",
       "    </tr>\n",
       "    <tr>\n",
       "      <th>Working Title Films</th>\n",
       "      <td>0.000000e+00</td>\n",
       "    </tr>\n",
       "    <tr>\n",
       "      <th>Amblin Entertainment</th>\n",
       "      <td>0.000000e+00</td>\n",
       "    </tr>\n",
       "    <tr>\n",
       "      <th>The Weinstein Company</th>\n",
       "      <td>0.000000e+00</td>\n",
       "    </tr>\n",
       "    <tr>\n",
       "      <th>StudioCanal</th>\n",
       "      <td>0.000000e+00</td>\n",
       "    </tr>\n",
       "    <tr>\n",
       "      <th>Released</th>\n",
       "      <td>1.000000e+00</td>\n",
       "    </tr>\n",
       "    <tr>\n",
       "      <th>Rumored</th>\n",
       "      <td>0.000000e+00</td>\n",
       "    </tr>\n",
       "    <tr>\n",
       "      <th>Post Production</th>\n",
       "      <td>0.000000e+00</td>\n",
       "    </tr>\n",
       "    <tr>\n",
       "      <th>release_year</th>\n",
       "      <td>2.009000e+03</td>\n",
       "    </tr>\n",
       "    <tr>\n",
       "      <th>release_month</th>\n",
       "      <td>1.200000e+01</td>\n",
       "    </tr>\n",
       "  </tbody>\n",
       "</table>\n",
       "</div>"
      ],
      "text/plain": [
       "                                                   0\n",
       "budget                                  2.370000e+08\n",
       "popularity                              1.504376e+02\n",
       "revenue                                 2.787965e+09\n",
       "runtime                                 1.620000e+02\n",
       "vote_average                            7.200000e+00\n",
       "vote_count                              1.180000e+04\n",
       "Music                                   0.000000e+00\n",
       "Drama                                   0.000000e+00\n",
       "Fantasy                                 1.000000e+00\n",
       "Horror                                  0.000000e+00\n",
       "TV Movie                                0.000000e+00\n",
       "Thriller                                0.000000e+00\n",
       "War                                     0.000000e+00\n",
       "Mystery                                 0.000000e+00\n",
       "Foreign                                 0.000000e+00\n",
       "History                                 0.000000e+00\n",
       "Crime                                   0.000000e+00\n",
       "Comedy                                  0.000000e+00\n",
       "Documentary                             0.000000e+00\n",
       "Adventure                               1.000000e+00\n",
       "Family                                  0.000000e+00\n",
       "Action                                  1.000000e+00\n",
       "Animation                               0.000000e+00\n",
       "Romance                                 0.000000e+00\n",
       "Western                                 0.000000e+00\n",
       "Science Fiction                         1.000000e+00\n",
       "Warner Bros.                            0.000000e+00\n",
       "Universal Pictures                      0.000000e+00\n",
       "Paramount Pictures                      0.000000e+00\n",
       "Twentieth Century Fox Film Corporation  1.000000e+00\n",
       "Columbia Pictures                       0.000000e+00\n",
       "New Line Cinema                         0.000000e+00\n",
       "Metro-Goldwyn-Mayer (MGM)               0.000000e+00\n",
       "Touchstone Pictures                     0.000000e+00\n",
       "Walt Disney Pictures                    0.000000e+00\n",
       "Relativity Media                        0.000000e+00\n",
       "Columbia Pictures Corporation           0.000000e+00\n",
       "Miramax Films                           0.000000e+00\n",
       "Village Roadshow Pictures               0.000000e+00\n",
       "DreamWorks SKG                          0.000000e+00\n",
       "Canal+                                  0.000000e+00\n",
       "United Artists                          0.000000e+00\n",
       "Regency Enterprises                     0.000000e+00\n",
       "Fox Searchlight Pictures                0.000000e+00\n",
       "Dune Entertainment                      1.000000e+00\n",
       "Lionsgate                               0.000000e+00\n",
       " The                                    0.000000e+00\n",
       "Fox 2000 Pictures                       0.000000e+00\n",
       "TriStar Pictures                        0.000000e+00\n",
       "Dimension Films                         0.000000e+00\n",
       "Summit Entertainment                    0.000000e+00\n",
       "Working Title Films                     0.000000e+00\n",
       "Amblin Entertainment                    0.000000e+00\n",
       "The Weinstein Company                   0.000000e+00\n",
       "StudioCanal                             0.000000e+00\n",
       "Released                                1.000000e+00\n",
       "Rumored                                 0.000000e+00\n",
       "Post Production                         0.000000e+00\n",
       "release_year                            2.009000e+03\n",
       "release_month                           1.200000e+01"
      ]
     },
     "execution_count": 38,
     "metadata": {},
     "output_type": "execute_result"
    }
   ],
   "source": [
    "movies.head(1).T"
   ]
  },
  {
   "cell_type": "markdown",
   "metadata": {
    "deletable": true,
    "editable": true
   },
   "source": [
    "## 3.2) Identify the features for Linear Regression\n",
    "\n",
    "- The outcome/dependent variable is vote_average\n",
    "- We are trying to predict vote_average based on the features or input variables."
   ]
  },
  {
   "cell_type": "code",
   "execution_count": 39,
   "metadata": {
    "collapsed": true,
    "deletable": true,
    "editable": true
   },
   "outputs": [],
   "source": [
    "# Importing modules\n",
    "from sklearn.metrics import accuracy_score, mean_squared_error\n",
    "from sklearn.model_selection import train_test_split\n",
    "from sklearn import linear_model"
   ]
  },
  {
   "cell_type": "markdown",
   "metadata": {},
   "source": [
    "#### Ignoring vote_count as it means the same as vote_average"
   ]
  },
  {
   "cell_type": "code",
   "execution_count": 40,
   "metadata": {
    "collapsed": false,
    "deletable": true,
    "editable": true
   },
   "outputs": [],
   "source": [
    "X = movies.drop(['vote_average', 'vote_count'], axis=1)\n",
    "y = movies['vote_average']"
   ]
  },
  {
   "cell_type": "code",
   "execution_count": 41,
   "metadata": {
    "collapsed": false,
    "deletable": true,
    "editable": true
   },
   "outputs": [
    {
     "data": {
      "text/html": [
       "<div>\n",
       "<style scoped>\n",
       "    .dataframe tbody tr th:only-of-type {\n",
       "        vertical-align: middle;\n",
       "    }\n",
       "\n",
       "    .dataframe tbody tr th {\n",
       "        vertical-align: top;\n",
       "    }\n",
       "\n",
       "    .dataframe thead th {\n",
       "        text-align: right;\n",
       "    }\n",
       "</style>\n",
       "<table border=\"1\" class=\"dataframe\">\n",
       "  <thead>\n",
       "    <tr style=\"text-align: right;\">\n",
       "      <th></th>\n",
       "      <th>budget</th>\n",
       "      <th>popularity</th>\n",
       "      <th>revenue</th>\n",
       "      <th>runtime</th>\n",
       "      <th>Music</th>\n",
       "      <th>Drama</th>\n",
       "      <th>Fantasy</th>\n",
       "      <th>Horror</th>\n",
       "      <th>TV Movie</th>\n",
       "      <th>Thriller</th>\n",
       "      <th>...</th>\n",
       "      <th>Summit Entertainment</th>\n",
       "      <th>Working Title Films</th>\n",
       "      <th>Amblin Entertainment</th>\n",
       "      <th>The Weinstein Company</th>\n",
       "      <th>StudioCanal</th>\n",
       "      <th>Released</th>\n",
       "      <th>Rumored</th>\n",
       "      <th>Post Production</th>\n",
       "      <th>release_year</th>\n",
       "      <th>release_month</th>\n",
       "    </tr>\n",
       "  </thead>\n",
       "  <tbody>\n",
       "    <tr>\n",
       "      <th>0</th>\n",
       "      <td>237000000</td>\n",
       "      <td>150.437577</td>\n",
       "      <td>2787965087</td>\n",
       "      <td>162.0</td>\n",
       "      <td>0</td>\n",
       "      <td>0</td>\n",
       "      <td>1</td>\n",
       "      <td>0</td>\n",
       "      <td>0</td>\n",
       "      <td>0</td>\n",
       "      <td>...</td>\n",
       "      <td>0</td>\n",
       "      <td>0</td>\n",
       "      <td>0</td>\n",
       "      <td>0</td>\n",
       "      <td>0</td>\n",
       "      <td>1</td>\n",
       "      <td>0</td>\n",
       "      <td>0</td>\n",
       "      <td>2009</td>\n",
       "      <td>12</td>\n",
       "    </tr>\n",
       "    <tr>\n",
       "      <th>1</th>\n",
       "      <td>300000000</td>\n",
       "      <td>139.082615</td>\n",
       "      <td>961000000</td>\n",
       "      <td>169.0</td>\n",
       "      <td>0</td>\n",
       "      <td>0</td>\n",
       "      <td>1</td>\n",
       "      <td>0</td>\n",
       "      <td>0</td>\n",
       "      <td>0</td>\n",
       "      <td>...</td>\n",
       "      <td>0</td>\n",
       "      <td>0</td>\n",
       "      <td>0</td>\n",
       "      <td>0</td>\n",
       "      <td>0</td>\n",
       "      <td>1</td>\n",
       "      <td>0</td>\n",
       "      <td>0</td>\n",
       "      <td>2007</td>\n",
       "      <td>5</td>\n",
       "    </tr>\n",
       "    <tr>\n",
       "      <th>2</th>\n",
       "      <td>245000000</td>\n",
       "      <td>107.376788</td>\n",
       "      <td>880674609</td>\n",
       "      <td>148.0</td>\n",
       "      <td>0</td>\n",
       "      <td>0</td>\n",
       "      <td>0</td>\n",
       "      <td>0</td>\n",
       "      <td>0</td>\n",
       "      <td>0</td>\n",
       "      <td>...</td>\n",
       "      <td>0</td>\n",
       "      <td>0</td>\n",
       "      <td>0</td>\n",
       "      <td>0</td>\n",
       "      <td>0</td>\n",
       "      <td>1</td>\n",
       "      <td>0</td>\n",
       "      <td>0</td>\n",
       "      <td>2015</td>\n",
       "      <td>10</td>\n",
       "    </tr>\n",
       "    <tr>\n",
       "      <th>3</th>\n",
       "      <td>250000000</td>\n",
       "      <td>112.312950</td>\n",
       "      <td>1084939099</td>\n",
       "      <td>165.0</td>\n",
       "      <td>0</td>\n",
       "      <td>1</td>\n",
       "      <td>0</td>\n",
       "      <td>0</td>\n",
       "      <td>0</td>\n",
       "      <td>1</td>\n",
       "      <td>...</td>\n",
       "      <td>0</td>\n",
       "      <td>0</td>\n",
       "      <td>0</td>\n",
       "      <td>0</td>\n",
       "      <td>0</td>\n",
       "      <td>1</td>\n",
       "      <td>0</td>\n",
       "      <td>0</td>\n",
       "      <td>2012</td>\n",
       "      <td>7</td>\n",
       "    </tr>\n",
       "    <tr>\n",
       "      <th>4</th>\n",
       "      <td>260000000</td>\n",
       "      <td>43.926995</td>\n",
       "      <td>284139100</td>\n",
       "      <td>132.0</td>\n",
       "      <td>0</td>\n",
       "      <td>0</td>\n",
       "      <td>0</td>\n",
       "      <td>0</td>\n",
       "      <td>0</td>\n",
       "      <td>0</td>\n",
       "      <td>...</td>\n",
       "      <td>0</td>\n",
       "      <td>0</td>\n",
       "      <td>0</td>\n",
       "      <td>0</td>\n",
       "      <td>0</td>\n",
       "      <td>1</td>\n",
       "      <td>0</td>\n",
       "      <td>0</td>\n",
       "      <td>2012</td>\n",
       "      <td>3</td>\n",
       "    </tr>\n",
       "  </tbody>\n",
       "</table>\n",
       "<p>5 rows × 58 columns</p>\n",
       "</div>"
      ],
      "text/plain": [
       "      budget  popularity     revenue  runtime  Music  Drama  Fantasy  Horror  \\\n",
       "0  237000000  150.437577  2787965087    162.0      0      0        1       0   \n",
       "1  300000000  139.082615   961000000    169.0      0      0        1       0   \n",
       "2  245000000  107.376788   880674609    148.0      0      0        0       0   \n",
       "3  250000000  112.312950  1084939099    165.0      0      1        0       0   \n",
       "4  260000000   43.926995   284139100    132.0      0      0        0       0   \n",
       "\n",
       "   TV Movie  Thriller      ...        Summit Entertainment  \\\n",
       "0         0         0      ...                           0   \n",
       "1         0         0      ...                           0   \n",
       "2         0         0      ...                           0   \n",
       "3         0         1      ...                           0   \n",
       "4         0         0      ...                           0   \n",
       "\n",
       "   Working Title Films  Amblin Entertainment  The Weinstein Company  \\\n",
       "0                    0                     0                      0   \n",
       "1                    0                     0                      0   \n",
       "2                    0                     0                      0   \n",
       "3                    0                     0                      0   \n",
       "4                    0                     0                      0   \n",
       "\n",
       "   StudioCanal  Released  Rumored  Post Production  release_year  \\\n",
       "0            0         1        0                0          2009   \n",
       "1            0         1        0                0          2007   \n",
       "2            0         1        0                0          2015   \n",
       "3            0         1        0                0          2012   \n",
       "4            0         1        0                0          2012   \n",
       "\n",
       "   release_month  \n",
       "0             12  \n",
       "1              5  \n",
       "2             10  \n",
       "3              7  \n",
       "4              3  \n",
       "\n",
       "[5 rows x 58 columns]"
      ]
     },
     "execution_count": 41,
     "metadata": {},
     "output_type": "execute_result"
    }
   ],
   "source": [
    "X.head()"
   ]
  },
  {
   "cell_type": "code",
   "execution_count": 42,
   "metadata": {
    "collapsed": false,
    "deletable": true,
    "editable": true
   },
   "outputs": [
    {
     "data": {
      "text/plain": [
       "popularity      0.273990\n",
       "revenue         0.197153\n",
       "runtime         0.373141\n",
       "vote_average    1.000000\n",
       "vote_count      0.313263\n",
       "Drama           0.237234\n",
       "release_year   -0.198499\n",
       "Name: vote_average, dtype: float64"
      ]
     },
     "execution_count": 42,
     "metadata": {},
     "output_type": "execute_result"
    }
   ],
   "source": [
    "movies_corr = movies.corr()\n",
    "movies_corr['vote_average'][(movies_corr['vote_average']>0.15) | (movies_corr['vote_average'] <-0.15)]"
   ]
  },
  {
   "cell_type": "markdown",
   "metadata": {},
   "source": [
    "### Correlation indicates that the following features are positively or negatively impacting vote_average \n",
    "popularity  \n",
    "revenue  \n",
    "runtime  \n",
    "Drama  \n",
    "release_year - negative  "
   ]
  },
  {
   "cell_type": "code",
   "execution_count": 43,
   "metadata": {
    "collapsed": true
   },
   "outputs": [],
   "source": [
    "from sklearn.utils import shuffle\n",
    "# shuffle the dataset as there is no time related dependencies\n",
    "X, y = shuffle(X, y, random_state=0)"
   ]
  },
  {
   "cell_type": "code",
   "execution_count": 44,
   "metadata": {
    "collapsed": false,
    "deletable": true,
    "editable": true
   },
   "outputs": [
    {
     "name": "stdout",
     "output_type": "stream",
     "text": [
      "(3361, 58) (3361,) (1441, 58) (1441,)\n"
     ]
    }
   ],
   "source": [
    "X_train, X_test, y_train, y_test = train_test_split(X, y, test_size=0.30)\n",
    "print (X_train.shape, y_train.shape, X_test.shape, y_test.shape)"
   ]
  },
  {
   "cell_type": "code",
   "execution_count": 45,
   "metadata": {
    "collapsed": false,
    "deletable": true,
    "editable": true
   },
   "outputs": [
    {
     "name": "stdout",
     "output_type": "stream",
     "text": [
      "Linear Regression Score: \n",
      " 28.98\n",
      "Linear Regression Test Score: \n",
      " 23.61\n",
      "Coefficient: \n",
      " [-3.05542643e-09  7.92030356e-03  7.47966935e-10  1.34736195e-02\n",
      "  3.77573686e-02  4.66360059e-01  2.94320727e-02 -7.15678212e-02\n",
      " -2.89600197e-01 -5.79958335e-02  7.93726533e-02  6.40812190e-02\n",
      "  2.05757959e-01  5.38313493e-02  2.42301731e-01  6.24918013e-02\n",
      "  9.01391999e-01 -8.00000654e-03 -1.06401395e-01 -1.18129704e-01\n",
      "  6.51665916e-01  1.51639988e-02 -9.21654975e-02  2.30189950e-02\n",
      "  3.83524561e-02  5.66298179e-02 -6.57909697e-03 -2.42635831e-03\n",
      "  2.69805414e-02  8.46122329e-02  8.32667268e-17  7.79103575e-02\n",
      "  1.77742055e-01  1.77442040e-01  3.08872026e-02  2.49216609e-01\n",
      "  6.01901057e-02  3.70065987e-01  2.66024585e-01  2.68116686e-01\n",
      " -2.29653788e-01  3.35666394e-01  9.77924350e-02  2.07653368e-01\n",
      " -1.00570199e-01  1.38548659e-01  1.44468577e-01  1.00591839e-01\n",
      "  1.59914286e-01  2.13116135e-01 -1.68632783e-02  4.49292223e-01\n",
      "  6.80322962e-02 -1.30661764e+00  2.26160155e+00 -9.54983911e-01\n",
      " -1.71626180e-02  1.08872593e-02]\n",
      "Intercept: \n",
      " 39.760258226701104\n"
     ]
    }
   ],
   "source": [
    "linear = linear_model.LinearRegression()\n",
    "# Train the model using the training sets and check score\n",
    "linear.fit(X_train, y_train)\n",
    "#Predict Output\n",
    "lin_predicted = linear.predict(X_test)\n",
    "\n",
    "linear_score = round(linear.score(X_train, y_train) * 100, 2)\n",
    "linear_score_test = round(linear.score(X_test, y_test) * 100, 2)\n",
    "#Equation coefficient and Intercept\n",
    "print('Linear Regression Score: \\n', linear_score)\n",
    "print('Linear Regression Test Score: \\n', linear_score_test)\n",
    "print('Coefficient: \\n', linear.coef_)\n",
    "print('Intercept: \\n', linear.intercept_)"
   ]
  },
  {
   "cell_type": "markdown",
   "metadata": {},
   "source": [
    "#### Not a great score "
   ]
  },
  {
   "cell_type": "code",
   "execution_count": 46,
   "metadata": {
    "collapsed": false
   },
   "outputs": [
    {
     "name": "stdout",
     "output_type": "stream",
     "text": [
      "1.0398434527041722\n"
     ]
    }
   ],
   "source": [
    "print(np.sqrt(mean_squared_error(y_test, lin_predicted)))"
   ]
  },
  {
   "cell_type": "code",
   "execution_count": 47,
   "metadata": {
    "collapsed": false
   },
   "outputs": [
    {
     "data": {
      "text/plain": [
       "[('budget', -3.0554264325211527e-09),\n",
       " ('popularity', 0.007920303558048685),\n",
       " ('revenue', 7.479669353500917e-10),\n",
       " ('runtime', 0.013473619505127907),\n",
       " ('Music', 0.03775736861842914),\n",
       " ('Drama', 0.4663600594263453),\n",
       " ('Fantasy', 0.029432072693834382),\n",
       " ('Horror', -0.07156782121801814),\n",
       " ('TV Movie', -0.28960019705270273),\n",
       " ('Thriller', -0.05799583353439085),\n",
       " ('War', 0.07937265328706694),\n",
       " ('Mystery', 0.06408121904124732),\n",
       " ('Foreign', 0.20575795879655848),\n",
       " ('History', 0.053831349329254354),\n",
       " ('Crime', 0.24230173120504156),\n",
       " ('Comedy', 0.06249180127604961),\n",
       " ('Documentary', 0.9013919988371412),\n",
       " ('Adventure', -0.008000006543902205),\n",
       " ('Family', -0.10640139523539449),\n",
       " ('Action', -0.11812970413707757),\n",
       " ('Animation', 0.6516659161723337),\n",
       " ('Romance', 0.015163998820847957),\n",
       " ('Western', -0.09216549747484803),\n",
       " ('Science Fiction', 0.023018994971331017),\n",
       " ('Warner Bros.', 0.038352456114293554),\n",
       " ('Universal Pictures', 0.05662981789910618),\n",
       " ('Paramount Pictures', -0.006579096973525128),\n",
       " ('Twentieth Century Fox Film Corporation', -0.002426358307061404),\n",
       " ('Columbia Pictures', 0.02698054143816908),\n",
       " ('New Line Cinema', 0.08461223287615917),\n",
       " ('Metro-Goldwyn-Mayer (MGM)', 8.326672684688674e-17),\n",
       " ('Touchstone Pictures', 0.07791035751362288),\n",
       " ('Walt Disney Pictures', 0.17774205541563454),\n",
       " ('Relativity Media', 0.1774420395800294),\n",
       " ('Columbia Pictures Corporation', 0.03088720261121912),\n",
       " ('Miramax Films', 0.24921660933945874),\n",
       " ('Village Roadshow Pictures', 0.06019010567105659),\n",
       " ('DreamWorks SKG', 0.3700659874118537),\n",
       " ('Canal+', 0.26602458529283435),\n",
       " ('United Artists', 0.2681166864590578),\n",
       " ('Regency Enterprises', -0.22965378827093746),\n",
       " ('Fox Searchlight Pictures', 0.3356663941177558),\n",
       " ('Dune Entertainment', 0.09779243496094683),\n",
       " ('Lionsgate', 0.20765336768285458),\n",
       " (' The', -0.10057019879696487),\n",
       " ('Fox 2000 Pictures', 0.13854865853131146),\n",
       " ('TriStar Pictures', 0.1444685773332196),\n",
       " ('Dimension Films', 0.10059183902161878),\n",
       " ('Summit Entertainment', 0.15991428572166003),\n",
       " ('Working Title Films', 0.21311613456974887),\n",
       " ('Amblin Entertainment', -0.016863278331827134),\n",
       " ('The Weinstein Company', 0.44929222269233676),\n",
       " ('StudioCanal', 0.06803229619571685),\n",
       " ('Released', -1.3066176413119355),\n",
       " ('Rumored', 2.2616015521835653),\n",
       " ('Post Production', -0.9549839108716369),\n",
       " ('release_year', -0.017162617997311384),\n",
       " ('release_month', 0.010887259259964283)]"
      ]
     },
     "execution_count": 47,
     "metadata": {},
     "output_type": "execute_result"
    }
   ],
   "source": [
    "# pair the feature names with the coefficients\n",
    "list(zip(X.columns, linear.coef_))"
   ]
  },
  {
   "cell_type": "code",
   "execution_count": 48,
   "metadata": {
    "collapsed": false,
    "deletable": true,
    "editable": true
   },
   "outputs": [
    {
     "data": {
      "text/html": [
       "<div>\n",
       "<style scoped>\n",
       "    .dataframe tbody tr th:only-of-type {\n",
       "        vertical-align: middle;\n",
       "    }\n",
       "\n",
       "    .dataframe tbody tr th {\n",
       "        vertical-align: top;\n",
       "    }\n",
       "\n",
       "    .dataframe thead th {\n",
       "        text-align: right;\n",
       "    }\n",
       "</style>\n",
       "<table border=\"1\" class=\"dataframe\">\n",
       "  <thead>\n",
       "    <tr style=\"text-align: right;\">\n",
       "      <th></th>\n",
       "      <th>features</th>\n",
       "      <th>coefficients</th>\n",
       "    </tr>\n",
       "  </thead>\n",
       "  <tbody>\n",
       "    <tr>\n",
       "      <th>53</th>\n",
       "      <td>Released</td>\n",
       "      <td>-1.306618e+00</td>\n",
       "    </tr>\n",
       "    <tr>\n",
       "      <th>55</th>\n",
       "      <td>Post Production</td>\n",
       "      <td>-9.549839e-01</td>\n",
       "    </tr>\n",
       "    <tr>\n",
       "      <th>8</th>\n",
       "      <td>TV Movie</td>\n",
       "      <td>-2.896002e-01</td>\n",
       "    </tr>\n",
       "    <tr>\n",
       "      <th>40</th>\n",
       "      <td>Regency Enterprises</td>\n",
       "      <td>-2.296538e-01</td>\n",
       "    </tr>\n",
       "    <tr>\n",
       "      <th>19</th>\n",
       "      <td>Action</td>\n",
       "      <td>-1.181297e-01</td>\n",
       "    </tr>\n",
       "    <tr>\n",
       "      <th>18</th>\n",
       "      <td>Family</td>\n",
       "      <td>-1.064014e-01</td>\n",
       "    </tr>\n",
       "    <tr>\n",
       "      <th>44</th>\n",
       "      <td>The</td>\n",
       "      <td>-1.005702e-01</td>\n",
       "    </tr>\n",
       "    <tr>\n",
       "      <th>22</th>\n",
       "      <td>Western</td>\n",
       "      <td>-9.216550e-02</td>\n",
       "    </tr>\n",
       "    <tr>\n",
       "      <th>7</th>\n",
       "      <td>Horror</td>\n",
       "      <td>-7.156782e-02</td>\n",
       "    </tr>\n",
       "    <tr>\n",
       "      <th>9</th>\n",
       "      <td>Thriller</td>\n",
       "      <td>-5.799583e-02</td>\n",
       "    </tr>\n",
       "    <tr>\n",
       "      <th>56</th>\n",
       "      <td>release_year</td>\n",
       "      <td>-1.716262e-02</td>\n",
       "    </tr>\n",
       "    <tr>\n",
       "      <th>50</th>\n",
       "      <td>Amblin Entertainment</td>\n",
       "      <td>-1.686328e-02</td>\n",
       "    </tr>\n",
       "    <tr>\n",
       "      <th>17</th>\n",
       "      <td>Adventure</td>\n",
       "      <td>-8.000007e-03</td>\n",
       "    </tr>\n",
       "    <tr>\n",
       "      <th>26</th>\n",
       "      <td>Paramount Pictures</td>\n",
       "      <td>-6.579097e-03</td>\n",
       "    </tr>\n",
       "    <tr>\n",
       "      <th>27</th>\n",
       "      <td>Twentieth Century Fox Film Corporation</td>\n",
       "      <td>-2.426358e-03</td>\n",
       "    </tr>\n",
       "    <tr>\n",
       "      <th>0</th>\n",
       "      <td>budget</td>\n",
       "      <td>-3.055426e-09</td>\n",
       "    </tr>\n",
       "    <tr>\n",
       "      <th>30</th>\n",
       "      <td>Metro-Goldwyn-Mayer (MGM)</td>\n",
       "      <td>8.326673e-17</td>\n",
       "    </tr>\n",
       "    <tr>\n",
       "      <th>2</th>\n",
       "      <td>revenue</td>\n",
       "      <td>7.479669e-10</td>\n",
       "    </tr>\n",
       "    <tr>\n",
       "      <th>1</th>\n",
       "      <td>popularity</td>\n",
       "      <td>7.920304e-03</td>\n",
       "    </tr>\n",
       "    <tr>\n",
       "      <th>57</th>\n",
       "      <td>release_month</td>\n",
       "      <td>1.088726e-02</td>\n",
       "    </tr>\n",
       "    <tr>\n",
       "      <th>3</th>\n",
       "      <td>runtime</td>\n",
       "      <td>1.347362e-02</td>\n",
       "    </tr>\n",
       "    <tr>\n",
       "      <th>21</th>\n",
       "      <td>Romance</td>\n",
       "      <td>1.516400e-02</td>\n",
       "    </tr>\n",
       "    <tr>\n",
       "      <th>23</th>\n",
       "      <td>Science Fiction</td>\n",
       "      <td>2.301899e-02</td>\n",
       "    </tr>\n",
       "    <tr>\n",
       "      <th>28</th>\n",
       "      <td>Columbia Pictures</td>\n",
       "      <td>2.698054e-02</td>\n",
       "    </tr>\n",
       "    <tr>\n",
       "      <th>6</th>\n",
       "      <td>Fantasy</td>\n",
       "      <td>2.943207e-02</td>\n",
       "    </tr>\n",
       "    <tr>\n",
       "      <th>34</th>\n",
       "      <td>Columbia Pictures Corporation</td>\n",
       "      <td>3.088720e-02</td>\n",
       "    </tr>\n",
       "    <tr>\n",
       "      <th>4</th>\n",
       "      <td>Music</td>\n",
       "      <td>3.775737e-02</td>\n",
       "    </tr>\n",
       "    <tr>\n",
       "      <th>24</th>\n",
       "      <td>Warner Bros.</td>\n",
       "      <td>3.835246e-02</td>\n",
       "    </tr>\n",
       "    <tr>\n",
       "      <th>13</th>\n",
       "      <td>History</td>\n",
       "      <td>5.383135e-02</td>\n",
       "    </tr>\n",
       "    <tr>\n",
       "      <th>25</th>\n",
       "      <td>Universal Pictures</td>\n",
       "      <td>5.662982e-02</td>\n",
       "    </tr>\n",
       "    <tr>\n",
       "      <th>36</th>\n",
       "      <td>Village Roadshow Pictures</td>\n",
       "      <td>6.019011e-02</td>\n",
       "    </tr>\n",
       "    <tr>\n",
       "      <th>15</th>\n",
       "      <td>Comedy</td>\n",
       "      <td>6.249180e-02</td>\n",
       "    </tr>\n",
       "    <tr>\n",
       "      <th>11</th>\n",
       "      <td>Mystery</td>\n",
       "      <td>6.408122e-02</td>\n",
       "    </tr>\n",
       "    <tr>\n",
       "      <th>52</th>\n",
       "      <td>StudioCanal</td>\n",
       "      <td>6.803230e-02</td>\n",
       "    </tr>\n",
       "    <tr>\n",
       "      <th>31</th>\n",
       "      <td>Touchstone Pictures</td>\n",
       "      <td>7.791036e-02</td>\n",
       "    </tr>\n",
       "    <tr>\n",
       "      <th>10</th>\n",
       "      <td>War</td>\n",
       "      <td>7.937265e-02</td>\n",
       "    </tr>\n",
       "    <tr>\n",
       "      <th>29</th>\n",
       "      <td>New Line Cinema</td>\n",
       "      <td>8.461223e-02</td>\n",
       "    </tr>\n",
       "    <tr>\n",
       "      <th>42</th>\n",
       "      <td>Dune Entertainment</td>\n",
       "      <td>9.779243e-02</td>\n",
       "    </tr>\n",
       "    <tr>\n",
       "      <th>47</th>\n",
       "      <td>Dimension Films</td>\n",
       "      <td>1.005918e-01</td>\n",
       "    </tr>\n",
       "    <tr>\n",
       "      <th>45</th>\n",
       "      <td>Fox 2000 Pictures</td>\n",
       "      <td>1.385487e-01</td>\n",
       "    </tr>\n",
       "    <tr>\n",
       "      <th>46</th>\n",
       "      <td>TriStar Pictures</td>\n",
       "      <td>1.444686e-01</td>\n",
       "    </tr>\n",
       "    <tr>\n",
       "      <th>48</th>\n",
       "      <td>Summit Entertainment</td>\n",
       "      <td>1.599143e-01</td>\n",
       "    </tr>\n",
       "    <tr>\n",
       "      <th>33</th>\n",
       "      <td>Relativity Media</td>\n",
       "      <td>1.774420e-01</td>\n",
       "    </tr>\n",
       "    <tr>\n",
       "      <th>32</th>\n",
       "      <td>Walt Disney Pictures</td>\n",
       "      <td>1.777421e-01</td>\n",
       "    </tr>\n",
       "    <tr>\n",
       "      <th>12</th>\n",
       "      <td>Foreign</td>\n",
       "      <td>2.057580e-01</td>\n",
       "    </tr>\n",
       "    <tr>\n",
       "      <th>43</th>\n",
       "      <td>Lionsgate</td>\n",
       "      <td>2.076534e-01</td>\n",
       "    </tr>\n",
       "    <tr>\n",
       "      <th>49</th>\n",
       "      <td>Working Title Films</td>\n",
       "      <td>2.131161e-01</td>\n",
       "    </tr>\n",
       "    <tr>\n",
       "      <th>14</th>\n",
       "      <td>Crime</td>\n",
       "      <td>2.423017e-01</td>\n",
       "    </tr>\n",
       "    <tr>\n",
       "      <th>35</th>\n",
       "      <td>Miramax Films</td>\n",
       "      <td>2.492166e-01</td>\n",
       "    </tr>\n",
       "    <tr>\n",
       "      <th>38</th>\n",
       "      <td>Canal+</td>\n",
       "      <td>2.660246e-01</td>\n",
       "    </tr>\n",
       "    <tr>\n",
       "      <th>39</th>\n",
       "      <td>United Artists</td>\n",
       "      <td>2.681167e-01</td>\n",
       "    </tr>\n",
       "    <tr>\n",
       "      <th>41</th>\n",
       "      <td>Fox Searchlight Pictures</td>\n",
       "      <td>3.356664e-01</td>\n",
       "    </tr>\n",
       "    <tr>\n",
       "      <th>37</th>\n",
       "      <td>DreamWorks SKG</td>\n",
       "      <td>3.700660e-01</td>\n",
       "    </tr>\n",
       "    <tr>\n",
       "      <th>51</th>\n",
       "      <td>The Weinstein Company</td>\n",
       "      <td>4.492922e-01</td>\n",
       "    </tr>\n",
       "    <tr>\n",
       "      <th>5</th>\n",
       "      <td>Drama</td>\n",
       "      <td>4.663601e-01</td>\n",
       "    </tr>\n",
       "    <tr>\n",
       "      <th>20</th>\n",
       "      <td>Animation</td>\n",
       "      <td>6.516659e-01</td>\n",
       "    </tr>\n",
       "    <tr>\n",
       "      <th>16</th>\n",
       "      <td>Documentary</td>\n",
       "      <td>9.013920e-01</td>\n",
       "    </tr>\n",
       "    <tr>\n",
       "      <th>54</th>\n",
       "      <td>Rumored</td>\n",
       "      <td>2.261602e+00</td>\n",
       "    </tr>\n",
       "  </tbody>\n",
       "</table>\n",
       "</div>"
      ],
      "text/plain": [
       "                                  features  coefficients\n",
       "53                                Released -1.306618e+00\n",
       "55                         Post Production -9.549839e-01\n",
       "8                                 TV Movie -2.896002e-01\n",
       "40                     Regency Enterprises -2.296538e-01\n",
       "19                                  Action -1.181297e-01\n",
       "18                                  Family -1.064014e-01\n",
       "44                                     The -1.005702e-01\n",
       "22                                 Western -9.216550e-02\n",
       "7                                   Horror -7.156782e-02\n",
       "9                                 Thriller -5.799583e-02\n",
       "56                            release_year -1.716262e-02\n",
       "50                    Amblin Entertainment -1.686328e-02\n",
       "17                               Adventure -8.000007e-03\n",
       "26                      Paramount Pictures -6.579097e-03\n",
       "27  Twentieth Century Fox Film Corporation -2.426358e-03\n",
       "0                                   budget -3.055426e-09\n",
       "30               Metro-Goldwyn-Mayer (MGM)  8.326673e-17\n",
       "2                                  revenue  7.479669e-10\n",
       "1                               popularity  7.920304e-03\n",
       "57                           release_month  1.088726e-02\n",
       "3                                  runtime  1.347362e-02\n",
       "21                                 Romance  1.516400e-02\n",
       "23                         Science Fiction  2.301899e-02\n",
       "28                       Columbia Pictures  2.698054e-02\n",
       "6                                  Fantasy  2.943207e-02\n",
       "34           Columbia Pictures Corporation  3.088720e-02\n",
       "4                                    Music  3.775737e-02\n",
       "24                            Warner Bros.  3.835246e-02\n",
       "13                                 History  5.383135e-02\n",
       "25                      Universal Pictures  5.662982e-02\n",
       "36               Village Roadshow Pictures  6.019011e-02\n",
       "15                                  Comedy  6.249180e-02\n",
       "11                                 Mystery  6.408122e-02\n",
       "52                             StudioCanal  6.803230e-02\n",
       "31                     Touchstone Pictures  7.791036e-02\n",
       "10                                     War  7.937265e-02\n",
       "29                         New Line Cinema  8.461223e-02\n",
       "42                      Dune Entertainment  9.779243e-02\n",
       "47                         Dimension Films  1.005918e-01\n",
       "45                       Fox 2000 Pictures  1.385487e-01\n",
       "46                        TriStar Pictures  1.444686e-01\n",
       "48                    Summit Entertainment  1.599143e-01\n",
       "33                        Relativity Media  1.774420e-01\n",
       "32                    Walt Disney Pictures  1.777421e-01\n",
       "12                                 Foreign  2.057580e-01\n",
       "43                               Lionsgate  2.076534e-01\n",
       "49                     Working Title Films  2.131161e-01\n",
       "14                                   Crime  2.423017e-01\n",
       "35                           Miramax Films  2.492166e-01\n",
       "38                                  Canal+  2.660246e-01\n",
       "39                          United Artists  2.681167e-01\n",
       "41                Fox Searchlight Pictures  3.356664e-01\n",
       "37                          DreamWorks SKG  3.700660e-01\n",
       "51                   The Weinstein Company  4.492922e-01\n",
       "5                                    Drama  4.663601e-01\n",
       "20                               Animation  6.516659e-01\n",
       "16                             Documentary  9.013920e-01\n",
       "54                                 Rumored  2.261602e+00"
      ]
     },
     "execution_count": 48,
     "metadata": {},
     "output_type": "execute_result"
    }
   ],
   "source": [
    "pd.DataFrame(list(zip(X.columns, linear.coef_)), columns = ['features', 'coefficients']).sort_values(by='coefficients')"
   ]
  },
  {
   "cell_type": "markdown",
   "metadata": {
    "collapsed": true,
    "deletable": true,
    "editable": true
   },
   "source": [
    "# 4) Variance Threshold for feature selection\n",
    "- Normalize the data\n",
    "- define the threshold\n",
    "- Calculate variance of each feature\n",
    "- drop the features with variance below the threshold"
   ]
  },
  {
   "cell_type": "markdown",
   "metadata": {},
   "source": [
    "## 4.1) Normalize the data - Standard Scaling"
   ]
  },
  {
   "cell_type": "code",
   "execution_count": 49,
   "metadata": {
    "collapsed": false
   },
   "outputs": [],
   "source": [
    "bmovies = movies.copy() # Lets take a backup"
   ]
  },
  {
   "cell_type": "markdown",
   "metadata": {},
   "source": [
    "##### The following features should be normalized\n",
    "- budget\n",
    "- popularity\n",
    "- revenue\n",
    "- runtime\n",
    "- vote_count\n",
    "- release_year\n",
    "- release_month"
   ]
  },
  {
   "cell_type": "code",
   "execution_count": 50,
   "metadata": {
    "collapsed": false
   },
   "outputs": [],
   "source": [
    "from sklearn.preprocessing import StandardScaler\n",
    "bmovies['budget'] = StandardScaler().fit_transform(bmovies[['budget']])\n",
    "bmovies['popularity'] = StandardScaler().fit_transform(bmovies[['popularity']])\n",
    "bmovies['revenue'] = StandardScaler().fit_transform(bmovies[['revenue']])\n",
    "bmovies['runtime'] = StandardScaler().fit_transform(bmovies[['runtime']])\n",
    "bmovies['vote_count'] = StandardScaler().fit_transform(bmovies[['vote_count']])\n",
    "bmovies['release_year'] = StandardScaler().fit_transform(bmovies[['release_year']])\n",
    "bmovies['release_month'] = StandardScaler().fit_transform(bmovies[['release_month']])"
   ]
  },
  {
   "cell_type": "code",
   "execution_count": 51,
   "metadata": {
    "collapsed": false
   },
   "outputs": [
    {
     "data": {
      "text/html": [
       "<div>\n",
       "<style scoped>\n",
       "    .dataframe tbody tr th:only-of-type {\n",
       "        vertical-align: middle;\n",
       "    }\n",
       "\n",
       "    .dataframe tbody tr th {\n",
       "        vertical-align: top;\n",
       "    }\n",
       "\n",
       "    .dataframe thead th {\n",
       "        text-align: right;\n",
       "    }\n",
       "</style>\n",
       "<table border=\"1\" class=\"dataframe\">\n",
       "  <thead>\n",
       "    <tr style=\"text-align: right;\">\n",
       "      <th></th>\n",
       "      <th>budget</th>\n",
       "      <th>popularity</th>\n",
       "      <th>revenue</th>\n",
       "      <th>runtime</th>\n",
       "      <th>vote_average</th>\n",
       "      <th>vote_count</th>\n",
       "      <th>Music</th>\n",
       "      <th>Drama</th>\n",
       "      <th>Fantasy</th>\n",
       "      <th>Horror</th>\n",
       "      <th>...</th>\n",
       "      <th>Summit Entertainment</th>\n",
       "      <th>Working Title Films</th>\n",
       "      <th>Amblin Entertainment</th>\n",
       "      <th>The Weinstein Company</th>\n",
       "      <th>StudioCanal</th>\n",
       "      <th>Released</th>\n",
       "      <th>Rumored</th>\n",
       "      <th>Post Production</th>\n",
       "      <th>release_year</th>\n",
       "      <th>release_month</th>\n",
       "    </tr>\n",
       "  </thead>\n",
       "  <tbody>\n",
       "    <tr>\n",
       "      <th>0</th>\n",
       "      <td>5.106771</td>\n",
       "      <td>4.052813</td>\n",
       "      <td>16.614315</td>\n",
       "      <td>2.433671</td>\n",
       "      <td>7.2</td>\n",
       "      <td>8.998969</td>\n",
       "      <td>0</td>\n",
       "      <td>0</td>\n",
       "      <td>1</td>\n",
       "      <td>0</td>\n",
       "      <td>...</td>\n",
       "      <td>0</td>\n",
       "      <td>0</td>\n",
       "      <td>0</td>\n",
       "      <td>0</td>\n",
       "      <td>0</td>\n",
       "      <td>1</td>\n",
       "      <td>0</td>\n",
       "      <td>0</td>\n",
       "      <td>0.526158</td>\n",
       "      <td>1.519959</td>\n",
       "    </tr>\n",
       "  </tbody>\n",
       "</table>\n",
       "<p>1 rows × 60 columns</p>\n",
       "</div>"
      ],
      "text/plain": [
       "     budget  popularity    revenue   runtime  vote_average  vote_count  Music  \\\n",
       "0  5.106771    4.052813  16.614315  2.433671           7.2    8.998969      0   \n",
       "\n",
       "   Drama  Fantasy  Horror      ...        Summit Entertainment  \\\n",
       "0      0        1       0      ...                           0   \n",
       "\n",
       "   Working Title Films  Amblin Entertainment  The Weinstein Company  \\\n",
       "0                    0                     0                      0   \n",
       "\n",
       "   StudioCanal  Released  Rumored  Post Production  release_year  \\\n",
       "0            0         1        0                0      0.526158   \n",
       "\n",
       "   release_month  \n",
       "0       1.519959  \n",
       "\n",
       "[1 rows x 60 columns]"
      ]
     },
     "execution_count": 51,
     "metadata": {},
     "output_type": "execute_result"
    }
   ],
   "source": [
    "bmovies.head(1)"
   ]
  },
  {
   "cell_type": "code",
   "execution_count": 52,
   "metadata": {
    "collapsed": true
   },
   "outputs": [],
   "source": [
    "X = bmovies.drop(['vote_average', 'vote_count'], axis=1)\n",
    "y = bmovies['vote_average']"
   ]
  },
  {
   "cell_type": "markdown",
   "metadata": {},
   "source": [
    "## 4.2) Variance Threshold "
   ]
  },
  {
   "cell_type": "code",
   "execution_count": 53,
   "metadata": {
    "collapsed": true,
    "deletable": true,
    "editable": true
   },
   "outputs": [],
   "source": [
    "from sklearn.feature_selection import VarianceThreshold "
   ]
  },
  {
   "cell_type": "code",
   "execution_count": 54,
   "metadata": {
    "collapsed": false,
    "deletable": true,
    "editable": true
   },
   "outputs": [
    {
     "data": {
      "text/plain": [
       "array([[ 5.10677107,  4.0528129 , 16.61431524, ...,  1.        ,\n",
       "         0.52615844,  1.51995888],\n",
       "       [ 6.65391347,  3.69590852,  5.39580758, ...,  1.        ,\n",
       "         0.36503783, -0.52453483],\n",
       "       [ 5.3032336 ,  2.69934433,  4.90256827, ...,  1.        ,\n",
       "         1.00952026,  0.93581782],\n",
       "       ...,\n",
       "       [-0.71343128, -0.63027545, -0.50522793, ...,  0.        ,\n",
       "         0.84839965,  0.93581782],\n",
       "       [-0.71343128, -0.6487405 , -0.50522793, ...,  0.        ,\n",
       "         0.76783935, -0.52453483],\n",
       "       [-0.71343128, -0.61501834, -0.50522793, ...,  0.        ,\n",
       "         0.20391722,  0.35167676]])"
      ]
     },
     "execution_count": 54,
     "metadata": {},
     "output_type": "execute_result"
    }
   ],
   "source": [
    "# Create VarianceThreshold object with a variance with a threshold of 0.5\n",
    "selector = VarianceThreshold(threshold = 0.8*(1-0.8))\n",
    "X_high_variance = selector.fit_transform(X)\n",
    "X_high_variance"
   ]
  },
  {
   "cell_type": "code",
   "execution_count": 55,
   "metadata": {
    "collapsed": false,
    "deletable": true,
    "editable": true
   },
   "outputs": [
    {
     "data": {
      "text/plain": [
       "array([[ 5.10677107,  4.0528129 , 16.61431524,  2.43367061,  0.        ,\n",
       "         0.        ,  0.        ,  1.        ,  0.52615844,  1.51995888],\n",
       "       [ 6.65391347,  3.69590852,  5.39580758,  2.74258824,  0.        ,\n",
       "         0.        ,  0.        ,  1.        ,  0.36503783, -0.52453483],\n",
       "       [ 5.3032336 ,  2.69934433,  4.90256827,  1.81583535,  0.        ,\n",
       "         0.        ,  0.        ,  1.        ,  1.00952026,  0.93581782],\n",
       "       [ 5.42602268,  2.8544957 ,  6.15685756,  2.56606388,  1.        ,\n",
       "         1.        ,  0.        ,  1.        ,  0.76783935,  0.05960623]])"
      ]
     },
     "execution_count": 55,
     "metadata": {},
     "output_type": "execute_result"
    }
   ],
   "source": [
    "X_high_variance[0:4]"
   ]
  },
  {
   "cell_type": "code",
   "execution_count": 56,
   "metadata": {
    "collapsed": false,
    "deletable": true,
    "editable": true
   },
   "outputs": [
    {
     "data": {
      "text/plain": [
       "array([ 0,  1,  2,  3,  5,  9, 15, 19, 56, 57], dtype=int64)"
      ]
     },
     "execution_count": 56,
     "metadata": {},
     "output_type": "execute_result"
    }
   ],
   "source": [
    "columns = X.columns\n",
    "selector.get_support(indices=True)"
   ]
  },
  {
   "cell_type": "code",
   "execution_count": 57,
   "metadata": {
    "collapsed": false,
    "deletable": true,
    "editable": true
   },
   "outputs": [
    {
     "data": {
      "text/plain": [
       "['budget',\n",
       " 'popularity',\n",
       " 'revenue',\n",
       " 'runtime',\n",
       " 'Drama',\n",
       " 'Thriller',\n",
       " 'Comedy',\n",
       " 'Action',\n",
       " 'release_year',\n",
       " 'release_month']"
      ]
     },
     "execution_count": 57,
     "metadata": {},
     "output_type": "execute_result"
    }
   ],
   "source": [
    "labels = [columns[x] for x in selector.get_support(indices=True)]\n",
    "labels"
   ]
  },
  {
   "cell_type": "code",
   "execution_count": 59,
   "metadata": {
    "collapsed": false,
    "deletable": true,
    "editable": true
   },
   "outputs": [
    {
     "data": {
      "text/html": [
       "<div>\n",
       "<style scoped>\n",
       "    .dataframe tbody tr th:only-of-type {\n",
       "        vertical-align: middle;\n",
       "    }\n",
       "\n",
       "    .dataframe tbody tr th {\n",
       "        vertical-align: top;\n",
       "    }\n",
       "\n",
       "    .dataframe thead th {\n",
       "        text-align: right;\n",
       "    }\n",
       "</style>\n",
       "<table border=\"1\" class=\"dataframe\">\n",
       "  <thead>\n",
       "    <tr style=\"text-align: right;\">\n",
       "      <th></th>\n",
       "      <th>budget</th>\n",
       "      <th>popularity</th>\n",
       "      <th>revenue</th>\n",
       "      <th>runtime</th>\n",
       "      <th>Drama</th>\n",
       "      <th>Thriller</th>\n",
       "      <th>Comedy</th>\n",
       "      <th>Action</th>\n",
       "      <th>release_year</th>\n",
       "      <th>release_month</th>\n",
       "    </tr>\n",
       "  </thead>\n",
       "  <tbody>\n",
       "    <tr>\n",
       "      <th>0</th>\n",
       "      <td>5.106771</td>\n",
       "      <td>4.052813</td>\n",
       "      <td>16.614315</td>\n",
       "      <td>2.433671</td>\n",
       "      <td>0.0</td>\n",
       "      <td>0.0</td>\n",
       "      <td>0.0</td>\n",
       "      <td>1.0</td>\n",
       "      <td>0.526158</td>\n",
       "      <td>1.519959</td>\n",
       "    </tr>\n",
       "    <tr>\n",
       "      <th>1</th>\n",
       "      <td>6.653913</td>\n",
       "      <td>3.695909</td>\n",
       "      <td>5.395808</td>\n",
       "      <td>2.742588</td>\n",
       "      <td>0.0</td>\n",
       "      <td>0.0</td>\n",
       "      <td>0.0</td>\n",
       "      <td>1.0</td>\n",
       "      <td>0.365038</td>\n",
       "      <td>-0.524535</td>\n",
       "    </tr>\n",
       "    <tr>\n",
       "      <th>2</th>\n",
       "      <td>5.303234</td>\n",
       "      <td>2.699344</td>\n",
       "      <td>4.902568</td>\n",
       "      <td>1.815835</td>\n",
       "      <td>0.0</td>\n",
       "      <td>0.0</td>\n",
       "      <td>0.0</td>\n",
       "      <td>1.0</td>\n",
       "      <td>1.009520</td>\n",
       "      <td>0.935818</td>\n",
       "    </tr>\n",
       "    <tr>\n",
       "      <th>3</th>\n",
       "      <td>5.426023</td>\n",
       "      <td>2.854496</td>\n",
       "      <td>6.156858</td>\n",
       "      <td>2.566064</td>\n",
       "      <td>1.0</td>\n",
       "      <td>1.0</td>\n",
       "      <td>0.0</td>\n",
       "      <td>1.0</td>\n",
       "      <td>0.767839</td>\n",
       "      <td>0.059606</td>\n",
       "    </tr>\n",
       "    <tr>\n",
       "      <th>4</th>\n",
       "      <td>5.671601</td>\n",
       "      <td>0.705017</td>\n",
       "      <td>1.239533</td>\n",
       "      <td>1.109738</td>\n",
       "      <td>0.0</td>\n",
       "      <td>0.0</td>\n",
       "      <td>0.0</td>\n",
       "      <td>1.0</td>\n",
       "      <td>0.767839</td>\n",
       "      <td>-1.108676</td>\n",
       "    </tr>\n",
       "  </tbody>\n",
       "</table>\n",
       "</div>"
      ],
      "text/plain": [
       "     budget  popularity    revenue   runtime  Drama  Thriller  Comedy  Action  \\\n",
       "0  5.106771    4.052813  16.614315  2.433671    0.0       0.0     0.0     1.0   \n",
       "1  6.653913    3.695909   5.395808  2.742588    0.0       0.0     0.0     1.0   \n",
       "2  5.303234    2.699344   4.902568  1.815835    0.0       0.0     0.0     1.0   \n",
       "3  5.426023    2.854496   6.156858  2.566064    1.0       1.0     0.0     1.0   \n",
       "4  5.671601    0.705017   1.239533  1.109738    0.0       0.0     0.0     1.0   \n",
       "\n",
       "   release_year  release_month  \n",
       "0      0.526158       1.519959  \n",
       "1      0.365038      -0.524535  \n",
       "2      1.009520       0.935818  \n",
       "3      0.767839       0.059606  \n",
       "4      0.767839      -1.108676  "
      ]
     },
     "execution_count": 59,
     "metadata": {},
     "output_type": "execute_result"
    }
   ],
   "source": [
    "features = pd.DataFrame(X_high_variance, columns = labels)\n",
    "features.head()"
   ]
  },
  {
   "cell_type": "code",
   "execution_count": 60,
   "metadata": {
    "collapsed": false,
    "deletable": true,
    "editable": true
   },
   "outputs": [
    {
     "data": {
      "text/plain": [
       "(4802, 10)"
      ]
     },
     "execution_count": 60,
     "metadata": {},
     "output_type": "execute_result"
    }
   ],
   "source": [
    "X_high_variance.shape"
   ]
  },
  {
   "cell_type": "code",
   "execution_count": 61,
   "metadata": {
    "collapsed": false,
    "deletable": true,
    "editable": true
   },
   "outputs": [],
   "source": [
    "# Subset features\n",
    "X_new = selector.transform(X)"
   ]
  },
  {
   "cell_type": "code",
   "execution_count": 64,
   "metadata": {
    "collapsed": false,
    "deletable": true,
    "editable": true
   },
   "outputs": [
    {
     "data": {
      "text/plain": [
       "(4802, 10)"
      ]
     },
     "execution_count": 64,
     "metadata": {},
     "output_type": "execute_result"
    }
   ],
   "source": [
    "X_new.shape"
   ]
  },
  {
   "cell_type": "code",
   "execution_count": 65,
   "metadata": {
    "collapsed": true
   },
   "outputs": [],
   "source": [
    "X_new, y = shuffle(X_new, y, random_state=0)"
   ]
  },
  {
   "cell_type": "code",
   "execution_count": 66,
   "metadata": {
    "collapsed": false,
    "deletable": true,
    "editable": true
   },
   "outputs": [
    {
     "name": "stdout",
     "output_type": "stream",
     "text": [
      "(3361, 10) (3361,) (1441, 10) (1441,)\n"
     ]
    }
   ],
   "source": [
    "X_train, X_test, y_train, y_test = train_test_split(X_new, y, test_size=0.30)\n",
    "print (X_train.shape, y_train.shape, X_test.shape, y_test.shape)"
   ]
  },
  {
   "cell_type": "code",
   "execution_count": 67,
   "metadata": {
    "collapsed": false,
    "deletable": true,
    "editable": true
   },
   "outputs": [
    {
     "name": "stdout",
     "output_type": "stream",
     "text": [
      "Linear Regression Score: \n",
      " 26.3\n",
      "Linear Regression Test Score: \n",
      " 22.1\n",
      "Coefficient: \n",
      " [-0.11078172  0.32307679  0.12765247  0.23214799  0.50425164 -0.01610419\n",
      "  0.06014994 -0.16886379 -0.20863147  0.06138356]\n",
      "Intercept: \n",
      " 5.885966231531161\n"
     ]
    }
   ],
   "source": [
    "linear = linear_model.LinearRegression()\n",
    "# Train the model using the training sets and check score\n",
    "linear.fit(X_train, y_train)\n",
    "#Predict Output\n",
    "lin_predicted = linear.predict(X_test)\n",
    "\n",
    "linear_score = round(linear.score(X_train, y_train) * 100, 2)\n",
    "linear_score_test = round(linear.score(X_test, y_test) * 100, 2)\n",
    "#Equation coefficient and Intercept\n",
    "print('Linear Regression Score: \\n', linear_score)\n",
    "print('Linear Regression Test Score: \\n', linear_score_test)\n",
    "print('Coefficient: \\n', linear.coef_)\n",
    "print('Intercept: \\n', linear.intercept_)"
   ]
  },
  {
   "cell_type": "markdown",
   "metadata": {},
   "source": [
    "## 4.3) Variance Threshold without normalization"
   ]
  },
  {
   "cell_type": "code",
   "execution_count": 68,
   "metadata": {
    "collapsed": false
   },
   "outputs": [],
   "source": [
    "X = movies.drop(['vote_average', 'vote_count'], axis=1)\n",
    "y = movies['vote_average']"
   ]
  },
  {
   "cell_type": "code",
   "execution_count": 71,
   "metadata": {
    "collapsed": false,
    "deletable": true,
    "editable": true
   },
   "outputs": [
    {
     "data": {
      "text/plain": [
       "array([[2.37000000e+08, 1.50437577e+02, 2.78796509e+09, 1.62000000e+02,\n",
       "        0.00000000e+00, 0.00000000e+00, 0.00000000e+00, 1.00000000e+00,\n",
       "        2.00900000e+03, 1.20000000e+01],\n",
       "       [3.00000000e+08, 1.39082615e+02, 9.61000000e+08, 1.69000000e+02,\n",
       "        0.00000000e+00, 0.00000000e+00, 0.00000000e+00, 1.00000000e+00,\n",
       "        2.00700000e+03, 5.00000000e+00],\n",
       "       [2.45000000e+08, 1.07376788e+02, 8.80674609e+08, 1.48000000e+02,\n",
       "        0.00000000e+00, 0.00000000e+00, 0.00000000e+00, 1.00000000e+00,\n",
       "        2.01500000e+03, 1.00000000e+01],\n",
       "       [2.50000000e+08, 1.12312950e+02, 1.08493910e+09, 1.65000000e+02,\n",
       "        1.00000000e+00, 1.00000000e+00, 0.00000000e+00, 1.00000000e+00,\n",
       "        2.01200000e+03, 7.00000000e+00]])"
      ]
     },
     "execution_count": 71,
     "metadata": {},
     "output_type": "execute_result"
    }
   ],
   "source": [
    "# Create VarianceThreshold object with a variance with a threshold of 0.5\n",
    "selector = VarianceThreshold(threshold = 0.8*(1-0.8))\n",
    "X_high_variance = selector.fit_transform(X)\n",
    "X_high_variance[0:4]"
   ]
  },
  {
   "cell_type": "code",
   "execution_count": 72,
   "metadata": {
    "collapsed": false,
    "deletable": true,
    "editable": true
   },
   "outputs": [
    {
     "data": {
      "text/plain": [
       "array([ 0,  1,  2,  3,  5,  9, 15, 19, 56, 57], dtype=int64)"
      ]
     },
     "execution_count": 72,
     "metadata": {},
     "output_type": "execute_result"
    }
   ],
   "source": [
    "columns = X.columns\n",
    "selector.get_support(indices=True)"
   ]
  },
  {
   "cell_type": "code",
   "execution_count": 73,
   "metadata": {
    "collapsed": false,
    "deletable": true,
    "editable": true
   },
   "outputs": [
    {
     "data": {
      "text/plain": [
       "['budget',\n",
       " 'popularity',\n",
       " 'revenue',\n",
       " 'runtime',\n",
       " 'Drama',\n",
       " 'Thriller',\n",
       " 'Comedy',\n",
       " 'Action',\n",
       " 'release_year',\n",
       " 'release_month']"
      ]
     },
     "execution_count": 73,
     "metadata": {},
     "output_type": "execute_result"
    }
   ],
   "source": [
    "labels = [columns[x] for x in selector.get_support(indices=True)]\n",
    "labels"
   ]
  },
  {
   "cell_type": "code",
   "execution_count": 75,
   "metadata": {
    "collapsed": false,
    "deletable": true,
    "editable": true
   },
   "outputs": [
    {
     "data": {
      "text/html": [
       "<div>\n",
       "<style scoped>\n",
       "    .dataframe tbody tr th:only-of-type {\n",
       "        vertical-align: middle;\n",
       "    }\n",
       "\n",
       "    .dataframe tbody tr th {\n",
       "        vertical-align: top;\n",
       "    }\n",
       "\n",
       "    .dataframe thead th {\n",
       "        text-align: right;\n",
       "    }\n",
       "</style>\n",
       "<table border=\"1\" class=\"dataframe\">\n",
       "  <thead>\n",
       "    <tr style=\"text-align: right;\">\n",
       "      <th></th>\n",
       "      <th>budget</th>\n",
       "      <th>popularity</th>\n",
       "      <th>revenue</th>\n",
       "      <th>runtime</th>\n",
       "      <th>Drama</th>\n",
       "      <th>Thriller</th>\n",
       "      <th>Comedy</th>\n",
       "      <th>Action</th>\n",
       "      <th>release_year</th>\n",
       "      <th>release_month</th>\n",
       "    </tr>\n",
       "  </thead>\n",
       "  <tbody>\n",
       "    <tr>\n",
       "      <th>0</th>\n",
       "      <td>237000000.0</td>\n",
       "      <td>150.437577</td>\n",
       "      <td>2.787965e+09</td>\n",
       "      <td>162.0</td>\n",
       "      <td>0.0</td>\n",
       "      <td>0.0</td>\n",
       "      <td>0.0</td>\n",
       "      <td>1.0</td>\n",
       "      <td>2009.0</td>\n",
       "      <td>12.0</td>\n",
       "    </tr>\n",
       "    <tr>\n",
       "      <th>1</th>\n",
       "      <td>300000000.0</td>\n",
       "      <td>139.082615</td>\n",
       "      <td>9.610000e+08</td>\n",
       "      <td>169.0</td>\n",
       "      <td>0.0</td>\n",
       "      <td>0.0</td>\n",
       "      <td>0.0</td>\n",
       "      <td>1.0</td>\n",
       "      <td>2007.0</td>\n",
       "      <td>5.0</td>\n",
       "    </tr>\n",
       "    <tr>\n",
       "      <th>2</th>\n",
       "      <td>245000000.0</td>\n",
       "      <td>107.376788</td>\n",
       "      <td>8.806746e+08</td>\n",
       "      <td>148.0</td>\n",
       "      <td>0.0</td>\n",
       "      <td>0.0</td>\n",
       "      <td>0.0</td>\n",
       "      <td>1.0</td>\n",
       "      <td>2015.0</td>\n",
       "      <td>10.0</td>\n",
       "    </tr>\n",
       "    <tr>\n",
       "      <th>3</th>\n",
       "      <td>250000000.0</td>\n",
       "      <td>112.312950</td>\n",
       "      <td>1.084939e+09</td>\n",
       "      <td>165.0</td>\n",
       "      <td>1.0</td>\n",
       "      <td>1.0</td>\n",
       "      <td>0.0</td>\n",
       "      <td>1.0</td>\n",
       "      <td>2012.0</td>\n",
       "      <td>7.0</td>\n",
       "    </tr>\n",
       "    <tr>\n",
       "      <th>4</th>\n",
       "      <td>260000000.0</td>\n",
       "      <td>43.926995</td>\n",
       "      <td>2.841391e+08</td>\n",
       "      <td>132.0</td>\n",
       "      <td>0.0</td>\n",
       "      <td>0.0</td>\n",
       "      <td>0.0</td>\n",
       "      <td>1.0</td>\n",
       "      <td>2012.0</td>\n",
       "      <td>3.0</td>\n",
       "    </tr>\n",
       "  </tbody>\n",
       "</table>\n",
       "</div>"
      ],
      "text/plain": [
       "        budget  popularity       revenue  runtime  Drama  Thriller  Comedy  \\\n",
       "0  237000000.0  150.437577  2.787965e+09    162.0    0.0       0.0     0.0   \n",
       "1  300000000.0  139.082615  9.610000e+08    169.0    0.0       0.0     0.0   \n",
       "2  245000000.0  107.376788  8.806746e+08    148.0    0.0       0.0     0.0   \n",
       "3  250000000.0  112.312950  1.084939e+09    165.0    1.0       1.0     0.0   \n",
       "4  260000000.0   43.926995  2.841391e+08    132.0    0.0       0.0     0.0   \n",
       "\n",
       "   Action  release_year  release_month  \n",
       "0     1.0        2009.0           12.0  \n",
       "1     1.0        2007.0            5.0  \n",
       "2     1.0        2015.0           10.0  \n",
       "3     1.0        2012.0            7.0  \n",
       "4     1.0        2012.0            3.0  "
      ]
     },
     "execution_count": 75,
     "metadata": {},
     "output_type": "execute_result"
    }
   ],
   "source": [
    "features = pd.DataFrame(X_high_variance, columns = labels)\n",
    "features.head()"
   ]
  },
  {
   "cell_type": "code",
   "execution_count": 76,
   "metadata": {
    "collapsed": false,
    "deletable": true,
    "editable": true
   },
   "outputs": [
    {
     "data": {
      "text/plain": [
       "(4802, 10)"
      ]
     },
     "execution_count": 76,
     "metadata": {},
     "output_type": "execute_result"
    }
   ],
   "source": [
    "X_high_variance.shape"
   ]
  },
  {
   "cell_type": "code",
   "execution_count": 77,
   "metadata": {
    "collapsed": false,
    "deletable": true,
    "editable": true
   },
   "outputs": [],
   "source": [
    "# Subset features\n",
    "X_new = selector.transform(X)"
   ]
  },
  {
   "cell_type": "code",
   "execution_count": 78,
   "metadata": {
    "collapsed": false,
    "deletable": true,
    "editable": true
   },
   "outputs": [],
   "source": [
    "X_new, y = shuffle(X_new, y)"
   ]
  },
  {
   "cell_type": "code",
   "execution_count": 79,
   "metadata": {
    "collapsed": false,
    "deletable": true,
    "editable": true
   },
   "outputs": [
    {
     "name": "stdout",
     "output_type": "stream",
     "text": [
      "(3361, 10) (3361,) (1441, 10) (1441,)\n"
     ]
    }
   ],
   "source": [
    "X_train, X_test, y_train, y_test = train_test_split(X_new, y, test_size=0.30)\n",
    "print (X_train.shape, y_train.shape, X_test.shape, y_test.shape)"
   ]
  },
  {
   "cell_type": "code",
   "execution_count": 80,
   "metadata": {
    "collapsed": false,
    "deletable": true,
    "editable": true
   },
   "outputs": [
    {
     "name": "stdout",
     "output_type": "stream",
     "text": [
      "Linear Regression Score: \n",
      " 25.56\n",
      "Linear Regression Test Score: \n",
      " 24.08\n",
      "Coefficient: \n",
      " [-2.12194634e-09  1.02921762e-02  5.87777891e-10  1.30374261e-02\n",
      "  4.28508583e-01 -2.33802868e-02  7.31857643e-02 -1.79865353e-01\n",
      " -1.62149532e-02  1.10456201e-02]\n",
      "Intercept: \n",
      " 36.69939612012242\n"
     ]
    }
   ],
   "source": [
    "linear = linear_model.LinearRegression()\n",
    "# Train the model using the training sets and check score\n",
    "linear.fit(X_train, y_train)\n",
    "#Predict Output\n",
    "lin_predicted = linear.predict(X_test)\n",
    "\n",
    "linear_score = round(linear.score(X_train, y_train) * 100, 2)\n",
    "linear_score_test = round(linear.score(X_test, y_test) * 100, 2)\n",
    "#Equation coefficient and Intercept\n",
    "print('Linear Regression Score: \\n', linear_score)\n",
    "print('Linear Regression Test Score: \\n', linear_score_test)\n",
    "print('Coefficient: \\n', linear.coef_)\n",
    "print('Intercept: \\n', linear.intercept_)"
   ]
  },
  {
   "cell_type": "markdown",
   "metadata": {},
   "source": [
    "### There seems to be no difference between normalized/scaled data and non-scaled data"
   ]
  },
  {
   "cell_type": "markdown",
   "metadata": {
    "deletable": true,
    "editable": true
   },
   "source": [
    "# 5) Recursive Feature elimination with Linear Regression\n",
    "Recursive feature elimination is based on the idea to repeatedly construct a model (Linear /SVM regression model) and choose either the best or worst performing feature (for example based on coefficients), setting the feature aside and then repeating the process with the rest of the features. This process is applied until all features in the dataset are exhausted. Features are then ranked according to when they were eliminated. As such, it is a greedy optimization for finding the best performing subset of features."
   ]
  },
  {
   "cell_type": "code",
   "execution_count": 81,
   "metadata": {
    "collapsed": true
   },
   "outputs": [],
   "source": [
    "X = movies.drop(['vote_average', 'vote_count'], axis=1)\n",
    "y = movies.vote_average"
   ]
  },
  {
   "cell_type": "code",
   "execution_count": 82,
   "metadata": {
    "collapsed": true
   },
   "outputs": [],
   "source": [
    "from sklearn.feature_selection import RFE"
   ]
  },
  {
   "cell_type": "code",
   "execution_count": 83,
   "metadata": {
    "collapsed": false
   },
   "outputs": [
    {
     "data": {
      "text/plain": [
       "RFE(estimator=LinearRegression(copy_X=True, fit_intercept=True, n_jobs=1, normalize=False),\n",
       "  n_features_to_select=1, step=1, verbose=0)"
      ]
     },
     "execution_count": 83,
     "metadata": {},
     "output_type": "execute_result"
    }
   ],
   "source": [
    "linear = linear_model.LinearRegression()\n",
    "rfe = RFE(estimator=linear, n_features_to_select=1)\n",
    "rfe.fit(X, y)"
   ]
  },
  {
   "cell_type": "code",
   "execution_count": 85,
   "metadata": {
    "collapsed": false
   },
   "outputs": [
    {
     "data": {
      "text/plain": [
       "array([56, 46, 57, 41, 22,  4, 50, 25,  6, 37,  9, 29, 28, 13, 20, 36,  8,\n",
       "       23, 24, 35,  7, 49, 40, 55, 51, 18, 53, 19, 52, 17, 58, 26, 16, 43,\n",
       "       45, 12, 54, 11, 21,  2, 31, 14, 42, 34, 39, 27, 32, 47, 15,  5,  3,\n",
       "       10, 30,  1, 38, 33, 44, 48])"
      ]
     },
     "execution_count": 85,
     "metadata": {},
     "output_type": "execute_result"
    }
   ],
   "source": [
    "rfe.ranking_"
   ]
  },
  {
   "cell_type": "markdown",
   "metadata": {},
   "source": [
    "## 5.1) Ranking of the features based on recursive feature elimination"
   ]
  },
  {
   "cell_type": "code",
   "execution_count": 86,
   "metadata": {
    "collapsed": false
   },
   "outputs": [
    {
     "data": {
      "text/html": [
       "<div>\n",
       "<style scoped>\n",
       "    .dataframe tbody tr th:only-of-type {\n",
       "        vertical-align: middle;\n",
       "    }\n",
       "\n",
       "    .dataframe tbody tr th {\n",
       "        vertical-align: top;\n",
       "    }\n",
       "\n",
       "    .dataframe thead th {\n",
       "        text-align: right;\n",
       "    }\n",
       "</style>\n",
       "<table border=\"1\" class=\"dataframe\">\n",
       "  <thead>\n",
       "    <tr style=\"text-align: right;\">\n",
       "      <th></th>\n",
       "      <th>Feature</th>\n",
       "    </tr>\n",
       "  </thead>\n",
       "  <tbody>\n",
       "    <tr>\n",
       "      <th>1</th>\n",
       "      <td>Released</td>\n",
       "    </tr>\n",
       "    <tr>\n",
       "      <th>2</th>\n",
       "      <td>United Artists</td>\n",
       "    </tr>\n",
       "    <tr>\n",
       "      <th>3</th>\n",
       "      <td>Amblin Entertainment</td>\n",
       "    </tr>\n",
       "    <tr>\n",
       "      <th>4</th>\n",
       "      <td>Drama</td>\n",
       "    </tr>\n",
       "    <tr>\n",
       "      <th>5</th>\n",
       "      <td>Working Title Films</td>\n",
       "    </tr>\n",
       "    <tr>\n",
       "      <th>6</th>\n",
       "      <td>TV Movie</td>\n",
       "    </tr>\n",
       "    <tr>\n",
       "      <th>7</th>\n",
       "      <td>Animation</td>\n",
       "    </tr>\n",
       "    <tr>\n",
       "      <th>8</th>\n",
       "      <td>Documentary</td>\n",
       "    </tr>\n",
       "    <tr>\n",
       "      <th>9</th>\n",
       "      <td>War</td>\n",
       "    </tr>\n",
       "    <tr>\n",
       "      <th>10</th>\n",
       "      <td>The Weinstein Company</td>\n",
       "    </tr>\n",
       "    <tr>\n",
       "      <th>11</th>\n",
       "      <td>DreamWorks SKG</td>\n",
       "    </tr>\n",
       "    <tr>\n",
       "      <th>12</th>\n",
       "      <td>Miramax Films</td>\n",
       "    </tr>\n",
       "    <tr>\n",
       "      <th>13</th>\n",
       "      <td>History</td>\n",
       "    </tr>\n",
       "    <tr>\n",
       "      <th>14</th>\n",
       "      <td>Fox Searchlight Pictures</td>\n",
       "    </tr>\n",
       "    <tr>\n",
       "      <th>15</th>\n",
       "      <td>Summit Entertainment</td>\n",
       "    </tr>\n",
       "    <tr>\n",
       "      <th>16</th>\n",
       "      <td>Walt Disney Pictures</td>\n",
       "    </tr>\n",
       "    <tr>\n",
       "      <th>17</th>\n",
       "      <td>New Line Cinema</td>\n",
       "    </tr>\n",
       "    <tr>\n",
       "      <th>18</th>\n",
       "      <td>Universal Pictures</td>\n",
       "    </tr>\n",
       "    <tr>\n",
       "      <th>19</th>\n",
       "      <td>Twentieth Century Fox Film Corporation</td>\n",
       "    </tr>\n",
       "    <tr>\n",
       "      <th>20</th>\n",
       "      <td>Crime</td>\n",
       "    </tr>\n",
       "    <tr>\n",
       "      <th>21</th>\n",
       "      <td>Canal+</td>\n",
       "    </tr>\n",
       "    <tr>\n",
       "      <th>22</th>\n",
       "      <td>Music</td>\n",
       "    </tr>\n",
       "    <tr>\n",
       "      <th>23</th>\n",
       "      <td>Adventure</td>\n",
       "    </tr>\n",
       "    <tr>\n",
       "      <th>24</th>\n",
       "      <td>Family</td>\n",
       "    </tr>\n",
       "    <tr>\n",
       "      <th>25</th>\n",
       "      <td>Horror</td>\n",
       "    </tr>\n",
       "    <tr>\n",
       "      <th>26</th>\n",
       "      <td>Touchstone Pictures</td>\n",
       "    </tr>\n",
       "    <tr>\n",
       "      <th>27</th>\n",
       "      <td>Fox 2000 Pictures</td>\n",
       "    </tr>\n",
       "    <tr>\n",
       "      <th>28</th>\n",
       "      <td>Foreign</td>\n",
       "    </tr>\n",
       "    <tr>\n",
       "      <th>29</th>\n",
       "      <td>Mystery</td>\n",
       "    </tr>\n",
       "    <tr>\n",
       "      <th>30</th>\n",
       "      <td>StudioCanal</td>\n",
       "    </tr>\n",
       "    <tr>\n",
       "      <th>31</th>\n",
       "      <td>Regency Enterprises</td>\n",
       "    </tr>\n",
       "    <tr>\n",
       "      <th>32</th>\n",
       "      <td>TriStar Pictures</td>\n",
       "    </tr>\n",
       "    <tr>\n",
       "      <th>33</th>\n",
       "      <td>Post Production</td>\n",
       "    </tr>\n",
       "    <tr>\n",
       "      <th>34</th>\n",
       "      <td>Lionsgate</td>\n",
       "    </tr>\n",
       "    <tr>\n",
       "      <th>35</th>\n",
       "      <td>Action</td>\n",
       "    </tr>\n",
       "    <tr>\n",
       "      <th>36</th>\n",
       "      <td>Comedy</td>\n",
       "    </tr>\n",
       "    <tr>\n",
       "      <th>37</th>\n",
       "      <td>Thriller</td>\n",
       "    </tr>\n",
       "    <tr>\n",
       "      <th>38</th>\n",
       "      <td>Rumored</td>\n",
       "    </tr>\n",
       "    <tr>\n",
       "      <th>39</th>\n",
       "      <td>The</td>\n",
       "    </tr>\n",
       "    <tr>\n",
       "      <th>40</th>\n",
       "      <td>Western</td>\n",
       "    </tr>\n",
       "    <tr>\n",
       "      <th>41</th>\n",
       "      <td>runtime</td>\n",
       "    </tr>\n",
       "    <tr>\n",
       "      <th>42</th>\n",
       "      <td>Dune Entertainment</td>\n",
       "    </tr>\n",
       "    <tr>\n",
       "      <th>43</th>\n",
       "      <td>Relativity Media</td>\n",
       "    </tr>\n",
       "    <tr>\n",
       "      <th>44</th>\n",
       "      <td>release_year</td>\n",
       "    </tr>\n",
       "    <tr>\n",
       "      <th>45</th>\n",
       "      <td>Columbia Pictures Corporation</td>\n",
       "    </tr>\n",
       "    <tr>\n",
       "      <th>46</th>\n",
       "      <td>popularity</td>\n",
       "    </tr>\n",
       "    <tr>\n",
       "      <th>47</th>\n",
       "      <td>Dimension Films</td>\n",
       "    </tr>\n",
       "    <tr>\n",
       "      <th>48</th>\n",
       "      <td>release_month</td>\n",
       "    </tr>\n",
       "    <tr>\n",
       "      <th>49</th>\n",
       "      <td>Romance</td>\n",
       "    </tr>\n",
       "    <tr>\n",
       "      <th>50</th>\n",
       "      <td>Fantasy</td>\n",
       "    </tr>\n",
       "    <tr>\n",
       "      <th>51</th>\n",
       "      <td>Warner Bros.</td>\n",
       "    </tr>\n",
       "    <tr>\n",
       "      <th>52</th>\n",
       "      <td>Columbia Pictures</td>\n",
       "    </tr>\n",
       "    <tr>\n",
       "      <th>53</th>\n",
       "      <td>Paramount Pictures</td>\n",
       "    </tr>\n",
       "    <tr>\n",
       "      <th>54</th>\n",
       "      <td>Village Roadshow Pictures</td>\n",
       "    </tr>\n",
       "    <tr>\n",
       "      <th>55</th>\n",
       "      <td>Science Fiction</td>\n",
       "    </tr>\n",
       "    <tr>\n",
       "      <th>56</th>\n",
       "      <td>budget</td>\n",
       "    </tr>\n",
       "    <tr>\n",
       "      <th>57</th>\n",
       "      <td>revenue</td>\n",
       "    </tr>\n",
       "    <tr>\n",
       "      <th>58</th>\n",
       "      <td>Metro-Goldwyn-Mayer (MGM)</td>\n",
       "    </tr>\n",
       "  </tbody>\n",
       "</table>\n",
       "</div>"
      ],
      "text/plain": [
       "                                   Feature\n",
       "1                                 Released\n",
       "2                           United Artists\n",
       "3                     Amblin Entertainment\n",
       "4                                    Drama\n",
       "5                      Working Title Films\n",
       "6                                 TV Movie\n",
       "7                                Animation\n",
       "8                              Documentary\n",
       "9                                      War\n",
       "10                   The Weinstein Company\n",
       "11                          DreamWorks SKG\n",
       "12                           Miramax Films\n",
       "13                                 History\n",
       "14                Fox Searchlight Pictures\n",
       "15                    Summit Entertainment\n",
       "16                    Walt Disney Pictures\n",
       "17                         New Line Cinema\n",
       "18                      Universal Pictures\n",
       "19  Twentieth Century Fox Film Corporation\n",
       "20                                   Crime\n",
       "21                                  Canal+\n",
       "22                                   Music\n",
       "23                               Adventure\n",
       "24                                  Family\n",
       "25                                  Horror\n",
       "26                     Touchstone Pictures\n",
       "27                       Fox 2000 Pictures\n",
       "28                                 Foreign\n",
       "29                                 Mystery\n",
       "30                             StudioCanal\n",
       "31                     Regency Enterprises\n",
       "32                        TriStar Pictures\n",
       "33                         Post Production\n",
       "34                               Lionsgate\n",
       "35                                  Action\n",
       "36                                  Comedy\n",
       "37                                Thriller\n",
       "38                                 Rumored\n",
       "39                                     The\n",
       "40                                 Western\n",
       "41                                 runtime\n",
       "42                      Dune Entertainment\n",
       "43                        Relativity Media\n",
       "44                            release_year\n",
       "45           Columbia Pictures Corporation\n",
       "46                              popularity\n",
       "47                         Dimension Films\n",
       "48                           release_month\n",
       "49                                 Romance\n",
       "50                                 Fantasy\n",
       "51                            Warner Bros.\n",
       "52                       Columbia Pictures\n",
       "53                      Paramount Pictures\n",
       "54               Village Roadshow Pictures\n",
       "55                         Science Fiction\n",
       "56                                  budget\n",
       "57                                 revenue\n",
       "58               Metro-Goldwyn-Mayer (MGM)"
      ]
     },
     "execution_count": 86,
     "metadata": {},
     "output_type": "execute_result"
    }
   ],
   "source": [
    "feature_ranking = pd.DataFrame(data=X.columns.values,  index=rfe.ranking_, columns=['Feature'])\n",
    "feature_ranking.sort_index(inplace=True)\n",
    "feature_ranking"
   ]
  },
  {
   "cell_type": "markdown",
   "metadata": {},
   "source": [
    "### Observations:\n",
    "The features displayed in the dataframe above impact the prediction of vote_average."
   ]
  },
  {
   "cell_type": "markdown",
   "metadata": {},
   "source": [
    "## 5.2) Run linear regression against top 10 ranking features"
   ]
  },
  {
   "cell_type": "code",
   "execution_count": 99,
   "metadata": {
    "collapsed": false
   },
   "outputs": [],
   "source": [
    "X1 = movies[feature_ranking.Feature[:10].values.tolist()]\n",
    "y1 = movies['vote_average']"
   ]
  },
  {
   "cell_type": "code",
   "execution_count": 100,
   "metadata": {
    "collapsed": true
   },
   "outputs": [],
   "source": [
    "X1, y1 = shuffle(X1, y1)"
   ]
  },
  {
   "cell_type": "code",
   "execution_count": 101,
   "metadata": {
    "collapsed": false
   },
   "outputs": [
    {
     "name": "stdout",
     "output_type": "stream",
     "text": [
      "(3361, 10) (3361,) (1441, 10) (1441,)\n"
     ]
    }
   ],
   "source": [
    "X_train, X_test, y_train, y_test = train_test_split(X1, y1, test_size=0.30)\n",
    "print (X_train.shape, y_train.shape, X_test.shape, y_test.shape)"
   ]
  },
  {
   "cell_type": "code",
   "execution_count": 102,
   "metadata": {
    "collapsed": false
   },
   "outputs": [
    {
     "name": "stdout",
     "output_type": "stream",
     "text": [
      "Linear Regression Score: \n",
      " 9.14\n",
      "Linear Regression Test Score: \n",
      " 5.51\n",
      "Coefficient: \n",
      " [1.58063197 0.61581653 0.50276488 0.64122135 0.49884275 0.04259413\n",
      " 0.57449226 0.5217057  0.39644427 0.32207732]\n",
      "Intercept: \n",
      " 4.152234815008736\n"
     ]
    }
   ],
   "source": [
    "linear = linear_model.LinearRegression()\n",
    "# Train the model using the training sets and check score\n",
    "linear.fit(X_train, y_train)\n",
    "#Predict Output\n",
    "lin_predicted = linear.predict(X_test)\n",
    "\n",
    "linear_score = round(linear.score(X_train, y_train) * 100, 2)\n",
    "linear_score_test = round(linear.score(X_test, y_test) * 100, 2)\n",
    "#Equation coefficient and Intercept\n",
    "print('Linear Regression Score: \\n', linear_score)\n",
    "print('Linear Regression Test Score: \\n', linear_score_test)\n",
    "print('Coefficient: \\n', linear.coef_)\n",
    "print('Intercept: \\n', linear.intercept_)"
   ]
  },
  {
   "cell_type": "markdown",
   "metadata": {},
   "source": [
    "### Very bad results. This indicates that we need more features for getting decent accuracy in this model"
   ]
  },
  {
   "cell_type": "markdown",
   "metadata": {
    "deletable": true,
    "editable": true
   },
   "source": [
    "# 5) Recursive Feature elimination with Cross Validation\n",
    "RFECV performs RFE in a cross-validation loop to find the optimal number or the best number of features. Hereafter a recursive feature elimination applied on linear regression with automatic tuning of the number of features selected with cross-validation."
   ]
  },
  {
   "cell_type": "code",
   "execution_count": 103,
   "metadata": {
    "collapsed": true
   },
   "outputs": [],
   "source": [
    "X = movies.drop(['vote_average', 'vote_count'], axis=1)\n",
    "y = movies.vote_average"
   ]
  },
  {
   "cell_type": "code",
   "execution_count": 104,
   "metadata": {
    "collapsed": false,
    "deletable": true,
    "editable": true
   },
   "outputs": [
    {
     "data": {
      "text/plain": [
       "RFECV(cv=None,\n",
       "   estimator=LinearRegression(copy_X=True, fit_intercept=True, n_jobs=1, normalize=False),\n",
       "   n_jobs=1, scoring=None, step=1, verbose=0)"
      ]
     },
     "execution_count": 104,
     "metadata": {},
     "output_type": "execute_result"
    }
   ],
   "source": [
    "from sklearn.feature_selection import RFECV\n",
    "# Create the RFE object and compute a cross-validated score.\n",
    "# The \"accuracy\" scoring is proportional to the number of correct classifications\n",
    "rfecv = RFECV(estimator=linear, step=1, cv=None)\n",
    "rfecv.fit(X, y)"
   ]
  },
  {
   "cell_type": "code",
   "execution_count": 105,
   "metadata": {
    "collapsed": false,
    "deletable": true,
    "editable": true
   },
   "outputs": [
    {
     "name": "stdout",
     "output_type": "stream",
     "text": [
      "Number of features: 48\n",
      "Selected features: ['popularity', 'runtime', 'Music', 'Drama', 'Horror', 'TV Movie', 'Thriller', 'War', 'Mystery', 'Foreign', 'History', 'Crime', 'Comedy', 'Documentary', 'Adventure', 'Family', 'Action', 'Animation', 'Western', 'Universal Pictures', 'Twentieth Century Fox Film Corporation', 'New Line Cinema', 'Touchstone Pictures', 'Walt Disney Pictures', 'Relativity Media', 'Columbia Pictures Corporation', 'Miramax Films', 'DreamWorks SKG', 'Canal+', 'United Artists', 'Regency Enterprises', 'Fox Searchlight Pictures', 'Dune Entertainment', 'Lionsgate', ' The', 'Fox 2000 Pictures', 'TriStar Pictures', 'Dimension Films', 'Summit Entertainment', 'Working Title Films', 'Amblin Entertainment', 'The Weinstein Company', 'StudioCanal', 'Released', 'Rumored', 'Post Production', 'release_year', 'release_month']\n"
     ]
    }
   ],
   "source": [
    "print(\"Number of features: %d\" % rfecv.n_features_)\n",
    "print('Selected features: %s' % list(X.columns[rfecv.support_]))"
   ]
  },
  {
   "cell_type": "code",
   "execution_count": 106,
   "metadata": {
    "collapsed": false
   },
   "outputs": [
    {
     "data": {
      "text/plain": [
       "array([ 9,  1, 10,  1,  1,  1,  3,  1,  1,  1,  1,  1,  1,  1,  1,  1,  1,\n",
       "        1,  1,  1,  1,  2,  1,  8,  4,  1,  6,  1,  5,  1, 11,  1,  1,  1,\n",
       "        1,  1,  7,  1,  1,  1,  1,  1,  1,  1,  1,  1,  1,  1,  1,  1,  1,\n",
       "        1,  1,  1,  1,  1,  1,  1])"
      ]
     },
     "execution_count": 106,
     "metadata": {},
     "output_type": "execute_result"
    }
   ],
   "source": [
    "rfecv.ranking_"
   ]
  },
  {
   "cell_type": "code",
   "execution_count": 107,
   "metadata": {
    "collapsed": false
   },
   "outputs": [
    {
     "name": "stdout",
     "output_type": "stream",
     "text": [
      "popularity\n",
      "runtime\n",
      "Music\n",
      "Drama\n",
      "Horror\n",
      "TV Movie\n",
      "Thriller\n",
      "War\n",
      "Mystery\n",
      "Foreign\n",
      "History\n",
      "Crime\n",
      "Comedy\n",
      "Documentary\n",
      "Adventure\n",
      "Family\n",
      "Action\n",
      "Animation\n",
      "Western\n",
      "Universal Pictures\n",
      "Twentieth Century Fox Film Corporation\n",
      "New Line Cinema\n",
      "Touchstone Pictures\n",
      "Walt Disney Pictures\n",
      "Relativity Media\n",
      "Columbia Pictures Corporation\n",
      "Miramax Films\n",
      "DreamWorks SKG\n",
      "Canal+\n",
      "United Artists\n",
      "Regency Enterprises\n",
      "Fox Searchlight Pictures\n",
      "Dune Entertainment\n",
      "Lionsgate\n",
      " The\n",
      "Fox 2000 Pictures\n",
      "TriStar Pictures\n",
      "Dimension Films\n",
      "Summit Entertainment\n",
      "Working Title Films\n",
      "Amblin Entertainment\n",
      "The Weinstein Company\n",
      "StudioCanal\n",
      "Released\n",
      "Rumored\n",
      "Post Production\n",
      "release_year\n",
      "release_month\n"
     ]
    }
   ],
   "source": [
    "for i in range(len(rfecv.ranking_)):\n",
    "    if rfecv.ranking_[i] == 1:\n",
    "        print(X.columns.values[i])"
   ]
  },
  {
   "cell_type": "code",
   "execution_count": 108,
   "metadata": {
    "collapsed": true
   },
   "outputs": [],
   "source": [
    "X1 = movies[list(X.columns[rfecv.support_])[:30]]\n",
    "y1 = movies['vote_average']"
   ]
  },
  {
   "cell_type": "code",
   "execution_count": 109,
   "metadata": {
    "collapsed": false
   },
   "outputs": [
    {
     "name": "stdout",
     "output_type": "stream",
     "text": [
      "(3361, 30) (3361,) (1441, 30) (1441,)\n"
     ]
    }
   ],
   "source": [
    "X_train, X_test, y_train, y_test = train_test_split(X1, y1, test_size=0.30)\n",
    "print (X_train.shape, y_train.shape, X_test.shape, y_test.shape)"
   ]
  },
  {
   "cell_type": "code",
   "execution_count": 110,
   "metadata": {
    "collapsed": false
   },
   "outputs": [
    {
     "name": "stdout",
     "output_type": "stream",
     "text": [
      "Linear Regression Score: \n",
      " 24.81\n",
      "Linear Regression Test Score: \n",
      " 22.47\n",
      "Coefficient: \n",
      " [ 0.01052922  0.01454402  0.29127499  0.48645024 -0.03635568 -0.51891091\n",
      " -0.04659197  0.12388023  0.06826012  0.39056471  0.02099693  0.16277431\n",
      "  0.06937506  0.72140612  0.00466596 -0.06585815 -0.1825031   0.58797897\n",
      " -0.14306288  0.11905353  0.05181367  0.10179242  0.09687233  0.07331992\n",
      " -0.03578154  0.05793024  0.32745721  0.16727662  0.34931422  0.58438213]\n",
      "Intercept: \n",
      " 3.9809781303709992\n"
     ]
    }
   ],
   "source": [
    "linear = linear_model.LinearRegression()\n",
    "# Train the model using the training sets and check score\n",
    "linear.fit(X_train, y_train)\n",
    "#Predict Output\n",
    "lin_predicted = linear.predict(X_test)\n",
    "\n",
    "linear_score = round(linear.score(X_train, y_train) * 100, 2)\n",
    "linear_score_test = round(linear.score(X_test, y_test) * 100, 2)\n",
    "#Equation coefficient and Intercept\n",
    "print('Linear Regression Score: \\n', linear_score)\n",
    "print('Linear Regression Test Score: \\n', linear_score_test)\n",
    "print('Coefficient: \\n', linear.coef_)\n",
    "print('Intercept: \\n', linear.intercept_)"
   ]
  }
 ],
 "metadata": {
  "kernelspec": {
   "display_name": "Python 3",
   "language": "python",
   "name": "python3"
  },
  "language_info": {
   "codemirror_mode": {
    "name": "ipython",
    "version": 3
   },
   "file_extension": ".py",
   "mimetype": "text/x-python",
   "name": "python",
   "nbconvert_exporter": "python",
   "pygments_lexer": "ipython3",
   "version": "3.6.2"
  }
 },
 "nbformat": 4,
 "nbformat_minor": 2
}
