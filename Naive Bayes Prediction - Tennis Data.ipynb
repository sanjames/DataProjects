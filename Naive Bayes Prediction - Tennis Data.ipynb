{
 "cells": [
  {
   "cell_type": "markdown",
   "metadata": {
    "deletable": true,
    "editable": true
   },
   "source": [
    "# Naive Bayes \n",
    "\n",
    "Objective is to use the tennis data set and:\n",
    "\n",
    "    1) Provide a model based on Gaussian Naive bayes and calculate the accuracy.\n",
    "    2) Find the prediction for the following scenarios: is the prediction for the following cases?\n",
    "        Case1=     [\"Rain\",\"Mild\",\"Strong\",\"Weak\"]\n",
    "        Case2=     [\"Overcast\",\"Mild\",\"Normal\",\"Strong\"]\n",
    "        Case3=     [\"Sunny\",\"Hot\",\"High\",\"Weak\"]"
   ]
  },
  {
   "cell_type": "markdown",
   "metadata": {
    "deletable": true,
    "editable": true
   },
   "source": [
    "## Pseudo Code\n",
    "    1) Data Analysis/Understanding of the data\n",
    "    2) Encoding the categorical variables\n",
    "    3) Use Gaussian Naive Bayes algorithm to predict the output variable 'Plays Tennis'\n",
    "    4) Find the prediction for the 3 cases"
   ]
  },
  {
   "cell_type": "code",
   "execution_count": 1,
   "metadata": {
    "collapsed": true,
    "deletable": true,
    "editable": true
   },
   "outputs": [],
   "source": [
    "import numpy as np\n",
    "import pandas as pd\n",
    "from sklearn.naive_bayes import GaussianNB\n",
    "from sklearn.preprocessing import LabelEncoder\n",
    "from sklearn.model_selection import train_test_split\n",
    "from sklearn.metrics import accuracy_score\n",
    "import matplotlib.pyplot as plt\n",
    "import seaborn as sns\n",
    "%matplotlib notebook"
   ]
  },
  {
   "cell_type": "markdown",
   "metadata": {
    "deletable": true,
    "editable": true
   },
   "source": [
    "# 1) Data Preparation, Analysis & Cleaning"
   ]
  },
  {
   "cell_type": "code",
   "execution_count": 2,
   "metadata": {
    "collapsed": true,
    "deletable": true,
    "editable": true
   },
   "outputs": [],
   "source": [
    "features = [\"Outlook\", \"Temperature\", \"Humidity\", \"Wind\"]\n",
    "target = \"Play Tennis\""
   ]
  },
  {
   "cell_type": "code",
   "execution_count": 3,
   "metadata": {
    "collapsed": false,
    "deletable": true,
    "editable": true
   },
   "outputs": [
    {
     "data": {
      "text/html": [
       "<div>\n",
       "<style scoped>\n",
       "    .dataframe tbody tr th:only-of-type {\n",
       "        vertical-align: middle;\n",
       "    }\n",
       "\n",
       "    .dataframe tbody tr th {\n",
       "        vertical-align: top;\n",
       "    }\n",
       "\n",
       "    .dataframe thead th {\n",
       "        text-align: right;\n",
       "    }\n",
       "</style>\n",
       "<table border=\"1\" class=\"dataframe\">\n",
       "  <thead>\n",
       "    <tr style=\"text-align: right;\">\n",
       "      <th></th>\n",
       "      <th>Outlook</th>\n",
       "      <th>Temperature</th>\n",
       "      <th>Humidity</th>\n",
       "      <th>Wind</th>\n",
       "      <th>Play Tennis</th>\n",
       "    </tr>\n",
       "  </thead>\n",
       "  <tbody>\n",
       "    <tr>\n",
       "      <th>0</th>\n",
       "      <td>Sunny</td>\n",
       "      <td>Hot</td>\n",
       "      <td>High</td>\n",
       "      <td>Weak</td>\n",
       "      <td>No</td>\n",
       "    </tr>\n",
       "    <tr>\n",
       "      <th>1</th>\n",
       "      <td>Sunny</td>\n",
       "      <td>Hot</td>\n",
       "      <td>High</td>\n",
       "      <td>Strong</td>\n",
       "      <td>No</td>\n",
       "    </tr>\n",
       "    <tr>\n",
       "      <th>2</th>\n",
       "      <td>Overcast</td>\n",
       "      <td>Hot</td>\n",
       "      <td>High</td>\n",
       "      <td>Weak</td>\n",
       "      <td>Yes</td>\n",
       "    </tr>\n",
       "    <tr>\n",
       "      <th>3</th>\n",
       "      <td>Rain</td>\n",
       "      <td>Mild</td>\n",
       "      <td>High</td>\n",
       "      <td>Weak</td>\n",
       "      <td>Yes</td>\n",
       "    </tr>\n",
       "    <tr>\n",
       "      <th>4</th>\n",
       "      <td>Rain</td>\n",
       "      <td>Cool</td>\n",
       "      <td>Normal</td>\n",
       "      <td>Weak</td>\n",
       "      <td>Yes</td>\n",
       "    </tr>\n",
       "  </tbody>\n",
       "</table>\n",
       "</div>"
      ],
      "text/plain": [
       "    Outlook Temperature Humidity    Wind Play Tennis\n",
       "0     Sunny         Hot     High    Weak          No\n",
       "1     Sunny         Hot     High  Strong          No\n",
       "2  Overcast         Hot     High    Weak         Yes\n",
       "3      Rain        Mild     High    Weak         Yes\n",
       "4      Rain        Cool   Normal    Weak         Yes"
      ]
     },
     "execution_count": 3,
     "metadata": {},
     "output_type": "execute_result"
    }
   ],
   "source": [
    "tennis_df = pd.read_csv('Tennis.csv')\n",
    "tennis_df.head()"
   ]
  },
  {
   "cell_type": "code",
   "execution_count": 4,
   "metadata": {
    "collapsed": false,
    "deletable": true,
    "editable": true
   },
   "outputs": [
    {
     "data": {
      "text/html": [
       "<div>\n",
       "<style scoped>\n",
       "    .dataframe tbody tr th:only-of-type {\n",
       "        vertical-align: middle;\n",
       "    }\n",
       "\n",
       "    .dataframe tbody tr th {\n",
       "        vertical-align: top;\n",
       "    }\n",
       "\n",
       "    .dataframe thead th {\n",
       "        text-align: right;\n",
       "    }\n",
       "</style>\n",
       "<table border=\"1\" class=\"dataframe\">\n",
       "  <thead>\n",
       "    <tr style=\"text-align: right;\">\n",
       "      <th></th>\n",
       "      <th>Outlook</th>\n",
       "      <th>Temperature</th>\n",
       "      <th>Humidity</th>\n",
       "      <th>Wind</th>\n",
       "      <th>Play Tennis</th>\n",
       "    </tr>\n",
       "  </thead>\n",
       "  <tbody>\n",
       "    <tr>\n",
       "      <th>0</th>\n",
       "      <td>Sunny</td>\n",
       "      <td>Hot</td>\n",
       "      <td>High</td>\n",
       "      <td>Weak</td>\n",
       "      <td>No</td>\n",
       "    </tr>\n",
       "    <tr>\n",
       "      <th>1</th>\n",
       "      <td>Sunny</td>\n",
       "      <td>Hot</td>\n",
       "      <td>High</td>\n",
       "      <td>Strong</td>\n",
       "      <td>No</td>\n",
       "    </tr>\n",
       "    <tr>\n",
       "      <th>2</th>\n",
       "      <td>Overcast</td>\n",
       "      <td>Hot</td>\n",
       "      <td>High</td>\n",
       "      <td>Weak</td>\n",
       "      <td>Yes</td>\n",
       "    </tr>\n",
       "    <tr>\n",
       "      <th>3</th>\n",
       "      <td>Rain</td>\n",
       "      <td>Mild</td>\n",
       "      <td>High</td>\n",
       "      <td>Weak</td>\n",
       "      <td>Yes</td>\n",
       "    </tr>\n",
       "    <tr>\n",
       "      <th>4</th>\n",
       "      <td>Rain</td>\n",
       "      <td>Cool</td>\n",
       "      <td>Normal</td>\n",
       "      <td>Weak</td>\n",
       "      <td>Yes</td>\n",
       "    </tr>\n",
       "  </tbody>\n",
       "</table>\n",
       "</div>"
      ],
      "text/plain": [
       "    Outlook Temperature Humidity    Wind Play Tennis\n",
       "0     Sunny         Hot     High    Weak          No\n",
       "1     Sunny         Hot     High  Strong          No\n",
       "2  Overcast         Hot     High    Weak         Yes\n",
       "3      Rain        Mild     High    Weak         Yes\n",
       "4      Rain        Cool   Normal    Weak         Yes"
      ]
     },
     "execution_count": 4,
     "metadata": {},
     "output_type": "execute_result"
    }
   ],
   "source": [
    "tennis_df.head()"
   ]
  },
  {
   "cell_type": "code",
   "execution_count": 5,
   "metadata": {
    "collapsed": false,
    "deletable": true,
    "editable": true
   },
   "outputs": [
    {
     "data": {
      "text/plain": [
       "Sunny       5\n",
       "Rain        5\n",
       "Overcast    4\n",
       "Name: Outlook, dtype: int64"
      ]
     },
     "execution_count": 5,
     "metadata": {},
     "output_type": "execute_result"
    }
   ],
   "source": [
    "tennis_df.Outlook.value_counts()"
   ]
  },
  {
   "cell_type": "code",
   "execution_count": 6,
   "metadata": {
    "collapsed": false,
    "deletable": true,
    "editable": true
   },
   "outputs": [
    {
     "data": {
      "text/plain": [
       "Mild    6\n",
       "Cool    4\n",
       "Hot     4\n",
       "Name: Temperature, dtype: int64"
      ]
     },
     "execution_count": 6,
     "metadata": {},
     "output_type": "execute_result"
    }
   ],
   "source": [
    "tennis_df.Temperature.value_counts()"
   ]
  },
  {
   "cell_type": "code",
   "execution_count": 7,
   "metadata": {
    "collapsed": false,
    "deletable": true,
    "editable": true
   },
   "outputs": [
    {
     "data": {
      "text/plain": [
       "High      7\n",
       "Normal    7\n",
       "Name: Humidity, dtype: int64"
      ]
     },
     "execution_count": 7,
     "metadata": {},
     "output_type": "execute_result"
    }
   ],
   "source": [
    "tennis_df.Humidity.value_counts()"
   ]
  },
  {
   "cell_type": "code",
   "execution_count": 8,
   "metadata": {
    "collapsed": false,
    "deletable": true,
    "editable": true
   },
   "outputs": [
    {
     "data": {
      "text/plain": [
       "Weak      8\n",
       "Strong    6\n",
       "Name: Wind, dtype: int64"
      ]
     },
     "execution_count": 8,
     "metadata": {},
     "output_type": "execute_result"
    }
   ],
   "source": [
    "tennis_df.Wind.value_counts()"
   ]
  },
  {
   "cell_type": "code",
   "execution_count": 9,
   "metadata": {
    "collapsed": false,
    "deletable": true,
    "editable": true
   },
   "outputs": [
    {
     "data": {
      "text/plain": [
       "Yes    9\n",
       "No     5\n",
       "Name: Play Tennis, dtype: int64"
      ]
     },
     "execution_count": 9,
     "metadata": {},
     "output_type": "execute_result"
    }
   ],
   "source": [
    "tennis_df['Play Tennis'].value_counts()"
   ]
  },
  {
   "cell_type": "markdown",
   "metadata": {
    "deletable": true,
    "editable": true
   },
   "source": [
    "Tennis data has the 5  features with different values as below for 14 entries that determine whether tennis can be played or not:   \n",
    "  - Outlook - Rain, Sunny, Overcast\n",
    "  - Temperature - Mild, Hot, Cool \n",
    "  - Humidity - High, Normal\n",
    "  - Wind - Weak, Strong\n",
    "  - Play Tennis - Yes or No"
   ]
  },
  {
   "cell_type": "code",
   "execution_count": 10,
   "metadata": {
    "collapsed": false,
    "deletable": true,
    "editable": true
   },
   "outputs": [
    {
     "data": {
      "text/plain": [
       "Outlook        0\n",
       "Temperature    0\n",
       "Humidity       0\n",
       "Wind           0\n",
       "Play Tennis    0\n",
       "dtype: int64"
      ]
     },
     "execution_count": 10,
     "metadata": {},
     "output_type": "execute_result"
    }
   ],
   "source": [
    "tennis_df.isnull().sum()"
   ]
  },
  {
   "cell_type": "markdown",
   "metadata": {
    "deletable": true,
    "editable": true
   },
   "source": [
    "There are no null values in the data and hence no cleaning is required."
   ]
  },
  {
   "cell_type": "markdown",
   "metadata": {
    "deletable": true,
    "editable": true
   },
   "source": [
    "# 2) Encoding categorical variables\n",
    "Before we apply the Naive Bayes model, we need to convert all the string to numeric. "
   ]
  },
  {
   "cell_type": "code",
   "execution_count": 11,
   "metadata": {
    "collapsed": true,
    "deletable": true,
    "editable": true
   },
   "outputs": [],
   "source": [
    "from sklearn.preprocessing import LabelEncoder"
   ]
  },
  {
   "cell_type": "code",
   "execution_count": 12,
   "metadata": {
    "collapsed": true,
    "deletable": true,
    "editable": true
   },
   "outputs": [],
   "source": [
    "le = LabelEncoder()"
   ]
  },
  {
   "cell_type": "code",
   "execution_count": 13,
   "metadata": {
    "collapsed": false,
    "deletable": true,
    "editable": true
   },
   "outputs": [
    {
     "data": {
      "text/html": [
       "<div>\n",
       "<style scoped>\n",
       "    .dataframe tbody tr th:only-of-type {\n",
       "        vertical-align: middle;\n",
       "    }\n",
       "\n",
       "    .dataframe tbody tr th {\n",
       "        vertical-align: top;\n",
       "    }\n",
       "\n",
       "    .dataframe thead th {\n",
       "        text-align: right;\n",
       "    }\n",
       "</style>\n",
       "<table border=\"1\" class=\"dataframe\">\n",
       "  <thead>\n",
       "    <tr style=\"text-align: right;\">\n",
       "      <th></th>\n",
       "      <th>Outlook</th>\n",
       "      <th>Temperature</th>\n",
       "      <th>Humidity</th>\n",
       "      <th>Wind</th>\n",
       "      <th>Play Tennis</th>\n",
       "      <th>outlook_le</th>\n",
       "      <th>temp_le</th>\n",
       "      <th>humidity_le</th>\n",
       "      <th>wind_le</th>\n",
       "    </tr>\n",
       "  </thead>\n",
       "  <tbody>\n",
       "    <tr>\n",
       "      <th>0</th>\n",
       "      <td>Sunny</td>\n",
       "      <td>Hot</td>\n",
       "      <td>High</td>\n",
       "      <td>Weak</td>\n",
       "      <td>No</td>\n",
       "      <td>2</td>\n",
       "      <td>1</td>\n",
       "      <td>0</td>\n",
       "      <td>1</td>\n",
       "    </tr>\n",
       "    <tr>\n",
       "      <th>1</th>\n",
       "      <td>Sunny</td>\n",
       "      <td>Hot</td>\n",
       "      <td>High</td>\n",
       "      <td>Strong</td>\n",
       "      <td>No</td>\n",
       "      <td>2</td>\n",
       "      <td>1</td>\n",
       "      <td>0</td>\n",
       "      <td>0</td>\n",
       "    </tr>\n",
       "    <tr>\n",
       "      <th>2</th>\n",
       "      <td>Overcast</td>\n",
       "      <td>Hot</td>\n",
       "      <td>High</td>\n",
       "      <td>Weak</td>\n",
       "      <td>Yes</td>\n",
       "      <td>0</td>\n",
       "      <td>1</td>\n",
       "      <td>0</td>\n",
       "      <td>1</td>\n",
       "    </tr>\n",
       "    <tr>\n",
       "      <th>3</th>\n",
       "      <td>Rain</td>\n",
       "      <td>Mild</td>\n",
       "      <td>High</td>\n",
       "      <td>Weak</td>\n",
       "      <td>Yes</td>\n",
       "      <td>1</td>\n",
       "      <td>2</td>\n",
       "      <td>0</td>\n",
       "      <td>1</td>\n",
       "    </tr>\n",
       "    <tr>\n",
       "      <th>4</th>\n",
       "      <td>Rain</td>\n",
       "      <td>Cool</td>\n",
       "      <td>Normal</td>\n",
       "      <td>Weak</td>\n",
       "      <td>Yes</td>\n",
       "      <td>1</td>\n",
       "      <td>0</td>\n",
       "      <td>1</td>\n",
       "      <td>1</td>\n",
       "    </tr>\n",
       "  </tbody>\n",
       "</table>\n",
       "</div>"
      ],
      "text/plain": [
       "    Outlook Temperature Humidity    Wind Play Tennis  outlook_le  temp_le  \\\n",
       "0     Sunny         Hot     High    Weak          No           2        1   \n",
       "1     Sunny         Hot     High  Strong          No           2        1   \n",
       "2  Overcast         Hot     High    Weak         Yes           0        1   \n",
       "3      Rain        Mild     High    Weak         Yes           1        2   \n",
       "4      Rain        Cool   Normal    Weak         Yes           1        0   \n",
       "\n",
       "   humidity_le  wind_le  \n",
       "0            0        1  \n",
       "1            0        0  \n",
       "2            0        1  \n",
       "3            0        1  \n",
       "4            1        1  "
      ]
     },
     "execution_count": 13,
     "metadata": {},
     "output_type": "execute_result"
    }
   ],
   "source": [
    "tennis_df['outlook_le'] = le.fit_transform(tennis_df.Outlook)\n",
    "tennis_df['temp_le'] = le.fit_transform(tennis_df.Temperature)\n",
    "tennis_df['humidity_le'] = le.fit_transform(tennis_df.Humidity)\n",
    "tennis_df['wind_le'] = le.fit_transform(tennis_df.Wind)\n",
    "tennis_df.head()"
   ]
  },
  {
   "cell_type": "markdown",
   "metadata": {
    "deletable": true,
    "editable": true
   },
   "source": [
    "### Encoding results\n",
    "    Outlook:  \n",
    "        Overcast - 0, Rain - 1, Sunny - 2  \n",
    "    Temperature:  \n",
    "        Cool - 0, Hot - 1, Mild - 2  \n",
    "    Humidity:  \n",
    "        High - 0, Normal - 1  \n",
    "    Wind:  \n",
    "        Strong - 0, Weak - 1  "
   ]
  },
  {
   "cell_type": "code",
   "execution_count": 14,
   "metadata": {
    "collapsed": false,
    "deletable": true,
    "editable": true
   },
   "outputs": [
    {
     "data": {
      "text/html": [
       "<div>\n",
       "<style scoped>\n",
       "    .dataframe tbody tr th:only-of-type {\n",
       "        vertical-align: middle;\n",
       "    }\n",
       "\n",
       "    .dataframe tbody tr th {\n",
       "        vertical-align: top;\n",
       "    }\n",
       "\n",
       "    .dataframe thead th {\n",
       "        text-align: right;\n",
       "    }\n",
       "</style>\n",
       "<table border=\"1\" class=\"dataframe\">\n",
       "  <thead>\n",
       "    <tr style=\"text-align: right;\">\n",
       "      <th></th>\n",
       "      <th>Play Tennis</th>\n",
       "      <th>outlook_le</th>\n",
       "      <th>temp_le</th>\n",
       "      <th>humidity_le</th>\n",
       "      <th>wind_le</th>\n",
       "    </tr>\n",
       "  </thead>\n",
       "  <tbody>\n",
       "    <tr>\n",
       "      <th>0</th>\n",
       "      <td>No</td>\n",
       "      <td>2</td>\n",
       "      <td>1</td>\n",
       "      <td>0</td>\n",
       "      <td>1</td>\n",
       "    </tr>\n",
       "    <tr>\n",
       "      <th>1</th>\n",
       "      <td>No</td>\n",
       "      <td>2</td>\n",
       "      <td>1</td>\n",
       "      <td>0</td>\n",
       "      <td>0</td>\n",
       "    </tr>\n",
       "    <tr>\n",
       "      <th>2</th>\n",
       "      <td>Yes</td>\n",
       "      <td>0</td>\n",
       "      <td>1</td>\n",
       "      <td>0</td>\n",
       "      <td>1</td>\n",
       "    </tr>\n",
       "    <tr>\n",
       "      <th>3</th>\n",
       "      <td>Yes</td>\n",
       "      <td>1</td>\n",
       "      <td>2</td>\n",
       "      <td>0</td>\n",
       "      <td>1</td>\n",
       "    </tr>\n",
       "    <tr>\n",
       "      <th>4</th>\n",
       "      <td>Yes</td>\n",
       "      <td>1</td>\n",
       "      <td>0</td>\n",
       "      <td>1</td>\n",
       "      <td>1</td>\n",
       "    </tr>\n",
       "  </tbody>\n",
       "</table>\n",
       "</div>"
      ],
      "text/plain": [
       "  Play Tennis  outlook_le  temp_le  humidity_le  wind_le\n",
       "0          No           2        1            0        1\n",
       "1          No           2        1            0        0\n",
       "2         Yes           0        1            0        1\n",
       "3         Yes           1        2            0        1\n",
       "4         Yes           1        0            1        1"
      ]
     },
     "execution_count": 14,
     "metadata": {},
     "output_type": "execute_result"
    }
   ],
   "source": [
    "tennis_df.drop(['Outlook', 'Temperature', 'Humidity', 'Wind'], axis=1, inplace=True)\n",
    "tennis_df.head()"
   ]
  },
  {
   "cell_type": "markdown",
   "metadata": {
    "deletable": true,
    "editable": true
   },
   "source": [
    "# 3) Gaussian Naive Bayes model\n",
    "\n",
    "    This is a Supervised classification problem.\n",
    "        Split the train and test datasets 70-30\n",
    "        Predict the test and calculate the accuracy"
   ]
  },
  {
   "cell_type": "code",
   "execution_count": 15,
   "metadata": {
    "collapsed": true,
    "deletable": true,
    "editable": true
   },
   "outputs": [],
   "source": [
    "# Import the required libraries\n",
    "from sklearn.metrics import accuracy_score\n",
    "from sklearn.model_selection import train_test_split\n",
    "from sklearn.metrics import classification_report, confusion_matrix\n",
    "from sklearn.naive_bayes import GaussianNB\n",
    "from sklearn.utils import shuffle"
   ]
  },
  {
   "cell_type": "code",
   "execution_count": 16,
   "metadata": {
    "collapsed": false,
    "deletable": true,
    "editable": true
   },
   "outputs": [],
   "source": [
    "#X, y = shuffle(tennis_df.drop(['Play Tennis'], axis=1), tennis_df['Play Tennis'], random_state=1)\n",
    "X = tennis_df.drop(['Play Tennis'], axis=1)\n",
    "y = tennis_df['Play Tennis']"
   ]
  },
  {
   "cell_type": "code",
   "execution_count": 17,
   "metadata": {
    "collapsed": false,
    "deletable": true,
    "editable": true
   },
   "outputs": [
    {
     "name": "stdout",
     "output_type": "stream",
     "text": [
      "(9, 4) (9,) (5, 4) (5,)\n"
     ]
    }
   ],
   "source": [
    "X_train, X_test, y_train, y_test = train_test_split(X, y, test_size=0.30, random_state=101)\n",
    "print(X_train.shape, y_train.shape, X_test.shape, y_test.shape)"
   ]
  },
  {
   "cell_type": "code",
   "execution_count": 18,
   "metadata": {
    "collapsed": false,
    "deletable": true,
    "editable": true
   },
   "outputs": [
    {
     "name": "stdout",
     "output_type": "stream",
     "text": [
      "Gaussian Score: \n",
      " 88.89\n",
      "Gaussian Test Score: \n",
      " 60.0\n",
      "Accuracy: \n",
      " 0.6\n",
      "[[1 0]\n",
      " [2 2]]\n",
      "             precision    recall  f1-score   support\n",
      "\n",
      "         No       0.33      1.00      0.50         1\n",
      "        Yes       1.00      0.50      0.67         4\n",
      "\n",
      "avg / total       0.87      0.60      0.63         5\n",
      "\n"
     ]
    },
    {
     "data": {
      "application/javascript": [
       "/* Put everything inside the global mpl namespace */\n",
       "window.mpl = {};\n",
       "\n",
       "\n",
       "mpl.get_websocket_type = function() {\n",
       "    if (typeof(WebSocket) !== 'undefined') {\n",
       "        return WebSocket;\n",
       "    } else if (typeof(MozWebSocket) !== 'undefined') {\n",
       "        return MozWebSocket;\n",
       "    } else {\n",
       "        alert('Your browser does not have WebSocket support.' +\n",
       "              'Please try Chrome, Safari or Firefox ≥ 6. ' +\n",
       "              'Firefox 4 and 5 are also supported but you ' +\n",
       "              'have to enable WebSockets in about:config.');\n",
       "    };\n",
       "}\n",
       "\n",
       "mpl.figure = function(figure_id, websocket, ondownload, parent_element) {\n",
       "    this.id = figure_id;\n",
       "\n",
       "    this.ws = websocket;\n",
       "\n",
       "    this.supports_binary = (this.ws.binaryType != undefined);\n",
       "\n",
       "    if (!this.supports_binary) {\n",
       "        var warnings = document.getElementById(\"mpl-warnings\");\n",
       "        if (warnings) {\n",
       "            warnings.style.display = 'block';\n",
       "            warnings.textContent = (\n",
       "                \"This browser does not support binary websocket messages. \" +\n",
       "                    \"Performance may be slow.\");\n",
       "        }\n",
       "    }\n",
       "\n",
       "    this.imageObj = new Image();\n",
       "\n",
       "    this.context = undefined;\n",
       "    this.message = undefined;\n",
       "    this.canvas = undefined;\n",
       "    this.rubberband_canvas = undefined;\n",
       "    this.rubberband_context = undefined;\n",
       "    this.format_dropdown = undefined;\n",
       "\n",
       "    this.image_mode = 'full';\n",
       "\n",
       "    this.root = $('<div/>');\n",
       "    this._root_extra_style(this.root)\n",
       "    this.root.attr('style', 'display: inline-block');\n",
       "\n",
       "    $(parent_element).append(this.root);\n",
       "\n",
       "    this._init_header(this);\n",
       "    this._init_canvas(this);\n",
       "    this._init_toolbar(this);\n",
       "\n",
       "    var fig = this;\n",
       "\n",
       "    this.waiting = false;\n",
       "\n",
       "    this.ws.onopen =  function () {\n",
       "            fig.send_message(\"supports_binary\", {value: fig.supports_binary});\n",
       "            fig.send_message(\"send_image_mode\", {});\n",
       "            if (mpl.ratio != 1) {\n",
       "                fig.send_message(\"set_dpi_ratio\", {'dpi_ratio': mpl.ratio});\n",
       "            }\n",
       "            fig.send_message(\"refresh\", {});\n",
       "        }\n",
       "\n",
       "    this.imageObj.onload = function() {\n",
       "            if (fig.image_mode == 'full') {\n",
       "                // Full images could contain transparency (where diff images\n",
       "                // almost always do), so we need to clear the canvas so that\n",
       "                // there is no ghosting.\n",
       "                fig.context.clearRect(0, 0, fig.canvas.width, fig.canvas.height);\n",
       "            }\n",
       "            fig.context.drawImage(fig.imageObj, 0, 0);\n",
       "        };\n",
       "\n",
       "    this.imageObj.onunload = function() {\n",
       "        fig.ws.close();\n",
       "    }\n",
       "\n",
       "    this.ws.onmessage = this._make_on_message_function(this);\n",
       "\n",
       "    this.ondownload = ondownload;\n",
       "}\n",
       "\n",
       "mpl.figure.prototype._init_header = function() {\n",
       "    var titlebar = $(\n",
       "        '<div class=\"ui-dialog-titlebar ui-widget-header ui-corner-all ' +\n",
       "        'ui-helper-clearfix\"/>');\n",
       "    var titletext = $(\n",
       "        '<div class=\"ui-dialog-title\" style=\"width: 100%; ' +\n",
       "        'text-align: center; padding: 3px;\"/>');\n",
       "    titlebar.append(titletext)\n",
       "    this.root.append(titlebar);\n",
       "    this.header = titletext[0];\n",
       "}\n",
       "\n",
       "\n",
       "\n",
       "mpl.figure.prototype._canvas_extra_style = function(canvas_div) {\n",
       "\n",
       "}\n",
       "\n",
       "\n",
       "mpl.figure.prototype._root_extra_style = function(canvas_div) {\n",
       "\n",
       "}\n",
       "\n",
       "mpl.figure.prototype._init_canvas = function() {\n",
       "    var fig = this;\n",
       "\n",
       "    var canvas_div = $('<div/>');\n",
       "\n",
       "    canvas_div.attr('style', 'position: relative; clear: both; outline: 0');\n",
       "\n",
       "    function canvas_keyboard_event(event) {\n",
       "        return fig.key_event(event, event['data']);\n",
       "    }\n",
       "\n",
       "    canvas_div.keydown('key_press', canvas_keyboard_event);\n",
       "    canvas_div.keyup('key_release', canvas_keyboard_event);\n",
       "    this.canvas_div = canvas_div\n",
       "    this._canvas_extra_style(canvas_div)\n",
       "    this.root.append(canvas_div);\n",
       "\n",
       "    var canvas = $('<canvas/>');\n",
       "    canvas.addClass('mpl-canvas');\n",
       "    canvas.attr('style', \"left: 0; top: 0; z-index: 0; outline: 0\")\n",
       "\n",
       "    this.canvas = canvas[0];\n",
       "    this.context = canvas[0].getContext(\"2d\");\n",
       "\n",
       "    var backingStore = this.context.backingStorePixelRatio ||\n",
       "\tthis.context.webkitBackingStorePixelRatio ||\n",
       "\tthis.context.mozBackingStorePixelRatio ||\n",
       "\tthis.context.msBackingStorePixelRatio ||\n",
       "\tthis.context.oBackingStorePixelRatio ||\n",
       "\tthis.context.backingStorePixelRatio || 1;\n",
       "\n",
       "    mpl.ratio = (window.devicePixelRatio || 1) / backingStore;\n",
       "\n",
       "    var rubberband = $('<canvas/>');\n",
       "    rubberband.attr('style', \"position: absolute; left: 0; top: 0; z-index: 1;\")\n",
       "\n",
       "    var pass_mouse_events = true;\n",
       "\n",
       "    canvas_div.resizable({\n",
       "        start: function(event, ui) {\n",
       "            pass_mouse_events = false;\n",
       "        },\n",
       "        resize: function(event, ui) {\n",
       "            fig.request_resize(ui.size.width, ui.size.height);\n",
       "        },\n",
       "        stop: function(event, ui) {\n",
       "            pass_mouse_events = true;\n",
       "            fig.request_resize(ui.size.width, ui.size.height);\n",
       "        },\n",
       "    });\n",
       "\n",
       "    function mouse_event_fn(event) {\n",
       "        if (pass_mouse_events)\n",
       "            return fig.mouse_event(event, event['data']);\n",
       "    }\n",
       "\n",
       "    rubberband.mousedown('button_press', mouse_event_fn);\n",
       "    rubberband.mouseup('button_release', mouse_event_fn);\n",
       "    // Throttle sequential mouse events to 1 every 20ms.\n",
       "    rubberband.mousemove('motion_notify', mouse_event_fn);\n",
       "\n",
       "    rubberband.mouseenter('figure_enter', mouse_event_fn);\n",
       "    rubberband.mouseleave('figure_leave', mouse_event_fn);\n",
       "\n",
       "    canvas_div.on(\"wheel\", function (event) {\n",
       "        event = event.originalEvent;\n",
       "        event['data'] = 'scroll'\n",
       "        if (event.deltaY < 0) {\n",
       "            event.step = 1;\n",
       "        } else {\n",
       "            event.step = -1;\n",
       "        }\n",
       "        mouse_event_fn(event);\n",
       "    });\n",
       "\n",
       "    canvas_div.append(canvas);\n",
       "    canvas_div.append(rubberband);\n",
       "\n",
       "    this.rubberband = rubberband;\n",
       "    this.rubberband_canvas = rubberband[0];\n",
       "    this.rubberband_context = rubberband[0].getContext(\"2d\");\n",
       "    this.rubberband_context.strokeStyle = \"#000000\";\n",
       "\n",
       "    this._resize_canvas = function(width, height) {\n",
       "        // Keep the size of the canvas, canvas container, and rubber band\n",
       "        // canvas in synch.\n",
       "        canvas_div.css('width', width)\n",
       "        canvas_div.css('height', height)\n",
       "\n",
       "        canvas.attr('width', width * mpl.ratio);\n",
       "        canvas.attr('height', height * mpl.ratio);\n",
       "        canvas.attr('style', 'width: ' + width + 'px; height: ' + height + 'px;');\n",
       "\n",
       "        rubberband.attr('width', width);\n",
       "        rubberband.attr('height', height);\n",
       "    }\n",
       "\n",
       "    // Set the figure to an initial 600x600px, this will subsequently be updated\n",
       "    // upon first draw.\n",
       "    this._resize_canvas(600, 600);\n",
       "\n",
       "    // Disable right mouse context menu.\n",
       "    $(this.rubberband_canvas).bind(\"contextmenu\",function(e){\n",
       "        return false;\n",
       "    });\n",
       "\n",
       "    function set_focus () {\n",
       "        canvas.focus();\n",
       "        canvas_div.focus();\n",
       "    }\n",
       "\n",
       "    window.setTimeout(set_focus, 100);\n",
       "}\n",
       "\n",
       "mpl.figure.prototype._init_toolbar = function() {\n",
       "    var fig = this;\n",
       "\n",
       "    var nav_element = $('<div/>')\n",
       "    nav_element.attr('style', 'width: 100%');\n",
       "    this.root.append(nav_element);\n",
       "\n",
       "    // Define a callback function for later on.\n",
       "    function toolbar_event(event) {\n",
       "        return fig.toolbar_button_onclick(event['data']);\n",
       "    }\n",
       "    function toolbar_mouse_event(event) {\n",
       "        return fig.toolbar_button_onmouseover(event['data']);\n",
       "    }\n",
       "\n",
       "    for(var toolbar_ind in mpl.toolbar_items) {\n",
       "        var name = mpl.toolbar_items[toolbar_ind][0];\n",
       "        var tooltip = mpl.toolbar_items[toolbar_ind][1];\n",
       "        var image = mpl.toolbar_items[toolbar_ind][2];\n",
       "        var method_name = mpl.toolbar_items[toolbar_ind][3];\n",
       "\n",
       "        if (!name) {\n",
       "            // put a spacer in here.\n",
       "            continue;\n",
       "        }\n",
       "        var button = $('<button/>');\n",
       "        button.addClass('ui-button ui-widget ui-state-default ui-corner-all ' +\n",
       "                        'ui-button-icon-only');\n",
       "        button.attr('role', 'button');\n",
       "        button.attr('aria-disabled', 'false');\n",
       "        button.click(method_name, toolbar_event);\n",
       "        button.mouseover(tooltip, toolbar_mouse_event);\n",
       "\n",
       "        var icon_img = $('<span/>');\n",
       "        icon_img.addClass('ui-button-icon-primary ui-icon');\n",
       "        icon_img.addClass(image);\n",
       "        icon_img.addClass('ui-corner-all');\n",
       "\n",
       "        var tooltip_span = $('<span/>');\n",
       "        tooltip_span.addClass('ui-button-text');\n",
       "        tooltip_span.html(tooltip);\n",
       "\n",
       "        button.append(icon_img);\n",
       "        button.append(tooltip_span);\n",
       "\n",
       "        nav_element.append(button);\n",
       "    }\n",
       "\n",
       "    var fmt_picker_span = $('<span/>');\n",
       "\n",
       "    var fmt_picker = $('<select/>');\n",
       "    fmt_picker.addClass('mpl-toolbar-option ui-widget ui-widget-content');\n",
       "    fmt_picker_span.append(fmt_picker);\n",
       "    nav_element.append(fmt_picker_span);\n",
       "    this.format_dropdown = fmt_picker[0];\n",
       "\n",
       "    for (var ind in mpl.extensions) {\n",
       "        var fmt = mpl.extensions[ind];\n",
       "        var option = $(\n",
       "            '<option/>', {selected: fmt === mpl.default_extension}).html(fmt);\n",
       "        fmt_picker.append(option)\n",
       "    }\n",
       "\n",
       "    // Add hover states to the ui-buttons\n",
       "    $( \".ui-button\" ).hover(\n",
       "        function() { $(this).addClass(\"ui-state-hover\");},\n",
       "        function() { $(this).removeClass(\"ui-state-hover\");}\n",
       "    );\n",
       "\n",
       "    var status_bar = $('<span class=\"mpl-message\"/>');\n",
       "    nav_element.append(status_bar);\n",
       "    this.message = status_bar[0];\n",
       "}\n",
       "\n",
       "mpl.figure.prototype.request_resize = function(x_pixels, y_pixels) {\n",
       "    // Request matplotlib to resize the figure. Matplotlib will then trigger a resize in the client,\n",
       "    // which will in turn request a refresh of the image.\n",
       "    this.send_message('resize', {'width': x_pixels, 'height': y_pixels});\n",
       "}\n",
       "\n",
       "mpl.figure.prototype.send_message = function(type, properties) {\n",
       "    properties['type'] = type;\n",
       "    properties['figure_id'] = this.id;\n",
       "    this.ws.send(JSON.stringify(properties));\n",
       "}\n",
       "\n",
       "mpl.figure.prototype.send_draw_message = function() {\n",
       "    if (!this.waiting) {\n",
       "        this.waiting = true;\n",
       "        this.ws.send(JSON.stringify({type: \"draw\", figure_id: this.id}));\n",
       "    }\n",
       "}\n",
       "\n",
       "\n",
       "mpl.figure.prototype.handle_save = function(fig, msg) {\n",
       "    var format_dropdown = fig.format_dropdown;\n",
       "    var format = format_dropdown.options[format_dropdown.selectedIndex].value;\n",
       "    fig.ondownload(fig, format);\n",
       "}\n",
       "\n",
       "\n",
       "mpl.figure.prototype.handle_resize = function(fig, msg) {\n",
       "    var size = msg['size'];\n",
       "    if (size[0] != fig.canvas.width || size[1] != fig.canvas.height) {\n",
       "        fig._resize_canvas(size[0], size[1]);\n",
       "        fig.send_message(\"refresh\", {});\n",
       "    };\n",
       "}\n",
       "\n",
       "mpl.figure.prototype.handle_rubberband = function(fig, msg) {\n",
       "    var x0 = msg['x0'] / mpl.ratio;\n",
       "    var y0 = (fig.canvas.height - msg['y0']) / mpl.ratio;\n",
       "    var x1 = msg['x1'] / mpl.ratio;\n",
       "    var y1 = (fig.canvas.height - msg['y1']) / mpl.ratio;\n",
       "    x0 = Math.floor(x0) + 0.5;\n",
       "    y0 = Math.floor(y0) + 0.5;\n",
       "    x1 = Math.floor(x1) + 0.5;\n",
       "    y1 = Math.floor(y1) + 0.5;\n",
       "    var min_x = Math.min(x0, x1);\n",
       "    var min_y = Math.min(y0, y1);\n",
       "    var width = Math.abs(x1 - x0);\n",
       "    var height = Math.abs(y1 - y0);\n",
       "\n",
       "    fig.rubberband_context.clearRect(\n",
       "        0, 0, fig.canvas.width, fig.canvas.height);\n",
       "\n",
       "    fig.rubberband_context.strokeRect(min_x, min_y, width, height);\n",
       "}\n",
       "\n",
       "mpl.figure.prototype.handle_figure_label = function(fig, msg) {\n",
       "    // Updates the figure title.\n",
       "    fig.header.textContent = msg['label'];\n",
       "}\n",
       "\n",
       "mpl.figure.prototype.handle_cursor = function(fig, msg) {\n",
       "    var cursor = msg['cursor'];\n",
       "    switch(cursor)\n",
       "    {\n",
       "    case 0:\n",
       "        cursor = 'pointer';\n",
       "        break;\n",
       "    case 1:\n",
       "        cursor = 'default';\n",
       "        break;\n",
       "    case 2:\n",
       "        cursor = 'crosshair';\n",
       "        break;\n",
       "    case 3:\n",
       "        cursor = 'move';\n",
       "        break;\n",
       "    }\n",
       "    fig.rubberband_canvas.style.cursor = cursor;\n",
       "}\n",
       "\n",
       "mpl.figure.prototype.handle_message = function(fig, msg) {\n",
       "    fig.message.textContent = msg['message'];\n",
       "}\n",
       "\n",
       "mpl.figure.prototype.handle_draw = function(fig, msg) {\n",
       "    // Request the server to send over a new figure.\n",
       "    fig.send_draw_message();\n",
       "}\n",
       "\n",
       "mpl.figure.prototype.handle_image_mode = function(fig, msg) {\n",
       "    fig.image_mode = msg['mode'];\n",
       "}\n",
       "\n",
       "mpl.figure.prototype.updated_canvas_event = function() {\n",
       "    // Called whenever the canvas gets updated.\n",
       "    this.send_message(\"ack\", {});\n",
       "}\n",
       "\n",
       "// A function to construct a web socket function for onmessage handling.\n",
       "// Called in the figure constructor.\n",
       "mpl.figure.prototype._make_on_message_function = function(fig) {\n",
       "    return function socket_on_message(evt) {\n",
       "        if (evt.data instanceof Blob) {\n",
       "            /* FIXME: We get \"Resource interpreted as Image but\n",
       "             * transferred with MIME type text/plain:\" errors on\n",
       "             * Chrome.  But how to set the MIME type?  It doesn't seem\n",
       "             * to be part of the websocket stream */\n",
       "            evt.data.type = \"image/png\";\n",
       "\n",
       "            /* Free the memory for the previous frames */\n",
       "            if (fig.imageObj.src) {\n",
       "                (window.URL || window.webkitURL).revokeObjectURL(\n",
       "                    fig.imageObj.src);\n",
       "            }\n",
       "\n",
       "            fig.imageObj.src = (window.URL || window.webkitURL).createObjectURL(\n",
       "                evt.data);\n",
       "            fig.updated_canvas_event();\n",
       "            fig.waiting = false;\n",
       "            return;\n",
       "        }\n",
       "        else if (typeof evt.data === 'string' && evt.data.slice(0, 21) == \"data:image/png;base64\") {\n",
       "            fig.imageObj.src = evt.data;\n",
       "            fig.updated_canvas_event();\n",
       "            fig.waiting = false;\n",
       "            return;\n",
       "        }\n",
       "\n",
       "        var msg = JSON.parse(evt.data);\n",
       "        var msg_type = msg['type'];\n",
       "\n",
       "        // Call the  \"handle_{type}\" callback, which takes\n",
       "        // the figure and JSON message as its only arguments.\n",
       "        try {\n",
       "            var callback = fig[\"handle_\" + msg_type];\n",
       "        } catch (e) {\n",
       "            console.log(\"No handler for the '\" + msg_type + \"' message type: \", msg);\n",
       "            return;\n",
       "        }\n",
       "\n",
       "        if (callback) {\n",
       "            try {\n",
       "                // console.log(\"Handling '\" + msg_type + \"' message: \", msg);\n",
       "                callback(fig, msg);\n",
       "            } catch (e) {\n",
       "                console.log(\"Exception inside the 'handler_\" + msg_type + \"' callback:\", e, e.stack, msg);\n",
       "            }\n",
       "        }\n",
       "    };\n",
       "}\n",
       "\n",
       "// from http://stackoverflow.com/questions/1114465/getting-mouse-location-in-canvas\n",
       "mpl.findpos = function(e) {\n",
       "    //this section is from http://www.quirksmode.org/js/events_properties.html\n",
       "    var targ;\n",
       "    if (!e)\n",
       "        e = window.event;\n",
       "    if (e.target)\n",
       "        targ = e.target;\n",
       "    else if (e.srcElement)\n",
       "        targ = e.srcElement;\n",
       "    if (targ.nodeType == 3) // defeat Safari bug\n",
       "        targ = targ.parentNode;\n",
       "\n",
       "    // jQuery normalizes the pageX and pageY\n",
       "    // pageX,Y are the mouse positions relative to the document\n",
       "    // offset() returns the position of the element relative to the document\n",
       "    var x = e.pageX - $(targ).offset().left;\n",
       "    var y = e.pageY - $(targ).offset().top;\n",
       "\n",
       "    return {\"x\": x, \"y\": y};\n",
       "};\n",
       "\n",
       "/*\n",
       " * return a copy of an object with only non-object keys\n",
       " * we need this to avoid circular references\n",
       " * http://stackoverflow.com/a/24161582/3208463\n",
       " */\n",
       "function simpleKeys (original) {\n",
       "  return Object.keys(original).reduce(function (obj, key) {\n",
       "    if (typeof original[key] !== 'object')\n",
       "        obj[key] = original[key]\n",
       "    return obj;\n",
       "  }, {});\n",
       "}\n",
       "\n",
       "mpl.figure.prototype.mouse_event = function(event, name) {\n",
       "    var canvas_pos = mpl.findpos(event)\n",
       "\n",
       "    if (name === 'button_press')\n",
       "    {\n",
       "        this.canvas.focus();\n",
       "        this.canvas_div.focus();\n",
       "    }\n",
       "\n",
       "    var x = canvas_pos.x * mpl.ratio;\n",
       "    var y = canvas_pos.y * mpl.ratio;\n",
       "\n",
       "    this.send_message(name, {x: x, y: y, button: event.button,\n",
       "                             step: event.step,\n",
       "                             guiEvent: simpleKeys(event)});\n",
       "\n",
       "    /* This prevents the web browser from automatically changing to\n",
       "     * the text insertion cursor when the button is pressed.  We want\n",
       "     * to control all of the cursor setting manually through the\n",
       "     * 'cursor' event from matplotlib */\n",
       "    event.preventDefault();\n",
       "    return false;\n",
       "}\n",
       "\n",
       "mpl.figure.prototype._key_event_extra = function(event, name) {\n",
       "    // Handle any extra behaviour associated with a key event\n",
       "}\n",
       "\n",
       "mpl.figure.prototype.key_event = function(event, name) {\n",
       "\n",
       "    // Prevent repeat events\n",
       "    if (name == 'key_press')\n",
       "    {\n",
       "        if (event.which === this._key)\n",
       "            return;\n",
       "        else\n",
       "            this._key = event.which;\n",
       "    }\n",
       "    if (name == 'key_release')\n",
       "        this._key = null;\n",
       "\n",
       "    var value = '';\n",
       "    if (event.ctrlKey && event.which != 17)\n",
       "        value += \"ctrl+\";\n",
       "    if (event.altKey && event.which != 18)\n",
       "        value += \"alt+\";\n",
       "    if (event.shiftKey && event.which != 16)\n",
       "        value += \"shift+\";\n",
       "\n",
       "    value += 'k';\n",
       "    value += event.which.toString();\n",
       "\n",
       "    this._key_event_extra(event, name);\n",
       "\n",
       "    this.send_message(name, {key: value,\n",
       "                             guiEvent: simpleKeys(event)});\n",
       "    return false;\n",
       "}\n",
       "\n",
       "mpl.figure.prototype.toolbar_button_onclick = function(name) {\n",
       "    if (name == 'download') {\n",
       "        this.handle_save(this, null);\n",
       "    } else {\n",
       "        this.send_message(\"toolbar_button\", {name: name});\n",
       "    }\n",
       "};\n",
       "\n",
       "mpl.figure.prototype.toolbar_button_onmouseover = function(tooltip) {\n",
       "    this.message.textContent = tooltip;\n",
       "};\n",
       "mpl.toolbar_items = [[\"Home\", \"Reset original view\", \"fa fa-home icon-home\", \"home\"], [\"Back\", \"Back to  previous view\", \"fa fa-arrow-left icon-arrow-left\", \"back\"], [\"Forward\", \"Forward to next view\", \"fa fa-arrow-right icon-arrow-right\", \"forward\"], [\"\", \"\", \"\", \"\"], [\"Pan\", \"Pan axes with left mouse, zoom with right\", \"fa fa-arrows icon-move\", \"pan\"], [\"Zoom\", \"Zoom to rectangle\", \"fa fa-square-o icon-check-empty\", \"zoom\"], [\"\", \"\", \"\", \"\"], [\"Download\", \"Download plot\", \"fa fa-floppy-o icon-save\", \"download\"]];\n",
       "\n",
       "mpl.extensions = [\"eps\", \"jpeg\", \"pdf\", \"png\", \"ps\", \"raw\", \"svg\", \"tif\"];\n",
       "\n",
       "mpl.default_extension = \"png\";var comm_websocket_adapter = function(comm) {\n",
       "    // Create a \"websocket\"-like object which calls the given IPython comm\n",
       "    // object with the appropriate methods. Currently this is a non binary\n",
       "    // socket, so there is still some room for performance tuning.\n",
       "    var ws = {};\n",
       "\n",
       "    ws.close = function() {\n",
       "        comm.close()\n",
       "    };\n",
       "    ws.send = function(m) {\n",
       "        //console.log('sending', m);\n",
       "        comm.send(m);\n",
       "    };\n",
       "    // Register the callback with on_msg.\n",
       "    comm.on_msg(function(msg) {\n",
       "        //console.log('receiving', msg['content']['data'], msg);\n",
       "        // Pass the mpl event to the overridden (by mpl) onmessage function.\n",
       "        ws.onmessage(msg['content']['data'])\n",
       "    });\n",
       "    return ws;\n",
       "}\n",
       "\n",
       "mpl.mpl_figure_comm = function(comm, msg) {\n",
       "    // This is the function which gets called when the mpl process\n",
       "    // starts-up an IPython Comm through the \"matplotlib\" channel.\n",
       "\n",
       "    var id = msg.content.data.id;\n",
       "    // Get hold of the div created by the display call when the Comm\n",
       "    // socket was opened in Python.\n",
       "    var element = $(\"#\" + id);\n",
       "    var ws_proxy = comm_websocket_adapter(comm)\n",
       "\n",
       "    function ondownload(figure, format) {\n",
       "        window.open(figure.imageObj.src);\n",
       "    }\n",
       "\n",
       "    var fig = new mpl.figure(id, ws_proxy,\n",
       "                           ondownload,\n",
       "                           element.get(0));\n",
       "\n",
       "    // Call onopen now - mpl needs it, as it is assuming we've passed it a real\n",
       "    // web socket which is closed, not our websocket->open comm proxy.\n",
       "    ws_proxy.onopen();\n",
       "\n",
       "    fig.parent_element = element.get(0);\n",
       "    fig.cell_info = mpl.find_output_cell(\"<div id='\" + id + \"'></div>\");\n",
       "    if (!fig.cell_info) {\n",
       "        console.error(\"Failed to find cell for figure\", id, fig);\n",
       "        return;\n",
       "    }\n",
       "\n",
       "    var output_index = fig.cell_info[2]\n",
       "    var cell = fig.cell_info[0];\n",
       "\n",
       "};\n",
       "\n",
       "mpl.figure.prototype.handle_close = function(fig, msg) {\n",
       "    var width = fig.canvas.width/mpl.ratio\n",
       "    fig.root.unbind('remove')\n",
       "\n",
       "    // Update the output cell to use the data from the current canvas.\n",
       "    fig.push_to_output();\n",
       "    var dataURL = fig.canvas.toDataURL();\n",
       "    // Re-enable the keyboard manager in IPython - without this line, in FF,\n",
       "    // the notebook keyboard shortcuts fail.\n",
       "    IPython.keyboard_manager.enable()\n",
       "    $(fig.parent_element).html('<img src=\"' + dataURL + '\" width=\"' + width + '\">');\n",
       "    fig.close_ws(fig, msg);\n",
       "}\n",
       "\n",
       "mpl.figure.prototype.close_ws = function(fig, msg){\n",
       "    fig.send_message('closing', msg);\n",
       "    // fig.ws.close()\n",
       "}\n",
       "\n",
       "mpl.figure.prototype.push_to_output = function(remove_interactive) {\n",
       "    // Turn the data on the canvas into data in the output cell.\n",
       "    var width = this.canvas.width/mpl.ratio\n",
       "    var dataURL = this.canvas.toDataURL();\n",
       "    this.cell_info[1]['text/html'] = '<img src=\"' + dataURL + '\" width=\"' + width + '\">';\n",
       "}\n",
       "\n",
       "mpl.figure.prototype.updated_canvas_event = function() {\n",
       "    // Tell IPython that the notebook contents must change.\n",
       "    IPython.notebook.set_dirty(true);\n",
       "    this.send_message(\"ack\", {});\n",
       "    var fig = this;\n",
       "    // Wait a second, then push the new image to the DOM so\n",
       "    // that it is saved nicely (might be nice to debounce this).\n",
       "    setTimeout(function () { fig.push_to_output() }, 1000);\n",
       "}\n",
       "\n",
       "mpl.figure.prototype._init_toolbar = function() {\n",
       "    var fig = this;\n",
       "\n",
       "    var nav_element = $('<div/>')\n",
       "    nav_element.attr('style', 'width: 100%');\n",
       "    this.root.append(nav_element);\n",
       "\n",
       "    // Define a callback function for later on.\n",
       "    function toolbar_event(event) {\n",
       "        return fig.toolbar_button_onclick(event['data']);\n",
       "    }\n",
       "    function toolbar_mouse_event(event) {\n",
       "        return fig.toolbar_button_onmouseover(event['data']);\n",
       "    }\n",
       "\n",
       "    for(var toolbar_ind in mpl.toolbar_items){\n",
       "        var name = mpl.toolbar_items[toolbar_ind][0];\n",
       "        var tooltip = mpl.toolbar_items[toolbar_ind][1];\n",
       "        var image = mpl.toolbar_items[toolbar_ind][2];\n",
       "        var method_name = mpl.toolbar_items[toolbar_ind][3];\n",
       "\n",
       "        if (!name) { continue; };\n",
       "\n",
       "        var button = $('<button class=\"btn btn-default\" href=\"#\" title=\"' + name + '\"><i class=\"fa ' + image + ' fa-lg\"></i></button>');\n",
       "        button.click(method_name, toolbar_event);\n",
       "        button.mouseover(tooltip, toolbar_mouse_event);\n",
       "        nav_element.append(button);\n",
       "    }\n",
       "\n",
       "    // Add the status bar.\n",
       "    var status_bar = $('<span class=\"mpl-message\" style=\"text-align:right; float: right;\"/>');\n",
       "    nav_element.append(status_bar);\n",
       "    this.message = status_bar[0];\n",
       "\n",
       "    // Add the close button to the window.\n",
       "    var buttongrp = $('<div class=\"btn-group inline pull-right\"></div>');\n",
       "    var button = $('<button class=\"btn btn-mini btn-primary\" href=\"#\" title=\"Stop Interaction\"><i class=\"fa fa-power-off icon-remove icon-large\"></i></button>');\n",
       "    button.click(function (evt) { fig.handle_close(fig, {}); } );\n",
       "    button.mouseover('Stop Interaction', toolbar_mouse_event);\n",
       "    buttongrp.append(button);\n",
       "    var titlebar = this.root.find($('.ui-dialog-titlebar'));\n",
       "    titlebar.prepend(buttongrp);\n",
       "}\n",
       "\n",
       "mpl.figure.prototype._root_extra_style = function(el){\n",
       "    var fig = this\n",
       "    el.on(\"remove\", function(){\n",
       "\tfig.close_ws(fig, {});\n",
       "    });\n",
       "}\n",
       "\n",
       "mpl.figure.prototype._canvas_extra_style = function(el){\n",
       "    // this is important to make the div 'focusable\n",
       "    el.attr('tabindex', 0)\n",
       "    // reach out to IPython and tell the keyboard manager to turn it's self\n",
       "    // off when our div gets focus\n",
       "\n",
       "    // location in version 3\n",
       "    if (IPython.notebook.keyboard_manager) {\n",
       "        IPython.notebook.keyboard_manager.register_events(el);\n",
       "    }\n",
       "    else {\n",
       "        // location in version 2\n",
       "        IPython.keyboard_manager.register_events(el);\n",
       "    }\n",
       "\n",
       "}\n",
       "\n",
       "mpl.figure.prototype._key_event_extra = function(event, name) {\n",
       "    var manager = IPython.notebook.keyboard_manager;\n",
       "    if (!manager)\n",
       "        manager = IPython.keyboard_manager;\n",
       "\n",
       "    // Check for shift+enter\n",
       "    if (event.shiftKey && event.which == 13) {\n",
       "        this.canvas_div.blur();\n",
       "        event.shiftKey = false;\n",
       "        // Send a \"J\" for go to next cell\n",
       "        event.which = 74;\n",
       "        event.keyCode = 74;\n",
       "        manager.command_mode();\n",
       "        manager.handle_keydown(event);\n",
       "    }\n",
       "}\n",
       "\n",
       "mpl.figure.prototype.handle_save = function(fig, msg) {\n",
       "    fig.ondownload(fig, null);\n",
       "}\n",
       "\n",
       "\n",
       "mpl.find_output_cell = function(html_output) {\n",
       "    // Return the cell and output element which can be found *uniquely* in the notebook.\n",
       "    // Note - this is a bit hacky, but it is done because the \"notebook_saving.Notebook\"\n",
       "    // IPython event is triggered only after the cells have been serialised, which for\n",
       "    // our purposes (turning an active figure into a static one), is too late.\n",
       "    var cells = IPython.notebook.get_cells();\n",
       "    var ncells = cells.length;\n",
       "    for (var i=0; i<ncells; i++) {\n",
       "        var cell = cells[i];\n",
       "        if (cell.cell_type === 'code'){\n",
       "            for (var j=0; j<cell.output_area.outputs.length; j++) {\n",
       "                var data = cell.output_area.outputs[j];\n",
       "                if (data.data) {\n",
       "                    // IPython >= 3 moved mimebundle to data attribute of output\n",
       "                    data = data.data;\n",
       "                }\n",
       "                if (data['text/html'] == html_output) {\n",
       "                    return [cell, data, j];\n",
       "                }\n",
       "            }\n",
       "        }\n",
       "    }\n",
       "}\n",
       "\n",
       "// Register the function which deals with the matplotlib target/channel.\n",
       "// The kernel may be null if the page has been refreshed.\n",
       "if (IPython.notebook.kernel != null) {\n",
       "    IPython.notebook.kernel.comm_manager.register_target('matplotlib', mpl.mpl_figure_comm);\n",
       "}\n"
      ],
      "text/plain": [
       "<IPython.core.display.Javascript object>"
      ]
     },
     "metadata": {},
     "output_type": "display_data"
    },
    {
     "data": {
      "text/html": [
       "<img src=\"data:image/png;base64,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\" width=\"640\">"
      ],
      "text/plain": [
       "<IPython.core.display.HTML object>"
      ]
     },
     "metadata": {},
     "output_type": "display_data"
    },
    {
     "data": {
      "text/plain": [
       "<matplotlib.axes._subplots.AxesSubplot at 0x253aeae7780>"
      ]
     },
     "execution_count": 18,
     "metadata": {},
     "output_type": "execute_result"
    }
   ],
   "source": [
    "# Gaussian Naive Bayes\n",
    "\n",
    "gaussian = GaussianNB()\n",
    "gaussian.fit(X_train, y_train)\n",
    "#Predict Output\n",
    "gauss_predicted = gaussian.predict(X_test)\n",
    "\n",
    "gauss_score = round(gaussian.score(X_train, y_train) * 100, 2)\n",
    "gauss_score_test = round(gaussian.score(X_test, y_test) * 100, 2)\n",
    "print('Gaussian Score: \\n', gauss_score)\n",
    "print('Gaussian Test Score: \\n', gauss_score_test)\n",
    "print('Accuracy: \\n', accuracy_score(y_test, gauss_predicted))\n",
    "print(confusion_matrix(y_test,gauss_predicted))\n",
    "print(classification_report(y_test,gauss_predicted))\n",
    "\n",
    "sns.heatmap(confusion_matrix(y_test,gauss_predicted),annot=True,fmt=\"d\")"
   ]
  },
  {
   "cell_type": "markdown",
   "metadata": {
    "collapsed": true,
    "deletable": true,
    "editable": true
   },
   "source": [
    "# 4) Prediction for the cases"
   ]
  },
  {
   "cell_type": "markdown",
   "metadata": {
    "collapsed": true,
    "deletable": true,
    "editable": true
   },
   "source": [
    "Case1=     [\"Rain\",\"Mild\",\"Strong\",\"Weak\"]  \n",
    "Case2=     [\"Overcast\",\"Mild\",\"Normal\",\"Strong\"]  \n",
    "Case3=     [\"Sunny\",\"Hot\",\"High\",\"Weak\"]  \n",
    "\n",
    "### Encoding results\n",
    "    Outlook:  \n",
    "        Overcast - 0, Rain - 1, Sunny - 2  \n",
    "    Temperature:  \n",
    "        Cool - 0, Hot - 1, Mild - 2  \n",
    "    Humidity:  \n",
    "        High - 0, Normal - 1  \n",
    "    Wind:  \n",
    "        Strong - 0, Weak - 1  "
   ]
  },
  {
   "cell_type": "markdown",
   "metadata": {},
   "source": [
    "## 4.1) Case1 = [\"Rain\",\"Mild\",\"High\",\"Weak\"] "
   ]
  },
  {
   "cell_type": "code",
   "execution_count": 20,
   "metadata": {
    "collapsed": false,
    "deletable": true,
    "editable": true
   },
   "outputs": [
    {
     "data": {
      "text/plain": [
       "array(['No'], dtype='<U3')"
      ]
     },
     "execution_count": 20,
     "metadata": {},
     "output_type": "execute_result"
    }
   ],
   "source": [
    "gaussian.predict(np.asarray([[1,2,0,1]]))"
   ]
  },
  {
   "cell_type": "code",
   "execution_count": 21,
   "metadata": {
    "collapsed": false,
    "deletable": true,
    "editable": true
   },
   "outputs": [
    {
     "data": {
      "text/html": [
       "<div>\n",
       "<style scoped>\n",
       "    .dataframe tbody tr th:only-of-type {\n",
       "        vertical-align: middle;\n",
       "    }\n",
       "\n",
       "    .dataframe tbody tr th {\n",
       "        vertical-align: top;\n",
       "    }\n",
       "\n",
       "    .dataframe thead th {\n",
       "        text-align: right;\n",
       "    }\n",
       "</style>\n",
       "<table border=\"1\" class=\"dataframe\">\n",
       "  <thead>\n",
       "    <tr style=\"text-align: right;\">\n",
       "      <th></th>\n",
       "      <th>Play Tennis</th>\n",
       "      <th>outlook_le</th>\n",
       "      <th>temp_le</th>\n",
       "      <th>humidity_le</th>\n",
       "      <th>wind_le</th>\n",
       "    </tr>\n",
       "  </thead>\n",
       "  <tbody>\n",
       "    <tr>\n",
       "      <th>3</th>\n",
       "      <td>Yes</td>\n",
       "      <td>1</td>\n",
       "      <td>2</td>\n",
       "      <td>0</td>\n",
       "      <td>1</td>\n",
       "    </tr>\n",
       "  </tbody>\n",
       "</table>\n",
       "</div>"
      ],
      "text/plain": [
       "  Play Tennis  outlook_le  temp_le  humidity_le  wind_le\n",
       "3         Yes           1        2            0        1"
      ]
     },
     "execution_count": 21,
     "metadata": {},
     "output_type": "execute_result"
    }
   ],
   "source": [
    "tennis_df[(tennis_df.outlook_le == 1) & (tennis_df.temp_le == 2) & (tennis_df.humidity_le == 0) & (tennis_df.wind_le == 1)]"
   ]
  },
  {
   "cell_type": "markdown",
   "metadata": {
    "deletable": true,
    "editable": true
   },
   "source": [
    "### The prediction for case1 is wrong"
   ]
  },
  {
   "cell_type": "markdown",
   "metadata": {},
   "source": [
    "## 4.2) Case2 = [\"Overcast\",\"Mild\",\"Normal\",\"Strong\"]  "
   ]
  },
  {
   "cell_type": "code",
   "execution_count": 22,
   "metadata": {
    "collapsed": false,
    "deletable": true,
    "editable": true
   },
   "outputs": [
    {
     "data": {
      "text/plain": [
       "array(['Yes'], dtype='<U3')"
      ]
     },
     "execution_count": 22,
     "metadata": {},
     "output_type": "execute_result"
    }
   ],
   "source": [
    "gaussian.predict(np.asarray([[0,2,1,0]]))"
   ]
  },
  {
   "cell_type": "code",
   "execution_count": 23,
   "metadata": {
    "collapsed": false,
    "deletable": true,
    "editable": true
   },
   "outputs": [
    {
     "data": {
      "text/html": [
       "<div>\n",
       "<style scoped>\n",
       "    .dataframe tbody tr th:only-of-type {\n",
       "        vertical-align: middle;\n",
       "    }\n",
       "\n",
       "    .dataframe tbody tr th {\n",
       "        vertical-align: top;\n",
       "    }\n",
       "\n",
       "    .dataframe thead th {\n",
       "        text-align: right;\n",
       "    }\n",
       "</style>\n",
       "<table border=\"1\" class=\"dataframe\">\n",
       "  <thead>\n",
       "    <tr style=\"text-align: right;\">\n",
       "      <th></th>\n",
       "      <th>Play Tennis</th>\n",
       "      <th>outlook_le</th>\n",
       "      <th>temp_le</th>\n",
       "      <th>humidity_le</th>\n",
       "      <th>wind_le</th>\n",
       "    </tr>\n",
       "  </thead>\n",
       "  <tbody>\n",
       "  </tbody>\n",
       "</table>\n",
       "</div>"
      ],
      "text/plain": [
       "Empty DataFrame\n",
       "Columns: [Play Tennis, outlook_le, temp_le, humidity_le, wind_le]\n",
       "Index: []"
      ]
     },
     "execution_count": 23,
     "metadata": {},
     "output_type": "execute_result"
    }
   ],
   "source": [
    "tennis_df[(tennis_df.outlook_le == 0) & (tennis_df.temp_le == 2) & (tennis_df.humidity_le == 1) & (tennis_df.wind_le == 0)]"
   ]
  },
  {
   "cell_type": "markdown",
   "metadata": {
    "deletable": true,
    "editable": true
   },
   "source": [
    "### There is no training data with this condition. "
   ]
  },
  {
   "cell_type": "markdown",
   "metadata": {},
   "source": [
    "## 4.3) Case3 = [\"Sunny\",\"Hot\",\"High\",\"Weak\"] "
   ]
  },
  {
   "cell_type": "code",
   "execution_count": 24,
   "metadata": {
    "collapsed": false,
    "deletable": true,
    "editable": true
   },
   "outputs": [
    {
     "data": {
      "text/plain": [
       "array(['No'], dtype='<U3')"
      ]
     },
     "execution_count": 24,
     "metadata": {},
     "output_type": "execute_result"
    }
   ],
   "source": [
    "gaussian.predict(np.asarray([[2,1,0,1]]))"
   ]
  },
  {
   "cell_type": "code",
   "execution_count": 25,
   "metadata": {
    "collapsed": false,
    "deletable": true,
    "editable": true
   },
   "outputs": [
    {
     "data": {
      "text/html": [
       "<div>\n",
       "<style scoped>\n",
       "    .dataframe tbody tr th:only-of-type {\n",
       "        vertical-align: middle;\n",
       "    }\n",
       "\n",
       "    .dataframe tbody tr th {\n",
       "        vertical-align: top;\n",
       "    }\n",
       "\n",
       "    .dataframe thead th {\n",
       "        text-align: right;\n",
       "    }\n",
       "</style>\n",
       "<table border=\"1\" class=\"dataframe\">\n",
       "  <thead>\n",
       "    <tr style=\"text-align: right;\">\n",
       "      <th></th>\n",
       "      <th>Play Tennis</th>\n",
       "      <th>outlook_le</th>\n",
       "      <th>temp_le</th>\n",
       "      <th>humidity_le</th>\n",
       "      <th>wind_le</th>\n",
       "    </tr>\n",
       "  </thead>\n",
       "  <tbody>\n",
       "    <tr>\n",
       "      <th>0</th>\n",
       "      <td>No</td>\n",
       "      <td>2</td>\n",
       "      <td>1</td>\n",
       "      <td>0</td>\n",
       "      <td>1</td>\n",
       "    </tr>\n",
       "  </tbody>\n",
       "</table>\n",
       "</div>"
      ],
      "text/plain": [
       "  Play Tennis  outlook_le  temp_le  humidity_le  wind_le\n",
       "0          No           2        1            0        1"
      ]
     },
     "execution_count": 25,
     "metadata": {},
     "output_type": "execute_result"
    }
   ],
   "source": [
    "tennis_df[(tennis_df.outlook_le == 2) & (tennis_df.temp_le == 1) & (tennis_df.humidity_le == 0) & (tennis_df.wind_le == 1)]"
   ]
  },
  {
   "cell_type": "markdown",
   "metadata": {
    "deletable": true,
    "editable": true
   },
   "source": [
    "### The prediction for case 3 is correct"
   ]
  },
  {
   "cell_type": "markdown",
   "metadata": {},
   "source": [
    "## Conclusion\n",
    "     - There isnt enough data to train in a way that the predictions are correct. Some information isnt even available to make any predictions."
   ]
  }
 ],
 "metadata": {
  "kernelspec": {
   "display_name": "Python 3",
   "language": "python",
   "name": "python3"
  },
  "language_info": {
   "codemirror_mode": {
    "name": "ipython",
    "version": 3
   },
   "file_extension": ".py",
   "mimetype": "text/x-python",
   "name": "python",
   "nbconvert_exporter": "python",
   "pygments_lexer": "ipython3",
   "version": "3.6.2"
  }
 },
 "nbformat": 4,
 "nbformat_minor": 2
}
