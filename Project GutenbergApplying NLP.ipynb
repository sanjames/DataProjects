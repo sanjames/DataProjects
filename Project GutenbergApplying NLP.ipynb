{
 "cells": [
  {
   "cell_type": "markdown",
   "metadata": {
    "deletable": true,
    "editable": true
   },
   "source": [
    "# Applying NLP to 2 of Project Gutenbergs books"
   ]
  },
  {
   "cell_type": "markdown",
   "metadata": {
    "deletable": true,
    "editable": true
   },
   "source": [
    "## Pseudo code\n",
    "1) Look at the data structure of the books. I'm going to read the .txt version. \n",
    "2) The html structure seems to be simple with just the body and paragraph tags. Focus will be to just take the text of the paragraph.\n",
    "3) Read the html via BeautifulSoup  \n",
    "4) Text has to be processed to remove unwanted characters like \\n \\r and unwanted text as well.\n",
    "5) Read the processed text and proceed with counting the occurrences of the words and frequency."
   ]
  },
  {
   "cell_type": "markdown",
   "metadata": {
    "deletable": true,
    "editable": true
   },
   "source": [
    "## Part 1)  \"Common Sense\" by Thomas Paine "
   ]
  },
  {
   "cell_type": "code",
   "execution_count": 1,
   "metadata": {
    "collapsed": true,
    "deletable": true,
    "editable": true
   },
   "outputs": [],
   "source": [
    "# Import required libraries\n",
    "# Import urllib.request library for opening URLs\n",
    "from urllib.request import urlopen\n",
    "import requests\n",
    "from bs4 import BeautifulSoup\n",
    "import csv\n",
    "import pandas as pd\n",
    "import numpy as np"
   ]
  },
  {
   "cell_type": "markdown",
   "metadata": {
    "deletable": true,
    "editable": true
   },
   "source": [
    "### 1.1) Data Preparation & Analysis\n",
    "Get and read the web page http://www.gutenberg.org/cache/epub/147/pg147.txt having the txt file of the book Common Sense by Thomas Paine. Display first 1000 characters to make sure everything is working correctly."
   ]
  },
  {
   "cell_type": "code",
   "execution_count": 2,
   "metadata": {
    "collapsed": false,
    "deletable": true,
    "editable": true
   },
   "outputs": [
    {
     "name": "stdout",
     "output_type": "stream",
     "text": [
      "b'\\xef\\xbb\\xbf This eBook is for the use of anyone anywhere at no cost and with\\r\\nalmost no restrictions whatsoever. You may copy it, give it away or\\r\\nre-use it under the terms of the Project Gutenberg License included\\r\\nwith this eBook or online at www.gutenberg.net\\r\\n\\r\\nTitle: Common Sense\\r\\nAuthor: Thomas Paine\\r\\nRelease Date: June 9, 2008 [EBook #147]\\r\\nLast updated: August 25, 2016\\r\\nLanguage: English\\r\\nCharacter set encoding: UTF-8.\\r\\n\\r\\nProduced by John Campbell. HTML version by Al Haines. Modified by\\r\\nRobert Homa.\\r\\n\\r\\n*** START OF THIS PROJECT GUTENBERG EBOOK COMMON SENSE ***\\r\\n\\r\\n\\r\\nCOMMON SENSE;\\r\\n\\r\\naddressed to the\\r\\n\\r\\nINHABITANTS\\r\\n\\r\\nof\\r\\n\\r\\nAMERICA,\\r\\n\\r\\nOn the following interesting\\r\\n\\r\\nSUBJECTS\\r\\n\\r\\n    Of the Origin and Design of Government in general,\\r\\n    with concise Remarks on the English Constitution.\\r\\n    Of Monarchy and Hereditary Succession\\r\\n    Thoughts on the present State of American Affairs\\r\\n    Of the present Ability of America, with some\\r\\n    miscellaneous Reflections\\r\\n\\r\\nA new edition, with s'\n"
     ]
    }
   ],
   "source": [
    "webpage_ThomasPaine = 'http://www.gutenberg.org/cache/epub/147/pg147.txt'\n",
    "webcontent_ThomasPaine = urlopen(webpage_ThomasPaine).read()\n",
    "\n",
    "print(webcontent_ThomasPaine[:1000])"
   ]
  },
  {
   "cell_type": "code",
   "execution_count": 3,
   "metadata": {
    "collapsed": false,
    "deletable": true,
    "editable": true
   },
   "outputs": [],
   "source": [
    "#use Beautiful soup to read the html page contents\n",
    "resp_ThomasPaine = requests.get(webpage_ThomasPaine)\n",
    "soup_ThomasPaine = BeautifulSoup(resp_ThomasPaine.content, 'lxml')"
   ]
  },
  {
   "cell_type": "markdown",
   "metadata": {
    "deletable": true,
    "editable": true
   },
   "source": [
    "### 1.2) Select all text data \n",
    "\n",
    "    - Select only text data from the parser - beautiful soup\n",
    "    - Convert this result set to string for our text processing"
   ]
  },
  {
   "cell_type": "code",
   "execution_count": 4,
   "metadata": {
    "collapsed": false,
    "deletable": true,
    "editable": true
   },
   "outputs": [
    {
     "data": {
      "text/plain": [
       "bs4.element.ResultSet"
      ]
     },
     "execution_count": 4,
     "metadata": {},
     "output_type": "execute_result"
    }
   ],
   "source": [
    "textsoup_ThomasPaine = soup_ThomasPaine.findAll(text=True)\n",
    "type(textsoup_ThomasPaine) "
   ]
  },
  {
   "cell_type": "markdown",
   "metadata": {
    "deletable": true,
    "editable": true
   },
   "source": [
    "### 1.3) Text Data Cleaning\n",
    "    - clean the text data stripping unwanted spaces\n",
    "    - clean the \\n \\r characters\n",
    "    - remove all texts after \"*** END OF THIS PROJECT\"\n",
    "    - remove all texts before \"*** START OF THIS PROJECT GUTENBERG EBOOK "
   ]
  },
  {
   "cell_type": "code",
   "execution_count": 5,
   "metadata": {
    "collapsed": false,
    "deletable": true,
    "editable": true
   },
   "outputs": [
    {
     "data": {
      "text/plain": [
       "'This eBook is for the use of anyone anywhere at no cost and with\\r\\nalmost no restrictions whatsoever.'"
      ]
     },
     "execution_count": 5,
     "metadata": {},
     "output_type": "execute_result"
    }
   ],
   "source": [
    "text_ThomasPaine = ''.join(textsoup_ThomasPaine).strip()\n",
    "text_ThomasPaine[:100]"
   ]
  },
  {
   "cell_type": "code",
   "execution_count": 6,
   "metadata": {
    "collapsed": false,
    "deletable": true,
    "editable": true
   },
   "outputs": [
    {
     "data": {
      "text/plain": [
       "'This eBook is for the use of anyone anywhere at no cost and with  almost no restrictions whatsoever. You may copy it, give it away or  re-use it under the terms of the Project Gutenberg License included  with this eBook or online at www.gutenberg.net    Title: Common Sense  Author: Thomas Paine  Release Date: June 9, 2008 [EBook #147]  Last updated: August 25, 2016  Language: English  Character set encoding: UTF-8.    Produced by John Campbell. HTML version by Al Haines. Modified by  Robert Homa'"
      ]
     },
     "execution_count": 6,
     "metadata": {},
     "output_type": "execute_result"
    }
   ],
   "source": [
    "import re\n",
    "text_ThomasPaine = re.sub('[\\r\\n\\']',' ',text_ThomasPaine) \n",
    "text_ThomasPaine[:500]"
   ]
  },
  {
   "cell_type": "markdown",
   "metadata": {
    "deletable": true,
    "editable": true
   },
   "source": [
    "#### Remove all words after \"*** END OF THIS PROJECT\""
   ]
  },
  {
   "cell_type": "code",
   "execution_count": 7,
   "metadata": {
    "collapsed": false,
    "deletable": true,
    "editable": true
   },
   "outputs": [],
   "source": [
    "sep1 = '*** END'\n",
    "text_ThomasPaine = text_ThomasPaine.split(sep1, 1)[0]"
   ]
  },
  {
   "cell_type": "markdown",
   "metadata": {
    "deletable": true,
    "editable": true
   },
   "source": [
    "#### Remove all words before \"*** START\""
   ]
  },
  {
   "cell_type": "code",
   "execution_count": 8,
   "metadata": {
    "collapsed": false,
    "deletable": true,
    "editable": true
   },
   "outputs": [],
   "source": [
    "sep2 = '*** START OF THIS PROJECT'\n",
    "text_ThomasPaine = text_ThomasPaine.split(sep2, 1)[1]"
   ]
  },
  {
   "cell_type": "code",
   "execution_count": 53,
   "metadata": {
    "collapsed": false,
    "deletable": true,
    "editable": true
   },
   "outputs": [
    {
     "data": {
      "text/plain": [
       "'GUTENBERG EBOOK COMMON SENSE *** COMMON SENSE; addressed to the INHABITANTS of AMERICA, On the following interesting SUBJECTS Of the Origin and Design of Government in general, with concise Remarks on the English Constitution. Of Monarchy and Hereditary Succession Thoughts on the present State of American Affairs Of the present Ability of America, with some miscellaneous Reflections A new edition, with several additions in the body of the work. To which is added an appendix; together with an add'"
      ]
     },
     "execution_count": 53,
     "metadata": {},
     "output_type": "execute_result"
    }
   ],
   "source": [
    "processedData = ' '.join(text_ThomasPaine.split())\n",
    "processedData[:500]"
   ]
  },
  {
   "cell_type": "markdown",
   "metadata": {
    "collapsed": true,
    "deletable": true,
    "editable": true
   },
   "source": [
    "### 1.4) Count the occurrences of all words in the documents.\n",
    "    * Create a corpus with the words from the document"
   ]
  },
  {
   "cell_type": "code",
   "execution_count": 10,
   "metadata": {
    "collapsed": true,
    "deletable": true,
    "editable": true
   },
   "outputs": [],
   "source": [
    "from sklearn.feature_extraction.text import CountVectorizer"
   ]
  },
  {
   "cell_type": "markdown",
   "metadata": {
    "deletable": true,
    "editable": true
   },
   "source": [
    "### 1.5) Creating wikilit corpus with all words from the documents "
   ]
  },
  {
   "cell_type": "code",
   "execution_count": 12,
   "metadata": {
    "collapsed": false,
    "deletable": true,
    "editable": true
   },
   "outputs": [],
   "source": [
    "##Creating a list from Processes Data\n",
    "\n",
    "gutenberg_Thomas_Corpus = [processedData]"
   ]
  },
  {
   "cell_type": "markdown",
   "metadata": {
    "deletable": true,
    "editable": true
   },
   "source": [
    "### 1.6) Without using stopwords"
   ]
  },
  {
   "cell_type": "code",
   "execution_count": 13,
   "metadata": {
    "collapsed": false,
    "deletable": true,
    "editable": true
   },
   "outputs": [],
   "source": [
    "cvec = CountVectorizer()\n",
    "gutenberg_thomas_cnt = cvec.fit_transform(gutenberg_Thomas_Corpus)"
   ]
  },
  {
   "cell_type": "code",
   "execution_count": 14,
   "metadata": {
    "collapsed": false,
    "deletable": true,
    "editable": true
   },
   "outputs": [
    {
     "name": "stdout",
     "output_type": "stream",
     "text": [
      "(1, 3546)\n"
     ]
    }
   ],
   "source": [
    "# Summarize\n",
    "print(gutenberg_thomas_cnt.shape)"
   ]
  },
  {
   "cell_type": "code",
   "execution_count": 15,
   "metadata": {
    "collapsed": false,
    "deletable": true,
    "editable": true
   },
   "outputs": [
    {
     "name": "stdout",
     "output_type": "stream",
     "text": [
      "[[3 2 2 ... 6 3 2]]\n"
     ]
    }
   ],
   "source": [
    "# Bag of Words matrix\n",
    "print(gutenberg_thomas_cnt.toarray())"
   ]
  },
  {
   "cell_type": "code",
   "execution_count": 16,
   "metadata": {
    "collapsed": false,
    "deletable": true,
    "editable": true
   },
   "outputs": [],
   "source": [
    "#print(cvec.vocabulary_) ## This lists all the words and the corresponding indices. "
   ]
  },
  {
   "cell_type": "code",
   "execution_count": 17,
   "metadata": {
    "collapsed": false,
    "deletable": true,
    "editable": true
   },
   "outputs": [
    {
     "name": "stdout",
     "output_type": "stream",
     "text": [
      "['acts', 'adam', 'adams', 'adapted', 'added', 'additions', 'address', 'addressed', 'addresses', 'adds', 'adherents', 'administration', 'administred', 'admirals', 'admit', 'admits', 'admitted', 'admitting', 'adopted', 'advanced', 'advantage', 'advantages', 'adventurer', 'adversity', 'advertisements', 'advise', 'advises', 'advocate', 'advocates', 'affair', 'affairs', 'affected', 'affection', 'affections', 'affirm', 'affirming', 'affluence', 'afford', 'affords', 'afraid', 'africa', 'after', 'afterward', 'afterwards', 'again', 'against', 'age', 'ages', 'aggravated', 'ago', 'agree', 'agreeable', 'agrees', 'aim', 'alarming', 'alas', 'all', 'alliance', 'allow', 'allowed', 'almanacks', 'almighty', 'almost', 'alone', 'aloud', 'already', 'also', 'alteration', 'altered', 'altering', 'alternative', 'although', 'always', 'am', 'ambiguous', 'ambition', 'amen', 'america', 'american', 'americans', 'among', 'amount', 'amounts', 'amuse', 'amused', 'an', 'ancestors', 'ancient', 'ancients', 'and', 'anello', 'anger', 'animals', 'annual', 'another', 'answer', 'answering', 'answers', 'anti', 'antiquity', 'anxious', 'any', 'anything', 'apart', 'apostate', 'appeal', 'appear', 'appearance', 'appeared', 'appears', 'appendix', 'appetite', 'applaud', 'applied', 'apply', 'appoint', 'appointed', 'appointment', 'approaches', 'appropriate', 'approve', 'approved', 'approvers', 'april', 'apt', 'arbitrary', 'are', 'area', 'argued', 'argument', 'arguments', 'arise', 'arisen', 'arises', 'arising', 'aristocratical', 'armed', 'armies', 'arms', 'army', 'arranged', 'arrive', 'arrived', 'arriving', 'art', 'artful', 'article', 'articles', 'as', 'ashes', 'asia', 'aside', 'ask', 'asked', 'asking', 'ass', 'assemble', 'assembled', 'assemblies', 'assembly', 'assert', 'asserted', 'assertion', 'asses', 'assign', 'assigned', 'assistance', 'associate', 'associators', 'assuming', 'assured', 'assuring', 'astonishing', 'asylum', 'at', 'attached', 'attachment', 'attack', 'attacked', 'attempt', 'attend', 'attendant', 'attended', 'attending', 'attends', 'attention', 'attributing', 'audacious', 'augment', 'author', 'authoritatively', 'authority', 'authors', 'avail', 'avarice', 'avoid', 'avoided', 'awaken', 'away', 'awed']\n"
     ]
    }
   ],
   "source": [
    "print(cvec.get_feature_names()[100:300])## This lists the list of words aka bag of words in alphabetical order."
   ]
  },
  {
   "cell_type": "code",
   "execution_count": 18,
   "metadata": {
    "collapsed": false,
    "deletable": true,
    "editable": true
   },
   "outputs": [
    {
     "data": {
      "text/html": [
       "<div>\n",
       "<style scoped>\n",
       "    .dataframe tbody tr th:only-of-type {\n",
       "        vertical-align: middle;\n",
       "    }\n",
       "\n",
       "    .dataframe tbody tr th {\n",
       "        vertical-align: top;\n",
       "    }\n",
       "\n",
       "    .dataframe thead th {\n",
       "        text-align: right;\n",
       "    }\n",
       "</style>\n",
       "<table border=\"1\" class=\"dataframe\">\n",
       "  <thead>\n",
       "    <tr style=\"text-align: right;\">\n",
       "      <th></th>\n",
       "      <th>000</th>\n",
       "      <th>10</th>\n",
       "      <th>100</th>\n",
       "      <th>110</th>\n",
       "      <th>12</th>\n",
       "      <th>130</th>\n",
       "      <th>14</th>\n",
       "      <th>1422</th>\n",
       "      <th>1489</th>\n",
       "      <th>17</th>\n",
       "      <th>...</th>\n",
       "      <th>yet</th>\n",
       "      <th>york</th>\n",
       "      <th>you</th>\n",
       "      <th>young</th>\n",
       "      <th>your</th>\n",
       "      <th>yours</th>\n",
       "      <th>yourself</th>\n",
       "      <th>yourselves</th>\n",
       "      <th>youth</th>\n",
       "      <th>æra</th>\n",
       "    </tr>\n",
       "  </thead>\n",
       "  <tbody>\n",
       "    <tr>\n",
       "      <th>0</th>\n",
       "      <td>3</td>\n",
       "      <td>2</td>\n",
       "      <td>2</td>\n",
       "      <td>1</td>\n",
       "      <td>2</td>\n",
       "      <td>1</td>\n",
       "      <td>4</td>\n",
       "      <td>1</td>\n",
       "      <td>1</td>\n",
       "      <td>2</td>\n",
       "      <td>...</td>\n",
       "      <td>39</td>\n",
       "      <td>3</td>\n",
       "      <td>42</td>\n",
       "      <td>5</td>\n",
       "      <td>51</td>\n",
       "      <td>1</td>\n",
       "      <td>1</td>\n",
       "      <td>6</td>\n",
       "      <td>3</td>\n",
       "      <td>2</td>\n",
       "    </tr>\n",
       "  </tbody>\n",
       "</table>\n",
       "<p>1 rows × 3546 columns</p>\n",
       "</div>"
      ],
      "text/plain": [
       "   000  10  100  110  12  130  14  1422  1489  17 ...   yet  york  you  young  \\\n",
       "0    3   2    2    1   2    1   4     1     1   2 ...    39     3   42      5   \n",
       "\n",
       "   your  yours  yourself  yourselves  youth  æra  \n",
       "0    51      1         1           6      3    2  \n",
       "\n",
       "[1 rows x 3546 columns]"
      ]
     },
     "execution_count": 18,
     "metadata": {},
     "output_type": "execute_result"
    }
   ],
   "source": [
    "## Frequency Dataframe\n",
    "freq_df = pd.DataFrame(gutenberg_thomas_cnt.toarray(), columns=cvec.get_feature_names())\n",
    "freq_df.head()"
   ]
  },
  {
   "cell_type": "code",
   "execution_count": 19,
   "metadata": {
    "collapsed": false,
    "deletable": true,
    "editable": true
   },
   "outputs": [
    {
     "data": {
      "text/html": [
       "<div>\n",
       "<style scoped>\n",
       "    .dataframe tbody tr th:only-of-type {\n",
       "        vertical-align: middle;\n",
       "    }\n",
       "\n",
       "    .dataframe tbody tr th {\n",
       "        vertical-align: top;\n",
       "    }\n",
       "\n",
       "    .dataframe thead th {\n",
       "        text-align: right;\n",
       "    }\n",
       "</style>\n",
       "<table border=\"1\" class=\"dataframe\">\n",
       "  <thead>\n",
       "    <tr style=\"text-align: right;\">\n",
       "      <th></th>\n",
       "      <th>Vocab</th>\n",
       "      <th>Frequency</th>\n",
       "    </tr>\n",
       "  </thead>\n",
       "  <tbody>\n",
       "    <tr>\n",
       "      <th>3151</th>\n",
       "      <td>the</td>\n",
       "      <td>1519</td>\n",
       "    </tr>\n",
       "    <tr>\n",
       "      <th>2147</th>\n",
       "      <td>of</td>\n",
       "      <td>1035</td>\n",
       "    </tr>\n",
       "    <tr>\n",
       "      <th>189</th>\n",
       "      <td>and</td>\n",
       "      <td>803</td>\n",
       "    </tr>\n",
       "    <tr>\n",
       "      <th>3219</th>\n",
       "      <td>to</td>\n",
       "      <td>641</td>\n",
       "    </tr>\n",
       "    <tr>\n",
       "      <th>1611</th>\n",
       "      <td>in</td>\n",
       "      <td>392</td>\n",
       "    </tr>\n",
       "  </tbody>\n",
       "</table>\n",
       "</div>"
      ],
      "text/plain": [
       "     Vocab  Frequency\n",
       "3151   the       1519\n",
       "2147    of       1035\n",
       "189    and        803\n",
       "3219    to        641\n",
       "1611    in        392"
      ]
     },
     "execution_count": 19,
     "metadata": {},
     "output_type": "execute_result"
    }
   ],
   "source": [
    "sumdf = freq_df.sum(axis=0)\n",
    "pd.DataFrame({'Vocab': sumdf.index, 'Frequency': sumdf.values}).sort_values(by='Frequency', ascending=False).head()"
   ]
  },
  {
   "cell_type": "markdown",
   "metadata": {
    "deletable": true,
    "editable": true
   },
   "source": [
    "#### We can see that there are many common occuring words above. We need to filter them out."
   ]
  },
  {
   "cell_type": "markdown",
   "metadata": {
    "deletable": true,
    "editable": true
   },
   "source": [
    "### 1.7) Filter out common words by using stopwords "
   ]
  },
  {
   "cell_type": "code",
   "execution_count": 20,
   "metadata": {
    "collapsed": true,
    "deletable": true,
    "editable": true
   },
   "outputs": [],
   "source": [
    "cvec = CountVectorizer(stop_words='english')\n",
    "gutenberg_thomas_cnt = cvec.fit_transform(gutenberg_Thomas_Corpus)"
   ]
  },
  {
   "cell_type": "code",
   "execution_count": 21,
   "metadata": {
    "collapsed": false,
    "deletable": true,
    "editable": true
   },
   "outputs": [
    {
     "name": "stdout",
     "output_type": "stream",
     "text": [
      "(1, 3308)\n"
     ]
    }
   ],
   "source": [
    "print(gutenberg_thomas_cnt.shape)"
   ]
  },
  {
   "cell_type": "markdown",
   "metadata": {
    "deletable": true,
    "editable": true
   },
   "source": [
    "### 1.8) Bag of words matrix"
   ]
  },
  {
   "cell_type": "code",
   "execution_count": 22,
   "metadata": {
    "collapsed": false,
    "deletable": true,
    "editable": true
   },
   "outputs": [
    {
     "name": "stdout",
     "output_type": "stream",
     "text": [
      "[[3 2 2 ... 5 3 2]]\n"
     ]
    }
   ],
   "source": [
    "print(gutenberg_thomas_cnt.toarray())"
   ]
  },
  {
   "cell_type": "code",
   "execution_count": 23,
   "metadata": {
    "collapsed": false,
    "deletable": true,
    "editable": true
   },
   "outputs": [],
   "source": [
    "#print(cvec.vocabulary_) ## This lists all the words and the corresponding indices. "
   ]
  },
  {
   "cell_type": "code",
   "execution_count": 24,
   "metadata": {
    "collapsed": false,
    "deletable": true,
    "editable": true
   },
   "outputs": [
    {
     "name": "stdout",
     "output_type": "stream",
     "text": [
      "['adams', 'adapted', 'added', 'additions', 'address', 'addressed', 'addresses', 'adds', 'adherents', 'administration', 'administred', 'admirals', 'admit', 'admits', 'admitted', 'admitting', 'adopted', 'advanced', 'advantage', 'advantages', 'adventurer', 'adversity', 'advertisements', 'advise', 'advises', 'advocate', 'advocates', 'affair', 'affairs', 'affected', 'affection', 'affections', 'affirm', 'affirming', 'affluence', 'afford', 'affords', 'afraid', 'africa', 'afterward', 'age', 'ages', 'aggravated', 'ago', 'agree', 'agreeable', 'agrees', 'aim', 'alarming', 'alas', 'alliance', 'allow', 'allowed', 'almanacks', 'almighty', 'aloud', 'alteration', 'altered', 'altering', 'alternative', 'ambiguous', 'ambition', 'amen', 'america', 'american', 'americans', 'amounts', 'amuse', 'amused', 'ancestors', 'ancient', 'ancients', 'anello', 'anger', 'animals', 'annual', 'answer', 'answering', 'answers', 'anti', 'antiquity', 'anxious', 'apart', 'apostate', 'appeal', 'appear', 'appearance', 'appeared', 'appears', 'appendix', 'appetite', 'applaud', 'applied', 'apply', 'appoint', 'appointed', 'appointment', 'approaches', 'appropriate', 'approve', 'approved', 'approvers', 'april', 'apt', 'arbitrary', 'area', 'argued', 'argument', 'arguments', 'arise', 'arisen', 'arises', 'arising', 'aristocratical', 'armed', 'armies', 'arms', 'army', 'arranged', 'arrive', 'arrived', 'arriving', 'art', 'artful', 'article', 'articles', 'ashes', 'asia', 'aside', 'ask', 'asked', 'asking', 'ass', 'assemble', 'assembled', 'assemblies', 'assembly', 'assert', 'asserted', 'assertion', 'asses', 'assign', 'assigned', 'assistance', 'associate', 'associators', 'assuming', 'assured', 'assuring', 'astonishing', 'asylum', 'attached', 'attachment', 'attack', 'attacked', 'attempt', 'attend', 'attendant', 'attended', 'attending', 'attends', 'attention', 'attributing', 'audacious', 'augment', 'author', 'authoritatively', 'authority', 'authors', 'avail', 'avarice', 'avoid', 'avoided', 'awaken', 'away', 'awed', 'awful', 'backs', 'backward', 'backwardness', 'bad', 'badge', 'bakers', 'ballanced', 'ballot', 'banditti', 'bane', 'banished', 'barbarism', 'barbarity', 'barbarous', 'barclay', 'barefaced', 'bargain', 'barrenness', 'barristers', 'base', 'basis', 'bastard', 'battle']\n"
     ]
    }
   ],
   "source": [
    "print(cvec.get_feature_names()[100:300])## This lists the list of words aka bag of words in alphabetical order."
   ]
  },
  {
   "cell_type": "code",
   "execution_count": 25,
   "metadata": {
    "collapsed": false,
    "deletable": true,
    "editable": true
   },
   "outputs": [
    {
     "data": {
      "text/html": [
       "<div>\n",
       "<style scoped>\n",
       "    .dataframe tbody tr th:only-of-type {\n",
       "        vertical-align: middle;\n",
       "    }\n",
       "\n",
       "    .dataframe tbody tr th {\n",
       "        vertical-align: top;\n",
       "    }\n",
       "\n",
       "    .dataframe thead th {\n",
       "        text-align: right;\n",
       "    }\n",
       "</style>\n",
       "<table border=\"1\" class=\"dataframe\">\n",
       "  <thead>\n",
       "    <tr style=\"text-align: right;\">\n",
       "      <th></th>\n",
       "      <th>000</th>\n",
       "      <th>10</th>\n",
       "      <th>100</th>\n",
       "      <th>110</th>\n",
       "      <th>12</th>\n",
       "      <th>130</th>\n",
       "      <th>14</th>\n",
       "      <th>1422</th>\n",
       "      <th>1489</th>\n",
       "      <th>17</th>\n",
       "      <th>...</th>\n",
       "      <th>wrong</th>\n",
       "      <th>yards</th>\n",
       "      <th>ye</th>\n",
       "      <th>year</th>\n",
       "      <th>yearly</th>\n",
       "      <th>years</th>\n",
       "      <th>york</th>\n",
       "      <th>young</th>\n",
       "      <th>youth</th>\n",
       "      <th>æra</th>\n",
       "    </tr>\n",
       "  </thead>\n",
       "  <tbody>\n",
       "    <tr>\n",
       "      <th>0</th>\n",
       "      <td>3</td>\n",
       "      <td>2</td>\n",
       "      <td>2</td>\n",
       "      <td>1</td>\n",
       "      <td>2</td>\n",
       "      <td>1</td>\n",
       "      <td>4</td>\n",
       "      <td>1</td>\n",
       "      <td>1</td>\n",
       "      <td>2</td>\n",
       "      <td>...</td>\n",
       "      <td>1</td>\n",
       "      <td>2</td>\n",
       "      <td>52</td>\n",
       "      <td>7</td>\n",
       "      <td>2</td>\n",
       "      <td>15</td>\n",
       "      <td>3</td>\n",
       "      <td>5</td>\n",
       "      <td>3</td>\n",
       "      <td>2</td>\n",
       "    </tr>\n",
       "  </tbody>\n",
       "</table>\n",
       "<p>1 rows × 3308 columns</p>\n",
       "</div>"
      ],
      "text/plain": [
       "   000  10  100  110  12  130  14  1422  1489  17 ...   wrong  yards  ye  \\\n",
       "0    3   2    2    1   2    1   4     1     1   2 ...       1      2  52   \n",
       "\n",
       "   year  yearly  years  york  young  youth  æra  \n",
       "0     7       2     15     3      5      3    2  \n",
       "\n",
       "[1 rows x 3308 columns]"
      ]
     },
     "execution_count": 25,
     "metadata": {},
     "output_type": "execute_result"
    }
   ],
   "source": [
    "freq_df = pd.DataFrame(gutenberg_thomas_cnt.toarray(), columns=cvec.get_feature_names())\n",
    "freq_df.head()"
   ]
  },
  {
   "cell_type": "markdown",
   "metadata": {
    "deletable": true,
    "editable": true
   },
   "source": [
    "### 1.9) High Frequency Words"
   ]
  },
  {
   "cell_type": "code",
   "execution_count": 26,
   "metadata": {
    "collapsed": false,
    "deletable": true,
    "editable": true
   },
   "outputs": [
    {
     "data": {
      "text/html": [
       "<div>\n",
       "<style scoped>\n",
       "    .dataframe tbody tr th:only-of-type {\n",
       "        vertical-align: middle;\n",
       "    }\n",
       "\n",
       "    .dataframe tbody tr th {\n",
       "        vertical-align: top;\n",
       "    }\n",
       "\n",
       "    .dataframe thead th {\n",
       "        text-align: right;\n",
       "    }\n",
       "</style>\n",
       "<table border=\"1\" class=\"dataframe\">\n",
       "  <thead>\n",
       "    <tr style=\"text-align: right;\">\n",
       "      <th></th>\n",
       "      <th>Vocab</th>\n",
       "      <th>Frequency</th>\n",
       "    </tr>\n",
       "  </thead>\n",
       "  <tbody>\n",
       "    <tr>\n",
       "      <th>1416</th>\n",
       "      <td>hath</td>\n",
       "      <td>87</td>\n",
       "    </tr>\n",
       "    <tr>\n",
       "      <th>1676</th>\n",
       "      <td>king</td>\n",
       "      <td>77</td>\n",
       "    </tr>\n",
       "    <tr>\n",
       "      <th>1353</th>\n",
       "      <td>government</td>\n",
       "      <td>70</td>\n",
       "    </tr>\n",
       "    <tr>\n",
       "      <th>3015</th>\n",
       "      <td>time</td>\n",
       "      <td>67</td>\n",
       "    </tr>\n",
       "    <tr>\n",
       "      <th>1854</th>\n",
       "      <td>men</td>\n",
       "      <td>59</td>\n",
       "    </tr>\n",
       "  </tbody>\n",
       "</table>\n",
       "</div>"
      ],
      "text/plain": [
       "           Vocab  Frequency\n",
       "1416        hath         87\n",
       "1676        king         77\n",
       "1353  government         70\n",
       "3015        time         67\n",
       "1854         men         59"
      ]
     },
     "execution_count": 26,
     "metadata": {},
     "output_type": "execute_result"
    }
   ],
   "source": [
    "sumdf = freq_df.sum(axis=0)\n",
    "pd.DataFrame({'Vocab': sumdf.index, 'Frequency': sumdf.values}).sort_values(by='Frequency', ascending=False).head()"
   ]
  },
  {
   "cell_type": "markdown",
   "metadata": {
    "deletable": true,
    "editable": true
   },
   "source": [
    "#### Low frequency words"
   ]
  },
  {
   "cell_type": "code",
   "execution_count": 27,
   "metadata": {
    "collapsed": false,
    "deletable": true,
    "editable": true
   },
   "outputs": [
    {
     "data": {
      "text/html": [
       "<div>\n",
       "<style scoped>\n",
       "    .dataframe tbody tr th:only-of-type {\n",
       "        vertical-align: middle;\n",
       "    }\n",
       "\n",
       "    .dataframe tbody tr th {\n",
       "        vertical-align: top;\n",
       "    }\n",
       "\n",
       "    .dataframe thead th {\n",
       "        text-align: right;\n",
       "    }\n",
       "</style>\n",
       "<table border=\"1\" class=\"dataframe\">\n",
       "  <thead>\n",
       "    <tr style=\"text-align: right;\">\n",
       "      <th></th>\n",
       "      <th>Vocab</th>\n",
       "      <th>Frequency</th>\n",
       "    </tr>\n",
       "  </thead>\n",
       "  <tbody>\n",
       "    <tr>\n",
       "      <th>2957</th>\n",
       "      <td>tended</td>\n",
       "      <td>1</td>\n",
       "    </tr>\n",
       "    <tr>\n",
       "      <th>1574</th>\n",
       "      <td>inoffensive</td>\n",
       "      <td>1</td>\n",
       "    </tr>\n",
       "    <tr>\n",
       "      <th>1573</th>\n",
       "      <td>innovation</td>\n",
       "      <td>1</td>\n",
       "    </tr>\n",
       "    <tr>\n",
       "      <th>2856</th>\n",
       "      <td>study</td>\n",
       "      <td>1</td>\n",
       "    </tr>\n",
       "    <tr>\n",
       "      <th>1571</th>\n",
       "      <td>inland</td>\n",
       "      <td>1</td>\n",
       "    </tr>\n",
       "  </tbody>\n",
       "</table>\n",
       "</div>"
      ],
      "text/plain": [
       "            Vocab  Frequency\n",
       "2957       tended          1\n",
       "1574  inoffensive          1\n",
       "1573   innovation          1\n",
       "2856        study          1\n",
       "1571       inland          1"
      ]
     },
     "execution_count": 27,
     "metadata": {},
     "output_type": "execute_result"
    }
   ],
   "source": [
    "sumdf = freq_df.sum(axis=0)\n",
    "pd.DataFrame({'Vocab': sumdf.index, 'Frequency': sumdf.values}).sort_values(by='Frequency', ascending=True).head()"
   ]
  },
  {
   "cell_type": "markdown",
   "metadata": {
    "deletable": true,
    "editable": true
   },
   "source": [
    "## Part 2)  \"The Communist Manifesto\" by Friedrich Engels and Karl Marx  "
   ]
  },
  {
   "cell_type": "markdown",
   "metadata": {
    "deletable": true,
    "editable": true
   },
   "source": [
    "### 2.1) Data Preparation & Analysis\n",
    "Get and read the web page http://www.gutenberg.org/cache/epub/147/pg147.txt having the txt file of the book Common Sense by Thomas Paine. Display first 1000 characters to make sure everything is working correctly."
   ]
  },
  {
   "cell_type": "code",
   "execution_count": 28,
   "metadata": {
    "collapsed": false,
    "deletable": true,
    "editable": true
   },
   "outputs": [
    {
     "name": "stdout",
     "output_type": "stream",
     "text": [
      "b'\\xef\\xbb\\xbfThe Project Gutenberg EBook of The Communist Manifesto\\r\\nby Karl Marx and Friedrich Engels\\r\\n\\r\\nThis eBook is for the use of anyone anywhere at no cost and with\\r\\nalmost no restrictions whatsoever.  You may copy it, give it away or\\r\\nre-use it under the terms of the Project Gutenberg License included\\r\\nwith this eBook or online at www.gutenberg.net\\r\\n\\r\\n\\r\\nTitle: The Communist Manifesto\\r\\n\\r\\nAuthor: Karl Marx and Friedrich Engels\\r\\n\\r\\nRelease Date: January 25, 2005 [EBook #61]\\r\\n\\r\\nLanguage: English\\r\\n\\r\\n\\r\\n*** START OF THIS PROJECT GUTENBERG EBOOK THE COMMUNIST MANIFESTO ***\\r\\n\\r\\n\\r\\n\\r\\n\\r\\nTranscribed by Allen Lutins with assistance from Jim Tarzia.\\r\\n\\r\\n\\r\\n\\r\\n\\r\\n\\r\\n\\r\\n\\r\\n\\r\\nMANIFESTO OF THE COMMUNIST PARTY\\r\\n\\r\\n[From the English edition of 1888, edited by Friedrich Engels]\\r\\n\\r\\n\\r\\nA spectre is haunting Europe--the spectre of Communism.\\r\\nAll the Powers of old Europe have entered into a holy alliance to\\r\\nexorcise this spectre: Pope and Czar, Metternich and Guizot,\\r\\nFrench Radicals and German police-spies.\\r\\n\\r\\nWhere is th'\n"
     ]
    }
   ],
   "source": [
    "webpage_KarlMarx = 'http://www.gutenberg.org/cache/epub/61/pg61.txt'\n",
    "webcontent_KarlMarx = urlopen(webpage_KarlMarx).read()\n",
    "\n",
    "print(webcontent_KarlMarx[:1000])"
   ]
  },
  {
   "cell_type": "code",
   "execution_count": 29,
   "metadata": {
    "collapsed": false,
    "deletable": true,
    "editable": true
   },
   "outputs": [],
   "source": [
    "#use Beautiful soup to read the html page contents\n",
    "resp_KarlMarx = requests.get(webpage_KarlMarx)\n",
    "soup_KarlMarx = BeautifulSoup(resp_KarlMarx.content, 'lxml')"
   ]
  },
  {
   "cell_type": "markdown",
   "metadata": {
    "deletable": true,
    "editable": true
   },
   "source": [
    "### 2.2) Select all text data \n",
    "\n",
    "    - Select only text data from the parser - beautiful soup\n",
    "    - Convert this result set to string for our text processing"
   ]
  },
  {
   "cell_type": "code",
   "execution_count": 30,
   "metadata": {
    "collapsed": false,
    "deletable": true,
    "editable": true
   },
   "outputs": [
    {
     "data": {
      "text/plain": [
       "bs4.element.ResultSet"
      ]
     },
     "execution_count": 30,
     "metadata": {},
     "output_type": "execute_result"
    }
   ],
   "source": [
    "textsoup_KarlMarx = soup_KarlMarx.findAll(text=True)\n",
    "type(textsoup_KarlMarx) "
   ]
  },
  {
   "cell_type": "markdown",
   "metadata": {
    "deletable": true,
    "editable": true
   },
   "source": [
    "### 2.3) Text Data Cleaning\n",
    "    - clean the text data stripping unwanted spaces\n",
    "    - clean the \\n \\r characters\n",
    "    - remove all texts after \"*** END OF THIS PROJECT\"\n",
    "    - remove all texts before \"*** START OF THIS PROJECT GUTENBERG EBOOK "
   ]
  },
  {
   "cell_type": "code",
   "execution_count": 31,
   "metadata": {
    "collapsed": false,
    "deletable": true,
    "editable": true
   },
   "outputs": [
    {
     "data": {
      "text/plain": [
       "'The Project Gutenberg EBook of The Communist Manifesto\\r\\nby Karl Marx and Friedrich Engels\\r\\n\\r\\nThis eB'"
      ]
     },
     "execution_count": 31,
     "metadata": {},
     "output_type": "execute_result"
    }
   ],
   "source": [
    "text_KarlMarx = ''.join(textsoup_KarlMarx).strip()\n",
    "text_KarlMarx[:100]"
   ]
  },
  {
   "cell_type": "code",
   "execution_count": 32,
   "metadata": {
    "collapsed": false,
    "deletable": true,
    "editable": true
   },
   "outputs": [
    {
     "data": {
      "text/plain": [
       "'The Project Gutenberg EBook of The Communist Manifesto  by Karl Marx and Friedrich Engels    This eBook is for the use of anyone anywhere at no cost and with  almost no restrictions whatsoever.  You may copy it, give it away or  re-use it under the terms of the Project Gutenberg License included  with this eBook or online at www.gutenberg.net      Title: The Communist Manifesto    Author: Karl Marx and Friedrich Engels    Release Date: January 25, 2005 [EBook #61]    Language: English      *** S'"
      ]
     },
     "execution_count": 32,
     "metadata": {},
     "output_type": "execute_result"
    }
   ],
   "source": [
    "import re\n",
    "text_KarlMarx = re.sub('[\\r\\n\\']',' ',text_KarlMarx) \n",
    "text_KarlMarx[:500]"
   ]
  },
  {
   "cell_type": "markdown",
   "metadata": {
    "deletable": true,
    "editable": true
   },
   "source": [
    "#### Remove all words after \"*** END OF THIS PROJECT\""
   ]
  },
  {
   "cell_type": "code",
   "execution_count": 33,
   "metadata": {
    "collapsed": false,
    "deletable": true,
    "editable": true
   },
   "outputs": [],
   "source": [
    "sep1 = '*** END'\n",
    "text_KarlMarx = text_KarlMarx.split(sep1, 1)[0]"
   ]
  },
  {
   "cell_type": "markdown",
   "metadata": {
    "deletable": true,
    "editable": true
   },
   "source": [
    "#### Remove all words before \"*** START\""
   ]
  },
  {
   "cell_type": "code",
   "execution_count": 34,
   "metadata": {
    "collapsed": false,
    "deletable": true,
    "editable": true
   },
   "outputs": [],
   "source": [
    "sep2 = '*** START OF THIS PROJECT'\n",
    "text_KarlMarx = text_KarlMarx.split(sep2, 1)[1]"
   ]
  },
  {
   "cell_type": "code",
   "execution_count": 54,
   "metadata": {
    "collapsed": false,
    "deletable": true,
    "editable": true
   },
   "outputs": [
    {
     "data": {
      "text/plain": [
       "'GUTENBERG EBOOK THE COMMUNIST MANIFESTO *** Transcribed by Allen Lutins with assistance from Jim Tarzia. MANIFESTO OF THE COMMUNIST PARTY [From the English edition of 1888, edited by Friedrich Engels] A spectre is haunting Europe--the spectre of Communism. All the Powers of old Europe have entered into a holy alliance to exorcise this spectre: Pope and Czar, Metternich and Guizot, French Radicals and German police-spies. Where is the party in opposition that has not been decried as Communistic b'"
      ]
     },
     "execution_count": 54,
     "metadata": {},
     "output_type": "execute_result"
    }
   ],
   "source": [
    "processedData_KarlMarx = ' '.join(text_KarlMarx.split())\n",
    "processedData_KarlMarx[:500]"
   ]
  },
  {
   "cell_type": "markdown",
   "metadata": {
    "collapsed": true,
    "deletable": true,
    "editable": true
   },
   "source": [
    "### 2.4) Count the occurrences of all words in the documents.\n",
    "    * Create a corpus with the words from the document"
   ]
  },
  {
   "cell_type": "code",
   "execution_count": 36,
   "metadata": {
    "collapsed": true,
    "deletable": true,
    "editable": true
   },
   "outputs": [],
   "source": [
    "from sklearn.feature_extraction.text import CountVectorizer"
   ]
  },
  {
   "cell_type": "markdown",
   "metadata": {
    "deletable": true,
    "editable": true
   },
   "source": [
    "### 2.5) Creating wikilit corpus with all words from the documents "
   ]
  },
  {
   "cell_type": "code",
   "execution_count": 38,
   "metadata": {
    "collapsed": false,
    "deletable": true,
    "editable": true
   },
   "outputs": [],
   "source": [
    "##Creating a list from Processes Data\n",
    "\n",
    "gutenberg_KarlMarx_Corpus = [processedData_KarlMarx]"
   ]
  },
  {
   "cell_type": "markdown",
   "metadata": {
    "deletable": true,
    "editable": true
   },
   "source": [
    "### 2.6) Filter out common words by using stopwords "
   ]
  },
  {
   "cell_type": "code",
   "execution_count": 39,
   "metadata": {
    "collapsed": true,
    "deletable": true,
    "editable": true
   },
   "outputs": [],
   "source": [
    "cvec = CountVectorizer(stop_words='english')\n",
    "gutenberg_karlmarx_cnt = cvec.fit_transform(gutenberg_KarlMarx_Corpus)"
   ]
  },
  {
   "cell_type": "code",
   "execution_count": 40,
   "metadata": {
    "collapsed": false,
    "deletable": true,
    "editable": true
   },
   "outputs": [
    {
     "name": "stdout",
     "output_type": "stream",
     "text": [
      "(1, 2021)\n"
     ]
    }
   ],
   "source": [
    "print(gutenberg_karlmarx_cnt.shape)"
   ]
  },
  {
   "cell_type": "markdown",
   "metadata": {
    "deletable": true,
    "editable": true
   },
   "source": [
    "### 2.7) Bag of words matrix"
   ]
  },
  {
   "cell_type": "code",
   "execution_count": 41,
   "metadata": {
    "collapsed": false,
    "deletable": true,
    "editable": true
   },
   "outputs": [
    {
     "name": "stdout",
     "output_type": "stream",
     "text": [
      "[[1 1 1 ... 1 1 1]]\n"
     ]
    }
   ],
   "source": [
    "print(gutenberg_karlmarx_cnt.toarray())"
   ]
  },
  {
   "cell_type": "code",
   "execution_count": 42,
   "metadata": {
    "collapsed": false,
    "deletable": true,
    "editable": true
   },
   "outputs": [],
   "source": [
    "#print(cvec.vocabulary_) ## This lists all the words and the corresponding indices. "
   ]
  },
  {
   "cell_type": "code",
   "execution_count": 43,
   "metadata": {
    "collapsed": false,
    "deletable": true,
    "editable": true
   },
   "outputs": [
    {
     "name": "stdout",
     "output_type": "stream",
     "text": [
      "['appropriated', 'appropriates', 'appropriating', 'appropriation', 'aqueducts', 'arena', 'arises', 'aristocracies', 'aristocracy', 'aristocrat', 'armed', 'armies', 'arms', 'army', 'arose', 'arouse', 'arrangement', 'article', 'articles', 'artillery', 'artisan', 'asceticism', 'ask', 'aspect', 'aspires', 'assembled', 'assistance', 'association', 'associations', 'assumed', 'assumes', 'assure', 'assured', 'asunder', 'atmosphere', 'attack', 'attacks', 'attain', 'attained', 'attainment', 'attains', 'attempts', 'attention', 'augmentation', 'average', 'away', 'awe', 'babeuf', 'background', 'bag', 'bailiffs', 'bank', 'banner', 'barbarian', 'barbarians', 'barbarism', 'bare', 'barter', 'based', 'basis', 'batters', 'battle', 'battles', 'bears', 'beaux', 'beetroot', 'begetting', 'begin', 'beginning', 'begins', 'begun', 'belief', 'belong', 'belongs', 'beneath', 'benefit', 'best', 'birds', 'birth', 'bit', 'bitter', 'blind', 'blues', 'bodies', 'bombastic', 'bonds', 'bone', 'bound', 'bounds', 'bourgeois', 'bourgeoisie', 'branch', 'branding', 'brave', 'breaks', 'bribed', 'bring', 'bringing', 'broken', 'brutal', 'brutally', 'built', 'bullets', 'burden', 'burgesses', 'burghers', 'burnings', 'burst', 'buying', 'calculation', 'called', 'calling', 'callous', 'calls', 'came', 'camps', 'canalisation', 'capable', 'cape', 'capital', 'capitalist', 'capitalists', 'capitulate', 'care', 'caring', 'carried', 'carry', 'carrying', 'case', 'cash', 'cast', 'castles', 'catastrophe', 'category', 'cathedrals', 'catholic', 'cause', 'causes', 'cease', 'ceased', 'celibacy', 'centralisation', 'centralise', 'centuries', 'century', 'certain', 'chagrin', 'chains', 'chance', 'change', 'changed', 'changes', 'character', 'charge', 'charges', 'charity', 'charm', 'chartered', 'chartists', 'chases', 'cheap', 'chemistry', 'chief', 'chiefly', 'child', 'children', 'chinese', 'chivalrous', 'chorus', 'christian', 'christianity', 'church', 'circulate', 'circumstances', 'cite', 'cities', 'civil', 'civilisation', 'civilised', 'clap', 'class', 'classes', 'classical', 'clear', 'clearest', 'clearing', 'clearly', 'clerical', 'climes', 'closed', 'club', 'coats', 'cobwebs', 'code', 'coercive', 'collective', 'collisions', 'colonies', 'colonisation', 'colossal']\n"
     ]
    }
   ],
   "source": [
    "print(cvec.get_feature_names()[100:300])## This lists the list of words aka bag of words in alphabetical order."
   ]
  },
  {
   "cell_type": "code",
   "execution_count": 44,
   "metadata": {
    "collapsed": false,
    "deletable": true,
    "editable": true
   },
   "outputs": [
    {
     "data": {
      "text/html": [
       "<div>\n",
       "<style scoped>\n",
       "    .dataframe tbody tr th:only-of-type {\n",
       "        vertical-align: middle;\n",
       "    }\n",
       "\n",
       "    .dataframe tbody tr th {\n",
       "        vertical-align: top;\n",
       "    }\n",
       "\n",
       "    .dataframe thead th {\n",
       "        text-align: right;\n",
       "    }\n",
       "</style>\n",
       "<table border=\"1\" class=\"dataframe\">\n",
       "  <thead>\n",
       "    <tr style=\"text-align: right;\">\n",
       "      <th></th>\n",
       "      <th>10</th>\n",
       "      <th>1830</th>\n",
       "      <th>1846</th>\n",
       "      <th>1847</th>\n",
       "      <th>1888</th>\n",
       "      <th>18th</th>\n",
       "      <th>ablaze</th>\n",
       "      <th>able</th>\n",
       "      <th>abolish</th>\n",
       "      <th>abolished</th>\n",
       "      <th>...</th>\n",
       "      <th>writers</th>\n",
       "      <th>writings</th>\n",
       "      <th>written</th>\n",
       "      <th>wrote</th>\n",
       "      <th>yearnings</th>\n",
       "      <th>years</th>\n",
       "      <th>yield</th>\n",
       "      <th>yoke</th>\n",
       "      <th>young</th>\n",
       "      <th>zones</th>\n",
       "    </tr>\n",
       "  </thead>\n",
       "  <tbody>\n",
       "    <tr>\n",
       "      <th>0</th>\n",
       "      <td>1</td>\n",
       "      <td>1</td>\n",
       "      <td>1</td>\n",
       "      <td>1</td>\n",
       "      <td>1</td>\n",
       "      <td>1</td>\n",
       "      <td>1</td>\n",
       "      <td>2</td>\n",
       "      <td>3</td>\n",
       "      <td>2</td>\n",
       "      <td>...</td>\n",
       "      <td>1</td>\n",
       "      <td>2</td>\n",
       "      <td>1</td>\n",
       "      <td>4</td>\n",
       "      <td>1</td>\n",
       "      <td>2</td>\n",
       "      <td>1</td>\n",
       "      <td>1</td>\n",
       "      <td>1</td>\n",
       "      <td>1</td>\n",
       "    </tr>\n",
       "  </tbody>\n",
       "</table>\n",
       "<p>1 rows × 2021 columns</p>\n",
       "</div>"
      ],
      "text/plain": [
       "   10  1830  1846  1847  1888  18th  ablaze  able  abolish  abolished  ...    \\\n",
       "0   1     1     1     1     1     1       1     2        3          2  ...     \n",
       "\n",
       "   writers  writings  written  wrote  yearnings  years  yield  yoke  young  \\\n",
       "0        1         2        1      4          1      2      1     1      1   \n",
       "\n",
       "   zones  \n",
       "0      1  \n",
       "\n",
       "[1 rows x 2021 columns]"
      ]
     },
     "execution_count": 44,
     "metadata": {},
     "output_type": "execute_result"
    }
   ],
   "source": [
    "termFreq = pd.DataFrame(gutenberg_karlmarx_cnt.toarray(), columns=cvec.get_feature_names())\n",
    "termFreq.head()"
   ]
  },
  {
   "cell_type": "code",
   "execution_count": 45,
   "metadata": {
    "collapsed": true,
    "deletable": true,
    "editable": true
   },
   "outputs": [],
   "source": [
    "termFreq.to_csv('wordFreqKarlmarx.csv', index=False, header=True)"
   ]
  },
  {
   "cell_type": "markdown",
   "metadata": {
    "deletable": true,
    "editable": true
   },
   "source": [
    "### 2.8) High Frequency Words"
   ]
  },
  {
   "cell_type": "code",
   "execution_count": 46,
   "metadata": {
    "collapsed": false,
    "deletable": true,
    "editable": true
   },
   "outputs": [
    {
     "data": {
      "text/html": [
       "<div>\n",
       "<style scoped>\n",
       "    .dataframe tbody tr th:only-of-type {\n",
       "        vertical-align: middle;\n",
       "    }\n",
       "\n",
       "    .dataframe tbody tr th {\n",
       "        vertical-align: top;\n",
       "    }\n",
       "\n",
       "    .dataframe thead th {\n",
       "        text-align: right;\n",
       "    }\n",
       "</style>\n",
       "<table border=\"1\" class=\"dataframe\">\n",
       "  <thead>\n",
       "    <tr style=\"text-align: right;\">\n",
       "      <th></th>\n",
       "      <th>Vocab</th>\n",
       "      <th>Frequency</th>\n",
       "    </tr>\n",
       "  </thead>\n",
       "  <tbody>\n",
       "    <tr>\n",
       "      <th>280</th>\n",
       "      <td>class</td>\n",
       "      <td>102</td>\n",
       "    </tr>\n",
       "    <tr>\n",
       "      <th>189</th>\n",
       "      <td>bourgeois</td>\n",
       "      <td>100</td>\n",
       "    </tr>\n",
       "    <tr>\n",
       "      <th>190</th>\n",
       "      <td>bourgeoisie</td>\n",
       "      <td>91</td>\n",
       "    </tr>\n",
       "    <tr>\n",
       "      <th>1710</th>\n",
       "      <td>society</td>\n",
       "      <td>70</td>\n",
       "    </tr>\n",
       "    <tr>\n",
       "      <th>1424</th>\n",
       "      <td>proletariat</td>\n",
       "      <td>63</td>\n",
       "    </tr>\n",
       "  </tbody>\n",
       "</table>\n",
       "</div>"
      ],
      "text/plain": [
       "            Vocab  Frequency\n",
       "280         class        102\n",
       "189     bourgeois        100\n",
       "190   bourgeoisie         91\n",
       "1710      society         70\n",
       "1424  proletariat         63"
      ]
     },
     "execution_count": 46,
     "metadata": {},
     "output_type": "execute_result"
    }
   ],
   "source": [
    "sumdf = termFreq.sum(axis=0)\n",
    "pd.DataFrame({'Vocab': sumdf.index, 'Frequency': sumdf.values}).sort_values(by='Frequency', ascending=False).head()"
   ]
  },
  {
   "cell_type": "markdown",
   "metadata": {
    "deletable": true,
    "editable": true
   },
   "source": [
    "### 2.9) From occurrences to frequencies - TF IDF\n",
    "Term frequency-inverse document frequency- this weight is a statistical measure used to evaluate how important a word is to a document in a collection or corpus. The importance increases proportionally to the number of times a word appears in the document but is offset by the frequency of the word in the corpus. Variations of the tf-idf weighting scheme are often used by search engines as a central tool in scoring and ranking a document's relevance given a user query."
   ]
  },
  {
   "cell_type": "code",
   "execution_count": 1,
   "metadata": {
    "collapsed": true,
    "deletable": true,
    "editable": true
   },
   "outputs": [],
   "source": [
    "from sklearn.feature_extraction.text import TfidfTransformer"
   ]
  },
  {
   "cell_type": "code",
   "execution_count": 48,
   "metadata": {
    "collapsed": false,
    "deletable": true,
    "editable": true
   },
   "outputs": [
    {
     "data": {
      "text/plain": [
       "(1, 2021)"
      ]
     },
     "execution_count": 48,
     "metadata": {},
     "output_type": "execute_result"
    }
   ],
   "source": [
    "tfidf = TfidfTransformer()\n",
    "karlmarx_freq = tfidf.fit_transform(gutenberg_karlmarx_cnt)\n",
    "karlmarx_freq.shape"
   ]
  },
  {
   "cell_type": "code",
   "execution_count": 49,
   "metadata": {
    "collapsed": false,
    "deletable": true,
    "editable": true
   },
   "outputs": [
    {
     "name": "stdout",
     "output_type": "stream",
     "text": [
      "[[0.00348065 0.00348065 0.00348065 ... 0.00348065 0.00348065 0.00348065]]\n"
     ]
    }
   ],
   "source": [
    "print(karlmarx_freq.toarray())"
   ]
  },
  {
   "cell_type": "code",
   "execution_count": 50,
   "metadata": {
    "collapsed": false,
    "deletable": true,
    "editable": true
   },
   "outputs": [
    {
     "data": {
      "text/html": [
       "<div>\n",
       "<style scoped>\n",
       "    .dataframe tbody tr th:only-of-type {\n",
       "        vertical-align: middle;\n",
       "    }\n",
       "\n",
       "    .dataframe tbody tr th {\n",
       "        vertical-align: top;\n",
       "    }\n",
       "\n",
       "    .dataframe thead th {\n",
       "        text-align: right;\n",
       "    }\n",
       "</style>\n",
       "<table border=\"1\" class=\"dataframe\">\n",
       "  <thead>\n",
       "    <tr style=\"text-align: right;\">\n",
       "      <th></th>\n",
       "      <th>10</th>\n",
       "      <th>1830</th>\n",
       "      <th>1846</th>\n",
       "      <th>1847</th>\n",
       "      <th>1888</th>\n",
       "      <th>18th</th>\n",
       "      <th>ablaze</th>\n",
       "      <th>able</th>\n",
       "      <th>abolish</th>\n",
       "      <th>abolished</th>\n",
       "      <th>...</th>\n",
       "      <th>writers</th>\n",
       "      <th>writings</th>\n",
       "      <th>written</th>\n",
       "      <th>wrote</th>\n",
       "      <th>yearnings</th>\n",
       "      <th>years</th>\n",
       "      <th>yield</th>\n",
       "      <th>yoke</th>\n",
       "      <th>young</th>\n",
       "      <th>zones</th>\n",
       "    </tr>\n",
       "  </thead>\n",
       "  <tbody>\n",
       "    <tr>\n",
       "      <th>0</th>\n",
       "      <td>0.003481</td>\n",
       "      <td>0.003481</td>\n",
       "      <td>0.003481</td>\n",
       "      <td>0.003481</td>\n",
       "      <td>0.003481</td>\n",
       "      <td>0.003481</td>\n",
       "      <td>0.003481</td>\n",
       "      <td>0.006961</td>\n",
       "      <td>0.010442</td>\n",
       "      <td>0.006961</td>\n",
       "      <td>...</td>\n",
       "      <td>0.003481</td>\n",
       "      <td>0.006961</td>\n",
       "      <td>0.003481</td>\n",
       "      <td>0.013923</td>\n",
       "      <td>0.003481</td>\n",
       "      <td>0.006961</td>\n",
       "      <td>0.003481</td>\n",
       "      <td>0.003481</td>\n",
       "      <td>0.003481</td>\n",
       "      <td>0.003481</td>\n",
       "    </tr>\n",
       "  </tbody>\n",
       "</table>\n",
       "<p>1 rows × 2021 columns</p>\n",
       "</div>"
      ],
      "text/plain": [
       "         10      1830      1846      1847      1888      18th    ablaze  \\\n",
       "0  0.003481  0.003481  0.003481  0.003481  0.003481  0.003481  0.003481   \n",
       "\n",
       "       able   abolish  abolished    ...      writers  writings   written  \\\n",
       "0  0.006961  0.010442   0.006961    ...     0.003481  0.006961  0.003481   \n",
       "\n",
       "      wrote  yearnings     years     yield      yoke     young     zones  \n",
       "0  0.013923   0.003481  0.006961  0.003481  0.003481  0.003481  0.003481  \n",
       "\n",
       "[1 rows x 2021 columns]"
      ]
     },
     "execution_count": 50,
     "metadata": {},
     "output_type": "execute_result"
    }
   ],
   "source": [
    "TFtermFreq = pd.DataFrame(karlmarx_freq.toarray(), columns=cvec.get_feature_names())\n",
    "TFtermFreq.head()"
   ]
  },
  {
   "cell_type": "code",
   "execution_count": 51,
   "metadata": {
    "collapsed": true,
    "deletable": true,
    "editable": true
   },
   "outputs": [],
   "source": [
    "TFtermFreq.to_csv('tfidfFreqKarlmarx.csv', index=False, header=True)"
   ]
  },
  {
   "cell_type": "code",
   "execution_count": 52,
   "metadata": {
    "collapsed": false,
    "deletable": true,
    "editable": true
   },
   "outputs": [
    {
     "data": {
      "text/html": [
       "<div>\n",
       "<style scoped>\n",
       "    .dataframe tbody tr th:only-of-type {\n",
       "        vertical-align: middle;\n",
       "    }\n",
       "\n",
       "    .dataframe tbody tr th {\n",
       "        vertical-align: top;\n",
       "    }\n",
       "\n",
       "    .dataframe thead th {\n",
       "        text-align: right;\n",
       "    }\n",
       "</style>\n",
       "<table border=\"1\" class=\"dataframe\">\n",
       "  <thead>\n",
       "    <tr style=\"text-align: right;\">\n",
       "      <th></th>\n",
       "      <th>0</th>\n",
       "    </tr>\n",
       "  </thead>\n",
       "  <tbody>\n",
       "    <tr>\n",
       "      <th>class</th>\n",
       "      <td>0.355026</td>\n",
       "    </tr>\n",
       "    <tr>\n",
       "      <th>bourgeois</th>\n",
       "      <td>0.348065</td>\n",
       "    </tr>\n",
       "    <tr>\n",
       "      <th>bourgeoisie</th>\n",
       "      <td>0.316739</td>\n",
       "    </tr>\n",
       "    <tr>\n",
       "      <th>society</th>\n",
       "      <td>0.243645</td>\n",
       "    </tr>\n",
       "    <tr>\n",
       "      <th>proletariat</th>\n",
       "      <td>0.219281</td>\n",
       "    </tr>\n",
       "  </tbody>\n",
       "</table>\n",
       "</div>"
      ],
      "text/plain": [
       "                    0\n",
       "class        0.355026\n",
       "bourgeois    0.348065\n",
       "bourgeoisie  0.316739\n",
       "society      0.243645\n",
       "proletariat  0.219281"
      ]
     },
     "execution_count": 52,
     "metadata": {},
     "output_type": "execute_result"
    }
   ],
   "source": [
    "TFtermFreq.T.sort_values(by=[0], ascending=False).head()"
   ]
  }
 ],
 "metadata": {
  "kernelspec": {
   "display_name": "Python 3",
   "language": "python",
   "name": "python3"
  },
  "language_info": {
   "codemirror_mode": {
    "name": "ipython",
    "version": 3
   },
   "file_extension": ".py",
   "mimetype": "text/x-python",
   "name": "python",
   "nbconvert_exporter": "python",
   "pygments_lexer": "ipython3",
   "version": "3.6.2"
  }
 },
 "nbformat": 4,
 "nbformat_minor": 2
}
